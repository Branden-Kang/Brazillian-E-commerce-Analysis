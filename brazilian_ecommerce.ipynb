{
 "cells": [
  {
   "cell_type": "markdown",
   "metadata": {
    "colab_type": "text",
    "id": "eF1TfNzvki_0"
   },
   "source": [
    "### Running Pyspark in Colab\n",
    "To run spark in Colab, we need to first install all the dependencies in Colab environment i.e. Apache Spark 2.4.4 with hadoop 2.7, Java 8 and Findspark to locate the spark in the system. The tools installation can be carried out inside the Jupyter Notebook of the Colab. One important note is that if you are new in Spark, it is better to avoid Spark 2.4.0 version since some people have already complained about its compatibility issue with python.  Follow the steps to install the dependencies:"
   ]
  },
  {
   "cell_type": "code",
   "execution_count": 0,
   "metadata": {
    "colab": {},
    "colab_type": "code",
    "id": "KA64g21ngVU0"
   },
   "outputs": [],
   "source": [
    "!apt-get install openjdk-8-jdk-headless -qq > /dev/null\n",
    "!wget -q http://www-eu.apache.org/dist/spark/spark-2.4.4/spark-2.4.4-bin-hadoop2.7.tgz\n",
    "!tar xf spark-2.4.4-bin-hadoop2.7.tgz\n",
    "!pip install -q findspark"
   ]
  },
  {
   "cell_type": "code",
   "execution_count": 0,
   "metadata": {
    "colab": {},
    "colab_type": "code",
    "id": "MUoiBimrh71Q"
   },
   "outputs": [],
   "source": [
    "import os\n",
    "os.environ[\"JAVA_HOME\"] = \"/usr/lib/jvm/java-8-openjdk-amd64\"\n",
    "os.environ[\"SPARK_HOME\"] = \"/content/spark-2.4.4-bin-hadoop2.7\""
   ]
  },
  {
   "cell_type": "code",
   "execution_count": 0,
   "metadata": {
    "colab": {},
    "colab_type": "code",
    "id": "M-hHMg-ciCYH"
   },
   "outputs": [],
   "source": [
    "import findspark\n",
    "findspark.init(\"spark-2.4.4-bin-hadoop2.7\") # SPARK_HOME\n",
    "from pyspark.sql import SparkSession\n",
    "spark = SparkSession.builder.master(\"local[*]\").getOrCreate()"
   ]
  },
  {
   "cell_type": "markdown",
   "metadata": {
    "colab_type": "text",
    "id": "uChbxN67mNuM"
   },
   "source": [
    "Check if Pyspark works well below:"
   ]
  },
  {
   "cell_type": "code",
   "execution_count": 4,
   "metadata": {
    "colab": {
     "base_uri": "https://localhost:8080/",
     "height": 204
    },
    "colab_type": "code",
    "id": "NE0pAA30iT8a",
    "outputId": "32b606c7-3531-47ef-c235-baa81bcfb8ac"
   },
   "outputs": [
    {
     "name": "stderr",
     "output_type": "stream",
     "text": [
      "spark-2.4.4-bin-hadoop2.7/python/pyspark/sql/session.py:346: UserWarning: inferring schema from dict is deprecated,please use pyspark.sql.Row instead\n",
      "  warnings.warn(\"inferring schema from dict is deprecated,\"\n"
     ]
    },
    {
     "name": "stdout",
     "output_type": "stream",
     "text": [
      "+-----+\n",
      "|hello|\n",
      "+-----+\n",
      "|world|\n",
      "|world|\n",
      "|world|\n",
      "+-----+\n",
      "only showing top 3 rows\n",
      "\n"
     ]
    }
   ],
   "source": [
    "df = spark.createDataFrame([{\"hello\": \"world\"} for x in range(1000)])\n",
    "df.show(3)"
   ]
  },
  {
   "cell_type": "code",
   "execution_count": 0,
   "metadata": {
    "colab": {},
    "colab_type": "code",
    "id": "riqvv04XjCJu"
   },
   "outputs": [],
   "source": [
    "# from google.colab import files\n",
    "# files.upload()"
   ]
  },
  {
   "cell_type": "code",
   "execution_count": 6,
   "metadata": {
    "colab": {
     "base_uri": "https://localhost:8080/",
     "height": 34
    },
    "colab_type": "code",
    "id": "QlW9tx15jt_k",
    "outputId": "e1e4d059-a401-49bc-bbfa-a7802c45d4d9"
   },
   "outputs": [
    {
     "name": "stdout",
     "output_type": "stream",
     "text": [
      "sample_data  spark-2.4.4-bin-hadoop2.7\tspark-2.4.4-bin-hadoop2.7.tgz\n"
     ]
    }
   ],
   "source": [
    "!ls "
   ]
  },
  {
   "cell_type": "code",
   "execution_count": 0,
   "metadata": {
    "colab": {},
    "colab_type": "code",
    "id": "iJMPBMqK52rw"
   },
   "outputs": [],
   "source": [
    "#!rm  -rf </content/Final.csv>"
   ]
  },
  {
   "cell_type": "code",
   "execution_count": 0,
   "metadata": {
    "colab": {},
    "colab_type": "code",
    "id": "IlmFGK1u8PQO"
   },
   "outputs": [],
   "source": [
    "# Import Packages\n",
    "import pandas as pd\n",
    "import seaborn as sb"
   ]
  },
  {
   "cell_type": "code",
   "execution_count": 0,
   "metadata": {
    "colab": {},
    "colab_type": "code",
    "id": "OLQac3wvsh2C"
   },
   "outputs": [],
   "source": [
    "# customers_path = './olist_customers_dataset.csv'\n",
    "# orders_path = './olist_orders_dataset.csv'\n",
    "# geolocation_path = './olist_geolocation_dataset.csv'\n",
    "# product_path = './olist_products_dataset.csv'\n",
    "# order_items_path = './olist_order_items_dataset.csv'\n",
    "# sellers_path = './olist_sellers_dataset.csv'\n",
    "# order_payments_path = './olist_order_payments_dataset.csv'\n",
    "# category_name_translation_path = './product_category_name_translation.csv'\n",
    "# order_reviews_path = './olist_order_reviews_dataset.csv'"
   ]
  },
  {
   "cell_type": "markdown",
   "metadata": {
    "colab_type": "text",
    "id": "L3Gx6KctuTXw"
   },
   "source": [
    "## In this task, we read our multiple datasets."
   ]
  },
  {
   "cell_type": "code",
   "execution_count": 13,
   "metadata": {
    "colab": {
     "base_uri": "https://localhost:8080/",
     "height": 479
    },
    "colab_type": "code",
    "id": "uzUUgOBvnSkg",
    "outputId": "9077b153-4bb5-4bf8-8aba-1df2e2dc895e"
   },
   "outputs": [
    {
     "name": "stdout",
     "output_type": "stream",
     "text": [
      "+--------------------+--------------------+------------+------------------------+-----------------+----------------------------+-----------------------------+-----------------------------+\n",
      "|            order_id|         customer_id|order_status|order_purchase_timestamp|order_approved_at|order_delivered_carrier_date|order_delivered_customer_date|order_estimated_delivery_date|\n",
      "+--------------------+--------------------+------------+------------------------+-----------------+----------------------------+-----------------------------+-----------------------------+\n",
      "|00010242fe8c5a6d1...|3ce436f183e68e078...|   delivered|          9/13/2017 8:59|   9/13/2017 9:45|             9/19/2017 18:34|              9/20/2017 23:43|               9/29/2017 0:00|\n",
      "|00018f77f2f0320c5...|f6dd3ec061db4e398...|   delivered|         4/26/2017 10:53|  4/26/2017 11:05|              5/4/2017 14:35|              5/12/2017 16:04|               5/15/2017 0:00|\n",
      "|000229ec398224ef6...|6489ae5e4333f3693...|   delivered|         1/14/2018 14:33|  1/14/2018 14:48|             1/16/2018 12:36|              1/22/2018 13:19|                2/5/2018 0:00|\n",
      "|00024acbcdf0a6daa...|d4eb9395c8c0431ee...|   delivered|          8/8/2018 10:00|   8/8/2018 10:10|             8/10/2018 13:28|              8/14/2018 13:32|               8/20/2018 0:00|\n",
      "|00042b26cf59d7ce6...|58dbd0b2d70206bf4...|   delivered|          2/4/2017 13:57|   2/4/2017 14:10|              2/16/2017 9:46|               3/1/2017 16:42|               3/17/2017 0:00|\n",
      "|00048cc3ae777c65d...|816cbea969fe5b689...|   delivered|         5/15/2017 21:42|   5/17/2017 3:55|             5/17/2017 11:05|              5/22/2017 13:44|                6/6/2017 0:00|\n",
      "|00054e8431b9d7675...|32e2e6ab09e778d99...|   delivered|        12/10/2017 11:53| 12/10/2017 12:10|             12/12/2017 1:07|             12/18/2017 22:03|                1/4/2018 0:00|\n",
      "|000576fe39319847c...|9ed5e522dd9dd85b4...|   delivered|          7/4/2018 12:08|   7/5/2018 16:35|              7/5/2018 12:15|               7/9/2018 14:04|               7/25/2018 0:00|\n",
      "|0005a1a1728c9d785...|16150771dfd477626...|   delivered|         3/19/2018 18:40|  3/20/2018 18:35|              3/28/2018 0:37|              3/29/2018 18:17|               3/29/2018 0:00|\n",
      "|0005f50442cb953dc...|351d3cb2cee3c7fd0...|   delivered|          7/2/2018 13:59|   7/2/2018 14:10|              7/3/2018 14:25|               7/4/2018 17:28|               7/23/2018 0:00|\n",
      "|00061f2a7bc09da83...|c6fc061d86fab1e2b...|   delivered|         3/24/2018 22:16|  3/24/2018 22:28|              3/27/2018 5:26|               3/29/2018 0:04|                4/9/2018 0:00|\n",
      "|00063b381e2406b52...|6a899e55865de6549...|   delivered|         7/27/2018 17:21|  7/27/2018 18:00|             7/30/2018 14:52|               8/7/2018 13:56|                8/7/2018 0:00|\n",
      "|0006ec9db01a64e59...|5d178120c29c61748...|   delivered|         7/24/2018 17:04|  7/24/2018 17:24|             7/25/2018 11:02|               7/31/2018 1:04|               8/22/2018 0:00|\n",
      "|0008288aa423d2a3f...|2355af7c75e7c98b4...|   delivered|         2/13/2018 22:10|   2/15/2018 3:55|             2/20/2018 18:23|              2/26/2018 13:55|                3/6/2018 0:00|\n",
      "|0009792311464db53...|2a30c97668e81df7c...|   delivered|         8/14/2018 20:43|  8/15/2018 12:15|             8/15/2018 15:28|              8/22/2018 12:02|               8/28/2018 0:00|\n",
      "|0009c9a17f916a706...|8a250edc40ebc5c39...|   delivered|          4/25/2018 9:10|   4/25/2018 9:33|             4/27/2018 15:14|              4/30/2018 17:54|                5/9/2018 0:00|\n",
      "|000aed2e25dbad2f9...|fff5169e583fd07fa...|   delivered|         5/11/2018 20:33|  5/11/2018 20:57|             5/16/2018 14:26|              5/18/2018 16:46|               5/22/2018 0:00|\n",
      "|000c3e6612759851c...|3773bcf1a6fbd2923...|   delivered|         8/12/2017 10:08|   8/15/2017 3:35|             8/15/2017 15:32|              8/19/2017 15:22|                9/1/2017 0:00|\n",
      "|000e562887b1f2006...|2b01d668726fb0b75...|   delivered|         2/22/2018 11:54|  2/22/2018 12:08|             2/26/2018 14:18|              3/12/2018 18:46|               3/19/2018 0:00|\n",
      "|000e63d38ae8c00bb...|98884e672c5ba85f4...|   delivered|         3/23/2018 19:48|  3/23/2018 20:07|             3/26/2018 21:38|              3/27/2018 14:51|                4/5/2018 0:00|\n",
      "+--------------------+--------------------+------------+------------------------+-----------------+----------------------------+-----------------------------+-----------------------------+\n",
      "only showing top 20 rows\n",
      "\n"
     ]
    }
   ],
   "source": [
    "df_orders.show()"
   ]
  },
  {
   "cell_type": "code",
   "execution_count": 14,
   "metadata": {
    "colab": {
     "base_uri": "https://localhost:8080/",
     "height": 1000
    },
    "colab_type": "code",
    "id": "0vryw3No6JYi",
    "outputId": "837f31ef-0923-4544-a7b6-e26c37deb59e"
   },
   "outputs": [
    {
     "name": "stdout",
     "output_type": "stream",
     "text": [
      "+--------------------+--------------------+-------------------+--------------------+----------------------+--------------------+-----------------------+\n",
      "|           review_id|            order_id|       review_score|review_comment_title|review_comment_message|review_creation_date|review_answer_timestamp|\n",
      "+--------------------+--------------------+-------------------+--------------------+----------------------+--------------------+-----------------------+\n",
      "|7bc2406110b926393...|73fc7af87114b3971...|                  4|                null|                  null| 2018-01-18 00:00:00|    2018-01-18 21:46:59|\n",
      "|80e641a11e56f04c1...|a548910a1c6147796...|                  5|                null|                  null| 2018-03-10 00:00:00|    2018-03-11 03:05:13|\n",
      "|228ce5500dc1d8e02...|f9e4b658b201a9f2e...|                  5|                null|                  null| 2018-02-17 00:00:00|    2018-02-18 14:36:24|\n",
      "|e64fb393e7b32834b...|658677c97b385a9be...|                  5|                null|  Recebi bem antes ...| 2017-04-21 00:00:00|    2017-04-21 22:02:06|\n",
      "|f7c4243c7fe1938f1...|8e6bfb81e283fa7e4...|                  5|                null|  Parabéns lojas la...| 2018-03-01 00:00:00|    2018-03-02 10:26:53|\n",
      "|15197aa66ff4d0650...|b18dcdf73be663668...|                  1|                null|                  null| 2018-04-13 00:00:00|    2018-04-16 00:39:37|\n",
      "|07f9bee5d1b850860...|e48aa0d2dcec3a2e8...|                  5|                null|                  null| 2017-07-16 00:00:00|    2017-07-18 19:30:34|\n",
      "|7c6400515c67679fb...|c31a859e34e3adac2...|                  5|                null|                  null| 2018-08-14 00:00:00|    2018-08-14 21:36:06|\n",
      "|a3f6f7f6f433de0ae...|9c214ac970e842735...|                  5|                null|                  null| 2017-05-17 00:00:00|    2017-05-18 12:05:37|\n",
      "|8670d52e15e00043a...|b9bf720beb4ab3728...|                  4|           recomendo|  aparelho eficient...| 2018-05-22 00:00:00|    2018-05-23 16:45:47|\n",
      "|c9cfd2d5ab5911836...|cdf9aa68e72324eeb...|                  5|                null|                  null| 2017-12-23 00:00:00|    2017-12-26 14:36:03|\n",
      "|96052551d87e5f62e...|3d374c9e46530bb5e...|                  5|                null|                  null| 2017-12-19 00:00:00|    2017-12-20 10:25:22|\n",
      "|4b49719c8a200003f...|9d6f15f95d01e79bd...|                  4|                null|  Mas um pouco ,tra...|                null|                   null|\n",
      "|,2018-02-16 00:00...|                null|               null|                null|                  null|                null|                   null|\n",
      "|23f75a37effc35d9a...|2eaf8e099d871cd5c...|                  4|                null|                  null| 2018-03-28 00:00:00|    2018-03-30 15:10:55|\n",
      "|9a0abbb668bafb95a...|d7bd0e4afdf94846e...|                  3|                null|                  null| 2017-04-30 00:00:00|    2017-05-03 00:02:22|\n",
      "|3948b09f7c818e2d8...|e51478e7e277a8374...|                  5|     Super recomendo|  Vendedor confiáve...| 2018-05-23 00:00:00|    2018-05-24 03:00:01|\n",
      "|9314d6f9799f5bfba...|0dacf04c5ad59fd5a...|                  2|                null|  GOSTARIA DE SABER...| 2018-01-18 00:00:00|    2018-01-20 21:25:45|\n",
      "|8e15a274d95600fa1...|ff1581e08b3011021...|                  5|                null|                  null| 2018-03-24 00:00:00|    2018-03-26 15:58:32|\n",
      "|fdbdb2629a7cde0f6...|70a752414a13d09cc...|                  3|                null|                  null| 2017-09-29 00:00:00|    2017-10-02 01:12:49|\n",
      "|373cbeecea8286a2b...|583174fbe37d3d5f0...|                  1|Não chegou meu pr...|               Péssimo| 2018-08-15 00:00:00|    2018-08-15 04:10:37|\n",
      "|a2ff510ca4e059c3f...|a9953b2f0b1665ac7...|                  4|                null|                  null| 2017-10-06 00:00:00|    2017-10-08 22:36:05|\n",
      "|80c70bc263881ba65...|ae168dfba23691941...|                  5|                null|                  null| 2018-03-17 00:00:00|    2018-04-04 19:41:11|\n",
      "|d21bbc789670eab77...|4fc44d78867142c62...|                  5|               Ótimo|          Loja nota 10| 2018-07-10 00:00:00|    2018-07-11 14:10:25|\n",
      "|7bcb3c758c67f2363...|7c9956750739a47db...|                  5|                null|                  null| 2017-09-09 00:00:00|    2017-10-17 02:25:47|\n",
      "|0e0190b9db53b689b...|79832b7cb59ac6f88...|                  5|                null|  obrigado pela ate...| 2017-12-01 00:00:00|    2017-12-09 22:58:58|\n",
      "|66e4430c5bc6b7e37...|84cec4f65c7a4f2f5...|                  5|                null|                  null| 2017-06-23 00:00:00|    2017-06-27 00:52:02|\n",
      "|bf566b3910c328733...|a59a15e4b6085c752...|                  4|                null|                  null| 2017-11-01 00:00:00|    2017-11-01 20:25:30|\n",
      "|fe3db7c069d694bab...|2ca73e2ff9e3a186a...|                  5|                null|  A compra foi real...|                null|                   null|\n",
      "|A entrega foi efe...|                null|               null|                null|                  null|                null|                   null|\n",
      "|O produto já come...|                null|               null|                null|                  null|                null|                   null|\n",
      "|     sem problemas.\"| 2018-03-23 00:00:00|2018-04-01 00:27:51|                null|                  null|                null|                   null|\n",
      "|e07eee7ad7666276b...|68b3cbc68e4cd1fe1...|                  5|                null|  relógio muito bon...| 2018-03-29 00:00:00|    2018-04-02 14:19:31|\n",
      "|2c5e27fc178bde7ac...|0ce9a24111d850192...|                  1|                null|  Não gostei ! Comp...| 2017-12-13 00:00:00|    2017-12-16 07:14:07|\n",
      "|540e7bbb2d06cfb7f...|cf73e2cb1f4a9480e...|                  5|                null|                  null| 2018-01-18 00:00:00|    2018-01-18 19:12:30|\n",
      "|6a18a4001ae7fd911...|8ba3f3a9292fbc22a...|                  5|                null|                  null| 2017-07-19 00:00:00|    2017-07-20 10:38:48|\n",
      "|58044bca115705a48...|68e55ca79d04a79f2...|                  1|                null|  Sempre compro pel...| 2018-04-08 00:00:00|    2018-04-09 12:22:39|\n",
      "|19a52a2297e5289ab...|677c865b89aa97e7d...|                  5|                null|                  null| 2018-08-25 00:00:00|    2018-08-26 22:02:59|\n",
      "|c92cdd7dd544a01aa...|37e7875cdce5a9e5b...|                  4|          Muito bom.|  Recebi exatamente...| 2018-06-07 00:00:00|    2018-06-09 18:44:02|\n",
      "|c0f4c8301f8c29d6f...|04db86e3493b3724a...|                  5|                null|                  null| 2017-09-12 00:00:00|    2017-09-13 14:33:49|\n",
      "|08c9d79ec0eba1d25...|e029f708df3cc108b...|                  5|                 Bom|           Recomendo ,| 2018-06-13 00:00:00|    2018-06-13 22:54:44|\n",
      "|2170c9452c2216457...|af32671d0b8ce510a...|                  5|                null|            muito boa | 2018-03-22 00:00:00|    2018-03-30 23:37:25|\n",
      "|b193ff3c9f32a01f3...|e2e6ee1ed2d7f2f36...|                  5|        Maravilhoso!|  Tô completamente ...| 2018-08-10 00:00:00|    2018-08-11 00:22:13|\n",
      "|9fd59cd04b42f600d...|3c314f50bc654f3c4...|                  1|                null|  Nada de chegar o ...| 2017-04-21 00:00:00|    2017-04-23 05:37:03|\n",
      "|ab3056e4fb5a36df4...|aad1dcbe4c9fe2e34...|                  2|                null|                  null| 2018-05-13 00:00:00|    2018-05-14 16:29:15|\n",
      "|eb26c2bfb5030f57d...|88096595631e8d26b...|                  1|                null|                  null| 2018-02-08 00:00:00|    2018-02-10 04:28:43|\n",
      "|caf7d6d68090fedf0...|c186ebe3937470a2f...|                  5|                null|                  null| 2017-12-05 00:00:00|    2017-12-07 23:34:56|\n",
      "|86c5cfa7fcbde303f...|a6456e781cb962cc3...|                  5|    Entrega perfeita|  Muito bom. muito ...| 2018-06-13 00:00:00|    2018-06-14 17:29:03|\n",
      "|6f3eb43ec2f5092cf...|f3a9c397a2fa5a236...|                  5|                null|                  null| 2018-03-11 00:00:00|    2018-03-14 00:38:50|\n",
      "|3dc0777d97733a1d0...|44a9994228432b835...|                  4|                null|                  null| 2018-03-29 00:00:00|    2018-03-31 00:13:07|\n",
      "|e363a3c172db72d6a...|1a36784e5c696071d...|                  5|                null|                  null| 2018-01-25 00:00:00|    2018-02-18 23:03:20|\n",
      "|890ec1767be8eb104...|b3271f5ebce80cbec...|                  5|                null|  otimo vendedor ch...| 2017-05-13 00:00:00|    2017-05-14 02:57:19|\n",
      "|23f570a1b0db9566b...|82c5edeff15e09a04...|                  5|                null|                  null| 2017-09-22 00:00:00|    2017-09-23 13:57:39|\n",
      "|7d9ac3e98adc0c8ad...|dfa48852c93427261...|                  5|                null|  Processo de compr...| 2018-04-24 00:00:00|    2018-04-25 16:01:03|\n",
      "|c41bd21983e298a24...|9562b424b05978a49...|                  5|                null|  Tomara q dure poi...| 2017-05-19 00:00:00|    2017-05-21 03:04:35|\n",
      "|e233e51d11511bf30...|548df2c6e5f089574...|                  1|                null|  recebi somente 1 ...|                null|                   null|\n",
      "|Faltou Controle R...| 2018-01-28 00:00:00|2018-02-04 11:06:15|                null|                  null|                null|                   null|\n",
      "|1a74d76543e1b419b...|14861b02076ed7da9...|                  5|                null|                  null| 2018-07-14 00:00:00|    2018-07-16 20:09:42|\n",
      "|1edd1a85161468a77...|d8e17cc8532306149...|                  5|               Ótimo|                  null| 2018-06-02 00:00:00|    2018-06-02 23:15:37|\n",
      "|94c4db81ff5c234f5...|3fb155b4897652f5c...|                  5|                null|                  null| 2017-12-15 00:00:00|    2017-12-17 14:43:35|\n",
      "|3d94fd645cdaacc8c...|4d483bf690ca21bdc...|                  5|                null|                   boa| 2017-03-21 00:00:00|    2017-03-22 00:58:49|\n",
      "|cb6fe4f91f83d9222...|84226f5c73669d771...|                  3|                null|                  null| 2018-05-10 00:00:00|    2018-05-13 22:51:53|\n",
      "|45a523faa4defdf60...|26c4ac9998f72d4fc...|                  3|                null|                  null| 2017-10-27 00:00:00|    2017-10-27 16:12:52|\n",
      "|6eab2c9b7ea4975a0...|55101b36a58251926...|                  4|                null|                  null| 2018-05-31 00:00:00|    2018-06-04 23:44:16|\n",
      "|500c05500aa275953...|8a9424899aac432d8...|                  5|            MT lindo|              MT lindo| 2018-07-25 00:00:00|    2018-07-25 21:37:22|\n",
      "|399133d47ddc5f40d...|603d76b730c972775...|                  5|                null|                  null| 2018-04-03 00:00:00|    2018-04-03 23:39:36|\n",
      "|6a0969d0769d2f3ff...|32638fbca8d1a197e...|                  5|                null|  Ocorreu tudo como...|                null|                   null|\n",
      "|    Estou satisfeita|                null|               null|                null|                  null|                null|                   null|\n",
      "|,2017-06-02 00:00...|                null|               null|                null|                  null|                null|                   null|\n",
      "|8a64945e89526e68b...|71960e6af96091925...|                  5|                null|  Amei achei lindo ...| 2018-04-18 00:00:00|    2018-04-18 22:30:45|\n",
      "|ca7402594d96f3231...|36782087b0d4f8cd6...|                  5|                null|                  null| 2018-02-20 00:00:00|    2018-02-21 01:40:57|\n",
      "|c0dbf9a325d2a2fec...|b324f4270850cbba2...|                  4|                null|  Ótima loja para p...| 2018-04-04 00:00:00|    2018-04-06 15:43:39|\n",
      "|9924ac6169f2edc95...|a3ba7fa5266d62188...|                  5|                null|                  null| 2018-02-27 00:00:00|    2018-03-02 08:33:35|\n",
      "|e12a8d938f3092e01...|b3dca2e199b13ddab...|                  5|                null|                  null| 2018-06-03 00:00:00|    2018-06-06 12:41:24|\n",
      "|109b5ce2dd11bb846...|25362fbf6aac4b01a...|                  5|     Ótimo Produto! |  Recomendo o vende...| 2018-08-17 00:00:00|    2018-08-17 21:47:08|\n",
      "|6d06808638ec0701b...|97d2f8fe76f2f253b...|                  1|                null|  O produto não che...| 2016-12-09 00:00:00|    2016-12-19 14:10:43|\n",
      "|750d4311e8ddb6cba...|4b32a4cdfc1b80066...|                  5|                null|  Produto entregue ...|                null|                   null|\n",
      "|,2017-08-09 00:00...|                null|               null|                null|                  null|                null|                   null|\n",
      "|951a3591f5bcc0b0c...|801524a8fbd37484e...|                  3|                null|                  null| 2018-07-14 00:00:00|    2018-07-14 21:04:31|\n",
      "|77ed4f94b3638d1f0...|5f8772295e1adb4e4...|                  5|                null|                  null| 2018-04-10 00:00:00|    2018-04-12 10:28:20|\n",
      "|2a3eba09af2fbcd3a...|366df9c0b0d5d46f8...|                  4|                null|                  null| 2018-01-31 00:00:00|    2018-02-01 02:09:13|\n",
      "|8b230a1373c6dc4bd...|071251fe3b3493294...|                  3|                null|  Eu comprei duas u...| 2017-11-09 00:00:00|    2017-11-10 10:38:37|\n",
      "|4a1c0e7a111f33f2b...|0feb8ce954124d3e3...|                  5|                null|                  null| 2018-08-28 00:00:00|    2018-08-29 02:00:24|\n",
      "|cb2fc3e5711b5ae85...|34e6d418f368f8079...|                  3|                null|  Produto bom, poré...| 2018-01-31 00:00:00|    2018-01-31 23:29:21|\n",
      "|60c714ed14cef9139...|9ac05114800f02bfa...|                  1|                null|  Produto muito inf...| 2018-07-03 00:00:00|    2018-07-05 19:03:52|\n",
      "|b42460e6867613520...|5b2e79428198e5ce4...|                  5|                null|                  null| 2017-07-29 00:00:00|    2017-08-01 18:43:09|\n",
      "|505587fad6e7130f5...|64ff87188034c4f3d...|                  4|                null|                  null| 2018-06-14 00:00:00|    2018-06-18 22:53:04|\n",
      "|c45811d9f90e22a81...|491f193fc52075598...|                  5|  RECOMENDO SEMPRE!!|  O kit mochila pat...| 2018-06-19 00:00:00|    2018-06-19 17:44:05|\n",
      "|e29ab4a671400c413...|17b296b73ebefd621...|                  5|                null|            Maravilha | 2017-08-09 00:00:00|    2017-08-11 23:28:46|\n",
      "|c577faa817a66c6f1...|97e11582eb8cdd7b8...|                  5|                null|                  null| 2018-01-12 00:00:00|    2018-01-14 22:44:58|\n",
      "|8c6537ae1519a3c03...|a9a75c64cb5e9f7bc...|                  5|                null|                  null| 2018-04-06 00:00:00|    2018-04-07 03:11:49|\n",
      "|34e5d18f3bb64d586...|bf6861804f97bcf76...|                  4|                null|                  null| 2017-03-31 00:00:00|    2017-04-01 23:43:01|\n",
      "|5733e2aeeb52b99d0...|5abb6c1ea24afdc6e...|                  5|                null|                  null| 2018-02-23 00:00:00|    2018-02-23 11:06:24|\n",
      "|a34d2c4ace9724546...|9cd3b6a2b07667e42...|                  5|                null|                  null| 2018-05-15 00:00:00|    2018-05-20 13:57:26|\n",
      "|9bdb93e1339cdbc9b...|72b9d86fe4e984d98...|                  5|                null|                  null| 2018-04-24 00:00:00|    2018-04-25 20:28:48|\n",
      "|0bd4dcc4f6c4621ba...|a11cd01ac67beef7e...|                  3|                null|      Entrega no prazo| 2017-03-23 00:00:00|    2017-03-23 21:20:16|\n",
      "|888f11883ff85fa5c...|248907ae8054cb8e9...|                  5|                null|  Cumpriu o prometi...| 2018-01-04 00:00:00|    2018-01-05 23:30:00|\n",
      "|65dfeb60c40e3cbb0...|a2714ecbf6eeb3bb9...|                  1|                null|  Pedi reembolso e ...| 2018-03-08 00:00:00|    2018-03-08 12:27:34|\n",
      "|50a1eaa2f96d6f3e0...|4a7cf245701068d38...|                  5|     ***** Recomendo|         Super rápido.| 2018-05-10 00:00:00|    2018-05-11 03:08:49|\n",
      "|1090909faae22e5ab...|a1341cb83bbf1b473...|                  1|                null|                  null| 2018-03-07 00:00:00|    2018-03-07 15:32:23|\n",
      "+--------------------+--------------------+-------------------+--------------------+----------------------+--------------------+-----------------------+\n",
      "only showing top 100 rows\n",
      "\n"
     ]
    }
   ],
   "source": [
    "df_order_reviews.show(100)"
   ]
  },
  {
   "cell_type": "code",
   "execution_count": 15,
   "metadata": {
    "colab": {
     "base_uri": "https://localhost:8080/",
     "height": 170
    },
    "colab_type": "code",
    "id": "nKA0pq_TiAJ7",
    "outputId": "f13ae646-ff45-4541-dc45-30afb8f9aad3"
   },
   "outputs": [
    {
     "name": "stdout",
     "output_type": "stream",
     "text": [
      "The number of customer: 99441\n",
      "The number of order: 99441\n",
      "The number of order payments: 103886\n",
      "The number of order reviews: 105189\n",
      "The number of product: 32951\n",
      "The number of order items: 112650\n",
      "The number of category name translation: 71\n",
      "The number of sellers: 3095\n",
      "The number of geolocation: 774645\n"
     ]
    }
   ],
   "source": [
    "print \"The number of customer:\", df_customers.count()\n",
    "print \"The number of order:\", df_orders.count()\n",
    "print \"The number of order payments:\", df_order_payments.count()\n",
    "print \"The number of order reviews:\", df_order_reviews.count()\n",
    "print \"The number of product:\", df_product.count()\n",
    "print \"The number of order items:\", df_order_items.count()\n",
    "print \"The number of category name translation:\", df_category_name_translation.count()\n",
    "print \"The number of sellers:\", df_sellers.count()\n",
    "print \"The number of geolocation:\", df_geolocation.count()"
   ]
  },
  {
   "cell_type": "markdown",
   "metadata": {
    "colab_type": "text",
    "id": "a1azJx8komlQ"
   },
   "source": [
    "## There are nine datasets we have and we will merge them into one analytical dataset.\n",
    "### We set several steps to combine them together:\n",
    "1. Merge customer-related datasets(orders, order_customer, order_review, order_payments).\n",
    "2. Merge product-related datasets(order_items,products)\n",
    "3. Merge seller-related datasets(sellers, geolocation)<br>\n",
    "For geolocation dataset, we will combine it with order_customer and geolocation dataset each. And, when merging them, we add a suffix to geolocatio names. (e.g customer_geolocation_lat, customer_geolocation_lat, seller_geolocation_lat, seller_geolocation_lat)\n",
    "4. After combining each segmentations, merge customer-related datasets with product-related datasets\n",
    "5. Finally, merge customer-product related datasets with seller-related datasets<br>\n",
    "(optional) We could extract weather data from NOAA(National Oceanic\n",
    "and Atmospheric Administration) and add this dataset by using “date” for a key to merge."
   ]
  },
  {
   "cell_type": "code",
   "execution_count": 0,
   "metadata": {
    "colab": {},
    "colab_type": "code",
    "id": "UQmr9gpnHuXG"
   },
   "outputs": [],
   "source": [
    "# df_geolocation\n",
    "# df_product\n",
    "# df_order_items\n",
    "# df_sellers\n",
    "# df_category_name_translation\n",
    "\n",
    "# df_orders\n",
    "# df_customers\n",
    "# df_order_reviews\n",
    "# df_order_payments"
   ]
  },
  {
   "cell_type": "markdown",
   "metadata": {
    "colab_type": "text",
    "id": "dOxZTg_EsG0Q"
   },
   "source": [
    "## Now, let's merge step by step"
   ]
  },
  {
   "cell_type": "markdown",
   "metadata": {
    "colab_type": "text",
    "id": "rGVsLrFIsSyN"
   },
   "source": [
    "### Step1 Merge customer-related datasets(orders, order_customer, order_review, order_payments).\n",
    "Here, orders dataset is baseline and merge it with other.\n",
    "There are four datasets to merge: df_orders, df_customers, df_order_reviews, df_order_payments"
   ]
  },
  {
   "cell_type": "markdown",
   "metadata": {
    "colab_type": "text",
    "id": "lT5aaRahtABO"
   },
   "source": [
    "### 1. Merge  order_customer with geolocation dataset"
   ]
  },
  {
   "cell_type": "code",
   "execution_count": 17,
   "metadata": {
    "colab": {
     "base_uri": "https://localhost:8080/",
     "height": 459
    },
    "colab_type": "code",
    "id": "d3ONhAoV9_6f",
    "outputId": "9a324c4c-c6b4-4729-e1c6-d7f8ab01a854"
   },
   "outputs": [
    {
     "name": "stdout",
     "output_type": "stream",
     "text": [
      "+---------------------------+---------------+---------------+--------------------+-----------------+\n",
      "|geolocation_zip_code_prefix|geolocation_lat|geolocation_lng|    geolocation_city|geolocation_state|\n",
      "+---------------------------+---------------+---------------+--------------------+-----------------+\n",
      "|                      99990|   -28.32959498|   -51.76936176|           muliterno|               RS|\n",
      "|                      99980|   -28.38912939|   -51.84383599|     david canabarro|               RS|\n",
      "|                      99970|   -28.34376619|   -51.87468927|             ciriaco|               RS|\n",
      "|                      99965|   -28.18337204|   -52.03985048|          agua santa|               RS|\n",
      "|                      99960|   -27.95372179|   -52.02551149|             charrua|               RS|\n",
      "|                      99955|   -28.11334131|   -52.14384316|        vila langaro|               RS|\n",
      "|                      99952|   -28.17119882|   -51.90856858|santa cecilia do sul|               RS|\n",
      "|                      99950|    -28.0689587|   -52.01206796|            tapejara|               RS|\n",
      "|                      99940|   -28.05722443|   -51.85612385|              ibiaca|               RS|\n",
      "|                      99930|   -27.91410184|   -52.25878207|             estacao|               RS|\n",
      "|                      99925|   -27.93672592|   -52.42664404|     ipiranga do sul|               RS|\n",
      "|                      99920|   -27.85525363|   -52.30090591|            erebango|               RS|\n",
      "|                      99910|   -27.85896073|   -52.07528725|    floriano peixoto|               RS|\n",
      "|                      99900|   -27.88662962|   -52.22847845|      getulio vargas|               RS|\n",
      "|                      99895|   -27.93003859|   -51.65968008|santo expedito do...|               RS|\n",
      "|                      99890|   -27.63177838|   -51.80471961|maximiliano de al...|               RS|\n",
      "|                      99880|   -27.56786011|   -51.66800631|          machadinho|               RS|\n",
      "|                      99878|   -27.92262017|   -51.53872925|      tupanci do sul|               RS|\n",
      "|                      99870|    -27.8446505|   -51.57643493|    são josé do ouro|               RS|\n",
      "|                      99860|   -27.77216255|   -51.66196048|       cacique doble|               RS|\n",
      "+---------------------------+---------------+---------------+--------------------+-----------------+\n",
      "only showing top 20 rows\n",
      "\n"
     ]
    }
   ],
   "source": [
    "from pyspark.sql.functions import desc\n",
    "df_geolocation.sort(desc(\"geolocation_zip_code_prefix\")).show()\n"
   ]
  },
  {
   "cell_type": "code",
   "execution_count": 18,
   "metadata": {
    "colab": {
     "base_uri": "https://localhost:8080/",
     "height": 34
    },
    "colab_type": "code",
    "id": "pSRRcNPYTghi",
    "outputId": "3e02f30f-42d3-419e-dad6-17b7e17b8fb4"
   },
   "outputs": [
    {
     "data": {
      "text/plain": [
       "774645"
      ]
     },
     "execution_count": 18,
     "metadata": {
      "tags": []
     },
     "output_type": "execute_result"
    }
   ],
   "source": [
    "df_geolocation.count()"
   ]
  },
  {
   "cell_type": "code",
   "execution_count": 19,
   "metadata": {
    "colab": {
     "base_uri": "https://localhost:8080/",
     "height": 34
    },
    "colab_type": "code",
    "id": "zcSZWmKy93Bw",
    "outputId": "4b165bf4-65a1-4852-94d1-beafee10cbdb"
   },
   "outputs": [
    {
     "data": {
      "text/plain": [
       "19177"
      ]
     },
     "execution_count": 19,
     "metadata": {
      "tags": []
     },
     "output_type": "execute_result"
    }
   ],
   "source": [
    "# There are multiple latitudes and longitudes in same zip codes so it is needed to delete duplicated one.\n",
    "df_geolocation.drop_duplicates(subset=['geolocation_zip_code_prefix']).count()"
   ]
  },
  {
   "cell_type": "code",
   "execution_count": 0,
   "metadata": {
    "colab": {},
    "colab_type": "code",
    "id": "qBm56aRK-HaS"
   },
   "outputs": [],
   "source": [
    "new_geolocation = df_geolocation.drop_duplicates(subset=['geolocation_zip_code_prefix'])"
   ]
  },
  {
   "cell_type": "code",
   "execution_count": 21,
   "metadata": {
    "colab": {
     "base_uri": "https://localhost:8080/",
     "height": 476
    },
    "colab_type": "code",
    "id": "CNNileYE994P",
    "outputId": "02d38d49-8a0e-4ed2-82eb-521097e21d34"
   },
   "outputs": [
    {
     "name": "stdout",
     "output_type": "stream",
     "text": [
      "+------------------------------------+------------------------+------------------------+-------------------------+--------------------------+\n",
      "|customer_geolocation_zip_code_prefix|customer_geolocation_lat|customer_geolocation_lng|customer_geolocation_city|customer_geolocation_state|\n",
      "+------------------------------------+------------------------+------------------------+-------------------------+--------------------------+\n",
      "|                                1238|             -23.5425714|            -46.65424333|                sao paulo|                        SP|\n",
      "|                                2122|            -23.51196609|            -46.58386438|                sao paulo|                        SP|\n",
      "|                                2142|            -23.51019871|            -46.57671782|                sao paulo|                        SP|\n",
      "|                                2366|            -23.46773275|             -46.6105451|                sao paulo|                        SP|\n",
      "|                                2866|            -23.46768213|            -46.68087683|                sao paulo|                        SP|\n",
      "|                                3175|              -23.549368|             -46.5844974|                sao paulo|                        SP|\n",
      "|                                3918|            -23.59210769|            -46.51977944|                sao paulo|                        SP|\n",
      "|                                4101|            -23.58560675|            -46.63379475|                sao paulo|                        SP|\n",
      "|                                4935|            -23.68440943|            -46.76724221|                sao paulo|                        SP|\n",
      "|                                5518|            -23.58616717|             -46.7270021|                sao paulo|                        SP|\n",
      "|                                6397|            -23.53093004|            -46.85832902|              carapicuiba|                        SP|\n",
      "|                                6620|            -23.54729848|            -46.89250492|                  jandira|                        SP|\n",
      "|                                6654|            -23.53890581|            -46.92410128|                  itapevi|                        SP|\n",
      "|                                7240|            -23.44796349|            -46.43878765|                guarulhos|                        SP|\n",
      "|                                8592|            -23.46887384|            -46.29148241|          itaquaquecetuba|                        SP|\n",
      "|                                9852|             -23.7292447|            -46.59517055|     sao bernardo do c...|                        SP|\n",
      "|                               12940|            -23.11473052|            -46.55288054|                  atibaia|                        SP|\n",
      "|                               13285|            -23.03554339|            -47.00577338|                  vinhedo|                        SP|\n",
      "|                               13289|            -23.04025232|            -46.97978204|                  vinhedo|                        SP|\n",
      "|                               13840|            -22.36604065|            -46.93816713|               mogi-guacu|                        SP|\n",
      "+------------------------------------+------------------------+------------------------+-------------------------+--------------------------+\n",
      "only showing top 20 rows\n",
      "\n"
     ]
    },
    {
     "data": {
      "text/plain": [
       "19177"
      ]
     },
     "execution_count": 21,
     "metadata": {
      "tags": []
     },
     "output_type": "execute_result"
    }
   ],
   "source": [
    "def add_prefix(sdf, prefix):\n",
    "      for c in sdf.columns:\n",
    "          sdf = sdf.withColumnRenamed(c, '{}{}'.format(prefix, c))\n",
    "      return sdf\n",
    "\n",
    "new_customer_geolocation = add_prefix(new_geolocation,'customer_')\n",
    "new_customer_geolocation.show()\n",
    "new_customer_geolocation.count()"
   ]
  },
  {
   "cell_type": "code",
   "execution_count": 22,
   "metadata": {
    "colab": {
     "base_uri": "https://localhost:8080/",
     "height": 459
    },
    "colab_type": "code",
    "id": "YEKHaR7v-6lI",
    "outputId": "c04debfb-11b6-4313-b4c3-29b72da17004"
   },
   "outputs": [
    {
     "name": "stdout",
     "output_type": "stream",
     "text": [
      "+--------------------+--------------------+------------------------+--------------------+--------------+\n",
      "|         customer_id|  customer_unique_id|customer_zip_code_prefix|       customer_city|customer_state|\n",
      "+--------------------+--------------------+------------------------+--------------------+--------------+\n",
      "|06b8999e2fba1a1fb...|861eff4711a542e4b...|                   14409|              franca|            SP|\n",
      "|18955e83d337fd6b2...|290c77bc529b7ac93...|                    9790|sao bernardo do c...|            SP|\n",
      "|4e7b3e00288586ebd...|060e732b5b29e8181...|                    1151|           sao paulo|            SP|\n",
      "|b2b6027bc5c5109e5...|259dac757896d24d7...|                    8775|     mogi das cruzes|            SP|\n",
      "|4f2d8ab171c80ec83...|345ecd01c38d18a90...|                   13056|            campinas|            SP|\n",
      "|879864dab9bc30475...|4c93744516667ad3b...|                   89254|      jaragua do sul|            SC|\n",
      "|fd826e7cf63160e53...|addec96d2e059c80c...|                    4534|           sao paulo|            SP|\n",
      "|5e274e7a0c3809e14...|57b2a98a409812fe9...|                   35182|             timoteo|            MG|\n",
      "|5adf08e34b2e99398...|1175e95fb47ddff9d...|                   81560|            curitiba|            PR|\n",
      "|4b7139f34592b3a31...|9afe194fb833f79e3...|                   30575|      belo horizonte|            MG|\n",
      "|9fb35e4ed6f0a14a4...|2a7745e1ed516b289...|                   39400|       montes claros|            MG|\n",
      "|5aa9e4fdd4dfd2095...|2a46fb94aef5cbeeb...|                   20231|      rio de janeiro|            RJ|\n",
      "|b2d1536598b73a9ab...|918dc87cd72cd9f6e...|                   18682|    lencois paulista|            SP|\n",
      "|eabebad39a88bb6f5...|295c05e81917928d7...|                    5704|           sao paulo|            SP|\n",
      "|1f1c7bf1c9b041b29...|3151a81801c838636...|                   95110|       caxias do sul|            RS|\n",
      "|206f3129c0e4d7d0b...|21f748a16f4e1688a...|                   13412|          piracicaba|            SP|\n",
      "|a7c125a0a07b75146...|5c2991dbd08bbf3cf...|                   22750|      rio de janeiro|            RJ|\n",
      "|c5c61596a3b6bd0ce...|b6e99561fe6f34a55...|                    7124|           guarulhos|            SP|\n",
      "|9b8ce803689b3562d...|7f3a72e8f988c6e73...|                    5416|           sao paulo|            SP|\n",
      "|49d0ea0986edde72d...|3e6fd6b2f0d499456...|                   68485|              pacaja|            PA|\n",
      "+--------------------+--------------------+------------------------+--------------------+--------------+\n",
      "only showing top 20 rows\n",
      "\n"
     ]
    }
   ],
   "source": [
    "df_customers.show()"
   ]
  },
  {
   "cell_type": "code",
   "execution_count": 23,
   "metadata": {
    "colab": {
     "base_uri": "https://localhost:8080/",
     "height": 496
    },
    "colab_type": "code",
    "id": "6Y6ofRAz-vdg",
    "outputId": "ce235eff-35d2-46ca-d43e-64f06edb0d94"
   },
   "outputs": [
    {
     "name": "stdout",
     "output_type": "stream",
     "text": [
      "+--------------------+--------------------+------------------------+--------------------+--------------+------------------------------------+------------------------+------------------------+-------------------------+--------------------------+\n",
      "|         customer_id|  customer_unique_id|customer_zip_code_prefix|       customer_city|customer_state|customer_geolocation_zip_code_prefix|customer_geolocation_lat|customer_geolocation_lng|customer_geolocation_city|customer_geolocation_state|\n",
      "+--------------------+--------------------+------------------------+--------------------+--------------+------------------------------------+------------------------+------------------------+-------------------------+--------------------------+\n",
      "|06b8999e2fba1a1fb...|861eff4711a542e4b...|                   14409|              franca|            SP|                               14409|            -20.49848876|            -47.39692949|                   franca|                        SP|\n",
      "|18955e83d337fd6b2...|290c77bc529b7ac93...|                    9790|sao bernardo do c...|            SP|                                9790|            -23.72799222|            -46.54284779|     sao bernardo do c...|                        SP|\n",
      "|4e7b3e00288586ebd...|060e732b5b29e8181...|                    1151|           sao paulo|            SP|                                1151|            -23.53164158|            -46.65628875|                sao paulo|                        SP|\n",
      "|b2b6027bc5c5109e5...|259dac757896d24d7...|                    8775|     mogi das cruzes|            SP|                                8775|             -23.4997023|            -46.18523296|          mogi das cruzes|                        SP|\n",
      "|4f2d8ab171c80ec83...|345ecd01c38d18a90...|                   13056|            campinas|            SP|                               13056|            -22.97510046|            -47.14292523|                 campinas|                        SP|\n",
      "|879864dab9bc30475...|4c93744516667ad3b...|                   89254|      jaragua do sul|            SC|                               89254|            -26.47103679|            -49.11565414|           jaragua do sul|                        SC|\n",
      "|fd826e7cf63160e53...|addec96d2e059c80c...|                    4534|           sao paulo|            SP|                                4534|             -23.5842211|            -46.67405283|                sao paulo|                        SP|\n",
      "|5e274e7a0c3809e14...|57b2a98a409812fe9...|                   35182|             timoteo|            MG|                               35182|             -19.5760717|            -42.64316837|                  timoteo|                        MG|\n",
      "|5adf08e34b2e99398...|1175e95fb47ddff9d...|                   81560|            curitiba|            PR|                               81560|            -25.48678363|              -49.217558|                 curitiba|                        PR|\n",
      "|4b7139f34592b3a31...|9afe194fb833f79e3...|                   30575|      belo horizonte|            MG|                               30575|             -19.9738011|            -43.97264013|           belo horizonte|                        MG|\n",
      "|9fb35e4ed6f0a14a4...|2a7745e1ed516b289...|                   39400|       montes claros|            MG|                               39400|             -16.7219761|            -43.86291364|            montes claros|                        MG|\n",
      "|5aa9e4fdd4dfd2095...|2a46fb94aef5cbeeb...|                   20231|      rio de janeiro|            RJ|                               20231|            -22.91259169|            -43.18629265|           rio de janeiro|                        RJ|\n",
      "|b2d1536598b73a9ab...|918dc87cd72cd9f6e...|                   18682|    lencois paulista|            SP|                               18682|            -22.60989768|            -48.79623699|         lencois paulista|                        SP|\n",
      "|eabebad39a88bb6f5...|295c05e81917928d7...|                    5704|           sao paulo|            SP|                                5704|            -23.62892578|            -46.72017495|                sao paulo|                        SP|\n",
      "|1f1c7bf1c9b041b29...|3151a81801c838636...|                   95110|       caxias do sul|            RS|                               95110|            -29.19085627|             -51.2302395|            caxias do sul|                        RS|\n",
      "|206f3129c0e4d7d0b...|21f748a16f4e1688a...|                   13412|          piracicaba|            SP|                               13412|            -22.68228641|            -47.66211183|               piracicaba|                        SP|\n",
      "|a7c125a0a07b75146...|5c2991dbd08bbf3cf...|                   22750|      rio de janeiro|            RJ|                               22750|            -22.94338467|             -43.3343792|           rio de janeiro|                        RJ|\n",
      "|c5c61596a3b6bd0ce...|b6e99561fe6f34a55...|                    7124|           guarulhos|            SP|                                7124|            -23.43363736|            -46.53377283|                guarulhos|                        SP|\n",
      "|9b8ce803689b3562d...|7f3a72e8f988c6e73...|                    5416|           sao paulo|            SP|                                5416|            -23.56094858|            -46.68842233|                são paulo|                        SP|\n",
      "|49d0ea0986edde72d...|3e6fd6b2f0d499456...|                   68485|              pacaja|            PA|                               68485|            -3.815264667|            -50.61876737|                   pacaja|                        PA|\n",
      "+--------------------+--------------------+------------------------+--------------------+--------------+------------------------------------+------------------------+------------------------+-------------------------+--------------------------+\n",
      "only showing top 20 rows\n",
      "\n"
     ]
    },
    {
     "data": {
      "text/plain": [
       "99441"
      ]
     },
     "execution_count": 23,
     "metadata": {
      "tags": []
     },
     "output_type": "execute_result"
    }
   ],
   "source": [
    "# Merge orders dataset and items dataset!!!\n",
    "customer_geo = df_customers.join(new_customer_geolocation, df_customers.customer_zip_code_prefix == new_customer_geolocation.customer_geolocation_zip_code_prefix, how='left')\n",
    "customer_geo.show()\n",
    "customer_geo.count()"
   ]
  },
  {
   "cell_type": "code",
   "execution_count": 24,
   "metadata": {
    "colab": {
     "base_uri": "https://localhost:8080/",
     "height": 54
    },
    "colab_type": "code",
    "id": "VsenodsBUbx0",
    "outputId": "e27ebf75-a61c-4542-8ed0-901c5d1e1454"
   },
   "outputs": [
    {
     "data": {
      "text/plain": [
       "DataFrame[customer_id: string, customer_unique_id: string, customer_zip_code_prefix: int, customer_city: string, customer_state: string, customer_geolocation_zip_code_prefix: int, customer_geolocation_lat: double, customer_geolocation_lng: double, customer_geolocation_city: string, customer_geolocation_state: string]"
      ]
     },
     "execution_count": 24,
     "metadata": {
      "tags": []
     },
     "output_type": "execute_result"
    }
   ],
   "source": [
    "customer_geo"
   ]
  },
  {
   "cell_type": "code",
   "execution_count": 25,
   "metadata": {
    "colab": {
     "base_uri": "https://localhost:8080/",
     "height": 476
    },
    "colab_type": "code",
    "id": "PtnGdCnY-0vQ",
    "outputId": "8d72966f-6e40-42d2-c66f-773e44543394"
   },
   "outputs": [
    {
     "name": "stdout",
     "output_type": "stream",
     "text": [
      "+--------------------+--------------------+------------------------+--------------------+--------------+------------------------+------------------------+\n",
      "|         customer_id|  customer_unique_id|customer_zip_code_prefix|       customer_city|customer_state|customer_geolocation_lat|customer_geolocation_lng|\n",
      "+--------------------+--------------------+------------------------+--------------------+--------------+------------------------+------------------------+\n",
      "|06b8999e2fba1a1fb...|861eff4711a542e4b...|                   14409|              franca|            SP|            -20.49848876|            -47.39692949|\n",
      "|18955e83d337fd6b2...|290c77bc529b7ac93...|                    9790|sao bernardo do c...|            SP|            -23.72799222|            -46.54284779|\n",
      "|4e7b3e00288586ebd...|060e732b5b29e8181...|                    1151|           sao paulo|            SP|            -23.53164158|            -46.65628875|\n",
      "|b2b6027bc5c5109e5...|259dac757896d24d7...|                    8775|     mogi das cruzes|            SP|             -23.4997023|            -46.18523296|\n",
      "|4f2d8ab171c80ec83...|345ecd01c38d18a90...|                   13056|            campinas|            SP|            -22.97510046|            -47.14292523|\n",
      "|879864dab9bc30475...|4c93744516667ad3b...|                   89254|      jaragua do sul|            SC|            -26.47103679|            -49.11565414|\n",
      "|fd826e7cf63160e53...|addec96d2e059c80c...|                    4534|           sao paulo|            SP|             -23.5842211|            -46.67405283|\n",
      "|5e274e7a0c3809e14...|57b2a98a409812fe9...|                   35182|             timoteo|            MG|             -19.5760717|            -42.64316837|\n",
      "|5adf08e34b2e99398...|1175e95fb47ddff9d...|                   81560|            curitiba|            PR|            -25.48678363|              -49.217558|\n",
      "|4b7139f34592b3a31...|9afe194fb833f79e3...|                   30575|      belo horizonte|            MG|             -19.9738011|            -43.97264013|\n",
      "|9fb35e4ed6f0a14a4...|2a7745e1ed516b289...|                   39400|       montes claros|            MG|             -16.7219761|            -43.86291364|\n",
      "|5aa9e4fdd4dfd2095...|2a46fb94aef5cbeeb...|                   20231|      rio de janeiro|            RJ|            -22.91259169|            -43.18629265|\n",
      "|b2d1536598b73a9ab...|918dc87cd72cd9f6e...|                   18682|    lencois paulista|            SP|            -22.60989768|            -48.79623699|\n",
      "|eabebad39a88bb6f5...|295c05e81917928d7...|                    5704|           sao paulo|            SP|            -23.62892578|            -46.72017495|\n",
      "|1f1c7bf1c9b041b29...|3151a81801c838636...|                   95110|       caxias do sul|            RS|            -29.19085627|             -51.2302395|\n",
      "|206f3129c0e4d7d0b...|21f748a16f4e1688a...|                   13412|          piracicaba|            SP|            -22.68228641|            -47.66211183|\n",
      "|a7c125a0a07b75146...|5c2991dbd08bbf3cf...|                   22750|      rio de janeiro|            RJ|            -22.94338467|             -43.3343792|\n",
      "|c5c61596a3b6bd0ce...|b6e99561fe6f34a55...|                    7124|           guarulhos|            SP|            -23.43363736|            -46.53377283|\n",
      "|9b8ce803689b3562d...|7f3a72e8f988c6e73...|                    5416|           sao paulo|            SP|            -23.56094858|            -46.68842233|\n",
      "|49d0ea0986edde72d...|3e6fd6b2f0d499456...|                   68485|              pacaja|            PA|            -3.815264667|            -50.61876737|\n",
      "+--------------------+--------------------+------------------------+--------------------+--------------+------------------------+------------------------+\n",
      "only showing top 20 rows\n",
      "\n"
     ]
    },
    {
     "data": {
      "text/plain": [
       "99441"
      ]
     },
     "execution_count": 25,
     "metadata": {
      "tags": []
     },
     "output_type": "execute_result"
    }
   ],
   "source": [
    "# Now, we get merged customer dataset.\n",
    "customer_geo = customer_geo.drop(\"customer_geolocation_zip_code_prefix\",\"customer_geolocation_city\",\"customer_geolocation_state\")\n",
    "customer_geo.show()\n",
    "customer_geo.count()"
   ]
  },
  {
   "cell_type": "markdown",
   "metadata": {
    "colab_type": "text",
    "id": "HEhJErWE_bou"
   },
   "source": [
    "### 2. Merge orders dataset with order_customer-geolocation dataset"
   ]
  },
  {
   "cell_type": "code",
   "execution_count": 26,
   "metadata": {
    "colab": {
     "base_uri": "https://localhost:8080/",
     "height": 459
    },
    "colab_type": "code",
    "id": "3m7tCUL6-qmI",
    "outputId": "63dca798-fbb4-4a0f-d220-7ec20d5ccdf6"
   },
   "outputs": [
    {
     "name": "stdout",
     "output_type": "stream",
     "text": [
      "+--------------------+--------------------+------------------------+--------------------+--------------+------------------------+------------------------+\n",
      "|         customer_id|  customer_unique_id|customer_zip_code_prefix|       customer_city|customer_state|customer_geolocation_lat|customer_geolocation_lng|\n",
      "+--------------------+--------------------+------------------------+--------------------+--------------+------------------------+------------------------+\n",
      "|06b8999e2fba1a1fb...|861eff4711a542e4b...|                   14409|              franca|            SP|            -20.49848876|            -47.39692949|\n",
      "|18955e83d337fd6b2...|290c77bc529b7ac93...|                    9790|sao bernardo do c...|            SP|            -23.72799222|            -46.54284779|\n",
      "|4e7b3e00288586ebd...|060e732b5b29e8181...|                    1151|           sao paulo|            SP|            -23.53164158|            -46.65628875|\n",
      "|b2b6027bc5c5109e5...|259dac757896d24d7...|                    8775|     mogi das cruzes|            SP|             -23.4997023|            -46.18523296|\n",
      "|4f2d8ab171c80ec83...|345ecd01c38d18a90...|                   13056|            campinas|            SP|            -22.97510046|            -47.14292523|\n",
      "|879864dab9bc30475...|4c93744516667ad3b...|                   89254|      jaragua do sul|            SC|            -26.47103679|            -49.11565414|\n",
      "|fd826e7cf63160e53...|addec96d2e059c80c...|                    4534|           sao paulo|            SP|             -23.5842211|            -46.67405283|\n",
      "|5e274e7a0c3809e14...|57b2a98a409812fe9...|                   35182|             timoteo|            MG|             -19.5760717|            -42.64316837|\n",
      "|5adf08e34b2e99398...|1175e95fb47ddff9d...|                   81560|            curitiba|            PR|            -25.48678363|              -49.217558|\n",
      "|4b7139f34592b3a31...|9afe194fb833f79e3...|                   30575|      belo horizonte|            MG|             -19.9738011|            -43.97264013|\n",
      "|9fb35e4ed6f0a14a4...|2a7745e1ed516b289...|                   39400|       montes claros|            MG|             -16.7219761|            -43.86291364|\n",
      "|5aa9e4fdd4dfd2095...|2a46fb94aef5cbeeb...|                   20231|      rio de janeiro|            RJ|            -22.91259169|            -43.18629265|\n",
      "|b2d1536598b73a9ab...|918dc87cd72cd9f6e...|                   18682|    lencois paulista|            SP|            -22.60989768|            -48.79623699|\n",
      "|eabebad39a88bb6f5...|295c05e81917928d7...|                    5704|           sao paulo|            SP|            -23.62892578|            -46.72017495|\n",
      "|1f1c7bf1c9b041b29...|3151a81801c838636...|                   95110|       caxias do sul|            RS|            -29.19085627|             -51.2302395|\n",
      "|206f3129c0e4d7d0b...|21f748a16f4e1688a...|                   13412|          piracicaba|            SP|            -22.68228641|            -47.66211183|\n",
      "|a7c125a0a07b75146...|5c2991dbd08bbf3cf...|                   22750|      rio de janeiro|            RJ|            -22.94338467|             -43.3343792|\n",
      "|c5c61596a3b6bd0ce...|b6e99561fe6f34a55...|                    7124|           guarulhos|            SP|            -23.43363736|            -46.53377283|\n",
      "|9b8ce803689b3562d...|7f3a72e8f988c6e73...|                    5416|           sao paulo|            SP|            -23.56094858|            -46.68842233|\n",
      "|49d0ea0986edde72d...|3e6fd6b2f0d499456...|                   68485|              pacaja|            PA|            -3.815264667|            -50.61876737|\n",
      "+--------------------+--------------------+------------------------+--------------------+--------------+------------------------+------------------------+\n",
      "only showing top 20 rows\n",
      "\n"
     ]
    }
   ],
   "source": [
    "customer_geo.show()"
   ]
  },
  {
   "cell_type": "code",
   "execution_count": 27,
   "metadata": {
    "colab": {
     "base_uri": "https://localhost:8080/",
     "height": 479
    },
    "colab_type": "code",
    "id": "WAotrVPWtIAu",
    "outputId": "670ef281-6116-4699-9b0d-4cbc48b46bfc"
   },
   "outputs": [
    {
     "name": "stdout",
     "output_type": "stream",
     "text": [
      "+--------------------+--------------------+------------+------------------------+-----------------+----------------------------+-----------------------------+-----------------------------+\n",
      "|            order_id|         customer_id|order_status|order_purchase_timestamp|order_approved_at|order_delivered_carrier_date|order_delivered_customer_date|order_estimated_delivery_date|\n",
      "+--------------------+--------------------+------------+------------------------+-----------------+----------------------------+-----------------------------+-----------------------------+\n",
      "|00010242fe8c5a6d1...|3ce436f183e68e078...|   delivered|          9/13/2017 8:59|   9/13/2017 9:45|             9/19/2017 18:34|              9/20/2017 23:43|               9/29/2017 0:00|\n",
      "|00018f77f2f0320c5...|f6dd3ec061db4e398...|   delivered|         4/26/2017 10:53|  4/26/2017 11:05|              5/4/2017 14:35|              5/12/2017 16:04|               5/15/2017 0:00|\n",
      "|000229ec398224ef6...|6489ae5e4333f3693...|   delivered|         1/14/2018 14:33|  1/14/2018 14:48|             1/16/2018 12:36|              1/22/2018 13:19|                2/5/2018 0:00|\n",
      "|00024acbcdf0a6daa...|d4eb9395c8c0431ee...|   delivered|          8/8/2018 10:00|   8/8/2018 10:10|             8/10/2018 13:28|              8/14/2018 13:32|               8/20/2018 0:00|\n",
      "|00042b26cf59d7ce6...|58dbd0b2d70206bf4...|   delivered|          2/4/2017 13:57|   2/4/2017 14:10|              2/16/2017 9:46|               3/1/2017 16:42|               3/17/2017 0:00|\n",
      "|00048cc3ae777c65d...|816cbea969fe5b689...|   delivered|         5/15/2017 21:42|   5/17/2017 3:55|             5/17/2017 11:05|              5/22/2017 13:44|                6/6/2017 0:00|\n",
      "|00054e8431b9d7675...|32e2e6ab09e778d99...|   delivered|        12/10/2017 11:53| 12/10/2017 12:10|             12/12/2017 1:07|             12/18/2017 22:03|                1/4/2018 0:00|\n",
      "|000576fe39319847c...|9ed5e522dd9dd85b4...|   delivered|          7/4/2018 12:08|   7/5/2018 16:35|              7/5/2018 12:15|               7/9/2018 14:04|               7/25/2018 0:00|\n",
      "|0005a1a1728c9d785...|16150771dfd477626...|   delivered|         3/19/2018 18:40|  3/20/2018 18:35|              3/28/2018 0:37|              3/29/2018 18:17|               3/29/2018 0:00|\n",
      "|0005f50442cb953dc...|351d3cb2cee3c7fd0...|   delivered|          7/2/2018 13:59|   7/2/2018 14:10|              7/3/2018 14:25|               7/4/2018 17:28|               7/23/2018 0:00|\n",
      "|00061f2a7bc09da83...|c6fc061d86fab1e2b...|   delivered|         3/24/2018 22:16|  3/24/2018 22:28|              3/27/2018 5:26|               3/29/2018 0:04|                4/9/2018 0:00|\n",
      "|00063b381e2406b52...|6a899e55865de6549...|   delivered|         7/27/2018 17:21|  7/27/2018 18:00|             7/30/2018 14:52|               8/7/2018 13:56|                8/7/2018 0:00|\n",
      "|0006ec9db01a64e59...|5d178120c29c61748...|   delivered|         7/24/2018 17:04|  7/24/2018 17:24|             7/25/2018 11:02|               7/31/2018 1:04|               8/22/2018 0:00|\n",
      "|0008288aa423d2a3f...|2355af7c75e7c98b4...|   delivered|         2/13/2018 22:10|   2/15/2018 3:55|             2/20/2018 18:23|              2/26/2018 13:55|                3/6/2018 0:00|\n",
      "|0009792311464db53...|2a30c97668e81df7c...|   delivered|         8/14/2018 20:43|  8/15/2018 12:15|             8/15/2018 15:28|              8/22/2018 12:02|               8/28/2018 0:00|\n",
      "|0009c9a17f916a706...|8a250edc40ebc5c39...|   delivered|          4/25/2018 9:10|   4/25/2018 9:33|             4/27/2018 15:14|              4/30/2018 17:54|                5/9/2018 0:00|\n",
      "|000aed2e25dbad2f9...|fff5169e583fd07fa...|   delivered|         5/11/2018 20:33|  5/11/2018 20:57|             5/16/2018 14:26|              5/18/2018 16:46|               5/22/2018 0:00|\n",
      "|000c3e6612759851c...|3773bcf1a6fbd2923...|   delivered|         8/12/2017 10:08|   8/15/2017 3:35|             8/15/2017 15:32|              8/19/2017 15:22|                9/1/2017 0:00|\n",
      "|000e562887b1f2006...|2b01d668726fb0b75...|   delivered|         2/22/2018 11:54|  2/22/2018 12:08|             2/26/2018 14:18|              3/12/2018 18:46|               3/19/2018 0:00|\n",
      "|000e63d38ae8c00bb...|98884e672c5ba85f4...|   delivered|         3/23/2018 19:48|  3/23/2018 20:07|             3/26/2018 21:38|              3/27/2018 14:51|                4/5/2018 0:00|\n",
      "+--------------------+--------------------+------------+------------------------+-----------------+----------------------------+-----------------------------+-----------------------------+\n",
      "only showing top 20 rows\n",
      "\n"
     ]
    }
   ],
   "source": [
    "df_orders.show()"
   ]
  },
  {
   "cell_type": "code",
   "execution_count": 28,
   "metadata": {
    "colab": {
     "base_uri": "https://localhost:8080/",
     "height": 51
    },
    "colab_type": "code",
    "id": "hn7WPp5atoH_",
    "outputId": "14b1efd8-e586-46d2-d98d-b6bebc80301c"
   },
   "outputs": [
    {
     "name": "stdout",
     "output_type": "stream",
     "text": [
      "The number of customer: 99441\n",
      "The number of order: 99441\n"
     ]
    }
   ],
   "source": [
    "print \"The number of customer:\", customer_geo.count()\n",
    "print \"The number of order:\", df_orders.count()"
   ]
  },
  {
   "cell_type": "code",
   "execution_count": 29,
   "metadata": {
    "colab": {
     "base_uri": "https://localhost:8080/",
     "height": 496
    },
    "colab_type": "code",
    "id": "0LwoFDYeteLm",
    "outputId": "a4955d08-1c3c-43c9-f13f-1178a6a4baab"
   },
   "outputs": [
    {
     "name": "stdout",
     "output_type": "stream",
     "text": [
      "+--------------------+--------------------+------------+------------------------+-----------------+----------------------------+-----------------------------+-----------------------------+--------------------+------------------------+--------------------+--------------+------------------------+------------------------+\n",
      "|         customer_id|            order_id|order_status|order_purchase_timestamp|order_approved_at|order_delivered_carrier_date|order_delivered_customer_date|order_estimated_delivery_date|  customer_unique_id|customer_zip_code_prefix|       customer_city|customer_state|customer_geolocation_lat|customer_geolocation_lng|\n",
      "+--------------------+--------------------+------------+------------------------+-----------------+----------------------------+-----------------------------+-----------------------------+--------------------+------------------------+--------------------+--------------+------------------------+------------------------+\n",
      "|01d190d14b00073f7...|975a0290ce9c93595...|   delivered|         11/29/2017 0:11|  11/29/2017 0:19|             12/5/2017 13:32|             12/11/2017 16:57|              12/19/2017 0:00|2e5dcf79b225e8d16...|                    2925|           sao paulo|            SP|            -23.50194676|            -46.69850016|\n",
      "|03a7750fc7a7bfbd7...|01a15ee6a1b9050e7...|   delivered|         6/17/2018 15:15|  6/17/2018 15:40|             6/18/2018 15:12|              6/25/2018 23:55|               7/19/2018 0:00|ae7e471f70f6fb521...|                   83430|campina grande do...|            PR|            -25.34239807|            -49.08604296|\n",
      "|04495037fc6899faf...|89eb4ed6e96d62cb0...|   delivered|         4/22/2018 15:51|  4/24/2018 18:58|             4/24/2018 22:18|               5/4/2018 22:05|               5/21/2018 0:00|c611b2ddcec542760...|                   15953|             botelho|            SP|            -21.97589149|            -47.67509017|\n",
      "|04b7d26bde4f2d2fe...|8a5f32ecf64f7184e...|   delivered|         4/10/2017 13:53|  4/10/2017 14:05|              4/11/2017 8:36|              4/17/2017 15:38|                5/4/2017 0:00|9ef6d1d9fdc6511e4...|                   38067|             uberaba|            MG|            -19.72870706|            -47.93553366|\n",
      "|04cef6b920c0d8f16...|510489aaadbd8f706...|   delivered|         6/14/2018 17:31|  6/14/2018 17:58|             6/15/2018 18:52|              6/18/2018 18:18|                8/2/2018 0:00|6d0b86c615a3aa7ef...|                    3183|           sao paulo|            SP|            -23.56035694|            -46.59085955|\n",
      "|06199a7981ec14506...|727140332cb5607e8...|   delivered|         8/15/2018 16:22|  8/15/2018 16:30|             8/16/2018 15:00|              8/21/2018 17:48|               8/30/2018 0:00|70f023b13072d262c...|                    6653|             itapevi|            SP|            -23.54705354|            -46.92972088|\n",
      "|0632cb63610a5d7d5...|bc1b17c4df3e09a8d...|   delivered|         6/13/2018 15:41|  6/13/2018 16:19|             6/18/2018 11:55|              6/25/2018 16:32|               7/19/2018 0:00|df63b769c1d1fdecc...|                   86047|            londrina|            PR|            -23.34696576|            -51.17165906|\n",
      "|068d6956b4f2f9a39...|f3ae56eac64675dea...|   delivered|        11/24/2017 10:35| 11/24/2017 11:57|            11/27/2017 18:35|             11/29/2017 18:22|               12/8/2017 0:00|8423f43e004948316...|                   21010|      rio de janeiro|            RJ|            -22.82383918|            -43.30630185|\n",
      "|06cedf45bb3fda13a...|122154e627ed5da2a...|   delivered|         3/22/2018 16:06|  3/22/2018 16:50|              3/27/2018 1:06|              4/18/2018 16:16|               4/18/2018 0:00|95e4e31eda671dfa6...|                   46430|            guanambi|            BA|             -14.2232072|             -42.7833977|\n",
      "|0721e1c4b91bc6ded...|e916d25bf69bed22e...|   delivered|         10/12/2017 0:23| 10/13/2017 16:49|            10/16/2017 14:55|             10/24/2017 21:18|               11/7/2017 0:00|575523447cb727287...|                   28695|            papucaia|            RJ|            -22.60230695|            -42.76142623|\n",
      "|072d5af6d1c25d24d...|36450fdd3cb153380...|   delivered|         5/16/2018 21:25|  5/16/2018 21:54|             5/17/2018 13:55|               6/7/2018 17:03|                6/7/2018 0:00|889cdbc2157d4b7fc...|                   71917|            brasilia|            DF|            -15.83730565|            -48.02235903|\n",
      "|084f8b0a341a56540...|0fb7e532c96ad6dbf...|     shipped|          3/8/2018 23:02|   3/9/2018 17:40|              3/14/2018 0:51|                         null|                4/2/2018 0:00|6b9f4d0dffcaaaffd...|                   88133|             palhoca|            SC|            -27.62939454|            -48.66448389|\n",
      "|08793c36970e3c5f0...|52829e9959fca34bf...|   delivered|         3/13/2018 10:39|   3/14/2018 3:31|             3/15/2018 22:44|               4/6/2018 20:58|               4/13/2018 0:00|5347ddd0233c010fa...|                   30350|      belo horizonte|            MG|            -19.94807647|            -43.94761823|\n",
      "|088935be5a63fd416...|0ed2425a77fed414a...|   delivered|          5/2/2018 14:32|   5/2/2018 17:53|              5/4/2018 10:38|              5/22/2018 19:18|                6/6/2018 0:00|1d2dc2623f2616602...|                   22790|      rio de janeiro|            RJ|             -23.0129865|            -43.46551954|\n",
      "|0b60138b038f460ba...|0dfa86a9022c9929b...|   delivered|         7/26/2018 20:09|  7/26/2018 20:25|             7/27/2018 15:18|               8/8/2018 15:03|               8/22/2018 0:00|40aa7c86550b02c4f...|                   38810|       rio paranaiba|            MG|            -19.19942371|            -46.24321897|\n",
      "|0c30d6931a3ecd772...|1263bf7619d0024e7...|   delivered|          6/8/2018 15:17|   6/8/2018 16:30|             6/12/2018 14:50|              6/13/2018 22:03|               6/20/2018 0:00|5156800ff5ccf6659...|                    6386|         carapicuiba|            SP|            -23.53257175|            -46.84282293|\n",
      "|0cb635404b8b41e83...|1187d945103ffe5a5...|   delivered|           6/8/2017 9:43|    6/8/2017 9:55|             6/14/2017 12:52|              6/23/2017 12:42|                7/5/2017 0:00|c740e4e1f1ea15558...|                   22720|      rio de janeiro|            RJ|            -22.91816742|            -43.38651553|\n",
      "|0d878c03ad06e3772...|a15d904c9e9cfb9f1...|   delivered|         6/16/2018 23:41|   6/17/2018 1:38|             6/18/2018 15:38|              6/21/2018 20:34|               7/12/2018 0:00|181aaefc598fc4002...|                   36021|        juiz de fora|            MG|            -21.77455147|            -43.34134389|\n",
      "|0dc854e2d960e0657...|6be21280d401645f5...|   delivered|         11/25/2017 9:30|  11/25/2017 9:37|            11/28/2017 17:38|              12/2/2017 13:28|              12/15/2017 0:00|4e0bc30ac3248ad17...|                   36772|          cataguases|            MG|             -21.3975016|            -42.70084353|\n",
      "|0de46efc7d10114ac...|db999a5bcd3e9db87...|   delivered|         3/23/2017 13:25|  3/23/2017 13:25|             3/29/2017 15:16|              4/10/2017 18:24|               4/25/2017 0:00|19799906f242be82c...|                   42803|            camacari|            BA|            -12.71194872|             -38.3209908|\n",
      "+--------------------+--------------------+------------+------------------------+-----------------+----------------------------+-----------------------------+-----------------------------+--------------------+------------------------+--------------------+--------------+------------------------+------------------------+\n",
      "only showing top 20 rows\n",
      "\n"
     ]
    },
    {
     "data": {
      "text/plain": [
       "99441"
      ]
     },
     "execution_count": 29,
     "metadata": {
      "tags": []
     },
     "output_type": "execute_result"
    }
   ],
   "source": [
    "# Merge orders dataset and customers dataset!!!\n",
    "# These two datasets are same rows and they have same information because they are both included in order information.\n",
    "new_customer_geo = df_orders.join(customer_geo, on='customer_id', how='left')\n",
    "new_customer_geo.show()\n",
    "new_customer_geo.count()"
   ]
  },
  {
   "cell_type": "code",
   "execution_count": 30,
   "metadata": {
    "colab": {
     "base_uri": "https://localhost:8080/",
     "height": 51
    },
    "colab_type": "code",
    "id": "rNDWwsSVvJsE",
    "outputId": "cd1d2956-b673-402c-c226-d81f65b3552d"
   },
   "outputs": [
    {
     "name": "stdout",
     "output_type": "stream",
     "text": [
      "The number of order reviews: 105189\n",
      "The number of new_customer_geo: 99441\n"
     ]
    }
   ],
   "source": [
    "print \"The number of order reviews:\", df_order_reviews.count()\n",
    "print \"The number of new_customer_geo:\", new_customer_geo.count()"
   ]
  },
  {
   "cell_type": "code",
   "execution_count": 31,
   "metadata": {
    "colab": {
     "base_uri": "https://localhost:8080/",
     "height": 496
    },
    "colab_type": "code",
    "id": "dN2G1nPZtqnO",
    "outputId": "645960ab-5e0a-4e7d-ec3f-2e0b53dea36f"
   },
   "outputs": [
    {
     "name": "stdout",
     "output_type": "stream",
     "text": [
      "+--------------------+--------------------+------------+------------------------+-----------------+----------------------------+-----------------------------+-----------------------------+--------------------+------------------------+--------------------+--------------+------------------------+------------------------+--------------------+------------+--------------------+----------------------+--------------------+-----------------------+\n",
      "|            order_id|         customer_id|order_status|order_purchase_timestamp|order_approved_at|order_delivered_carrier_date|order_delivered_customer_date|order_estimated_delivery_date|  customer_unique_id|customer_zip_code_prefix|       customer_city|customer_state|customer_geolocation_lat|customer_geolocation_lng|           review_id|review_score|review_comment_title|review_comment_message|review_creation_date|review_answer_timestamp|\n",
      "+--------------------+--------------------+------------+------------------------+-----------------+----------------------------+-----------------------------+-----------------------------+--------------------+------------------------+--------------------+--------------+------------------------+------------------------+--------------------+------------+--------------------+----------------------+--------------------+-----------------------+\n",
      "|014405982914c2cde...|2de342d6e5905a5a8...|   delivered|         7/26/2017 17:38|  7/26/2017 17:50|             7/27/2017 19:39|              7/31/2017 15:53|               8/17/2017 0:00|e8d87ee946600f775...|                   26551|            mesquita|            RJ|            -22.78170709|            -43.42552236|ba5e6d78da2b2c3f5...|           5|                null|                  null| 2017-08-01 00:00:00|    2017-08-04 19:34:54|\n",
      "|019886de8f385a39b...|8cf88d7ba142365ef...|   delivered|         2/10/2018 12:52|  2/10/2018 13:08|             2/14/2018 15:28|               2/23/2018 2:03|               3/14/2018 0:00|d29ede26cd3e2817b...|                   79092|        campo grande|            MS|            -20.49786195|            -54.65611695|3a6ebeb7f45583720...|           5|                null|  Produto foi entre...| 2018-02-24 00:00:00|    2018-02-27 15:10:57|\n",
      "|01a6ad782455876aa...|71accffbcbdf8e02f...|   delivered|         1/18/2018 10:07|  1/18/2018 10:17|             1/22/2018 22:37|               2/1/2018 21:02|               2/20/2018 0:00|31c23262d79bc7e80...|                   98801|        santo angelo|            RS|            -28.30487551|            -54.26489554|34fdf58aa22a5d9c4...|           3|                null|                  null| 2018-02-02 00:00:00|    2018-02-05 09:59:55|\n",
      "|01d907b3e209269e1...|d02cc92f5e33eb58d...|   delivered|          8/9/2017 16:21|  8/10/2017 10:25|             8/11/2017 19:05|              8/16/2017 22:34|               8/29/2017 0:00|a7b781410bcc8bbf3...|                    8503|ferraz de vasconc...|            SP|            -23.54853848|            -46.36050899|d551da337adf573d0...|           5|                null|                  null| 2017-08-17 00:00:00|    2017-08-20 20:01:58|\n",
      "|028dc52e12ddda803...|8c89a09d8fb33b6e5...|   delivered|         12/19/2017 9:43| 12/19/2017 10:53|            12/20/2017 16:49|             12/21/2017 14:22|                1/8/2018 0:00|148a35e3469010c97...|                    8550|                 poa|            SP|            -23.52194421|            -46.34087493|a096e8952867d5803...|           5|                null|  Já comprei divers...| 2017-12-22 00:00:00|    2017-12-23 13:02:52|\n",
      "|036dd381dfb3ec75e...|00f5116a953fdf1b8...|   delivered|          9/4/2017 22:25|   9/4/2017 22:43|              9/5/2017 20:49|              9/13/2017 20:36|               9/27/2017 0:00|9f268d26a5ab98397...|                   26325|           queimados|            RJ|            -22.72046602|            -43.55679726|32103f7ad6e08ff69...|           5|                null|                  null| 2017-09-14 00:00:00|    2017-11-04 11:30:12|\n",
      "|03ebfa9712b7dbc70...|4024b83c510f00432...|   delivered|         3/23/2018 11:20|  3/23/2018 18:48|             3/26/2018 21:17|              3/27/2018 15:04|                4/5/2018 0:00|60389b9628af3e1ed...|                    9280|         santo andre|            SP|            -23.64014378|            -46.51615948|6453879a422cb8285...|           5|                null|                  null| 2018-03-28 00:00:00|    2018-03-28 19:31:15|\n",
      "|0420da8d50a378401...|0949b5cf9adad08c1...|   delivered|          8/9/2018 16:42|   8/9/2018 17:35|             8/13/2018 12:48|              8/16/2018 19:45|               8/21/2018 0:00|ab2731479851fc801...|                   13563|          sao carlos|            SP|             -21.9868294|            -47.92561804|ae0ded69ab7874b11...|           5|               Otimo|  O produto e igual...| 2018-08-17 00:00:00|    2018-08-20 01:49:39|\n",
      "|05afef1c185862cab...|296de103322e463a1...|   delivered|         7/25/2017 10:47|  7/25/2017 11:03|             7/31/2017 15:49|              8/21/2017 21:10|                9/4/2017 0:00|7857dff0702239bcf...|                   59151|          parnamirim|            RN|            -5.883632921|            -35.20384949|671a65bed4c9881a0...|           4|                null|                  null| 2017-08-22 00:00:00|    2017-09-01 19:10:24|\n",
      "|05bef443b85068505...|4ff3f3945300d8e04...|   delivered|         5/30/2018 16:33|   6/1/2018 10:52|              6/1/2018 13:54|              6/26/2018 19:03|                7/5/2018 0:00|a63af578b9678bf77...|                   65065|            sao luis|            MA|            -2.500952454|            -44.22708376|77136b940e2015eb1...|           5|                null|                  null| 2018-06-27 00:00:00|    2018-06-29 22:41:03|\n",
      "|05d46826bd0fb605d...|c5a9ffc867b51a706...|   delivered|         8/27/2018 19:21|  8/27/2018 19:35|             8/28/2018 19:02|              8/29/2018 17:28|               9/11/2018 0:00|a75583a63d1dc5591...|                    4116|           sao paulo|            SP|            -23.59251095|            -46.62549344|4ebd94e5936c7f442...|           4| Chegou super rapido|  Chegou super rápi...| 2018-08-30 00:00:00|    2018-08-31 00:46:55|\n",
      "|06fec3f6e9e72edb6...|b6fe463c461a6e4fe...|   delivered|         6/14/2018 14:55|  6/14/2018 15:20|             6/15/2018 17:25|               7/11/2018 0:38|               7/19/2018 0:00|ad8dc8878b71d1a54...|                   57055|              maceio|            AL|            -9.635531947|             -35.7397505|4dabd36c045ad78b9...|           2|                null|                  null| 2018-07-12 00:00:00|    2018-07-12 16:46:43|\n",
      "|077700dcf4e3bb412...|aa7885fdaef957a25...|   delivered|        11/20/2017 11:46| 11/20/2017 12:07|            11/22/2017 17:33|             11/29/2017 13:51|              12/11/2017 0:00|64c28dc9ff718fe40...|                   30520|      belo horizonte|            MG|            -19.94041113|            -44.01845243|7ca10e3bb1fcea458...|           5|                null|                  null| 2017-11-30 00:00:00|    2017-12-02 22:36:46|\n",
      "|078c2d9bb7e5905e8...|0a3459f8f647c5483...|   delivered|         3/25/2018 11:28|  3/25/2018 11:47|             3/26/2018 20:31|              3/28/2018 15:48|               4/13/2018 0:00|1f706bf3d8588cd35...|                   31035|      belo horizonte|            MG|            -19.89826888|             -43.9205695|0fe1925ee5bc8adcd...|           3|                null|  Nao recebi a capa...| 2018-03-29 00:00:00|    2018-04-02 17:47:34|\n",
      "|08791ec24b12af5af...|98910418a06188d89...|   delivered|          4/17/2018 8:38|  4/18/2018 15:45|              4/20/2018 0:03|              4/25/2018 14:13|               5/17/2018 0:00|96297b7f2c89525e5...|                   88901|           ararangua|            SC|            -28.94404447|            -49.49918341|63602d1a0f1a329ae...|           5|                   5|  Chegou dentro do ...| 2018-04-26 00:00:00|    2018-04-29 01:01:06|\n",
      "|08b450b388221bfe5...|48484f48de7aa7c06...|   delivered|          11/1/2017 1:48|   11/1/2017 2:06|             11/1/2017 19:22|              11/7/2017 16:32|              11/23/2017 0:00|25e840a7c51ad06c6...|                   88130|             palhoca|            SC|            -27.63653957|            -48.65548932|bbab8347323754372...|           1|                null|  o produto anuncia...| 2017-11-08 00:00:00|    2017-12-26 20:11:21|\n",
      "|0957ed870116e596b...|0f0603d577f299ca1...|   delivered|         1/29/2017 22:14|  1/29/2017 22:33|              1/30/2017 8:27|               2/8/2017 17:14|               3/20/2017 0:00|903fccb1294b588a6...|                   59086|               natal|            RN|            -5.866604369|            -35.21027288|25220e954a5481d5b...|           5|                null|                  null| 2017-02-10 00:00:00|    2017-02-10 08:18:57|\n",
      "|09868b0eb512bfbbe...|09b383911c9df8366...|   delivered|         3/21/2017 16:04|  3/21/2017 16:04|              3/22/2017 9:12|              3/29/2017 14:06|               4/11/2017 0:00|690320ceb16aaf86d...|                    4348|           sao paulo|            SP|            -23.64502318|             -46.6502445|a48dd5824a95a050b...|           1|                null|                 otimo| 2017-03-30 00:00:00|    2017-04-03 22:59:03|\n",
      "|099d60cb800db65a7...|b10fe33654a6d22ae...|   delivered|          5/8/2018 22:56|   5/8/2018 23:11|              5/9/2018 11:43|              5/15/2018 16:27|                6/4/2018 0:00|7e1013f7423cda110...|                    2367|           sao paulo|            SP|            -23.46227028|            -46.59380392|c849daf583f57fd34...|           3|    Pedido de troca |  Satisfeito com o ...|                null|                   null|\n",
      "|09e90e3936db197d4...|35eb8474043d903a1...|   delivered|          8/2/2018 14:21|    8/3/2018 2:43|              8/3/2018 18:19|               8/9/2018 22:11|               8/16/2018 0:00|a689fe2b66cd8b68f...|                   11630|            ilhabela|            SP|            -23.81452622|            -45.36872586|fcbfcc15cd98e7417...|           1|   Entrega nao feita|  O pedido esta com...| 2018-08-10 00:00:00|    2018-08-14 12:12:06|\n",
      "+--------------------+--------------------+------------+------------------------+-----------------+----------------------------+-----------------------------+-----------------------------+--------------------+------------------------+--------------------+--------------+------------------------+------------------------+--------------------+------------+--------------------+----------------------+--------------------+-----------------------+\n",
      "only showing top 20 rows\n",
      "\n"
     ]
    },
    {
     "data": {
      "text/plain": [
       "100000"
      ]
     },
     "execution_count": 31,
     "metadata": {
      "tags": []
     },
     "output_type": "execute_result"
    }
   ],
   "source": [
    "# Merge orders-customers dataset with order_review!!!\n",
    "# We use left-join (orders <- order_review) because the orders dataset included more information and the orders dataset is our baseline dataset.\n",
    "new_customer_geo_review_ = new_customer_geo.join(df_order_reviews, on='order_id', how='left')\n",
    "new_customer_geo_review_.show()\n",
    "new_customer_geo_review_.count()"
   ]
  },
  {
   "cell_type": "code",
   "execution_count": 32,
   "metadata": {
    "colab": {
     "base_uri": "https://localhost:8080/",
     "height": 459
    },
    "colab_type": "code",
    "id": "Yri3L4en0SQb",
    "outputId": "0081493b-eea1-4306-8794-aac103f059b9"
   },
   "outputs": [
    {
     "name": "stdout",
     "output_type": "stream",
     "text": [
      "+--------------------+--------------------+------------+--------------------+----------------------+--------------------+-----------------------+\n",
      "|           review_id|            order_id|review_score|review_comment_title|review_comment_message|review_creation_date|review_answer_timestamp|\n",
      "+--------------------+--------------------+------------+--------------------+----------------------+--------------------+-----------------------+\n",
      "|7bc2406110b926393...|73fc7af87114b3971...|           4|                null|                  null| 2018-01-18 00:00:00|    2018-01-18 21:46:59|\n",
      "|80e641a11e56f04c1...|a548910a1c6147796...|           5|                null|                  null| 2018-03-10 00:00:00|    2018-03-11 03:05:13|\n",
      "|228ce5500dc1d8e02...|f9e4b658b201a9f2e...|           5|                null|                  null| 2018-02-17 00:00:00|    2018-02-18 14:36:24|\n",
      "|e64fb393e7b32834b...|658677c97b385a9be...|           5|                null|  Recebi bem antes ...| 2017-04-21 00:00:00|    2017-04-21 22:02:06|\n",
      "|f7c4243c7fe1938f1...|8e6bfb81e283fa7e4...|           5|                null|  Parabéns lojas la...| 2018-03-01 00:00:00|    2018-03-02 10:26:53|\n",
      "|15197aa66ff4d0650...|b18dcdf73be663668...|           1|                null|                  null| 2018-04-13 00:00:00|    2018-04-16 00:39:37|\n",
      "|07f9bee5d1b850860...|e48aa0d2dcec3a2e8...|           5|                null|                  null| 2017-07-16 00:00:00|    2017-07-18 19:30:34|\n",
      "|7c6400515c67679fb...|c31a859e34e3adac2...|           5|                null|                  null| 2018-08-14 00:00:00|    2018-08-14 21:36:06|\n",
      "|a3f6f7f6f433de0ae...|9c214ac970e842735...|           5|                null|                  null| 2017-05-17 00:00:00|    2017-05-18 12:05:37|\n",
      "|8670d52e15e00043a...|b9bf720beb4ab3728...|           4|           recomendo|  aparelho eficient...| 2018-05-22 00:00:00|    2018-05-23 16:45:47|\n",
      "|c9cfd2d5ab5911836...|cdf9aa68e72324eeb...|           5|                null|                  null| 2017-12-23 00:00:00|    2017-12-26 14:36:03|\n",
      "|96052551d87e5f62e...|3d374c9e46530bb5e...|           5|                null|                  null| 2017-12-19 00:00:00|    2017-12-20 10:25:22|\n",
      "|4b49719c8a200003f...|9d6f15f95d01e79bd...|           4|                null|  Mas um pouco ,tra...|                null|                   null|\n",
      "|,2018-02-16 00:00...|                null|        null|                null|                  null|                null|                   null|\n",
      "|23f75a37effc35d9a...|2eaf8e099d871cd5c...|           4|                null|                  null| 2018-03-28 00:00:00|    2018-03-30 15:10:55|\n",
      "|9a0abbb668bafb95a...|d7bd0e4afdf94846e...|           3|                null|                  null| 2017-04-30 00:00:00|    2017-05-03 00:02:22|\n",
      "|3948b09f7c818e2d8...|e51478e7e277a8374...|           5|     Super recomendo|  Vendedor confiáve...| 2018-05-23 00:00:00|    2018-05-24 03:00:01|\n",
      "|9314d6f9799f5bfba...|0dacf04c5ad59fd5a...|           2|                null|  GOSTARIA DE SABER...| 2018-01-18 00:00:00|    2018-01-20 21:25:45|\n",
      "|8e15a274d95600fa1...|ff1581e08b3011021...|           5|                null|                  null| 2018-03-24 00:00:00|    2018-03-26 15:58:32|\n",
      "|fdbdb2629a7cde0f6...|70a752414a13d09cc...|           3|                null|                  null| 2017-09-29 00:00:00|    2017-10-02 01:12:49|\n",
      "+--------------------+--------------------+------------+--------------------+----------------------+--------------------+-----------------------+\n",
      "only showing top 20 rows\n",
      "\n"
     ]
    }
   ],
   "source": [
    "df_order_reviews.show()"
   ]
  },
  {
   "cell_type": "code",
   "execution_count": 33,
   "metadata": {
    "colab": {
     "base_uri": "https://localhost:8080/",
     "height": 187
    },
    "colab_type": "code",
    "id": "m9KLpCJezbWh",
    "outputId": "8030ec6f-4867-4914-fdbd-d82444abd39a"
   },
   "outputs": [
    {
     "name": "stdout",
     "output_type": "stream",
     "text": [
      "root\n",
      " |-- review_id: string (nullable = true)\n",
      " |-- order_id: string (nullable = true)\n",
      " |-- review_score: string (nullable = true)\n",
      " |-- review_comment_title: string (nullable = true)\n",
      " |-- review_comment_message: string (nullable = true)\n",
      " |-- review_creation_date: string (nullable = true)\n",
      " |-- review_answer_timestamp: string (nullable = true)\n",
      "\n"
     ]
    },
    {
     "data": {
      "text/plain": [
       "100563"
      ]
     },
     "execution_count": 33,
     "metadata": {
      "tags": []
     },
     "output_type": "execute_result"
    }
   ],
   "source": [
    "df_order_reviews_pdf = df_order_reviews.toPandas()\n",
    "df_dedupe = df_order_reviews_pdf.drop_duplicates(subset=['order_id'], keep='last', inplace=False)\n",
    "new_order_reviews = spark.createDataFrame(df_dedupe, ['review_id','order_id','review_score','review_comment_title','review_comment_message','review_creation_date','review_answer_timestamp'])\n",
    "new_order_reviews.printSchema()\n",
    "new_order_reviews.count()"
   ]
  },
  {
   "cell_type": "code",
   "execution_count": 34,
   "metadata": {
    "colab": {
     "base_uri": "https://localhost:8080/",
     "height": 51
    },
    "colab_type": "code",
    "id": "9xIJPlPFAupd",
    "outputId": "abf948b1-2225-4dbf-977b-a20bb6927261"
   },
   "outputs": [
    {
     "name": "stdout",
     "output_type": "stream",
     "text": [
      "Before handling the duplicated rows, the number of order reviews: 105189\n",
      "After handling the duplicated rows, the number of order reviews: 100563\n"
     ]
    }
   ],
   "source": [
    "# There are some problems because the number of row are changing. It has to be same so we look through the order review dataset and find out that there are some duplicated order id that make it hard to merge.\n",
    "# So, we drop the duplicated review on same order id.\n",
    "print \"Before handling the duplicated rows, the number of order reviews:\", df_order_reviews.count()\n",
    "print \"After handling the duplicated rows, the number of order reviews:\",new_order_reviews.count()"
   ]
  },
  {
   "cell_type": "code",
   "execution_count": 0,
   "metadata": {
    "colab": {},
    "colab_type": "code",
    "id": "ymCbYWzkBrBt"
   },
   "outputs": [],
   "source": [
    "#new_order_reviews = df_order_reviews.drop_duplicates(subset=['order_id'])"
   ]
  },
  {
   "cell_type": "code",
   "execution_count": 36,
   "metadata": {
    "colab": {
     "base_uri": "https://localhost:8080/",
     "height": 496
    },
    "colab_type": "code",
    "id": "1w8TAU-oBomY",
    "outputId": "f24f5246-61eb-4287-d2fe-a5986568819a"
   },
   "outputs": [
    {
     "name": "stdout",
     "output_type": "stream",
     "text": [
      "+--------------------+--------------------+------------+------------------------+-----------------+----------------------------+-----------------------------+-----------------------------+--------------------+------------------------+--------------------+--------------+------------------------+------------------------+--------------------+------------+--------------------+----------------------+--------------------+-----------------------+\n",
      "|            order_id|         customer_id|order_status|order_purchase_timestamp|order_approved_at|order_delivered_carrier_date|order_delivered_customer_date|order_estimated_delivery_date|  customer_unique_id|customer_zip_code_prefix|       customer_city|customer_state|customer_geolocation_lat|customer_geolocation_lng|           review_id|review_score|review_comment_title|review_comment_message|review_creation_date|review_answer_timestamp|\n",
      "+--------------------+--------------------+------------+------------------------+-----------------+----------------------------+-----------------------------+-----------------------------+--------------------+------------------------+--------------------+--------------+------------------------+------------------------+--------------------+------------+--------------------+----------------------+--------------------+-----------------------+\n",
      "|014405982914c2cde...|2de342d6e5905a5a8...|   delivered|         7/26/2017 17:38|  7/26/2017 17:50|             7/27/2017 19:39|              7/31/2017 15:53|               8/17/2017 0:00|e8d87ee946600f775...|                   26551|            mesquita|            RJ|            -22.78170709|            -43.42552236|ba5e6d78da2b2c3f5...|           5|                null|                  null| 2017-08-01 00:00:00|    2017-08-04 19:34:54|\n",
      "|019886de8f385a39b...|8cf88d7ba142365ef...|   delivered|         2/10/2018 12:52|  2/10/2018 13:08|             2/14/2018 15:28|               2/23/2018 2:03|               3/14/2018 0:00|d29ede26cd3e2817b...|                   79092|        campo grande|            MS|            -20.49786195|            -54.65611695|3a6ebeb7f45583720...|           5|                null|  Produto foi entre...| 2018-02-24 00:00:00|    2018-02-27 15:10:57|\n",
      "|01a6ad782455876aa...|71accffbcbdf8e02f...|   delivered|         1/18/2018 10:07|  1/18/2018 10:17|             1/22/2018 22:37|               2/1/2018 21:02|               2/20/2018 0:00|31c23262d79bc7e80...|                   98801|        santo angelo|            RS|            -28.30487551|            -54.26489554|34fdf58aa22a5d9c4...|           3|                null|                  null| 2018-02-02 00:00:00|    2018-02-05 09:59:55|\n",
      "|01d907b3e209269e1...|d02cc92f5e33eb58d...|   delivered|          8/9/2017 16:21|  8/10/2017 10:25|             8/11/2017 19:05|              8/16/2017 22:34|               8/29/2017 0:00|a7b781410bcc8bbf3...|                    8503|ferraz de vasconc...|            SP|            -23.54853848|            -46.36050899|d551da337adf573d0...|           5|                null|                  null| 2017-08-17 00:00:00|    2017-08-20 20:01:58|\n",
      "|028dc52e12ddda803...|8c89a09d8fb33b6e5...|   delivered|         12/19/2017 9:43| 12/19/2017 10:53|            12/20/2017 16:49|             12/21/2017 14:22|                1/8/2018 0:00|148a35e3469010c97...|                    8550|                 poa|            SP|            -23.52194421|            -46.34087493|a096e8952867d5803...|           5|                null|  Já comprei divers...| 2017-12-22 00:00:00|    2017-12-23 13:02:52|\n",
      "|036dd381dfb3ec75e...|00f5116a953fdf1b8...|   delivered|          9/4/2017 22:25|   9/4/2017 22:43|              9/5/2017 20:49|              9/13/2017 20:36|               9/27/2017 0:00|9f268d26a5ab98397...|                   26325|           queimados|            RJ|            -22.72046602|            -43.55679726|32103f7ad6e08ff69...|           5|                null|                  null| 2017-09-14 00:00:00|    2017-11-04 11:30:12|\n",
      "|03ebfa9712b7dbc70...|4024b83c510f00432...|   delivered|         3/23/2018 11:20|  3/23/2018 18:48|             3/26/2018 21:17|              3/27/2018 15:04|                4/5/2018 0:00|60389b9628af3e1ed...|                    9280|         santo andre|            SP|            -23.64014378|            -46.51615948|6453879a422cb8285...|           5|                null|                  null| 2018-03-28 00:00:00|    2018-03-28 19:31:15|\n",
      "|0420da8d50a378401...|0949b5cf9adad08c1...|   delivered|          8/9/2018 16:42|   8/9/2018 17:35|             8/13/2018 12:48|              8/16/2018 19:45|               8/21/2018 0:00|ab2731479851fc801...|                   13563|          sao carlos|            SP|             -21.9868294|            -47.92561804|ae0ded69ab7874b11...|           5|               Otimo|  O produto e igual...| 2018-08-17 00:00:00|    2018-08-20 01:49:39|\n",
      "|05afef1c185862cab...|296de103322e463a1...|   delivered|         7/25/2017 10:47|  7/25/2017 11:03|             7/31/2017 15:49|              8/21/2017 21:10|                9/4/2017 0:00|7857dff0702239bcf...|                   59151|          parnamirim|            RN|            -5.883632921|            -35.20384949|671a65bed4c9881a0...|           4|                null|                  null| 2017-08-22 00:00:00|    2017-09-01 19:10:24|\n",
      "|05bef443b85068505...|4ff3f3945300d8e04...|   delivered|         5/30/2018 16:33|   6/1/2018 10:52|              6/1/2018 13:54|              6/26/2018 19:03|                7/5/2018 0:00|a63af578b9678bf77...|                   65065|            sao luis|            MA|            -2.500952454|            -44.22708376|77136b940e2015eb1...|           5|                null|                  null| 2018-06-27 00:00:00|    2018-06-29 22:41:03|\n",
      "|05d46826bd0fb605d...|c5a9ffc867b51a706...|   delivered|         8/27/2018 19:21|  8/27/2018 19:35|             8/28/2018 19:02|              8/29/2018 17:28|               9/11/2018 0:00|a75583a63d1dc5591...|                    4116|           sao paulo|            SP|            -23.59251095|            -46.62549344|4ebd94e5936c7f442...|           4| Chegou super rapido|  Chegou super rápi...| 2018-08-30 00:00:00|    2018-08-31 00:46:55|\n",
      "|06fec3f6e9e72edb6...|b6fe463c461a6e4fe...|   delivered|         6/14/2018 14:55|  6/14/2018 15:20|             6/15/2018 17:25|               7/11/2018 0:38|               7/19/2018 0:00|ad8dc8878b71d1a54...|                   57055|              maceio|            AL|            -9.635531947|             -35.7397505|4dabd36c045ad78b9...|           2|                null|                  null| 2018-07-12 00:00:00|    2018-07-12 16:46:43|\n",
      "|077700dcf4e3bb412...|aa7885fdaef957a25...|   delivered|        11/20/2017 11:46| 11/20/2017 12:07|            11/22/2017 17:33|             11/29/2017 13:51|              12/11/2017 0:00|64c28dc9ff718fe40...|                   30520|      belo horizonte|            MG|            -19.94041113|            -44.01845243|7ca10e3bb1fcea458...|           5|                null|                  null| 2017-11-30 00:00:00|    2017-12-02 22:36:46|\n",
      "|078c2d9bb7e5905e8...|0a3459f8f647c5483...|   delivered|         3/25/2018 11:28|  3/25/2018 11:47|             3/26/2018 20:31|              3/28/2018 15:48|               4/13/2018 0:00|1f706bf3d8588cd35...|                   31035|      belo horizonte|            MG|            -19.89826888|             -43.9205695|0fe1925ee5bc8adcd...|           3|                null|  Nao recebi a capa...| 2018-03-29 00:00:00|    2018-04-02 17:47:34|\n",
      "|08791ec24b12af5af...|98910418a06188d89...|   delivered|          4/17/2018 8:38|  4/18/2018 15:45|              4/20/2018 0:03|              4/25/2018 14:13|               5/17/2018 0:00|96297b7f2c89525e5...|                   88901|           ararangua|            SC|            -28.94404447|            -49.49918341|63602d1a0f1a329ae...|           5|                   5|  Chegou dentro do ...| 2018-04-26 00:00:00|    2018-04-29 01:01:06|\n",
      "|08b450b388221bfe5...|48484f48de7aa7c06...|   delivered|          11/1/2017 1:48|   11/1/2017 2:06|             11/1/2017 19:22|              11/7/2017 16:32|              11/23/2017 0:00|25e840a7c51ad06c6...|                   88130|             palhoca|            SC|            -27.63653957|            -48.65548932|bbab8347323754372...|           1|                null|  o produto anuncia...| 2017-11-08 00:00:00|    2017-12-26 20:11:21|\n",
      "|0957ed870116e596b...|0f0603d577f299ca1...|   delivered|         1/29/2017 22:14|  1/29/2017 22:33|              1/30/2017 8:27|               2/8/2017 17:14|               3/20/2017 0:00|903fccb1294b588a6...|                   59086|               natal|            RN|            -5.866604369|            -35.21027288|25220e954a5481d5b...|           5|                null|                  null| 2017-02-10 00:00:00|    2017-02-10 08:18:57|\n",
      "|09868b0eb512bfbbe...|09b383911c9df8366...|   delivered|         3/21/2017 16:04|  3/21/2017 16:04|              3/22/2017 9:12|              3/29/2017 14:06|               4/11/2017 0:00|690320ceb16aaf86d...|                    4348|           sao paulo|            SP|            -23.64502318|             -46.6502445|a48dd5824a95a050b...|           1|                null|                 otimo| 2017-03-30 00:00:00|    2017-04-03 22:59:03|\n",
      "|099d60cb800db65a7...|b10fe33654a6d22ae...|   delivered|          5/8/2018 22:56|   5/8/2018 23:11|              5/9/2018 11:43|              5/15/2018 16:27|                6/4/2018 0:00|7e1013f7423cda110...|                    2367|           sao paulo|            SP|            -23.46227028|            -46.59380392|c849daf583f57fd34...|           3|    Pedido de troca |  Satisfeito com o ...|                null|                   null|\n",
      "|09e90e3936db197d4...|35eb8474043d903a1...|   delivered|          8/2/2018 14:21|    8/3/2018 2:43|              8/3/2018 18:19|               8/9/2018 22:11|               8/16/2018 0:00|a689fe2b66cd8b68f...|                   11630|            ilhabela|            SP|            -23.81452622|            -45.36872586|fcbfcc15cd98e7417...|           1|   Entrega nao feita|  O pedido esta com...| 2018-08-10 00:00:00|    2018-08-14 12:12:06|\n",
      "+--------------------+--------------------+------------+------------------------+-----------------+----------------------------+-----------------------------+-----------------------------+--------------------+------------------------+--------------------+--------------+------------------------+------------------------+--------------------+------------+--------------------+----------------------+--------------------+-----------------------+\n",
      "only showing top 20 rows\n",
      "\n"
     ]
    },
    {
     "data": {
      "text/plain": [
       "99441"
      ]
     },
     "execution_count": 36,
     "metadata": {
      "tags": []
     },
     "output_type": "execute_result"
    }
   ],
   "source": [
    "# Merge orders-customers dataset with order_review!!!\n",
    "# We use left-join (orders <- order_review) because the orders dataset included more information and the orders dataset is our baseline dataset.\n",
    "new_customer_geo_review = new_customer_geo.join(new_order_reviews, on='order_id', how='left')\n",
    "new_customer_geo_review.show()\n",
    "new_customer_geo_review.count()"
   ]
  },
  {
   "cell_type": "markdown",
   "metadata": {
    "colab_type": "text",
    "id": "pQr1nEf_C9pv"
   },
   "source": [
    "### 3. Merge order payment dataset with order_customer_geo_review dataset"
   ]
  },
  {
   "cell_type": "code",
   "execution_count": 37,
   "metadata": {
    "colab": {
     "base_uri": "https://localhost:8080/",
     "height": 34
    },
    "colab_type": "code",
    "id": "jPSwbAQiG8Gz",
    "outputId": "3cfbbe0f-0e5e-46cb-cd34-581d4a27a05c"
   },
   "outputs": [
    {
     "data": {
      "text/plain": [
       "[Row(order_id=u'b81ef226f3fe1789b1e8b2acac839d17', payment_sequential=1, payment_type=u'credit_card', payment_installments=8, payment_value=99.33)]"
      ]
     },
     "execution_count": 37,
     "metadata": {
      "tags": []
     },
     "output_type": "execute_result"
    }
   ],
   "source": [
    "# drop the rows in which the payment type shows \"not defined\"\n",
    "order_payments = df_order_payments.rdd.filter(lambda s: s[2] != \"not_defined\")\n",
    "order_payments.take(1)"
   ]
  },
  {
   "cell_type": "code",
   "execution_count": 0,
   "metadata": {
    "colab": {},
    "colab_type": "code",
    "id": "AzT8M0oIHxfV"
   },
   "outputs": [],
   "source": [
    "# create a payment type dict in order to create the sparse vector later\n",
    "payment_type_dict = {\"boleto\":0,\"credit_card\":1,\"debit_card\":2,\"voucher\":3}"
   ]
  },
  {
   "cell_type": "code",
   "execution_count": 39,
   "metadata": {
    "colab": {
     "base_uri": "https://localhost:8080/",
     "height": 34
    },
    "colab_type": "code",
    "id": "SUtIvXbSDx5E",
    "outputId": "afca81f9-92a6-4318-9b28-01d8b6e00132"
   },
   "outputs": [
    {
     "data": {
      "text/plain": [
       "[('4109e4ec2678abadacc06e7a540fec03', 51.98)]"
      ]
     },
     "execution_count": 39,
     "metadata": {
      "tags": []
     },
     "output_type": "execute_result"
    }
   ],
   "source": [
    "# subset: order_id, total_payment\n",
    "order_total_payment = order_payments.map(lambda s: (str(s[0]),float(s[4]))).reduceByKey(lambda a,b: a+b)\n",
    "order_total_payment.take(1)"
   ]
  },
  {
   "cell_type": "code",
   "execution_count": 40,
   "metadata": {
    "colab": {
     "base_uri": "https://localhost:8080/",
     "height": 34
    },
    "colab_type": "code",
    "id": "miRzH6SxDyAI",
    "outputId": "97fde723-1c4a-43ed-a6db-f423bd504469"
   },
   "outputs": [
    {
     "data": {
      "text/plain": [
       "99437"
      ]
     },
     "execution_count": 40,
     "metadata": {
      "tags": []
     },
     "output_type": "execute_result"
    }
   ],
   "source": [
    "# return to dataframe\n",
    "df_order_total_payment = order_total_payment.toDF([\"order_id\",\"total_payment\"])\n",
    "df_order_total_payment.count()"
   ]
  },
  {
   "cell_type": "code",
   "execution_count": 0,
   "metadata": {
    "colab": {},
    "colab_type": "code",
    "id": "1WYPku40EaYC"
   },
   "outputs": [],
   "source": [
    "from pyspark.mllib.linalg import Vectors, SparseVector"
   ]
  },
  {
   "cell_type": "code",
   "execution_count": 0,
   "metadata": {
    "colab": {},
    "colab_type": "code",
    "id": "v60luMON26Ci"
   },
   "outputs": [],
   "source": [
    "# order_payments.map(lambda s: ((str(s[0]),str(s[2])),float(s[4]))).reduceByKey(lambda a,b:a+b).map(lambda s: (s[0][0],(s[0][1],s[1]))).take(1)"
   ]
  },
  {
   "cell_type": "markdown",
   "metadata": {
    "colab_type": "text",
    "id": "v2DfOMco5Mr2"
   },
   "source": [
    "Amount of Transaction SV"
   ]
  },
  {
   "cell_type": "code",
   "execution_count": 43,
   "metadata": {
    "colab": {
     "base_uri": "https://localhost:8080/",
     "height": 85
    },
    "colab_type": "code",
    "id": "vERHMug5DyGR",
    "outputId": "d9b5848f-bb0d-42d4-f277-e3bc3240afaa"
   },
   "outputs": [
    {
     "data": {
      "text/plain": [
       "[('fe968a563e6c2d5c98021df7d87ce9c3', SparseVector(4, {1: 318.97})),\n",
       " ('4109e4ec2678abadacc06e7a540fec03', SparseVector(4, {1: 51.98})),\n",
       " ('7c48bf2308168ce82b8e622eb9dd8627', SparseVector(4, {1: 59.11})),\n",
       " ('6b8a860cec63279fe49b5649ca6bab42', SparseVector(4, {0: 85.23}))]"
      ]
     },
     "execution_count": 43,
     "metadata": {
      "tags": []
     },
     "output_type": "execute_result"
    }
   ],
   "source": [
    "# subset: order_id, payment_method_value_sparseVector\n",
    "def valueSparse(line):\n",
    "    id_val = []\n",
    "    for pair in line[1]:\n",
    "        id_val.append((payment_type_dict[pair[0]],pair[1]))\n",
    "    id_val = sorted(id_val)\n",
    "    ids = [x[0] for x in id_val]\n",
    "    vals = [x[1] for x in id_val]\n",
    "    return (line[0], SparseVector(4,ids,vals))\n",
    "order_type_value = order_payments.map(lambda s: ((str(s[0]),str(s[2])),float(s[4]))).reduceByKey(lambda a,b:a+b)\\\n",
    "                            .map(lambda s: (s[0][0],(s[0][1],s[1]))).groupByKey().map(valueSparse)\n",
    "order_type_value.take(4)"
   ]
  },
  {
   "cell_type": "code",
   "execution_count": 44,
   "metadata": {
    "colab": {
     "base_uri": "https://localhost:8080/",
     "height": 34
    },
    "colab_type": "code",
    "id": "DXpDj7eiEhsy",
    "outputId": "083eba09-8d73-4bb9-9aa1-bd604f495359"
   },
   "outputs": [
    {
     "data": {
      "text/plain": [
       "99437"
      ]
     },
     "execution_count": 44,
     "metadata": {
      "tags": []
     },
     "output_type": "execute_result"
    }
   ],
   "source": [
    "# return to dataframe\n",
    "df_order_type_value = order_type_value.toDF([\"order_id\",\"payment_type_value\"])\n",
    "df_order_type_value.count()"
   ]
  },
  {
   "cell_type": "markdown",
   "metadata": {
    "colab_type": "text",
    "id": "cpIYrYGF5EOo"
   },
   "source": [
    "Count of the Transactions SV\n"
   ]
  },
  {
   "cell_type": "code",
   "execution_count": 45,
   "metadata": {
    "colab": {
     "base_uri": "https://localhost:8080/",
     "height": 85
    },
    "colab_type": "code",
    "id": "NPm99vE3EtkZ",
    "outputId": "a97b511f-9c3c-43ed-ff5f-09a512da7655"
   },
   "outputs": [
    {
     "data": {
      "text/plain": [
       "[('fe968a563e6c2d5c98021df7d87ce9c3', SparseVector(4, {1: 10.0})),\n",
       " ('4109e4ec2678abadacc06e7a540fec03', SparseVector(4, {1: 3.0})),\n",
       " ('7c48bf2308168ce82b8e622eb9dd8627', SparseVector(4, {1: 1.0})),\n",
       " ('6b8a860cec63279fe49b5649ca6bab42', SparseVector(4, {0: 1.0}))]"
      ]
     },
     "execution_count": 45,
     "metadata": {
      "tags": []
     },
     "output_type": "execute_result"
    }
   ],
   "source": [
    "# subset: order_id, payment_type_count_sparseVector\n",
    "order_type_count = order_payments.map(lambda s: ((str(s[0]),str(s[2])),int(s[3]))).reduceByKey(lambda a,b: a+b)\\\n",
    "                            .map(lambda s: (s[0][0],(s[0][1],s[1]))).groupByKey().map(valueSparse)\n",
    "order_type_count.take(4)"
   ]
  },
  {
   "cell_type": "code",
   "execution_count": 46,
   "metadata": {
    "colab": {
     "base_uri": "https://localhost:8080/",
     "height": 34
    },
    "colab_type": "code",
    "id": "2NlScXb1E3IX",
    "outputId": "f7ebbaeb-5cb7-4d99-fc8e-3207247c2861"
   },
   "outputs": [
    {
     "data": {
      "text/plain": [
       "99437"
      ]
     },
     "execution_count": 46,
     "metadata": {
      "tags": []
     },
     "output_type": "execute_result"
    }
   ],
   "source": [
    "# return to dataframe\n",
    "df_order_type_count = order_type_count.toDF([\"order_id\",\"payment_type_count\"])\n",
    "df_order_type_count.count()"
   ]
  },
  {
   "cell_type": "code",
   "execution_count": 47,
   "metadata": {
    "colab": {
     "base_uri": "https://localhost:8080/",
     "height": 476
    },
    "colab_type": "code",
    "id": "62UsHMhFFCAI",
    "outputId": "87231b7f-3458-4bb6-bf9d-fb082e6590fb"
   },
   "outputs": [
    {
     "name": "stdout",
     "output_type": "stream",
     "text": [
      "+--------------------+-------------+------------------+------------------+\n",
      "|            order_id|total_payment|payment_type_count|payment_type_value|\n",
      "+--------------------+-------------+------------------+------------------+\n",
      "|014405982914c2cde...|        78.43|     (4,[1],[7.0])|   (4,[1],[78.43])|\n",
      "|019886de8f385a39b...|        188.4|     (4,[1],[2.0])|   (4,[1],[188.4])|\n",
      "|01a6ad782455876aa...|        50.09|     (4,[1],[5.0])|   (4,[1],[50.09])|\n",
      "|01d907b3e209269e1...|       169.76|    (4,[1],[10.0])|  (4,[1],[169.76])|\n",
      "|028dc52e12ddda803...|        61.72|     (4,[2],[1.0])|   (4,[2],[61.72])|\n",
      "|036dd381dfb3ec75e...|        69.14|     (4,[1],[3.0])|   (4,[1],[69.14])|\n",
      "|03ebfa9712b7dbc70...|        55.78|     (4,[0],[1.0])|   (4,[0],[55.78])|\n",
      "|0420da8d50a378401...|        74.63|     (4,[1],[1.0])|   (4,[1],[74.63])|\n",
      "|05afef1c185862cab...|       101.32|     (4,[1],[6.0])|  (4,[1],[101.32])|\n",
      "|05bef443b85068505...|        79.52|     (4,[1],[7.0])|   (4,[1],[79.52])|\n",
      "|05d46826bd0fb605d...|        61.36|     (4,[1],[2.0])|   (4,[1],[61.36])|\n",
      "|06fec3f6e9e72edb6...|       137.23|     (4,[1],[4.0])|  (4,[1],[137.23])|\n",
      "|077700dcf4e3bb412...|       215.05|     (4,[1],[4.0])|  (4,[1],[215.05])|\n",
      "|078c2d9bb7e5905e8...|       135.28|     (4,[1],[1.0])|  (4,[1],[135.28])|\n",
      "|08791ec24b12af5af...|       445.87|     (4,[1],[9.0])|  (4,[1],[445.87])|\n",
      "|08b450b388221bfe5...|       167.41|     (4,[1],[2.0])|  (4,[1],[167.41])|\n",
      "|0957ed870116e596b...|       157.99|     (4,[1],[4.0])|  (4,[1],[157.99])|\n",
      "|09868b0eb512bfbbe...|       129.98|     (4,[0],[1.0])|  (4,[0],[129.98])|\n",
      "|099d60cb800db65a7...|       324.63|     (4,[1],[3.0])|  (4,[1],[324.63])|\n",
      "|09e90e3936db197d4...|        86.99|     (4,[0],[1.0])|   (4,[0],[86.99])|\n",
      "+--------------------+-------------+------------------+------------------+\n",
      "only showing top 20 rows\n",
      "\n"
     ]
    },
    {
     "data": {
      "text/plain": [
       "99437"
      ]
     },
     "execution_count": 47,
     "metadata": {
      "tags": []
     },
     "output_type": "execute_result"
    }
   ],
   "source": [
    "# merge the three dataframes together and get the new order payments\n",
    "new_order_payments = df_order_total_payment.join(df_order_type_count, on='order_id', how='left')\\\n",
    "                     .join(df_order_type_value, on='order_id', how='left')\n",
    "new_order_payments.show()\n",
    "new_order_payments.count()"
   ]
  },
  {
   "cell_type": "code",
   "execution_count": 48,
   "metadata": {
    "colab": {
     "base_uri": "https://localhost:8080/",
     "height": 496
    },
    "colab_type": "code",
    "id": "SV0wD2QUHeWU",
    "outputId": "525c05f8-6709-4116-b7f3-1e0972740eca"
   },
   "outputs": [
    {
     "name": "stdout",
     "output_type": "stream",
     "text": [
      "+--------------------+--------------------+------------+------------------------+-----------------+----------------------------+-----------------------------+-----------------------------+--------------------+------------------------+--------------------+--------------+------------------------+------------------------+--------------------+------------+--------------------+----------------------+--------------------+-----------------------+-------------+------------------+------------------+\n",
      "|            order_id|         customer_id|order_status|order_purchase_timestamp|order_approved_at|order_delivered_carrier_date|order_delivered_customer_date|order_estimated_delivery_date|  customer_unique_id|customer_zip_code_prefix|       customer_city|customer_state|customer_geolocation_lat|customer_geolocation_lng|           review_id|review_score|review_comment_title|review_comment_message|review_creation_date|review_answer_timestamp|total_payment|payment_type_count|payment_type_value|\n",
      "+--------------------+--------------------+------------+------------------------+-----------------+----------------------------+-----------------------------+-----------------------------+--------------------+------------------------+--------------------+--------------+------------------------+------------------------+--------------------+------------+--------------------+----------------------+--------------------+-----------------------+-------------+------------------+------------------+\n",
      "|014405982914c2cde...|2de342d6e5905a5a8...|   delivered|         7/26/2017 17:38|  7/26/2017 17:50|             7/27/2017 19:39|              7/31/2017 15:53|               8/17/2017 0:00|e8d87ee946600f775...|                   26551|            mesquita|            RJ|            -22.78170709|            -43.42552236|ba5e6d78da2b2c3f5...|           5|                null|                  null| 2017-08-01 00:00:00|    2017-08-04 19:34:54|        78.43|     (4,[1],[7.0])|   (4,[1],[78.43])|\n",
      "|019886de8f385a39b...|8cf88d7ba142365ef...|   delivered|         2/10/2018 12:52|  2/10/2018 13:08|             2/14/2018 15:28|               2/23/2018 2:03|               3/14/2018 0:00|d29ede26cd3e2817b...|                   79092|        campo grande|            MS|            -20.49786195|            -54.65611695|3a6ebeb7f45583720...|           5|                null|  Produto foi entre...| 2018-02-24 00:00:00|    2018-02-27 15:10:57|        188.4|     (4,[1],[2.0])|   (4,[1],[188.4])|\n",
      "|01a6ad782455876aa...|71accffbcbdf8e02f...|   delivered|         1/18/2018 10:07|  1/18/2018 10:17|             1/22/2018 22:37|               2/1/2018 21:02|               2/20/2018 0:00|31c23262d79bc7e80...|                   98801|        santo angelo|            RS|            -28.30487551|            -54.26489554|34fdf58aa22a5d9c4...|           3|                null|                  null| 2018-02-02 00:00:00|    2018-02-05 09:59:55|        50.09|     (4,[1],[5.0])|   (4,[1],[50.09])|\n",
      "|01d907b3e209269e1...|d02cc92f5e33eb58d...|   delivered|          8/9/2017 16:21|  8/10/2017 10:25|             8/11/2017 19:05|              8/16/2017 22:34|               8/29/2017 0:00|a7b781410bcc8bbf3...|                    8503|ferraz de vasconc...|            SP|            -23.54853848|            -46.36050899|d551da337adf573d0...|           5|                null|                  null| 2017-08-17 00:00:00|    2017-08-20 20:01:58|       169.76|    (4,[1],[10.0])|  (4,[1],[169.76])|\n",
      "|028dc52e12ddda803...|8c89a09d8fb33b6e5...|   delivered|         12/19/2017 9:43| 12/19/2017 10:53|            12/20/2017 16:49|             12/21/2017 14:22|                1/8/2018 0:00|148a35e3469010c97...|                    8550|                 poa|            SP|            -23.52194421|            -46.34087493|a096e8952867d5803...|           5|                null|  Já comprei divers...| 2017-12-22 00:00:00|    2017-12-23 13:02:52|        61.72|     (4,[2],[1.0])|   (4,[2],[61.72])|\n",
      "|036dd381dfb3ec75e...|00f5116a953fdf1b8...|   delivered|          9/4/2017 22:25|   9/4/2017 22:43|              9/5/2017 20:49|              9/13/2017 20:36|               9/27/2017 0:00|9f268d26a5ab98397...|                   26325|           queimados|            RJ|            -22.72046602|            -43.55679726|32103f7ad6e08ff69...|           5|                null|                  null| 2017-09-14 00:00:00|    2017-11-04 11:30:12|        69.14|     (4,[1],[3.0])|   (4,[1],[69.14])|\n",
      "|03ebfa9712b7dbc70...|4024b83c510f00432...|   delivered|         3/23/2018 11:20|  3/23/2018 18:48|             3/26/2018 21:17|              3/27/2018 15:04|                4/5/2018 0:00|60389b9628af3e1ed...|                    9280|         santo andre|            SP|            -23.64014378|            -46.51615948|6453879a422cb8285...|           5|                null|                  null| 2018-03-28 00:00:00|    2018-03-28 19:31:15|        55.78|     (4,[0],[1.0])|   (4,[0],[55.78])|\n",
      "|0420da8d50a378401...|0949b5cf9adad08c1...|   delivered|          8/9/2018 16:42|   8/9/2018 17:35|             8/13/2018 12:48|              8/16/2018 19:45|               8/21/2018 0:00|ab2731479851fc801...|                   13563|          sao carlos|            SP|             -21.9868294|            -47.92561804|ae0ded69ab7874b11...|           5|               Otimo|  O produto e igual...| 2018-08-17 00:00:00|    2018-08-20 01:49:39|        74.63|     (4,[1],[1.0])|   (4,[1],[74.63])|\n",
      "|05afef1c185862cab...|296de103322e463a1...|   delivered|         7/25/2017 10:47|  7/25/2017 11:03|             7/31/2017 15:49|              8/21/2017 21:10|                9/4/2017 0:00|7857dff0702239bcf...|                   59151|          parnamirim|            RN|            -5.883632921|            -35.20384949|671a65bed4c9881a0...|           4|                null|                  null| 2017-08-22 00:00:00|    2017-09-01 19:10:24|       101.32|     (4,[1],[6.0])|  (4,[1],[101.32])|\n",
      "|05bef443b85068505...|4ff3f3945300d8e04...|   delivered|         5/30/2018 16:33|   6/1/2018 10:52|              6/1/2018 13:54|              6/26/2018 19:03|                7/5/2018 0:00|a63af578b9678bf77...|                   65065|            sao luis|            MA|            -2.500952454|            -44.22708376|77136b940e2015eb1...|           5|                null|                  null| 2018-06-27 00:00:00|    2018-06-29 22:41:03|        79.52|     (4,[1],[7.0])|   (4,[1],[79.52])|\n",
      "|05d46826bd0fb605d...|c5a9ffc867b51a706...|   delivered|         8/27/2018 19:21|  8/27/2018 19:35|             8/28/2018 19:02|              8/29/2018 17:28|               9/11/2018 0:00|a75583a63d1dc5591...|                    4116|           sao paulo|            SP|            -23.59251095|            -46.62549344|4ebd94e5936c7f442...|           4| Chegou super rapido|  Chegou super rápi...| 2018-08-30 00:00:00|    2018-08-31 00:46:55|        61.36|     (4,[1],[2.0])|   (4,[1],[61.36])|\n",
      "|06fec3f6e9e72edb6...|b6fe463c461a6e4fe...|   delivered|         6/14/2018 14:55|  6/14/2018 15:20|             6/15/2018 17:25|               7/11/2018 0:38|               7/19/2018 0:00|ad8dc8878b71d1a54...|                   57055|              maceio|            AL|            -9.635531947|             -35.7397505|4dabd36c045ad78b9...|           2|                null|                  null| 2018-07-12 00:00:00|    2018-07-12 16:46:43|       137.23|     (4,[1],[4.0])|  (4,[1],[137.23])|\n",
      "|077700dcf4e3bb412...|aa7885fdaef957a25...|   delivered|        11/20/2017 11:46| 11/20/2017 12:07|            11/22/2017 17:33|             11/29/2017 13:51|              12/11/2017 0:00|64c28dc9ff718fe40...|                   30520|      belo horizonte|            MG|            -19.94041113|            -44.01845243|7ca10e3bb1fcea458...|           5|                null|                  null| 2017-11-30 00:00:00|    2017-12-02 22:36:46|       215.05|     (4,[1],[4.0])|  (4,[1],[215.05])|\n",
      "|078c2d9bb7e5905e8...|0a3459f8f647c5483...|   delivered|         3/25/2018 11:28|  3/25/2018 11:47|             3/26/2018 20:31|              3/28/2018 15:48|               4/13/2018 0:00|1f706bf3d8588cd35...|                   31035|      belo horizonte|            MG|            -19.89826888|             -43.9205695|0fe1925ee5bc8adcd...|           3|                null|  Nao recebi a capa...| 2018-03-29 00:00:00|    2018-04-02 17:47:34|       135.28|     (4,[1],[1.0])|  (4,[1],[135.28])|\n",
      "|08791ec24b12af5af...|98910418a06188d89...|   delivered|          4/17/2018 8:38|  4/18/2018 15:45|              4/20/2018 0:03|              4/25/2018 14:13|               5/17/2018 0:00|96297b7f2c89525e5...|                   88901|           ararangua|            SC|            -28.94404447|            -49.49918341|63602d1a0f1a329ae...|           5|                   5|  Chegou dentro do ...| 2018-04-26 00:00:00|    2018-04-29 01:01:06|       445.87|     (4,[1],[9.0])|  (4,[1],[445.87])|\n",
      "|08b450b388221bfe5...|48484f48de7aa7c06...|   delivered|          11/1/2017 1:48|   11/1/2017 2:06|             11/1/2017 19:22|              11/7/2017 16:32|              11/23/2017 0:00|25e840a7c51ad06c6...|                   88130|             palhoca|            SC|            -27.63653957|            -48.65548932|bbab8347323754372...|           1|                null|  o produto anuncia...| 2017-11-08 00:00:00|    2017-12-26 20:11:21|       167.41|     (4,[1],[2.0])|  (4,[1],[167.41])|\n",
      "|0957ed870116e596b...|0f0603d577f299ca1...|   delivered|         1/29/2017 22:14|  1/29/2017 22:33|              1/30/2017 8:27|               2/8/2017 17:14|               3/20/2017 0:00|903fccb1294b588a6...|                   59086|               natal|            RN|            -5.866604369|            -35.21027288|25220e954a5481d5b...|           5|                null|                  null| 2017-02-10 00:00:00|    2017-02-10 08:18:57|       157.99|     (4,[1],[4.0])|  (4,[1],[157.99])|\n",
      "|09868b0eb512bfbbe...|09b383911c9df8366...|   delivered|         3/21/2017 16:04|  3/21/2017 16:04|              3/22/2017 9:12|              3/29/2017 14:06|               4/11/2017 0:00|690320ceb16aaf86d...|                    4348|           sao paulo|            SP|            -23.64502318|             -46.6502445|a48dd5824a95a050b...|           1|                null|                 otimo| 2017-03-30 00:00:00|    2017-04-03 22:59:03|       129.98|     (4,[0],[1.0])|  (4,[0],[129.98])|\n",
      "|099d60cb800db65a7...|b10fe33654a6d22ae...|   delivered|          5/8/2018 22:56|   5/8/2018 23:11|              5/9/2018 11:43|              5/15/2018 16:27|                6/4/2018 0:00|7e1013f7423cda110...|                    2367|           sao paulo|            SP|            -23.46227028|            -46.59380392|c849daf583f57fd34...|           3|    Pedido de troca |  Satisfeito com o ...|                null|                   null|       324.63|     (4,[1],[3.0])|  (4,[1],[324.63])|\n",
      "|09e90e3936db197d4...|35eb8474043d903a1...|   delivered|          8/2/2018 14:21|    8/3/2018 2:43|              8/3/2018 18:19|               8/9/2018 22:11|               8/16/2018 0:00|a689fe2b66cd8b68f...|                   11630|            ilhabela|            SP|            -23.81452622|            -45.36872586|fcbfcc15cd98e7417...|           1|   Entrega nao feita|  O pedido esta com...| 2018-08-10 00:00:00|    2018-08-14 12:12:06|        86.99|     (4,[0],[1.0])|   (4,[0],[86.99])|\n",
      "+--------------------+--------------------+------------+------------------------+-----------------+----------------------------+-----------------------------+-----------------------------+--------------------+------------------------+--------------------+--------------+------------------------+------------------------+--------------------+------------+--------------------+----------------------+--------------------+-----------------------+-------------+------------------+------------------+\n",
      "only showing top 20 rows\n",
      "\n"
     ]
    },
    {
     "data": {
      "text/plain": [
       "99441"
      ]
     },
     "execution_count": 48,
     "metadata": {
      "tags": []
     },
     "output_type": "execute_result"
    }
   ],
   "source": [
    "# Merge orders-customers dataset with order_payments!!!\n",
    "# We use left-join (orders <- order_review) because the orders dataset included more information and the orders dataset is our baseline dataset.\n",
    "new_customer = new_customer_geo_review.join(new_order_payments, on='order_id', how='left')\n",
    "new_customer.show()\n",
    "new_customer.count()"
   ]
  },
  {
   "cell_type": "markdown",
   "metadata": {
    "colab_type": "text",
    "id": "qcD7-9jPHkp8"
   },
   "source": [
    "######################################################################################################"
   ]
  },
  {
   "cell_type": "markdown",
   "metadata": {
    "colab_type": "text",
    "id": "OA_sK8xTzJPe"
   },
   "source": [
    "### Step2 Merge product-related datasets(order_items,products)\n",
    "Here, order_items dataset is baseline and merge it with other. <br>\n",
    "There are three datasets to merge:  df_order_items, df_product, df_category_name_translation"
   ]
  },
  {
   "cell_type": "code",
   "execution_count": 49,
   "metadata": {
    "colab": {
     "base_uri": "https://localhost:8080/",
     "height": 68
    },
    "colab_type": "code",
    "id": "vLHrJQyvyYeB",
    "outputId": "b4f4b90c-a938-439e-8040-06889af9d1a2"
   },
   "outputs": [
    {
     "name": "stdout",
     "output_type": "stream",
     "text": [
      "The number of product: 32951\n",
      "The number of order items: 112650\n",
      "The number of category name translation: 71\n"
     ]
    }
   ],
   "source": [
    "print \"The number of product:\", df_product.count()\n",
    "print \"The number of order items:\", df_order_items.count()\n",
    "print \"The number of category name translation:\", df_category_name_translation.count()"
   ]
  },
  {
   "cell_type": "code",
   "execution_count": 50,
   "metadata": {
    "colab": {
     "base_uri": "https://localhost:8080/",
     "height": 459
    },
    "colab_type": "code",
    "id": "xDL2iSYA1gC_",
    "outputId": "40c594ef-59ac-4f56-b805-522ba29c41bd"
   },
   "outputs": [
    {
     "name": "stdout",
     "output_type": "stream",
     "text": [
      "+---------------------+-----------------------------+\n",
      "|product_category_name|product_category_name_english|\n",
      "+---------------------+-----------------------------+\n",
      "|         beleza_saude|                health_beauty|\n",
      "| informatica_acess...|         computers_accesso...|\n",
      "|           automotivo|                         auto|\n",
      "|      cama_mesa_banho|               bed_bath_table|\n",
      "|     moveis_decoracao|              furniture_decor|\n",
      "|        esporte_lazer|               sports_leisure|\n",
      "|           perfumaria|                    perfumery|\n",
      "| utilidades_domest...|                   housewares|\n",
      "|            telefonia|                    telephony|\n",
      "|   relogios_presentes|                watches_gifts|\n",
      "|    alimentos_bebidas|                   food_drink|\n",
      "|                bebes|                         baby|\n",
      "|            papelaria|                   stationery|\n",
      "| tablets_impressao...|         tablets_printing_...|\n",
      "|           brinquedos|                         toys|\n",
      "|       telefonia_fixa|              fixed_telephony|\n",
      "|   ferramentas_jardim|                 garden_tools|\n",
      "| fashion_bolsas_e_...|         fashion_bags_acce...|\n",
      "|      eletroportateis|             small_appliances|\n",
      "|       consoles_games|               consoles_games|\n",
      "+---------------------+-----------------------------+\n",
      "only showing top 20 rows\n",
      "\n"
     ]
    }
   ],
   "source": [
    "df_category_name_translation.show()"
   ]
  },
  {
   "cell_type": "code",
   "execution_count": 51,
   "metadata": {
    "colab": {
     "base_uri": "https://localhost:8080/",
     "height": 459
    },
    "colab_type": "code",
    "id": "C5xSGOi-yc2v",
    "outputId": "04920bea-dd4c-49cd-cc85-5345d247725c"
   },
   "outputs": [
    {
     "name": "stdout",
     "output_type": "stream",
     "text": [
      "+--------------------+-------------+--------------------+--------------------+-------------------+------+-------------+\n",
      "|            order_id|order_item_id|          product_id|           seller_id|shipping_limit_date| price|freight_value|\n",
      "+--------------------+-------------+--------------------+--------------------+-------------------+------+-------------+\n",
      "|00010242fe8c5a6d1...|            1|4244733e06e7ecb49...|48436dade18ac8b2b...|2017-09-19 09:45:35|  58.9|        13.29|\n",
      "|00018f77f2f0320c5...|            1|e5f2d52b802189ee6...|dd7ddc04e1b6c2c61...|2017-05-03 11:05:13| 239.9|        19.93|\n",
      "|000229ec398224ef6...|            1|c777355d18b72b67a...|5b51032eddd242adc...|2018-01-18 14:48:30| 199.0|        17.87|\n",
      "|00024acbcdf0a6daa...|            1|7634da152a4610f15...|9d7a1d34a50524090...|2018-08-15 10:10:18| 12.99|        12.79|\n",
      "|00042b26cf59d7ce6...|            1|ac6c3623068f30de0...|df560393f3a51e745...|2017-02-13 13:57:51| 199.9|        18.14|\n",
      "|00048cc3ae777c65d...|            1|ef92defde845ab845...|6426d21aca402a131...|2017-05-23 03:55:27|  21.9|        12.69|\n",
      "|00054e8431b9d7675...|            1|8d4f2bb7e93e6710a...|7040e82f899a04d1b...|2017-12-14 12:10:31|  19.9|        11.85|\n",
      "|000576fe39319847c...|            1|557d850972a7d6f79...|5996cddab893a4652...|2018-07-10 12:30:45| 810.0|        70.75|\n",
      "|0005a1a1728c9d785...|            1|310ae3c140ff94b03...|a416b6a846a117243...|2018-03-26 18:31:29|145.95|        11.65|\n",
      "|0005f50442cb953dc...|            1|4535b0e1091c278df...|ba143b05f0110f0dc...|2018-07-06 14:10:56| 53.99|         11.4|\n",
      "|00061f2a7bc09da83...|            1|d63c1011f49d98b97...|cc419e0650a3c5ba7...|2018-03-29 22:28:09| 59.99|         8.88|\n",
      "|00063b381e2406b52...|            1|f177554ea93259a5b...|8602a61d680a10a82...|2018-07-31 17:30:39|  45.0|        12.98|\n",
      "|0006ec9db01a64e59...|            1|99a4788cb24856965...|4a3ca9315b744ce9f...|2018-07-26 17:24:20|  74.0|        23.32|\n",
      "|0008288aa423d2a3f...|            1|368c6c730842d7801...|1f50f920176fa81da...|2018-02-21 02:55:52|  49.9|        13.37|\n",
      "|0008288aa423d2a3f...|            2|368c6c730842d7801...|1f50f920176fa81da...|2018-02-21 02:55:52|  49.9|        13.37|\n",
      "|0009792311464db53...|            1|8cab8abac59158715...|530ec6109d11eaaf8...|2018-08-17 12:15:10|  99.9|        27.65|\n",
      "|0009c9a17f916a706...|            1|3f27ac8e699df3d30...|fcb5ace8bcc92f757...|2018-05-02 09:31:53| 639.0|        11.34|\n",
      "|000aed2e25dbad2f9...|            1|4fa33915031a8cde0...|fe2032dab1a61af87...|2018-05-16 20:57:03| 144.0|         8.77|\n",
      "|000c3e6612759851c...|            1|b50c950aba0dcead2...|218d46b86c1881d02...|2017-08-21 03:33:13|  99.0|        13.71|\n",
      "|000e562887b1f2006...|            1|5ed9eaf534f6936b5...|8cbac7e12637ed9cf...|2018-02-28 12:08:37|  25.0|        16.11|\n",
      "+--------------------+-------------+--------------------+--------------------+-------------------+------+-------------+\n",
      "only showing top 20 rows\n",
      "\n"
     ]
    }
   ],
   "source": [
    "df_order_items.show()"
   ]
  },
  {
   "cell_type": "code",
   "execution_count": 52,
   "metadata": {
    "colab": {
     "base_uri": "https://localhost:8080/",
     "height": 496
    },
    "colab_type": "code",
    "id": "lbnemCc21r66",
    "outputId": "83af1af4-fbdb-4b29-cfd5-e4d86fbe9d40"
   },
   "outputs": [
    {
     "name": "stdout",
     "output_type": "stream",
     "text": [
      "+---------------------+--------------------+-------------------+--------------------------+------------------+----------------+-----------------+-----------------+----------------+-----------------------------+\n",
      "|product_category_name|          product_id|product_name_lenght|product_description_lenght|product_photos_qty|product_weight_g|product_length_cm|product_height_cm|product_width_cm|product_category_name_english|\n",
      "+---------------------+--------------------+-------------------+--------------------------+------------------+----------------+-----------------+-----------------+----------------+-----------------------------+\n",
      "|           perfumaria|1e9e8ef04dbcff454...|                 40|                       287|                 1|             225|               16|               10|              14|                    perfumery|\n",
      "|                artes|3aa071139cb16b67c...|                 44|                       276|                 1|            1000|               30|               18|              20|                          art|\n",
      "|        esporte_lazer|96bd76ec8810374ed...|                 46|                       250|                 1|             154|               18|                9|              15|               sports_leisure|\n",
      "|                bebes|cef67bcfe19066a93...|                 27|                       261|                 1|             371|               26|                4|              26|                         baby|\n",
      "| utilidades_domest...|9dc1a7de274444849...|                 37|                       402|                 4|             625|               20|               17|              13|                   housewares|\n",
      "| instrumentos_musi...|41d3672d4792049fa...|                 60|                       745|                 1|             200|               38|                5|              11|          musical_instruments|\n",
      "|           cool_stuff|732bd381ad09e530f...|                 56|                      1272|                 4|           18350|               70|               24|              44|                   cool_stuff|\n",
      "|     moveis_decoracao|2548af3e6e77a690c...|                 56|                       184|                 2|             900|               40|                8|              40|              furniture_decor|\n",
      "|     eletrodomesticos|37cc742be07708b53...|                 57|                       163|                 1|             400|               27|               13|              17|              home_appliances|\n",
      "|           brinquedos|8c92109888e8cdf9d...|                 36|                      1156|                 1|             600|               17|               10|              12|                         toys|\n",
      "|      cama_mesa_banho|14aa47b7fe5c25522...|                 54|                       630|                 1|            1100|               16|               10|              16|               bed_bath_table|\n",
      "|                bebes|03b63c5fc16691530...|                 49|                       728|                 4|            7150|               50|               19|              45|                         baby|\n",
      "| instrumentos_musi...|cf55509ea8edaaac1...|                 43|                      1827|                 3|             250|               17|                7|              17|          musical_instruments|\n",
      "|     moveis_decoracao|7bb6f29c2be577161...|                 51|                      2083|                 2|             600|               68|               11|              13|              furniture_decor|\n",
      "| construcao_ferram...|eb31436580a610f20...|                 59|                      1602|                 4|             200|               17|                7|              17|         construction_tool...|\n",
      "|        esporte_lazer|3bb7f144022e67327...|                 22|                      3021|                 1|             800|               16|                2|              11|               sports_leisure|\n",
      "|           perfumaria|6a2fb4dd53d2cdb88...|                 39|                       346|                 2|             400|               27|                5|              20|                    perfumery|\n",
      "| informatica_acess...|a1b71017a84f92fd8...|                 59|                       636|                 1|             900|               40|               15|              20|         computers_accesso...|\n",
      "|     moveis_decoracao|a0736b92e52f6cead...|                 56|                       296|                 2|            1700|              100|                7|              15|              furniture_decor|\n",
      "|      cama_mesa_banho|f53103a77d9cf245e...|                 52|                       206|                 1|             500|               16|               10|              16|               bed_bath_table|\n",
      "+---------------------+--------------------+-------------------+--------------------------+------------------+----------------+-----------------+-----------------+----------------+-----------------------------+\n",
      "only showing top 20 rows\n",
      "\n"
     ]
    },
    {
     "data": {
      "text/plain": [
       "32951"
      ]
     },
     "execution_count": 52,
     "metadata": {
      "tags": []
     },
     "output_type": "execute_result"
    }
   ],
   "source": [
    "# Merge product dataset and category_name_translation dataset!!!\n",
    "# Product dataset has more data and category_name_translation dataset is for tranlating Brazillian category name into English.\n",
    "new_product = df_product.join(df_category_name_translation, on='product_category_name', how='left')\n",
    "new_product.show()\n",
    "new_product.count()"
   ]
  },
  {
   "cell_type": "code",
   "execution_count": 53,
   "metadata": {
    "colab": {
     "base_uri": "https://localhost:8080/",
     "height": 51
    },
    "colab_type": "code",
    "id": "TfDgyOYFzAAI",
    "outputId": "7b5eeb9c-b730-45af-934f-c236ffe9a29d"
   },
   "outputs": [
    {
     "name": "stdout",
     "output_type": "stream",
     "text": [
      "The number of product-category name translation: 32951\n",
      "The number of order items: 112650\n"
     ]
    }
   ],
   "source": [
    "print \"The number of product-category name translation:\", new_product.count()\n",
    "print \"The number of order items:\", df_order_items.count()"
   ]
  },
  {
   "cell_type": "code",
   "execution_count": 54,
   "metadata": {
    "colab": {
     "base_uri": "https://localhost:8080/",
     "height": 496
    },
    "colab_type": "code",
    "id": "gqpT0xCP2DWK",
    "outputId": "a0d1b1c8-bf2c-4d6c-a2a9-f1a39dc38fef"
   },
   "outputs": [
    {
     "name": "stdout",
     "output_type": "stream",
     "text": [
      "+--------------------+--------------------+-------------+--------------------+-------------------+------+-------------+---------------------+-------------------+--------------------------+------------------+----------------+-----------------+-----------------+----------------+-----------------------------+\n",
      "|          product_id|            order_id|order_item_id|           seller_id|shipping_limit_date| price|freight_value|product_category_name|product_name_lenght|product_description_lenght|product_photos_qty|product_weight_g|product_length_cm|product_height_cm|product_width_cm|product_category_name_english|\n",
      "+--------------------+--------------------+-------------+--------------------+-------------------+------+-------------+---------------------+-------------------+--------------------------+------------------+----------------+-----------------+-----------------+----------------+-----------------------------+\n",
      "|00e4ded51458037ec...|cfbc5b076b3dfaa51...|            1|1660ad786c27fd935...|2017-08-23 10:24:47| 130.0|        38.46| informatica_acess...|                 25|                       978|                 3|            1400|               25|               15|              25|         computers_accesso...|\n",
      "|03d7ad0ce97624c93...|7797659fa7b8f16a6...|            1|620c87c171fb2a6dd...|2017-04-12 15:35:15|  79.9|        25.05|           perfumaria|                 48|                       259|                 1|             249|               19|               13|              15|                    perfumery|\n",
      "|03d7ad0ce97624c93...|a2c943e39eba3f96c...|            1|620c87c171fb2a6dd...|2017-04-13 21:15:11|  79.9|        14.73|           perfumaria|                 48|                       259|                 1|             249|               19|               13|              15|                    perfumery|\n",
      "|03d7ad0ce97624c93...|c09bf2814fb67faaa...|            1|620c87c171fb2a6dd...|2017-04-17 16:30:12|  79.9|        11.17|           perfumaria|                 48|                       259|                 1|             249|               19|               13|              15|                    perfumery|\n",
      "|03d7ad0ce97624c93...|fbbfacf696d50761d...|            1|620c87c171fb2a6dd...|2017-04-03 10:05:16|  69.9|        24.98|           perfumaria|                 48|                       259|                 1|             249|               19|               13|              15|                    perfumery|\n",
      "|04008f5a086abe248...|d2ce2764e87747335...|            1|33a6f4b1e7cdc2055...|2018-08-30 14:45:17| 103.0|        17.93|      cama_mesa_banho|                 41|                      2201|                 1|            1250|               48|               14|              68|               bed_bath_table|\n",
      "|05f0fe07929d35be0...|362cd36939c1c4638...|            1|c70c1b0d8ca86052f...|2018-06-29 03:32:39|110.32|         8.03|         beleza_saude|                 60|                       919|                 1|             200|               22|                3|              15|                health_beauty|\n",
      "|05f0fe07929d35be0...|b41cc5a0872a7fd88...|            1|c70c1b0d8ca86052f...|2018-07-23 04:31:56|110.32|         8.03|         beleza_saude|                 60|                       919|                 1|             200|               22|                3|              15|                health_beauty|\n",
      "|05f0fe07929d35be0...|b71ba668b12da5320...|            1|c70c1b0d8ca86052f...|2018-06-11 11:10:36|110.32|         7.64|         beleza_saude|                 60|                       919|                 1|             200|               22|                3|              15|                health_beauty|\n",
      "|05f0fe07929d35be0...|bcd881f346c66116b...|            2|c70c1b0d8ca86052f...|2018-07-26 11:50:16|110.32|        18.87|         beleza_saude|                 60|                       919|                 1|             200|               22|                3|              15|                health_beauty|\n",
      "|05f0fe07929d35be0...|d1c3d911ad830cab7...|            2|c70c1b0d8ca86052f...|2018-05-15 15:12:12|110.32|        15.65|         beleza_saude|                 60|                       919|                 1|             200|               22|                3|              15|                health_beauty|\n",
      "|06dce482ace017e78...|2372d0c3ea71f023b...|            1|f7ccf836d21b2fb1d...|2018-08-10 17:55:10|  39.0|        13.85|      cama_mesa_banho|                 44|                       452|                 1|             550|               30|                3|              19|               bed_bath_table|\n",
      "|06dce482ace017e78...|2ab274c9a5e207ca4...|            1|f7ccf836d21b2fb1d...|2018-05-08 11:13:46|  39.0|        18.23|      cama_mesa_banho|                 44|                       452|                 1|             550|               30|                3|              19|               bed_bath_table|\n",
      "|06dce482ace017e78...|47b4bf81340558dae...|            1|f7ccf836d21b2fb1d...|2018-08-17 08:15:16|  39.0|        13.85|      cama_mesa_banho|                 44|                       452|                 1|             550|               30|                3|              19|               bed_bath_table|\n",
      "|06dce482ace017e78...|54f035e8fe3aed77e...|            1|f7ccf836d21b2fb1d...|2018-05-22 08:14:19|  39.0|        19.32|      cama_mesa_banho|                 44|                       452|                 1|             550|               30|                3|              19|               bed_bath_table|\n",
      "|06dce482ace017e78...|5573cef7e8f61373a...|            1|f7ccf836d21b2fb1d...|2018-05-10 09:30:34|  39.0|        18.23|      cama_mesa_banho|                 44|                       452|                 1|             550|               30|                3|              19|               bed_bath_table|\n",
      "|06dce482ace017e78...|7b1e7ecf29040bd95...|            1|f7ccf836d21b2fb1d...|2018-04-30 18:30:57|  39.0|        12.79|      cama_mesa_banho|                 44|                       452|                 1|             550|               30|                3|              19|               bed_bath_table|\n",
      "|06dce482ace017e78...|7d8fb4d046d76c289...|            1|f7ccf836d21b2fb1d...|2018-06-22 16:31:02|  39.0|        13.85|      cama_mesa_banho|                 44|                       452|                 1|             550|               30|                3|              19|               bed_bath_table|\n",
      "|06dce482ace017e78...|828c98fce36f901cb...|            1|f7ccf836d21b2fb1d...|2018-05-17 03:31:42|  39.0|        18.23|      cama_mesa_banho|                 44|                       452|                 1|             550|               30|                3|              19|               bed_bath_table|\n",
      "|06dce482ace017e78...|990d8645aca165372...|            1|f7ccf836d21b2fb1d...|2018-04-25 20:11:10|  39.0|        26.81|      cama_mesa_banho|                 44|                       452|                 1|             550|               30|                3|              19|               bed_bath_table|\n",
      "+--------------------+--------------------+-------------+--------------------+-------------------+------+-------------+---------------------+-------------------+--------------------------+------------------+----------------+-----------------+-----------------+----------------+-----------------------------+\n",
      "only showing top 20 rows\n",
      "\n"
     ]
    },
    {
     "data": {
      "text/plain": [
       "112650"
      ]
     },
     "execution_count": 54,
     "metadata": {
      "tags": []
     },
     "output_type": "execute_result"
    }
   ],
   "source": [
    "# Merge items dataset and products dataset!!!\n",
    "new_item = df_order_items.join(new_product, on='product_id', how='left')\n",
    "new_item.show()\n",
    "new_item.count()"
   ]
  },
  {
   "cell_type": "code",
   "execution_count": 55,
   "metadata": {
    "colab": {
     "base_uri": "https://localhost:8080/",
     "height": 289
    },
    "colab_type": "code",
    "id": "-gtLrBpvziIh",
    "outputId": "bbd51017-7e0b-4b59-a97d-0605ce9254fd"
   },
   "outputs": [
    {
     "data": {
      "text/plain": [
       "['product_id',\n",
       " 'order_id',\n",
       " 'order_item_id',\n",
       " 'seller_id',\n",
       " 'shipping_limit_date',\n",
       " 'price',\n",
       " 'freight_value',\n",
       " 'product_category_name',\n",
       " 'product_name_lenght',\n",
       " 'product_description_lenght',\n",
       " 'product_photos_qty',\n",
       " 'product_weight_g',\n",
       " 'product_length_cm',\n",
       " 'product_height_cm',\n",
       " 'product_width_cm',\n",
       " 'product_category_name_english']"
      ]
     },
     "execution_count": 55,
     "metadata": {
      "tags": []
     },
     "output_type": "execute_result"
    }
   ],
   "source": [
    "new_item.columns"
   ]
  },
  {
   "cell_type": "code",
   "execution_count": 0,
   "metadata": {
    "colab": {},
    "colab_type": "code",
    "id": "WBVtpLnlzvfB"
   },
   "outputs": [],
   "source": [
    "# Drop the product_category_name because we have translated column \"product_category_name_english\"\n",
    "new_item = new_item.drop('product_category_name')"
   ]
  },
  {
   "cell_type": "code",
   "execution_count": 57,
   "metadata": {
    "colab": {
     "base_uri": "https://localhost:8080/",
     "height": 272
    },
    "colab_type": "code",
    "id": "mM-e4u670i-j",
    "outputId": "2a4f5e7d-a5cf-40dd-e883-0ced4791b78b"
   },
   "outputs": [
    {
     "data": {
      "text/plain": [
       "['product_id',\n",
       " 'order_id',\n",
       " 'order_item_id',\n",
       " 'seller_id',\n",
       " 'shipping_limit_date',\n",
       " 'price',\n",
       " 'freight_value',\n",
       " 'product_name_lenght',\n",
       " 'product_description_lenght',\n",
       " 'product_photos_qty',\n",
       " 'product_weight_g',\n",
       " 'product_length_cm',\n",
       " 'product_height_cm',\n",
       " 'product_width_cm',\n",
       " 'product_category_name_english']"
      ]
     },
     "execution_count": 57,
     "metadata": {
      "tags": []
     },
     "output_type": "execute_result"
    }
   ],
   "source": [
    "new_item.columns"
   ]
  },
  {
   "cell_type": "code",
   "execution_count": 58,
   "metadata": {
    "colab": {
     "base_uri": "https://localhost:8080/",
     "height": 479
    },
    "colab_type": "code",
    "id": "uSPl26008WU_",
    "outputId": "0b16a823-fb37-46b6-bf69-77a12f2ff191"
   },
   "outputs": [
    {
     "name": "stdout",
     "output_type": "stream",
     "text": [
      "+--------------------+--------------------+-------------+--------------------+-------------------+------+-------------+-------------------+--------------------------+------------------+----------------+-----------------+-----------------+----------------+-----------------------------+\n",
      "|          product_id|            order_id|order_item_id|           seller_id|shipping_limit_date| price|freight_value|product_name_lenght|product_description_lenght|product_photos_qty|product_weight_g|product_length_cm|product_height_cm|product_width_cm|product_category_name_english|\n",
      "+--------------------+--------------------+-------------+--------------------+-------------------+------+-------------+-------------------+--------------------------+------------------+----------------+-----------------+-----------------+----------------+-----------------------------+\n",
      "|00e4ded51458037ec...|cfbc5b076b3dfaa51...|            1|1660ad786c27fd935...|2017-08-23 10:24:47| 130.0|        38.46|                 25|                       978|                 3|            1400|               25|               15|              25|         computers_accesso...|\n",
      "|03d7ad0ce97624c93...|7797659fa7b8f16a6...|            1|620c87c171fb2a6dd...|2017-04-12 15:35:15|  79.9|        25.05|                 48|                       259|                 1|             249|               19|               13|              15|                    perfumery|\n",
      "|03d7ad0ce97624c93...|a2c943e39eba3f96c...|            1|620c87c171fb2a6dd...|2017-04-13 21:15:11|  79.9|        14.73|                 48|                       259|                 1|             249|               19|               13|              15|                    perfumery|\n",
      "|03d7ad0ce97624c93...|c09bf2814fb67faaa...|            1|620c87c171fb2a6dd...|2017-04-17 16:30:12|  79.9|        11.17|                 48|                       259|                 1|             249|               19|               13|              15|                    perfumery|\n",
      "|03d7ad0ce97624c93...|fbbfacf696d50761d...|            1|620c87c171fb2a6dd...|2017-04-03 10:05:16|  69.9|        24.98|                 48|                       259|                 1|             249|               19|               13|              15|                    perfumery|\n",
      "|04008f5a086abe248...|d2ce2764e87747335...|            1|33a6f4b1e7cdc2055...|2018-08-30 14:45:17| 103.0|        17.93|                 41|                      2201|                 1|            1250|               48|               14|              68|               bed_bath_table|\n",
      "|05f0fe07929d35be0...|362cd36939c1c4638...|            1|c70c1b0d8ca86052f...|2018-06-29 03:32:39|110.32|         8.03|                 60|                       919|                 1|             200|               22|                3|              15|                health_beauty|\n",
      "|05f0fe07929d35be0...|b41cc5a0872a7fd88...|            1|c70c1b0d8ca86052f...|2018-07-23 04:31:56|110.32|         8.03|                 60|                       919|                 1|             200|               22|                3|              15|                health_beauty|\n",
      "|05f0fe07929d35be0...|b71ba668b12da5320...|            1|c70c1b0d8ca86052f...|2018-06-11 11:10:36|110.32|         7.64|                 60|                       919|                 1|             200|               22|                3|              15|                health_beauty|\n",
      "|05f0fe07929d35be0...|bcd881f346c66116b...|            2|c70c1b0d8ca86052f...|2018-07-26 11:50:16|110.32|        18.87|                 60|                       919|                 1|             200|               22|                3|              15|                health_beauty|\n",
      "|05f0fe07929d35be0...|d1c3d911ad830cab7...|            2|c70c1b0d8ca86052f...|2018-05-15 15:12:12|110.32|        15.65|                 60|                       919|                 1|             200|               22|                3|              15|                health_beauty|\n",
      "|06dce482ace017e78...|2372d0c3ea71f023b...|            1|f7ccf836d21b2fb1d...|2018-08-10 17:55:10|  39.0|        13.85|                 44|                       452|                 1|             550|               30|                3|              19|               bed_bath_table|\n",
      "|06dce482ace017e78...|2ab274c9a5e207ca4...|            1|f7ccf836d21b2fb1d...|2018-05-08 11:13:46|  39.0|        18.23|                 44|                       452|                 1|             550|               30|                3|              19|               bed_bath_table|\n",
      "|06dce482ace017e78...|47b4bf81340558dae...|            1|f7ccf836d21b2fb1d...|2018-08-17 08:15:16|  39.0|        13.85|                 44|                       452|                 1|             550|               30|                3|              19|               bed_bath_table|\n",
      "|06dce482ace017e78...|54f035e8fe3aed77e...|            1|f7ccf836d21b2fb1d...|2018-05-22 08:14:19|  39.0|        19.32|                 44|                       452|                 1|             550|               30|                3|              19|               bed_bath_table|\n",
      "|06dce482ace017e78...|5573cef7e8f61373a...|            1|f7ccf836d21b2fb1d...|2018-05-10 09:30:34|  39.0|        18.23|                 44|                       452|                 1|             550|               30|                3|              19|               bed_bath_table|\n",
      "|06dce482ace017e78...|7b1e7ecf29040bd95...|            1|f7ccf836d21b2fb1d...|2018-04-30 18:30:57|  39.0|        12.79|                 44|                       452|                 1|             550|               30|                3|              19|               bed_bath_table|\n",
      "|06dce482ace017e78...|7d8fb4d046d76c289...|            1|f7ccf836d21b2fb1d...|2018-06-22 16:31:02|  39.0|        13.85|                 44|                       452|                 1|             550|               30|                3|              19|               bed_bath_table|\n",
      "|06dce482ace017e78...|828c98fce36f901cb...|            1|f7ccf836d21b2fb1d...|2018-05-17 03:31:42|  39.0|        18.23|                 44|                       452|                 1|             550|               30|                3|              19|               bed_bath_table|\n",
      "|06dce482ace017e78...|990d8645aca165372...|            1|f7ccf836d21b2fb1d...|2018-04-25 20:11:10|  39.0|        26.81|                 44|                       452|                 1|             550|               30|                3|              19|               bed_bath_table|\n",
      "+--------------------+--------------------+-------------+--------------------+-------------------+------+-------------+-------------------+--------------------------+------------------+----------------+-----------------+-----------------+----------------+-----------------------------+\n",
      "only showing top 20 rows\n",
      "\n"
     ]
    }
   ],
   "source": [
    "# Now, we get merged product_item dataset.\n",
    "new_item.count()\n",
    "new_item.show()"
   ]
  },
  {
   "cell_type": "markdown",
   "metadata": {
    "colab_type": "text",
    "id": "My6-CWw38Uir"
   },
   "source": [
    "######################################################################################################"
   ]
  },
  {
   "cell_type": "markdown",
   "metadata": {
    "colab_type": "text",
    "id": "ajCOjVpb2XXf"
   },
   "source": [
    "### Step3 Merge seller-related datasets(sellers, geolocation)\n",
    "For geolocation dataset, we will combine it with order_customer and geolocation dataset each. And, when merging them, we add a suffix to geolocatio names. (e.g customer_geolocation_lat, customer_geolocation_lat, seller_geolocation_lat, seller_geolocation_lat)"
   ]
  },
  {
   "cell_type": "code",
   "execution_count": 59,
   "metadata": {
    "colab": {
     "base_uri": "https://localhost:8080/",
     "height": 459
    },
    "colab_type": "code",
    "id": "cmFKsB_p2Jku",
    "outputId": "8be28287-efdb-45ac-fc9e-70525d812d44"
   },
   "outputs": [
    {
     "name": "stdout",
     "output_type": "stream",
     "text": [
      "+--------------------+----------------------+-----------------+------------+\n",
      "|           seller_id|seller_zip_code_prefix|      seller_city|seller_state|\n",
      "+--------------------+----------------------+-----------------+------------+\n",
      "|3442f8959a84dea7e...|                 13023|         campinas|          SP|\n",
      "|d1b65fc7debc3361e...|                 13844|       mogi guacu|          SP|\n",
      "|ce3ad9de960102d06...|                 20031|   rio de janeiro|          RJ|\n",
      "|c0f3eea2e14555b6f...|                  4195|        sao paulo|          SP|\n",
      "|51a04a8a6bdcb23de...|                 12914|braganca paulista|          SP|\n",
      "|c240c4061717ac180...|                 20920|   rio de janeiro|          RJ|\n",
      "|e49c26c3edfa46d22...|                 55325|           brejao|          PE|\n",
      "|1b938a7ec6ac5061a...|                 16304|        penapolis|          SP|\n",
      "|768a86e36ad6aae3d...|                  1529|        sao paulo|          SP|\n",
      "|ccc4bbb5f32a6ab2b...|                 80310|         curitiba|          PR|\n",
      "|8cb7c5ddf41f4d506...|                 75110|         anapolis|          GO|\n",
      "|a7a9b880c49781da6...|                 13530|        itirapina|          SP|\n",
      "|8bd0f31cf0a614c65...|                  1222|        sao paulo|          SP|\n",
      "|05a48cc8859962767...|                  5372|        sao paulo|          SP|\n",
      "|7b8e8ec35bad4b0ef...|                 88705|          tubarao|          SC|\n",
      "|1444c08e64d55fb3c...|                 42738| lauro de freitas|          BA|\n",
      "|166e8f1381e096519...|                 88780|         imbituba|          SC|\n",
      "|e38db885400cd35c7...|                 70740|         brasilia|          DF|\n",
      "|d2e753bb80b7d4faa...|                 45810|     porto seguro|          BA|\n",
      "|f9ec7093df3a7b346...|                  5138|        sao paulo|          SP|\n",
      "+--------------------+----------------------+-----------------+------------+\n",
      "only showing top 20 rows\n",
      "\n"
     ]
    }
   ],
   "source": [
    "df_sellers.show()"
   ]
  },
  {
   "cell_type": "code",
   "execution_count": 60,
   "metadata": {
    "colab": {
     "base_uri": "https://localhost:8080/",
     "height": 459
    },
    "colab_type": "code",
    "id": "6k_XDB0C2Lp0",
    "outputId": "35744ab6-cf30-4d37-bdf3-94a791610f77"
   },
   "outputs": [
    {
     "name": "stdout",
     "output_type": "stream",
     "text": [
      "+---------------------------+---------------+---------------+----------------+-----------------+\n",
      "|geolocation_zip_code_prefix|geolocation_lat|geolocation_lng|geolocation_city|geolocation_state|\n",
      "+---------------------------+---------------+---------------+----------------+-----------------+\n",
      "|                       1001|   -23.55018978|   -46.63402356|       sao paulo|               SP|\n",
      "|                       1002|   -23.54814573|   -46.63497921|       sao paulo|               SP|\n",
      "|                       1003|   -23.54899372|   -46.63573131|       sao paulo|               SP|\n",
      "|                       1004|   -23.54979884|   -46.63475694|       sao paulo|               SP|\n",
      "|                       1005|    -23.5494562|   -46.63673295|       sao paulo|               SP|\n",
      "|                       1006|   -23.55010181|   -46.63613674|       são paulo|               SP|\n",
      "|                       1007|    -23.5500462|   -46.63725146|       sao paulo|               SP|\n",
      "|                       1008|   -23.54600175|   -46.63588592|       sao paulo|               SP|\n",
      "|                       1009|   -23.54683521|    -46.6364907|       sao paulo|               SP|\n",
      "|                       1010|   -23.54638944|   -46.63522608|       sao paulo|               SP|\n",
      "|                       1011|   -23.54690864|   -46.63558203|       sao paulo|               SP|\n",
      "|                       1012|   -23.54778973|   -46.63485901|       sao paulo|               SP|\n",
      "|                       1013|   -23.54714203|    -46.6342358|       sao paulo|               SP|\n",
      "|                       1014|   -23.54591281|   -46.63361537|       sao paulo|               SP|\n",
      "|                       1015|   -23.54766575|   -46.63155857|       sao paulo|               SP|\n",
      "|                       1016|   -23.54897641|   -46.63235193|       sao paulo|               SP|\n",
      "|                       1017|   -23.54953127|   -46.63102385|       sao paulo|               SP|\n",
      "|                       1018|   -23.55092852|   -46.63243147|       sao paulo|               SP|\n",
      "|                       1019|   -23.55177414|   -46.63089338|       sao paulo|               SP|\n",
      "|                       1020|   -23.55233565|   -46.63004971|       sao paulo|               SP|\n",
      "+---------------------------+---------------+---------------+----------------+-----------------+\n",
      "only showing top 20 rows\n",
      "\n"
     ]
    }
   ],
   "source": [
    "df_geolocation.show()"
   ]
  },
  {
   "cell_type": "code",
   "execution_count": 61,
   "metadata": {
    "colab": {
     "base_uri": "https://localhost:8080/",
     "height": 51
    },
    "colab_type": "code",
    "id": "UXSRpihV22tJ",
    "outputId": "a35ea9ae-051f-4692-b47c-2e954bebea41"
   },
   "outputs": [
    {
     "name": "stdout",
     "output_type": "stream",
     "text": [
      "The number of sellers: 3095\n",
      "The number of geolocation: 774645\n"
     ]
    }
   ],
   "source": [
    "print \"The number of sellers:\", df_sellers.count()\n",
    "print \"The number of geolocation:\", df_geolocation.count()"
   ]
  },
  {
   "cell_type": "code",
   "execution_count": 0,
   "metadata": {
    "colab": {},
    "colab_type": "code",
    "id": "MR7dyBkb6JHS"
   },
   "outputs": [],
   "source": [
    "def add_prefix(sdf, prefix):\n",
    "      for c in sdf.columns:\n",
    "          sdf = sdf.withColumnRenamed(c, '{}{}'.format(prefix, c))\n",
    "      return sdf"
   ]
  },
  {
   "cell_type": "code",
   "execution_count": 63,
   "metadata": {
    "colab": {
     "base_uri": "https://localhost:8080/",
     "height": 476
    },
    "colab_type": "code",
    "id": "YRq-4cSb6LBG",
    "outputId": "0c66a553-548a-4a53-d8b8-c4cc192ba72a"
   },
   "outputs": [
    {
     "name": "stdout",
     "output_type": "stream",
     "text": [
      "+----------------------------------+----------------------+----------------------+-----------------------+------------------------+\n",
      "|seller_geolocation_zip_code_prefix|seller_geolocation_lat|seller_geolocation_lng|seller_geolocation_city|seller_geolocation_state|\n",
      "+----------------------------------+----------------------+----------------------+-----------------------+------------------------+\n",
      "|                              1238|           -23.5425714|          -46.65424333|              sao paulo|                      SP|\n",
      "|                              2122|          -23.51196609|          -46.58386438|              sao paulo|                      SP|\n",
      "|                              2142|          -23.51019871|          -46.57671782|              sao paulo|                      SP|\n",
      "|                              2366|          -23.46773275|           -46.6105451|              sao paulo|                      SP|\n",
      "|                              2866|          -23.46768213|          -46.68087683|              sao paulo|                      SP|\n",
      "|                              3175|            -23.549368|           -46.5844974|              sao paulo|                      SP|\n",
      "|                              3918|          -23.59210769|          -46.51977944|              sao paulo|                      SP|\n",
      "|                              4101|          -23.58560675|          -46.63379475|              sao paulo|                      SP|\n",
      "|                              4935|          -23.68440943|          -46.76724221|              sao paulo|                      SP|\n",
      "|                              5518|          -23.58616717|           -46.7270021|              sao paulo|                      SP|\n",
      "|                              6397|          -23.53093004|          -46.85832902|            carapicuiba|                      SP|\n",
      "|                              6620|          -23.54729848|          -46.89250492|                jandira|                      SP|\n",
      "|                              6654|          -23.53890581|          -46.92410128|                itapevi|                      SP|\n",
      "|                              7240|          -23.44796349|          -46.43878765|              guarulhos|                      SP|\n",
      "|                              8592|          -23.46887384|          -46.29148241|        itaquaquecetuba|                      SP|\n",
      "|                              9852|           -23.7292447|          -46.59517055|   sao bernardo do c...|                      SP|\n",
      "|                             12940|          -23.11473052|          -46.55288054|                atibaia|                      SP|\n",
      "|                             13285|          -23.03554339|          -47.00577338|                vinhedo|                      SP|\n",
      "|                             13289|          -23.04025232|          -46.97978204|                vinhedo|                      SP|\n",
      "|                             13840|          -22.36604065|          -46.93816713|             mogi-guacu|                      SP|\n",
      "+----------------------------------+----------------------+----------------------+-----------------------+------------------------+\n",
      "only showing top 20 rows\n",
      "\n"
     ]
    },
    {
     "data": {
      "text/plain": [
       "19177"
      ]
     },
     "execution_count": 63,
     "metadata": {
      "tags": []
     },
     "output_type": "execute_result"
    }
   ],
   "source": [
    "new_seller_geolocation = add_prefix(new_geolocation,'seller_')\n",
    "new_seller_geolocation.show()\n",
    "new_seller_geolocation.count()"
   ]
  },
  {
   "cell_type": "code",
   "execution_count": 64,
   "metadata": {
    "colab": {
     "base_uri": "https://localhost:8080/",
     "height": 496
    },
    "colab_type": "code",
    "id": "j_sOo3XFYcdM",
    "outputId": "71f5db3e-bb9d-4e4a-ce40-cf17a3559ad0"
   },
   "outputs": [
    {
     "name": "stdout",
     "output_type": "stream",
     "text": [
      "+--------------------+----------------------+-----------------+------------+----------------------------------+----------------------+----------------------+-----------------------+------------------------+\n",
      "|           seller_id|seller_zip_code_prefix|      seller_city|seller_state|seller_geolocation_zip_code_prefix|seller_geolocation_lat|seller_geolocation_lng|seller_geolocation_city|seller_geolocation_state|\n",
      "+--------------------+----------------------+-----------------+------------+----------------------------------+----------------------+----------------------+-----------------------+------------------------+\n",
      "|3442f8959a84dea7e...|                 13023|         campinas|          SP|                             13023|          -22.89384803|          -47.06133702|               campinas|                      SP|\n",
      "|d1b65fc7debc3361e...|                 13844|       mogi guacu|          SP|                             13844|          -22.38343651|          -46.94792654|             mogi-guacu|                      SP|\n",
      "|ce3ad9de960102d06...|                 20031|   rio de janeiro|          RJ|                             20031|          -22.90957244|          -43.17770311|         rio de janeiro|                      RJ|\n",
      "|c0f3eea2e14555b6f...|                  4195|        sao paulo|          SP|                              4195|          -23.65724198|          -46.61283084|              sao paulo|                      SP|\n",
      "|51a04a8a6bdcb23de...|                 12914|braganca paulista|          SP|                             12914|          -22.96480278|          -46.53441931|      braganca paulista|                      SP|\n",
      "|c240c4061717ac180...|                 20920|   rio de janeiro|          RJ|                             20920|          -22.89524486|          -43.23190255|         rio de janeiro|                      RJ|\n",
      "|e49c26c3edfa46d22...|                 55325|           brejao|          PE|                             55325|          -9.024839005|          -36.57020045|                 brejão|                      PE|\n",
      "|1b938a7ec6ac5061a...|                 16304|        penapolis|          SP|                             16304|          -21.43740266|          -50.07693057|              penapolis|                      SP|\n",
      "|768a86e36ad6aae3d...|                  1529|        sao paulo|          SP|                              1529|          -23.56843916|          -46.63455549|              sao paulo|                      SP|\n",
      "|ccc4bbb5f32a6ab2b...|                 80310|         curitiba|          PR|                             80310|          -25.45693388|          -49.30945498|               curitiba|                      PR|\n",
      "|8cb7c5ddf41f4d506...|                 75110|         anapolis|          GO|                             75110|          -16.33320359|          -48.93962957|               anapolis|                      GO|\n",
      "|a7a9b880c49781da6...|                 13530|        itirapina|          SP|                             13530|           -22.2520026|          -47.81543112|              itirapina|                      SP|\n",
      "|8bd0f31cf0a614c65...|                  1222|        sao paulo|          SP|                              1222|          -23.54594454|          -46.64936937|              sao paulo|                      SP|\n",
      "|05a48cc8859962767...|                  5372|        sao paulo|          SP|                              5372|           -23.5798303|          -46.75751353|              sao paulo|                      SP|\n",
      "|7b8e8ec35bad4b0ef...|                 88705|          tubarao|          SC|                             88705|          -28.47887847|          -48.99587861|                tubarao|                      SC|\n",
      "|1444c08e64d55fb3c...|                 42738| lauro de freitas|          BA|                             42738|          -12.89316675|          -38.33787463|       lauro de freitas|                      BA|\n",
      "|166e8f1381e096519...|                 88780|         imbituba|          SC|                             88780|          -28.23188262|          -48.67933195|               imbituba|                      SC|\n",
      "|e38db885400cd35c7...|                 70740|         brasilia|          DF|                             70740|          -15.76795568|          -47.89101173|               brasilia|                      DF|\n",
      "|d2e753bb80b7d4faa...|                 45810|     porto seguro|          BA|                             45810|           -16.4320271|          -39.07562867|           porto seguro|                      BA|\n",
      "|f9ec7093df3a7b346...|                  5138|        sao paulo|          SP|                              5138|           -23.4847697|          -46.73414273|              são paulo|                      SP|\n",
      "+--------------------+----------------------+-----------------+------------+----------------------------------+----------------------+----------------------+-----------------------+------------------------+\n",
      "only showing top 20 rows\n",
      "\n"
     ]
    },
    {
     "data": {
      "text/plain": [
       "3095"
      ]
     },
     "execution_count": 64,
     "metadata": {
      "tags": []
     },
     "output_type": "execute_result"
    }
   ],
   "source": [
    "# Merge orders dataset and items dataset!!!\n",
    "new_seller = df_sellers.join(new_seller_geolocation, df_sellers.seller_zip_code_prefix == new_seller_geolocation.seller_geolocation_zip_code_prefix, how='left')\n",
    "new_seller.show()\n",
    "new_seller.count()"
   ]
  },
  {
   "cell_type": "code",
   "execution_count": 65,
   "metadata": {
    "colab": {
     "base_uri": "https://localhost:8080/",
     "height": 459
    },
    "colab_type": "code",
    "id": "X5gWUXdF5Fog",
    "outputId": "ca8cf7da-348c-42f0-fdb7-e9ba90acae6c"
   },
   "outputs": [
    {
     "name": "stdout",
     "output_type": "stream",
     "text": [
      "+--------------------+----------------------+-----------------+------------+----------------------+----------------------+\n",
      "|           seller_id|seller_zip_code_prefix|      seller_city|seller_state|seller_geolocation_lat|seller_geolocation_lng|\n",
      "+--------------------+----------------------+-----------------+------------+----------------------+----------------------+\n",
      "|3442f8959a84dea7e...|                 13023|         campinas|          SP|          -22.89384803|          -47.06133702|\n",
      "|d1b65fc7debc3361e...|                 13844|       mogi guacu|          SP|          -22.38343651|          -46.94792654|\n",
      "|ce3ad9de960102d06...|                 20031|   rio de janeiro|          RJ|          -22.90957244|          -43.17770311|\n",
      "|c0f3eea2e14555b6f...|                  4195|        sao paulo|          SP|          -23.65724198|          -46.61283084|\n",
      "|51a04a8a6bdcb23de...|                 12914|braganca paulista|          SP|          -22.96480278|          -46.53441931|\n",
      "|c240c4061717ac180...|                 20920|   rio de janeiro|          RJ|          -22.89524486|          -43.23190255|\n",
      "|e49c26c3edfa46d22...|                 55325|           brejao|          PE|          -9.024839005|          -36.57020045|\n",
      "|1b938a7ec6ac5061a...|                 16304|        penapolis|          SP|          -21.43740266|          -50.07693057|\n",
      "|768a86e36ad6aae3d...|                  1529|        sao paulo|          SP|          -23.56843916|          -46.63455549|\n",
      "|ccc4bbb5f32a6ab2b...|                 80310|         curitiba|          PR|          -25.45693388|          -49.30945498|\n",
      "|8cb7c5ddf41f4d506...|                 75110|         anapolis|          GO|          -16.33320359|          -48.93962957|\n",
      "|a7a9b880c49781da6...|                 13530|        itirapina|          SP|           -22.2520026|          -47.81543112|\n",
      "|8bd0f31cf0a614c65...|                  1222|        sao paulo|          SP|          -23.54594454|          -46.64936937|\n",
      "|05a48cc8859962767...|                  5372|        sao paulo|          SP|           -23.5798303|          -46.75751353|\n",
      "|7b8e8ec35bad4b0ef...|                 88705|          tubarao|          SC|          -28.47887847|          -48.99587861|\n",
      "|1444c08e64d55fb3c...|                 42738| lauro de freitas|          BA|          -12.89316675|          -38.33787463|\n",
      "|166e8f1381e096519...|                 88780|         imbituba|          SC|          -28.23188262|          -48.67933195|\n",
      "|e38db885400cd35c7...|                 70740|         brasilia|          DF|          -15.76795568|          -47.89101173|\n",
      "|d2e753bb80b7d4faa...|                 45810|     porto seguro|          BA|           -16.4320271|          -39.07562867|\n",
      "|f9ec7093df3a7b346...|                  5138|        sao paulo|          SP|           -23.4847697|          -46.73414273|\n",
      "+--------------------+----------------------+-----------------+------------+----------------------+----------------------+\n",
      "only showing top 20 rows\n",
      "\n"
     ]
    }
   ],
   "source": [
    "new_seller.drop(\"seller_geolocation_zip_code_prefix\",\"seller_geolocation_city\",\"seller_geolocation_state\").show()"
   ]
  },
  {
   "cell_type": "code",
   "execution_count": 66,
   "metadata": {
    "colab": {
     "base_uri": "https://localhost:8080/",
     "height": 476
    },
    "colab_type": "code",
    "id": "TTrot_-_7UMU",
    "outputId": "7a2d3828-b263-4b5a-e2c6-0ad2a3a6c8a2"
   },
   "outputs": [
    {
     "name": "stdout",
     "output_type": "stream",
     "text": [
      "+--------------------+----------------------+-----------------+------------+----------------------+----------------------+\n",
      "|           seller_id|seller_zip_code_prefix|      seller_city|seller_state|seller_geolocation_lat|seller_geolocation_lng|\n",
      "+--------------------+----------------------+-----------------+------------+----------------------+----------------------+\n",
      "|3442f8959a84dea7e...|                 13023|         campinas|          SP|          -22.89384803|          -47.06133702|\n",
      "|d1b65fc7debc3361e...|                 13844|       mogi guacu|          SP|          -22.38343651|          -46.94792654|\n",
      "|ce3ad9de960102d06...|                 20031|   rio de janeiro|          RJ|          -22.90957244|          -43.17770311|\n",
      "|c0f3eea2e14555b6f...|                  4195|        sao paulo|          SP|          -23.65724198|          -46.61283084|\n",
      "|51a04a8a6bdcb23de...|                 12914|braganca paulista|          SP|          -22.96480278|          -46.53441931|\n",
      "|c240c4061717ac180...|                 20920|   rio de janeiro|          RJ|          -22.89524486|          -43.23190255|\n",
      "|e49c26c3edfa46d22...|                 55325|           brejao|          PE|          -9.024839005|          -36.57020045|\n",
      "|1b938a7ec6ac5061a...|                 16304|        penapolis|          SP|          -21.43740266|          -50.07693057|\n",
      "|768a86e36ad6aae3d...|                  1529|        sao paulo|          SP|          -23.56843916|          -46.63455549|\n",
      "|ccc4bbb5f32a6ab2b...|                 80310|         curitiba|          PR|          -25.45693388|          -49.30945498|\n",
      "|8cb7c5ddf41f4d506...|                 75110|         anapolis|          GO|          -16.33320359|          -48.93962957|\n",
      "|a7a9b880c49781da6...|                 13530|        itirapina|          SP|           -22.2520026|          -47.81543112|\n",
      "|8bd0f31cf0a614c65...|                  1222|        sao paulo|          SP|          -23.54594454|          -46.64936937|\n",
      "|05a48cc8859962767...|                  5372|        sao paulo|          SP|           -23.5798303|          -46.75751353|\n",
      "|7b8e8ec35bad4b0ef...|                 88705|          tubarao|          SC|          -28.47887847|          -48.99587861|\n",
      "|1444c08e64d55fb3c...|                 42738| lauro de freitas|          BA|          -12.89316675|          -38.33787463|\n",
      "|166e8f1381e096519...|                 88780|         imbituba|          SC|          -28.23188262|          -48.67933195|\n",
      "|e38db885400cd35c7...|                 70740|         brasilia|          DF|          -15.76795568|          -47.89101173|\n",
      "|d2e753bb80b7d4faa...|                 45810|     porto seguro|          BA|           -16.4320271|          -39.07562867|\n",
      "|f9ec7093df3a7b346...|                  5138|        sao paulo|          SP|           -23.4847697|          -46.73414273|\n",
      "+--------------------+----------------------+-----------------+------------+----------------------+----------------------+\n",
      "only showing top 20 rows\n",
      "\n"
     ]
    },
    {
     "data": {
      "text/plain": [
       "3095"
      ]
     },
     "execution_count": 66,
     "metadata": {
      "tags": []
     },
     "output_type": "execute_result"
    }
   ],
   "source": [
    "# Now, we get merged seller dataset.\n",
    "new_seller = new_seller.drop(\"seller_geolocation_zip_code_prefix\",\"seller_geolocation_city\",\"seller_geolocation_state\")\n",
    "new_seller.show()\n",
    "new_seller.count()"
   ]
  },
  {
   "cell_type": "code",
   "execution_count": 67,
   "metadata": {
    "colab": {
     "base_uri": "https://localhost:8080/",
     "height": 459
    },
    "colab_type": "code",
    "id": "FERChDVUR-G8",
    "outputId": "f14de1e9-0525-431b-e8d3-8a381f59986c"
   },
   "outputs": [
    {
     "name": "stdout",
     "output_type": "stream",
     "text": [
      "+--------------------+----------------------+-----------------+------------+----------------------+----------------------+\n",
      "|           seller_id|seller_zip_code_prefix|      seller_city|seller_state|seller_geolocation_lat|seller_geolocation_lng|\n",
      "+--------------------+----------------------+-----------------+------------+----------------------+----------------------+\n",
      "|3442f8959a84dea7e...|                 13023|         campinas|          SP|          -22.89384803|          -47.06133702|\n",
      "|d1b65fc7debc3361e...|                 13844|       mogi guacu|          SP|          -22.38343651|          -46.94792654|\n",
      "|ce3ad9de960102d06...|                 20031|   rio de janeiro|          RJ|          -22.90957244|          -43.17770311|\n",
      "|c0f3eea2e14555b6f...|                  4195|        sao paulo|          SP|          -23.65724198|          -46.61283084|\n",
      "|51a04a8a6bdcb23de...|                 12914|braganca paulista|          SP|          -22.96480278|          -46.53441931|\n",
      "|c240c4061717ac180...|                 20920|   rio de janeiro|          RJ|          -22.89524486|          -43.23190255|\n",
      "|e49c26c3edfa46d22...|                 55325|           brejao|          PE|          -9.024839005|          -36.57020045|\n",
      "|1b938a7ec6ac5061a...|                 16304|        penapolis|          SP|          -21.43740266|          -50.07693057|\n",
      "|768a86e36ad6aae3d...|                  1529|        sao paulo|          SP|          -23.56843916|          -46.63455549|\n",
      "|ccc4bbb5f32a6ab2b...|                 80310|         curitiba|          PR|          -25.45693388|          -49.30945498|\n",
      "|8cb7c5ddf41f4d506...|                 75110|         anapolis|          GO|          -16.33320359|          -48.93962957|\n",
      "|a7a9b880c49781da6...|                 13530|        itirapina|          SP|           -22.2520026|          -47.81543112|\n",
      "|8bd0f31cf0a614c65...|                  1222|        sao paulo|          SP|          -23.54594454|          -46.64936937|\n",
      "|05a48cc8859962767...|                  5372|        sao paulo|          SP|           -23.5798303|          -46.75751353|\n",
      "|7b8e8ec35bad4b0ef...|                 88705|          tubarao|          SC|          -28.47887847|          -48.99587861|\n",
      "|1444c08e64d55fb3c...|                 42738| lauro de freitas|          BA|          -12.89316675|          -38.33787463|\n",
      "|166e8f1381e096519...|                 88780|         imbituba|          SC|          -28.23188262|          -48.67933195|\n",
      "|e38db885400cd35c7...|                 70740|         brasilia|          DF|          -15.76795568|          -47.89101173|\n",
      "|d2e753bb80b7d4faa...|                 45810|     porto seguro|          BA|           -16.4320271|          -39.07562867|\n",
      "|f9ec7093df3a7b346...|                  5138|        sao paulo|          SP|           -23.4847697|          -46.73414273|\n",
      "+--------------------+----------------------+-----------------+------------+----------------------+----------------------+\n",
      "only showing top 20 rows\n",
      "\n"
     ]
    }
   ],
   "source": [
    "new_seller.show()"
   ]
  },
  {
   "cell_type": "markdown",
   "metadata": {
    "colab_type": "text",
    "id": "U6OVrc5-8AA9"
   },
   "source": [
    "######################################################################################################"
   ]
  },
  {
   "cell_type": "code",
   "execution_count": 68,
   "metadata": {
    "colab": {
     "base_uri": "https://localhost:8080/",
     "height": 68
    },
    "colab_type": "code",
    "id": "9Iik0_5QIaBz",
    "outputId": "c87914d6-b351-497d-f2d7-df853c93cb85"
   },
   "outputs": [
    {
     "name": "stdout",
     "output_type": "stream",
     "text": [
      "The number of customer section dataset: : 99441\n",
      "The number of product section dataset: : 112650\n",
      "The number of seller section dataset: : 3095\n"
     ]
    }
   ],
   "source": [
    "print \"The number of customer section dataset: :\", new_customer.count()\n",
    "print \"The number of product section dataset: :\", new_item.count()\n",
    "print \"The number of seller section dataset: :\", new_seller.count()"
   ]
  },
  {
   "cell_type": "code",
   "execution_count": 69,
   "metadata": {
    "colab": {
     "base_uri": "https://localhost:8080/",
     "height": 496
    },
    "colab_type": "code",
    "id": "ck7YG4YG7wF9",
    "outputId": "acdeedf1-9567-4eb4-a33b-e938029d9696"
   },
   "outputs": [
    {
     "name": "stdout",
     "output_type": "stream",
     "text": [
      "+--------------------+--------------------+------------+------------------------+-----------------+----------------------------+-----------------------------+-----------------------------+--------------------+------------------------+--------------------+--------------+------------------------+------------------------+--------------------+------------+--------------------+----------------------+--------------------+-----------------------+-------------+------------------+------------------+--------------------+-------------+--------------------+-------------------+------+-------------+-------------------+--------------------------+------------------+----------------+-----------------+-----------------+----------------+-----------------------------+\n",
      "|            order_id|         customer_id|order_status|order_purchase_timestamp|order_approved_at|order_delivered_carrier_date|order_delivered_customer_date|order_estimated_delivery_date|  customer_unique_id|customer_zip_code_prefix|       customer_city|customer_state|customer_geolocation_lat|customer_geolocation_lng|           review_id|review_score|review_comment_title|review_comment_message|review_creation_date|review_answer_timestamp|total_payment|payment_type_count|payment_type_value|          product_id|order_item_id|           seller_id|shipping_limit_date| price|freight_value|product_name_lenght|product_description_lenght|product_photos_qty|product_weight_g|product_length_cm|product_height_cm|product_width_cm|product_category_name_english|\n",
      "+--------------------+--------------------+------------+------------------------+-----------------+----------------------------+-----------------------------+-----------------------------+--------------------+------------------------+--------------------+--------------+------------------------+------------------------+--------------------+------------+--------------------+----------------------+--------------------+-----------------------+-------------+------------------+------------------+--------------------+-------------+--------------------+-------------------+------+-------------+-------------------+--------------------------+------------------+----------------+-----------------+-----------------+----------------+-----------------------------+\n",
      "|014405982914c2cde...|2de342d6e5905a5a8...|   delivered|         7/26/2017 17:38|  7/26/2017 17:50|             7/27/2017 19:39|              7/31/2017 15:53|               8/17/2017 0:00|e8d87ee946600f775...|                   26551|            mesquita|            RJ|            -22.78170709|            -43.42552236|ba5e6d78da2b2c3f5...|           5|                null|                  null| 2017-08-01 00:00:00|    2017-08-04 19:34:54|        78.43|     (4,[1],[7.0])|   (4,[1],[78.43])|6782d593f63105318...|            1|325f3178fb58e2a97...|2017-08-01 17:50:17|  27.9|         3.81|                 30|                       487|                 1|             200|               16|               14|              12|                    perfumery|\n",
      "|014405982914c2cde...|2de342d6e5905a5a8...|   delivered|         7/26/2017 17:38|  7/26/2017 17:50|             7/27/2017 19:39|              7/31/2017 15:53|               8/17/2017 0:00|e8d87ee946600f775...|                   26551|            mesquita|            RJ|            -22.78170709|            -43.42552236|ba5e6d78da2b2c3f5...|           5|                null|                  null| 2017-08-01 00:00:00|    2017-08-04 19:34:54|        78.43|     (4,[1],[7.0])|   (4,[1],[78.43])|e95ee6822b66ac605...|            2|a17f621c590ea0fab...|2017-08-01 17:50:17| 21.33|        25.39|                 52|                      1153|                 1|             180|               17|               11|              14|               sports_leisure|\n",
      "|019886de8f385a39b...|8cf88d7ba142365ef...|   delivered|         2/10/2018 12:52|  2/10/2018 13:08|             2/14/2018 15:28|               2/23/2018 2:03|               3/14/2018 0:00|d29ede26cd3e2817b...|                   79092|        campo grande|            MS|            -20.49786195|            -54.65611695|3a6ebeb7f45583720...|           5|                null|  Produto foi entre...| 2018-02-24 00:00:00|    2018-02-27 15:10:57|        188.4|     (4,[1],[2.0])|   (4,[1],[188.4])|e9a69340883a438c3...|            1|1b4c3a6f53068f0b6...|2018-02-15 13:08:12| 159.9|         28.5|                 60|                      1912|                 5|            3000|               33|               12|              34|                   housewares|\n",
      "|01a6ad782455876aa...|71accffbcbdf8e02f...|   delivered|         1/18/2018 10:07|  1/18/2018 10:17|             1/22/2018 22:37|               2/1/2018 21:02|               2/20/2018 0:00|31c23262d79bc7e80...|                   98801|        santo angelo|            RS|            -28.30487551|            -54.26489554|34fdf58aa22a5d9c4...|           3|                null|                  null| 2018-02-02 00:00:00|    2018-02-05 09:59:55|        50.09|     (4,[1],[5.0])|   (4,[1],[50.09])|036734b5a58d5d4f4...|            1|ea8482cd71df3c196...|2018-01-24 10:17:29| 34.99|         15.1|                 58|                       751|                 5|             300|               17|                4|              12|                    telephony|\n",
      "|01d907b3e209269e1...|d02cc92f5e33eb58d...|   delivered|          8/9/2017 16:21|  8/10/2017 10:25|             8/11/2017 19:05|              8/16/2017 22:34|               8/29/2017 0:00|a7b781410bcc8bbf3...|                    8503|ferraz de vasconc...|            SP|            -23.54853848|            -46.36050899|d551da337adf573d0...|           5|                null|                  null| 2017-08-17 00:00:00|    2017-08-20 20:01:58|       169.76|    (4,[1],[10.0])|  (4,[1],[169.76])|b1434a8f79cb35285...|            1|d1c281d3ae1492323...|2017-08-16 10:25:08|151.99|        17.77|                 57|                       184|                 1|           13500|               55|               25|              35|               bed_bath_table|\n",
      "|028dc52e12ddda803...|8c89a09d8fb33b6e5...|   delivered|         12/19/2017 9:43| 12/19/2017 10:53|            12/20/2017 16:49|             12/21/2017 14:22|                1/8/2018 0:00|148a35e3469010c97...|                    8550|                 poa|            SP|            -23.52194421|            -46.34087493|a096e8952867d5803...|           5|                null|  Já comprei divers...| 2017-12-22 00:00:00|    2017-12-23 13:02:52|        61.72|     (4,[2],[1.0])|   (4,[2],[61.72])|d86a6c48f83b045cb...|            1|c8b3445d737de6bef...|2017-12-26 10:53:22| 49.99|        11.73|                 58|                      1150|                 2|            3900|               45|               33|              26|                         toys|\n",
      "|036dd381dfb3ec75e...|00f5116a953fdf1b8...|   delivered|          9/4/2017 22:25|   9/4/2017 22:43|              9/5/2017 20:49|              9/13/2017 20:36|               9/27/2017 0:00|9f268d26a5ab98397...|                   26325|           queimados|            RJ|            -22.72046602|            -43.55679726|32103f7ad6e08ff69...|           5|                null|                  null| 2017-09-14 00:00:00|    2017-11-04 11:30:12|        69.14|     (4,[1],[3.0])|   (4,[1],[69.14])|aa8d88eb4b9cb3889...|            1|6560211a19b47992c...|2017-09-11 22:43:55|  55.0|        14.14|                 54|                       335|                 4|             250|               16|                2|              11|                watches_gifts|\n",
      "|03ebfa9712b7dbc70...|4024b83c510f00432...|   delivered|         3/23/2018 11:20|  3/23/2018 18:48|             3/26/2018 21:17|              3/27/2018 15:04|                4/5/2018 0:00|60389b9628af3e1ed...|                    9280|         santo andre|            SP|            -23.64014378|            -46.51615948|6453879a422cb8285...|           5|                null|                  null| 2018-03-28 00:00:00|    2018-03-28 19:31:15|        55.78|     (4,[0],[1.0])|   (4,[0],[55.78])|aa6746e94490239d3...|            1|9674754b5a0cb32b6...|2018-03-29 18:48:53|  46.9|         8.88|                 37|                        90|                 1|             500|               16|               35|              25|             small_appliances|\n",
      "|0420da8d50a378401...|0949b5cf9adad08c1...|   delivered|          8/9/2018 16:42|   8/9/2018 17:35|             8/13/2018 12:48|              8/16/2018 19:45|               8/21/2018 0:00|ab2731479851fc801...|                   13563|          sao carlos|            SP|             -21.9868294|            -47.92561804|ae0ded69ab7874b11...|           5|               Otimo|  O produto e igual...| 2018-08-17 00:00:00|    2018-08-20 01:49:39|        74.63|     (4,[1],[1.0])|   (4,[1],[74.63])|5ca739ddd646d1ba5...|            1|406822777a0b9eb5c...|2018-08-13 17:35:18|  59.9|        14.73|                 49|                       892|                 2|            1200|               52|               13|              37|                         toys|\n",
      "|05afef1c185862cab...|296de103322e463a1...|   delivered|         7/25/2017 10:47|  7/25/2017 11:03|             7/31/2017 15:49|              8/21/2017 21:10|                9/4/2017 0:00|7857dff0702239bcf...|                   59151|          parnamirim|            RN|            -5.883632921|            -35.20384949|671a65bed4c9881a0...|           4|                null|                  null| 2017-08-22 00:00:00|    2017-09-01 19:10:24|       101.32|     (4,[1],[6.0])|  (4,[1],[101.32])|ac7e981115ad47f0e...|            1|53e4c6e0f4312d4d2...|2017-07-31 11:03:10| 27.99|        22.67|                 42|                       241|                 2|             500|               30|               30|              30|                   housewares|\n",
      "|05afef1c185862cab...|296de103322e463a1...|   delivered|         7/25/2017 10:47|  7/25/2017 11:03|             7/31/2017 15:49|              8/21/2017 21:10|                9/4/2017 0:00|7857dff0702239bcf...|                   59151|          parnamirim|            RN|            -5.883632921|            -35.20384949|671a65bed4c9881a0...|           4|                null|                  null| 2017-08-22 00:00:00|    2017-09-01 19:10:24|       101.32|     (4,[1],[6.0])|  (4,[1],[101.32])|ac7e981115ad47f0e...|            2|53e4c6e0f4312d4d2...|2017-07-31 11:03:10| 27.99|        22.67|                 42|                       241|                 2|             500|               30|               30|              30|                   housewares|\n",
      "|05bef443b85068505...|4ff3f3945300d8e04...|   delivered|         5/30/2018 16:33|   6/1/2018 10:52|              6/1/2018 13:54|              6/26/2018 19:03|                7/5/2018 0:00|a63af578b9678bf77...|                   65065|            sao luis|            MA|            -2.500952454|            -44.22708376|77136b940e2015eb1...|           5|                null|                  null| 2018-06-27 00:00:00|    2018-06-29 22:41:03|        79.52|     (4,[1],[7.0])|   (4,[1],[79.52])|44e086c4a977f37a8...|            1|f5a590cf36251cf11...|2018-06-11 10:52:26|  55.0|        24.52|                 60|                       234|                 1|             600|               20|               20|              20|          musical_instruments|\n",
      "|05d46826bd0fb605d...|c5a9ffc867b51a706...|   delivered|         8/27/2018 19:21|  8/27/2018 19:35|             8/28/2018 19:02|              8/29/2018 17:28|               9/11/2018 0:00|a75583a63d1dc5591...|                    4116|           sao paulo|            SP|            -23.59251095|            -46.62549344|4ebd94e5936c7f442...|           4| Chegou super rapido|  Chegou super rápi...| 2018-08-30 00:00:00|    2018-08-31 00:46:55|        61.36|     (4,[1],[2.0])|   (4,[1],[61.36])|e84d1a4a08db13e8d...|            1|7f40d06aa0b5f1aa4...|2018-08-29 19:35:20| 49.99|        11.37|                 34|                       926|                 2|             700|               24|               15|              24|                         food|\n",
      "|06fec3f6e9e72edb6...|b6fe463c461a6e4fe...|   delivered|         6/14/2018 14:55|  6/14/2018 15:20|             6/15/2018 17:25|               7/11/2018 0:38|               7/19/2018 0:00|ad8dc8878b71d1a54...|                   57055|              maceio|            AL|            -9.635531947|             -35.7397505|4dabd36c045ad78b9...|           2|                null|                  null| 2018-07-12 00:00:00|    2018-07-12 16:46:43|       137.23|     (4,[1],[4.0])|  (4,[1],[137.23])|8562e2c780a345b60...|            1|8160255418d5aaa7d...|2018-06-19 15:20:49|  79.9|        57.33|                 51|                      1208|                 1|            1100|               45|                8|              35|               bed_bath_table|\n",
      "|077700dcf4e3bb412...|aa7885fdaef957a25...|   delivered|        11/20/2017 11:46| 11/20/2017 12:07|            11/22/2017 17:33|             11/29/2017 13:51|              12/11/2017 0:00|64c28dc9ff718fe40...|                   30520|      belo horizonte|            MG|            -19.94041113|            -44.01845243|7ca10e3bb1fcea458...|           5|                null|                  null| 2017-11-30 00:00:00|    2017-12-02 22:36:46|       215.05|     (4,[1],[4.0])|  (4,[1],[215.05])|6cd0d08f09a8b3245...|            1|fa1c13f2614d7b5c4...|2017-11-24 12:07:32| 199.9|        15.15|                 46|                       436|                 1|             416|               16|                7|              12|                watches_gifts|\n",
      "|078c2d9bb7e5905e8...|0a3459f8f647c5483...|   delivered|         3/25/2018 11:28|  3/25/2018 11:47|             3/26/2018 20:31|              3/28/2018 15:48|               4/13/2018 0:00|1f706bf3d8588cd35...|                   31035|      belo horizonte|            MG|            -19.89826888|             -43.9205695|0fe1925ee5bc8adcd...|           3|                null|  Nao recebi a capa...| 2018-03-29 00:00:00|    2018-04-02 17:47:34|       135.28|     (4,[1],[1.0])|  (4,[1],[135.28])|d59349a33fcba1870...|            1|7d456afc660226829...|2018-03-29 11:47:34|  68.0|        18.69|                 50|                      1005|                 1|             850|               30|                6|              26|               bed_bath_table|\n",
      "|078c2d9bb7e5905e8...|0a3459f8f647c5483...|   delivered|         3/25/2018 11:28|  3/25/2018 11:47|             3/26/2018 20:31|              3/28/2018 15:48|               4/13/2018 0:00|1f706bf3d8588cd35...|                   31035|      belo horizonte|            MG|            -19.89826888|             -43.9205695|0fe1925ee5bc8adcd...|           3|                null|  Nao recebi a capa...| 2018-03-29 00:00:00|    2018-04-02 17:47:34|       135.28|     (4,[1],[1.0])|  (4,[1],[135.28])|ce5a5a85a0704113b...|            2|cfb1a033743668a19...|2018-03-29 11:47:34|  29.9|        18.69|                 30|                       115|                 1|             733|               19|               12|              18|               bed_bath_table|\n",
      "|08791ec24b12af5af...|98910418a06188d89...|   delivered|          4/17/2018 8:38|  4/18/2018 15:45|              4/20/2018 0:03|              4/25/2018 14:13|               5/17/2018 0:00|96297b7f2c89525e5...|                   88901|           ararangua|            SC|            -28.94404447|            -49.49918341|63602d1a0f1a329ae...|           5|                   5|  Chegou dentro do ...| 2018-04-26 00:00:00|    2018-04-29 01:01:06|       445.87|     (4,[1],[9.0])|  (4,[1],[445.87])|11250b0d4b709fee9...|            1|e59aa562b9f8076dd...|2018-04-24 15:31:47| 412.0|        33.87|                 28|                       388|                 2|            3000|               30|               30|              20|         agro_industry_and...|\n",
      "|08b450b388221bfe5...|48484f48de7aa7c06...|   delivered|          11/1/2017 1:48|   11/1/2017 2:06|             11/1/2017 19:22|              11/7/2017 16:32|              11/23/2017 0:00|25e840a7c51ad06c6...|                   88130|             palhoca|            SC|            -27.63653957|            -48.65548932|bbab8347323754372...|           1|                null|  o produto anuncia...| 2017-11-08 00:00:00|    2017-12-26 20:11:21|       167.41|     (4,[1],[2.0])|  (4,[1],[167.41])|9a803c36a15de3fd9...|            1|df56d7b40d437f884...|2017-11-08 02:06:10| 145.9|        21.51|                 45|                      3494|                 1|            2693|               29|               28|              26|               sports_leisure|\n",
      "|0957ed870116e596b...|0f0603d577f299ca1...|   delivered|         1/29/2017 22:14|  1/29/2017 22:33|              1/30/2017 8:27|               2/8/2017 17:14|               3/20/2017 0:00|903fccb1294b588a6...|                   59086|               natal|            RN|            -5.866604369|            -35.21027288|25220e954a5481d5b...|           5|                null|                  null| 2017-02-10 00:00:00|    2017-02-10 08:18:57|       157.99|     (4,[1],[4.0])|  (4,[1],[157.99])|5b8423dc7f23089c9...|            1|a3a38f4affed601eb...|2017-02-02 22:14:49|129.99|         28.0|                 59|                      1629|                 3|            5250|               51|               15|              52|                         toys|\n",
      "+--------------------+--------------------+------------+------------------------+-----------------+----------------------------+-----------------------------+-----------------------------+--------------------+------------------------+--------------------+--------------+------------------------+------------------------+--------------------+------------+--------------------+----------------------+--------------------+-----------------------+-------------+------------------+------------------+--------------------+-------------+--------------------+-------------------+------+-------------+-------------------+--------------------------+------------------+----------------+-----------------+-----------------+----------------+-----------------------------+\n",
      "only showing top 20 rows\n",
      "\n"
     ]
    },
    {
     "data": {
      "text/plain": [
       "112650"
      ]
     },
     "execution_count": 69,
     "metadata": {
      "tags": []
     },
     "output_type": "execute_result"
    }
   ],
   "source": [
    "# Merge orders dataset and items dataset!!!\n",
    "customer_product_group = new_customer.join(new_item, on='order_id', how='inner') # Left-join\n",
    "customer_product_group.show()\n",
    "customer_product_group.count()"
   ]
  },
  {
   "cell_type": "code",
   "execution_count": 70,
   "metadata": {
    "colab": {
     "base_uri": "https://localhost:8080/",
     "height": 938
    },
    "colab_type": "code",
    "id": "GWKBPZby7sn0",
    "outputId": "a52c5bff-004c-4e8a-96d8-1b2ac9d15b04"
   },
   "outputs": [
    {
     "name": "stdout",
     "output_type": "stream",
     "text": [
      "+--------------------+--------------------+--------------------+------------+------------------------+-----------------+----------------------------+-----------------------------+-----------------------------+--------------------+------------------------+---------------+--------------+------------------------+------------------------+--------------------+------------+--------------------+----------------------+--------------------+-----------------------+-------------+-------------------+--------------------+--------------------+-------------+-------------------+-----+-------------+-------------------+--------------------------+------------------+----------------+-----------------+-----------------+----------------+-----------------------------+----------------------+-----------+------------+----------------------+----------------------+\n",
      "|           seller_id|            order_id|         customer_id|order_status|order_purchase_timestamp|order_approved_at|order_delivered_carrier_date|order_delivered_customer_date|order_estimated_delivery_date|  customer_unique_id|customer_zip_code_prefix|  customer_city|customer_state|customer_geolocation_lat|customer_geolocation_lng|           review_id|review_score|review_comment_title|review_comment_message|review_creation_date|review_answer_timestamp|total_payment| payment_type_count|  payment_type_value|          product_id|order_item_id|shipping_limit_date|price|freight_value|product_name_lenght|product_description_lenght|product_photos_qty|product_weight_g|product_length_cm|product_height_cm|product_width_cm|product_category_name_english|seller_zip_code_prefix|seller_city|seller_state|seller_geolocation_lat|seller_geolocation_lng|\n",
      "+--------------------+--------------------+--------------------+------------+------------------------+-----------------+----------------------------+-----------------------------+-----------------------------+--------------------+------------------------+---------------+--------------+------------------------+------------------------+--------------------+------------+--------------------+----------------------+--------------------+-----------------------+-------------+-------------------+--------------------+--------------------+-------------+-------------------+-----+-------------+-------------------+--------------------------+------------------+----------------+-----------------+-----------------+----------------+-----------------------------+----------------------+-----------+------------+----------------------+----------------------+\n",
      "|062ce95fa2ad4dfae...|b6fa6ea37aeeb90c9...|e2dc0b0cef1781793...|   delivered|         4/24/2017 10:31|   4/25/2017 8:02|              5/2/2017 11:30|              5/22/2017 16:07|               5/25/2017 0:00|4f308d513ccac2840...|                   72457|       brasilia|            DF|            -16.02294658|            -48.05071816|11bbc10384b40b673...|           5|                null|                  null| 2017-05-23 00:00:00|    2017-05-24 12:20:05|       100.91|      (4,[0],[1.0])|    (4,[0],[100.91])|8a4505505378c8f5d...|            1|2017-05-04 08:02:25| 79.9|        21.01|                 47|                      1400|                 1|             325|               19|               20|              18|                health_beauty|                 95913|    lajeado|          RS|          -29.44657989|          -51.96120191|\n",
      "|062ce95fa2ad4dfae...|87a838f48767365e2...|60c9723c5d232b784...|   delivered|         3/16/2017 16:16|  3/16/2017 16:16|             3/21/2017 16:08|              3/28/2017 16:04|                4/6/2017 0:00|6b3b92110c5adfe4a...|                   89705|      concordia|            SC|            -27.23090863|             -52.0454811|654815c89e6174154...|           5|                null|  Adorei o produto ...| 2017-03-29 00:00:00|    2017-03-30 11:52:31|        56.42|      (4,[1],[1.0])|     (4,[1],[56.42])|cd82271424be95688...|            1|2017-03-22 16:16:02| 41.9|        14.52|                 56|                       999|                 1|             400|               19|               13|              15|               bed_bath_table|                 95913|    lajeado|          RS|          -29.44657989|          -51.96120191|\n",
      "|062ce95fa2ad4dfae...|8afd15d26436c6044...|65d631d0de3181168...|   delivered|         8/29/2017 23:59|   8/31/2017 2:35|             9/29/2017 21:04|              10/5/2017 21:29|               9/26/2017 0:00|78fcceb499ec9008f...|                   15804|      catanduva|            SP|            -21.12102843|            -48.97081828|a112a50d46519520d...|           3|                null|                  null| 2017-09-30 00:00:00|    2017-09-30 12:47:11|        59.82|      (4,[0],[1.0])|     (4,[0],[59.82])|cd82271424be95688...|            1|2017-09-06 02:35:21| 41.9|        17.92|                 56|                       999|                 1|             400|               19|               13|              15|               bed_bath_table|                 95913|    lajeado|          RS|          -29.44657989|          -51.96120191|\n",
      "|062ce95fa2ad4dfae...|1a494062b68a8ed99...|8ac1fe94e53325560...|   delivered|          5/12/2017 9:09|   5/12/2017 9:25|             5/18/2017 12:12|              5/21/2017 12:51|                6/1/2017 0:00|ec81d1c881757b8d0...|                   88102|       sao jose|            SC|            -27.59580821|            -48.61619711|48fe29ff7afb01dc5...|           5|                null|  Gostaria apenas q...| 2017-05-22 00:00:00|    2017-05-23 12:46:20|         57.0|(4,[1,3],[2.0,1.0])|(4,[1,3],[40.22,1...|4da03293502189784...|            1|2017-05-18 09:25:07| 41.9|         15.1|                 63|                       683|                 1|             400|               21|                5|              15|              furniture_decor|                 95913|    lajeado|          RS|          -29.44657989|          -51.96120191|\n",
      "|062ce95fa2ad4dfae...|288ec48ad5ea4c98a...|fec424751aa87f545...|   delivered|         6/18/2017 14:27|  6/20/2017 10:43|             6/26/2017 14:48|              6/29/2017 17:09|                7/7/2017 0:00|e8a195f60d266e458...|                   95320|     nova prata|            RS|             -28.7822546|            -51.60921297|9009e7e25f6a8e458...|           5|                null|                  null| 2017-06-30 00:00:00|    2017-07-08 00:14:13|        54.38|      (4,[0],[1.0])|     (4,[0],[54.38])|4da03293502189784...|            1|2017-06-26 10:43:46| 41.9|        12.48|                 63|                       683|                 1|             400|               21|                5|              15|              furniture_decor|                 95913|    lajeado|          RS|          -29.44657989|          -51.96120191|\n",
      "|062ce95fa2ad4dfae...|fb86c32ba3e47fe56...|5b1744540d6008b84...|   delivered|         5/18/2017 10:46|  5/18/2017 11:02|             5/22/2017 13:25|               5/27/2017 5:33|               6/19/2017 0:00|10e49f47dc1cd4cdf...|                   20260| rio de janeiro|            RJ|            -22.91934258|            -43.21542322|a5721b28290f94e9a...|           5|                null|                  null| 2017-05-28 00:00:00|    2017-05-29 14:50:18|        65.53|      (4,[1],[6.0])|     (4,[1],[65.53])|4b703444923b5e57b...|            1|2017-05-25 11:02:46| 39.9|        25.63|                 49|                       204|                 1|             264|               17|               14|              16|               bed_bath_table|                 95913|    lajeado|          RS|          -29.44657989|          -51.96120191|\n",
      "|062ce95fa2ad4dfae...|0cda834be88c6e549...|9c64cd776ee9f018a...|   delivered|          9/10/2017 0:14|   9/10/2017 0:35|             9/12/2017 13:50|              9/25/2017 15:56|               10/5/2017 0:00|9df0c554a0b37fc0c...|                    7179|      guarulhos|            SP|            -23.40404596|            -46.41877432|be4e16abeb792466b...|           3|                null|  Fiz a compra e ch...| 2017-09-26 00:00:00|    2017-09-26 22:06:02|       243.12|     (4,[1],[10.0])|    (4,[1],[243.12])|cd82271424be95688...|            1|2017-09-14 00:35:09| 41.9|          1.1|                 56|                       999|                 1|             400|               19|               13|              15|               bed_bath_table|                 95913|    lajeado|          RS|          -29.44657989|          -51.96120191|\n",
      "|062ce95fa2ad4dfae...|ee7b9fca242afe884...|aafa66416bb386613...|   delivered|         4/29/2017 20:57|  4/29/2017 21:10|               5/4/2017 5:52|              5/11/2017 11:27|               5/29/2017 0:00|76bf559b3b17a29c5...|                    1303|      sao paulo|            SP|             -23.5495057|            -46.64843251|72b1153250e95ec4b...|           3|                null|  Percebi q havia p...| 2017-05-12 00:00:00|    2017-05-13 02:18:10|       312.25|      (4,[1],[5.0])|    (4,[1],[312.25])|ff922797a6771cab4...|            1|2017-05-04 21:10:16|289.9|        22.35|                 37|                       537|                 3|            1725|               31|                8|              33|                 market_place|                 95913|    lajeado|          RS|          -29.44657989|          -51.96120191|\n",
      "|062ce95fa2ad4dfae...|f8470371533c258e0...|3bc3ad02b60f18345...|   delivered|          2/22/2017 2:49|   2/22/2017 3:02|             2/24/2017 14:03|               3/3/2017 14:54|               3/27/2017 0:00|d616b371aae4ce572...|                    4064|      sao paulo|            SP|             -23.6187658|            -46.64940227|d63c849ea6d81cf7c...|           1|                null|  O produto não aqu...|                null|                   null|       208.07|      (4,[1],[3.0])|    (4,[1],[208.07])|3efe696e322f9139e...|            1|2017-02-26 02:49:22|189.9|        18.17|                 40|                       537|                 3|            1300|               31|                6|              33|              furniture_decor|                 95913|    lajeado|          RS|          -29.44657989|          -51.96120191|\n",
      "|062ce95fa2ad4dfae...|4d7b93709f08f674f...|3e2d140f0acbb3da8...|   delivered|         1/31/2017 17:11|  1/31/2017 17:25|               2/1/2017 0:00|               2/7/2017 14:06|               3/15/2017 0:00|674d55cc522075b79...|                   22410| rio de janeiro|            RJ|            -22.98392343|            -43.20710147|91712508056632bf3...|           4|                null|                  null| 2017-02-08 00:00:00|    2017-02-09 17:58:55|       119.36|      (4,[1],[1.0])|    (4,[1],[119.36])|4da03293502189784...|            1|2017-02-04 17:11:49| 41.9|        17.78|                 63|                       683|                 1|             400|               21|                5|              15|              furniture_decor|                 95913|    lajeado|          RS|          -29.44657989|          -51.96120191|\n",
      "|062ce95fa2ad4dfae...|4d7b93709f08f674f...|3e2d140f0acbb3da8...|   delivered|         1/31/2017 17:11|  1/31/2017 17:25|               2/1/2017 0:00|               2/7/2017 14:06|               3/15/2017 0:00|674d55cc522075b79...|                   22410| rio de janeiro|            RJ|            -22.98392343|            -43.20710147|91712508056632bf3...|           4|                null|                  null| 2017-02-08 00:00:00|    2017-02-09 17:58:55|       119.36|      (4,[1],[1.0])|    (4,[1],[119.36])|4da03293502189784...|            2|2017-02-04 17:11:49| 41.9|        17.78|                 63|                       683|                 1|             400|               21|                5|              15|              furniture_decor|                 95913|    lajeado|          RS|          -29.44657989|          -51.96120191|\n",
      "|062ce95fa2ad4dfae...|ae1cb31659e2cf358...|bbf249561e84f966c...|   delivered|         8/21/2017 19:49|  8/21/2017 20:05|             8/29/2017 18:51|               9/1/2017 21:53|               9/15/2017 0:00|76888ec0e2d5b7de5...|                    8280|      sao paulo|            SP|            -23.56118966|            -46.47448584|e0b2eab149eb41f3f...|           5|                null|                  null| 2017-09-04 00:00:00|    2017-09-04 17:50:42|       210.47|      (4,[1],[4.0])|    (4,[1],[210.47])|3efe696e322f9139e...|            1|2017-08-25 20:05:52|189.9|        20.57|                 40|                       537|                 3|            1300|               31|                6|              33|              furniture_decor|                 95913|    lajeado|          RS|          -29.44657989|          -51.96120191|\n",
      "|062ce95fa2ad4dfae...|d7108e3ddf254c6b5...|8326dc987e109ccc7...|   delivered|         5/19/2017 18:36|  5/19/2017 18:50|             5/22/2017 13:25|              5/31/2017 13:52|               6/21/2017 0:00|19e74a05536d13b34...|                   37701|pocos de caldas|            MG|            -21.78913132|            -46.56757074|4d482fdd3daec0366...|           5|                null|                  null| 2017-06-02 00:00:00|    2017-06-02 18:04:31|       226.55|      (4,[1],[1.0])|    (4,[1],[226.55])|3efe696e322f9139e...|            1|2017-05-25 18:50:15|189.9|        36.65|                 40|                       537|                 3|            1300|               31|                6|              33|              furniture_decor|                 95913|    lajeado|          RS|          -29.44657989|          -51.96120191|\n",
      "|062ce95fa2ad4dfae...|e1e2b559781f43694...|d2cfabab731178547...|   delivered|         4/25/2017 15:14|  4/25/2017 15:25|             4/27/2017 11:24|               5/9/2017 16:21|               5/24/2017 0:00|a82d9e16794b2921f...|                   36510|        rodeiro|            MG|            -21.20018316|            -42.86603309|c2fac1392a0ab55f8...|           5|                null|  Loja séria com se...|                null|                   null|       215.19|      (4,[1],[6.0])|    (4,[1],[215.19])|8d746e360a815705b...|            1|2017-05-02 15:25:24|169.9|        45.29|                 34|                       548|                 1|            6700|               70|               51|              13|              furniture_decor|                 95913|    lajeado|          RS|          -29.44657989|          -51.96120191|\n",
      "|062ce95fa2ad4dfae...|e21677585042e206b...|1ad05de046ac6a5e9...|   delivered|          6/20/2017 9:56|  6/20/2017 10:05|             6/29/2017 14:49|               7/6/2017 15:54|               7/14/2017 0:00|d9d506dbb65bdc1f8...|                   89162|     rio do sul|            SC|            -27.18228119|            -49.60640969|94691b18bf047b007...|           5|                null|   Excelente recomendo| 2017-07-07 00:00:00|    2017-07-10 12:28:31|        95.21|      (4,[1],[9.0])|     (4,[1],[95.21])|8c96a6969d0fad206...|            1|2017-06-28 10:05:15| 79.9|        15.31|                 50|                      1400|                 1|             400|               19|               20|              18|                health_beauty|                 95913|    lajeado|          RS|          -29.44657989|          -51.96120191|\n",
      "|062ce95fa2ad4dfae...|a509a0a8522e394f8...|b93f595ad6dd63fa5...|   delivered|          7/9/2017 21:08|   7/9/2017 21:23|             7/13/2017 16:49|              7/18/2017 15:33|                8/3/2017 0:00|f80521e48c7cb490d...|                    3658|      sao paulo|            SP|            -23.52813994|            -46.50066365|f5388e20b7d050a39...|           4|                null|  Acho q a empresa ...| 2017-07-19 00:00:00|    2017-07-20 04:04:40|       210.47|      (4,[1],[8.0])|    (4,[1],[210.47])|3efe696e322f9139e...|            1|2017-07-13 21:23:18|189.9|        20.57|                 40|                       537|                 3|            1300|               31|                6|              33|              furniture_decor|                 95913|    lajeado|          RS|          -29.44657989|          -51.96120191|\n",
      "|062ce95fa2ad4dfae...|f58d7e09ece55d81a...|2945f7826483e9c73...|   delivered|         6/28/2017 21:41|  6/28/2017 21:50|               7/3/2017 9:51|               7/6/2017 10:07|               7/24/2017 0:00|334cc44b9272d44bc...|                    5630|      sao paulo|            SP|            -23.61153067|            -46.73636662|c9d483edb6d9174a8...|           5|                null|                  null| 2017-07-07 00:00:00|    2017-07-09 13:37:25|       631.41|      (4,[1],[1.0])|    (4,[1],[631.41])|3efe696e322f9139e...|            1|2017-07-04 21:50:19|189.9|        20.57|                 40|                       537|                 3|            1300|               31|                6|              33|              furniture_decor|                 95913|    lajeado|          RS|          -29.44657989|          -51.96120191|\n",
      "|062ce95fa2ad4dfae...|f58d7e09ece55d81a...|2945f7826483e9c73...|   delivered|         6/28/2017 21:41|  6/28/2017 21:50|               7/3/2017 9:51|               7/6/2017 10:07|               7/24/2017 0:00|334cc44b9272d44bc...|                    5630|      sao paulo|            SP|            -23.61153067|            -46.73636662|c9d483edb6d9174a8...|           5|                null|                  null| 2017-07-07 00:00:00|    2017-07-09 13:37:25|       631.41|      (4,[1],[1.0])|    (4,[1],[631.41])|3efe696e322f9139e...|            2|2017-07-04 21:50:19|189.9|        20.57|                 40|                       537|                 3|            1300|               31|                6|              33|              furniture_decor|                 95913|    lajeado|          RS|          -29.44657989|          -51.96120191|\n",
      "|062ce95fa2ad4dfae...|f58d7e09ece55d81a...|2945f7826483e9c73...|   delivered|         6/28/2017 21:41|  6/28/2017 21:50|               7/3/2017 9:51|               7/6/2017 10:07|               7/24/2017 0:00|334cc44b9272d44bc...|                    5630|      sao paulo|            SP|            -23.61153067|            -46.73636662|c9d483edb6d9174a8...|           5|                null|                  null| 2017-07-07 00:00:00|    2017-07-09 13:37:25|       631.41|      (4,[1],[1.0])|    (4,[1],[631.41])|3efe696e322f9139e...|            3|2017-07-04 21:50:19|189.9|        20.57|                 40|                       537|                 3|            1300|               31|                6|              33|              furniture_decor|                 95913|    lajeado|          RS|          -29.44657989|          -51.96120191|\n",
      "|062ce95fa2ad4dfae...|a840a7a89e3d91373...|5e320e6a4f03e2e74...|   delivered|          3/9/2017 22:17|   3/9/2017 22:17|             3/10/2017 16:23|               3/16/2017 8:24|               3/28/2017 0:00|8a2530b1bf32235ed...|                   95012|  caxias do sul|            RS|            -29.17266949|            -51.21072934|530bc04383c4dded4...|           5|                null|                  null| 2017-03-17 00:00:00|    2017-03-20 00:14:30|        305.7|      (4,[1],[5.0])|     (4,[1],[305.7])|ff922797a6771cab4...|            1|2017-03-15 22:17:49|289.9|         15.8|                 37|                       537|                 3|            1725|               31|                8|              33|                 market_place|                 95913|    lajeado|          RS|          -29.44657989|          -51.96120191|\n",
      "+--------------------+--------------------+--------------------+------------+------------------------+-----------------+----------------------------+-----------------------------+-----------------------------+--------------------+------------------------+---------------+--------------+------------------------+------------------------+--------------------+------------+--------------------+----------------------+--------------------+-----------------------+-------------+-------------------+--------------------+--------------------+-------------+-------------------+-----+-------------+-------------------+--------------------------+------------------+----------------+-----------------+-----------------+----------------+-----------------------------+----------------------+-----------+------------+----------------------+----------------------+\n",
      "only showing top 20 rows\n",
      "\n",
      "+--------------------+--------------------+--------------------+------------+------------------------+-----------------+----------------------------+-----------------------------+-----------------------------+--------------------+------------------------+---------------+--------------+------------------------+------------------------+--------------------+------------+--------------------+----------------------+--------------------+-----------------------+-------------+-------------------+--------------------+--------------------+-------------+-------------------+-----+-------------+-------------------+--------------------------+------------------+----------------+-----------------+-----------------+----------------+-----------------------------+----------------------+-----------+------------+----------------------+----------------------+---+\n",
      "|           seller_id|            order_id|         customer_id|order_status|order_purchase_timestamp|order_approved_at|order_delivered_carrier_date|order_delivered_customer_date|order_estimated_delivery_date|  customer_unique_id|customer_zip_code_prefix|  customer_city|customer_state|customer_geolocation_lat|customer_geolocation_lng|           review_id|review_score|review_comment_title|review_comment_message|review_creation_date|review_answer_timestamp|total_payment| payment_type_count|  payment_type_value|          product_id|order_item_id|shipping_limit_date|price|freight_value|product_name_lenght|product_description_lenght|product_photos_qty|product_weight_g|product_length_cm|product_height_cm|product_width_cm|product_category_name_english|seller_zip_code_prefix|seller_city|seller_state|seller_geolocation_lat|seller_geolocation_lng| id|\n",
      "+--------------------+--------------------+--------------------+------------+------------------------+-----------------+----------------------------+-----------------------------+-----------------------------+--------------------+------------------------+---------------+--------------+------------------------+------------------------+--------------------+------------+--------------------+----------------------+--------------------+-----------------------+-------------+-------------------+--------------------+--------------------+-------------+-------------------+-----+-------------+-------------------+--------------------------+------------------+----------------+-----------------+-----------------+----------------+-----------------------------+----------------------+-----------+------------+----------------------+----------------------+---+\n",
      "|062ce95fa2ad4dfae...|b6fa6ea37aeeb90c9...|e2dc0b0cef1781793...|   delivered|         4/24/2017 10:31|   4/25/2017 8:02|              5/2/2017 11:30|              5/22/2017 16:07|               5/25/2017 0:00|4f308d513ccac2840...|                   72457|       brasilia|            DF|            -16.02294658|            -48.05071816|11bbc10384b40b673...|           5|                null|                  null| 2017-05-23 00:00:00|    2017-05-24 12:20:05|       100.91|      (4,[0],[1.0])|    (4,[0],[100.91])|8a4505505378c8f5d...|            1|2017-05-04 08:02:25| 79.9|        21.01|                 47|                      1400|                 1|             325|               19|               20|              18|                health_beauty|                 95913|    lajeado|          RS|          -29.44657989|          -51.96120191|  0|\n",
      "|062ce95fa2ad4dfae...|87a838f48767365e2...|60c9723c5d232b784...|   delivered|         3/16/2017 16:16|  3/16/2017 16:16|             3/21/2017 16:08|              3/28/2017 16:04|                4/6/2017 0:00|6b3b92110c5adfe4a...|                   89705|      concordia|            SC|            -27.23090863|             -52.0454811|654815c89e6174154...|           5|                null|  Adorei o produto ...| 2017-03-29 00:00:00|    2017-03-30 11:52:31|        56.42|      (4,[1],[1.0])|     (4,[1],[56.42])|cd82271424be95688...|            1|2017-03-22 16:16:02| 41.9|        14.52|                 56|                       999|                 1|             400|               19|               13|              15|               bed_bath_table|                 95913|    lajeado|          RS|          -29.44657989|          -51.96120191|  1|\n",
      "|062ce95fa2ad4dfae...|8afd15d26436c6044...|65d631d0de3181168...|   delivered|         8/29/2017 23:59|   8/31/2017 2:35|             9/29/2017 21:04|              10/5/2017 21:29|               9/26/2017 0:00|78fcceb499ec9008f...|                   15804|      catanduva|            SP|            -21.12102843|            -48.97081828|a112a50d46519520d...|           3|                null|                  null| 2017-09-30 00:00:00|    2017-09-30 12:47:11|        59.82|      (4,[0],[1.0])|     (4,[0],[59.82])|cd82271424be95688...|            1|2017-09-06 02:35:21| 41.9|        17.92|                 56|                       999|                 1|             400|               19|               13|              15|               bed_bath_table|                 95913|    lajeado|          RS|          -29.44657989|          -51.96120191|  2|\n",
      "|062ce95fa2ad4dfae...|1a494062b68a8ed99...|8ac1fe94e53325560...|   delivered|          5/12/2017 9:09|   5/12/2017 9:25|             5/18/2017 12:12|              5/21/2017 12:51|                6/1/2017 0:00|ec81d1c881757b8d0...|                   88102|       sao jose|            SC|            -27.59580821|            -48.61619711|48fe29ff7afb01dc5...|           5|                null|  Gostaria apenas q...| 2017-05-22 00:00:00|    2017-05-23 12:46:20|         57.0|(4,[1,3],[2.0,1.0])|(4,[1,3],[40.22,1...|4da03293502189784...|            1|2017-05-18 09:25:07| 41.9|         15.1|                 63|                       683|                 1|             400|               21|                5|              15|              furniture_decor|                 95913|    lajeado|          RS|          -29.44657989|          -51.96120191|  3|\n",
      "|062ce95fa2ad4dfae...|288ec48ad5ea4c98a...|fec424751aa87f545...|   delivered|         6/18/2017 14:27|  6/20/2017 10:43|             6/26/2017 14:48|              6/29/2017 17:09|                7/7/2017 0:00|e8a195f60d266e458...|                   95320|     nova prata|            RS|             -28.7822546|            -51.60921297|9009e7e25f6a8e458...|           5|                null|                  null| 2017-06-30 00:00:00|    2017-07-08 00:14:13|        54.38|      (4,[0],[1.0])|     (4,[0],[54.38])|4da03293502189784...|            1|2017-06-26 10:43:46| 41.9|        12.48|                 63|                       683|                 1|             400|               21|                5|              15|              furniture_decor|                 95913|    lajeado|          RS|          -29.44657989|          -51.96120191|  4|\n",
      "|062ce95fa2ad4dfae...|fb86c32ba3e47fe56...|5b1744540d6008b84...|   delivered|         5/18/2017 10:46|  5/18/2017 11:02|             5/22/2017 13:25|               5/27/2017 5:33|               6/19/2017 0:00|10e49f47dc1cd4cdf...|                   20260| rio de janeiro|            RJ|            -22.91934258|            -43.21542322|a5721b28290f94e9a...|           5|                null|                  null| 2017-05-28 00:00:00|    2017-05-29 14:50:18|        65.53|      (4,[1],[6.0])|     (4,[1],[65.53])|4b703444923b5e57b...|            1|2017-05-25 11:02:46| 39.9|        25.63|                 49|                       204|                 1|             264|               17|               14|              16|               bed_bath_table|                 95913|    lajeado|          RS|          -29.44657989|          -51.96120191|  5|\n",
      "|062ce95fa2ad4dfae...|0cda834be88c6e549...|9c64cd776ee9f018a...|   delivered|          9/10/2017 0:14|   9/10/2017 0:35|             9/12/2017 13:50|              9/25/2017 15:56|               10/5/2017 0:00|9df0c554a0b37fc0c...|                    7179|      guarulhos|            SP|            -23.40404596|            -46.41877432|be4e16abeb792466b...|           3|                null|  Fiz a compra e ch...| 2017-09-26 00:00:00|    2017-09-26 22:06:02|       243.12|     (4,[1],[10.0])|    (4,[1],[243.12])|cd82271424be95688...|            1|2017-09-14 00:35:09| 41.9|          1.1|                 56|                       999|                 1|             400|               19|               13|              15|               bed_bath_table|                 95913|    lajeado|          RS|          -29.44657989|          -51.96120191|  6|\n",
      "|062ce95fa2ad4dfae...|ee7b9fca242afe884...|aafa66416bb386613...|   delivered|         4/29/2017 20:57|  4/29/2017 21:10|               5/4/2017 5:52|              5/11/2017 11:27|               5/29/2017 0:00|76bf559b3b17a29c5...|                    1303|      sao paulo|            SP|             -23.5495057|            -46.64843251|72b1153250e95ec4b...|           3|                null|  Percebi q havia p...| 2017-05-12 00:00:00|    2017-05-13 02:18:10|       312.25|      (4,[1],[5.0])|    (4,[1],[312.25])|ff922797a6771cab4...|            1|2017-05-04 21:10:16|289.9|        22.35|                 37|                       537|                 3|            1725|               31|                8|              33|                 market_place|                 95913|    lajeado|          RS|          -29.44657989|          -51.96120191|  7|\n",
      "|062ce95fa2ad4dfae...|f8470371533c258e0...|3bc3ad02b60f18345...|   delivered|          2/22/2017 2:49|   2/22/2017 3:02|             2/24/2017 14:03|               3/3/2017 14:54|               3/27/2017 0:00|d616b371aae4ce572...|                    4064|      sao paulo|            SP|             -23.6187658|            -46.64940227|d63c849ea6d81cf7c...|           1|                null|  O produto não aqu...|                null|                   null|       208.07|      (4,[1],[3.0])|    (4,[1],[208.07])|3efe696e322f9139e...|            1|2017-02-26 02:49:22|189.9|        18.17|                 40|                       537|                 3|            1300|               31|                6|              33|              furniture_decor|                 95913|    lajeado|          RS|          -29.44657989|          -51.96120191|  8|\n",
      "|062ce95fa2ad4dfae...|4d7b93709f08f674f...|3e2d140f0acbb3da8...|   delivered|         1/31/2017 17:11|  1/31/2017 17:25|               2/1/2017 0:00|               2/7/2017 14:06|               3/15/2017 0:00|674d55cc522075b79...|                   22410| rio de janeiro|            RJ|            -22.98392343|            -43.20710147|91712508056632bf3...|           4|                null|                  null| 2017-02-08 00:00:00|    2017-02-09 17:58:55|       119.36|      (4,[1],[1.0])|    (4,[1],[119.36])|4da03293502189784...|            1|2017-02-04 17:11:49| 41.9|        17.78|                 63|                       683|                 1|             400|               21|                5|              15|              furniture_decor|                 95913|    lajeado|          RS|          -29.44657989|          -51.96120191|  9|\n",
      "|062ce95fa2ad4dfae...|4d7b93709f08f674f...|3e2d140f0acbb3da8...|   delivered|         1/31/2017 17:11|  1/31/2017 17:25|               2/1/2017 0:00|               2/7/2017 14:06|               3/15/2017 0:00|674d55cc522075b79...|                   22410| rio de janeiro|            RJ|            -22.98392343|            -43.20710147|91712508056632bf3...|           4|                null|                  null| 2017-02-08 00:00:00|    2017-02-09 17:58:55|       119.36|      (4,[1],[1.0])|    (4,[1],[119.36])|4da03293502189784...|            2|2017-02-04 17:11:49| 41.9|        17.78|                 63|                       683|                 1|             400|               21|                5|              15|              furniture_decor|                 95913|    lajeado|          RS|          -29.44657989|          -51.96120191| 10|\n",
      "|062ce95fa2ad4dfae...|ae1cb31659e2cf358...|bbf249561e84f966c...|   delivered|         8/21/2017 19:49|  8/21/2017 20:05|             8/29/2017 18:51|               9/1/2017 21:53|               9/15/2017 0:00|76888ec0e2d5b7de5...|                    8280|      sao paulo|            SP|            -23.56118966|            -46.47448584|e0b2eab149eb41f3f...|           5|                null|                  null| 2017-09-04 00:00:00|    2017-09-04 17:50:42|       210.47|      (4,[1],[4.0])|    (4,[1],[210.47])|3efe696e322f9139e...|            1|2017-08-25 20:05:52|189.9|        20.57|                 40|                       537|                 3|            1300|               31|                6|              33|              furniture_decor|                 95913|    lajeado|          RS|          -29.44657989|          -51.96120191| 11|\n",
      "|062ce95fa2ad4dfae...|d7108e3ddf254c6b5...|8326dc987e109ccc7...|   delivered|         5/19/2017 18:36|  5/19/2017 18:50|             5/22/2017 13:25|              5/31/2017 13:52|               6/21/2017 0:00|19e74a05536d13b34...|                   37701|pocos de caldas|            MG|            -21.78913132|            -46.56757074|4d482fdd3daec0366...|           5|                null|                  null| 2017-06-02 00:00:00|    2017-06-02 18:04:31|       226.55|      (4,[1],[1.0])|    (4,[1],[226.55])|3efe696e322f9139e...|            1|2017-05-25 18:50:15|189.9|        36.65|                 40|                       537|                 3|            1300|               31|                6|              33|              furniture_decor|                 95913|    lajeado|          RS|          -29.44657989|          -51.96120191| 12|\n",
      "|062ce95fa2ad4dfae...|e1e2b559781f43694...|d2cfabab731178547...|   delivered|         4/25/2017 15:14|  4/25/2017 15:25|             4/27/2017 11:24|               5/9/2017 16:21|               5/24/2017 0:00|a82d9e16794b2921f...|                   36510|        rodeiro|            MG|            -21.20018316|            -42.86603309|c2fac1392a0ab55f8...|           5|                null|  Loja séria com se...|                null|                   null|       215.19|      (4,[1],[6.0])|    (4,[1],[215.19])|8d746e360a815705b...|            1|2017-05-02 15:25:24|169.9|        45.29|                 34|                       548|                 1|            6700|               70|               51|              13|              furniture_decor|                 95913|    lajeado|          RS|          -29.44657989|          -51.96120191| 13|\n",
      "|062ce95fa2ad4dfae...|e21677585042e206b...|1ad05de046ac6a5e9...|   delivered|          6/20/2017 9:56|  6/20/2017 10:05|             6/29/2017 14:49|               7/6/2017 15:54|               7/14/2017 0:00|d9d506dbb65bdc1f8...|                   89162|     rio do sul|            SC|            -27.18228119|            -49.60640969|94691b18bf047b007...|           5|                null|   Excelente recomendo| 2017-07-07 00:00:00|    2017-07-10 12:28:31|        95.21|      (4,[1],[9.0])|     (4,[1],[95.21])|8c96a6969d0fad206...|            1|2017-06-28 10:05:15| 79.9|        15.31|                 50|                      1400|                 1|             400|               19|               20|              18|                health_beauty|                 95913|    lajeado|          RS|          -29.44657989|          -51.96120191| 14|\n",
      "|062ce95fa2ad4dfae...|a509a0a8522e394f8...|b93f595ad6dd63fa5...|   delivered|          7/9/2017 21:08|   7/9/2017 21:23|             7/13/2017 16:49|              7/18/2017 15:33|                8/3/2017 0:00|f80521e48c7cb490d...|                    3658|      sao paulo|            SP|            -23.52813994|            -46.50066365|f5388e20b7d050a39...|           4|                null|  Acho q a empresa ...| 2017-07-19 00:00:00|    2017-07-20 04:04:40|       210.47|      (4,[1],[8.0])|    (4,[1],[210.47])|3efe696e322f9139e...|            1|2017-07-13 21:23:18|189.9|        20.57|                 40|                       537|                 3|            1300|               31|                6|              33|              furniture_decor|                 95913|    lajeado|          RS|          -29.44657989|          -51.96120191| 15|\n",
      "|062ce95fa2ad4dfae...|f58d7e09ece55d81a...|2945f7826483e9c73...|   delivered|         6/28/2017 21:41|  6/28/2017 21:50|               7/3/2017 9:51|               7/6/2017 10:07|               7/24/2017 0:00|334cc44b9272d44bc...|                    5630|      sao paulo|            SP|            -23.61153067|            -46.73636662|c9d483edb6d9174a8...|           5|                null|                  null| 2017-07-07 00:00:00|    2017-07-09 13:37:25|       631.41|      (4,[1],[1.0])|    (4,[1],[631.41])|3efe696e322f9139e...|            1|2017-07-04 21:50:19|189.9|        20.57|                 40|                       537|                 3|            1300|               31|                6|              33|              furniture_decor|                 95913|    lajeado|          RS|          -29.44657989|          -51.96120191| 16|\n",
      "|062ce95fa2ad4dfae...|f58d7e09ece55d81a...|2945f7826483e9c73...|   delivered|         6/28/2017 21:41|  6/28/2017 21:50|               7/3/2017 9:51|               7/6/2017 10:07|               7/24/2017 0:00|334cc44b9272d44bc...|                    5630|      sao paulo|            SP|            -23.61153067|            -46.73636662|c9d483edb6d9174a8...|           5|                null|                  null| 2017-07-07 00:00:00|    2017-07-09 13:37:25|       631.41|      (4,[1],[1.0])|    (4,[1],[631.41])|3efe696e322f9139e...|            2|2017-07-04 21:50:19|189.9|        20.57|                 40|                       537|                 3|            1300|               31|                6|              33|              furniture_decor|                 95913|    lajeado|          RS|          -29.44657989|          -51.96120191| 17|\n",
      "|062ce95fa2ad4dfae...|f58d7e09ece55d81a...|2945f7826483e9c73...|   delivered|         6/28/2017 21:41|  6/28/2017 21:50|               7/3/2017 9:51|               7/6/2017 10:07|               7/24/2017 0:00|334cc44b9272d44bc...|                    5630|      sao paulo|            SP|            -23.61153067|            -46.73636662|c9d483edb6d9174a8...|           5|                null|                  null| 2017-07-07 00:00:00|    2017-07-09 13:37:25|       631.41|      (4,[1],[1.0])|    (4,[1],[631.41])|3efe696e322f9139e...|            3|2017-07-04 21:50:19|189.9|        20.57|                 40|                       537|                 3|            1300|               31|                6|              33|              furniture_decor|                 95913|    lajeado|          RS|          -29.44657989|          -51.96120191| 18|\n",
      "|062ce95fa2ad4dfae...|a840a7a89e3d91373...|5e320e6a4f03e2e74...|   delivered|          3/9/2017 22:17|   3/9/2017 22:17|             3/10/2017 16:23|               3/16/2017 8:24|               3/28/2017 0:00|8a2530b1bf32235ed...|                   95012|  caxias do sul|            RS|            -29.17266949|            -51.21072934|530bc04383c4dded4...|           5|                null|                  null| 2017-03-17 00:00:00|    2017-03-20 00:14:30|        305.7|      (4,[1],[5.0])|     (4,[1],[305.7])|ff922797a6771cab4...|            1|2017-03-15 22:17:49|289.9|         15.8|                 37|                       537|                 3|            1725|               31|                8|              33|                 market_place|                 95913|    lajeado|          RS|          -29.44657989|          -51.96120191| 19|\n",
      "+--------------------+--------------------+--------------------+------------+------------------------+-----------------+----------------------------+-----------------------------+-----------------------------+--------------------+------------------------+---------------+--------------+------------------------+------------------------+--------------------+------------+--------------------+----------------------+--------------------+-----------------------+-------------+-------------------+--------------------+--------------------+-------------+-------------------+-----+-------------+-------------------+--------------------------+------------------+----------------+-----------------+-----------------+----------------+-----------------------------+----------------------+-----------+------------+----------------------+----------------------+---+\n",
      "only showing top 20 rows\n",
      "\n"
     ]
    },
    {
     "data": {
      "text/plain": [
       "112650"
      ]
     },
     "execution_count": 70,
     "metadata": {
      "tags": []
     },
     "output_type": "execute_result"
    }
   ],
   "source": [
    "# Merge order items dataset and sellers dataset!!!\n",
    "final_order1 = customer_product_group.join(new_seller, on='seller_id', how='left')\n",
    "final_order1.show()\n",
    "final_order1.count()\n",
    "\n",
    "from pyspark.sql.functions import monotonically_increasing_id \n",
    "\n",
    "final_order2 = final_order1.select(\"*\").withColumn(\"id\", monotonically_increasing_id())\n",
    "\n",
    "final_order2.show()\n",
    "final_order2.count()"
   ]
  },
  {
   "cell_type": "code",
   "execution_count": 102,
   "metadata": {
    "colab": {
     "base_uri": "https://localhost:8080/",
     "height": 479
    },
    "colab_type": "code",
    "id": "6j4q1y2uFafS",
    "outputId": "526cd458-02ef-42e8-c36b-a65e276b39dd"
   },
   "outputs": [
    {
     "name": "stdout",
     "output_type": "stream",
     "text": [
      "+--------------------+--------------------+--------------------+------------+------------------------+-----------------+----------------------------+-----------------------------+-----------------------------+--------------------+------------------------+---------------+--------------+------------------------+------------------------+--------------------+------------+--------------------+----------------------+--------------------+-----------------------+-------------+-------------------+--------------------+--------------------+-------------+-------------------+-----+-------------+-------------------+--------------------------+------------------+----------------+-----------------+-----------------+----------------+-----------------------------+----------------------+-----------+------------+----------------------+----------------------+---+\n",
      "|           seller_id|            order_id|         customer_id|order_status|order_purchase_timestamp|order_approved_at|order_delivered_carrier_date|order_delivered_customer_date|order_estimated_delivery_date|  customer_unique_id|customer_zip_code_prefix|  customer_city|customer_state|customer_geolocation_lat|customer_geolocation_lng|           review_id|review_score|review_comment_title|review_comment_message|review_creation_date|review_answer_timestamp|total_payment| payment_type_count|  payment_type_value|          product_id|order_item_id|shipping_limit_date|price|freight_value|product_name_lenght|product_description_lenght|product_photos_qty|product_weight_g|product_length_cm|product_height_cm|product_width_cm|product_category_name_english|seller_zip_code_prefix|seller_city|seller_state|seller_geolocation_lat|seller_geolocation_lng| id|\n",
      "+--------------------+--------------------+--------------------+------------+------------------------+-----------------+----------------------------+-----------------------------+-----------------------------+--------------------+------------------------+---------------+--------------+------------------------+------------------------+--------------------+------------+--------------------+----------------------+--------------------+-----------------------+-------------+-------------------+--------------------+--------------------+-------------+-------------------+-----+-------------+-------------------+--------------------------+------------------+----------------+-----------------+-----------------+----------------+-----------------------------+----------------------+-----------+------------+----------------------+----------------------+---+\n",
      "|062ce95fa2ad4dfae...|b6fa6ea37aeeb90c9...|e2dc0b0cef1781793...|   delivered|         4/24/2017 10:31|   4/25/2017 8:02|              5/2/2017 11:30|              5/22/2017 16:07|               5/25/2017 0:00|4f308d513ccac2840...|                   72457|       brasilia|            DF|            -16.02294658|            -48.05071816|11bbc10384b40b673...|           5|                null|                  null| 2017-05-23 00:00:00|    2017-05-24 12:20:05|       100.91|      (4,[0],[1.0])|    (4,[0],[100.91])|8a4505505378c8f5d...|            1|2017-05-04 08:02:25| 79.9|        21.01|                 47|                      1400|                 1|             325|               19|               20|              18|                health_beauty|                 95913|    lajeado|          RS|          -29.44657989|          -51.96120191|  0|\n",
      "|062ce95fa2ad4dfae...|87a838f48767365e2...|60c9723c5d232b784...|   delivered|         3/16/2017 16:16|  3/16/2017 16:16|             3/21/2017 16:08|              3/28/2017 16:04|                4/6/2017 0:00|6b3b92110c5adfe4a...|                   89705|      concordia|            SC|            -27.23090863|             -52.0454811|654815c89e6174154...|           5|                null|  Adorei o produto ...| 2017-03-29 00:00:00|    2017-03-30 11:52:31|        56.42|      (4,[1],[1.0])|     (4,[1],[56.42])|cd82271424be95688...|            1|2017-03-22 16:16:02| 41.9|        14.52|                 56|                       999|                 1|             400|               19|               13|              15|               bed_bath_table|                 95913|    lajeado|          RS|          -29.44657989|          -51.96120191|  1|\n",
      "|062ce95fa2ad4dfae...|8afd15d26436c6044...|65d631d0de3181168...|   delivered|         8/29/2017 23:59|   8/31/2017 2:35|             9/29/2017 21:04|              10/5/2017 21:29|               9/26/2017 0:00|78fcceb499ec9008f...|                   15804|      catanduva|            SP|            -21.12102843|            -48.97081828|a112a50d46519520d...|           3|                null|                  null| 2017-09-30 00:00:00|    2017-09-30 12:47:11|        59.82|      (4,[0],[1.0])|     (4,[0],[59.82])|cd82271424be95688...|            1|2017-09-06 02:35:21| 41.9|        17.92|                 56|                       999|                 1|             400|               19|               13|              15|               bed_bath_table|                 95913|    lajeado|          RS|          -29.44657989|          -51.96120191|  2|\n",
      "|062ce95fa2ad4dfae...|1a494062b68a8ed99...|8ac1fe94e53325560...|   delivered|          5/12/2017 9:09|   5/12/2017 9:25|             5/18/2017 12:12|              5/21/2017 12:51|                6/1/2017 0:00|ec81d1c881757b8d0...|                   88102|       sao jose|            SC|            -27.59580821|            -48.61619711|48fe29ff7afb01dc5...|           5|                null|  Gostaria apenas q...| 2017-05-22 00:00:00|    2017-05-23 12:46:20|         57.0|(4,[1,3],[2.0,1.0])|(4,[1,3],[40.22,1...|4da03293502189784...|            1|2017-05-18 09:25:07| 41.9|         15.1|                 63|                       683|                 1|             400|               21|                5|              15|              furniture_decor|                 95913|    lajeado|          RS|          -29.44657989|          -51.96120191|  3|\n",
      "|062ce95fa2ad4dfae...|288ec48ad5ea4c98a...|fec424751aa87f545...|   delivered|         6/18/2017 14:27|  6/20/2017 10:43|             6/26/2017 14:48|              6/29/2017 17:09|                7/7/2017 0:00|e8a195f60d266e458...|                   95320|     nova prata|            RS|             -28.7822546|            -51.60921297|9009e7e25f6a8e458...|           5|                null|                  null| 2017-06-30 00:00:00|    2017-07-08 00:14:13|        54.38|      (4,[0],[1.0])|     (4,[0],[54.38])|4da03293502189784...|            1|2017-06-26 10:43:46| 41.9|        12.48|                 63|                       683|                 1|             400|               21|                5|              15|              furniture_decor|                 95913|    lajeado|          RS|          -29.44657989|          -51.96120191|  4|\n",
      "|062ce95fa2ad4dfae...|fb86c32ba3e47fe56...|5b1744540d6008b84...|   delivered|         5/18/2017 10:46|  5/18/2017 11:02|             5/22/2017 13:25|               5/27/2017 5:33|               6/19/2017 0:00|10e49f47dc1cd4cdf...|                   20260| rio de janeiro|            RJ|            -22.91934258|            -43.21542322|a5721b28290f94e9a...|           5|                null|                  null| 2017-05-28 00:00:00|    2017-05-29 14:50:18|        65.53|      (4,[1],[6.0])|     (4,[1],[65.53])|4b703444923b5e57b...|            1|2017-05-25 11:02:46| 39.9|        25.63|                 49|                       204|                 1|             264|               17|               14|              16|               bed_bath_table|                 95913|    lajeado|          RS|          -29.44657989|          -51.96120191|  5|\n",
      "|062ce95fa2ad4dfae...|0cda834be88c6e549...|9c64cd776ee9f018a...|   delivered|          9/10/2017 0:14|   9/10/2017 0:35|             9/12/2017 13:50|              9/25/2017 15:56|               10/5/2017 0:00|9df0c554a0b37fc0c...|                    7179|      guarulhos|            SP|            -23.40404596|            -46.41877432|be4e16abeb792466b...|           3|                null|  Fiz a compra e ch...| 2017-09-26 00:00:00|    2017-09-26 22:06:02|       243.12|     (4,[1],[10.0])|    (4,[1],[243.12])|cd82271424be95688...|            1|2017-09-14 00:35:09| 41.9|          1.1|                 56|                       999|                 1|             400|               19|               13|              15|               bed_bath_table|                 95913|    lajeado|          RS|          -29.44657989|          -51.96120191|  6|\n",
      "|062ce95fa2ad4dfae...|ee7b9fca242afe884...|aafa66416bb386613...|   delivered|         4/29/2017 20:57|  4/29/2017 21:10|               5/4/2017 5:52|              5/11/2017 11:27|               5/29/2017 0:00|76bf559b3b17a29c5...|                    1303|      sao paulo|            SP|             -23.5495057|            -46.64843251|72b1153250e95ec4b...|           3|                null|  Percebi q havia p...| 2017-05-12 00:00:00|    2017-05-13 02:18:10|       312.25|      (4,[1],[5.0])|    (4,[1],[312.25])|ff922797a6771cab4...|            1|2017-05-04 21:10:16|289.9|        22.35|                 37|                       537|                 3|            1725|               31|                8|              33|                 market_place|                 95913|    lajeado|          RS|          -29.44657989|          -51.96120191|  7|\n",
      "|062ce95fa2ad4dfae...|f8470371533c258e0...|3bc3ad02b60f18345...|   delivered|          2/22/2017 2:49|   2/22/2017 3:02|             2/24/2017 14:03|               3/3/2017 14:54|               3/27/2017 0:00|d616b371aae4ce572...|                    4064|      sao paulo|            SP|             -23.6187658|            -46.64940227|d63c849ea6d81cf7c...|           1|                null|  O produto não aqu...|                null|                   null|       208.07|      (4,[1],[3.0])|    (4,[1],[208.07])|3efe696e322f9139e...|            1|2017-02-26 02:49:22|189.9|        18.17|                 40|                       537|                 3|            1300|               31|                6|              33|              furniture_decor|                 95913|    lajeado|          RS|          -29.44657989|          -51.96120191|  8|\n",
      "|062ce95fa2ad4dfae...|4d7b93709f08f674f...|3e2d140f0acbb3da8...|   delivered|         1/31/2017 17:11|  1/31/2017 17:25|               2/1/2017 0:00|               2/7/2017 14:06|               3/15/2017 0:00|674d55cc522075b79...|                   22410| rio de janeiro|            RJ|            -22.98392343|            -43.20710147|91712508056632bf3...|           4|                null|                  null| 2017-02-08 00:00:00|    2017-02-09 17:58:55|       119.36|      (4,[1],[1.0])|    (4,[1],[119.36])|4da03293502189784...|            1|2017-02-04 17:11:49| 41.9|        17.78|                 63|                       683|                 1|             400|               21|                5|              15|              furniture_decor|                 95913|    lajeado|          RS|          -29.44657989|          -51.96120191|  9|\n",
      "|062ce95fa2ad4dfae...|4d7b93709f08f674f...|3e2d140f0acbb3da8...|   delivered|         1/31/2017 17:11|  1/31/2017 17:25|               2/1/2017 0:00|               2/7/2017 14:06|               3/15/2017 0:00|674d55cc522075b79...|                   22410| rio de janeiro|            RJ|            -22.98392343|            -43.20710147|91712508056632bf3...|           4|                null|                  null| 2017-02-08 00:00:00|    2017-02-09 17:58:55|       119.36|      (4,[1],[1.0])|    (4,[1],[119.36])|4da03293502189784...|            2|2017-02-04 17:11:49| 41.9|        17.78|                 63|                       683|                 1|             400|               21|                5|              15|              furniture_decor|                 95913|    lajeado|          RS|          -29.44657989|          -51.96120191| 10|\n",
      "|062ce95fa2ad4dfae...|ae1cb31659e2cf358...|bbf249561e84f966c...|   delivered|         8/21/2017 19:49|  8/21/2017 20:05|             8/29/2017 18:51|               9/1/2017 21:53|               9/15/2017 0:00|76888ec0e2d5b7de5...|                    8280|      sao paulo|            SP|            -23.56118966|            -46.47448584|e0b2eab149eb41f3f...|           5|                null|                  null| 2017-09-04 00:00:00|    2017-09-04 17:50:42|       210.47|      (4,[1],[4.0])|    (4,[1],[210.47])|3efe696e322f9139e...|            1|2017-08-25 20:05:52|189.9|        20.57|                 40|                       537|                 3|            1300|               31|                6|              33|              furniture_decor|                 95913|    lajeado|          RS|          -29.44657989|          -51.96120191| 11|\n",
      "|062ce95fa2ad4dfae...|d7108e3ddf254c6b5...|8326dc987e109ccc7...|   delivered|         5/19/2017 18:36|  5/19/2017 18:50|             5/22/2017 13:25|              5/31/2017 13:52|               6/21/2017 0:00|19e74a05536d13b34...|                   37701|pocos de caldas|            MG|            -21.78913132|            -46.56757074|4d482fdd3daec0366...|           5|                null|                  null| 2017-06-02 00:00:00|    2017-06-02 18:04:31|       226.55|      (4,[1],[1.0])|    (4,[1],[226.55])|3efe696e322f9139e...|            1|2017-05-25 18:50:15|189.9|        36.65|                 40|                       537|                 3|            1300|               31|                6|              33|              furniture_decor|                 95913|    lajeado|          RS|          -29.44657989|          -51.96120191| 12|\n",
      "|062ce95fa2ad4dfae...|e1e2b559781f43694...|d2cfabab731178547...|   delivered|         4/25/2017 15:14|  4/25/2017 15:25|             4/27/2017 11:24|               5/9/2017 16:21|               5/24/2017 0:00|a82d9e16794b2921f...|                   36510|        rodeiro|            MG|            -21.20018316|            -42.86603309|c2fac1392a0ab55f8...|           5|                null|  Loja séria com se...|                null|                   null|       215.19|      (4,[1],[6.0])|    (4,[1],[215.19])|8d746e360a815705b...|            1|2017-05-02 15:25:24|169.9|        45.29|                 34|                       548|                 1|            6700|               70|               51|              13|              furniture_decor|                 95913|    lajeado|          RS|          -29.44657989|          -51.96120191| 13|\n",
      "|062ce95fa2ad4dfae...|e21677585042e206b...|1ad05de046ac6a5e9...|   delivered|          6/20/2017 9:56|  6/20/2017 10:05|             6/29/2017 14:49|               7/6/2017 15:54|               7/14/2017 0:00|d9d506dbb65bdc1f8...|                   89162|     rio do sul|            SC|            -27.18228119|            -49.60640969|94691b18bf047b007...|           5|                null|   Excelente recomendo| 2017-07-07 00:00:00|    2017-07-10 12:28:31|        95.21|      (4,[1],[9.0])|     (4,[1],[95.21])|8c96a6969d0fad206...|            1|2017-06-28 10:05:15| 79.9|        15.31|                 50|                      1400|                 1|             400|               19|               20|              18|                health_beauty|                 95913|    lajeado|          RS|          -29.44657989|          -51.96120191| 14|\n",
      "|062ce95fa2ad4dfae...|a509a0a8522e394f8...|b93f595ad6dd63fa5...|   delivered|          7/9/2017 21:08|   7/9/2017 21:23|             7/13/2017 16:49|              7/18/2017 15:33|                8/3/2017 0:00|f80521e48c7cb490d...|                    3658|      sao paulo|            SP|            -23.52813994|            -46.50066365|f5388e20b7d050a39...|           4|                null|  Acho q a empresa ...| 2017-07-19 00:00:00|    2017-07-20 04:04:40|       210.47|      (4,[1],[8.0])|    (4,[1],[210.47])|3efe696e322f9139e...|            1|2017-07-13 21:23:18|189.9|        20.57|                 40|                       537|                 3|            1300|               31|                6|              33|              furniture_decor|                 95913|    lajeado|          RS|          -29.44657989|          -51.96120191| 15|\n",
      "|062ce95fa2ad4dfae...|f58d7e09ece55d81a...|2945f7826483e9c73...|   delivered|         6/28/2017 21:41|  6/28/2017 21:50|               7/3/2017 9:51|               7/6/2017 10:07|               7/24/2017 0:00|334cc44b9272d44bc...|                    5630|      sao paulo|            SP|            -23.61153067|            -46.73636662|c9d483edb6d9174a8...|           5|                null|                  null| 2017-07-07 00:00:00|    2017-07-09 13:37:25|       631.41|      (4,[1],[1.0])|    (4,[1],[631.41])|3efe696e322f9139e...|            1|2017-07-04 21:50:19|189.9|        20.57|                 40|                       537|                 3|            1300|               31|                6|              33|              furniture_decor|                 95913|    lajeado|          RS|          -29.44657989|          -51.96120191| 16|\n",
      "|062ce95fa2ad4dfae...|f58d7e09ece55d81a...|2945f7826483e9c73...|   delivered|         6/28/2017 21:41|  6/28/2017 21:50|               7/3/2017 9:51|               7/6/2017 10:07|               7/24/2017 0:00|334cc44b9272d44bc...|                    5630|      sao paulo|            SP|            -23.61153067|            -46.73636662|c9d483edb6d9174a8...|           5|                null|                  null| 2017-07-07 00:00:00|    2017-07-09 13:37:25|       631.41|      (4,[1],[1.0])|    (4,[1],[631.41])|3efe696e322f9139e...|            2|2017-07-04 21:50:19|189.9|        20.57|                 40|                       537|                 3|            1300|               31|                6|              33|              furniture_decor|                 95913|    lajeado|          RS|          -29.44657989|          -51.96120191| 17|\n",
      "|062ce95fa2ad4dfae...|f58d7e09ece55d81a...|2945f7826483e9c73...|   delivered|         6/28/2017 21:41|  6/28/2017 21:50|               7/3/2017 9:51|               7/6/2017 10:07|               7/24/2017 0:00|334cc44b9272d44bc...|                    5630|      sao paulo|            SP|            -23.61153067|            -46.73636662|c9d483edb6d9174a8...|           5|                null|                  null| 2017-07-07 00:00:00|    2017-07-09 13:37:25|       631.41|      (4,[1],[1.0])|    (4,[1],[631.41])|3efe696e322f9139e...|            3|2017-07-04 21:50:19|189.9|        20.57|                 40|                       537|                 3|            1300|               31|                6|              33|              furniture_decor|                 95913|    lajeado|          RS|          -29.44657989|          -51.96120191| 18|\n",
      "|062ce95fa2ad4dfae...|a840a7a89e3d91373...|5e320e6a4f03e2e74...|   delivered|          3/9/2017 22:17|   3/9/2017 22:17|             3/10/2017 16:23|               3/16/2017 8:24|               3/28/2017 0:00|8a2530b1bf32235ed...|                   95012|  caxias do sul|            RS|            -29.17266949|            -51.21072934|530bc04383c4dded4...|           5|                null|                  null| 2017-03-17 00:00:00|    2017-03-20 00:14:30|        305.7|      (4,[1],[5.0])|     (4,[1],[305.7])|ff922797a6771cab4...|            1|2017-03-15 22:17:49|289.9|         15.8|                 37|                       537|                 3|            1725|               31|                8|              33|                 market_place|                 95913|    lajeado|          RS|          -29.44657989|          -51.96120191| 19|\n",
      "+--------------------+--------------------+--------------------+------------+------------------------+-----------------+----------------------------+-----------------------------+-----------------------------+--------------------+------------------------+---------------+--------------+------------------------+------------------------+--------------------+------------+--------------------+----------------------+--------------------+-----------------------+-------------+-------------------+--------------------+--------------------+-------------+-------------------+-----+-------------+-------------------+--------------------------+------------------+----------------+-----------------+-----------------+----------------+-----------------------------+----------------------+-----------+------------+----------------------+----------------------+---+\n",
      "only showing top 20 rows\n",
      "\n"
     ]
    }
   ],
   "source": [
    "final_order2.show()"
   ]
  },
  {
   "cell_type": "code",
   "execution_count": 104,
   "metadata": {
    "colab": {
     "base_uri": "https://localhost:8080/",
     "height": 782
    },
    "colab_type": "code",
    "id": "Ey-rycOuGkuL",
    "outputId": "fed4368f-49ce-4c04-8b44-5fae78739e9d"
   },
   "outputs": [
    {
     "name": "stdout",
     "output_type": "stream",
     "text": [
      "root\n",
      " |-- seller_id: string (nullable = true)\n",
      " |-- order_id: string (nullable = true)\n",
      " |-- customer_id: string (nullable = true)\n",
      " |-- order_status: string (nullable = true)\n",
      " |-- order_purchase_timestamp: string (nullable = true)\n",
      " |-- order_approved_at: string (nullable = true)\n",
      " |-- order_delivered_carrier_date: string (nullable = true)\n",
      " |-- order_delivered_customer_date: string (nullable = true)\n",
      " |-- order_estimated_delivery_date: string (nullable = true)\n",
      " |-- customer_unique_id: string (nullable = true)\n",
      " |-- customer_zip_code_prefix: integer (nullable = true)\n",
      " |-- customer_city: string (nullable = true)\n",
      " |-- customer_state: string (nullable = true)\n",
      " |-- customer_geolocation_lat: double (nullable = true)\n",
      " |-- customer_geolocation_lng: double (nullable = true)\n",
      " |-- review_id: string (nullable = true)\n",
      " |-- review_score: string (nullable = true)\n",
      " |-- review_comment_title: string (nullable = true)\n",
      " |-- review_comment_message: string (nullable = true)\n",
      " |-- review_creation_date: string (nullable = true)\n",
      " |-- review_answer_timestamp: string (nullable = true)\n",
      " |-- total_payment: double (nullable = true)\n",
      " |-- payment_type_count: vector (nullable = true)\n",
      " |-- payment_type_value: vector (nullable = true)\n",
      " |-- product_id: string (nullable = true)\n",
      " |-- order_item_id: integer (nullable = true)\n",
      " |-- shipping_limit_date: timestamp (nullable = true)\n",
      " |-- price: double (nullable = true)\n",
      " |-- freight_value: double (nullable = true)\n",
      " |-- product_name_lenght: integer (nullable = true)\n",
      " |-- product_description_lenght: integer (nullable = true)\n",
      " |-- product_photos_qty: integer (nullable = true)\n",
      " |-- product_weight_g: integer (nullable = true)\n",
      " |-- product_length_cm: integer (nullable = true)\n",
      " |-- product_height_cm: integer (nullable = true)\n",
      " |-- product_width_cm: integer (nullable = true)\n",
      " |-- product_category_name_english: string (nullable = true)\n",
      " |-- seller_zip_code_prefix: integer (nullable = true)\n",
      " |-- seller_city: string (nullable = true)\n",
      " |-- seller_state: string (nullable = true)\n",
      " |-- seller_geolocation_lat: double (nullable = true)\n",
      " |-- seller_geolocation_lng: double (nullable = true)\n",
      " |-- id: long (nullable = false)\n",
      "\n"
     ]
    }
   ],
   "source": [
    "final_order2.printSchema()"
   ]
  },
  {
   "cell_type": "code",
   "execution_count": 126,
   "metadata": {
    "colab": {
     "base_uri": "https://localhost:8080/",
     "height": 479
    },
    "colab_type": "code",
    "id": "nYHUBKUUGxxd",
    "outputId": "23b7a6b5-1292-4068-cf52-600719726a39"
   },
   "outputs": [
    {
     "name": "stdout",
     "output_type": "stream",
     "text": [
      "+--------------------+--------------------+--------------------+------------+------------------------+-----------------+----------------------------+-----------------------------+-----------------------------+--------------------+------------------------+---------------+--------------+------------------------+------------------------+--------------------+------------+--------------------+----------------------+--------------------+-----------------------+-------------+-------------------+--------------------+--------------------+-------------+-------------------+-----+-------------+-------------------+--------------------------+------------------+----------------+-----------------+-----------------+----------------+-----------------------------+----------------------+-----------+------------+----------------------+----------------------+---+\n",
      "|           seller_id|            order_id|         customer_id|order_status|order_purchase_timestamp|order_approved_at|order_delivered_carrier_date|order_delivered_customer_date|order_estimated_delivery_date|  customer_unique_id|customer_zip_code_prefix|  customer_city|customer_state|customer_geolocation_lat|customer_geolocation_lng|           review_id|review_score|review_comment_title|review_comment_message|review_creation_date|review_answer_timestamp|total_payment| payment_type_count|  payment_type_value|          product_id|order_item_id|shipping_limit_date|price|freight_value|product_name_lenght|product_description_lenght|product_photos_qty|product_weight_g|product_length_cm|product_height_cm|product_width_cm|product_category_name_english|seller_zip_code_prefix|seller_city|seller_state|seller_geolocation_lat|seller_geolocation_lng| id|\n",
      "+--------------------+--------------------+--------------------+------------+------------------------+-----------------+----------------------------+-----------------------------+-----------------------------+--------------------+------------------------+---------------+--------------+------------------------+------------------------+--------------------+------------+--------------------+----------------------+--------------------+-----------------------+-------------+-------------------+--------------------+--------------------+-------------+-------------------+-----+-------------+-------------------+--------------------------+------------------+----------------+-----------------+-----------------+----------------+-----------------------------+----------------------+-----------+------------+----------------------+----------------------+---+\n",
      "|062ce95fa2ad4dfae...|b6fa6ea37aeeb90c9...|e2dc0b0cef1781793...|   delivered|     2017-04-24 10:31:00|   4/25/2017 8:02|              5/2/2017 11:30|              5/22/2017 16:07|               5/25/2017 0:00|4f308d513ccac2840...|                   72457|       brasilia|            DF|            -16.02294658|            -48.05071816|11bbc10384b40b673...|           5|                null|                  null| 2017-05-23 00:00:00|    2017-05-24 12:20:05|       100.91|      (4,[0],[1.0])|    (4,[0],[100.91])|8a4505505378c8f5d...|            1|2017-05-04 08:02:25| 79.9|        21.01|                 47|                      1400|                 1|             325|               19|               20|              18|                health_beauty|                 95913|    lajeado|          RS|          -29.44657989|          -51.96120191|  0|\n",
      "|062ce95fa2ad4dfae...|87a838f48767365e2...|60c9723c5d232b784...|   delivered|     2017-03-16 16:16:00|  3/16/2017 16:16|             3/21/2017 16:08|              3/28/2017 16:04|                4/6/2017 0:00|6b3b92110c5adfe4a...|                   89705|      concordia|            SC|            -27.23090863|             -52.0454811|654815c89e6174154...|           5|                null|  Adorei o produto ...| 2017-03-29 00:00:00|    2017-03-30 11:52:31|        56.42|      (4,[1],[1.0])|     (4,[1],[56.42])|cd82271424be95688...|            1|2017-03-22 16:16:02| 41.9|        14.52|                 56|                       999|                 1|             400|               19|               13|              15|               bed_bath_table|                 95913|    lajeado|          RS|          -29.44657989|          -51.96120191|  1|\n",
      "|062ce95fa2ad4dfae...|8afd15d26436c6044...|65d631d0de3181168...|   delivered|     2017-08-29 23:59:00|   8/31/2017 2:35|             9/29/2017 21:04|              10/5/2017 21:29|               9/26/2017 0:00|78fcceb499ec9008f...|                   15804|      catanduva|            SP|            -21.12102843|            -48.97081828|a112a50d46519520d...|           3|                null|                  null| 2017-09-30 00:00:00|    2017-09-30 12:47:11|        59.82|      (4,[0],[1.0])|     (4,[0],[59.82])|cd82271424be95688...|            1|2017-09-06 02:35:21| 41.9|        17.92|                 56|                       999|                 1|             400|               19|               13|              15|               bed_bath_table|                 95913|    lajeado|          RS|          -29.44657989|          -51.96120191|  2|\n",
      "|062ce95fa2ad4dfae...|1a494062b68a8ed99...|8ac1fe94e53325560...|   delivered|     2017-05-12 09:09:00|   5/12/2017 9:25|             5/18/2017 12:12|              5/21/2017 12:51|                6/1/2017 0:00|ec81d1c881757b8d0...|                   88102|       sao jose|            SC|            -27.59580821|            -48.61619711|48fe29ff7afb01dc5...|           5|                null|  Gostaria apenas q...| 2017-05-22 00:00:00|    2017-05-23 12:46:20|         57.0|(4,[1,3],[2.0,1.0])|(4,[1,3],[40.22,1...|4da03293502189784...|            1|2017-05-18 09:25:07| 41.9|         15.1|                 63|                       683|                 1|             400|               21|                5|              15|              furniture_decor|                 95913|    lajeado|          RS|          -29.44657989|          -51.96120191|  3|\n",
      "|062ce95fa2ad4dfae...|288ec48ad5ea4c98a...|fec424751aa87f545...|   delivered|     2017-06-18 14:27:00|  6/20/2017 10:43|             6/26/2017 14:48|              6/29/2017 17:09|                7/7/2017 0:00|e8a195f60d266e458...|                   95320|     nova prata|            RS|             -28.7822546|            -51.60921297|9009e7e25f6a8e458...|           5|                null|                  null| 2017-06-30 00:00:00|    2017-07-08 00:14:13|        54.38|      (4,[0],[1.0])|     (4,[0],[54.38])|4da03293502189784...|            1|2017-06-26 10:43:46| 41.9|        12.48|                 63|                       683|                 1|             400|               21|                5|              15|              furniture_decor|                 95913|    lajeado|          RS|          -29.44657989|          -51.96120191|  4|\n",
      "|062ce95fa2ad4dfae...|fb86c32ba3e47fe56...|5b1744540d6008b84...|   delivered|     2017-05-18 10:46:00|  5/18/2017 11:02|             5/22/2017 13:25|               5/27/2017 5:33|               6/19/2017 0:00|10e49f47dc1cd4cdf...|                   20260| rio de janeiro|            RJ|            -22.91934258|            -43.21542322|a5721b28290f94e9a...|           5|                null|                  null| 2017-05-28 00:00:00|    2017-05-29 14:50:18|        65.53|      (4,[1],[6.0])|     (4,[1],[65.53])|4b703444923b5e57b...|            1|2017-05-25 11:02:46| 39.9|        25.63|                 49|                       204|                 1|             264|               17|               14|              16|               bed_bath_table|                 95913|    lajeado|          RS|          -29.44657989|          -51.96120191|  5|\n",
      "|062ce95fa2ad4dfae...|0cda834be88c6e549...|9c64cd776ee9f018a...|   delivered|     2017-09-10 00:14:00|   9/10/2017 0:35|             9/12/2017 13:50|              9/25/2017 15:56|               10/5/2017 0:00|9df0c554a0b37fc0c...|                    7179|      guarulhos|            SP|            -23.40404596|            -46.41877432|be4e16abeb792466b...|           3|                null|  Fiz a compra e ch...| 2017-09-26 00:00:00|    2017-09-26 22:06:02|       243.12|     (4,[1],[10.0])|    (4,[1],[243.12])|cd82271424be95688...|            1|2017-09-14 00:35:09| 41.9|          1.1|                 56|                       999|                 1|             400|               19|               13|              15|               bed_bath_table|                 95913|    lajeado|          RS|          -29.44657989|          -51.96120191|  6|\n",
      "|062ce95fa2ad4dfae...|ee7b9fca242afe884...|aafa66416bb386613...|   delivered|     2017-04-29 20:57:00|  4/29/2017 21:10|               5/4/2017 5:52|              5/11/2017 11:27|               5/29/2017 0:00|76bf559b3b17a29c5...|                    1303|      sao paulo|            SP|             -23.5495057|            -46.64843251|72b1153250e95ec4b...|           3|                null|  Percebi q havia p...| 2017-05-12 00:00:00|    2017-05-13 02:18:10|       312.25|      (4,[1],[5.0])|    (4,[1],[312.25])|ff922797a6771cab4...|            1|2017-05-04 21:10:16|289.9|        22.35|                 37|                       537|                 3|            1725|               31|                8|              33|                 market_place|                 95913|    lajeado|          RS|          -29.44657989|          -51.96120191|  7|\n",
      "|062ce95fa2ad4dfae...|f8470371533c258e0...|3bc3ad02b60f18345...|   delivered|     2017-02-22 02:49:00|   2/22/2017 3:02|             2/24/2017 14:03|               3/3/2017 14:54|               3/27/2017 0:00|d616b371aae4ce572...|                    4064|      sao paulo|            SP|             -23.6187658|            -46.64940227|d63c849ea6d81cf7c...|           1|                null|  O produto não aqu...|                null|                   null|       208.07|      (4,[1],[3.0])|    (4,[1],[208.07])|3efe696e322f9139e...|            1|2017-02-26 02:49:22|189.9|        18.17|                 40|                       537|                 3|            1300|               31|                6|              33|              furniture_decor|                 95913|    lajeado|          RS|          -29.44657989|          -51.96120191|  8|\n",
      "|062ce95fa2ad4dfae...|4d7b93709f08f674f...|3e2d140f0acbb3da8...|   delivered|     2017-01-31 17:11:00|  1/31/2017 17:25|               2/1/2017 0:00|               2/7/2017 14:06|               3/15/2017 0:00|674d55cc522075b79...|                   22410| rio de janeiro|            RJ|            -22.98392343|            -43.20710147|91712508056632bf3...|           4|                null|                  null| 2017-02-08 00:00:00|    2017-02-09 17:58:55|       119.36|      (4,[1],[1.0])|    (4,[1],[119.36])|4da03293502189784...|            1|2017-02-04 17:11:49| 41.9|        17.78|                 63|                       683|                 1|             400|               21|                5|              15|              furniture_decor|                 95913|    lajeado|          RS|          -29.44657989|          -51.96120191|  9|\n",
      "|062ce95fa2ad4dfae...|4d7b93709f08f674f...|3e2d140f0acbb3da8...|   delivered|     2017-01-31 17:11:00|  1/31/2017 17:25|               2/1/2017 0:00|               2/7/2017 14:06|               3/15/2017 0:00|674d55cc522075b79...|                   22410| rio de janeiro|            RJ|            -22.98392343|            -43.20710147|91712508056632bf3...|           4|                null|                  null| 2017-02-08 00:00:00|    2017-02-09 17:58:55|       119.36|      (4,[1],[1.0])|    (4,[1],[119.36])|4da03293502189784...|            2|2017-02-04 17:11:49| 41.9|        17.78|                 63|                       683|                 1|             400|               21|                5|              15|              furniture_decor|                 95913|    lajeado|          RS|          -29.44657989|          -51.96120191| 10|\n",
      "|062ce95fa2ad4dfae...|ae1cb31659e2cf358...|bbf249561e84f966c...|   delivered|     2017-08-21 19:49:00|  8/21/2017 20:05|             8/29/2017 18:51|               9/1/2017 21:53|               9/15/2017 0:00|76888ec0e2d5b7de5...|                    8280|      sao paulo|            SP|            -23.56118966|            -46.47448584|e0b2eab149eb41f3f...|           5|                null|                  null| 2017-09-04 00:00:00|    2017-09-04 17:50:42|       210.47|      (4,[1],[4.0])|    (4,[1],[210.47])|3efe696e322f9139e...|            1|2017-08-25 20:05:52|189.9|        20.57|                 40|                       537|                 3|            1300|               31|                6|              33|              furniture_decor|                 95913|    lajeado|          RS|          -29.44657989|          -51.96120191| 11|\n",
      "|062ce95fa2ad4dfae...|d7108e3ddf254c6b5...|8326dc987e109ccc7...|   delivered|     2017-05-19 18:36:00|  5/19/2017 18:50|             5/22/2017 13:25|              5/31/2017 13:52|               6/21/2017 0:00|19e74a05536d13b34...|                   37701|pocos de caldas|            MG|            -21.78913132|            -46.56757074|4d482fdd3daec0366...|           5|                null|                  null| 2017-06-02 00:00:00|    2017-06-02 18:04:31|       226.55|      (4,[1],[1.0])|    (4,[1],[226.55])|3efe696e322f9139e...|            1|2017-05-25 18:50:15|189.9|        36.65|                 40|                       537|                 3|            1300|               31|                6|              33|              furniture_decor|                 95913|    lajeado|          RS|          -29.44657989|          -51.96120191| 12|\n",
      "|062ce95fa2ad4dfae...|e1e2b559781f43694...|d2cfabab731178547...|   delivered|     2017-04-25 15:14:00|  4/25/2017 15:25|             4/27/2017 11:24|               5/9/2017 16:21|               5/24/2017 0:00|a82d9e16794b2921f...|                   36510|        rodeiro|            MG|            -21.20018316|            -42.86603309|c2fac1392a0ab55f8...|           5|                null|  Loja séria com se...|                null|                   null|       215.19|      (4,[1],[6.0])|    (4,[1],[215.19])|8d746e360a815705b...|            1|2017-05-02 15:25:24|169.9|        45.29|                 34|                       548|                 1|            6700|               70|               51|              13|              furniture_decor|                 95913|    lajeado|          RS|          -29.44657989|          -51.96120191| 13|\n",
      "|062ce95fa2ad4dfae...|e21677585042e206b...|1ad05de046ac6a5e9...|   delivered|     2017-06-20 09:56:00|  6/20/2017 10:05|             6/29/2017 14:49|               7/6/2017 15:54|               7/14/2017 0:00|d9d506dbb65bdc1f8...|                   89162|     rio do sul|            SC|            -27.18228119|            -49.60640969|94691b18bf047b007...|           5|                null|   Excelente recomendo| 2017-07-07 00:00:00|    2017-07-10 12:28:31|        95.21|      (4,[1],[9.0])|     (4,[1],[95.21])|8c96a6969d0fad206...|            1|2017-06-28 10:05:15| 79.9|        15.31|                 50|                      1400|                 1|             400|               19|               20|              18|                health_beauty|                 95913|    lajeado|          RS|          -29.44657989|          -51.96120191| 14|\n",
      "|062ce95fa2ad4dfae...|a509a0a8522e394f8...|b93f595ad6dd63fa5...|   delivered|     2017-07-09 21:08:00|   7/9/2017 21:23|             7/13/2017 16:49|              7/18/2017 15:33|                8/3/2017 0:00|f80521e48c7cb490d...|                    3658|      sao paulo|            SP|            -23.52813994|            -46.50066365|f5388e20b7d050a39...|           4|                null|  Acho q a empresa ...| 2017-07-19 00:00:00|    2017-07-20 04:04:40|       210.47|      (4,[1],[8.0])|    (4,[1],[210.47])|3efe696e322f9139e...|            1|2017-07-13 21:23:18|189.9|        20.57|                 40|                       537|                 3|            1300|               31|                6|              33|              furniture_decor|                 95913|    lajeado|          RS|          -29.44657989|          -51.96120191| 15|\n",
      "|062ce95fa2ad4dfae...|f58d7e09ece55d81a...|2945f7826483e9c73...|   delivered|     2017-06-28 21:41:00|  6/28/2017 21:50|               7/3/2017 9:51|               7/6/2017 10:07|               7/24/2017 0:00|334cc44b9272d44bc...|                    5630|      sao paulo|            SP|            -23.61153067|            -46.73636662|c9d483edb6d9174a8...|           5|                null|                  null| 2017-07-07 00:00:00|    2017-07-09 13:37:25|       631.41|      (4,[1],[1.0])|    (4,[1],[631.41])|3efe696e322f9139e...|            1|2017-07-04 21:50:19|189.9|        20.57|                 40|                       537|                 3|            1300|               31|                6|              33|              furniture_decor|                 95913|    lajeado|          RS|          -29.44657989|          -51.96120191| 16|\n",
      "|062ce95fa2ad4dfae...|f58d7e09ece55d81a...|2945f7826483e9c73...|   delivered|     2017-06-28 21:41:00|  6/28/2017 21:50|               7/3/2017 9:51|               7/6/2017 10:07|               7/24/2017 0:00|334cc44b9272d44bc...|                    5630|      sao paulo|            SP|            -23.61153067|            -46.73636662|c9d483edb6d9174a8...|           5|                null|                  null| 2017-07-07 00:00:00|    2017-07-09 13:37:25|       631.41|      (4,[1],[1.0])|    (4,[1],[631.41])|3efe696e322f9139e...|            2|2017-07-04 21:50:19|189.9|        20.57|                 40|                       537|                 3|            1300|               31|                6|              33|              furniture_decor|                 95913|    lajeado|          RS|          -29.44657989|          -51.96120191| 17|\n",
      "|062ce95fa2ad4dfae...|f58d7e09ece55d81a...|2945f7826483e9c73...|   delivered|     2017-06-28 21:41:00|  6/28/2017 21:50|               7/3/2017 9:51|               7/6/2017 10:07|               7/24/2017 0:00|334cc44b9272d44bc...|                    5630|      sao paulo|            SP|            -23.61153067|            -46.73636662|c9d483edb6d9174a8...|           5|                null|                  null| 2017-07-07 00:00:00|    2017-07-09 13:37:25|       631.41|      (4,[1],[1.0])|    (4,[1],[631.41])|3efe696e322f9139e...|            3|2017-07-04 21:50:19|189.9|        20.57|                 40|                       537|                 3|            1300|               31|                6|              33|              furniture_decor|                 95913|    lajeado|          RS|          -29.44657989|          -51.96120191| 18|\n",
      "|062ce95fa2ad4dfae...|a840a7a89e3d91373...|5e320e6a4f03e2e74...|   delivered|     2017-03-09 22:17:00|   3/9/2017 22:17|             3/10/2017 16:23|               3/16/2017 8:24|               3/28/2017 0:00|8a2530b1bf32235ed...|                   95012|  caxias do sul|            RS|            -29.17266949|            -51.21072934|530bc04383c4dded4...|           5|                null|                  null| 2017-03-17 00:00:00|    2017-03-20 00:14:30|        305.7|      (4,[1],[5.0])|     (4,[1],[305.7])|ff922797a6771cab4...|            1|2017-03-15 22:17:49|289.9|         15.8|                 37|                       537|                 3|            1725|               31|                8|              33|                 market_place|                 95913|    lajeado|          RS|          -29.44657989|          -51.96120191| 19|\n",
      "+--------------------+--------------------+--------------------+------------+------------------------+-----------------+----------------------------+-----------------------------+-----------------------------+--------------------+------------------------+---------------+--------------+------------------------+------------------------+--------------------+------------+--------------------+----------------------+--------------------+-----------------------+-------------+-------------------+--------------------+--------------------+-------------+-------------------+-----+-------------+-------------------+--------------------------+------------------+----------------+-----------------+-----------------+----------------+-----------------------------+----------------------+-----------+------------+----------------------+----------------------+---+\n",
      "only showing top 20 rows\n",
      "\n"
     ]
    }
   ],
   "source": [
    "import pyspark.sql.functions as F\n",
    "#final_order2.withColumn(\"order_purchase_timestamp\",.to_timestamp(\"order_purchase_timestamp\", \"yyyy/MM/dd HHmm\")).show()\n",
    "\n",
    "final_order2.withColumn('order_purchase_timestamp', F.to_timestamp('order_purchase_timestamp', format='MM/dd/yyyy HH:mm')).show()"
   ]
  },
  {
   "cell_type": "code",
   "execution_count": 0,
   "metadata": {
    "colab": {},
    "colab_type": "code",
    "id": "ReOaMES-H_TC"
   },
   "outputs": [],
   "source": [
    "from pyspark.sql.functions import to_timestamp\n",
    "final_order3 = final_order2.withColumn(\"review_creation_date\", F.to_timestamp(\"review_creation_date\", format='MM/dd/yyyy HH:mm'))\\\n",
    "                           .withColumn(\"review_answer_timestamp\", F.to_timestamp(\"review_answer_timestamp\", format='MM/dd/yyyy HH:mm'))\\\n",
    "                           .withColumn(\"order_purchase_timestamp\", F.to_timestamp(\"order_purchase_timestamp\", format='MM/dd/yyyy HH:mm'))\\\n",
    "                           .withColumn(\"order_approved_at\", F.to_timestamp(\"order_approved_at\", format='MM/dd/yyyy HH:mm'))\\\n",
    "                           .withColumn(\"order_delivered_carrier_date\", F.to_timestamp(\"order_delivered_carrier_date\", format='MM/dd/yyyy HH:mm'))\\\n",
    "                           .withColumn(\"order_delivered_customer_date\", F.to_timestamp(\"order_delivered_customer_date\", format='MM/dd/yyyy HH:mm'))\\\n",
    "                           .withColumn(\"order_estimated_delivery_date\", F.to_timestamp(\"order_estimated_delivery_date\", format='MM/dd/yyyy HH:mm'))"
   ]
  },
  {
   "cell_type": "code",
   "execution_count": 0,
   "metadata": {
    "colab": {},
    "colab_type": "code",
    "id": "1R815s9guEm0"
   },
   "outputs": [],
   "source": [
    "# ## change all date to TimeStampType\n",
    "# from pyspark.sql.functions import to_timestamp\n",
    "# final_order3 = final_order2.withColumn(\"review_creation_date\", to_timestamp(\"review_creation_date\", \"yyyy-MM-dd HH:mm:ss\").cast(\"timestamp\"))\\\n",
    "#                            .withColumn(\"review_answer_timestamp\", to_timestamp(\"review_answer_timestamp\", \"yyyy-MM-dd HH:mm:ss\").cast(\"timestamp\"))\\\n",
    "#                            .withColumn(\"order_purchase_timestamp\", to_timestamp(\"order_purchase_timestamp\", \"yyyy-MM-dd HH:mm:ss\").cast(\"timestamp\"))\\\n",
    "#                            .withColumn(\"order_approved_at\", to_timestamp(\"order_approved_at\", \"yyyy-MM-dd HH:mm:ss\").cast(\"timestamp\"))\\\n",
    "#                            .withColumn(\"order_delivered_carrier_date\", to_timestamp(\"order_delivered_carrier_date\", \"yyyy-MM-dd HH:mm:ss\").cast(\"timestamp\"))\\\n",
    "#                            .withColumn(\"order_delivered_customer_date\", to_timestamp(\"order_delivered_customer_date\", \"yyyy-MM-dd HH:mm:ss\").cast(\"timestamp\"))\\\n",
    "#                            .withColumn(\"order_estimated_delivery_date\", to_timestamp(\"order_estimated_delivery_date\", \"yyyy-MM-dd HH:mm:ss\").cast(\"timestamp\"))"
   ]
  },
  {
   "cell_type": "code",
   "execution_count": 103,
   "metadata": {
    "colab": {
     "base_uri": "https://localhost:8080/",
     "height": 479
    },
    "colab_type": "code",
    "id": "IbEetIHMGSIY",
    "outputId": "b13073f8-acd6-4c08-e99f-3f8e3477fe56"
   },
   "outputs": [
    {
     "name": "stdout",
     "output_type": "stream",
     "text": [
      "+--------------------+--------------------+--------------------+------------+------------------------+-----------------+----------------------------+-----------------------------+-----------------------------+--------------------+------------------------+---------------+--------------+------------------------+------------------------+--------------------+------------+--------------------+----------------------+--------------------+-----------------------+-------------+-------------------+--------------------+--------------------+-------------+-------------------+-----+-------------+-------------------+--------------------------+------------------+----------------+-----------------+-----------------+----------------+-----------------------------+----------------------+-----------+------------+----------------------+----------------------+---+\n",
      "|           seller_id|            order_id|         customer_id|order_status|order_purchase_timestamp|order_approved_at|order_delivered_carrier_date|order_delivered_customer_date|order_estimated_delivery_date|  customer_unique_id|customer_zip_code_prefix|  customer_city|customer_state|customer_geolocation_lat|customer_geolocation_lng|           review_id|review_score|review_comment_title|review_comment_message|review_creation_date|review_answer_timestamp|total_payment| payment_type_count|  payment_type_value|          product_id|order_item_id|shipping_limit_date|price|freight_value|product_name_lenght|product_description_lenght|product_photos_qty|product_weight_g|product_length_cm|product_height_cm|product_width_cm|product_category_name_english|seller_zip_code_prefix|seller_city|seller_state|seller_geolocation_lat|seller_geolocation_lng| id|\n",
      "+--------------------+--------------------+--------------------+------------+------------------------+-----------------+----------------------------+-----------------------------+-----------------------------+--------------------+------------------------+---------------+--------------+------------------------+------------------------+--------------------+------------+--------------------+----------------------+--------------------+-----------------------+-------------+-------------------+--------------------+--------------------+-------------+-------------------+-----+-------------+-------------------+--------------------------+------------------+----------------+-----------------+-----------------+----------------+-----------------------------+----------------------+-----------+------------+----------------------+----------------------+---+\n",
      "|062ce95fa2ad4dfae...|b6fa6ea37aeeb90c9...|e2dc0b0cef1781793...|   delivered|                    null|             null|                        null|                         null|                         null|4f308d513ccac2840...|                   72457|       brasilia|            DF|            -16.02294658|            -48.05071816|11bbc10384b40b673...|           5|                null|                  null| 2017-05-23 00:00:00|    2017-05-24 12:20:05|       100.91|      (4,[0],[1.0])|    (4,[0],[100.91])|8a4505505378c8f5d...|            1|2017-05-04 08:02:25| 79.9|        21.01|                 47|                      1400|                 1|             325|               19|               20|              18|                health_beauty|                 95913|    lajeado|          RS|          -29.44657989|          -51.96120191|  0|\n",
      "|062ce95fa2ad4dfae...|87a838f48767365e2...|60c9723c5d232b784...|   delivered|                    null|             null|                        null|                         null|                         null|6b3b92110c5adfe4a...|                   89705|      concordia|            SC|            -27.23090863|             -52.0454811|654815c89e6174154...|           5|                null|  Adorei o produto ...| 2017-03-29 00:00:00|    2017-03-30 11:52:31|        56.42|      (4,[1],[1.0])|     (4,[1],[56.42])|cd82271424be95688...|            1|2017-03-22 16:16:02| 41.9|        14.52|                 56|                       999|                 1|             400|               19|               13|              15|               bed_bath_table|                 95913|    lajeado|          RS|          -29.44657989|          -51.96120191|  1|\n",
      "|062ce95fa2ad4dfae...|8afd15d26436c6044...|65d631d0de3181168...|   delivered|                    null|             null|                        null|                         null|                         null|78fcceb499ec9008f...|                   15804|      catanduva|            SP|            -21.12102843|            -48.97081828|a112a50d46519520d...|           3|                null|                  null| 2017-09-30 00:00:00|    2017-09-30 12:47:11|        59.82|      (4,[0],[1.0])|     (4,[0],[59.82])|cd82271424be95688...|            1|2017-09-06 02:35:21| 41.9|        17.92|                 56|                       999|                 1|             400|               19|               13|              15|               bed_bath_table|                 95913|    lajeado|          RS|          -29.44657989|          -51.96120191|  2|\n",
      "|062ce95fa2ad4dfae...|1a494062b68a8ed99...|8ac1fe94e53325560...|   delivered|                    null|             null|                        null|                         null|                         null|ec81d1c881757b8d0...|                   88102|       sao jose|            SC|            -27.59580821|            -48.61619711|48fe29ff7afb01dc5...|           5|                null|  Gostaria apenas q...| 2017-05-22 00:00:00|    2017-05-23 12:46:20|         57.0|(4,[1,3],[2.0,1.0])|(4,[1,3],[40.22,1...|4da03293502189784...|            1|2017-05-18 09:25:07| 41.9|         15.1|                 63|                       683|                 1|             400|               21|                5|              15|              furniture_decor|                 95913|    lajeado|          RS|          -29.44657989|          -51.96120191|  3|\n",
      "|062ce95fa2ad4dfae...|288ec48ad5ea4c98a...|fec424751aa87f545...|   delivered|                    null|             null|                        null|                         null|                         null|e8a195f60d266e458...|                   95320|     nova prata|            RS|             -28.7822546|            -51.60921297|9009e7e25f6a8e458...|           5|                null|                  null| 2017-06-30 00:00:00|    2017-07-08 00:14:13|        54.38|      (4,[0],[1.0])|     (4,[0],[54.38])|4da03293502189784...|            1|2017-06-26 10:43:46| 41.9|        12.48|                 63|                       683|                 1|             400|               21|                5|              15|              furniture_decor|                 95913|    lajeado|          RS|          -29.44657989|          -51.96120191|  4|\n",
      "|062ce95fa2ad4dfae...|fb86c32ba3e47fe56...|5b1744540d6008b84...|   delivered|                    null|             null|                        null|                         null|                         null|10e49f47dc1cd4cdf...|                   20260| rio de janeiro|            RJ|            -22.91934258|            -43.21542322|a5721b28290f94e9a...|           5|                null|                  null| 2017-05-28 00:00:00|    2017-05-29 14:50:18|        65.53|      (4,[1],[6.0])|     (4,[1],[65.53])|4b703444923b5e57b...|            1|2017-05-25 11:02:46| 39.9|        25.63|                 49|                       204|                 1|             264|               17|               14|              16|               bed_bath_table|                 95913|    lajeado|          RS|          -29.44657989|          -51.96120191|  5|\n",
      "|062ce95fa2ad4dfae...|0cda834be88c6e549...|9c64cd776ee9f018a...|   delivered|                    null|             null|                        null|                         null|                         null|9df0c554a0b37fc0c...|                    7179|      guarulhos|            SP|            -23.40404596|            -46.41877432|be4e16abeb792466b...|           3|                null|  Fiz a compra e ch...| 2017-09-26 00:00:00|    2017-09-26 22:06:02|       243.12|     (4,[1],[10.0])|    (4,[1],[243.12])|cd82271424be95688...|            1|2017-09-14 00:35:09| 41.9|          1.1|                 56|                       999|                 1|             400|               19|               13|              15|               bed_bath_table|                 95913|    lajeado|          RS|          -29.44657989|          -51.96120191|  6|\n",
      "|062ce95fa2ad4dfae...|ee7b9fca242afe884...|aafa66416bb386613...|   delivered|                    null|             null|                        null|                         null|                         null|76bf559b3b17a29c5...|                    1303|      sao paulo|            SP|             -23.5495057|            -46.64843251|72b1153250e95ec4b...|           3|                null|  Percebi q havia p...| 2017-05-12 00:00:00|    2017-05-13 02:18:10|       312.25|      (4,[1],[5.0])|    (4,[1],[312.25])|ff922797a6771cab4...|            1|2017-05-04 21:10:16|289.9|        22.35|                 37|                       537|                 3|            1725|               31|                8|              33|                 market_place|                 95913|    lajeado|          RS|          -29.44657989|          -51.96120191|  7|\n",
      "|062ce95fa2ad4dfae...|f8470371533c258e0...|3bc3ad02b60f18345...|   delivered|                    null|             null|                        null|                         null|                         null|d616b371aae4ce572...|                    4064|      sao paulo|            SP|             -23.6187658|            -46.64940227|d63c849ea6d81cf7c...|           1|                null|  O produto não aqu...|                null|                   null|       208.07|      (4,[1],[3.0])|    (4,[1],[208.07])|3efe696e322f9139e...|            1|2017-02-26 02:49:22|189.9|        18.17|                 40|                       537|                 3|            1300|               31|                6|              33|              furniture_decor|                 95913|    lajeado|          RS|          -29.44657989|          -51.96120191|  8|\n",
      "|062ce95fa2ad4dfae...|4d7b93709f08f674f...|3e2d140f0acbb3da8...|   delivered|                    null|             null|                        null|                         null|                         null|674d55cc522075b79...|                   22410| rio de janeiro|            RJ|            -22.98392343|            -43.20710147|91712508056632bf3...|           4|                null|                  null| 2017-02-08 00:00:00|    2017-02-09 17:58:55|       119.36|      (4,[1],[1.0])|    (4,[1],[119.36])|4da03293502189784...|            1|2017-02-04 17:11:49| 41.9|        17.78|                 63|                       683|                 1|             400|               21|                5|              15|              furniture_decor|                 95913|    lajeado|          RS|          -29.44657989|          -51.96120191|  9|\n",
      "|062ce95fa2ad4dfae...|4d7b93709f08f674f...|3e2d140f0acbb3da8...|   delivered|                    null|             null|                        null|                         null|                         null|674d55cc522075b79...|                   22410| rio de janeiro|            RJ|            -22.98392343|            -43.20710147|91712508056632bf3...|           4|                null|                  null| 2017-02-08 00:00:00|    2017-02-09 17:58:55|       119.36|      (4,[1],[1.0])|    (4,[1],[119.36])|4da03293502189784...|            2|2017-02-04 17:11:49| 41.9|        17.78|                 63|                       683|                 1|             400|               21|                5|              15|              furniture_decor|                 95913|    lajeado|          RS|          -29.44657989|          -51.96120191| 10|\n",
      "|062ce95fa2ad4dfae...|ae1cb31659e2cf358...|bbf249561e84f966c...|   delivered|                    null|             null|                        null|                         null|                         null|76888ec0e2d5b7de5...|                    8280|      sao paulo|            SP|            -23.56118966|            -46.47448584|e0b2eab149eb41f3f...|           5|                null|                  null| 2017-09-04 00:00:00|    2017-09-04 17:50:42|       210.47|      (4,[1],[4.0])|    (4,[1],[210.47])|3efe696e322f9139e...|            1|2017-08-25 20:05:52|189.9|        20.57|                 40|                       537|                 3|            1300|               31|                6|              33|              furniture_decor|                 95913|    lajeado|          RS|          -29.44657989|          -51.96120191| 11|\n",
      "|062ce95fa2ad4dfae...|d7108e3ddf254c6b5...|8326dc987e109ccc7...|   delivered|                    null|             null|                        null|                         null|                         null|19e74a05536d13b34...|                   37701|pocos de caldas|            MG|            -21.78913132|            -46.56757074|4d482fdd3daec0366...|           5|                null|                  null| 2017-06-02 00:00:00|    2017-06-02 18:04:31|       226.55|      (4,[1],[1.0])|    (4,[1],[226.55])|3efe696e322f9139e...|            1|2017-05-25 18:50:15|189.9|        36.65|                 40|                       537|                 3|            1300|               31|                6|              33|              furniture_decor|                 95913|    lajeado|          RS|          -29.44657989|          -51.96120191| 12|\n",
      "|062ce95fa2ad4dfae...|e1e2b559781f43694...|d2cfabab731178547...|   delivered|                    null|             null|                        null|                         null|                         null|a82d9e16794b2921f...|                   36510|        rodeiro|            MG|            -21.20018316|            -42.86603309|c2fac1392a0ab55f8...|           5|                null|  Loja séria com se...|                null|                   null|       215.19|      (4,[1],[6.0])|    (4,[1],[215.19])|8d746e360a815705b...|            1|2017-05-02 15:25:24|169.9|        45.29|                 34|                       548|                 1|            6700|               70|               51|              13|              furniture_decor|                 95913|    lajeado|          RS|          -29.44657989|          -51.96120191| 13|\n",
      "|062ce95fa2ad4dfae...|e21677585042e206b...|1ad05de046ac6a5e9...|   delivered|                    null|             null|                        null|                         null|                         null|d9d506dbb65bdc1f8...|                   89162|     rio do sul|            SC|            -27.18228119|            -49.60640969|94691b18bf047b007...|           5|                null|   Excelente recomendo| 2017-07-07 00:00:00|    2017-07-10 12:28:31|        95.21|      (4,[1],[9.0])|     (4,[1],[95.21])|8c96a6969d0fad206...|            1|2017-06-28 10:05:15| 79.9|        15.31|                 50|                      1400|                 1|             400|               19|               20|              18|                health_beauty|                 95913|    lajeado|          RS|          -29.44657989|          -51.96120191| 14|\n",
      "|062ce95fa2ad4dfae...|a509a0a8522e394f8...|b93f595ad6dd63fa5...|   delivered|                    null|             null|                        null|                         null|                         null|f80521e48c7cb490d...|                    3658|      sao paulo|            SP|            -23.52813994|            -46.50066365|f5388e20b7d050a39...|           4|                null|  Acho q a empresa ...| 2017-07-19 00:00:00|    2017-07-20 04:04:40|       210.47|      (4,[1],[8.0])|    (4,[1],[210.47])|3efe696e322f9139e...|            1|2017-07-13 21:23:18|189.9|        20.57|                 40|                       537|                 3|            1300|               31|                6|              33|              furniture_decor|                 95913|    lajeado|          RS|          -29.44657989|          -51.96120191| 15|\n",
      "|062ce95fa2ad4dfae...|f58d7e09ece55d81a...|2945f7826483e9c73...|   delivered|                    null|             null|                        null|                         null|                         null|334cc44b9272d44bc...|                    5630|      sao paulo|            SP|            -23.61153067|            -46.73636662|c9d483edb6d9174a8...|           5|                null|                  null| 2017-07-07 00:00:00|    2017-07-09 13:37:25|       631.41|      (4,[1],[1.0])|    (4,[1],[631.41])|3efe696e322f9139e...|            1|2017-07-04 21:50:19|189.9|        20.57|                 40|                       537|                 3|            1300|               31|                6|              33|              furniture_decor|                 95913|    lajeado|          RS|          -29.44657989|          -51.96120191| 16|\n",
      "|062ce95fa2ad4dfae...|f58d7e09ece55d81a...|2945f7826483e9c73...|   delivered|                    null|             null|                        null|                         null|                         null|334cc44b9272d44bc...|                    5630|      sao paulo|            SP|            -23.61153067|            -46.73636662|c9d483edb6d9174a8...|           5|                null|                  null| 2017-07-07 00:00:00|    2017-07-09 13:37:25|       631.41|      (4,[1],[1.0])|    (4,[1],[631.41])|3efe696e322f9139e...|            2|2017-07-04 21:50:19|189.9|        20.57|                 40|                       537|                 3|            1300|               31|                6|              33|              furniture_decor|                 95913|    lajeado|          RS|          -29.44657989|          -51.96120191| 17|\n",
      "|062ce95fa2ad4dfae...|f58d7e09ece55d81a...|2945f7826483e9c73...|   delivered|                    null|             null|                        null|                         null|                         null|334cc44b9272d44bc...|                    5630|      sao paulo|            SP|            -23.61153067|            -46.73636662|c9d483edb6d9174a8...|           5|                null|                  null| 2017-07-07 00:00:00|    2017-07-09 13:37:25|       631.41|      (4,[1],[1.0])|    (4,[1],[631.41])|3efe696e322f9139e...|            3|2017-07-04 21:50:19|189.9|        20.57|                 40|                       537|                 3|            1300|               31|                6|              33|              furniture_decor|                 95913|    lajeado|          RS|          -29.44657989|          -51.96120191| 18|\n",
      "|062ce95fa2ad4dfae...|a840a7a89e3d91373...|5e320e6a4f03e2e74...|   delivered|                    null|             null|                        null|                         null|                         null|8a2530b1bf32235ed...|                   95012|  caxias do sul|            RS|            -29.17266949|            -51.21072934|530bc04383c4dded4...|           5|                null|                  null| 2017-03-17 00:00:00|    2017-03-20 00:14:30|        305.7|      (4,[1],[5.0])|     (4,[1],[305.7])|ff922797a6771cab4...|            1|2017-03-15 22:17:49|289.9|         15.8|                 37|                       537|                 3|            1725|               31|                8|              33|                 market_place|                 95913|    lajeado|          RS|          -29.44657989|          -51.96120191| 19|\n",
      "+--------------------+--------------------+--------------------+------------+------------------------+-----------------+----------------------------+-----------------------------+-----------------------------+--------------------+------------------------+---------------+--------------+------------------------+------------------------+--------------------+------------+--------------------+----------------------+--------------------+-----------------------+-------------+-------------------+--------------------+--------------------+-------------+-------------------+-----+-------------+-------------------+--------------------------+------------------+----------------+-----------------+-----------------+----------------+-----------------------------+----------------------+-----------+------------+----------------------+----------------------+---+\n",
      "only showing top 20 rows\n",
      "\n"
     ]
    }
   ],
   "source": [
    "# final_order3.show()"
   ]
  },
  {
   "cell_type": "code",
   "execution_count": 128,
   "metadata": {
    "colab": {
     "base_uri": "https://localhost:8080/",
     "height": 479
    },
    "colab_type": "code",
    "id": "quLOFDTvIbcP",
    "outputId": "7cf54ef3-a11f-4cef-f929-85e841818a18"
   },
   "outputs": [
    {
     "name": "stdout",
     "output_type": "stream",
     "text": [
      "+--------------------+--------------------+--------------------+------------+------------------------+-------------------+----------------------------+-----------------------------+-----------------------------+--------------------+------------------------+---------------+--------------+------------------------+------------------------+--------------------+------------+--------------------+----------------------+--------------------+-----------------------+-------------+-------------------+--------------------+--------------------+-------------+-------------------+-----+-------------+-------------------+--------------------------+------------------+----------------+-----------------+-----------------+----------------+-----------------------------+----------------------+-----------+------------+----------------------+----------------------+---+\n",
      "|           seller_id|            order_id|         customer_id|order_status|order_purchase_timestamp|  order_approved_at|order_delivered_carrier_date|order_delivered_customer_date|order_estimated_delivery_date|  customer_unique_id|customer_zip_code_prefix|  customer_city|customer_state|customer_geolocation_lat|customer_geolocation_lng|           review_id|review_score|review_comment_title|review_comment_message|review_creation_date|review_answer_timestamp|total_payment| payment_type_count|  payment_type_value|          product_id|order_item_id|shipping_limit_date|price|freight_value|product_name_lenght|product_description_lenght|product_photos_qty|product_weight_g|product_length_cm|product_height_cm|product_width_cm|product_category_name_english|seller_zip_code_prefix|seller_city|seller_state|seller_geolocation_lat|seller_geolocation_lng| id|\n",
      "+--------------------+--------------------+--------------------+------------+------------------------+-------------------+----------------------------+-----------------------------+-----------------------------+--------------------+------------------------+---------------+--------------+------------------------+------------------------+--------------------+------------+--------------------+----------------------+--------------------+-----------------------+-------------+-------------------+--------------------+--------------------+-------------+-------------------+-----+-------------+-------------------+--------------------------+------------------+----------------+-----------------+-----------------+----------------+-----------------------------+----------------------+-----------+------------+----------------------+----------------------+---+\n",
      "|062ce95fa2ad4dfae...|b6fa6ea37aeeb90c9...|e2dc0b0cef1781793...|   delivered|     2017-04-24 10:31:00|2017-04-25 08:02:00|         2017-05-02 11:30:00|          2017-05-22 16:07:00|          2017-05-25 00:00:00|4f308d513ccac2840...|                   72457|       brasilia|            DF|            -16.02294658|            -48.05071816|11bbc10384b40b673...|           5|                null|                  null|                null|                   null|       100.91|      (4,[0],[1.0])|    (4,[0],[100.91])|8a4505505378c8f5d...|            1|2017-05-04 08:02:25| 79.9|        21.01|                 47|                      1400|                 1|             325|               19|               20|              18|                health_beauty|                 95913|    lajeado|          RS|          -29.44657989|          -51.96120191|  0|\n",
      "|062ce95fa2ad4dfae...|87a838f48767365e2...|60c9723c5d232b784...|   delivered|     2017-03-16 16:16:00|2017-03-16 16:16:00|         2017-03-21 16:08:00|          2017-03-28 16:04:00|          2017-04-06 00:00:00|6b3b92110c5adfe4a...|                   89705|      concordia|            SC|            -27.23090863|             -52.0454811|654815c89e6174154...|           5|                null|  Adorei o produto ...|                null|                   null|        56.42|      (4,[1],[1.0])|     (4,[1],[56.42])|cd82271424be95688...|            1|2017-03-22 16:16:02| 41.9|        14.52|                 56|                       999|                 1|             400|               19|               13|              15|               bed_bath_table|                 95913|    lajeado|          RS|          -29.44657989|          -51.96120191|  1|\n",
      "|062ce95fa2ad4dfae...|8afd15d26436c6044...|65d631d0de3181168...|   delivered|     2017-08-29 23:59:00|2017-08-31 02:35:00|         2017-09-29 21:04:00|          2017-10-05 21:29:00|          2017-09-26 00:00:00|78fcceb499ec9008f...|                   15804|      catanduva|            SP|            -21.12102843|            -48.97081828|a112a50d46519520d...|           3|                null|                  null|                null|                   null|        59.82|      (4,[0],[1.0])|     (4,[0],[59.82])|cd82271424be95688...|            1|2017-09-06 02:35:21| 41.9|        17.92|                 56|                       999|                 1|             400|               19|               13|              15|               bed_bath_table|                 95913|    lajeado|          RS|          -29.44657989|          -51.96120191|  2|\n",
      "|062ce95fa2ad4dfae...|1a494062b68a8ed99...|8ac1fe94e53325560...|   delivered|     2017-05-12 09:09:00|2017-05-12 09:25:00|         2017-05-18 12:12:00|          2017-05-21 12:51:00|          2017-06-01 00:00:00|ec81d1c881757b8d0...|                   88102|       sao jose|            SC|            -27.59580821|            -48.61619711|48fe29ff7afb01dc5...|           5|                null|  Gostaria apenas q...|                null|                   null|         57.0|(4,[1,3],[2.0,1.0])|(4,[1,3],[40.22,1...|4da03293502189784...|            1|2017-05-18 09:25:07| 41.9|         15.1|                 63|                       683|                 1|             400|               21|                5|              15|              furniture_decor|                 95913|    lajeado|          RS|          -29.44657989|          -51.96120191|  3|\n",
      "|062ce95fa2ad4dfae...|288ec48ad5ea4c98a...|fec424751aa87f545...|   delivered|     2017-06-18 14:27:00|2017-06-20 10:43:00|         2017-06-26 14:48:00|          2017-06-29 17:09:00|          2017-07-07 00:00:00|e8a195f60d266e458...|                   95320|     nova prata|            RS|             -28.7822546|            -51.60921297|9009e7e25f6a8e458...|           5|                null|                  null|                null|                   null|        54.38|      (4,[0],[1.0])|     (4,[0],[54.38])|4da03293502189784...|            1|2017-06-26 10:43:46| 41.9|        12.48|                 63|                       683|                 1|             400|               21|                5|              15|              furniture_decor|                 95913|    lajeado|          RS|          -29.44657989|          -51.96120191|  4|\n",
      "|062ce95fa2ad4dfae...|fb86c32ba3e47fe56...|5b1744540d6008b84...|   delivered|     2017-05-18 10:46:00|2017-05-18 11:02:00|         2017-05-22 13:25:00|          2017-05-27 05:33:00|          2017-06-19 00:00:00|10e49f47dc1cd4cdf...|                   20260| rio de janeiro|            RJ|            -22.91934258|            -43.21542322|a5721b28290f94e9a...|           5|                null|                  null|                null|                   null|        65.53|      (4,[1],[6.0])|     (4,[1],[65.53])|4b703444923b5e57b...|            1|2017-05-25 11:02:46| 39.9|        25.63|                 49|                       204|                 1|             264|               17|               14|              16|               bed_bath_table|                 95913|    lajeado|          RS|          -29.44657989|          -51.96120191|  5|\n",
      "|062ce95fa2ad4dfae...|0cda834be88c6e549...|9c64cd776ee9f018a...|   delivered|     2017-09-10 00:14:00|2017-09-10 00:35:00|         2017-09-12 13:50:00|          2017-09-25 15:56:00|          2017-10-05 00:00:00|9df0c554a0b37fc0c...|                    7179|      guarulhos|            SP|            -23.40404596|            -46.41877432|be4e16abeb792466b...|           3|                null|  Fiz a compra e ch...|                null|                   null|       243.12|     (4,[1],[10.0])|    (4,[1],[243.12])|cd82271424be95688...|            1|2017-09-14 00:35:09| 41.9|          1.1|                 56|                       999|                 1|             400|               19|               13|              15|               bed_bath_table|                 95913|    lajeado|          RS|          -29.44657989|          -51.96120191|  6|\n",
      "|062ce95fa2ad4dfae...|ee7b9fca242afe884...|aafa66416bb386613...|   delivered|     2017-04-29 20:57:00|2017-04-29 21:10:00|         2017-05-04 05:52:00|          2017-05-11 11:27:00|          2017-05-29 00:00:00|76bf559b3b17a29c5...|                    1303|      sao paulo|            SP|             -23.5495057|            -46.64843251|72b1153250e95ec4b...|           3|                null|  Percebi q havia p...|                null|                   null|       312.25|      (4,[1],[5.0])|    (4,[1],[312.25])|ff922797a6771cab4...|            1|2017-05-04 21:10:16|289.9|        22.35|                 37|                       537|                 3|            1725|               31|                8|              33|                 market_place|                 95913|    lajeado|          RS|          -29.44657989|          -51.96120191|  7|\n",
      "|062ce95fa2ad4dfae...|f8470371533c258e0...|3bc3ad02b60f18345...|   delivered|     2017-02-22 02:49:00|2017-02-22 03:02:00|         2017-02-24 14:03:00|          2017-03-03 14:54:00|          2017-03-27 00:00:00|d616b371aae4ce572...|                    4064|      sao paulo|            SP|             -23.6187658|            -46.64940227|d63c849ea6d81cf7c...|           1|                null|  O produto não aqu...|                null|                   null|       208.07|      (4,[1],[3.0])|    (4,[1],[208.07])|3efe696e322f9139e...|            1|2017-02-26 02:49:22|189.9|        18.17|                 40|                       537|                 3|            1300|               31|                6|              33|              furniture_decor|                 95913|    lajeado|          RS|          -29.44657989|          -51.96120191|  8|\n",
      "|062ce95fa2ad4dfae...|4d7b93709f08f674f...|3e2d140f0acbb3da8...|   delivered|     2017-01-31 17:11:00|2017-01-31 17:25:00|         2017-02-01 00:00:00|          2017-02-07 14:06:00|          2017-03-15 00:00:00|674d55cc522075b79...|                   22410| rio de janeiro|            RJ|            -22.98392343|            -43.20710147|91712508056632bf3...|           4|                null|                  null|                null|                   null|       119.36|      (4,[1],[1.0])|    (4,[1],[119.36])|4da03293502189784...|            1|2017-02-04 17:11:49| 41.9|        17.78|                 63|                       683|                 1|             400|               21|                5|              15|              furniture_decor|                 95913|    lajeado|          RS|          -29.44657989|          -51.96120191|  9|\n",
      "|062ce95fa2ad4dfae...|4d7b93709f08f674f...|3e2d140f0acbb3da8...|   delivered|     2017-01-31 17:11:00|2017-01-31 17:25:00|         2017-02-01 00:00:00|          2017-02-07 14:06:00|          2017-03-15 00:00:00|674d55cc522075b79...|                   22410| rio de janeiro|            RJ|            -22.98392343|            -43.20710147|91712508056632bf3...|           4|                null|                  null|                null|                   null|       119.36|      (4,[1],[1.0])|    (4,[1],[119.36])|4da03293502189784...|            2|2017-02-04 17:11:49| 41.9|        17.78|                 63|                       683|                 1|             400|               21|                5|              15|              furniture_decor|                 95913|    lajeado|          RS|          -29.44657989|          -51.96120191| 10|\n",
      "|062ce95fa2ad4dfae...|ae1cb31659e2cf358...|bbf249561e84f966c...|   delivered|     2017-08-21 19:49:00|2017-08-21 20:05:00|         2017-08-29 18:51:00|          2017-09-01 21:53:00|          2017-09-15 00:00:00|76888ec0e2d5b7de5...|                    8280|      sao paulo|            SP|            -23.56118966|            -46.47448584|e0b2eab149eb41f3f...|           5|                null|                  null|                null|                   null|       210.47|      (4,[1],[4.0])|    (4,[1],[210.47])|3efe696e322f9139e...|            1|2017-08-25 20:05:52|189.9|        20.57|                 40|                       537|                 3|            1300|               31|                6|              33|              furniture_decor|                 95913|    lajeado|          RS|          -29.44657989|          -51.96120191| 11|\n",
      "|062ce95fa2ad4dfae...|d7108e3ddf254c6b5...|8326dc987e109ccc7...|   delivered|     2017-05-19 18:36:00|2017-05-19 18:50:00|         2017-05-22 13:25:00|          2017-05-31 13:52:00|          2017-06-21 00:00:00|19e74a05536d13b34...|                   37701|pocos de caldas|            MG|            -21.78913132|            -46.56757074|4d482fdd3daec0366...|           5|                null|                  null|                null|                   null|       226.55|      (4,[1],[1.0])|    (4,[1],[226.55])|3efe696e322f9139e...|            1|2017-05-25 18:50:15|189.9|        36.65|                 40|                       537|                 3|            1300|               31|                6|              33|              furniture_decor|                 95913|    lajeado|          RS|          -29.44657989|          -51.96120191| 12|\n",
      "|062ce95fa2ad4dfae...|e1e2b559781f43694...|d2cfabab731178547...|   delivered|     2017-04-25 15:14:00|2017-04-25 15:25:00|         2017-04-27 11:24:00|          2017-05-09 16:21:00|          2017-05-24 00:00:00|a82d9e16794b2921f...|                   36510|        rodeiro|            MG|            -21.20018316|            -42.86603309|c2fac1392a0ab55f8...|           5|                null|  Loja séria com se...|                null|                   null|       215.19|      (4,[1],[6.0])|    (4,[1],[215.19])|8d746e360a815705b...|            1|2017-05-02 15:25:24|169.9|        45.29|                 34|                       548|                 1|            6700|               70|               51|              13|              furniture_decor|                 95913|    lajeado|          RS|          -29.44657989|          -51.96120191| 13|\n",
      "|062ce95fa2ad4dfae...|e21677585042e206b...|1ad05de046ac6a5e9...|   delivered|     2017-06-20 09:56:00|2017-06-20 10:05:00|         2017-06-29 14:49:00|          2017-07-06 15:54:00|          2017-07-14 00:00:00|d9d506dbb65bdc1f8...|                   89162|     rio do sul|            SC|            -27.18228119|            -49.60640969|94691b18bf047b007...|           5|                null|   Excelente recomendo|                null|                   null|        95.21|      (4,[1],[9.0])|     (4,[1],[95.21])|8c96a6969d0fad206...|            1|2017-06-28 10:05:15| 79.9|        15.31|                 50|                      1400|                 1|             400|               19|               20|              18|                health_beauty|                 95913|    lajeado|          RS|          -29.44657989|          -51.96120191| 14|\n",
      "|062ce95fa2ad4dfae...|a509a0a8522e394f8...|b93f595ad6dd63fa5...|   delivered|     2017-07-09 21:08:00|2017-07-09 21:23:00|         2017-07-13 16:49:00|          2017-07-18 15:33:00|          2017-08-03 00:00:00|f80521e48c7cb490d...|                    3658|      sao paulo|            SP|            -23.52813994|            -46.50066365|f5388e20b7d050a39...|           4|                null|  Acho q a empresa ...|                null|                   null|       210.47|      (4,[1],[8.0])|    (4,[1],[210.47])|3efe696e322f9139e...|            1|2017-07-13 21:23:18|189.9|        20.57|                 40|                       537|                 3|            1300|               31|                6|              33|              furniture_decor|                 95913|    lajeado|          RS|          -29.44657989|          -51.96120191| 15|\n",
      "|062ce95fa2ad4dfae...|f58d7e09ece55d81a...|2945f7826483e9c73...|   delivered|     2017-06-28 21:41:00|2017-06-28 21:50:00|         2017-07-03 09:51:00|          2017-07-06 10:07:00|          2017-07-24 00:00:00|334cc44b9272d44bc...|                    5630|      sao paulo|            SP|            -23.61153067|            -46.73636662|c9d483edb6d9174a8...|           5|                null|                  null|                null|                   null|       631.41|      (4,[1],[1.0])|    (4,[1],[631.41])|3efe696e322f9139e...|            1|2017-07-04 21:50:19|189.9|        20.57|                 40|                       537|                 3|            1300|               31|                6|              33|              furniture_decor|                 95913|    lajeado|          RS|          -29.44657989|          -51.96120191| 16|\n",
      "|062ce95fa2ad4dfae...|f58d7e09ece55d81a...|2945f7826483e9c73...|   delivered|     2017-06-28 21:41:00|2017-06-28 21:50:00|         2017-07-03 09:51:00|          2017-07-06 10:07:00|          2017-07-24 00:00:00|334cc44b9272d44bc...|                    5630|      sao paulo|            SP|            -23.61153067|            -46.73636662|c9d483edb6d9174a8...|           5|                null|                  null|                null|                   null|       631.41|      (4,[1],[1.0])|    (4,[1],[631.41])|3efe696e322f9139e...|            2|2017-07-04 21:50:19|189.9|        20.57|                 40|                       537|                 3|            1300|               31|                6|              33|              furniture_decor|                 95913|    lajeado|          RS|          -29.44657989|          -51.96120191| 17|\n",
      "|062ce95fa2ad4dfae...|f58d7e09ece55d81a...|2945f7826483e9c73...|   delivered|     2017-06-28 21:41:00|2017-06-28 21:50:00|         2017-07-03 09:51:00|          2017-07-06 10:07:00|          2017-07-24 00:00:00|334cc44b9272d44bc...|                    5630|      sao paulo|            SP|            -23.61153067|            -46.73636662|c9d483edb6d9174a8...|           5|                null|                  null|                null|                   null|       631.41|      (4,[1],[1.0])|    (4,[1],[631.41])|3efe696e322f9139e...|            3|2017-07-04 21:50:19|189.9|        20.57|                 40|                       537|                 3|            1300|               31|                6|              33|              furniture_decor|                 95913|    lajeado|          RS|          -29.44657989|          -51.96120191| 18|\n",
      "|062ce95fa2ad4dfae...|a840a7a89e3d91373...|5e320e6a4f03e2e74...|   delivered|     2017-03-09 22:17:00|2017-03-09 22:17:00|         2017-03-10 16:23:00|          2017-03-16 08:24:00|          2017-03-28 00:00:00|8a2530b1bf32235ed...|                   95012|  caxias do sul|            RS|            -29.17266949|            -51.21072934|530bc04383c4dded4...|           5|                null|                  null|                null|                   null|        305.7|      (4,[1],[5.0])|     (4,[1],[305.7])|ff922797a6771cab4...|            1|2017-03-15 22:17:49|289.9|         15.8|                 37|                       537|                 3|            1725|               31|                8|              33|                 market_place|                 95913|    lajeado|          RS|          -29.44657989|          -51.96120191| 19|\n",
      "+--------------------+--------------------+--------------------+------------+------------------------+-------------------+----------------------------+-----------------------------+-----------------------------+--------------------+------------------------+---------------+--------------+------------------------+------------------------+--------------------+------------+--------------------+----------------------+--------------------+-----------------------+-------------+-------------------+--------------------+--------------------+-------------+-------------------+-----+-------------+-------------------+--------------------------+------------------+----------------+-----------------+-----------------+----------------+-----------------------------+----------------------+-----------+------------+----------------------+----------------------+---+\n",
      "only showing top 20 rows\n",
      "\n"
     ]
    }
   ],
   "source": [
    "final_order3.show()"
   ]
  },
  {
   "cell_type": "code",
   "execution_count": 0,
   "metadata": {
    "colab": {},
    "colab_type": "code",
    "id": "GrX3gHF4xImd"
   },
   "outputs": [],
   "source": [
    "## change \"review score\" to IntegerType\n",
    "from pyspark.sql.types import IntegerType\n",
    "final_order = final_order3.withColumn(\"review_score\", final_order3[\"review_score\"].cast(IntegerType()))"
   ]
  },
  {
   "cell_type": "code",
   "execution_count": 0,
   "metadata": {
    "colab": {},
    "colab_type": "code",
    "id": "_56m7mM_-fJ7"
   },
   "outputs": [],
   "source": [
    "import pandas as pd\n",
    "x = pd.DataFrame(final_order.take(5), columns=final_order.columns).transpose()"
   ]
  },
  {
   "cell_type": "code",
   "execution_count": 131,
   "metadata": {
    "colab": {
     "base_uri": "https://localhost:8080/",
     "height": 782
    },
    "colab_type": "code",
    "id": "oCXSIsHy80xX",
    "outputId": "29b65c02-865a-444f-9b62-ed009d83150d"
   },
   "outputs": [
    {
     "name": "stdout",
     "output_type": "stream",
     "text": [
      "root\n",
      " |-- seller_id: string (nullable = true)\n",
      " |-- order_id: string (nullable = true)\n",
      " |-- customer_id: string (nullable = true)\n",
      " |-- order_status: string (nullable = true)\n",
      " |-- order_purchase_timestamp: timestamp (nullable = true)\n",
      " |-- order_approved_at: timestamp (nullable = true)\n",
      " |-- order_delivered_carrier_date: timestamp (nullable = true)\n",
      " |-- order_delivered_customer_date: timestamp (nullable = true)\n",
      " |-- order_estimated_delivery_date: timestamp (nullable = true)\n",
      " |-- customer_unique_id: string (nullable = true)\n",
      " |-- customer_zip_code_prefix: integer (nullable = true)\n",
      " |-- customer_city: string (nullable = true)\n",
      " |-- customer_state: string (nullable = true)\n",
      " |-- customer_geolocation_lat: double (nullable = true)\n",
      " |-- customer_geolocation_lng: double (nullable = true)\n",
      " |-- review_id: string (nullable = true)\n",
      " |-- review_score: integer (nullable = true)\n",
      " |-- review_comment_title: string (nullable = true)\n",
      " |-- review_comment_message: string (nullable = true)\n",
      " |-- review_creation_date: timestamp (nullable = true)\n",
      " |-- review_answer_timestamp: timestamp (nullable = true)\n",
      " |-- total_payment: double (nullable = true)\n",
      " |-- payment_type_count: vector (nullable = true)\n",
      " |-- payment_type_value: vector (nullable = true)\n",
      " |-- product_id: string (nullable = true)\n",
      " |-- order_item_id: integer (nullable = true)\n",
      " |-- shipping_limit_date: timestamp (nullable = true)\n",
      " |-- price: double (nullable = true)\n",
      " |-- freight_value: double (nullable = true)\n",
      " |-- product_name_lenght: integer (nullable = true)\n",
      " |-- product_description_lenght: integer (nullable = true)\n",
      " |-- product_photos_qty: integer (nullable = true)\n",
      " |-- product_weight_g: integer (nullable = true)\n",
      " |-- product_length_cm: integer (nullable = true)\n",
      " |-- product_height_cm: integer (nullable = true)\n",
      " |-- product_width_cm: integer (nullable = true)\n",
      " |-- product_category_name_english: string (nullable = true)\n",
      " |-- seller_zip_code_prefix: integer (nullable = true)\n",
      " |-- seller_city: string (nullable = true)\n",
      " |-- seller_state: string (nullable = true)\n",
      " |-- seller_geolocation_lat: double (nullable = true)\n",
      " |-- seller_geolocation_lng: double (nullable = true)\n",
      " |-- id: long (nullable = false)\n",
      "\n"
     ]
    }
   ],
   "source": [
    "final_order.printSchema()"
   ]
  },
  {
   "cell_type": "code",
   "execution_count": 0,
   "metadata": {
    "colab": {},
    "colab_type": "code",
    "id": "NUMs9DhMOZpS"
   },
   "outputs": [],
   "source": [
    "# # # All data will be written to mydata.csv/part-00000.\n",
    "# final_order.coalesce(1).write.option(\"header\", \"true\").csv(\"/content/gdrive/Shared drives/ISE467 : Project 2&3/brazilian-ecommerce/final_order.csv\")"
   ]
  },
  {
   "cell_type": "code",
   "execution_count": 0,
   "metadata": {
    "colab": {},
    "colab_type": "code",
    "id": "eKk0BtuNB1ka"
   },
   "outputs": [],
   "source": [
    "# final_order.select('seller_id',\n",
    "#  'order_id',\n",
    "#  'customer_id',\n",
    "#  'order_status',\n",
    "#  'order_purchase_timestamp',\n",
    "#  'order_approved_at',\n",
    "#  'order_delivered_carrier_date',\n",
    "#  'order_delivered_customer_date',\n",
    "#  'order_estimated_delivery_date',\n",
    "#  'customer_unique_id',\n",
    "#  'customer_zip_code_prefix',\n",
    "#  'customer_city',\n",
    "#  'customer_state',\n",
    "#  'customer_geolocation_lat',\n",
    "#  'customer_geolocation_lng',\n",
    "#  'review_id',\n",
    "#  'review_score',\n",
    "#  'review_comment_title',\n",
    "#  'review_comment_message',\n",
    "#  'review_creation_date',\n",
    "#  'review_answer_timestamp',\n",
    "#  'total_payment',\n",
    "#  'product_id',\n",
    "#  'order_item_id',\n",
    "#  'shipping_limit_date',\n",
    "#  'price',\n",
    "#  'freight_value',\n",
    "#  'product_name_lenght',\n",
    "#  'product_description_lenght',\n",
    "#  'product_photos_qty',\n",
    "#  'product_weight_g',\n",
    "#  'product_length_cm',\n",
    "#  'product_height_cm',\n",
    "#  'product_width_cm',\n",
    "#  'product_category_name_english',\n",
    "#  'seller_zip_code_prefix',\n",
    "#  'seller_city',\n",
    "#  'seller_state',\n",
    "#  'seller_geolocation_lat',\n",
    "#  'seller_geolocation_lng').toPandas().to_csv(r\"/content/gdrive/Shared drives/ISE467 : Project 2&3/brazilian-ecommerce/final_order.csv\", index=False)"
   ]
  },
  {
   "cell_type": "code",
   "execution_count": 0,
   "metadata": {
    "colab": {},
    "colab_type": "code",
    "id": "QiCVb0MR4i_1"
   },
   "outputs": [],
   "source": [
    "# total_group = seller_group.join(df_customers, on='customer_id', how='inner')\n",
    "# total_group.show()\n",
    "# total_group.count()"
   ]
  },
  {
   "cell_type": "markdown",
   "metadata": {
    "colab_type": "text",
    "id": "ZJ3-AeVy9Hra"
   },
   "source": [
    "## Exploratory data analysis (Feature Engineering)\n",
    "- Preparing Data for Machine Learning\n",
    "\n",
    "Feature engineering is the process of using domain knowledge of the data to create features that make machine learning algorithms work. It is fundamental to the application of machine learning and helps in increasing the accuracy of the model. It is really essential in creating the right features.I will be using Random Forest Regressor model for this data. So, I split the date into discrete components so the decision trees were able to make better guesses.\n",
    "\n",
    "Let's look through it deeply. 80 percent of a data scientist's valuable time is spent simply finding, cleansing, and organizing data, leaving only 20 percent to actually perform analysis. According to this part, our analysis can be more accurate and build better models."
   ]
  },
  {
   "cell_type": "code",
   "execution_count": 132,
   "metadata": {
    "colab": {
     "base_uri": "https://localhost:8080/",
     "height": 748
    },
    "colab_type": "code",
    "id": "SU_nByJg7Py9",
    "outputId": "fafe3fe4-0f26-4e44-efe7-d527e181a75a"
   },
   "outputs": [
    {
     "data": {
      "text/plain": [
       "[('seller_id', 'string'),\n",
       " ('order_id', 'string'),\n",
       " ('customer_id', 'string'),\n",
       " ('order_status', 'string'),\n",
       " ('order_purchase_timestamp', 'timestamp'),\n",
       " ('order_approved_at', 'timestamp'),\n",
       " ('order_delivered_carrier_date', 'timestamp'),\n",
       " ('order_delivered_customer_date', 'timestamp'),\n",
       " ('order_estimated_delivery_date', 'timestamp'),\n",
       " ('customer_unique_id', 'string'),\n",
       " ('customer_zip_code_prefix', 'int'),\n",
       " ('customer_city', 'string'),\n",
       " ('customer_state', 'string'),\n",
       " ('customer_geolocation_lat', 'double'),\n",
       " ('customer_geolocation_lng', 'double'),\n",
       " ('review_id', 'string'),\n",
       " ('review_score', 'int'),\n",
       " ('review_comment_title', 'string'),\n",
       " ('review_comment_message', 'string'),\n",
       " ('review_creation_date', 'timestamp'),\n",
       " ('review_answer_timestamp', 'timestamp'),\n",
       " ('total_payment', 'double'),\n",
       " ('payment_type_count', 'vector'),\n",
       " ('payment_type_value', 'vector'),\n",
       " ('product_id', 'string'),\n",
       " ('order_item_id', 'int'),\n",
       " ('shipping_limit_date', 'timestamp'),\n",
       " ('price', 'double'),\n",
       " ('freight_value', 'double'),\n",
       " ('product_name_lenght', 'int'),\n",
       " ('product_description_lenght', 'int'),\n",
       " ('product_photos_qty', 'int'),\n",
       " ('product_weight_g', 'int'),\n",
       " ('product_length_cm', 'int'),\n",
       " ('product_height_cm', 'int'),\n",
       " ('product_width_cm', 'int'),\n",
       " ('product_category_name_english', 'string'),\n",
       " ('seller_zip_code_prefix', 'int'),\n",
       " ('seller_city', 'string'),\n",
       " ('seller_state', 'string'),\n",
       " ('seller_geolocation_lat', 'double'),\n",
       " ('seller_geolocation_lng', 'double'),\n",
       " ('id', 'bigint')]"
      ]
     },
     "execution_count": 132,
     "metadata": {
      "tags": []
     },
     "output_type": "execute_result"
    }
   ],
   "source": [
    "# Column Data Type\n",
    "final_order.dtypes"
   ]
  },
  {
   "cell_type": "code",
   "execution_count": 133,
   "metadata": {
    "colab": {
     "base_uri": "https://localhost:8080/",
     "height": 88
    },
    "colab_type": "code",
    "id": "Gg9H5qXL7emb",
    "outputId": "87be2034-45bb-46c5-9833-0705fe49995c"
   },
   "outputs": [
    {
     "name": "stdout",
     "output_type": "stream",
     "text": [
      "['seller_id', 'order_id', 'customer_id', 'order_status', 'order_purchase_timestamp', 'order_approved_at', 'order_delivered_carrier_date', 'order_delivered_customer_date', 'order_estimated_delivery_date', 'customer_unique_id', 'customer_zip_code_prefix', 'customer_city', 'customer_state', 'customer_geolocation_lat', 'customer_geolocation_lng', 'review_id', 'review_score', 'review_comment_title', 'review_comment_message', 'review_creation_date', 'review_answer_timestamp', 'total_payment', 'payment_type_count', 'payment_type_value', 'product_id', 'order_item_id', 'shipping_limit_date', 'price', 'freight_value', 'product_name_lenght', 'product_description_lenght', 'product_photos_qty', 'product_weight_g', 'product_length_cm', 'product_height_cm', 'product_width_cm', 'product_category_name_english', 'seller_zip_code_prefix', 'seller_city', 'seller_state', 'seller_geolocation_lat', 'seller_geolocation_lng', 'id']\n",
      "Row Count:  112650\n",
      "Column Count:  43\n"
     ]
    }
   ],
   "source": [
    "print final_order.columns ## Column Names\n",
    "print \"Row Count: \", final_order.count() ## Row Count\n",
    "print \"Column Count: \", len(final_order.columns) ## Column Count"
   ]
  },
  {
   "cell_type": "code",
   "execution_count": 134,
   "metadata": {
    "colab": {
     "base_uri": "https://localhost:8080/",
     "height": 782
    },
    "colab_type": "code",
    "id": "UNCDR7Y37mWE",
    "outputId": "6130b1bf-72da-4b3f-9121-6f4ccce49b0f"
   },
   "outputs": [
    {
     "name": "stdout",
     "output_type": "stream",
     "text": [
      "root\n",
      " |-- seller_id: string (nullable = true)\n",
      " |-- order_id: string (nullable = true)\n",
      " |-- customer_id: string (nullable = true)\n",
      " |-- order_status: string (nullable = true)\n",
      " |-- order_purchase_timestamp: timestamp (nullable = true)\n",
      " |-- order_approved_at: timestamp (nullable = true)\n",
      " |-- order_delivered_carrier_date: timestamp (nullable = true)\n",
      " |-- order_delivered_customer_date: timestamp (nullable = true)\n",
      " |-- order_estimated_delivery_date: timestamp (nullable = true)\n",
      " |-- customer_unique_id: string (nullable = true)\n",
      " |-- customer_zip_code_prefix: integer (nullable = true)\n",
      " |-- customer_city: string (nullable = true)\n",
      " |-- customer_state: string (nullable = true)\n",
      " |-- customer_geolocation_lat: double (nullable = true)\n",
      " |-- customer_geolocation_lng: double (nullable = true)\n",
      " |-- review_id: string (nullable = true)\n",
      " |-- review_score: integer (nullable = true)\n",
      " |-- review_comment_title: string (nullable = true)\n",
      " |-- review_comment_message: string (nullable = true)\n",
      " |-- review_creation_date: timestamp (nullable = true)\n",
      " |-- review_answer_timestamp: timestamp (nullable = true)\n",
      " |-- total_payment: double (nullable = true)\n",
      " |-- payment_type_count: vector (nullable = true)\n",
      " |-- payment_type_value: vector (nullable = true)\n",
      " |-- product_id: string (nullable = true)\n",
      " |-- order_item_id: integer (nullable = true)\n",
      " |-- shipping_limit_date: timestamp (nullable = true)\n",
      " |-- price: double (nullable = true)\n",
      " |-- freight_value: double (nullable = true)\n",
      " |-- product_name_lenght: integer (nullable = true)\n",
      " |-- product_description_lenght: integer (nullable = true)\n",
      " |-- product_photos_qty: integer (nullable = true)\n",
      " |-- product_weight_g: integer (nullable = true)\n",
      " |-- product_length_cm: integer (nullable = true)\n",
      " |-- product_height_cm: integer (nullable = true)\n",
      " |-- product_width_cm: integer (nullable = true)\n",
      " |-- product_category_name_english: string (nullable = true)\n",
      " |-- seller_zip_code_prefix: integer (nullable = true)\n",
      " |-- seller_city: string (nullable = true)\n",
      " |-- seller_state: string (nullable = true)\n",
      " |-- seller_geolocation_lat: double (nullable = true)\n",
      " |-- seller_geolocation_lng: double (nullable = true)\n",
      " |-- id: long (nullable = false)\n",
      "\n"
     ]
    }
   ],
   "source": [
    "final_order.printSchema()"
   ]
  },
  {
   "cell_type": "markdown",
   "metadata": {
    "colab_type": "text",
    "id": "1dXkwdMU9YRg"
   },
   "source": [
    "### Descriptive Statistical Analysis\n",
    "Let's first take a look at the variables by utilizing a description method.\n",
    "\n",
    "The describe function automatically computes basic statistics for all continuous variables. Any NaN values are automatically skipped in these statistics.\n",
    "\n",
    "This will show:\n",
    "\n",
    "- the count of that variable\n",
    "- the mean\n",
    "- the standard deviation (std)\n",
    "- the minimum value\n",
    "- the IQR (Interquartile Range: 25%, 50% and 75%)\n",
    "- the maximum value"
   ]
  },
  {
   "cell_type": "code",
   "execution_count": 135,
   "metadata": {
    "colab": {
     "base_uri": "https://localhost:8080/",
     "height": 297
    },
    "colab_type": "code",
    "id": "didOwlgT-0EZ",
    "outputId": "f2c64458-d94b-481c-ce3b-d2206ff62430"
   },
   "outputs": [
    {
     "data": {
      "text/html": [
       "<div>\n",
       "<style scoped>\n",
       "    .dataframe tbody tr th:only-of-type {\n",
       "        vertical-align: middle;\n",
       "    }\n",
       "\n",
       "    .dataframe tbody tr th {\n",
       "        vertical-align: top;\n",
       "    }\n",
       "\n",
       "    .dataframe thead th {\n",
       "        text-align: right;\n",
       "    }\n",
       "</style>\n",
       "<table border=\"1\" class=\"dataframe\">\n",
       "  <thead>\n",
       "    <tr style=\"text-align: right;\">\n",
       "      <th></th>\n",
       "      <th>0</th>\n",
       "      <th>1</th>\n",
       "      <th>2</th>\n",
       "      <th>3</th>\n",
       "      <th>4</th>\n",
       "    </tr>\n",
       "  </thead>\n",
       "  <tbody>\n",
       "    <tr>\n",
       "      <th>summary</th>\n",
       "      <td>count</td>\n",
       "      <td>mean</td>\n",
       "      <td>stddev</td>\n",
       "      <td>min</td>\n",
       "      <td>max</td>\n",
       "    </tr>\n",
       "    <tr>\n",
       "      <th>customer_geolocation_lat</th>\n",
       "      <td>112650</td>\n",
       "      <td>-21.21992533847974</td>\n",
       "      <td>5.574039609879069</td>\n",
       "      <td>-33.68994828</td>\n",
       "      <td>42.18400274</td>\n",
       "    </tr>\n",
       "    <tr>\n",
       "      <th>customer_geolocation_lng</th>\n",
       "      <td>112650</td>\n",
       "      <td>-46.203226463476</td>\n",
       "      <td>4.036948604018708</td>\n",
       "      <td>-72.66888054</td>\n",
       "      <td>-8.723762148</td>\n",
       "    </tr>\n",
       "    <tr>\n",
       "      <th>total_payment</th>\n",
       "      <td>112647</td>\n",
       "      <td>180.28118556197697</td>\n",
       "      <td>272.84904163378735</td>\n",
       "      <td>9.59</td>\n",
       "      <td>13664.08</td>\n",
       "    </tr>\n",
       "    <tr>\n",
       "      <th>price</th>\n",
       "      <td>112650</td>\n",
       "      <td>120.65373901464702</td>\n",
       "      <td>183.6339280502594</td>\n",
       "      <td>0.85</td>\n",
       "      <td>6735.0</td>\n",
       "    </tr>\n",
       "    <tr>\n",
       "      <th>freight_value</th>\n",
       "      <td>112650</td>\n",
       "      <td>19.990319928983574</td>\n",
       "      <td>15.806405412297078</td>\n",
       "      <td>0.0</td>\n",
       "      <td>409.68</td>\n",
       "    </tr>\n",
       "    <tr>\n",
       "      <th>seller_geolocation_lat</th>\n",
       "      <td>112650</td>\n",
       "      <td>-22.795608138677814</td>\n",
       "      <td>2.698151382289217</td>\n",
       "      <td>-32.07923134</td>\n",
       "      <td>-2.501242201</td>\n",
       "    </tr>\n",
       "    <tr>\n",
       "      <th>seller_geolocation_lng</th>\n",
       "      <td>112650</td>\n",
       "      <td>-47.23479047073684</td>\n",
       "      <td>2.3376753319136028</td>\n",
       "      <td>-67.81328447</td>\n",
       "      <td>-34.85561616</td>\n",
       "    </tr>\n",
       "  </tbody>\n",
       "</table>\n",
       "</div>"
      ],
      "text/plain": [
       "                               0  ...             4\n",
       "summary                    count  ...           max\n",
       "customer_geolocation_lat  112650  ...   42.18400274\n",
       "customer_geolocation_lng  112650  ...  -8.723762148\n",
       "total_payment             112647  ...      13664.08\n",
       "price                     112650  ...        6735.0\n",
       "freight_value             112650  ...        409.68\n",
       "seller_geolocation_lat    112650  ...  -2.501242201\n",
       "seller_geolocation_lng    112650  ...  -34.85561616\n",
       "\n",
       "[8 rows x 5 columns]"
      ]
     },
     "execution_count": 135,
     "metadata": {
      "tags": []
     },
     "output_type": "execute_result"
    }
   ],
   "source": [
    "numeric_features = [t[0] for t in final_order.dtypes if t[1] == 'double' or t[1] == 'integer']\n",
    "final_order.select(numeric_features).describe().toPandas().transpose()"
   ]
  },
  {
   "cell_type": "code",
   "execution_count": 136,
   "metadata": {
    "colab": {
     "base_uri": "https://localhost:8080/",
     "height": 604
    },
    "colab_type": "code",
    "id": "kNmFmcO__KMQ",
    "outputId": "4bdeeaa4-e48f-42bd-b161-68e7deb6da75"
   },
   "outputs": [
    {
     "data": {
      "image/png": "[encoded data removed]",
      "text/plain": [
       "<Figure size 576x576 with 49 Axes>"
      ]
     },
     "metadata": {
      "tags": []
     },
     "output_type": "display_data"
    }
   ],
   "source": [
    "import matplotlib.pyplot as plt\n",
    "import pandas as pd\n",
    "numeric_data = final_order.select(numeric_features).toPandas()\n",
    "\n",
    "axs = pd.plotting.scatter_matrix(numeric_data, figsize=(8, 8));\n",
    "\n",
    "# Rotate axis labels and remove axis ticks\n",
    "n = len(numeric_data.columns)\n",
    "for i in range(n):\n",
    "    v = axs[i, 0]\n",
    "    v.yaxis.label.set_rotation(0)\n",
    "    v.yaxis.label.set_ha('right')\n",
    "    v.set_yticks(())\n",
    "    h = axs[n-1, i]\n",
    "    h.xaxis.label.set_rotation(90)\n",
    "    h.set_xticks(())\n",
    "plt.show()"
   ]
  },
  {
   "cell_type": "code",
   "execution_count": 137,
   "metadata": {
    "colab": {
     "base_uri": "https://localhost:8080/",
     "height": 733
    },
    "colab_type": "code",
    "id": "dbh8XMhbzWy5",
    "outputId": "a91de44b-1cb9-41a9-b3af-1567a92cb94c"
   },
   "outputs": [
    {
     "data": {
      "text/plain": [
       "<matplotlib.axes._subplots.AxesSubplot at 0x7fa7325e2ad0>"
      ]
     },
     "execution_count": 137,
     "metadata": {
      "tags": []
     },
     "output_type": "execute_result"
    },
    {
     "data": {
      "image/png": "[encoded data removed]",
      "text/plain": [
       "<Figure size 1080x720 with 2 Axes>"
      ]
     },
     "metadata": {
      "tags": []
     },
     "output_type": "display_data"
    }
   ],
   "source": [
    "import numpy as np\n",
    "import seaborn as sns\n",
    "correlation_map = numeric_data[numeric_data.columns].corr()\n",
    "obj = np.array(correlation_map)\n",
    "obj[np.tril_indices_from(obj)] = False\n",
    "fig,ax= plt.subplots()\n",
    "fig.set_size_inches(15,10)\n",
    "sns.heatmap(correlation_map, mask=obj,vmax=.7, square=True,annot=True)\n",
    "# fig.savefig(\"1.png\")"
   ]
  },
  {
   "cell_type": "markdown",
   "metadata": {
    "colab_type": "text",
    "id": "J41f-h7jBBrB"
   },
   "source": [
    "### Data visualization"
   ]
  },
  {
   "cell_type": "code",
   "execution_count": 138,
   "metadata": {
    "colab": {
     "base_uri": "https://localhost:8080/",
     "height": 207
    },
    "colab_type": "code",
    "id": "T8Ccr-02ATah",
    "outputId": "ce0d511e-d65e-4cfb-b204-93738668aa4b"
   },
   "outputs": [
    {
     "name": "stdout",
     "output_type": "stream",
     "text": [
      "+--------------------+--------------------+--------------------+------------+------------------------+-------------------+----------------------------+-----------------------------+-----------------------------+--------------------+------------------------+-------------+--------------+------------------------+------------------------+--------------------+------------+--------------------+----------------------+--------------------+-----------------------+-------------+-------------------+--------------------+--------------------+-------------+-------------------+-----+-------------+-------------------+--------------------------+------------------+----------------+-----------------+-----------------+----------------+-----------------------------+----------------------+-----------+------------+----------------------+----------------------+---+\n",
      "|           seller_id|            order_id|         customer_id|order_status|order_purchase_timestamp|  order_approved_at|order_delivered_carrier_date|order_delivered_customer_date|order_estimated_delivery_date|  customer_unique_id|customer_zip_code_prefix|customer_city|customer_state|customer_geolocation_lat|customer_geolocation_lng|           review_id|review_score|review_comment_title|review_comment_message|review_creation_date|review_answer_timestamp|total_payment| payment_type_count|  payment_type_value|          product_id|order_item_id|shipping_limit_date|price|freight_value|product_name_lenght|product_description_lenght|product_photos_qty|product_weight_g|product_length_cm|product_height_cm|product_width_cm|product_category_name_english|seller_zip_code_prefix|seller_city|seller_state|seller_geolocation_lat|seller_geolocation_lng| id|\n",
      "+--------------------+--------------------+--------------------+------------+------------------------+-------------------+----------------------------+-----------------------------+-----------------------------+--------------------+------------------------+-------------+--------------+------------------------+------------------------+--------------------+------------+--------------------+----------------------+--------------------+-----------------------+-------------+-------------------+--------------------+--------------------+-------------+-------------------+-----+-------------+-------------------+--------------------------+------------------+----------------+-----------------+-----------------+----------------+-----------------------------+----------------------+-----------+------------+----------------------+----------------------+---+\n",
      "|062ce95fa2ad4dfae...|b6fa6ea37aeeb90c9...|e2dc0b0cef1781793...|   delivered|     2017-04-24 10:31:00|2017-04-25 08:02:00|         2017-05-02 11:30:00|          2017-05-22 16:07:00|          2017-05-25 00:00:00|4f308d513ccac2840...|                   72457|     brasilia|            DF|            -16.02294658|            -48.05071816|11bbc10384b40b673...|           5|                null|                  null|                null|                   null|       100.91|      (4,[0],[1.0])|    (4,[0],[100.91])|8a4505505378c8f5d...|            1|2017-05-04 08:02:25| 79.9|        21.01|                 47|                      1400|                 1|             325|               19|               20|              18|                health_beauty|                 95913|    lajeado|          RS|          -29.44657989|          -51.96120191|  0|\n",
      "|062ce95fa2ad4dfae...|87a838f48767365e2...|60c9723c5d232b784...|   delivered|     2017-03-16 16:16:00|2017-03-16 16:16:00|         2017-03-21 16:08:00|          2017-03-28 16:04:00|          2017-04-06 00:00:00|6b3b92110c5adfe4a...|                   89705|    concordia|            SC|            -27.23090863|             -52.0454811|654815c89e6174154...|           5|                null|  Adorei o produto ...|                null|                   null|        56.42|      (4,[1],[1.0])|     (4,[1],[56.42])|cd82271424be95688...|            1|2017-03-22 16:16:02| 41.9|        14.52|                 56|                       999|                 1|             400|               19|               13|              15|               bed_bath_table|                 95913|    lajeado|          RS|          -29.44657989|          -51.96120191|  1|\n",
      "|062ce95fa2ad4dfae...|8afd15d26436c6044...|65d631d0de3181168...|   delivered|     2017-08-29 23:59:00|2017-08-31 02:35:00|         2017-09-29 21:04:00|          2017-10-05 21:29:00|          2017-09-26 00:00:00|78fcceb499ec9008f...|                   15804|    catanduva|            SP|            -21.12102843|            -48.97081828|a112a50d46519520d...|           3|                null|                  null|                null|                   null|        59.82|      (4,[0],[1.0])|     (4,[0],[59.82])|cd82271424be95688...|            1|2017-09-06 02:35:21| 41.9|        17.92|                 56|                       999|                 1|             400|               19|               13|              15|               bed_bath_table|                 95913|    lajeado|          RS|          -29.44657989|          -51.96120191|  2|\n",
      "|062ce95fa2ad4dfae...|1a494062b68a8ed99...|8ac1fe94e53325560...|   delivered|     2017-05-12 09:09:00|2017-05-12 09:25:00|         2017-05-18 12:12:00|          2017-05-21 12:51:00|          2017-06-01 00:00:00|ec81d1c881757b8d0...|                   88102|     sao jose|            SC|            -27.59580821|            -48.61619711|48fe29ff7afb01dc5...|           5|                null|  Gostaria apenas q...|                null|                   null|         57.0|(4,[1,3],[2.0,1.0])|(4,[1,3],[40.22,1...|4da03293502189784...|            1|2017-05-18 09:25:07| 41.9|         15.1|                 63|                       683|                 1|             400|               21|                5|              15|              furniture_decor|                 95913|    lajeado|          RS|          -29.44657989|          -51.96120191|  3|\n",
      "+--------------------+--------------------+--------------------+------------+------------------------+-------------------+----------------------------+-----------------------------+-----------------------------+--------------------+------------------------+-------------+--------------+------------------------+------------------------+--------------------+------------+--------------------+----------------------+--------------------+-----------------------+-------------+-------------------+--------------------+--------------------+-------------+-------------------+-----+-------------+-------------------+--------------------------+------------------+----------------+-----------------+-----------------+----------------+-----------------------------+----------------------+-----------+------------+----------------------+----------------------+---+\n",
      "only showing top 4 rows\n",
      "\n"
     ]
    }
   ],
   "source": [
    "final_order.show(4)"
   ]
  },
  {
   "cell_type": "code",
   "execution_count": 139,
   "metadata": {
    "colab": {
     "base_uri": "https://localhost:8080/",
     "height": 153
    },
    "colab_type": "code",
    "id": "-eBK3lcEBp4m",
    "outputId": "f4c52e11-62b1-4bab-cc49-0c6e7ab10ccf"
   },
   "outputs": [
    {
     "name": "stdout",
     "output_type": "stream",
     "text": [
      "+------------+\n",
      "|review_score|\n",
      "+------------+\n",
      "|           5|\n",
      "|           5|\n",
      "+------------+\n",
      "only showing top 2 rows\n",
      "\n"
     ]
    }
   ],
   "source": [
    "final_order.select('review_score').show(2)"
   ]
  },
  {
   "cell_type": "code",
   "execution_count": 0,
   "metadata": {
    "colab": {},
    "colab_type": "code",
    "id": "dldvmyG_BeDO"
   },
   "outputs": [],
   "source": [
    "# This is for RDD plot\n",
    "# from pyspark_dist_explore import hist\n",
    "# import matplotlib.pyplot as plt\n",
    "\n",
    "# fig, ax = plt.subplots()\n",
    "# hist(ax, final_order, bins = 20, color=['red'])"
   ]
  },
  {
   "cell_type": "code",
   "execution_count": 0,
   "metadata": {
    "colab": {},
    "colab_type": "code",
    "id": "SNtahvCmBGUo"
   },
   "outputs": [],
   "source": [
    "# convert spark dataframe to pandas for visualization"
   ]
  },
  {
   "cell_type": "code",
   "execution_count": 0,
   "metadata": {
    "colab": {},
    "colab_type": "code",
    "id": "IZUuPu6vCJh9"
   },
   "outputs": [],
   "source": [
    "# import pyspark.sql.functions as F\n",
    "# import pyspark.sql as SQL\n",
    "# win = SQL.Window.partitionBy('column_of_values')"
   ]
  },
  {
   "cell_type": "code",
   "execution_count": 0,
   "metadata": {
    "colab": {},
    "colab_type": "code",
    "id": "JXN4fY6lCRt0"
   },
   "outputs": [],
   "source": [
    "final_order_df=final_order.toPandas()"
   ]
  },
  {
   "cell_type": "code",
   "execution_count": 0,
   "metadata": {
    "colab": {},
    "colab_type": "code",
    "id": "ukDszkVBBLVL"
   },
   "outputs": [],
   "source": [
    "# plt.hist(final_order_df['review_score'])\n",
    "# plt.show()"
   ]
  },
  {
   "cell_type": "code",
   "execution_count": 145,
   "metadata": {
    "colab": {
     "base_uri": "https://localhost:8080/",
     "height": 187
    },
    "colab_type": "code",
    "id": "aavf0HvD7oTs",
    "outputId": "e7ecce19-ac94-4227-e897-5fd28d4621c8"
   },
   "outputs": [
    {
     "name": "stdout",
     "output_type": "stream",
     "text": [
      "+-------+------------------+\n",
      "|summary|      review_score|\n",
      "+-------+------------------+\n",
      "|  count|            112650|\n",
      "|   mean| 4.015685752330226|\n",
      "| stddev|1.3999405323402154|\n",
      "|    min|                 1|\n",
      "|    max|                 5|\n",
      "+-------+------------------+\n",
      "\n"
     ]
    }
   ],
   "source": [
    "final_order.describe('review_score').show()"
   ]
  },
  {
   "cell_type": "code",
   "execution_count": 146,
   "metadata": {
    "colab": {
     "base_uri": "https://localhost:8080/",
     "height": 258
    },
    "colab_type": "code",
    "id": "JN9fywII8AQq",
    "outputId": "f09b3b9d-450e-4cfc-fa62-b470e6cfb376"
   },
   "outputs": [
    {
     "data": {
      "text/html": [
       "<div>\n",
       "<style scoped>\n",
       "    .dataframe tbody tr th:only-of-type {\n",
       "        vertical-align: middle;\n",
       "    }\n",
       "\n",
       "    .dataframe tbody tr th {\n",
       "        vertical-align: top;\n",
       "    }\n",
       "\n",
       "    .dataframe thead th {\n",
       "        text-align: right;\n",
       "    }\n",
       "</style>\n",
       "<table border=\"1\" class=\"dataframe\">\n",
       "  <thead>\n",
       "    <tr style=\"text-align: right;\">\n",
       "      <th></th>\n",
       "      <th>seller_id</th>\n",
       "      <th>order_id</th>\n",
       "      <th>customer_id</th>\n",
       "      <th>order_status</th>\n",
       "      <th>order_purchase_timestamp</th>\n",
       "      <th>order_approved_at</th>\n",
       "      <th>order_delivered_carrier_date</th>\n",
       "      <th>order_delivered_customer_date</th>\n",
       "      <th>order_estimated_delivery_date</th>\n",
       "      <th>customer_unique_id</th>\n",
       "      <th>customer_zip_code_prefix</th>\n",
       "      <th>customer_city</th>\n",
       "      <th>customer_state</th>\n",
       "      <th>customer_geolocation_lat</th>\n",
       "      <th>customer_geolocation_lng</th>\n",
       "      <th>review_id</th>\n",
       "      <th>review_score</th>\n",
       "      <th>review_comment_title</th>\n",
       "      <th>review_comment_message</th>\n",
       "      <th>review_creation_date</th>\n",
       "      <th>review_answer_timestamp</th>\n",
       "      <th>total_payment</th>\n",
       "      <th>payment_type_count</th>\n",
       "      <th>payment_type_value</th>\n",
       "      <th>product_id</th>\n",
       "      <th>order_item_id</th>\n",
       "      <th>shipping_limit_date</th>\n",
       "      <th>price</th>\n",
       "      <th>freight_value</th>\n",
       "      <th>product_name_lenght</th>\n",
       "      <th>product_description_lenght</th>\n",
       "      <th>product_photos_qty</th>\n",
       "      <th>product_weight_g</th>\n",
       "      <th>product_length_cm</th>\n",
       "      <th>product_height_cm</th>\n",
       "      <th>product_width_cm</th>\n",
       "      <th>product_category_name_english</th>\n",
       "      <th>seller_zip_code_prefix</th>\n",
       "      <th>seller_city</th>\n",
       "      <th>seller_state</th>\n",
       "      <th>seller_geolocation_lat</th>\n",
       "      <th>seller_geolocation_lng</th>\n",
       "      <th>id</th>\n",
       "    </tr>\n",
       "  </thead>\n",
       "  <tbody>\n",
       "    <tr>\n",
       "      <th>0</th>\n",
       "      <td>062ce95fa2ad4dfaedfc79260130565f</td>\n",
       "      <td>b6fa6ea37aeeb90c905eb2a488fc5dc5</td>\n",
       "      <td>e2dc0b0cef178179300195205e3788ef</td>\n",
       "      <td>delivered</td>\n",
       "      <td>2017-04-24 10:31:00</td>\n",
       "      <td>2017-04-25 08:02:00</td>\n",
       "      <td>2017-05-02 11:30:00</td>\n",
       "      <td>2017-05-22 16:07:00</td>\n",
       "      <td>2017-05-25</td>\n",
       "      <td>4f308d513ccac2840ecef09e3f27834f</td>\n",
       "      <td>72457</td>\n",
       "      <td>brasilia</td>\n",
       "      <td>DF</td>\n",
       "      <td>-16.022947</td>\n",
       "      <td>-48.050718</td>\n",
       "      <td>11bbc10384b40b673a6101cbd773d39f</td>\n",
       "      <td>5</td>\n",
       "      <td>None</td>\n",
       "      <td>None</td>\n",
       "      <td>None</td>\n",
       "      <td>None</td>\n",
       "      <td>100.91</td>\n",
       "      <td>(1.0, 0.0, 0.0, 0.0)</td>\n",
       "      <td>(100.91, 0.0, 0.0, 0.0)</td>\n",
       "      <td>8a4505505378c8f5d983f3201e9c25da</td>\n",
       "      <td>1</td>\n",
       "      <td>2017-05-04 08:02:25</td>\n",
       "      <td>79.9</td>\n",
       "      <td>21.01</td>\n",
       "      <td>47.0</td>\n",
       "      <td>1400.0</td>\n",
       "      <td>1.0</td>\n",
       "      <td>325.0</td>\n",
       "      <td>19.0</td>\n",
       "      <td>20.0</td>\n",
       "      <td>18.0</td>\n",
       "      <td>health_beauty</td>\n",
       "      <td>95913</td>\n",
       "      <td>lajeado</td>\n",
       "      <td>RS</td>\n",
       "      <td>-29.44658</td>\n",
       "      <td>-51.961202</td>\n",
       "      <td>0</td>\n",
       "    </tr>\n",
       "    <tr>\n",
       "      <th>1</th>\n",
       "      <td>062ce95fa2ad4dfaedfc79260130565f</td>\n",
       "      <td>87a838f48767365e2b786c485ef2e8b0</td>\n",
       "      <td>60c9723c5d232b784f10940175deb500</td>\n",
       "      <td>delivered</td>\n",
       "      <td>2017-03-16 16:16:00</td>\n",
       "      <td>2017-03-16 16:16:00</td>\n",
       "      <td>2017-03-21 16:08:00</td>\n",
       "      <td>2017-03-28 16:04:00</td>\n",
       "      <td>2017-04-06</td>\n",
       "      <td>6b3b92110c5adfe4a1334369d1ef2533</td>\n",
       "      <td>89705</td>\n",
       "      <td>concordia</td>\n",
       "      <td>SC</td>\n",
       "      <td>-27.230909</td>\n",
       "      <td>-52.045481</td>\n",
       "      <td>654815c89e61741545d8e7d17e277f2b</td>\n",
       "      <td>5</td>\n",
       "      <td>None</td>\n",
       "      <td>Adorei o produto e chegou super rapido.</td>\n",
       "      <td>None</td>\n",
       "      <td>None</td>\n",
       "      <td>56.42</td>\n",
       "      <td>(0.0, 1.0, 0.0, 0.0)</td>\n",
       "      <td>(0.0, 56.42, 0.0, 0.0)</td>\n",
       "      <td>cd82271424be9568801391194697361c</td>\n",
       "      <td>1</td>\n",
       "      <td>2017-03-22 16:16:02</td>\n",
       "      <td>41.9</td>\n",
       "      <td>14.52</td>\n",
       "      <td>56.0</td>\n",
       "      <td>999.0</td>\n",
       "      <td>1.0</td>\n",
       "      <td>400.0</td>\n",
       "      <td>19.0</td>\n",
       "      <td>13.0</td>\n",
       "      <td>15.0</td>\n",
       "      <td>bed_bath_table</td>\n",
       "      <td>95913</td>\n",
       "      <td>lajeado</td>\n",
       "      <td>RS</td>\n",
       "      <td>-29.44658</td>\n",
       "      <td>-51.961202</td>\n",
       "      <td>1</td>\n",
       "    </tr>\n",
       "    <tr>\n",
       "      <th>2</th>\n",
       "      <td>062ce95fa2ad4dfaedfc79260130565f</td>\n",
       "      <td>8afd15d26436c60441bf3ee71d2a91a8</td>\n",
       "      <td>65d631d0de3181168bc5699f5c766861</td>\n",
       "      <td>delivered</td>\n",
       "      <td>2017-08-29 23:59:00</td>\n",
       "      <td>2017-08-31 02:35:00</td>\n",
       "      <td>2017-09-29 21:04:00</td>\n",
       "      <td>2017-10-05 21:29:00</td>\n",
       "      <td>2017-09-26</td>\n",
       "      <td>78fcceb499ec9008fcecbaad21efefc6</td>\n",
       "      <td>15804</td>\n",
       "      <td>catanduva</td>\n",
       "      <td>SP</td>\n",
       "      <td>-21.121028</td>\n",
       "      <td>-48.970818</td>\n",
       "      <td>a112a50d46519520d8b243b98ec21ca4</td>\n",
       "      <td>3</td>\n",
       "      <td>None</td>\n",
       "      <td>None</td>\n",
       "      <td>None</td>\n",
       "      <td>None</td>\n",
       "      <td>59.82</td>\n",
       "      <td>(1.0, 0.0, 0.0, 0.0)</td>\n",
       "      <td>(59.82, 0.0, 0.0, 0.0)</td>\n",
       "      <td>cd82271424be9568801391194697361c</td>\n",
       "      <td>1</td>\n",
       "      <td>2017-09-06 02:35:21</td>\n",
       "      <td>41.9</td>\n",
       "      <td>17.92</td>\n",
       "      <td>56.0</td>\n",
       "      <td>999.0</td>\n",
       "      <td>1.0</td>\n",
       "      <td>400.0</td>\n",
       "      <td>19.0</td>\n",
       "      <td>13.0</td>\n",
       "      <td>15.0</td>\n",
       "      <td>bed_bath_table</td>\n",
       "      <td>95913</td>\n",
       "      <td>lajeado</td>\n",
       "      <td>RS</td>\n",
       "      <td>-29.44658</td>\n",
       "      <td>-51.961202</td>\n",
       "      <td>2</td>\n",
       "    </tr>\n",
       "    <tr>\n",
       "      <th>3</th>\n",
       "      <td>062ce95fa2ad4dfaedfc79260130565f</td>\n",
       "      <td>1a494062b68a8ed99ba9171cb9c9aef5</td>\n",
       "      <td>8ac1fe94e53325560257c8758c9a8f4a</td>\n",
       "      <td>delivered</td>\n",
       "      <td>2017-05-12 09:09:00</td>\n",
       "      <td>2017-05-12 09:25:00</td>\n",
       "      <td>2017-05-18 12:12:00</td>\n",
       "      <td>2017-05-21 12:51:00</td>\n",
       "      <td>2017-06-01</td>\n",
       "      <td>ec81d1c881757b8d02f24f7a3da1a1d9</td>\n",
       "      <td>88102</td>\n",
       "      <td>sao jose</td>\n",
       "      <td>SC</td>\n",
       "      <td>-27.595808</td>\n",
       "      <td>-48.616197</td>\n",
       "      <td>48fe29ff7afb01dc5420dd679a48ef1a</td>\n",
       "      <td>5</td>\n",
       "      <td>None</td>\n",
       "      <td>Gostaria apenas que a empresa que me enviou o ...</td>\n",
       "      <td>None</td>\n",
       "      <td>None</td>\n",
       "      <td>57.00</td>\n",
       "      <td>(0.0, 2.0, 0.0, 1.0)</td>\n",
       "      <td>(0.0, 40.22, 0.0, 16.78)</td>\n",
       "      <td>4da0329350218978429b287440f4b87a</td>\n",
       "      <td>1</td>\n",
       "      <td>2017-05-18 09:25:07</td>\n",
       "      <td>41.9</td>\n",
       "      <td>15.10</td>\n",
       "      <td>63.0</td>\n",
       "      <td>683.0</td>\n",
       "      <td>1.0</td>\n",
       "      <td>400.0</td>\n",
       "      <td>21.0</td>\n",
       "      <td>5.0</td>\n",
       "      <td>15.0</td>\n",
       "      <td>furniture_decor</td>\n",
       "      <td>95913</td>\n",
       "      <td>lajeado</td>\n",
       "      <td>RS</td>\n",
       "      <td>-29.44658</td>\n",
       "      <td>-51.961202</td>\n",
       "      <td>3</td>\n",
       "    </tr>\n",
       "    <tr>\n",
       "      <th>4</th>\n",
       "      <td>062ce95fa2ad4dfaedfc79260130565f</td>\n",
       "      <td>288ec48ad5ea4c98afe99ea53d523b78</td>\n",
       "      <td>fec424751aa87f5451286fc3d532fae4</td>\n",
       "      <td>delivered</td>\n",
       "      <td>2017-06-18 14:27:00</td>\n",
       "      <td>2017-06-20 10:43:00</td>\n",
       "      <td>2017-06-26 14:48:00</td>\n",
       "      <td>2017-06-29 17:09:00</td>\n",
       "      <td>2017-07-07</td>\n",
       "      <td>e8a195f60d266e458b02b0e57e85815d</td>\n",
       "      <td>95320</td>\n",
       "      <td>nova prata</td>\n",
       "      <td>RS</td>\n",
       "      <td>-28.782255</td>\n",
       "      <td>-51.609213</td>\n",
       "      <td>9009e7e25f6a8e4588f0a8b43297d9d1</td>\n",
       "      <td>5</td>\n",
       "      <td>None</td>\n",
       "      <td>None</td>\n",
       "      <td>None</td>\n",
       "      <td>None</td>\n",
       "      <td>54.38</td>\n",
       "      <td>(1.0, 0.0, 0.0, 0.0)</td>\n",
       "      <td>(54.38, 0.0, 0.0, 0.0)</td>\n",
       "      <td>4da0329350218978429b287440f4b87a</td>\n",
       "      <td>1</td>\n",
       "      <td>2017-06-26 10:43:46</td>\n",
       "      <td>41.9</td>\n",
       "      <td>12.48</td>\n",
       "      <td>63.0</td>\n",
       "      <td>683.0</td>\n",
       "      <td>1.0</td>\n",
       "      <td>400.0</td>\n",
       "      <td>21.0</td>\n",
       "      <td>5.0</td>\n",
       "      <td>15.0</td>\n",
       "      <td>furniture_decor</td>\n",
       "      <td>95913</td>\n",
       "      <td>lajeado</td>\n",
       "      <td>RS</td>\n",
       "      <td>-29.44658</td>\n",
       "      <td>-51.961202</td>\n",
       "      <td>4</td>\n",
       "    </tr>\n",
       "  </tbody>\n",
       "</table>\n",
       "</div>"
      ],
      "text/plain": [
       "                          seller_id  ... id\n",
       "0  062ce95fa2ad4dfaedfc79260130565f  ...  0\n",
       "1  062ce95fa2ad4dfaedfc79260130565f  ...  1\n",
       "2  062ce95fa2ad4dfaedfc79260130565f  ...  2\n",
       "3  062ce95fa2ad4dfaedfc79260130565f  ...  3\n",
       "4  062ce95fa2ad4dfaedfc79260130565f  ...  4\n",
       "\n",
       "[5 rows x 43 columns]"
      ]
     },
     "execution_count": 146,
     "metadata": {
      "tags": []
     },
     "output_type": "execute_result"
    }
   ],
   "source": [
    "final_order_df.head()"
   ]
  },
  {
   "cell_type": "code",
   "execution_count": 147,
   "metadata": {
    "colab": {
     "base_uri": "https://localhost:8080/",
     "height": 765
    },
    "colab_type": "code",
    "id": "9rIF2FTC8DQM",
    "outputId": "67eaab01-0049-455e-8e93-ef70a5f0233b"
   },
   "outputs": [
    {
     "data": {
      "text/plain": [
       "seller_id                             0\n",
       "order_id                              0\n",
       "customer_id                           0\n",
       "order_status                          0\n",
       "order_purchase_timestamp              0\n",
       "order_approved_at                     0\n",
       "order_delivered_carrier_date       1192\n",
       "order_delivered_customer_date      2446\n",
       "order_estimated_delivery_date         0\n",
       "customer_unique_id                    0\n",
       "customer_zip_code_prefix              0\n",
       "customer_city                         0\n",
       "customer_state                        0\n",
       "customer_geolocation_lat              0\n",
       "customer_geolocation_lng              0\n",
       "review_id                             0\n",
       "review_score                          0\n",
       "review_comment_title              99047\n",
       "review_comment_message            64296\n",
       "review_creation_date             112650\n",
       "review_answer_timestamp          112650\n",
       "total_payment                         3\n",
       "payment_type_count                    3\n",
       "payment_type_value                    3\n",
       "product_id                            0\n",
       "order_item_id                         0\n",
       "shipping_limit_date                   0\n",
       "price                                 0\n",
       "freight_value                         0\n",
       "product_name_lenght                1603\n",
       "product_description_lenght         1603\n",
       "product_photos_qty                 1603\n",
       "product_weight_g                     18\n",
       "product_length_cm                    18\n",
       "product_height_cm                    18\n",
       "product_width_cm                     18\n",
       "product_category_name_english      1627\n",
       "seller_zip_code_prefix                0\n",
       "seller_city                           0\n",
       "seller_state                          0\n",
       "seller_geolocation_lat                0\n",
       "seller_geolocation_lng                0\n",
       "id                                    0\n",
       "dtype: int64"
      ]
     },
     "execution_count": 147,
     "metadata": {
      "tags": []
     },
     "output_type": "execute_result"
    }
   ],
   "source": [
    "final_order_df.isnull().sum() # check the missing values"
   ]
  },
  {
   "cell_type": "code",
   "execution_count": 148,
   "metadata": {
    "colab": {
     "base_uri": "https://localhost:8080/",
     "height": 438
    },
    "colab_type": "code",
    "id": "lsFIKN198YtI",
    "outputId": "b9cee0ff-9567-4042-d60f-77de2da34bc5"
   },
   "outputs": [
    {
     "data": {
      "text/plain": [
       "<matplotlib.axes._subplots.AxesSubplot at 0x7fa73f701050>"
      ]
     },
     "execution_count": 148,
     "metadata": {
      "tags": []
     },
     "output_type": "execute_result"
    },
    {
     "data": {
      "image/png": "[encoded data removed]",
      "text/plain": [
       "<Figure size 432x288 with 1 Axes>"
      ]
     },
     "metadata": {
      "tags": []
     },
     "output_type": "display_data"
    }
   ],
   "source": [
    "import seaborn as sb\n",
    "sb.heatmap(final_order_df.isnull(),yticklabels=False,cbar=False,cmap='viridis')"
   ]
  },
  {
   "cell_type": "code",
   "execution_count": 149,
   "metadata": {
    "colab": {
     "base_uri": "https://localhost:8080/",
     "height": 833
    },
    "colab_type": "code",
    "id": "bWMWOWsO8dvP",
    "outputId": "3ffc52bf-eff6-4202-8ed9-c95bc4575772"
   },
   "outputs": [
    {
     "name": "stdout",
     "output_type": "stream",
     "text": [
      "<class 'pandas.core.frame.DataFrame'>\n",
      "RangeIndex: 112650 entries, 0 to 112649\n",
      "Data columns (total 43 columns):\n",
      "seller_id                        112650 non-null object\n",
      "order_id                         112650 non-null object\n",
      "customer_id                      112650 non-null object\n",
      "order_status                     112650 non-null object\n",
      "order_purchase_timestamp         112650 non-null datetime64[ns]\n",
      "order_approved_at                112650 non-null datetime64[ns]\n",
      "order_delivered_carrier_date     111458 non-null datetime64[ns]\n",
      "order_delivered_customer_date    110204 non-null datetime64[ns]\n",
      "order_estimated_delivery_date    112650 non-null datetime64[ns]\n",
      "customer_unique_id               112650 non-null object\n",
      "customer_zip_code_prefix         112650 non-null int32\n",
      "customer_city                    112650 non-null object\n",
      "customer_state                   112650 non-null object\n",
      "customer_geolocation_lat         112650 non-null float64\n",
      "customer_geolocation_lng         112650 non-null float64\n",
      "review_id                        112650 non-null object\n",
      "review_score                     112650 non-null int32\n",
      "review_comment_title             13603 non-null object\n",
      "review_comment_message           48354 non-null object\n",
      "review_creation_date             0 non-null object\n",
      "review_answer_timestamp          0 non-null object\n",
      "total_payment                    112647 non-null float64\n",
      "payment_type_count               112647 non-null object\n",
      "payment_type_value               112647 non-null object\n",
      "product_id                       112650 non-null object\n",
      "order_item_id                    112650 non-null int32\n",
      "shipping_limit_date              112650 non-null datetime64[ns]\n",
      "price                            112650 non-null float64\n",
      "freight_value                    112650 non-null float64\n",
      "product_name_lenght              111047 non-null float64\n",
      "product_description_lenght       111047 non-null float64\n",
      "product_photos_qty               111047 non-null float64\n",
      "product_weight_g                 112632 non-null float64\n",
      "product_length_cm                112632 non-null float64\n",
      "product_height_cm                112632 non-null float64\n",
      "product_width_cm                 112632 non-null float64\n",
      "product_category_name_english    111023 non-null object\n",
      "seller_zip_code_prefix           112650 non-null int32\n",
      "seller_city                      112650 non-null object\n",
      "seller_state                     112650 non-null object\n",
      "seller_geolocation_lat           112650 non-null float64\n",
      "seller_geolocation_lng           112650 non-null float64\n",
      "id                               112650 non-null int64\n",
      "dtypes: datetime64[ns](6), float64(14), int32(4), int64(1), object(18)\n",
      "memory usage: 35.2+ MB\n"
     ]
    }
   ],
   "source": [
    "final_order_df.info()"
   ]
  },
  {
   "cell_type": "code",
   "execution_count": 150,
   "metadata": {
    "colab": {
     "base_uri": "https://localhost:8080/",
     "height": 224
    },
    "colab_type": "code",
    "id": "a1z7NB7l8hLF",
    "outputId": "d7c57815-e51e-443b-f3ef-2fc49347d8c4"
   },
   "outputs": [
    {
     "data": {
      "text/html": [
       "<div>\n",
       "<style scoped>\n",
       "    .dataframe tbody tr th:only-of-type {\n",
       "        vertical-align: middle;\n",
       "    }\n",
       "\n",
       "    .dataframe tbody tr th {\n",
       "        vertical-align: top;\n",
       "    }\n",
       "\n",
       "    .dataframe thead th {\n",
       "        text-align: right;\n",
       "    }\n",
       "</style>\n",
       "<table border=\"1\" class=\"dataframe\">\n",
       "  <thead>\n",
       "    <tr style=\"text-align: right;\">\n",
       "      <th></th>\n",
       "      <th>seller_id</th>\n",
       "      <th>order_id</th>\n",
       "      <th>customer_id</th>\n",
       "      <th>order_status</th>\n",
       "      <th>order_purchase_timestamp</th>\n",
       "      <th>order_approved_at</th>\n",
       "      <th>order_delivered_carrier_date</th>\n",
       "      <th>order_delivered_customer_date</th>\n",
       "      <th>order_estimated_delivery_date</th>\n",
       "      <th>customer_unique_id</th>\n",
       "      <th>customer_zip_code_prefix</th>\n",
       "      <th>customer_city</th>\n",
       "      <th>customer_state</th>\n",
       "      <th>customer_geolocation_lat</th>\n",
       "      <th>customer_geolocation_lng</th>\n",
       "      <th>review_id</th>\n",
       "      <th>review_score</th>\n",
       "      <th>review_comment_title</th>\n",
       "      <th>review_comment_message</th>\n",
       "      <th>review_creation_date</th>\n",
       "      <th>review_answer_timestamp</th>\n",
       "      <th>total_payment</th>\n",
       "      <th>payment_type_count</th>\n",
       "      <th>payment_type_value</th>\n",
       "      <th>product_id</th>\n",
       "      <th>order_item_id</th>\n",
       "      <th>shipping_limit_date</th>\n",
       "      <th>price</th>\n",
       "      <th>freight_value</th>\n",
       "      <th>product_name_lenght</th>\n",
       "      <th>product_description_lenght</th>\n",
       "      <th>product_photos_qty</th>\n",
       "      <th>product_weight_g</th>\n",
       "      <th>product_length_cm</th>\n",
       "      <th>product_height_cm</th>\n",
       "      <th>product_width_cm</th>\n",
       "      <th>product_category_name_english</th>\n",
       "      <th>seller_zip_code_prefix</th>\n",
       "      <th>seller_city</th>\n",
       "      <th>seller_state</th>\n",
       "      <th>seller_geolocation_lat</th>\n",
       "      <th>seller_geolocation_lng</th>\n",
       "      <th>id</th>\n",
       "    </tr>\n",
       "  </thead>\n",
       "  <tbody>\n",
       "    <tr>\n",
       "      <th>0</th>\n",
       "      <td>False</td>\n",
       "      <td>False</td>\n",
       "      <td>False</td>\n",
       "      <td>False</td>\n",
       "      <td>False</td>\n",
       "      <td>False</td>\n",
       "      <td>False</td>\n",
       "      <td>False</td>\n",
       "      <td>False</td>\n",
       "      <td>False</td>\n",
       "      <td>False</td>\n",
       "      <td>False</td>\n",
       "      <td>False</td>\n",
       "      <td>False</td>\n",
       "      <td>False</td>\n",
       "      <td>False</td>\n",
       "      <td>False</td>\n",
       "      <td>True</td>\n",
       "      <td>True</td>\n",
       "      <td>True</td>\n",
       "      <td>True</td>\n",
       "      <td>False</td>\n",
       "      <td>False</td>\n",
       "      <td>False</td>\n",
       "      <td>False</td>\n",
       "      <td>False</td>\n",
       "      <td>False</td>\n",
       "      <td>False</td>\n",
       "      <td>False</td>\n",
       "      <td>False</td>\n",
       "      <td>False</td>\n",
       "      <td>False</td>\n",
       "      <td>False</td>\n",
       "      <td>False</td>\n",
       "      <td>False</td>\n",
       "      <td>False</td>\n",
       "      <td>False</td>\n",
       "      <td>False</td>\n",
       "      <td>False</td>\n",
       "      <td>False</td>\n",
       "      <td>False</td>\n",
       "      <td>False</td>\n",
       "      <td>False</td>\n",
       "    </tr>\n",
       "    <tr>\n",
       "      <th>1</th>\n",
       "      <td>False</td>\n",
       "      <td>False</td>\n",
       "      <td>False</td>\n",
       "      <td>False</td>\n",
       "      <td>False</td>\n",
       "      <td>False</td>\n",
       "      <td>False</td>\n",
       "      <td>False</td>\n",
       "      <td>False</td>\n",
       "      <td>False</td>\n",
       "      <td>False</td>\n",
       "      <td>False</td>\n",
       "      <td>False</td>\n",
       "      <td>False</td>\n",
       "      <td>False</td>\n",
       "      <td>False</td>\n",
       "      <td>False</td>\n",
       "      <td>True</td>\n",
       "      <td>False</td>\n",
       "      <td>True</td>\n",
       "      <td>True</td>\n",
       "      <td>False</td>\n",
       "      <td>False</td>\n",
       "      <td>False</td>\n",
       "      <td>False</td>\n",
       "      <td>False</td>\n",
       "      <td>False</td>\n",
       "      <td>False</td>\n",
       "      <td>False</td>\n",
       "      <td>False</td>\n",
       "      <td>False</td>\n",
       "      <td>False</td>\n",
       "      <td>False</td>\n",
       "      <td>False</td>\n",
       "      <td>False</td>\n",
       "      <td>False</td>\n",
       "      <td>False</td>\n",
       "      <td>False</td>\n",
       "      <td>False</td>\n",
       "      <td>False</td>\n",
       "      <td>False</td>\n",
       "      <td>False</td>\n",
       "      <td>False</td>\n",
       "    </tr>\n",
       "    <tr>\n",
       "      <th>2</th>\n",
       "      <td>False</td>\n",
       "      <td>False</td>\n",
       "      <td>False</td>\n",
       "      <td>False</td>\n",
       "      <td>False</td>\n",
       "      <td>False</td>\n",
       "      <td>False</td>\n",
       "      <td>False</td>\n",
       "      <td>False</td>\n",
       "      <td>False</td>\n",
       "      <td>False</td>\n",
       "      <td>False</td>\n",
       "      <td>False</td>\n",
       "      <td>False</td>\n",
       "      <td>False</td>\n",
       "      <td>False</td>\n",
       "      <td>False</td>\n",
       "      <td>True</td>\n",
       "      <td>True</td>\n",
       "      <td>True</td>\n",
       "      <td>True</td>\n",
       "      <td>False</td>\n",
       "      <td>False</td>\n",
       "      <td>False</td>\n",
       "      <td>False</td>\n",
       "      <td>False</td>\n",
       "      <td>False</td>\n",
       "      <td>False</td>\n",
       "      <td>False</td>\n",
       "      <td>False</td>\n",
       "      <td>False</td>\n",
       "      <td>False</td>\n",
       "      <td>False</td>\n",
       "      <td>False</td>\n",
       "      <td>False</td>\n",
       "      <td>False</td>\n",
       "      <td>False</td>\n",
       "      <td>False</td>\n",
       "      <td>False</td>\n",
       "      <td>False</td>\n",
       "      <td>False</td>\n",
       "      <td>False</td>\n",
       "      <td>False</td>\n",
       "    </tr>\n",
       "    <tr>\n",
       "      <th>3</th>\n",
       "      <td>False</td>\n",
       "      <td>False</td>\n",
       "      <td>False</td>\n",
       "      <td>False</td>\n",
       "      <td>False</td>\n",
       "      <td>False</td>\n",
       "      <td>False</td>\n",
       "      <td>False</td>\n",
       "      <td>False</td>\n",
       "      <td>False</td>\n",
       "      <td>False</td>\n",
       "      <td>False</td>\n",
       "      <td>False</td>\n",
       "      <td>False</td>\n",
       "      <td>False</td>\n",
       "      <td>False</td>\n",
       "      <td>False</td>\n",
       "      <td>True</td>\n",
       "      <td>False</td>\n",
       "      <td>True</td>\n",
       "      <td>True</td>\n",
       "      <td>False</td>\n",
       "      <td>False</td>\n",
       "      <td>False</td>\n",
       "      <td>False</td>\n",
       "      <td>False</td>\n",
       "      <td>False</td>\n",
       "      <td>False</td>\n",
       "      <td>False</td>\n",
       "      <td>False</td>\n",
       "      <td>False</td>\n",
       "      <td>False</td>\n",
       "      <td>False</td>\n",
       "      <td>False</td>\n",
       "      <td>False</td>\n",
       "      <td>False</td>\n",
       "      <td>False</td>\n",
       "      <td>False</td>\n",
       "      <td>False</td>\n",
       "      <td>False</td>\n",
       "      <td>False</td>\n",
       "      <td>False</td>\n",
       "      <td>False</td>\n",
       "    </tr>\n",
       "    <tr>\n",
       "      <th>4</th>\n",
       "      <td>False</td>\n",
       "      <td>False</td>\n",
       "      <td>False</td>\n",
       "      <td>False</td>\n",
       "      <td>False</td>\n",
       "      <td>False</td>\n",
       "      <td>False</td>\n",
       "      <td>False</td>\n",
       "      <td>False</td>\n",
       "      <td>False</td>\n",
       "      <td>False</td>\n",
       "      <td>False</td>\n",
       "      <td>False</td>\n",
       "      <td>False</td>\n",
       "      <td>False</td>\n",
       "      <td>False</td>\n",
       "      <td>False</td>\n",
       "      <td>True</td>\n",
       "      <td>True</td>\n",
       "      <td>True</td>\n",
       "      <td>True</td>\n",
       "      <td>False</td>\n",
       "      <td>False</td>\n",
       "      <td>False</td>\n",
       "      <td>False</td>\n",
       "      <td>False</td>\n",
       "      <td>False</td>\n",
       "      <td>False</td>\n",
       "      <td>False</td>\n",
       "      <td>False</td>\n",
       "      <td>False</td>\n",
       "      <td>False</td>\n",
       "      <td>False</td>\n",
       "      <td>False</td>\n",
       "      <td>False</td>\n",
       "      <td>False</td>\n",
       "      <td>False</td>\n",
       "      <td>False</td>\n",
       "      <td>False</td>\n",
       "      <td>False</td>\n",
       "      <td>False</td>\n",
       "      <td>False</td>\n",
       "      <td>False</td>\n",
       "    </tr>\n",
       "  </tbody>\n",
       "</table>\n",
       "</div>"
      ],
      "text/plain": [
       "   seller_id  order_id  ...  seller_geolocation_lng     id\n",
       "0      False     False  ...                   False  False\n",
       "1      False     False  ...                   False  False\n",
       "2      False     False  ...                   False  False\n",
       "3      False     False  ...                   False  False\n",
       "4      False     False  ...                   False  False\n",
       "\n",
       "[5 rows x 43 columns]"
      ]
     },
     "execution_count": 150,
     "metadata": {
      "tags": []
     },
     "output_type": "execute_result"
    }
   ],
   "source": [
    "missing_data = final_order_df.isnull()\n",
    "missing_data.head(5)"
   ]
  },
  {
   "cell_type": "code",
   "execution_count": 151,
   "metadata": {
    "colab": {
     "base_uri": "https://localhost:8080/",
     "height": 1000
    },
    "colab_type": "code",
    "id": "GmKcsWnO_0FX",
    "outputId": "2a1dad23-57e3-49ff-de1b-5bdda99f6b34"
   },
   "outputs": [
    {
     "name": "stdout",
     "output_type": "stream",
     "text": [
      "seller_id\n",
      "False    112650\n",
      "Name: seller_id, dtype: int64\n",
      "\n",
      "order_id\n",
      "False    112650\n",
      "Name: order_id, dtype: int64\n",
      "\n",
      "customer_id\n",
      "False    112650\n",
      "Name: customer_id, dtype: int64\n",
      "\n",
      "order_status\n",
      "False    112650\n",
      "Name: order_status, dtype: int64\n",
      "\n",
      "order_purchase_timestamp\n",
      "False    112650\n",
      "Name: order_purchase_timestamp, dtype: int64\n",
      "\n",
      "order_approved_at\n",
      "False    112650\n",
      "Name: order_approved_at, dtype: int64\n",
      "\n",
      "order_delivered_carrier_date\n",
      "False    111458\n",
      "True       1192\n",
      "Name: order_delivered_carrier_date, dtype: int64\n",
      "\n",
      "order_delivered_customer_date\n",
      "False    110204\n",
      "True       2446\n",
      "Name: order_delivered_customer_date, dtype: int64\n",
      "\n",
      "order_estimated_delivery_date\n",
      "False    112650\n",
      "Name: order_estimated_delivery_date, dtype: int64\n",
      "\n",
      "customer_unique_id\n",
      "False    112650\n",
      "Name: customer_unique_id, dtype: int64\n",
      "\n",
      "customer_zip_code_prefix\n",
      "False    112650\n",
      "Name: customer_zip_code_prefix, dtype: int64\n",
      "\n",
      "customer_city\n",
      "False    112650\n",
      "Name: customer_city, dtype: int64\n",
      "\n",
      "customer_state\n",
      "False    112650\n",
      "Name: customer_state, dtype: int64\n",
      "\n",
      "customer_geolocation_lat\n",
      "False    112650\n",
      "Name: customer_geolocation_lat, dtype: int64\n",
      "\n",
      "customer_geolocation_lng\n",
      "False    112650\n",
      "Name: customer_geolocation_lng, dtype: int64\n",
      "\n",
      "review_id\n",
      "False    112650\n",
      "Name: review_id, dtype: int64\n",
      "\n",
      "review_score\n",
      "False    112650\n",
      "Name: review_score, dtype: int64\n",
      "\n",
      "review_comment_title\n",
      "True     99047\n",
      "False    13603\n",
      "Name: review_comment_title, dtype: int64\n",
      "\n",
      "review_comment_message\n",
      "True     64296\n",
      "False    48354\n",
      "Name: review_comment_message, dtype: int64\n",
      "\n",
      "review_creation_date\n",
      "True    112650\n",
      "Name: review_creation_date, dtype: int64\n",
      "\n",
      "review_answer_timestamp\n",
      "True    112650\n",
      "Name: review_answer_timestamp, dtype: int64\n",
      "\n",
      "total_payment\n",
      "False    112647\n",
      "True          3\n",
      "Name: total_payment, dtype: int64\n",
      "\n",
      "payment_type_count\n",
      "False    112647\n",
      "True          3\n",
      "Name: payment_type_count, dtype: int64\n",
      "\n",
      "payment_type_value\n",
      "False    112647\n",
      "True          3\n",
      "Name: payment_type_value, dtype: int64\n",
      "\n",
      "product_id\n",
      "False    112650\n",
      "Name: product_id, dtype: int64\n",
      "\n",
      "order_item_id\n",
      "False    112650\n",
      "Name: order_item_id, dtype: int64\n",
      "\n",
      "shipping_limit_date\n",
      "False    112650\n",
      "Name: shipping_limit_date, dtype: int64\n",
      "\n",
      "price\n",
      "False    112650\n",
      "Name: price, dtype: int64\n",
      "\n",
      "freight_value\n",
      "False    112650\n",
      "Name: freight_value, dtype: int64\n",
      "\n",
      "product_name_lenght\n",
      "False    111047\n",
      "True       1603\n",
      "Name: product_name_lenght, dtype: int64\n",
      "\n",
      "product_description_lenght\n",
      "False    111047\n",
      "True       1603\n",
      "Name: product_description_lenght, dtype: int64\n",
      "\n",
      "product_photos_qty\n",
      "False    111047\n",
      "True       1603\n",
      "Name: product_photos_qty, dtype: int64\n",
      "\n",
      "product_weight_g\n",
      "False    112632\n",
      "True         18\n",
      "Name: product_weight_g, dtype: int64\n",
      "\n",
      "product_length_cm\n",
      "False    112632\n",
      "True         18\n",
      "Name: product_length_cm, dtype: int64\n",
      "\n",
      "product_height_cm\n",
      "False    112632\n",
      "True         18\n",
      "Name: product_height_cm, dtype: int64\n",
      "\n",
      "product_width_cm\n",
      "False    112632\n",
      "True         18\n",
      "Name: product_width_cm, dtype: int64\n",
      "\n",
      "product_category_name_english\n",
      "False    111023\n",
      "True       1627\n",
      "Name: product_category_name_english, dtype: int64\n",
      "\n",
      "seller_zip_code_prefix\n",
      "False    112650\n",
      "Name: seller_zip_code_prefix, dtype: int64\n",
      "\n",
      "seller_city\n",
      "False    112650\n",
      "Name: seller_city, dtype: int64\n",
      "\n",
      "seller_state\n",
      "False    112650\n",
      "Name: seller_state, dtype: int64\n",
      "\n",
      "seller_geolocation_lat\n",
      "False    112650\n",
      "Name: seller_geolocation_lat, dtype: int64\n",
      "\n",
      "seller_geolocation_lng\n",
      "False    112650\n",
      "Name: seller_geolocation_lng, dtype: int64\n",
      "\n",
      "id\n",
      "False    112650\n",
      "Name: id, dtype: int64\n",
      "\n"
     ]
    }
   ],
   "source": [
    "for column in missing_data.columns.values.tolist():\n",
    "    print(column)\n",
    "    print (missing_data[column].value_counts())\n",
    "    print(\"\")"
   ]
  },
  {
   "cell_type": "markdown",
   "metadata": {
    "colab_type": "text",
    "id": "B-wF6bL7AGQp"
   },
   "source": [
    "<h3 id=\"deal_missing_values\">Deal with missing data</h3>\n",
    "<b>How to deal with missing data?</b>\n",
    "\n",
    "<ol>\n",
    "    <li>drop data<br>\n",
    "        a. drop the whole row<br>\n",
    "        b. drop the whole column\n",
    "    </li>\n",
    "    <li>replace data<br>\n",
    "        a. replace it by mean<br>\n",
    "        b. replace it by frequency<br>\n",
    "        c. replace it based on other functions\n",
    "    </li>\n",
    "</ol>"
   ]
  },
  {
   "cell_type": "code",
   "execution_count": 0,
   "metadata": {
    "colab": {},
    "colab_type": "code",
    "id": "J51beVWrAnRJ"
   },
   "outputs": [],
   "source": [
    "# from pyspark.mllib.stat import Statistics \n",
    "# import pandas as pd\n",
    "\n",
    "# corr_data = final_order.select(numeric_features)\n",
    "# col_names = corr_data.columns\n",
    "# features = corr_data.rdd.map(lambda row: row[0:]) \n",
    "# corr_mat=Statistics.corr(features, method=\"pearson\") \n",
    "# corr_df = pd.DataFrame(corr_mat)\n",
    "# corr_df.index, corr_df.columns = col_names, col_names\n",
    "# print(corr_df.to_string())"
   ]
  },
  {
   "cell_type": "code",
   "execution_count": 0,
   "metadata": {
    "colab": {},
    "colab_type": "code",
    "id": "fsJvfOpmAn5n"
   },
   "outputs": [],
   "source": [
    "# df = corr_data.toPandas()"
   ]
  },
  {
   "cell_type": "code",
   "execution_count": 0,
   "metadata": {
    "colab": {},
    "colab_type": "code",
    "id": "N2G4rSdlApso"
   },
   "outputs": [],
   "source": [
    "# df.corr()"
   ]
  },
  {
   "cell_type": "markdown",
   "metadata": {
    "colab_type": "text",
    "id": "rDeNklmzLRUo"
   },
   "source": [
    "############################################################\n",
    "\n",
    "############################################################"
   ]
  },
  {
   "cell_type": "markdown",
   "metadata": {
    "colab_type": "text",
    "id": "mWvrwJguSDhf"
   },
   "source": [
    "## Advanced Analytics\n",
    "### Clustering for seller geolocation\n",
    "#### Step 1 - assemble your features\n",
    "In contrast to most ML packages out there, Spark ML requires your input features to be gathered in a single column of your dataframe, usually named features; and it provides a specific method for doing this, VectorAssembler:"
   ]
  },
  {
   "cell_type": "code",
   "execution_count": 152,
   "metadata": {
    "colab": {
     "base_uri": "https://localhost:8080/",
     "height": 748
    },
    "colab_type": "code",
    "id": "MDMheNyDVRzy",
    "outputId": "d9afcd14-b9e3-4db8-9e8d-3afb907f3c0f"
   },
   "outputs": [
    {
     "data": {
      "text/plain": [
       "['seller_id',\n",
       " 'order_id',\n",
       " 'customer_id',\n",
       " 'order_status',\n",
       " 'order_purchase_timestamp',\n",
       " 'order_approved_at',\n",
       " 'order_delivered_carrier_date',\n",
       " 'order_delivered_customer_date',\n",
       " 'order_estimated_delivery_date',\n",
       " 'customer_unique_id',\n",
       " 'customer_zip_code_prefix',\n",
       " 'customer_city',\n",
       " 'customer_state',\n",
       " 'customer_geolocation_lat',\n",
       " 'customer_geolocation_lng',\n",
       " 'review_id',\n",
       " 'review_score',\n",
       " 'review_comment_title',\n",
       " 'review_comment_message',\n",
       " 'review_creation_date',\n",
       " 'review_answer_timestamp',\n",
       " 'total_payment',\n",
       " 'payment_type_count',\n",
       " 'payment_type_value',\n",
       " 'product_id',\n",
       " 'order_item_id',\n",
       " 'shipping_limit_date',\n",
       " 'price',\n",
       " 'freight_value',\n",
       " 'product_name_lenght',\n",
       " 'product_description_lenght',\n",
       " 'product_photos_qty',\n",
       " 'product_weight_g',\n",
       " 'product_length_cm',\n",
       " 'product_height_cm',\n",
       " 'product_width_cm',\n",
       " 'product_category_name_english',\n",
       " 'seller_zip_code_prefix',\n",
       " 'seller_city',\n",
       " 'seller_state',\n",
       " 'seller_geolocation_lat',\n",
       " 'seller_geolocation_lng',\n",
       " 'id']"
      ]
     },
     "execution_count": 152,
     "metadata": {
      "tags": []
     },
     "output_type": "execute_result"
    }
   ],
   "source": [
    "final_order.columns"
   ]
  },
  {
   "cell_type": "code",
   "execution_count": 155,
   "metadata": {
    "colab": {
     "base_uri": "https://localhost:8080/",
     "height": 479
    },
    "colab_type": "code",
    "id": "uLRoijryRzLb",
    "outputId": "8005c719-b56c-40c5-b056-ae1f54f9a233"
   },
   "outputs": [
    {
     "name": "stdout",
     "output_type": "stream",
     "text": [
      "+--------------------+--------------------+--------------------+------------+------------------------+-------------------+----------------------------+-----------------------------+-----------------------------+--------------------+------------------------+---------------+--------------+------------------------+------------------------+--------------------+------------+--------------------+----------------------+--------------------+-----------------------+-------------+-------------------+--------------------+--------------------+-------------+-------------------+-----+-------------+-------------------+--------------------------+------------------+----------------+-----------------+-----------------+----------------+-----------------------------+----------------------+-----------+------------+----------------------+----------------------+---+--------------------+\n",
      "|           seller_id|            order_id|         customer_id|order_status|order_purchase_timestamp|  order_approved_at|order_delivered_carrier_date|order_delivered_customer_date|order_estimated_delivery_date|  customer_unique_id|customer_zip_code_prefix|  customer_city|customer_state|customer_geolocation_lat|customer_geolocation_lng|           review_id|review_score|review_comment_title|review_comment_message|review_creation_date|review_answer_timestamp|total_payment| payment_type_count|  payment_type_value|          product_id|order_item_id|shipping_limit_date|price|freight_value|product_name_lenght|product_description_lenght|product_photos_qty|product_weight_g|product_length_cm|product_height_cm|product_width_cm|product_category_name_english|seller_zip_code_prefix|seller_city|seller_state|seller_geolocation_lat|seller_geolocation_lng| id|            features|\n",
      "+--------------------+--------------------+--------------------+------------+------------------------+-------------------+----------------------------+-----------------------------+-----------------------------+--------------------+------------------------+---------------+--------------+------------------------+------------------------+--------------------+------------+--------------------+----------------------+--------------------+-----------------------+-------------+-------------------+--------------------+--------------------+-------------+-------------------+-----+-------------+-------------------+--------------------------+------------------+----------------+-----------------+-----------------+----------------+-----------------------------+----------------------+-----------+------------+----------------------+----------------------+---+--------------------+\n",
      "|062ce95fa2ad4dfae...|b6fa6ea37aeeb90c9...|e2dc0b0cef1781793...|   delivered|     2017-04-24 10:31:00|2017-04-25 08:02:00|         2017-05-02 11:30:00|          2017-05-22 16:07:00|          2017-05-25 00:00:00|4f308d513ccac2840...|                   72457|       brasilia|            DF|            -16.02294658|            -48.05071816|11bbc10384b40b673...|           5|                null|                  null|                null|                   null|       100.91|      (4,[0],[1.0])|    (4,[0],[100.91])|8a4505505378c8f5d...|            1|2017-05-04 08:02:25| 79.9|        21.01|                 47|                      1400|                 1|             325|               19|               20|              18|                health_beauty|                 95913|    lajeado|          RS|          -29.44657989|          -51.96120191|  0|[-29.44657989,-51...|\n",
      "|062ce95fa2ad4dfae...|87a838f48767365e2...|60c9723c5d232b784...|   delivered|     2017-03-16 16:16:00|2017-03-16 16:16:00|         2017-03-21 16:08:00|          2017-03-28 16:04:00|          2017-04-06 00:00:00|6b3b92110c5adfe4a...|                   89705|      concordia|            SC|            -27.23090863|             -52.0454811|654815c89e6174154...|           5|                null|  Adorei o produto ...|                null|                   null|        56.42|      (4,[1],[1.0])|     (4,[1],[56.42])|cd82271424be95688...|            1|2017-03-22 16:16:02| 41.9|        14.52|                 56|                       999|                 1|             400|               19|               13|              15|               bed_bath_table|                 95913|    lajeado|          RS|          -29.44657989|          -51.96120191|  1|[-29.44657989,-51...|\n",
      "|062ce95fa2ad4dfae...|8afd15d26436c6044...|65d631d0de3181168...|   delivered|     2017-08-29 23:59:00|2017-08-31 02:35:00|         2017-09-29 21:04:00|          2017-10-05 21:29:00|          2017-09-26 00:00:00|78fcceb499ec9008f...|                   15804|      catanduva|            SP|            -21.12102843|            -48.97081828|a112a50d46519520d...|           3|                null|                  null|                null|                   null|        59.82|      (4,[0],[1.0])|     (4,[0],[59.82])|cd82271424be95688...|            1|2017-09-06 02:35:21| 41.9|        17.92|                 56|                       999|                 1|             400|               19|               13|              15|               bed_bath_table|                 95913|    lajeado|          RS|          -29.44657989|          -51.96120191|  2|[-29.44657989,-51...|\n",
      "|062ce95fa2ad4dfae...|1a494062b68a8ed99...|8ac1fe94e53325560...|   delivered|     2017-05-12 09:09:00|2017-05-12 09:25:00|         2017-05-18 12:12:00|          2017-05-21 12:51:00|          2017-06-01 00:00:00|ec81d1c881757b8d0...|                   88102|       sao jose|            SC|            -27.59580821|            -48.61619711|48fe29ff7afb01dc5...|           5|                null|  Gostaria apenas q...|                null|                   null|         57.0|(4,[1,3],[2.0,1.0])|(4,[1,3],[40.22,1...|4da03293502189784...|            1|2017-05-18 09:25:07| 41.9|         15.1|                 63|                       683|                 1|             400|               21|                5|              15|              furniture_decor|                 95913|    lajeado|          RS|          -29.44657989|          -51.96120191|  3|[-29.44657989,-51...|\n",
      "|062ce95fa2ad4dfae...|288ec48ad5ea4c98a...|fec424751aa87f545...|   delivered|     2017-06-18 14:27:00|2017-06-20 10:43:00|         2017-06-26 14:48:00|          2017-06-29 17:09:00|          2017-07-07 00:00:00|e8a195f60d266e458...|                   95320|     nova prata|            RS|             -28.7822546|            -51.60921297|9009e7e25f6a8e458...|           5|                null|                  null|                null|                   null|        54.38|      (4,[0],[1.0])|     (4,[0],[54.38])|4da03293502189784...|            1|2017-06-26 10:43:46| 41.9|        12.48|                 63|                       683|                 1|             400|               21|                5|              15|              furniture_decor|                 95913|    lajeado|          RS|          -29.44657989|          -51.96120191|  4|[-29.44657989,-51...|\n",
      "|062ce95fa2ad4dfae...|fb86c32ba3e47fe56...|5b1744540d6008b84...|   delivered|     2017-05-18 10:46:00|2017-05-18 11:02:00|         2017-05-22 13:25:00|          2017-05-27 05:33:00|          2017-06-19 00:00:00|10e49f47dc1cd4cdf...|                   20260| rio de janeiro|            RJ|            -22.91934258|            -43.21542322|a5721b28290f94e9a...|           5|                null|                  null|                null|                   null|        65.53|      (4,[1],[6.0])|     (4,[1],[65.53])|4b703444923b5e57b...|            1|2017-05-25 11:02:46| 39.9|        25.63|                 49|                       204|                 1|             264|               17|               14|              16|               bed_bath_table|                 95913|    lajeado|          RS|          -29.44657989|          -51.96120191|  5|[-29.44657989,-51...|\n",
      "|062ce95fa2ad4dfae...|0cda834be88c6e549...|9c64cd776ee9f018a...|   delivered|     2017-09-10 00:14:00|2017-09-10 00:35:00|         2017-09-12 13:50:00|          2017-09-25 15:56:00|          2017-10-05 00:00:00|9df0c554a0b37fc0c...|                    7179|      guarulhos|            SP|            -23.40404596|            -46.41877432|be4e16abeb792466b...|           3|                null|  Fiz a compra e ch...|                null|                   null|       243.12|     (4,[1],[10.0])|    (4,[1],[243.12])|cd82271424be95688...|            1|2017-09-14 00:35:09| 41.9|          1.1|                 56|                       999|                 1|             400|               19|               13|              15|               bed_bath_table|                 95913|    lajeado|          RS|          -29.44657989|          -51.96120191|  6|[-29.44657989,-51...|\n",
      "|062ce95fa2ad4dfae...|ee7b9fca242afe884...|aafa66416bb386613...|   delivered|     2017-04-29 20:57:00|2017-04-29 21:10:00|         2017-05-04 05:52:00|          2017-05-11 11:27:00|          2017-05-29 00:00:00|76bf559b3b17a29c5...|                    1303|      sao paulo|            SP|             -23.5495057|            -46.64843251|72b1153250e95ec4b...|           3|                null|  Percebi q havia p...|                null|                   null|       312.25|      (4,[1],[5.0])|    (4,[1],[312.25])|ff922797a6771cab4...|            1|2017-05-04 21:10:16|289.9|        22.35|                 37|                       537|                 3|            1725|               31|                8|              33|                 market_place|                 95913|    lajeado|          RS|          -29.44657989|          -51.96120191|  7|[-29.44657989,-51...|\n",
      "|062ce95fa2ad4dfae...|f8470371533c258e0...|3bc3ad02b60f18345...|   delivered|     2017-02-22 02:49:00|2017-02-22 03:02:00|         2017-02-24 14:03:00|          2017-03-03 14:54:00|          2017-03-27 00:00:00|d616b371aae4ce572...|                    4064|      sao paulo|            SP|             -23.6187658|            -46.64940227|d63c849ea6d81cf7c...|           1|                null|  O produto não aqu...|                null|                   null|       208.07|      (4,[1],[3.0])|    (4,[1],[208.07])|3efe696e322f9139e...|            1|2017-02-26 02:49:22|189.9|        18.17|                 40|                       537|                 3|            1300|               31|                6|              33|              furniture_decor|                 95913|    lajeado|          RS|          -29.44657989|          -51.96120191|  8|[-29.44657989,-51...|\n",
      "|062ce95fa2ad4dfae...|4d7b93709f08f674f...|3e2d140f0acbb3da8...|   delivered|     2017-01-31 17:11:00|2017-01-31 17:25:00|         2017-02-01 00:00:00|          2017-02-07 14:06:00|          2017-03-15 00:00:00|674d55cc522075b79...|                   22410| rio de janeiro|            RJ|            -22.98392343|            -43.20710147|91712508056632bf3...|           4|                null|                  null|                null|                   null|       119.36|      (4,[1],[1.0])|    (4,[1],[119.36])|4da03293502189784...|            1|2017-02-04 17:11:49| 41.9|        17.78|                 63|                       683|                 1|             400|               21|                5|              15|              furniture_decor|                 95913|    lajeado|          RS|          -29.44657989|          -51.96120191|  9|[-29.44657989,-51...|\n",
      "|062ce95fa2ad4dfae...|4d7b93709f08f674f...|3e2d140f0acbb3da8...|   delivered|     2017-01-31 17:11:00|2017-01-31 17:25:00|         2017-02-01 00:00:00|          2017-02-07 14:06:00|          2017-03-15 00:00:00|674d55cc522075b79...|                   22410| rio de janeiro|            RJ|            -22.98392343|            -43.20710147|91712508056632bf3...|           4|                null|                  null|                null|                   null|       119.36|      (4,[1],[1.0])|    (4,[1],[119.36])|4da03293502189784...|            2|2017-02-04 17:11:49| 41.9|        17.78|                 63|                       683|                 1|             400|               21|                5|              15|              furniture_decor|                 95913|    lajeado|          RS|          -29.44657989|          -51.96120191| 10|[-29.44657989,-51...|\n",
      "|062ce95fa2ad4dfae...|ae1cb31659e2cf358...|bbf249561e84f966c...|   delivered|     2017-08-21 19:49:00|2017-08-21 20:05:00|         2017-08-29 18:51:00|          2017-09-01 21:53:00|          2017-09-15 00:00:00|76888ec0e2d5b7de5...|                    8280|      sao paulo|            SP|            -23.56118966|            -46.47448584|e0b2eab149eb41f3f...|           5|                null|                  null|                null|                   null|       210.47|      (4,[1],[4.0])|    (4,[1],[210.47])|3efe696e322f9139e...|            1|2017-08-25 20:05:52|189.9|        20.57|                 40|                       537|                 3|            1300|               31|                6|              33|              furniture_decor|                 95913|    lajeado|          RS|          -29.44657989|          -51.96120191| 11|[-29.44657989,-51...|\n",
      "|062ce95fa2ad4dfae...|d7108e3ddf254c6b5...|8326dc987e109ccc7...|   delivered|     2017-05-19 18:36:00|2017-05-19 18:50:00|         2017-05-22 13:25:00|          2017-05-31 13:52:00|          2017-06-21 00:00:00|19e74a05536d13b34...|                   37701|pocos de caldas|            MG|            -21.78913132|            -46.56757074|4d482fdd3daec0366...|           5|                null|                  null|                null|                   null|       226.55|      (4,[1],[1.0])|    (4,[1],[226.55])|3efe696e322f9139e...|            1|2017-05-25 18:50:15|189.9|        36.65|                 40|                       537|                 3|            1300|               31|                6|              33|              furniture_decor|                 95913|    lajeado|          RS|          -29.44657989|          -51.96120191| 12|[-29.44657989,-51...|\n",
      "|062ce95fa2ad4dfae...|e1e2b559781f43694...|d2cfabab731178547...|   delivered|     2017-04-25 15:14:00|2017-04-25 15:25:00|         2017-04-27 11:24:00|          2017-05-09 16:21:00|          2017-05-24 00:00:00|a82d9e16794b2921f...|                   36510|        rodeiro|            MG|            -21.20018316|            -42.86603309|c2fac1392a0ab55f8...|           5|                null|  Loja séria com se...|                null|                   null|       215.19|      (4,[1],[6.0])|    (4,[1],[215.19])|8d746e360a815705b...|            1|2017-05-02 15:25:24|169.9|        45.29|                 34|                       548|                 1|            6700|               70|               51|              13|              furniture_decor|                 95913|    lajeado|          RS|          -29.44657989|          -51.96120191| 13|[-29.44657989,-51...|\n",
      "|062ce95fa2ad4dfae...|e21677585042e206b...|1ad05de046ac6a5e9...|   delivered|     2017-06-20 09:56:00|2017-06-20 10:05:00|         2017-06-29 14:49:00|          2017-07-06 15:54:00|          2017-07-14 00:00:00|d9d506dbb65bdc1f8...|                   89162|     rio do sul|            SC|            -27.18228119|            -49.60640969|94691b18bf047b007...|           5|                null|   Excelente recomendo|                null|                   null|        95.21|      (4,[1],[9.0])|     (4,[1],[95.21])|8c96a6969d0fad206...|            1|2017-06-28 10:05:15| 79.9|        15.31|                 50|                      1400|                 1|             400|               19|               20|              18|                health_beauty|                 95913|    lajeado|          RS|          -29.44657989|          -51.96120191| 14|[-29.44657989,-51...|\n",
      "|062ce95fa2ad4dfae...|a509a0a8522e394f8...|b93f595ad6dd63fa5...|   delivered|     2017-07-09 21:08:00|2017-07-09 21:23:00|         2017-07-13 16:49:00|          2017-07-18 15:33:00|          2017-08-03 00:00:00|f80521e48c7cb490d...|                    3658|      sao paulo|            SP|            -23.52813994|            -46.50066365|f5388e20b7d050a39...|           4|                null|  Acho q a empresa ...|                null|                   null|       210.47|      (4,[1],[8.0])|    (4,[1],[210.47])|3efe696e322f9139e...|            1|2017-07-13 21:23:18|189.9|        20.57|                 40|                       537|                 3|            1300|               31|                6|              33|              furniture_decor|                 95913|    lajeado|          RS|          -29.44657989|          -51.96120191| 15|[-29.44657989,-51...|\n",
      "|062ce95fa2ad4dfae...|f58d7e09ece55d81a...|2945f7826483e9c73...|   delivered|     2017-06-28 21:41:00|2017-06-28 21:50:00|         2017-07-03 09:51:00|          2017-07-06 10:07:00|          2017-07-24 00:00:00|334cc44b9272d44bc...|                    5630|      sao paulo|            SP|            -23.61153067|            -46.73636662|c9d483edb6d9174a8...|           5|                null|                  null|                null|                   null|       631.41|      (4,[1],[1.0])|    (4,[1],[631.41])|3efe696e322f9139e...|            1|2017-07-04 21:50:19|189.9|        20.57|                 40|                       537|                 3|            1300|               31|                6|              33|              furniture_decor|                 95913|    lajeado|          RS|          -29.44657989|          -51.96120191| 16|[-29.44657989,-51...|\n",
      "|062ce95fa2ad4dfae...|f58d7e09ece55d81a...|2945f7826483e9c73...|   delivered|     2017-06-28 21:41:00|2017-06-28 21:50:00|         2017-07-03 09:51:00|          2017-07-06 10:07:00|          2017-07-24 00:00:00|334cc44b9272d44bc...|                    5630|      sao paulo|            SP|            -23.61153067|            -46.73636662|c9d483edb6d9174a8...|           5|                null|                  null|                null|                   null|       631.41|      (4,[1],[1.0])|    (4,[1],[631.41])|3efe696e322f9139e...|            2|2017-07-04 21:50:19|189.9|        20.57|                 40|                       537|                 3|            1300|               31|                6|              33|              furniture_decor|                 95913|    lajeado|          RS|          -29.44657989|          -51.96120191| 17|[-29.44657989,-51...|\n",
      "|062ce95fa2ad4dfae...|f58d7e09ece55d81a...|2945f7826483e9c73...|   delivered|     2017-06-28 21:41:00|2017-06-28 21:50:00|         2017-07-03 09:51:00|          2017-07-06 10:07:00|          2017-07-24 00:00:00|334cc44b9272d44bc...|                    5630|      sao paulo|            SP|            -23.61153067|            -46.73636662|c9d483edb6d9174a8...|           5|                null|                  null|                null|                   null|       631.41|      (4,[1],[1.0])|    (4,[1],[631.41])|3efe696e322f9139e...|            3|2017-07-04 21:50:19|189.9|        20.57|                 40|                       537|                 3|            1300|               31|                6|              33|              furniture_decor|                 95913|    lajeado|          RS|          -29.44657989|          -51.96120191| 18|[-29.44657989,-51...|\n",
      "|062ce95fa2ad4dfae...|a840a7a89e3d91373...|5e320e6a4f03e2e74...|   delivered|     2017-03-09 22:17:00|2017-03-09 22:17:00|         2017-03-10 16:23:00|          2017-03-16 08:24:00|          2017-03-28 00:00:00|8a2530b1bf32235ed...|                   95012|  caxias do sul|            RS|            -29.17266949|            -51.21072934|530bc04383c4dded4...|           5|                null|                  null|                null|                   null|        305.7|      (4,[1],[5.0])|     (4,[1],[305.7])|ff922797a6771cab4...|            1|2017-03-15 22:17:49|289.9|         15.8|                 37|                       537|                 3|            1725|               31|                8|              33|                 market_place|                 95913|    lajeado|          RS|          -29.44657989|          -51.96120191| 19|[-29.44657989,-51...|\n",
      "+--------------------+--------------------+--------------------+------------+------------------------+-------------------+----------------------------+-----------------------------+-----------------------------+--------------------+------------------------+---------------+--------------+------------------------+------------------------+--------------------+------------+--------------------+----------------------+--------------------+-----------------------+-------------+-------------------+--------------------+--------------------+-------------+-------------------+-----+-------------+-------------------+--------------------------+------------------+----------------+-----------------+-----------------+----------------+-----------------------------+----------------------+-----------+------------+----------------------+----------------------+---+--------------------+\n",
      "only showing top 20 rows\n",
      "\n"
     ]
    }
   ],
   "source": [
    "#Step 1 - assemble your features\n",
    "from pyspark.ml.feature import VectorAssembler\n",
    "\n",
    "vecAssembler = VectorAssembler(inputCols=['seller_geolocation_lat','seller_geolocation_lng'], outputCol=\"features\")\n",
    "final_order_seller_geo = vecAssembler.transform(final_order)\n",
    "final_order_seller_geo.show()"
   ]
  },
  {
   "cell_type": "markdown",
   "metadata": {
    "colab_type": "text",
    "id": "GlB-yO2dVtgK"
   },
   "source": [
    "As perhaps already guessed, the argument inputCols serves to tell VectoeAssembler which particular columns in our dataframe are to be used as features.\n",
    "\n",
    "#### Step 2 - fit your KMeans model"
   ]
  },
  {
   "cell_type": "code",
   "execution_count": 0,
   "metadata": {
    "colab": {},
    "colab_type": "code",
    "id": "E6mDPjKXV27c"
   },
   "outputs": [],
   "source": [
    "from pyspark.ml.clustering import KMeans\n",
    "\n",
    "kmeans = KMeans(k=2, seed=1)  # 2 clusters here\n",
    "model = kmeans.fit(final_order_seller_geo.select('features'))"
   ]
  },
  {
   "cell_type": "markdown",
   "metadata": {
    "colab_type": "text",
    "id": "9zHxz26iWPgO"
   },
   "source": [
    "#### Step 3 - transform your initial dataframe to include cluster assignments"
   ]
  },
  {
   "cell_type": "code",
   "execution_count": 157,
   "metadata": {
    "colab": {
     "base_uri": "https://localhost:8080/",
     "height": 190
    },
    "colab_type": "code",
    "id": "0jXcTXkuV9I1",
    "outputId": "efb0cf91-bb0e-4a4e-d9d4-b0f305a92919"
   },
   "outputs": [
    {
     "name": "stdout",
     "output_type": "stream",
     "text": [
      "+--------------------+--------------------+--------------------+------------+------------------------+-------------------+----------------------------+-----------------------------+-----------------------------+--------------------+------------------------+-------------+--------------+------------------------+------------------------+--------------------+------------+--------------------+----------------------+--------------------+-----------------------+-------------+------------------+------------------+--------------------+-------------+-------------------+-----+-------------+-------------------+--------------------------+------------------+----------------+-----------------+-----------------+----------------+-----------------------------+----------------------+-----------+------------+----------------------+----------------------+---+--------------------+----------+\n",
      "|           seller_id|            order_id|         customer_id|order_status|order_purchase_timestamp|  order_approved_at|order_delivered_carrier_date|order_delivered_customer_date|order_estimated_delivery_date|  customer_unique_id|customer_zip_code_prefix|customer_city|customer_state|customer_geolocation_lat|customer_geolocation_lng|           review_id|review_score|review_comment_title|review_comment_message|review_creation_date|review_answer_timestamp|total_payment|payment_type_count|payment_type_value|          product_id|order_item_id|shipping_limit_date|price|freight_value|product_name_lenght|product_description_lenght|product_photos_qty|product_weight_g|product_length_cm|product_height_cm|product_width_cm|product_category_name_english|seller_zip_code_prefix|seller_city|seller_state|seller_geolocation_lat|seller_geolocation_lng| id|            features|prediction|\n",
      "+--------------------+--------------------+--------------------+------------+------------------------+-------------------+----------------------------+-----------------------------+-----------------------------+--------------------+------------------------+-------------+--------------+------------------------+------------------------+--------------------+------------+--------------------+----------------------+--------------------+-----------------------+-------------+------------------+------------------+--------------------+-------------+-------------------+-----+-------------+-------------------+--------------------------+------------------+----------------+-----------------+-----------------+----------------+-----------------------------+----------------------+-----------+------------+----------------------+----------------------+---+--------------------+----------+\n",
      "|062ce95fa2ad4dfae...|b6fa6ea37aeeb90c9...|e2dc0b0cef1781793...|   delivered|     2017-04-24 10:31:00|2017-04-25 08:02:00|         2017-05-02 11:30:00|          2017-05-22 16:07:00|          2017-05-25 00:00:00|4f308d513ccac2840...|                   72457|     brasilia|            DF|            -16.02294658|            -48.05071816|11bbc10384b40b673...|           5|                null|                  null|                null|                   null|       100.91|     (4,[0],[1.0])|  (4,[0],[100.91])|8a4505505378c8f5d...|            1|2017-05-04 08:02:25| 79.9|        21.01|                 47|                      1400|                 1|             325|               19|               20|              18|                health_beauty|                 95913|    lajeado|          RS|          -29.44657989|          -51.96120191|  0|[-29.44657989,-51...|         1|\n",
      "|062ce95fa2ad4dfae...|87a838f48767365e2...|60c9723c5d232b784...|   delivered|     2017-03-16 16:16:00|2017-03-16 16:16:00|         2017-03-21 16:08:00|          2017-03-28 16:04:00|          2017-04-06 00:00:00|6b3b92110c5adfe4a...|                   89705|    concordia|            SC|            -27.23090863|             -52.0454811|654815c89e6174154...|           5|                null|  Adorei o produto ...|                null|                   null|        56.42|     (4,[1],[1.0])|   (4,[1],[56.42])|cd82271424be95688...|            1|2017-03-22 16:16:02| 41.9|        14.52|                 56|                       999|                 1|             400|               19|               13|              15|               bed_bath_table|                 95913|    lajeado|          RS|          -29.44657989|          -51.96120191|  1|[-29.44657989,-51...|         1|\n",
      "|062ce95fa2ad4dfae...|8afd15d26436c6044...|65d631d0de3181168...|   delivered|     2017-08-29 23:59:00|2017-08-31 02:35:00|         2017-09-29 21:04:00|          2017-10-05 21:29:00|          2017-09-26 00:00:00|78fcceb499ec9008f...|                   15804|    catanduva|            SP|            -21.12102843|            -48.97081828|a112a50d46519520d...|           3|                null|                  null|                null|                   null|        59.82|     (4,[0],[1.0])|   (4,[0],[59.82])|cd82271424be95688...|            1|2017-09-06 02:35:21| 41.9|        17.92|                 56|                       999|                 1|             400|               19|               13|              15|               bed_bath_table|                 95913|    lajeado|          RS|          -29.44657989|          -51.96120191|  2|[-29.44657989,-51...|         1|\n",
      "+--------------------+--------------------+--------------------+------------+------------------------+-------------------+----------------------------+-----------------------------+-----------------------------+--------------------+------------------------+-------------+--------------+------------------------+------------------------+--------------------+------------+--------------------+----------------------+--------------------+-----------------------+-------------+------------------+------------------+--------------------+-------------+-------------------+-----+-------------+-------------------+--------------------------+------------------+----------------+-----------------+-----------------+----------------+-----------------------------+----------------------+-----------+------------+----------------------+----------------------+---+--------------------+----------+\n",
      "only showing top 3 rows\n",
      "\n"
     ]
    }
   ],
   "source": [
    "transformed = model.transform(final_order_seller_geo)\n",
    "transformed.show(3) "
   ]
  },
  {
   "cell_type": "code",
   "execution_count": 158,
   "metadata": {
    "colab": {
     "base_uri": "https://localhost:8080/",
     "height": 187
    },
    "colab_type": "code",
    "id": "r_K0KGGXWafn",
    "outputId": "30269554-4e88-4aa7-f074-2e0ae263dafc"
   },
   "outputs": [
    {
     "name": "stdout",
     "output_type": "stream",
     "text": [
      "+----------------+-----------------+-----------------+\n",
      "|product_weight_g|product_length_cm|product_height_cm|\n",
      "+----------------+-----------------+-----------------+\n",
      "|             325|               19|               20|\n",
      "|             400|               19|               13|\n",
      "|             400|               19|               13|\n",
      "|             400|               21|                5|\n",
      "+----------------+-----------------+-----------------+\n",
      "only showing top 4 rows\n",
      "\n"
     ]
    }
   ],
   "source": [
    "transformed.select('product_weight_g','product_length_cm','product_height_cm').show(4) "
   ]
  },
  {
   "cell_type": "code",
   "execution_count": 159,
   "metadata": {
    "colab": {
     "base_uri": "https://localhost:8080/",
     "height": 374
    },
    "colab_type": "code",
    "id": "tqTYFU4JWmdx",
    "outputId": "c5db6b05-33c3-4e66-f7de-f6abf54dc1e6"
   },
   "outputs": [
    {
     "name": "stdout",
     "output_type": "stream",
     "text": [
      "With K=2\n",
      "Within Set Sum of Squared Errors = 1114229.85455\n",
      "------------------------------------------------------------\n",
      "With K=3\n",
      "Within Set Sum of Squared Errors = 618116.635384\n",
      "------------------------------------------------------------\n",
      "With K=4\n",
      "Within Set Sum of Squared Errors = 593031.932187\n",
      "------------------------------------------------------------\n",
      "With K=5\n",
      "Within Set Sum of Squared Errors = 301734.424906\n",
      "------------------------------------------------------------\n",
      "With K=6\n",
      "Within Set Sum of Squared Errors = 234601.889043\n",
      "------------------------------------------------------------\n",
      "With K=7\n",
      "Within Set Sum of Squared Errors = 206496.120802\n",
      "------------------------------------------------------------\n",
      "With K=8\n",
      "Within Set Sum of Squared Errors = 246181.780819\n",
      "------------------------------------------------------------\n"
     ]
    }
   ],
   "source": [
    "## Checking the Elbow Point (WSSSE)\n",
    "for k in range(2,9):\n",
    "    kmeans = KMeans(featuresCol='features',k=k)\n",
    "    model = kmeans.fit(final_order_seller_geo.select('features'))\n",
    "    wssse = model.computeCost(final_order_seller_geo.select('features'))\n",
    "    print(\"With K={}\".format(k))\n",
    "    print(\"Within Set Sum of Squared Errors = \" + str(wssse))\n",
    "    print('--'*30)"
   ]
  },
  {
   "cell_type": "code",
   "execution_count": 160,
   "metadata": {
    "colab": {
     "base_uri": "https://localhost:8080/",
     "height": 68
    },
    "colab_type": "code",
    "id": "l32DkXx3WmvM",
    "outputId": "48b98c53-f44c-43e3-b058-4f0cd448aaf1"
   },
   "outputs": [
    {
     "name": "stdout",
     "output_type": "stream",
     "text": [
      "With K=7\n",
      "Within Set Sum of Squared Errors = 206496.120802\n",
      "------------------------------------------------------------\n"
     ]
    }
   ],
   "source": [
    "kmeans_seller_geo = KMeans(featuresCol='features',k=7)\n",
    "\n",
    "model_seller_geo = kmeans_seller_geo.fit(final_order_seller_geo.select('features'))\n",
    " \n",
    "wssse_seller_geo = model_seller_geo.computeCost(final_order_seller_geo.select('features'))\n",
    " \n",
    "print(\"With K=7\")\n",
    "print(\"Within Set Sum of Squared Errors = \" + str(wssse_seller_geo))\n",
    "print('--'*30)"
   ]
  },
  {
   "cell_type": "code",
   "execution_count": 161,
   "metadata": {
    "colab": {
     "base_uri": "https://localhost:8080/",
     "height": 221
    },
    "colab_type": "code",
    "id": "bErFUnh4WnDg",
    "outputId": "eefc924f-5db3-4fe2-da84-d2dfec3119f7"
   },
   "outputs": [
    {
     "name": "stdout",
     "output_type": "stream",
     "text": [
      "+----------+-----+\n",
      "|prediction|count|\n",
      "+----------+-----+\n",
      "|         1|60435|\n",
      "|         6| 7969|\n",
      "|         3| 2370|\n",
      "|         5|21977|\n",
      "|         4| 6339|\n",
      "|         2| 1627|\n",
      "|         0|11933|\n",
      "+----------+-----+\n",
      "\n"
     ]
    }
   ],
   "source": [
    "model_seller_geo.transform(final_order_seller_geo.select('features')).groupBy('prediction').count().show()"
   ]
  },
  {
   "cell_type": "code",
   "execution_count": 0,
   "metadata": {
    "colab": {},
    "colab_type": "code",
    "id": "m63T97uVXgLZ"
   },
   "outputs": [],
   "source": [
    "from pyspark.ml.clustering import KMeans\n",
    "#from pyspark.ml.evaluation import ClusteringEvaluator\n",
    "\n",
    "kmeans = KMeans().setK(7)\n",
    "model = kmeans.fit(final_order_seller_geo.select('features'))\n",
    "transformed = model.transform(final_order_seller_geo).drop('features')"
   ]
  },
  {
   "cell_type": "code",
   "execution_count": 164,
   "metadata": {
    "colab": {
     "base_uri": "https://localhost:8080/",
     "height": 224
    },
    "colab_type": "code",
    "id": "AHED3XUVWndx",
    "outputId": "e35e1e02-9990-4191-eb64-b9d158cede61"
   },
   "outputs": [
    {
     "name": "stdout",
     "output_type": "stream",
     "text": [
      "+--------------------+--------------------+--------------------+------------+------------------------+-------------------+----------------------------+-----------------------------+-----------------------------+--------------------+------------------------+---------------+--------------+------------------------+------------------------+--------------------+------------+--------------------+----------------------+--------------------+-----------------------+-------------+------------------+------------------+--------------------+-------------+-------------------+-----+-------------+-------------------+--------------------------+------------------+----------------+-----------------+-----------------+----------------+-----------------------------+----------------------+-----------+------------+----------------------+----------------------+---+----------+\n",
      "|           seller_id|            order_id|         customer_id|order_status|order_purchase_timestamp|  order_approved_at|order_delivered_carrier_date|order_delivered_customer_date|order_estimated_delivery_date|  customer_unique_id|customer_zip_code_prefix|  customer_city|customer_state|customer_geolocation_lat|customer_geolocation_lng|           review_id|review_score|review_comment_title|review_comment_message|review_creation_date|review_answer_timestamp|total_payment|payment_type_count|payment_type_value|          product_id|order_item_id|shipping_limit_date|price|freight_value|product_name_lenght|product_description_lenght|product_photos_qty|product_weight_g|product_length_cm|product_height_cm|product_width_cm|product_category_name_english|seller_zip_code_prefix|seller_city|seller_state|seller_geolocation_lat|seller_geolocation_lng| id|prediction|\n",
      "+--------------------+--------------------+--------------------+------------+------------------------+-------------------+----------------------------+-----------------------------+-----------------------------+--------------------+------------------------+---------------+--------------+------------------------+------------------------+--------------------+------------+--------------------+----------------------+--------------------+-----------------------+-------------+------------------+------------------+--------------------+-------------+-------------------+-----+-------------+-------------------+--------------------------+------------------+----------------+-----------------+-----------------+----------------+-----------------------------+----------------------+-----------+------------+----------------------+----------------------+---+----------+\n",
      "|6eeed17989b0ae47c...|c21fcb36121a9b1c6...|9b8af4016c309c2f0...|   delivered|     2018-07-23 12:20:00|2018-07-23 15:33:00|         2018-07-24 13:57:00|          2018-08-01 23:06:00|          2018-08-28 00:00:00|09928c4afa1c45cfc...|                   68585|   nova ipixuna|            PA|            -4.921471431|            -49.07880708|c08738e6a4f03cdbc...|           1|         peça errada|  o produto não vei...|                null|                   null|       517.03|    (4,[1],[10.0])|  (4,[1],[517.03])|dcf9390408cfcc20f...|            1|2018-07-27 15:00:24|279.0|        94.51|                 52|                       190|                 4|           11600|               53|               77|              17|                         auto|                  4123|  sao paulo|          SP|          -23.61042211|          -46.62659437|361|         1|\n",
      "|6eeed17989b0ae47c...|06914a88cb181e922...|1abaf0a998b6b5157...|   delivered|     2018-08-27 21:28:00|2018-08-27 22:03:00|         2018-08-28 14:47:00|          2018-08-29 20:03:00|          2018-09-03 00:00:00|b7ad4199bc59eb9de...|                    7162|      guarulhos|            SP|            -23.40521606|            -46.44548271|e88112b1a206fc205...|           5|              Ótimo |  Recebi super rápi...|                null|                   null|       175.41|    (4,[1],[10.0])|  (4,[1],[175.41])|dce7d5964fd84b401...|            1|2018-08-30 22:03:47|159.0|        16.41|                 55|                       240|                 2|            9750|               55|               35|              12|                         auto|                  4123|  sao paulo|          SP|          -23.61042211|          -46.62659437|362|         1|\n",
      "|6eeed17989b0ae47c...|89d5f92a293efac0b...|08401dcdc7bcc78f1...|   delivered|     2018-07-03 18:58:00|2018-07-05 16:17:00|         2018-07-06 08:00:00|          2018-07-11 21:37:00|          2018-07-19 00:00:00|baadadb7d95f2d7f9...|                    7210|      guarulhos|            SP|            -23.45542848|            -46.43751493|2c035e23ec95eb130...|           5|          Produto ok|  Poderia vir com a...|                null|                   null|       127.09|     (4,[1],[2.0])|  (4,[1],[127.09])|dce7d5964fd84b401...|            1|2018-07-10 19:31:16|119.0|         8.09|                 55|                       240|                 2|            9750|               55|               35|              12|                         auto|                  4123|  sao paulo|          SP|          -23.61042211|          -46.62659437|363|         1|\n",
      "|a49928bcdf77c55c6...|38cfc106ae21ad503...|14aea6e289ceebb4c...|   delivered|     2017-07-04 15:25:00|2017-07-05 02:55:00|         2017-07-07 15:49:00|          2017-07-14 17:39:00|          2017-08-01 00:00:00|2616fd85aff25ed6f...|                   75388|       trindade|            GO|            -16.65298168|            -49.48337201|16b3d1c6e6bf789a4...|           5|                null|  Entrega no prazo ...|                null|                   null|       106.78|     (4,[0],[1.0])|  (4,[0],[106.78])|b5e13c9a353102f79...|            1|2017-07-11 02:55:22| 89.9|        16.88|                 59|                       249|                 2|            1500|               40|               25|              20|                         toys|                  3017|  sao paulo|          SP|           -23.5366031|          -46.61093957|521|         1|\n",
      "|a49928bcdf77c55c6...|21740bea241f06ee4...|faaad19c113774874...|   delivered|     2017-11-26 18:36:00|2017-11-26 18:53:00|         2017-12-01 19:48:00|          2017-12-21 11:58:00|          2017-12-20 00:00:00|0a922af2b54e23bd4...|                   29490|atilio vivacqua|            ES|             -20.9251478|            -41.19649395|a1632ef0a21095df4...|           1|                null|  Estou indignada. ...|                null|                   null|       107.78|     (4,[1],[1.0])|  (4,[1],[107.78])|b5e13c9a353102f79...|            1|2017-11-30 18:53:59| 89.9|        17.88|                 59|                       249|                 2|            1500|               40|               25|              20|                         toys|                  3017|  sao paulo|          SP|           -23.5366031|          -46.61093957|522|         1|\n",
      "+--------------------+--------------------+--------------------+------------+------------------------+-------------------+----------------------------+-----------------------------+-----------------------------+--------------------+------------------------+---------------+--------------+------------------------+------------------------+--------------------+------------+--------------------+----------------------+--------------------+-----------------------+-------------+------------------+------------------+--------------------+-------------+-------------------+-----+-------------+-------------------+--------------------------+------------------+----------------+-----------------+-----------------+----------------+-----------------------------+----------------------+-----------+------------+----------------------+----------------------+---+----------+\n",
      "only showing top 5 rows\n",
      "\n"
     ]
    }
   ],
   "source": [
    "transformed.filter(transformed.prediction==1).show(5)"
   ]
  },
  {
   "cell_type": "code",
   "execution_count": 165,
   "metadata": {
    "colab": {
     "base_uri": "https://localhost:8080/",
     "height": 119
    },
    "colab_type": "code",
    "id": "WwbOS5ERYEEg",
    "outputId": "76f990a0-2345-4bef-b477-f9bf1e03084a"
   },
   "outputs": [
    {
     "name": "stdout",
     "output_type": "stream",
     "text": [
      "+---------------------+\n",
      "|avg(product_weight_g)|\n",
      "+---------------------+\n",
      "|    2341.580910081287|\n",
      "+---------------------+\n",
      "\n"
     ]
    }
   ],
   "source": [
    "from pyspark.sql.functions import mean\n",
    "transformed.filter(transformed.prediction==0).select(mean(\"product_weight_g\")).alias(\"Mean prodcut weight\").show()"
   ]
  },
  {
   "cell_type": "code",
   "execution_count": 0,
   "metadata": {
    "colab": {},
    "colab_type": "code",
    "id": "Ck9XL8ioX179"
   },
   "outputs": [],
   "source": [
    "# from pyspark.sql.functions import col, when\n",
    "\n",
    "# transformed.filter(transformed.prediction==0).groupBy(\"product_weight_g\") \\\n",
    "#     .count() \\\n",
    "#     .orderBy(col(\"count\").desc()) \\\n",
    "#     .show(20,False)"
   ]
  },
  {
   "cell_type": "code",
   "execution_count": 170,
   "metadata": {
    "colab": {
     "base_uri": "https://localhost:8080/",
     "height": 153
    },
    "colab_type": "code",
    "id": "qgg9wjY3bDNH",
    "outputId": "85d7b7a8-3226-429c-c3b3-0387c1ebc803"
   },
   "outputs": [
    {
     "name": "stdout",
     "output_type": "stream",
     "text": [
      "Cluster Centers: \n",
      "[-21.30689508 -43.72837261]\n",
      "[-23.39998282 -46.69969132]\n",
      "[ -8.0619754 -38.8286642]\n",
      "[-29.55234991 -51.38153851]\n",
      "[-23.25984071 -52.07440369]\n",
      "[-20.9170938  -48.65642006]\n",
      "[-26.25136307 -49.25616261]\n"
     ]
    }
   ],
   "source": [
    "# Shows the result.\n",
    "centers = model.clusterCenters()\n",
    "print(\"Cluster Centers: \")\n",
    "for center in centers:\n",
    "    print(center)"
   ]
  },
  {
   "cell_type": "markdown",
   "metadata": {
    "colab_type": "text",
    "id": "lM_LFoG8YhDw"
   },
   "source": [
    "Let's make maps through using clusters"
   ]
  },
  {
   "cell_type": "code",
   "execution_count": 171,
   "metadata": {
    "colab": {
     "base_uri": "https://localhost:8080/",
     "height": 71
    },
    "colab_type": "code",
    "id": "dSHPVXI2YiTP",
    "outputId": "bc4c78e8-a6f6-4637-f0a5-ef04c89c9b47"
   },
   "outputs": [
    {
     "name": "stderr",
     "output_type": "stream",
     "text": [
      "/usr/local/lib/python2.7/dist-packages/folium/__init__.py:59: UserWarning: This version of folium is the last to support Python 2. Transition to Python 3 to be able to receive updates and fixes. Check out https://python3statement.org/ for more info.\n",
      "  UserWarning\n"
     ]
    }
   ],
   "source": [
    "import folium\n",
    "from folium.plugins import MarkerCluster"
   ]
  },
  {
   "cell_type": "code",
   "execution_count": 175,
   "metadata": {
    "colab": {
     "base_uri": "https://localhost:8080/",
     "height": 799
    },
    "colab_type": "code",
    "id": "PI98pxdnYk4T",
    "outputId": "eafbd872-b7fe-4bb7-8d09-42e0d4ef3d34"
   },
   "outputs": [
    {
     "data": {
      "text/html": [
       "<div style=\"width:100%;\"><div style=\"position:relative;width:100%;height:0;padding-bottom:60%;\"><iframe src=\"data:text/html;charset=utf-8;base64,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\" style=\"position:absolute;width:100%;height:100%;left:0;top:0;border:none !important;\" allowfullscreen webkitallowfullscreen mozallowfullscreen></iframe></div></div>"
      ],
      "text/plain": [
       "<folium.folium.Map at 0x7fa708b166d0>"
      ]
     },
     "execution_count": 175,
     "metadata": {
      "tags": []
     },
     "output_type": "execute_result"
    }
   ],
   "source": [
    "#create map of São Paulo in Brazil using latitude and longitude values\n",
    "map_brazil = folium.Map(location=[-23.5505,-46.6333], zoom_start=12)\n",
    "map_brazil"
   ]
  },
  {
   "cell_type": "code",
   "execution_count": 0,
   "metadata": {
    "colab": {},
    "colab_type": "code",
    "id": "a_2ukgl6ZCZT"
   },
   "outputs": [],
   "source": [
    "# marker_pos1=[-21.30689508 -43.72837261]\n",
    "# marker_pos2=[-23.39998282 -46.69969132]\n",
    "# marker_pos3=[ -8.0619754 -38.8286642]\n",
    "# marker_pos4=[-29.55234991 -51.38153851]\n",
    "# marker_pos5=[-23.25984071 -52.07440369]\n",
    "# marker_pos6=[-20.9170938  -48.65642006]\n",
    "# marker_pos7=[-26.25136307 -49.25616261]"
   ]
  },
  {
   "cell_type": "code",
   "execution_count": 0,
   "metadata": {
    "colab": {},
    "colab_type": "code",
    "id": "MHaUtmWqZDQz"
   },
   "outputs": [],
   "source": [
    "# folium.Marker(location=marker_pos1,popup='cluster1').add_to(map_brazil)\n",
    "# folium.Marker(location=marker_pos2,popup='cluster2').add_to(map_brazil)\n",
    "# folium.Marker(location=marker_pos3,popup='cluster3').add_to(map_brazil)\n",
    "# folium.Marker(location=marker_pos4,popup='cluster4').add_to(map_brazil)\n",
    "# folium.Marker(location=marker_pos5,popup='cluster5').add_to(map_brazil)\n",
    "# folium.Marker(location=marker_pos6,popup='cluster6').add_to(map_brazil)\n",
    "# folium.Marker(location=marker_pos7,popup='cluster7').add_to(map_brazil)\n",
    "# map_brazil"
   ]
  },
  {
   "cell_type": "markdown",
   "metadata": {
    "colab_type": "text",
    "id": "UzJHHPx9Xozs"
   },
   "source": [
    "############################################################\n",
    "\n",
    "############################################################"
   ]
  },
  {
   "cell_type": "code",
   "execution_count": 0,
   "metadata": {
    "colab": {},
    "colab_type": "code",
    "id": "U-2gWetMkIqd"
   },
   "outputs": [],
   "source": [
    "from pyspark.ml.feature import VectorAssembler\n",
    "from pyspark.ml.regression import LinearRegression\n",
    "\n",
    "dataset = spark.read.csv('BostonHousing.csv',inferSchema=True, header =True)"
   ]
  },
  {
   "cell_type": "code",
   "execution_count": 0,
   "metadata": {
    "colab": {
     "base_uri": "https://localhost:8080/",
     "height": 289
    },
    "colab_type": "code",
    "id": "3_l3aKY7kLLk",
    "outputId": "6d891b1f-6426-48b5-88b8-261b6260ebbc"
   },
   "outputs": [
    {
     "name": "stdout",
     "output_type": "stream",
     "text": [
      "root\n",
      " |-- crim: double (nullable = true)\n",
      " |-- zn: double (nullable = true)\n",
      " |-- indus: double (nullable = true)\n",
      " |-- chas: integer (nullable = true)\n",
      " |-- nox: double (nullable = true)\n",
      " |-- rm: double (nullable = true)\n",
      " |-- age: double (nullable = true)\n",
      " |-- dis: double (nullable = true)\n",
      " |-- rad: integer (nullable = true)\n",
      " |-- tax: integer (nullable = true)\n",
      " |-- ptratio: double (nullable = true)\n",
      " |-- b: double (nullable = true)\n",
      " |-- lstat: double (nullable = true)\n",
      " |-- medv: double (nullable = true)\n",
      "\n"
     ]
    }
   ],
   "source": [
    "dataset.printSchema()"
   ]
  },
  {
   "cell_type": "code",
   "execution_count": 0,
   "metadata": {
    "colab": {
     "base_uri": "https://localhost:8080/",
     "height": 459
    },
    "colab_type": "code",
    "id": "apd4vIZgkNsg",
    "outputId": "665a4fcc-4d01-47a2-ed53-335887575cef"
   },
   "outputs": [
    {
     "name": "stdout",
     "output_type": "stream",
     "text": [
      "+--------------------+----+\n",
      "|          Attributes|medv|\n",
      "+--------------------+----+\n",
      "|[0.00632,18.0,2.3...|24.0|\n",
      "|[0.02731,0.0,7.07...|21.6|\n",
      "|[0.02729,0.0,7.07...|34.7|\n",
      "|[0.03237,0.0,2.18...|33.4|\n",
      "|[0.06905,0.0,2.18...|36.2|\n",
      "|[0.02985,0.0,2.18...|28.7|\n",
      "|[0.08829,12.5,7.8...|22.9|\n",
      "|[0.14455,12.5,7.8...|27.1|\n",
      "|[0.21124,12.5,7.8...|16.5|\n",
      "|[0.17004,12.5,7.8...|18.9|\n",
      "|[0.22489,12.5,7.8...|15.0|\n",
      "|[0.11747,12.5,7.8...|18.9|\n",
      "|[0.09378,12.5,7.8...|21.7|\n",
      "|[0.62976,0.0,8.14...|20.4|\n",
      "|[0.63796,0.0,8.14...|18.2|\n",
      "|[0.62739,0.0,8.14...|19.9|\n",
      "|[1.05393,0.0,8.14...|23.1|\n",
      "|[0.7842,0.0,8.14,...|17.5|\n",
      "|[0.80271,0.0,8.14...|20.2|\n",
      "|[0.7258,0.0,8.14,...|18.2|\n",
      "+--------------------+----+\n",
      "only showing top 20 rows\n",
      "\n"
     ]
    }
   ],
   "source": [
    "#Input all the features in one vector column\n",
    "assembler = VectorAssembler(inputCols=['crim', 'zn', 'indus', 'chas', 'nox', 'rm', 'age', 'dis', 'rad', 'tax', 'ptratio', 'b', 'lstat'], outputCol = 'Attributes')\n",
    "\n",
    "output = assembler.transform(dataset)\n",
    "\n",
    "#Input vs Output\n",
    "finalized_data = output.select(\"Attributes\",\"medv\")\n",
    "\n",
    "finalized_data.show()"
   ]
  },
  {
   "cell_type": "code",
   "execution_count": 0,
   "metadata": {
    "colab": {
     "base_uri": "https://localhost:8080/",
     "height": 459
    },
    "colab_type": "code",
    "id": "-lQfNsFJkQob",
    "outputId": "e2e404fc-9c70-4ed8-fb16-e76da46eae06"
   },
   "outputs": [
    {
     "name": "stdout",
     "output_type": "stream",
     "text": [
      "+--------------------+----+------------------+\n",
      "|          Attributes|medv|        prediction|\n",
      "+--------------------+----+------------------+\n",
      "|[0.01778,95.0,1.4...|32.9|30.765967808979674|\n",
      "|[0.01951,17.5,1.3...|33.0|23.117907707478118|\n",
      "|[0.01965,80.0,1.7...|20.1|20.154636048510746|\n",
      "|[0.02177,82.5,2.0...|42.3| 37.06108717853176|\n",
      "|[0.03445,82.5,2.0...|24.1|29.295662958601966|\n",
      "|[0.03551,25.0,4.8...|22.9|25.224390367839884|\n",
      "|[0.03768,80.0,1.5...|34.6|34.420614518327326|\n",
      "|[0.04301,80.0,1.9...|18.2|14.621294713458092|\n",
      "|[0.04544,0.0,3.24...|19.8|  21.5222770416463|\n",
      "|[0.04932,33.0,2.1...|28.2| 32.83086162058804|\n",
      "|[0.05083,0.0,5.19...|22.2| 22.32355029570804|\n",
      "|[0.05372,0.0,13.9...|27.1|27.252205508464705|\n",
      "|[0.05425,0.0,4.05...|24.6|29.168128450227123|\n",
      "|[0.05561,70.0,2.2...|29.0|31.922352596394262|\n",
      "|[0.05602,0.0,2.46...|50.0|   35.889406456653|\n",
      "|[0.05646,0.0,12.8...|21.2| 21.16208545947244|\n",
      "|[0.06076,0.0,11.9...|23.9|27.875146617328248|\n",
      "|[0.06127,40.0,6.4...|33.1| 34.35117364912485|\n",
      "|[0.06129,20.0,3.3...|46.0|39.599710069387605|\n",
      "|[0.06642,0.0,4.05...|29.9|31.392759746076962|\n",
      "+--------------------+----+------------------+\n",
      "only showing top 20 rows\n",
      "\n"
     ]
    }
   ],
   "source": [
    "#Split training and testing data\n",
    "train_data,test_data = finalized_data.randomSplit([0.8,0.2])\n",
    "\n",
    "regressor = LinearRegression(featuresCol = 'Attributes', labelCol = 'medv')\n",
    "\n",
    "#Learn to fit the model from training set\n",
    "regressor = regressor.fit(train_data)\n",
    "\n",
    "#To predict the prices on testing set\n",
    "pred = regressor.evaluate(test_data)\n",
    "\n",
    "#Predict the model\n",
    "pred.predictions.show()"
   ]
  },
  {
   "cell_type": "code",
   "execution_count": 0,
   "metadata": {
    "colab": {
     "base_uri": "https://localhost:8080/",
     "height": 71
    },
    "colab_type": "code",
    "id": "51VNkPYGkVmt",
    "outputId": "e6db516a-d644-4cde-f707-0cb24a0a1227"
   },
   "outputs": [
    {
     "name": "stdout",
     "output_type": "stream",
     "text": [
      "The coefficient of the model is : DenseVector([-0.1219, 0.0492, 0.0263, 1.9728, -17.9692, 3.658, -0.0004, -1.5255, 0.3104, -0.0127, -0.8997, 0.0054, -0.567])\n",
      "The Intercept of the model is : 38.784359\n"
     ]
    }
   ],
   "source": [
    "#coefficient of the regression model\n",
    "coeff = regressor.coefficients\n",
    "\n",
    "#X and Y intercept\n",
    "intr = regressor.intercept\n",
    "\n",
    "print (\"The coefficient of the model is : %a\" %coeff)\n",
    "print (\"The Intercept of the model is : %f\" %intr)"
   ]
  },
  {
   "cell_type": "code",
   "execution_count": 0,
   "metadata": {
    "colab": {
     "base_uri": "https://localhost:8080/",
     "height": 85
    },
    "colab_type": "code",
    "id": "c-sRbypmkaIl",
    "outputId": "237a6d01-61fa-4733-dfc3-107e83ad8704"
   },
   "outputs": [
    {
     "name": "stdout",
     "output_type": "stream",
     "text": [
      "RMSE: 4.351\n",
      "MSE: 18.931\n",
      "MAE: 3.052\n",
      "r2: 0.784\n"
     ]
    }
   ],
   "source": [
    "from pyspark.ml.evaluation import RegressionEvaluator\n",
    "eval = RegressionEvaluator(labelCol=\"medv\", predictionCol=\"prediction\", metricName=\"rmse\")\n",
    "\n",
    "# Root Mean Square Error\n",
    "rmse = eval.evaluate(pred.predictions)\n",
    "print(\"RMSE: %.3f\" % rmse)\n",
    "\n",
    "# Mean Square Error\n",
    "mse = eval.evaluate(pred.predictions, {eval.metricName: \"mse\"})\n",
    "print(\"MSE: %.3f\" % mse)\n",
    "\n",
    "# Mean Absolute Error\n",
    "mae = eval.evaluate(pred.predictions, {eval.metricName: \"mae\"})\n",
    "print(\"MAE: %.3f\" % mae)\n",
    "\n",
    "# r2 - coefficient of determination\n",
    "r2 = eval.evaluate(pred.predictions, {eval.metricName: \"r2\"})\n",
    "print(\"r2: %.3f\" %r2)"
   ]
  }
 ],
 "metadata": {
  "accelerator": "GPU",
  "colab": {
   "collapsed_sections": [],
   "name": "brazilian-ecommerce.ipynb",
   "provenance": []
  },
  "kernelspec": {
   "display_name": "Python 2",
   "name": "python2"
  }
 },
 "nbformat": 4,
 "nbformat_minor": 1
}
