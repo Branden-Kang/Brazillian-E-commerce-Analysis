{
  "nbformat": 4,
  "nbformat_minor": 0,
  "metadata": {
    "colab": {
      "name": "Run the codes.ipynb",
      "provenance": []
    },
    "kernelspec": {
      "name": "python3",
      "display_name": "Python 3"
    },
    "accelerator": "GPU"
  },
  "cells": [
    {
      "cell_type": "code",
      "metadata": {
        "id": "btTtbu5kPBTI",
        "colab_type": "code",
        "outputId": "542481de-0380-41b0-91bc-abba5899b48f",
        "colab": {
          "base_uri": "https://localhost:8080/",
          "height": 224
        }
      },
      "source": [
        "import os\n",
        "from google.colab import drive\n",
        "drive.mount('/content/gdrive',force_remount=True)\n",
        "!pwd\n",
        "os.chdir('gdrive/My Drive/machineTranslation-master/code_fra2en/')\n",
        "!pwd\n",
        "!ls"
      ],
      "execution_count": 0,
      "outputs": [
        {
          "output_type": "stream",
          "text": [
            "Go to this URL in a browser: https://accounts.google.com/o/oauth2/auth?client_id=947318989803-6bn6qk8qdgf4n4g3pfee6491hc0brc4i.apps.googleusercontent.com&redirect_uri=urn%3aietf%3awg%3aoauth%3a2.0%3aoob&response_type=code&scope=email%20https%3a%2f%2fwww.googleapis.com%2fauth%2fdocs.test%20https%3a%2f%2fwww.googleapis.com%2fauth%2fdrive%20https%3a%2f%2fwww.googleapis.com%2fauth%2fdrive.photos.readonly%20https%3a%2f%2fwww.googleapis.com%2fauth%2fpeopleapi.readonly\n",
            "\n",
            "Enter your authorization code:\n",
            "··········\n",
            "Mounted at /content/gdrive\n",
            "/content\n",
            "/content/gdrive/My Drive/machineTranslation-master/code_fra2en\n",
            " attention.py\t  enc2dec.py    main.py\t\t       seq2seq\n",
            " dataProcess.py   encoder.py    __pycache__\t       test.py\n",
            " Dataset.py\t  __init__.py  'Run the codes.ipynb'   train.py\n",
            " decoder.py\t  Lang.py       score.py\t       Transformer.py\n"
          ],
          "name": "stdout"
        }
      ]
    },
    {
      "cell_type": "code",
      "metadata": {
        "id": "M4FxafyfgwIo",
        "colab_type": "code",
        "colab": {}
      },
      "source": [
        "!python __init__.py"
      ],
      "execution_count": 0,
      "outputs": []
    },
    {
      "cell_type": "code",
      "metadata": {
        "id": "SiCUNT33UXCi",
        "colab_type": "code",
        "outputId": "30f0799a-6f34-47ae-af27-be19c74f6872",
        "colab": {
          "base_uri": "https://localhost:8080/",
          "height": 221
        }
      },
      "source": [
        "!python dataProcess.py"
      ],
      "execution_count": 0,
      "outputs": [
        {
          "output_type": "stream",
          "text": [
            "please input the suffix of the input and output Lang that you want to save(i.e. 3): 6\n",
            "reading training data...\n",
            "reversing language...\n",
            "read 135842 sentence pairs\n",
            "delete sentence longer than 20 words and remain 135072 sentence pairs.\n",
            "['on s occupe de tout .', 'everything s taken care of .']\n",
            "counting words ...\n",
            "fra 21144\n",
            "eng 12892\n",
            "changing the sentence to index...\n",
            "saving data...\n",
            "saving valid data ...\n"
          ],
          "name": "stdout"
        }
      ]
    },
    {
      "cell_type": "code",
      "metadata": {
        "id": "AhWaadWeU--e",
        "colab_type": "code",
        "colab": {}
      },
      "source": [
        "!python encoder.py"
      ],
      "execution_count": 0,
      "outputs": []
    },
    {
      "cell_type": "code",
      "metadata": {
        "id": "MuMHpy22VEg-",
        "colab_type": "code",
        "colab": {}
      },
      "source": [
        "!python Dataset.py"
      ],
      "execution_count": 0,
      "outputs": []
    },
    {
      "cell_type": "code",
      "metadata": {
        "id": "_dijK5oIgMCj",
        "colab_type": "code",
        "outputId": "34cfa49a-f783-4f9d-9c11-3cb7c0be4cb1",
        "colab": {
          "base_uri": "https://localhost:8080/",
          "height": 493
        }
      },
      "source": [
        "!pip install agent\n",
        "!pip install hyperboard"
      ],
      "execution_count": 0,
      "outputs": [
        {
          "output_type": "stream",
          "text": [
            "Collecting agent\n",
            "  Downloading https://files.pythonhosted.org/packages/85/69/3586641905a917f4929d584a79ac64f6df842f4e3ee51301643a73a8196e/agent-0.1.2.tar.gz\n",
            "Building wheels for collected packages: agent\n",
            "  Building wheel for agent (setup.py) ... \u001b[?25l\u001b[?25hdone\n",
            "  Created wheel for agent: filename=agent-0.1.2-cp36-none-any.whl size=4486 sha256=547221a08209b66eddd392f7c7a029d7c7672ec2e365165c924f9314ac34301d\n",
            "  Stored in directory: /root/.cache/pip/wheels/34/54/c0/5ad0bd3bc87c06d3e131eda83be31bb8b48e340637fcc9e56a\n",
            "Successfully built agent\n",
            "Installing collected packages: agent\n",
            "Successfully installed agent-0.1.2\n",
            "Collecting hyperboard\n",
            "\u001b[?25l  Downloading https://files.pythonhosted.org/packages/87/34/584efcf92ecf34b993b37b7ef2f7320d3c0c0e2954e8a8ac03214ae3b9d8/hyperboard-0.1.1-py2.py3-none-any.whl (289kB)\n",
            "\u001b[K     |████████████████████████████████| 296kB 6.9MB/s \n",
            "\u001b[?25hRequirement already satisfied: numpy in /usr/local/lib/python3.6/dist-packages (from hyperboard) (1.17.4)\n",
            "Requirement already satisfied: flask in /usr/local/lib/python3.6/dist-packages (from hyperboard) (1.1.1)\n",
            "Collecting flask-httpauth\n",
            "  Downloading https://files.pythonhosted.org/packages/b9/fd/89fc9aa163b5a7aa809fac0835502c2b66f48a5114a73df7e2a104cc645f/Flask_HTTPAuth-3.3.0-py2.py3-none-any.whl\n",
            "Requirement already satisfied: requests in /usr/local/lib/python3.6/dist-packages (from hyperboard) (2.21.0)\n",
            "Requirement already satisfied: Werkzeug>=0.15 in /usr/local/lib/python3.6/dist-packages (from flask->hyperboard) (0.16.0)\n",
            "Requirement already satisfied: click>=5.1 in /usr/local/lib/python3.6/dist-packages (from flask->hyperboard) (7.0)\n",
            "Requirement already satisfied: Jinja2>=2.10.1 in /usr/local/lib/python3.6/dist-packages (from flask->hyperboard) (2.10.3)\n",
            "Requirement already satisfied: itsdangerous>=0.24 in /usr/local/lib/python3.6/dist-packages (from flask->hyperboard) (1.1.0)\n",
            "Requirement already satisfied: chardet<3.1.0,>=3.0.2 in /usr/local/lib/python3.6/dist-packages (from requests->hyperboard) (3.0.4)\n",
            "Requirement already satisfied: urllib3<1.25,>=1.21.1 in /usr/local/lib/python3.6/dist-packages (from requests->hyperboard) (1.24.3)\n",
            "Requirement already satisfied: idna<2.9,>=2.5 in /usr/local/lib/python3.6/dist-packages (from requests->hyperboard) (2.8)\n",
            "Requirement already satisfied: certifi>=2017.4.17 in /usr/local/lib/python3.6/dist-packages (from requests->hyperboard) (2019.11.28)\n",
            "Requirement already satisfied: MarkupSafe>=0.23 in /usr/local/lib/python3.6/dist-packages (from Jinja2>=2.10.1->flask->hyperboard) (1.1.1)\n",
            "Installing collected packages: flask-httpauth, hyperboard\n",
            "Successfully installed flask-httpauth-3.3.0 hyperboard-0.1.1\n"
          ],
          "name": "stdout"
        }
      ]
    },
    {
      "cell_type": "code",
      "metadata": {
        "id": "sB7mdOvQglUK",
        "colab_type": "code",
        "colab": {}
      },
      "source": [
        "!python attention.py"
      ],
      "execution_count": 0,
      "outputs": []
    },
    {
      "cell_type": "code",
      "metadata": {
        "id": "1CGbBbDtgmBE",
        "colab_type": "code",
        "colab": {}
      },
      "source": [
        "!python Lang.py"
      ],
      "execution_count": 0,
      "outputs": []
    },
    {
      "cell_type": "code",
      "metadata": {
        "id": "x1_f7EPggrKo",
        "colab_type": "code",
        "colab": {}
      },
      "source": [
        "!python decoder.py"
      ],
      "execution_count": 0,
      "outputs": []
    },
    {
      "cell_type": "code",
      "metadata": {
        "id": "QuvFl0uQgspD",
        "colab_type": "code",
        "colab": {}
      },
      "source": [
        "!python Transformer.py"
      ],
      "execution_count": 0,
      "outputs": []
    },
    {
      "cell_type": "code",
      "metadata": {
        "id": "r_YK2R0_goRu",
        "colab_type": "code",
        "outputId": "3d5d1c75-681f-4bc7-f774-023b9ff1eac6",
        "colab": {
          "base_uri": "https://localhost:8080/",
          "height": 595
        }
      },
      "source": [
        "!python main.py"
      ],
      "execution_count": 0,
      "outputs": [
        {
          "output_type": "stream",
          "text": [
            "use 400 sentences to train\n",
            "use 100 sentences to train\n",
            "fra dataset has 21144 words. \n",
            "eng dataset has 12892 words. \n",
            "using attention, attention mode is general \n",
            "\n",
            "Traceback (most recent call last):\n",
            "  File \"main.py\", line 139, in <module>\n",
            "    tf_ratio=tf_ratio)\n",
            "  File \"/content/gdrive/My Drive/machineTranslation-master/code_fra2en/train.py\", line 89, in train\n",
            "    logits, predicts = net(src_sent, tar_sent, src_len, teacher_forcing_ratio=ssprob)\n",
            "  File \"/usr/local/lib/python3.6/dist-packages/torch/nn/modules/module.py\", line 541, in __call__\n",
            "    result = self.forward(*input, **kwargs)\n",
            "  File \"/content/gdrive/My Drive/machineTranslation-master/code_fra2en/enc2dec.py\", line 168, in forward\n",
            "    teacher_forcing_ratio = teacher_forcing_ratio)\n",
            "  File \"/usr/local/lib/python3.6/dist-packages/torch/nn/modules/module.py\", line 541, in __call__\n",
            "    result = self.forward(*input, **kwargs)\n",
            "  File \"/content/gdrive/My Drive/machineTranslation-master/code_fra2en/seq2seq/model/DecoderRNN.py\", line 143, in forward\n",
            "    function=function)\n",
            "  File \"/content/gdrive/My Drive/machineTranslation-master/code_fra2en/seq2seq/model/DecoderRNN.py\", line 99, in forward_step\n",
            "    output, hidden = self.rnn(embedded, hidden)\n",
            "  File \"/usr/local/lib/python3.6/dist-packages/torch/nn/modules/module.py\", line 541, in __call__\n",
            "    result = self.forward(*input, **kwargs)\n",
            "  File \"/usr/local/lib/python3.6/dist-packages/torch/nn/modules/rnn.py\", line 564, in forward\n",
            "    return self.forward_tensor(input, hx)\n",
            "  File \"/usr/local/lib/python3.6/dist-packages/torch/nn/modules/rnn.py\", line 543, in forward_tensor\n",
            "    output, hidden = self.forward_impl(input, hx, batch_sizes, max_batch_size, sorted_indices)\n",
            "  File \"/usr/local/lib/python3.6/dist-packages/torch/nn/modules/rnn.py\", line 523, in forward_impl\n",
            "    self.check_forward_args(input, hx, batch_sizes)\n",
            "  File \"/usr/local/lib/python3.6/dist-packages/torch/nn/modules/rnn.py\", line 500, in check_forward_args\n",
            "    'Expected hidden[0] size {}, got {}')\n",
            "  File \"/usr/local/lib/python3.6/dist-packages/torch/nn/modules/rnn.py\", line 166, in check_hidden_size\n",
            "    raise RuntimeError(msg.format(expected_hidden_size, tuple(hx.size())))\n",
            "RuntimeError: Expected hidden[0] size (1, 100, 1024), got (1, 100, 512)\n"
          ],
          "name": "stdout"
        }
      ]
    },
    {
      "cell_type": "code",
      "metadata": {
        "id": "g3yxOhl7WrLy",
        "colab_type": "code",
        "colab": {}
      },
      "source": [
        "!python train.py"
      ],
      "execution_count": 0,
      "outputs": []
    },
    {
      "cell_type": "code",
      "metadata": {
        "id": "GIfDzZs3U8yW",
        "colab_type": "code",
        "outputId": "8369afc6-8ed5-48e1-9ae7-2b33541bc479",
        "colab": {
          "base_uri": "https://localhost:8080/",
          "height": 612
        }
      },
      "source": [
        "!python test.py"
      ],
      "execution_count": 0,
      "outputs": [
        {
          "output_type": "stream",
          "text": [
            "use 100 sentences to train\n",
            "fra dataset has 21144 words. \n",
            "eng dataset has 12892 words. \n",
            "using attention, attention mode is general \n",
            "\n",
            "Traceback (most recent call last):\n",
            "  File \"test.py\", line 121, in <module>\n",
            "    train.printPredictsFromDataset2(use_cuda, net, valid_loader, tf, count = 10)\n",
            "  File \"/content/gdrive/My Drive/machineTranslation-master/code_fra2en/train.py\", line 213, in printPredictsFromDataset2\n",
            "    en_origin, zh_answer, zh_predicts, _ = evaluate(use_cuda, net, src_sent, tar_sent, tar_label, src_len, transformer)\n",
            "  File \"/content/gdrive/My Drive/machineTranslation-master/code_fra2en/train.py\", line 149, in evaluate\n",
            "    logits, predicts = net(entext, gtruths, enlen, is_eval = True)\n",
            "  File \"/usr/local/lib/python3.6/dist-packages/torch/nn/modules/module.py\", line 541, in __call__\n",
            "    result = self.forward(*input, **kwargs)\n",
            "  File \"/content/gdrive/My Drive/machineTranslation-master/code_fra2en/enc2dec.py\", line 168, in forward\n",
            "    teacher_forcing_ratio = teacher_forcing_ratio)\n",
            "  File \"/usr/local/lib/python3.6/dist-packages/torch/nn/modules/module.py\", line 541, in __call__\n",
            "    result = self.forward(*input, **kwargs)\n",
            "  File \"/content/gdrive/My Drive/machineTranslation-master/code_fra2en/seq2seq/model/DecoderRNN.py\", line 143, in forward\n",
            "    function=function)\n",
            "  File \"/content/gdrive/My Drive/machineTranslation-master/code_fra2en/seq2seq/model/DecoderRNN.py\", line 99, in forward_step\n",
            "    output, hidden = self.rnn(embedded, hidden)\n",
            "  File \"/usr/local/lib/python3.6/dist-packages/torch/nn/modules/module.py\", line 541, in __call__\n",
            "    result = self.forward(*input, **kwargs)\n",
            "  File \"/usr/local/lib/python3.6/dist-packages/torch/nn/modules/rnn.py\", line 564, in forward\n",
            "    return self.forward_tensor(input, hx)\n",
            "  File \"/usr/local/lib/python3.6/dist-packages/torch/nn/modules/rnn.py\", line 543, in forward_tensor\n",
            "    output, hidden = self.forward_impl(input, hx, batch_sizes, max_batch_size, sorted_indices)\n",
            "  File \"/usr/local/lib/python3.6/dist-packages/torch/nn/modules/rnn.py\", line 523, in forward_impl\n",
            "    self.check_forward_args(input, hx, batch_sizes)\n",
            "  File \"/usr/local/lib/python3.6/dist-packages/torch/nn/modules/rnn.py\", line 500, in check_forward_args\n",
            "    'Expected hidden[0] size {}, got {}')\n",
            "  File \"/usr/local/lib/python3.6/dist-packages/torch/nn/modules/rnn.py\", line 166, in check_hidden_size\n",
            "    raise RuntimeError(msg.format(expected_hidden_size, tuple(hx.size())))\n",
            "RuntimeError: Expected hidden[0] size (2, 50, 256), got (2, 50, 512)\n"
          ],
          "name": "stdout"
        }
      ]
    },
    {
      "cell_type": "code",
      "metadata": {
        "id": "ofvTVmdPgyMl",
        "colab_type": "code",
        "colab": {}
      },
      "source": [
        ""
      ],
      "execution_count": 0,
      "outputs": []
    }
  ]
}