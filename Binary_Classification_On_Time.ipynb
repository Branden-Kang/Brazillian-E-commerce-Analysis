{
  "nbformat": 4,
  "nbformat_minor": 0,
  "metadata": {
    "colab": {
      "name": "Binary_Classification_On_Time.ipynb",
      "provenance": [],
      "collapsed_sections": [],
      "machine_shape": "hm"
    },
    "kernelspec": {
      "name": "python2",
      "display_name": "Python 2"
    },
    "accelerator": "GPU"
  },
  "cells": [
    {
      "cell_type": "markdown",
      "metadata": {
        "id": "qqBsfzyxZZYy",
        "colab_type": "text"
      },
      "source": [
        "# Let's make binary classification models:)\n",
        "Here are some references:\n",
        "Binary classification(1): https://towardsdatascience.com/machine-learning-with-pyspark-and-mllib-solving-a-binary-classification-problem-96396065d2aa <br>\n",
        "Binary classification(2): https://spark.apache.org/docs/2.2.0/ml-classification-regression.html <br>\n",
        "Binary classification(3): https://docs.databricks.com/applications/machine-learning/mllib/binary-classification-mllib-pipelines.html <br>\n",
        "Binary classification(4): https://wesslen.github.io/twitter/predicting_twitter_profile_location_with_pyspark/ <br>\n",
        "Spark documentation: https://spark.apache.org/docs/2.2.0/ml-pipeline.html <br>\n",
        "PySpark introduction: https://mleap-docs.combust.ml/getting-started/py-spark.html <br>\n",
        "PySpark dataframe Tuturial: https://weiminwang.blog/2016/06/09/pyspark-tutorial-building-a-random-forest-binary-classifier-on-unbalanced-dataset/ <br>\n",
        "Machine Learning with PySpark and MLlib — Solving a Binary Classification Problem: https://towardsdatascience.com/machine-learning-with-pyspark-and-mllib-solving-a-binary-classification-problem-96396065d2aa <br>\n",
        "Machine Learning PySpark and MLlib: https://github.com/susanli2016/PySpark-and-MLlib/blob/master/Machine%20Learning%20PySpark%20and%20MLlib.ipynb <br>\n",
        "Random Forest feature importances: https://towardsdatascience.com/running-random-forests-inspect-the-feature-importances-with-this-code-2b00dd72b92e <br>\n",
        "Machine Learning with Text in PySpark: https://datascience-enthusiast.com/Python/PySpark_ML_with_Text_part1.html"
      ]
    },
    {
      "cell_type": "markdown",
      "metadata": {
        "id": "hjOn9T5FZgyk",
        "colab_type": "text"
      },
      "source": [
        "## Configure Pyspark Environment"
      ]
    },
    {
      "cell_type": "code",
      "metadata": {
        "id": "ZaKwfMlsJ826",
        "colab_type": "code",
        "colab": {}
      },
      "source": [
        "!apt-get install openjdk-8-jdk-headless -qq > /dev/null\n",
        "!wget -q http://www-eu.apache.org/dist/spark/spark-2.4.4/spark-2.4.4-bin-hadoop2.7.tgz\n",
        "!tar xf spark-2.4.4-bin-hadoop2.7.tgz\n",
        "!pip install -q findspark"
      ],
      "execution_count": 0,
      "outputs": []
    },
    {
      "cell_type": "code",
      "metadata": {
        "id": "-dM4HseuJ981",
        "colab_type": "code",
        "colab": {}
      },
      "source": [
        "import os\n",
        "os.environ[\"JAVA_HOME\"] = \"/usr/lib/jvm/java-8-openjdk-amd64\"\n",
        "os.environ[\"SPARK_HOME\"] = \"/content/spark-2.4.4-bin-hadoop2.7\""
      ],
      "execution_count": 0,
      "outputs": []
    },
    {
      "cell_type": "code",
      "metadata": {
        "id": "DnSckCaPJ_5h",
        "colab_type": "code",
        "colab": {}
      },
      "source": [
        "import findspark\n",
        "findspark.init(\"spark-2.4.4-bin-hadoop2.7\") # SPARK_HOME\n",
        "from pyspark.sql import SparkSession\n",
        "spark = SparkSession.builder.master(\"local[*]\").getOrCreate()"
      ],
      "execution_count": 0,
      "outputs": []
    },
    {
      "cell_type": "code",
      "metadata": {
        "id": "8oEzfkv1KEhc",
        "colab_type": "code",
        "colab": {}
      },
      "source": [
        "import os\n",
        "from google.colab import drive\n",
        "drive.mount('/content/gdrive', force_remount=True)\n",
        "!pwd\n",
        "os.chdir('gdrive/Shared drives/ISE467 : Project 2&3/brazilian-ecommerce')\n",
        "!pwd\n",
        "!ls"
      ],
      "execution_count": 0,
      "outputs": []
    },
    {
      "cell_type": "code",
      "metadata": {
        "id": "KS-O4yfvJ4jB",
        "colab_type": "code",
        "colab": {}
      },
      "source": [
        "final_order = spark.read.format('json').\\\n",
        "            load('/content/gdrive/Shared drives/brazilian-ecommerce/final_order.json')"
      ],
      "execution_count": 0,
      "outputs": []
    },
    {
      "cell_type": "code",
      "metadata": {
        "id": "wPo5jBwxJ5FI",
        "colab_type": "code",
        "outputId": "5d8caa71-1c7a-40f3-e63f-d56fe53b9ea4",
        "colab": {
          "base_uri": "https://localhost:8080/",
          "height": 1000
        }
      },
      "source": [
        "final_order.printSchema()"
      ],
      "execution_count": 0,
      "outputs": [
        {
          "output_type": "stream",
          "text": [
            "root\n",
            " |-- Carrier_Late(1)/on-time(0): long (nullable = true)\n",
            " |-- Carrier_Start_Date-Shipping_limit_Days: double (nullable = true)\n",
            " |-- Carrier_time_diff_Days: double (nullable = true)\n",
            " |-- Delivery_time_diff_Days: double (nullable = true)\n",
            " |-- Estimated-Actual_Delivery_Days: double (nullable = true)\n",
            " |-- Late(1)/on-time(0): long (nullable = true)\n",
            " |-- Order_Approval_diff_Days: double (nullable = true)\n",
            " |-- Weight/volume: double (nullable = true)\n",
            " |-- customer_city: string (nullable = true)\n",
            " |-- customer_geolocation_lat: double (nullable = true)\n",
            " |-- customer_geolocation_lng: double (nullable = true)\n",
            " |-- customer_id: string (nullable = true)\n",
            " |-- customer_state: string (nullable = true)\n",
            " |-- customer_unique_id: string (nullable = true)\n",
            " |-- customer_zip_code_prefix: long (nullable = true)\n",
            " |-- freight/price: double (nullable = true)\n",
            " |-- freight_value: double (nullable = true)\n",
            " |-- id: long (nullable = true)\n",
            " |-- order_approved_at: string (nullable = true)\n",
            " |-- order_delivered_carrier_date: string (nullable = true)\n",
            " |-- order_delivered_customer_date: string (nullable = true)\n",
            " |-- order_estimated_delivery_date: string (nullable = true)\n",
            " |-- order_id: string (nullable = true)\n",
            " |-- order_item_id: long (nullable = true)\n",
            " |-- order_purchase_timestamp: string (nullable = true)\n",
            " |-- order_status: string (nullable = true)\n",
            " |-- payment_type_count: struct (nullable = true)\n",
            " |    |-- indices: array (nullable = true)\n",
            " |    |    |-- element: long (containsNull = true)\n",
            " |    |-- size: long (nullable = true)\n",
            " |    |-- type: long (nullable = true)\n",
            " |    |-- values: array (nullable = true)\n",
            " |    |    |-- element: double (containsNull = true)\n",
            " |-- payment_type_value: struct (nullable = true)\n",
            " |    |-- indices: array (nullable = true)\n",
            " |    |    |-- element: long (containsNull = true)\n",
            " |    |-- size: long (nullable = true)\n",
            " |    |-- type: long (nullable = true)\n",
            " |    |-- values: array (nullable = true)\n",
            " |    |    |-- element: double (containsNull = true)\n",
            " |-- price: double (nullable = true)\n",
            " |-- product_category_name_english: string (nullable = true)\n",
            " |-- product_description_lenght: long (nullable = true)\n",
            " |-- product_height_cm: double (nullable = true)\n",
            " |-- product_id: string (nullable = true)\n",
            " |-- product_length_cm: double (nullable = true)\n",
            " |-- product_name_lenght: long (nullable = true)\n",
            " |-- product_photos_qty: long (nullable = true)\n",
            " |-- product_weight_g: double (nullable = true)\n",
            " |-- product_width_cm: double (nullable = true)\n",
            " |-- review_comment_message: string (nullable = true)\n",
            " |-- review_id: string (nullable = true)\n",
            " |-- review_score: long (nullable = true)\n",
            " |-- seller_city: string (nullable = true)\n",
            " |-- seller_geolocation_lat: double (nullable = true)\n",
            " |-- seller_geolocation_lng: double (nullable = true)\n",
            " |-- seller_id: string (nullable = true)\n",
            " |-- seller_state: string (nullable = true)\n",
            " |-- seller_zip_code_prefix: long (nullable = true)\n",
            " |-- shipping_limit_date: string (nullable = true)\n",
            " |-- total_payment: double (nullable = true)\n",
            "\n"
          ],
          "name": "stdout"
        }
      ]
    },
    {
      "cell_type": "markdown",
      "metadata": {
        "id": "jPJ2x3G4PBKn",
        "colab_type": "text"
      },
      "source": [
        "## Let's change the data type!!"
      ]
    },
    {
      "cell_type": "markdown",
      "metadata": {
        "id": "bpVMYMd0U2B3",
        "colab_type": "text"
      },
      "source": [
        "'review_creation_date', 'timestamp'\n",
        "'review_answer_timestamp', 'timestamp'"
      ]
    },
    {
      "cell_type": "code",
      "metadata": {
        "id": "cJJaWIt0dXOS",
        "colab_type": "code",
        "outputId": "c5e7b50e-b6a2-4077-e6db-53dd8427ca14",
        "colab": {
          "base_uri": "https://localhost:8080/",
          "height": 479
        }
      },
      "source": [
        "final_order.show()"
      ],
      "execution_count": 0,
      "outputs": [
        {
          "output_type": "stream",
          "text": [
            "+--------------------------+--------------------------------------+----------------------+-----------------------+------------------------------+------------------+------------------------+-------------------+---------------+------------------------+------------------------+--------------------+--------------+--------------------+------------------------+-------------------+-------------+---+--------------------+----------------------------+-----------------------------+-----------------------------+--------------------+-------------+------------------------+------------+--------------------+--------------------+-----+-----------------------------+--------------------------+-----------------+--------------------+-----------------+-------------------+------------------+----------------+----------------+----------------------+--------------------+------------+-----------+----------------------+----------------------+--------------------+------------+----------------------+--------------------+-------------+\n",
            "|Carrier_Late(1)/on-time(0)|Carrier_Start_Date-Shipping_limit_Days|Carrier_time_diff_Days|Delivery_time_diff_Days|Estimated-Actual_Delivery_Days|Late(1)/on-time(0)|Order_Approval_diff_Days|      Weight/volume|  customer_city|customer_geolocation_lat|customer_geolocation_lng|         customer_id|customer_state|  customer_unique_id|customer_zip_code_prefix|      freight/price|freight_value| id|   order_approved_at|order_delivered_carrier_date|order_delivered_customer_date|order_estimated_delivery_date|            order_id|order_item_id|order_purchase_timestamp|order_status|  payment_type_count|  payment_type_value|price|product_category_name_english|product_description_lenght|product_height_cm|          product_id|product_length_cm|product_name_lenght|product_photos_qty|product_weight_g|product_width_cm|review_comment_message|           review_id|review_score|seller_city|seller_geolocation_lat|seller_geolocation_lng|           seller_id|seller_state|seller_zip_code_prefix| shipping_limit_date|total_payment|\n",
            "+--------------------------+--------------------------------------+----------------------+-----------------------+------------------------------+------------------+------------------------+-------------------+---------------+------------------------+------------------------+--------------------+--------------+--------------------+------------------------+-------------------+-------------+---+--------------------+----------------------------+-----------------------------+-----------------------------+--------------------+-------------+------------------------+------------+--------------------+--------------------+-----+-----------------------------+--------------------------+-----------------+--------------------+-----------------+-------------------+------------------+----------------+----------------+----------------------+--------------------+------------+-----------+----------------------+----------------------+--------------------+------------+----------------------+--------------------+-------------+\n",
            "|                         0|                    1.8558449074074075|     20.19236111111111|     28.233333333333334|             2.328472222222222|                 0|      0.8965277777777778|0.04751461988304093|       brasilia|            -16.02294658|            -48.05071816|e2dc0b0cef1781793...|            DF|4f308d513ccac2840...|                   72457| 0.2629536921151439|        21.01|  0|2017-04-25T08:02:...|        2017-05-02T11:30:...|         2017-05-22T16:07:...|         2017-05-25T00:00:...|b6fa6ea37aeeb90c9...|            1|    2017-04-24T10:31:...|   delivered|  [[0], 4, 0, [1.0]]|[[0], 4, 0, [100....| 79.9|                health_beauty|                      1400|             20.0|8a4505505378c8f5d...|             19.0|                 47|                 1|           325.0|            18.0|                  null|11bbc10384b40b673...|           5|    lajeado|          -29.44657989|          -51.96120191|062ce95fa2ad4dfae...|          RS|                 95913|2017-05-04T08:02:...|       100.91|\n",
            "|                         0|                    1.0055787037037036|     6.997222222222222|     11.991666666666667|             8.330555555555556|                 0|                     0.0|0.10796221322537113|      concordia|            -27.23090863|             -52.0454811|60c9723c5d232b784...|            SC|6b3b92110c5adfe4a...|                   89705|0.34653937947494035|        14.52|  1|2017-03-16T16:16:...|        2017-03-21T16:08:...|         2017-03-28T16:04:...|         2017-04-06T00:00:...|87a838f48767365e2...|            1|    2017-03-16T16:16:...|   delivered|  [[1], 4, 0, [1.0]]|[[1], 4, 0, [56.42]]| 41.9|               bed_bath_table|                       999|             13.0|cd82271424be95688...|             19.0|                 56|                 1|           400.0|            15.0|  Adorei o produto ...|654815c89e6174154...|           5|    lajeado|          -29.44657989|          -51.96120191|062ce95fa2ad4dfae...|          RS|                 95913|2017-03-22T16:16:...|        56.42|\n",
            "|                         1|                   -23.769895833333333|     6.017361111111111|     36.895833333333336|            -9.895138888888889|                 1|      1.1083333333333334|0.10796221322537113|      catanduva|            -21.12102843|            -48.97081828|65d631d0de3181168...|            SP|78fcceb499ec9008f...|                   15804|0.42768496420047736|        17.92|  2|2017-08-31T02:35:...|        2017-09-29T21:04:...|         2017-10-05T21:29:...|         2017-09-26T00:00:...|8afd15d26436c6044...|            1|    2017-08-29T23:59:...|   delivered|  [[0], 4, 0, [1.0]]|[[0], 4, 0, [59.82]]| 41.9|               bed_bath_table|                       999|             13.0|cd82271424be95688...|             19.0|                 56|                 1|           400.0|            15.0|                  null|a112a50d46519520d...|           3|    lajeado|          -29.44657989|          -51.96120191|062ce95fa2ad4dfae...|          RS|                 95913|2017-09-06T02:35:...|        59.82|\n",
            "|                         1|                   -0.1158912037037037|     3.027083333333333|      9.154166666666667|            10.464583333333334|                 0|    0.011111111111111112|0.25396825396825395|       sao jose|            -27.59580821|            -48.61619711|8ac1fe94e53325560...|            SC|ec81d1c881757b8d0...|                   88102|  0.360381861575179|         15.1|  3|2017-05-12T09:25:...|        2017-05-18T12:12:...|         2017-05-21T12:51:...|         2017-06-01T00:00:...|1a494062b68a8ed99...|            1|    2017-05-12T09:09:...|   delivered|[[1, 3], 4, 0, [2...|[[1, 3], 4, 0, [4...| 41.9|              furniture_decor|                       683|              5.0|4da03293502189784...|             21.0|                 63|                 1|           400.0|            15.0|  Gostaria apenas q...|48fe29ff7afb01dc5...|           5|    lajeado|          -29.44657989|          -51.96120191|062ce95fa2ad4dfae...|          RS|                 95913|2017-05-18T09:25:...|         57.0|\n",
            "|                         1|                  -0.16960648148148147|     3.097916666666667|                11.1125|             7.285416666666666|                 0|      1.8444444444444446|0.25396825396825395|     nova prata|             -28.7822546|            -51.60921297|fec424751aa87f545...|            RS|e8a195f60d266e458...|                   95320| 0.2978520286396182|        12.48|  4|2017-06-20T10:43:...|        2017-06-26T14:48:...|         2017-06-29T17:09:...|         2017-07-07T00:00:...|288ec48ad5ea4c98a...|            1|    2017-06-18T14:27:...|   delivered|  [[0], 4, 0, [1.0]]|[[0], 4, 0, [54.38]]| 41.9|              furniture_decor|                       683|              5.0|4da03293502189784...|             21.0|                 63|                 1|           400.0|            15.0|                  null|9009e7e25f6a8e458...|           5|    lajeado|          -29.44657989|          -51.96120191|062ce95fa2ad4dfae...|          RS|                 95913|2017-06-26T10:43:...|        54.38|\n",
            "|                         0|                     2.901226851851852|    4.6722222222222225|      8.782638888888888|                      22.76875|                 0|    0.011111111111111112|0.06932773109243698| rio de janeiro|            -22.91934258|            -43.21542322|5b1744540d6008b84...|            RJ|10e49f47dc1cd4cdf...|                   20260| 0.6423558897243108|        25.63|  5|2017-05-18T11:02:...|        2017-05-22T13:25:...|         2017-05-27T05:33:...|         2017-06-19T00:00:...|fb86c32ba3e47fe56...|            1|    2017-05-18T10:46:...|   delivered|  [[1], 4, 0, [6.0]]|[[1], 4, 0, [65.53]]| 39.9|               bed_bath_table|                       204|             14.0|4b703444923b5e57b...|             17.0|                 49|                 1|           264.0|            16.0|                  null|a5721b28290f94e9a...|           5|    lajeado|          -29.44657989|          -51.96120191|062ce95fa2ad4dfae...|          RS|                 95913|2017-05-25T11:02:...|        65.53|\n",
            "|                         0|                    1.4480208333333333|               13.0875|     15.654166666666667|              9.33611111111111|                 0|    0.014583333333333334|0.10796221322537113|      guarulhos|            -23.40404596|            -46.41877432|9c64cd776ee9f018a...|            SP|9df0c554a0b37fc0c...|                    7179|0.02625298329355609|          1.1|  6|2017-09-10T00:35:...|        2017-09-12T13:50:...|         2017-09-25T15:56:...|         2017-10-05T00:00:...|0cda834be88c6e549...|            1|    2017-09-10T00:14:...|   delivered| [[1], 4, 0, [10.0]]|[[1], 4, 0, [243....| 41.9|               bed_bath_table|                       999|             13.0|cd82271424be95688...|             19.0|                 56|                 1|           400.0|            15.0|  Fiz a compra e ch...|be4e16abeb792466b...|           3|    lajeado|          -29.44657989|          -51.96120191|062ce95fa2ad4dfae...|          RS|                 95913|2017-09-14T00:35:...|       243.12|\n",
            "|                         0|                    0.6376851851851851|     7.232638888888889|     11.604166666666666|            17.522916666666667|                 0|    0.009027777777777777|0.21077712609970675|      sao paulo|             -23.5495057|            -46.64843251|aafa66416bb386613...|            SP|76bf559b3b17a29c5...|                    1303| 0.0770955501897206|        22.35|  7|2017-04-29T21:10:...|        2017-05-04T05:52:...|         2017-05-11T11:27:...|         2017-05-29T00:00:...|ee7b9fca242afe884...|            1|    2017-04-29T20:57:...|   delivered|  [[1], 4, 0, [5.0]]|[[1], 4, 0, [312....|289.9|                 market_place|                       537|              8.0|ff922797a6771cab4...|             31.0|                 37|                 3|          1725.0|            33.0|  Percebi q havia p...|72b1153250e95ec4b...|           3|    lajeado|          -29.44657989|          -51.96120191|062ce95fa2ad4dfae...|          RS|                 95913|2017-05-04T21:10:...|       312.25|\n",
            "|                         0|                     1.532199074074074|     7.035416666666666|      9.503472222222221|            23.379166666666666|                 0|    0.009027777777777777|0.21179537308569565|      sao paulo|             -23.6187658|            -46.64940227|3bc3ad02b60f18345...|            SP|d616b371aae4ce572...|                    4064|0.09568193786203265|        18.17|  8|2017-02-22T03:02:...|        2017-02-24T14:03:...|         2017-03-03T14:54:...|         2017-03-27T00:00:...|f8470371533c258e0...|            1|    2017-02-22T02:49:...|   delivered|  [[1], 4, 0, [3.0]]|[[1], 4, 0, [208....|189.9|              furniture_decor|                       537|              6.0|3efe696e322f9139e...|             31.0|                 40|                 3|          1300.0|            33.0|  O produto não aqu...|d63c849ea6d81cf7c...|           1|    lajeado|          -29.44657989|          -51.96120191|062ce95fa2ad4dfae...|          RS|                 95913|2017-02-26T02:49:...|       208.07|\n",
            "|                         0|                    3.7165393518518517|                6.5875|      6.871527777777778|                       35.4125|                 0|    0.009722222222222222|0.25396825396825395| rio de janeiro|            -22.98392343|            -43.20710147|3e2d140f0acbb3da8...|            RJ|674d55cc522075b79...|                   22410|0.42434367541766116|        17.78|  9|2017-01-31T17:25:...|        2017-02-01T00:00:...|         2017-02-07T14:06:...|         2017-03-15T00:00:...|4d7b93709f08f674f...|            1|    2017-01-31T17:11:...|   delivered|  [[1], 4, 0, [1.0]]|[[1], 4, 0, [119....| 41.9|              furniture_decor|                       683|              5.0|4da03293502189784...|             21.0|                 63|                 1|           400.0|            15.0|                  null|91712508056632bf3...|           4|    lajeado|          -29.44657989|          -51.96120191|062ce95fa2ad4dfae...|          RS|                 95913|2017-02-04T17:11:...|       119.36|\n",
            "|                         0|                    3.7165393518518517|                6.5875|      6.871527777777778|                       35.4125|                 0|    0.009722222222222222|0.25396825396825395| rio de janeiro|            -22.98392343|            -43.20710147|3e2d140f0acbb3da8...|            RJ|674d55cc522075b79...|                   22410|0.42434367541766116|        17.78| 10|2017-01-31T17:25:...|        2017-02-01T00:00:...|         2017-02-07T14:06:...|         2017-03-15T00:00:...|4d7b93709f08f674f...|            2|    2017-01-31T17:11:...|   delivered|  [[1], 4, 0, [1.0]]|[[1], 4, 0, [119....| 41.9|              furniture_decor|                       683|              5.0|4da03293502189784...|             21.0|                 63|                 1|           400.0|            15.0|                  null|91712508056632bf3...|           4|    lajeado|          -29.44657989|          -51.96120191|062ce95fa2ad4dfae...|          RS|                 95913|2017-02-04T17:11:...|       119.36|\n",
            "|                         1|                   -3.9480092592592593|     3.126388888888889|      11.08611111111111|            13.088194444444444|                 0|    0.011111111111111112|0.21179537308569565|      sao paulo|            -23.56118966|            -46.47448584|bbf249561e84f966c...|            SP|76888ec0e2d5b7de5...|                    8280|0.10832016850974197|        20.57| 11|2017-08-21T20:05:...|        2017-08-29T18:51:...|         2017-09-01T21:53:...|         2017-09-15T00:00:...|ae1cb31659e2cf358...|            1|    2017-08-21T19:49:...|   delivered|  [[1], 4, 0, [4.0]]|[[1], 4, 0, [210....|189.9|              furniture_decor|                       537|              6.0|3efe696e322f9139e...|             31.0|                 40|                 3|          1300.0|            33.0|                  null|e0b2eab149eb41f3f...|           5|    lajeado|          -29.44657989|          -51.96120191|062ce95fa2ad4dfae...|          RS|                 95913|2017-08-25T20:05:...|       210.47|\n",
            "|                         0|                    3.2258680555555554|               9.01875|     11.802777777777777|             20.42222222222222|                 0|    0.009722222222222222|0.21179537308569565|pocos de caldas|            -21.78913132|            -46.56757074|8326dc987e109ccc7...|            MG|19e74a05536d13b34...|                   37701|0.19299631384939442|        36.65| 12|2017-05-19T18:50:...|        2017-05-22T13:25:...|         2017-05-31T13:52:...|         2017-06-21T00:00:...|d7108e3ddf254c6b5...|            1|    2017-05-19T18:36:...|   delivered|  [[1], 4, 0, [1.0]]|[[1], 4, 0, [226....|189.9|              furniture_decor|                       537|              6.0|3efe696e322f9139e...|             31.0|                 40|                 3|          1300.0|            33.0|                  null|4d482fdd3daec0366...|           5|    lajeado|          -29.44657989|          -51.96120191|062ce95fa2ad4dfae...|          RS|                 95913|2017-05-25T18:50:...|       226.55|\n",
            "|                         0|                     5.167638888888889|              12.20625|     14.046527777777778|                      14.31875|                 0|    0.007638888888888889|0.14436543848308553|        rodeiro|            -21.20018316|            -42.86603309|d2cfabab731178547...|            MG|a82d9e16794b2921f...|                   36510|0.26656856974690996|        45.29| 13|2017-04-25T15:25:...|        2017-04-27T11:24:...|         2017-05-09T16:21:...|         2017-05-24T00:00:...|e1e2b559781f43694...|            1|    2017-04-25T15:14:...|   delivered|  [[1], 4, 0, [6.0]]|[[1], 4, 0, [215....|169.9|              furniture_decor|                       548|             51.0|8d746e360a815705b...|             70.0|                 34|                 1|          6700.0|            13.0|  Loja séria com se...|c2fac1392a0ab55f8...|           5|    lajeado|          -29.44657989|          -51.96120191|062ce95fa2ad4dfae...|          RS|                 95913|2017-05-02T15:25:...|       215.19|\n",
            "|                         1|                   -1.1970486111111112|     7.045138888888889|      16.24861111111111|                        7.3375|                 0|                 0.00625|0.05847953216374269|     rio do sul|            -27.18228119|            -49.60640969|1ad05de046ac6a5e9...|            SC|d9d506dbb65bdc1f8...|                   89162| 0.1916145181476846|        15.31| 14|2017-06-20T10:05:...|        2017-06-29T14:49:...|         2017-07-06T15:54:...|         2017-07-14T00:00:...|e21677585042e206b...|            1|    2017-06-20T09:56:...|   delivered|  [[1], 4, 0, [9.0]]|[[1], 4, 0, [95.21]]| 79.9|                health_beauty|                      1400|             20.0|8c96a6969d0fad206...|             19.0|                 50|                 1|           400.0|            18.0|   Excelente recomendo|94691b18bf047b007...|           5|    lajeado|          -29.44657989|          -51.96120191|062ce95fa2ad4dfae...|          RS|                 95913|2017-06-28T10:05:...|        95.21|\n",
            "|                         0|                    0.1904861111111111|     4.947222222222222|       8.76736111111111|            15.352083333333333|                 0|    0.010416666666666666|0.21179537308569565|      sao paulo|            -23.52813994|            -46.50066365|b93f595ad6dd63fa5...|            SP|f80521e48c7cb490d...|                    3658|0.10832016850974197|        20.57| 15|2017-07-09T21:23:...|        2017-07-13T16:49:...|         2017-07-18T15:33:...|         2017-08-03T00:00:...|a509a0a8522e394f8...|            1|    2017-07-09T21:08:...|   delivered|  [[1], 4, 0, [8.0]]|[[1], 4, 0, [210....|189.9|              furniture_decor|                       537|              6.0|3efe696e322f9139e...|             31.0|                 40|                 3|          1300.0|            33.0|  Acho q a empresa ...|f5388e20b7d050a39...|           4|    lajeado|          -29.44657989|          -51.96120191|062ce95fa2ad4dfae...|          RS|                 95913|2017-07-13T21:23:...|       210.47|\n",
            "|                         0|                     1.499525462962963|     3.011111111111111|      7.518055555555556|             17.57847222222222|                 0|                 0.00625|0.21179537308569565|      sao paulo|            -23.61153067|            -46.73636662|2945f7826483e9c73...|            SP|334cc44b9272d44bc...|                    5630|0.10832016850974197|        20.57| 16|2017-06-28T21:50:...|        2017-07-03T09:51:...|         2017-07-06T10:07:...|         2017-07-24T00:00:...|f58d7e09ece55d81a...|            1|    2017-06-28T21:41:...|   delivered|  [[1], 4, 0, [1.0]]|[[1], 4, 0, [631....|189.9|              furniture_decor|                       537|              6.0|3efe696e322f9139e...|             31.0|                 40|                 3|          1300.0|            33.0|                  null|c9d483edb6d9174a8...|           5|    lajeado|          -29.44657989|          -51.96120191|062ce95fa2ad4dfae...|          RS|                 95913|2017-07-04T21:50:...|       631.41|\n",
            "|                         0|                     1.499525462962963|     3.011111111111111|      7.518055555555556|             17.57847222222222|                 0|                 0.00625|0.21179537308569565|      sao paulo|            -23.61153067|            -46.73636662|2945f7826483e9c73...|            SP|334cc44b9272d44bc...|                    5630|0.10832016850974197|        20.57| 17|2017-06-28T21:50:...|        2017-07-03T09:51:...|         2017-07-06T10:07:...|         2017-07-24T00:00:...|f58d7e09ece55d81a...|            2|    2017-06-28T21:41:...|   delivered|  [[1], 4, 0, [1.0]]|[[1], 4, 0, [631....|189.9|              furniture_decor|                       537|              6.0|3efe696e322f9139e...|             31.0|                 40|                 3|          1300.0|            33.0|                  null|c9d483edb6d9174a8...|           5|    lajeado|          -29.44657989|          -51.96120191|062ce95fa2ad4dfae...|          RS|                 95913|2017-07-04T21:50:...|       631.41|\n",
            "|                         0|                     1.499525462962963|     3.011111111111111|      7.518055555555556|             17.57847222222222|                 0|                 0.00625|0.21179537308569565|      sao paulo|            -23.61153067|            -46.73636662|2945f7826483e9c73...|            SP|334cc44b9272d44bc...|                    5630|0.10832016850974197|        20.57| 18|2017-06-28T21:50:...|        2017-07-03T09:51:...|         2017-07-06T10:07:...|         2017-07-24T00:00:...|f58d7e09ece55d81a...|            3|    2017-06-28T21:41:...|   delivered|  [[1], 4, 0, [1.0]]|[[1], 4, 0, [631....|189.9|              furniture_decor|                       537|              6.0|3efe696e322f9139e...|             31.0|                 40|                 3|          1300.0|            33.0|                  null|c9d483edb6d9174a8...|           5|    lajeado|          -29.44657989|          -51.96120191|062ce95fa2ad4dfae...|          RS|                 95913|2017-07-04T21:50:...|       631.41|\n",
            "|                         0|                     5.246400462962963|     5.667361111111111|     6.4215277777777775|                         11.65|                 0|                     0.0|0.21077712609970675|  caxias do sul|            -29.17266949|            -51.21072934|5e320e6a4f03e2e74...|            RS|8a2530b1bf32235ed...|                   95012| 0.0545015522593998|         15.8| 19|2017-03-09T22:17:...|        2017-03-10T16:23:...|         2017-03-16T08:24:...|         2017-03-28T00:00:...|a840a7a89e3d91373...|            1|    2017-03-09T22:17:...|   delivered|  [[1], 4, 0, [5.0]]|[[1], 4, 0, [305.7]]|289.9|                 market_place|                       537|              8.0|ff922797a6771cab4...|             31.0|                 37|                 3|          1725.0|            33.0|                  null|530bc04383c4dded4...|           5|    lajeado|          -29.44657989|          -51.96120191|062ce95fa2ad4dfae...|          RS|                 95913|2017-03-15T22:17:...|        305.7|\n",
            "+--------------------------+--------------------------------------+----------------------+-----------------------+------------------------------+------------------+------------------------+-------------------+---------------+------------------------+------------------------+--------------------+--------------+--------------------+------------------------+-------------------+-------------+---+--------------------+----------------------------+-----------------------------+-----------------------------+--------------------+-------------+------------------------+------------+--------------------+--------------------+-----+-----------------------------+--------------------------+-----------------+--------------------+-----------------+-------------------+------------------+----------------+----------------+----------------------+--------------------+------------+-----------+----------------------+----------------------+--------------------+------------+----------------------+--------------------+-------------+\n",
            "only showing top 20 rows\n",
            "\n"
          ],
          "name": "stdout"
        }
      ]
    },
    {
      "cell_type": "code",
      "metadata": {
        "id": "_SZ0zHFle5n9",
        "colab_type": "code",
        "colab": {}
      },
      "source": [
        "from pyspark.sql import functions as F\n",
        "\n",
        "format = \"yyyy-MM-dd'T'HH:mm:ss\"\n",
        "final_order = final_order.withColumn('order_purchase_timestamp', F.unix_timestamp('order_purchase_timestamp', format).cast('timestamp'))\\\n",
        "                         .withColumn(\"order_approved_at\", F.unix_timestamp(\"order_approved_at\", format).cast('timestamp'))\\\n",
        "                         .withColumn(\"order_delivered_carrier_date\", F.unix_timestamp(\"order_delivered_carrier_date\", format).cast('timestamp'))\\\n",
        "                         .withColumn(\"order_delivered_customer_date\", F.unix_timestamp(\"order_delivered_customer_date\", format).cast('timestamp'))\\\n",
        "                         .withColumn(\"order_estimated_delivery_date\", F.unix_timestamp(\"order_estimated_delivery_date\", format).cast('timestamp'))\\\n",
        "                         .withColumn(\"shipping_limit_date\", F.unix_timestamp(\"shipping_limit_date\", format).cast('timestamp'))                   "
      ],
      "execution_count": 0,
      "outputs": []
    },
    {
      "cell_type": "code",
      "metadata": {
        "id": "k1qPGR3qOqWW",
        "colab_type": "code",
        "colab": {}
      },
      "source": [
        "# from pyspark.sql.functions import to_timestamp\n",
        "# import pyspark.sql.functions as F\n",
        "# final_order = final_order.withColumn(\"order_purchase_timestamp\", F.to_timestamp(\"order_purchase_timestamp\", format='MM/dd/yyyy HH:mm'))\\\n",
        "#                          .withColumn(\"order_approved_at\", F.to_timestamp(\"order_approved_at\", format='MM/dd/yyyy HH:mm'))\\\n",
        "#                          .withColumn(\"order_delivered_carrier_date\", F.to_timestamp(\"order_delivered_carrier_date\", format='MM/dd/yyyy HH:mm'))\\\n",
        "#                          .withColumn(\"order_delivered_customer_date\", F.to_timestamp(\"order_delivered_customer_date\", format='MM/dd/yyyy HH:mm'))\\\n",
        "#                          .withColumn(\"order_estimated_delivery_date\", F.to_timestamp(\"order_estimated_delivery_date\", format='MM/dd/yyyy HH:mm'))"
      ],
      "execution_count": 0,
      "outputs": []
    },
    {
      "cell_type": "code",
      "metadata": {
        "id": "Fafr7rpKejXN",
        "colab_type": "code",
        "outputId": "e1016c83-0b95-4331-f0b0-4fa90c217528",
        "colab": {
          "base_uri": "https://localhost:8080/",
          "height": 479
        }
      },
      "source": [
        "final_order.show()"
      ],
      "execution_count": 0,
      "outputs": [
        {
          "output_type": "stream",
          "text": [
            "+--------------------------+--------------------------------------+----------------------+-----------------------+------------------------------+------------------+------------------------+-------------------+---------------+------------------------+------------------------+--------------------+--------------+--------------------+------------------------+-------------------+-------------+---+-------------------+----------------------------+-----------------------------+-----------------------------+--------------------+-------------+------------------------+------------+--------------------+--------------------+-----+-----------------------------+--------------------------+-----------------+--------------------+-----------------+-------------------+------------------+----------------+----------------+----------------------+--------------------+------------+-----------+----------------------+----------------------+--------------------+------------+----------------------+-------------------+-------------+\n",
            "|Carrier_Late(1)/on-time(0)|Carrier_Start_Date-Shipping_limit_Days|Carrier_time_diff_Days|Delivery_time_diff_Days|Estimated-Actual_Delivery_Days|Late(1)/on-time(0)|Order_Approval_diff_Days|      Weight/volume|  customer_city|customer_geolocation_lat|customer_geolocation_lng|         customer_id|customer_state|  customer_unique_id|customer_zip_code_prefix|      freight/price|freight_value| id|  order_approved_at|order_delivered_carrier_date|order_delivered_customer_date|order_estimated_delivery_date|            order_id|order_item_id|order_purchase_timestamp|order_status|  payment_type_count|  payment_type_value|price|product_category_name_english|product_description_lenght|product_height_cm|          product_id|product_length_cm|product_name_lenght|product_photos_qty|product_weight_g|product_width_cm|review_comment_message|           review_id|review_score|seller_city|seller_geolocation_lat|seller_geolocation_lng|           seller_id|seller_state|seller_zip_code_prefix|shipping_limit_date|total_payment|\n",
            "+--------------------------+--------------------------------------+----------------------+-----------------------+------------------------------+------------------+------------------------+-------------------+---------------+------------------------+------------------------+--------------------+--------------+--------------------+------------------------+-------------------+-------------+---+-------------------+----------------------------+-----------------------------+-----------------------------+--------------------+-------------+------------------------+------------+--------------------+--------------------+-----+-----------------------------+--------------------------+-----------------+--------------------+-----------------+-------------------+------------------+----------------+----------------+----------------------+--------------------+------------+-----------+----------------------+----------------------+--------------------+------------+----------------------+-------------------+-------------+\n",
            "|                         0|                    1.8558449074074075|     20.19236111111111|     28.233333333333334|             2.328472222222222|                 0|      0.8965277777777778|0.04751461988304093|       brasilia|            -16.02294658|            -48.05071816|e2dc0b0cef1781793...|            DF|4f308d513ccac2840...|                   72457| 0.2629536921151439|        21.01|  0|2017-04-25 08:02:00|         2017-05-02 11:30:00|          2017-05-22 16:07:00|          2017-05-25 00:00:00|b6fa6ea37aeeb90c9...|            1|     2017-04-24 10:31:00|   delivered|  [[0], 4, 0, [1.0]]|[[0], 4, 0, [100....| 79.9|                health_beauty|                      1400|             20.0|8a4505505378c8f5d...|             19.0|                 47|                 1|           325.0|            18.0|                  null|11bbc10384b40b673...|           5|    lajeado|          -29.44657989|          -51.96120191|062ce95fa2ad4dfae...|          RS|                 95913|2017-05-04 08:02:25|       100.91|\n",
            "|                         0|                    1.0055787037037036|     6.997222222222222|     11.991666666666667|             8.330555555555556|                 0|                     0.0|0.10796221322537113|      concordia|            -27.23090863|             -52.0454811|60c9723c5d232b784...|            SC|6b3b92110c5adfe4a...|                   89705|0.34653937947494035|        14.52|  1|2017-03-16 16:16:00|         2017-03-21 16:08:00|          2017-03-28 16:04:00|          2017-04-06 00:00:00|87a838f48767365e2...|            1|     2017-03-16 16:16:00|   delivered|  [[1], 4, 0, [1.0]]|[[1], 4, 0, [56.42]]| 41.9|               bed_bath_table|                       999|             13.0|cd82271424be95688...|             19.0|                 56|                 1|           400.0|            15.0|  Adorei o produto ...|654815c89e6174154...|           5|    lajeado|          -29.44657989|          -51.96120191|062ce95fa2ad4dfae...|          RS|                 95913|2017-03-22 16:16:02|        56.42|\n",
            "|                         1|                   -23.769895833333333|     6.017361111111111|     36.895833333333336|            -9.895138888888889|                 1|      1.1083333333333334|0.10796221322537113|      catanduva|            -21.12102843|            -48.97081828|65d631d0de3181168...|            SP|78fcceb499ec9008f...|                   15804|0.42768496420047736|        17.92|  2|2017-08-31 02:35:00|         2017-09-29 21:04:00|          2017-10-05 21:29:00|          2017-09-26 00:00:00|8afd15d26436c6044...|            1|     2017-08-29 23:59:00|   delivered|  [[0], 4, 0, [1.0]]|[[0], 4, 0, [59.82]]| 41.9|               bed_bath_table|                       999|             13.0|cd82271424be95688...|             19.0|                 56|                 1|           400.0|            15.0|                  null|a112a50d46519520d...|           3|    lajeado|          -29.44657989|          -51.96120191|062ce95fa2ad4dfae...|          RS|                 95913|2017-09-06 02:35:21|        59.82|\n",
            "|                         1|                   -0.1158912037037037|     3.027083333333333|      9.154166666666667|            10.464583333333334|                 0|    0.011111111111111112|0.25396825396825395|       sao jose|            -27.59580821|            -48.61619711|8ac1fe94e53325560...|            SC|ec81d1c881757b8d0...|                   88102|  0.360381861575179|         15.1|  3|2017-05-12 09:25:00|         2017-05-18 12:12:00|          2017-05-21 12:51:00|          2017-06-01 00:00:00|1a494062b68a8ed99...|            1|     2017-05-12 09:09:00|   delivered|[[1, 3], 4, 0, [2...|[[1, 3], 4, 0, [4...| 41.9|              furniture_decor|                       683|              5.0|4da03293502189784...|             21.0|                 63|                 1|           400.0|            15.0|  Gostaria apenas q...|48fe29ff7afb01dc5...|           5|    lajeado|          -29.44657989|          -51.96120191|062ce95fa2ad4dfae...|          RS|                 95913|2017-05-18 09:25:07|         57.0|\n",
            "|                         1|                  -0.16960648148148147|     3.097916666666667|                11.1125|             7.285416666666666|                 0|      1.8444444444444446|0.25396825396825395|     nova prata|             -28.7822546|            -51.60921297|fec424751aa87f545...|            RS|e8a195f60d266e458...|                   95320| 0.2978520286396182|        12.48|  4|2017-06-20 10:43:00|         2017-06-26 14:48:00|          2017-06-29 17:09:00|          2017-07-07 00:00:00|288ec48ad5ea4c98a...|            1|     2017-06-18 14:27:00|   delivered|  [[0], 4, 0, [1.0]]|[[0], 4, 0, [54.38]]| 41.9|              furniture_decor|                       683|              5.0|4da03293502189784...|             21.0|                 63|                 1|           400.0|            15.0|                  null|9009e7e25f6a8e458...|           5|    lajeado|          -29.44657989|          -51.96120191|062ce95fa2ad4dfae...|          RS|                 95913|2017-06-26 10:43:46|        54.38|\n",
            "|                         0|                     2.901226851851852|    4.6722222222222225|      8.782638888888888|                      22.76875|                 0|    0.011111111111111112|0.06932773109243698| rio de janeiro|            -22.91934258|            -43.21542322|5b1744540d6008b84...|            RJ|10e49f47dc1cd4cdf...|                   20260| 0.6423558897243108|        25.63|  5|2017-05-18 11:02:00|         2017-05-22 13:25:00|          2017-05-27 05:33:00|          2017-06-19 00:00:00|fb86c32ba3e47fe56...|            1|     2017-05-18 10:46:00|   delivered|  [[1], 4, 0, [6.0]]|[[1], 4, 0, [65.53]]| 39.9|               bed_bath_table|                       204|             14.0|4b703444923b5e57b...|             17.0|                 49|                 1|           264.0|            16.0|                  null|a5721b28290f94e9a...|           5|    lajeado|          -29.44657989|          -51.96120191|062ce95fa2ad4dfae...|          RS|                 95913|2017-05-25 11:02:46|        65.53|\n",
            "|                         0|                    1.4480208333333333|               13.0875|     15.654166666666667|              9.33611111111111|                 0|    0.014583333333333334|0.10796221322537113|      guarulhos|            -23.40404596|            -46.41877432|9c64cd776ee9f018a...|            SP|9df0c554a0b37fc0c...|                    7179|0.02625298329355609|          1.1|  6|2017-09-10 00:35:00|         2017-09-12 13:50:00|          2017-09-25 15:56:00|          2017-10-05 00:00:00|0cda834be88c6e549...|            1|     2017-09-10 00:14:00|   delivered| [[1], 4, 0, [10.0]]|[[1], 4, 0, [243....| 41.9|               bed_bath_table|                       999|             13.0|cd82271424be95688...|             19.0|                 56|                 1|           400.0|            15.0|  Fiz a compra e ch...|be4e16abeb792466b...|           3|    lajeado|          -29.44657989|          -51.96120191|062ce95fa2ad4dfae...|          RS|                 95913|2017-09-14 00:35:09|       243.12|\n",
            "|                         0|                    0.6376851851851851|     7.232638888888889|     11.604166666666666|            17.522916666666667|                 0|    0.009027777777777777|0.21077712609970675|      sao paulo|             -23.5495057|            -46.64843251|aafa66416bb386613...|            SP|76bf559b3b17a29c5...|                    1303| 0.0770955501897206|        22.35|  7|2017-04-29 21:10:00|         2017-05-04 05:52:00|          2017-05-11 11:27:00|          2017-05-29 00:00:00|ee7b9fca242afe884...|            1|     2017-04-29 20:57:00|   delivered|  [[1], 4, 0, [5.0]]|[[1], 4, 0, [312....|289.9|                 market_place|                       537|              8.0|ff922797a6771cab4...|             31.0|                 37|                 3|          1725.0|            33.0|  Percebi q havia p...|72b1153250e95ec4b...|           3|    lajeado|          -29.44657989|          -51.96120191|062ce95fa2ad4dfae...|          RS|                 95913|2017-05-04 21:10:16|       312.25|\n",
            "|                         0|                     1.532199074074074|     7.035416666666666|      9.503472222222221|            23.379166666666666|                 0|    0.009027777777777777|0.21179537308569565|      sao paulo|             -23.6187658|            -46.64940227|3bc3ad02b60f18345...|            SP|d616b371aae4ce572...|                    4064|0.09568193786203265|        18.17|  8|2017-02-22 03:02:00|         2017-02-24 14:03:00|          2017-03-03 14:54:00|          2017-03-27 00:00:00|f8470371533c258e0...|            1|     2017-02-22 02:49:00|   delivered|  [[1], 4, 0, [3.0]]|[[1], 4, 0, [208....|189.9|              furniture_decor|                       537|              6.0|3efe696e322f9139e...|             31.0|                 40|                 3|          1300.0|            33.0|  O produto não aqu...|d63c849ea6d81cf7c...|           1|    lajeado|          -29.44657989|          -51.96120191|062ce95fa2ad4dfae...|          RS|                 95913|2017-02-26 02:49:22|       208.07|\n",
            "|                         0|                    3.7165393518518517|                6.5875|      6.871527777777778|                       35.4125|                 0|    0.009722222222222222|0.25396825396825395| rio de janeiro|            -22.98392343|            -43.20710147|3e2d140f0acbb3da8...|            RJ|674d55cc522075b79...|                   22410|0.42434367541766116|        17.78|  9|2017-01-31 17:25:00|         2017-02-01 00:00:00|          2017-02-07 14:06:00|          2017-03-15 00:00:00|4d7b93709f08f674f...|            1|     2017-01-31 17:11:00|   delivered|  [[1], 4, 0, [1.0]]|[[1], 4, 0, [119....| 41.9|              furniture_decor|                       683|              5.0|4da03293502189784...|             21.0|                 63|                 1|           400.0|            15.0|                  null|91712508056632bf3...|           4|    lajeado|          -29.44657989|          -51.96120191|062ce95fa2ad4dfae...|          RS|                 95913|2017-02-04 17:11:49|       119.36|\n",
            "|                         0|                    3.7165393518518517|                6.5875|      6.871527777777778|                       35.4125|                 0|    0.009722222222222222|0.25396825396825395| rio de janeiro|            -22.98392343|            -43.20710147|3e2d140f0acbb3da8...|            RJ|674d55cc522075b79...|                   22410|0.42434367541766116|        17.78| 10|2017-01-31 17:25:00|         2017-02-01 00:00:00|          2017-02-07 14:06:00|          2017-03-15 00:00:00|4d7b93709f08f674f...|            2|     2017-01-31 17:11:00|   delivered|  [[1], 4, 0, [1.0]]|[[1], 4, 0, [119....| 41.9|              furniture_decor|                       683|              5.0|4da03293502189784...|             21.0|                 63|                 1|           400.0|            15.0|                  null|91712508056632bf3...|           4|    lajeado|          -29.44657989|          -51.96120191|062ce95fa2ad4dfae...|          RS|                 95913|2017-02-04 17:11:49|       119.36|\n",
            "|                         1|                   -3.9480092592592593|     3.126388888888889|      11.08611111111111|            13.088194444444444|                 0|    0.011111111111111112|0.21179537308569565|      sao paulo|            -23.56118966|            -46.47448584|bbf249561e84f966c...|            SP|76888ec0e2d5b7de5...|                    8280|0.10832016850974197|        20.57| 11|2017-08-21 20:05:00|         2017-08-29 18:51:00|          2017-09-01 21:53:00|          2017-09-15 00:00:00|ae1cb31659e2cf358...|            1|     2017-08-21 19:49:00|   delivered|  [[1], 4, 0, [4.0]]|[[1], 4, 0, [210....|189.9|              furniture_decor|                       537|              6.0|3efe696e322f9139e...|             31.0|                 40|                 3|          1300.0|            33.0|                  null|e0b2eab149eb41f3f...|           5|    lajeado|          -29.44657989|          -51.96120191|062ce95fa2ad4dfae...|          RS|                 95913|2017-08-25 20:05:52|       210.47|\n",
            "|                         0|                    3.2258680555555554|               9.01875|     11.802777777777777|             20.42222222222222|                 0|    0.009722222222222222|0.21179537308569565|pocos de caldas|            -21.78913132|            -46.56757074|8326dc987e109ccc7...|            MG|19e74a05536d13b34...|                   37701|0.19299631384939442|        36.65| 12|2017-05-19 18:50:00|         2017-05-22 13:25:00|          2017-05-31 13:52:00|          2017-06-21 00:00:00|d7108e3ddf254c6b5...|            1|     2017-05-19 18:36:00|   delivered|  [[1], 4, 0, [1.0]]|[[1], 4, 0, [226....|189.9|              furniture_decor|                       537|              6.0|3efe696e322f9139e...|             31.0|                 40|                 3|          1300.0|            33.0|                  null|4d482fdd3daec0366...|           5|    lajeado|          -29.44657989|          -51.96120191|062ce95fa2ad4dfae...|          RS|                 95913|2017-05-25 18:50:15|       226.55|\n",
            "|                         0|                     5.167638888888889|              12.20625|     14.046527777777778|                      14.31875|                 0|    0.007638888888888889|0.14436543848308553|        rodeiro|            -21.20018316|            -42.86603309|d2cfabab731178547...|            MG|a82d9e16794b2921f...|                   36510|0.26656856974690996|        45.29| 13|2017-04-25 15:25:00|         2017-04-27 11:24:00|          2017-05-09 16:21:00|          2017-05-24 00:00:00|e1e2b559781f43694...|            1|     2017-04-25 15:14:00|   delivered|  [[1], 4, 0, [6.0]]|[[1], 4, 0, [215....|169.9|              furniture_decor|                       548|             51.0|8d746e360a815705b...|             70.0|                 34|                 1|          6700.0|            13.0|  Loja séria com se...|c2fac1392a0ab55f8...|           5|    lajeado|          -29.44657989|          -51.96120191|062ce95fa2ad4dfae...|          RS|                 95913|2017-05-02 15:25:24|       215.19|\n",
            "|                         1|                   -1.1970486111111112|     7.045138888888889|      16.24861111111111|                        7.3375|                 0|                 0.00625|0.05847953216374269|     rio do sul|            -27.18228119|            -49.60640969|1ad05de046ac6a5e9...|            SC|d9d506dbb65bdc1f8...|                   89162| 0.1916145181476846|        15.31| 14|2017-06-20 10:05:00|         2017-06-29 14:49:00|          2017-07-06 15:54:00|          2017-07-14 00:00:00|e21677585042e206b...|            1|     2017-06-20 09:56:00|   delivered|  [[1], 4, 0, [9.0]]|[[1], 4, 0, [95.21]]| 79.9|                health_beauty|                      1400|             20.0|8c96a6969d0fad206...|             19.0|                 50|                 1|           400.0|            18.0|   Excelente recomendo|94691b18bf047b007...|           5|    lajeado|          -29.44657989|          -51.96120191|062ce95fa2ad4dfae...|          RS|                 95913|2017-06-28 10:05:15|        95.21|\n",
            "|                         0|                    0.1904861111111111|     4.947222222222222|       8.76736111111111|            15.352083333333333|                 0|    0.010416666666666666|0.21179537308569565|      sao paulo|            -23.52813994|            -46.50066365|b93f595ad6dd63fa5...|            SP|f80521e48c7cb490d...|                    3658|0.10832016850974197|        20.57| 15|2017-07-09 21:23:00|         2017-07-13 16:49:00|          2017-07-18 15:33:00|          2017-08-03 00:00:00|a509a0a8522e394f8...|            1|     2017-07-09 21:08:00|   delivered|  [[1], 4, 0, [8.0]]|[[1], 4, 0, [210....|189.9|              furniture_decor|                       537|              6.0|3efe696e322f9139e...|             31.0|                 40|                 3|          1300.0|            33.0|  Acho q a empresa ...|f5388e20b7d050a39...|           4|    lajeado|          -29.44657989|          -51.96120191|062ce95fa2ad4dfae...|          RS|                 95913|2017-07-13 21:23:18|       210.47|\n",
            "|                         0|                     1.499525462962963|     3.011111111111111|      7.518055555555556|             17.57847222222222|                 0|                 0.00625|0.21179537308569565|      sao paulo|            -23.61153067|            -46.73636662|2945f7826483e9c73...|            SP|334cc44b9272d44bc...|                    5630|0.10832016850974197|        20.57| 16|2017-06-28 21:50:00|         2017-07-03 09:51:00|          2017-07-06 10:07:00|          2017-07-24 00:00:00|f58d7e09ece55d81a...|            1|     2017-06-28 21:41:00|   delivered|  [[1], 4, 0, [1.0]]|[[1], 4, 0, [631....|189.9|              furniture_decor|                       537|              6.0|3efe696e322f9139e...|             31.0|                 40|                 3|          1300.0|            33.0|                  null|c9d483edb6d9174a8...|           5|    lajeado|          -29.44657989|          -51.96120191|062ce95fa2ad4dfae...|          RS|                 95913|2017-07-04 21:50:19|       631.41|\n",
            "|                         0|                     1.499525462962963|     3.011111111111111|      7.518055555555556|             17.57847222222222|                 0|                 0.00625|0.21179537308569565|      sao paulo|            -23.61153067|            -46.73636662|2945f7826483e9c73...|            SP|334cc44b9272d44bc...|                    5630|0.10832016850974197|        20.57| 17|2017-06-28 21:50:00|         2017-07-03 09:51:00|          2017-07-06 10:07:00|          2017-07-24 00:00:00|f58d7e09ece55d81a...|            2|     2017-06-28 21:41:00|   delivered|  [[1], 4, 0, [1.0]]|[[1], 4, 0, [631....|189.9|              furniture_decor|                       537|              6.0|3efe696e322f9139e...|             31.0|                 40|                 3|          1300.0|            33.0|                  null|c9d483edb6d9174a8...|           5|    lajeado|          -29.44657989|          -51.96120191|062ce95fa2ad4dfae...|          RS|                 95913|2017-07-04 21:50:19|       631.41|\n",
            "|                         0|                     1.499525462962963|     3.011111111111111|      7.518055555555556|             17.57847222222222|                 0|                 0.00625|0.21179537308569565|      sao paulo|            -23.61153067|            -46.73636662|2945f7826483e9c73...|            SP|334cc44b9272d44bc...|                    5630|0.10832016850974197|        20.57| 18|2017-06-28 21:50:00|         2017-07-03 09:51:00|          2017-07-06 10:07:00|          2017-07-24 00:00:00|f58d7e09ece55d81a...|            3|     2017-06-28 21:41:00|   delivered|  [[1], 4, 0, [1.0]]|[[1], 4, 0, [631....|189.9|              furniture_decor|                       537|              6.0|3efe696e322f9139e...|             31.0|                 40|                 3|          1300.0|            33.0|                  null|c9d483edb6d9174a8...|           5|    lajeado|          -29.44657989|          -51.96120191|062ce95fa2ad4dfae...|          RS|                 95913|2017-07-04 21:50:19|       631.41|\n",
            "|                         0|                     5.246400462962963|     5.667361111111111|     6.4215277777777775|                         11.65|                 0|                     0.0|0.21077712609970675|  caxias do sul|            -29.17266949|            -51.21072934|5e320e6a4f03e2e74...|            RS|8a2530b1bf32235ed...|                   95012| 0.0545015522593998|         15.8| 19|2017-03-09 22:17:00|         2017-03-10 16:23:00|          2017-03-16 08:24:00|          2017-03-28 00:00:00|a840a7a89e3d91373...|            1|     2017-03-09 22:17:00|   delivered|  [[1], 4, 0, [5.0]]|[[1], 4, 0, [305.7]]|289.9|                 market_place|                       537|              8.0|ff922797a6771cab4...|             31.0|                 37|                 3|          1725.0|            33.0|                  null|530bc04383c4dded4...|           5|    lajeado|          -29.44657989|          -51.96120191|062ce95fa2ad4dfae...|          RS|                 95913|2017-03-15 22:17:49|        305.7|\n",
            "+--------------------------+--------------------------------------+----------------------+-----------------------+------------------------------+------------------+------------------------+-------------------+---------------+------------------------+------------------------+--------------------+--------------+--------------------+------------------------+-------------------+-------------+---+-------------------+----------------------------+-----------------------------+-----------------------------+--------------------+-------------+------------------------+------------+--------------------+--------------------+-----+-----------------------------+--------------------------+-----------------+--------------------+-----------------+-------------------+------------------+----------------+----------------+----------------------+--------------------+------------+-----------+----------------------+----------------------+--------------------+------------+----------------------+-------------------+-------------+\n",
            "only showing top 20 rows\n",
            "\n"
          ],
          "name": "stdout"
        }
      ]
    },
    {
      "cell_type": "code",
      "metadata": {
        "id": "kPfNqbaOPZri",
        "colab_type": "code",
        "colab": {}
      },
      "source": [
        "## change \"review score\" to IntegerType\n",
        "from pyspark.sql.types import IntegerType\n",
        "final_order = final_order.withColumn(\"review_score\", final_order[\"review_score\"].cast(IntegerType()))"
      ],
      "execution_count": 0,
      "outputs": []
    },
    {
      "cell_type": "markdown",
      "metadata": {
        "id": "QnC9G07-NRnY",
        "colab_type": "text"
      },
      "source": [
        "## Create the variable \"Distance Between Seller Coordinates and Customer Coordinates\""
      ]
    },
    {
      "cell_type": "code",
      "metadata": {
        "id": "7HbgTz5VNeia",
        "colab_type": "code",
        "colab": {}
      },
      "source": [
        "from pyspark import SparkContext\n",
        "from pyspark.sql import SparkSession\n",
        "from pyspark.sql.types import *\n",
        "from pyspark.sql import functions as F\n",
        "from pyspark.sql import DataFrameWriter as W\n",
        "from math import radians, cos, sin, asin, sqrt"
      ],
      "execution_count": 0,
      "outputs": []
    },
    {
      "cell_type": "code",
      "metadata": {
        "id": "l3jbFumINf1S",
        "colab_type": "code",
        "colab": {}
      },
      "source": [
        "def get_distance(longit_a, latit_a, longit_b, latit_b):\n",
        "  # Transform to radians\n",
        "  longit_a, latit_a, longit_b, latit_b = map(radians, [longit_a,  latit_a, longit_b, latit_b])\n",
        "  dist_longit =  (longit_b - longit_a)\n",
        "  dist_latit = latit_b - latit_a\n",
        "  # Calculate area\n",
        "  area = sin(dist_latit/2)**2 + cos(latit_a) * cos(latit_b) * sin(dist_longit/2)**2\n",
        "  # Calculate the central angle\n",
        "  central_angle = 2 * asin(sqrt(area))\n",
        "  radius = 6371\n",
        "  # Calculate Distance\n",
        "  distance = central_angle * radius\n",
        "  return abs(round(distance, 2))\n",
        "udf_get_distance = F.udf(get_distance)"
      ],
      "execution_count": 0,
      "outputs": []
    },
    {
      "cell_type": "code",
      "metadata": {
        "id": "2nqMXFmhNhUI",
        "colab_type": "code",
        "outputId": "8a9a6ae7-9bef-4185-8a6a-718c9a5d428c",
        "colab": {
          "base_uri": "https://localhost:8080/",
          "height": 34
        }
      },
      "source": [
        "get_distance(-43.20710147,-22.98392343,-51.96120191,-29.44657989)"
      ],
      "execution_count": 0,
      "outputs": [
        {
          "output_type": "execute_result",
          "data": {
            "text/plain": [
              "1130.2"
            ]
          },
          "metadata": {
            "tags": []
          },
          "execution_count": 14
        }
      ]
    },
    {
      "cell_type": "code",
      "metadata": {
        "id": "bKOaNH8-NjM6",
        "colab_type": "code",
        "outputId": "f4954f9c-7abe-4847-ba07-4757a3a939f4",
        "colab": {
          "base_uri": "https://localhost:8080/",
          "height": 479
        }
      },
      "source": [
        "x = udf_get_distance(final_order['customer_geolocation_lng'],final_order['customer_geolocation_lat'],final_order['seller_geolocation_lng'],final_order['seller_geolocation_lat'])\n",
        "final_order = final_order.withColumn(\"Distance_Sell_Cust\", x)\n",
        "final_order = final_order.withColumn(\"Distance_Sell_Cust\", final_order[\"Distance_Sell_Cust\"].cast(FloatType()))\n",
        "final_order.show()"
      ],
      "execution_count": 0,
      "outputs": [
        {
          "output_type": "stream",
          "text": [
            "+--------------------------+--------------------------------------+----------------------+-----------------------+------------------------------+------------------+------------------------+-------------------+---------------+------------------------+------------------------+--------------------+--------------+--------------------+------------------------+-------------------+-------------+---+-------------------+----------------------------+-----------------------------+-----------------------------+--------------------+-------------+------------------------+------------+--------------------+--------------------+-----+-----------------------------+--------------------------+-----------------+--------------------+-----------------+-------------------+------------------+----------------+----------------+----------------------+--------------------+------------+-----------+----------------------+----------------------+--------------------+------------+----------------------+-------------------+-------------+------------------+\n",
            "|Carrier_Late(1)/on-time(0)|Carrier_Start_Date-Shipping_limit_Days|Carrier_time_diff_Days|Delivery_time_diff_Days|Estimated-Actual_Delivery_Days|Late(1)/on-time(0)|Order_Approval_diff_Days|      Weight/volume|  customer_city|customer_geolocation_lat|customer_geolocation_lng|         customer_id|customer_state|  customer_unique_id|customer_zip_code_prefix|      freight/price|freight_value| id|  order_approved_at|order_delivered_carrier_date|order_delivered_customer_date|order_estimated_delivery_date|            order_id|order_item_id|order_purchase_timestamp|order_status|  payment_type_count|  payment_type_value|price|product_category_name_english|product_description_lenght|product_height_cm|          product_id|product_length_cm|product_name_lenght|product_photos_qty|product_weight_g|product_width_cm|review_comment_message|           review_id|review_score|seller_city|seller_geolocation_lat|seller_geolocation_lng|           seller_id|seller_state|seller_zip_code_prefix|shipping_limit_date|total_payment|Distance_Sell_Cust|\n",
            "+--------------------------+--------------------------------------+----------------------+-----------------------+------------------------------+------------------+------------------------+-------------------+---------------+------------------------+------------------------+--------------------+--------------+--------------------+------------------------+-------------------+-------------+---+-------------------+----------------------------+-----------------------------+-----------------------------+--------------------+-------------+------------------------+------------+--------------------+--------------------+-----+-----------------------------+--------------------------+-----------------+--------------------+-----------------+-------------------+------------------+----------------+----------------+----------------------+--------------------+------------+-----------+----------------------+----------------------+--------------------+------------+----------------------+-------------------+-------------+------------------+\n",
            "|                         0|                    1.8558449074074075|     20.19236111111111|     28.233333333333334|             2.328472222222222|                 0|      0.8965277777777778|0.04751461988304093|       brasilia|            -16.02294658|            -48.05071816|e2dc0b0cef1781793...|            DF|4f308d513ccac2840...|                   72457| 0.2629536921151439|        21.01|  0|2017-04-25 08:02:00|         2017-05-02 11:30:00|          2017-05-22 16:07:00|          2017-05-25 00:00:00|b6fa6ea37aeeb90c9...|            1|     2017-04-24 10:31:00|   delivered|  [[0], 4, 0, [1.0]]|[[0], 4, 0, [100....| 79.9|                health_beauty|                      1400|             20.0|8a4505505378c8f5d...|             19.0|                 47|                 1|           325.0|            18.0|                  null|11bbc10384b40b673...|           5|    lajeado|          -29.44657989|          -51.96120191|062ce95fa2ad4dfae...|          RS|                 95913|2017-05-04 08:02:25|       100.91|           1545.21|\n",
            "|                         0|                    1.0055787037037036|     6.997222222222222|     11.991666666666667|             8.330555555555556|                 0|                     0.0|0.10796221322537113|      concordia|            -27.23090863|             -52.0454811|60c9723c5d232b784...|            SC|6b3b92110c5adfe4a...|                   89705|0.34653937947494035|        14.52|  1|2017-03-16 16:16:00|         2017-03-21 16:08:00|          2017-03-28 16:04:00|          2017-04-06 00:00:00|87a838f48767365e2...|            1|     2017-03-16 16:16:00|   delivered|  [[1], 4, 0, [1.0]]|[[1], 4, 0, [56.42]]| 41.9|               bed_bath_table|                       999|             13.0|cd82271424be95688...|             19.0|                 56|                 1|           400.0|            15.0|  Adorei o produto ...|654815c89e6174154...|           5|    lajeado|          -29.44657989|          -51.96120191|062ce95fa2ad4dfae...|          RS|                 95913|2017-03-22 16:16:02|        56.42|            246.51|\n",
            "|                         1|                   -23.769895833333333|     6.017361111111111|     36.895833333333336|            -9.895138888888889|                 1|      1.1083333333333334|0.10796221322537113|      catanduva|            -21.12102843|            -48.97081828|65d631d0de3181168...|            SP|78fcceb499ec9008f...|                   15804|0.42768496420047736|        17.92|  2|2017-08-31 02:35:00|         2017-09-29 21:04:00|          2017-10-05 21:29:00|          2017-09-26 00:00:00|8afd15d26436c6044...|            1|     2017-08-29 23:59:00|   delivered|  [[0], 4, 0, [1.0]]|[[0], 4, 0, [59.82]]| 41.9|               bed_bath_table|                       999|             13.0|cd82271424be95688...|             19.0|                 56|                 1|           400.0|            15.0|                  null|a112a50d46519520d...|           3|    lajeado|          -29.44657989|          -51.96120191|062ce95fa2ad4dfae...|          RS|                 95913|2017-09-06 02:35:21|        59.82|            973.22|\n",
            "|                         1|                   -0.1158912037037037|     3.027083333333333|      9.154166666666667|            10.464583333333334|                 0|    0.011111111111111112|0.25396825396825395|       sao jose|            -27.59580821|            -48.61619711|8ac1fe94e53325560...|            SC|ec81d1c881757b8d0...|                   88102|  0.360381861575179|         15.1|  3|2017-05-12 09:25:00|         2017-05-18 12:12:00|          2017-05-21 12:51:00|          2017-06-01 00:00:00|1a494062b68a8ed99...|            1|     2017-05-12 09:09:00|   delivered|[[1, 3], 4, 0, [2...|[[1, 3], 4, 0, [4...| 41.9|              furniture_decor|                       683|              5.0|4da03293502189784...|             21.0|                 63|                 1|           400.0|            15.0|  Gostaria apenas q...|48fe29ff7afb01dc5...|           5|    lajeado|          -29.44657989|          -51.96120191|062ce95fa2ad4dfae...|          RS|                 95913|2017-05-18 09:25:07|         57.0|            386.18|\n",
            "|                         1|                  -0.16960648148148147|     3.097916666666667|                11.1125|             7.285416666666666|                 0|      1.8444444444444446|0.25396825396825395|     nova prata|             -28.7822546|            -51.60921297|fec424751aa87f545...|            RS|e8a195f60d266e458...|                   95320| 0.2978520286396182|        12.48|  4|2017-06-20 10:43:00|         2017-06-26 14:48:00|          2017-06-29 17:09:00|          2017-07-07 00:00:00|288ec48ad5ea4c98a...|            1|     2017-06-18 14:27:00|   delivered|  [[0], 4, 0, [1.0]]|[[0], 4, 0, [54.38]]| 41.9|              furniture_decor|                       683|              5.0|4da03293502189784...|             21.0|                 63|                 1|           400.0|            15.0|                  null|9009e7e25f6a8e458...|           5|    lajeado|          -29.44657989|          -51.96120191|062ce95fa2ad4dfae...|          RS|                 95913|2017-06-26 10:43:46|        54.38|              81.4|\n",
            "|                         0|                     2.901226851851852|    4.6722222222222225|      8.782638888888888|                      22.76875|                 0|    0.011111111111111112|0.06932773109243698| rio de janeiro|            -22.91934258|            -43.21542322|5b1744540d6008b84...|            RJ|10e49f47dc1cd4cdf...|                   20260| 0.6423558897243108|        25.63|  5|2017-05-18 11:02:00|         2017-05-22 13:25:00|          2017-05-27 05:33:00|          2017-06-19 00:00:00|fb86c32ba3e47fe56...|            1|     2017-05-18 10:46:00|   delivered|  [[1], 4, 0, [6.0]]|[[1], 4, 0, [65.53]]| 39.9|               bed_bath_table|                       204|             14.0|4b703444923b5e57b...|             17.0|                 49|                 1|           264.0|            16.0|                  null|a5721b28290f94e9a...|           5|    lajeado|          -29.44657989|          -51.96120191|062ce95fa2ad4dfae...|          RS|                 95913|2017-05-25 11:02:46|        65.53|           1134.32|\n",
            "|                         0|                    1.4480208333333333|               13.0875|     15.654166666666667|              9.33611111111111|                 0|    0.014583333333333334|0.10796221322537113|      guarulhos|            -23.40404596|            -46.41877432|9c64cd776ee9f018a...|            SP|9df0c554a0b37fc0c...|                    7179|0.02625298329355609|          1.1|  6|2017-09-10 00:35:00|         2017-09-12 13:50:00|          2017-09-25 15:56:00|          2017-10-05 00:00:00|0cda834be88c6e549...|            1|     2017-09-10 00:14:00|   delivered| [[1], 4, 0, [10.0]]|[[1], 4, 0, [243....| 41.9|               bed_bath_table|                       999|             13.0|cd82271424be95688...|             19.0|                 56|                 1|           400.0|            15.0|  Fiz a compra e ch...|be4e16abeb792466b...|           3|    lajeado|          -29.44657989|          -51.96120191|062ce95fa2ad4dfae...|          RS|                 95913|2017-09-14 00:35:09|       243.12|            869.19|\n",
            "|                         0|                    0.6376851851851851|     7.232638888888889|     11.604166666666666|            17.522916666666667|                 0|    0.009027777777777777|0.21077712609970675|      sao paulo|             -23.5495057|            -46.64843251|aafa66416bb386613...|            SP|76bf559b3b17a29c5...|                    1303| 0.0770955501897206|        22.35|  7|2017-04-29 21:10:00|         2017-05-04 05:52:00|          2017-05-11 11:27:00|          2017-05-29 00:00:00|ee7b9fca242afe884...|            1|     2017-04-29 20:57:00|   delivered|  [[1], 4, 0, [5.0]]|[[1], 4, 0, [312....|289.9|                 market_place|                       537|              8.0|ff922797a6771cab4...|             31.0|                 37|                 3|          1725.0|            33.0|  Percebi q havia p...|72b1153250e95ec4b...|           3|    lajeado|          -29.44657989|          -51.96120191|062ce95fa2ad4dfae...|          RS|                 95913|2017-05-04 21:10:16|       312.25|            842.03|\n",
            "|                         0|                     1.532199074074074|     7.035416666666666|      9.503472222222221|            23.379166666666666|                 0|    0.009027777777777777|0.21179537308569565|      sao paulo|             -23.6187658|            -46.64940227|3bc3ad02b60f18345...|            SP|d616b371aae4ce572...|                    4064|0.09568193786203265|        18.17|  8|2017-02-22 03:02:00|         2017-02-24 14:03:00|          2017-03-03 14:54:00|          2017-03-27 00:00:00|f8470371533c258e0...|            1|     2017-02-22 02:49:00|   delivered|  [[1], 4, 0, [3.0]]|[[1], 4, 0, [208....|189.9|              furniture_decor|                       537|              6.0|3efe696e322f9139e...|             31.0|                 40|                 3|          1300.0|            33.0|  O produto não aqu...|d63c849ea6d81cf7c...|           1|    lajeado|          -29.44657989|          -51.96120191|062ce95fa2ad4dfae...|          RS|                 95913|2017-02-26 02:49:22|       208.07|            835.89|\n",
            "|                         0|                    3.7165393518518517|                6.5875|      6.871527777777778|                       35.4125|                 0|    0.009722222222222222|0.25396825396825395| rio de janeiro|            -22.98392343|            -43.20710147|3e2d140f0acbb3da8...|            RJ|674d55cc522075b79...|                   22410|0.42434367541766116|        17.78|  9|2017-01-31 17:25:00|         2017-02-01 00:00:00|          2017-02-07 14:06:00|          2017-03-15 00:00:00|4d7b93709f08f674f...|            1|     2017-01-31 17:11:00|   delivered|  [[1], 4, 0, [1.0]]|[[1], 4, 0, [119....| 41.9|              furniture_decor|                       683|              5.0|4da03293502189784...|             21.0|                 63|                 1|           400.0|            15.0|                  null|91712508056632bf3...|           4|    lajeado|          -29.44657989|          -51.96120191|062ce95fa2ad4dfae...|          RS|                 95913|2017-02-04 17:11:49|       119.36|            1130.2|\n",
            "|                         0|                    3.7165393518518517|                6.5875|      6.871527777777778|                       35.4125|                 0|    0.009722222222222222|0.25396825396825395| rio de janeiro|            -22.98392343|            -43.20710147|3e2d140f0acbb3da8...|            RJ|674d55cc522075b79...|                   22410|0.42434367541766116|        17.78| 10|2017-01-31 17:25:00|         2017-02-01 00:00:00|          2017-02-07 14:06:00|          2017-03-15 00:00:00|4d7b93709f08f674f...|            2|     2017-01-31 17:11:00|   delivered|  [[1], 4, 0, [1.0]]|[[1], 4, 0, [119....| 41.9|              furniture_decor|                       683|              5.0|4da03293502189784...|             21.0|                 63|                 1|           400.0|            15.0|                  null|91712508056632bf3...|           4|    lajeado|          -29.44657989|          -51.96120191|062ce95fa2ad4dfae...|          RS|                 95913|2017-02-04 17:11:49|       119.36|            1130.2|\n",
            "|                         1|                   -3.9480092592592593|     3.126388888888889|      11.08611111111111|            13.088194444444444|                 0|    0.011111111111111112|0.21179537308569565|      sao paulo|            -23.56118966|            -46.47448584|bbf249561e84f966c...|            SP|76888ec0e2d5b7de5...|                    8280|0.10832016850974197|        20.57| 11|2017-08-21 20:05:00|         2017-08-29 18:51:00|          2017-09-01 21:53:00|          2017-09-15 00:00:00|ae1cb31659e2cf358...|            1|     2017-08-21 19:49:00|   delivered|  [[1], 4, 0, [4.0]]|[[1], 4, 0, [210....|189.9|              furniture_decor|                       537|              6.0|3efe696e322f9139e...|             31.0|                 40|                 3|          1300.0|            33.0|                  null|e0b2eab149eb41f3f...|           5|    lajeado|          -29.44657989|          -51.96120191|062ce95fa2ad4dfae...|          RS|                 95913|2017-08-25 20:05:52|       210.47|            851.97|\n",
            "|                         0|                    3.2258680555555554|               9.01875|     11.802777777777777|             20.42222222222222|                 0|    0.009722222222222222|0.21179537308569565|pocos de caldas|            -21.78913132|            -46.56757074|8326dc987e109ccc7...|            MG|19e74a05536d13b34...|                   37701|0.19299631384939442|        36.65| 12|2017-05-19 18:50:00|         2017-05-22 13:25:00|          2017-05-31 13:52:00|          2017-06-21 00:00:00|d7108e3ddf254c6b5...|            1|     2017-05-19 18:36:00|   delivered|  [[1], 4, 0, [1.0]]|[[1], 4, 0, [226....|189.9|              furniture_decor|                       537|              6.0|3efe696e322f9139e...|             31.0|                 40|                 3|          1300.0|            33.0|                  null|4d482fdd3daec0366...|           5|    lajeado|          -29.44657989|          -51.96120191|062ce95fa2ad4dfae...|          RS|                 95913|2017-05-25 18:50:15|       226.55|            1008.3|\n",
            "|                         0|                     5.167638888888889|              12.20625|     14.046527777777778|                      14.31875|                 0|    0.007638888888888889|0.14436543848308553|        rodeiro|            -21.20018316|            -42.86603309|d2cfabab731178547...|            MG|a82d9e16794b2921f...|                   36510|0.26656856974690996|        45.29| 13|2017-04-25 15:25:00|         2017-04-27 11:24:00|          2017-05-09 16:21:00|          2017-05-24 00:00:00|e1e2b559781f43694...|            1|     2017-04-25 15:14:00|   delivered|  [[1], 4, 0, [6.0]]|[[1], 4, 0, [215....|169.9|              furniture_decor|                       548|             51.0|8d746e360a815705b...|             70.0|                 34|                 1|          6700.0|            13.0|  Loja séria com se...|c2fac1392a0ab55f8...|           5|    lajeado|          -29.44657989|          -51.96120191|062ce95fa2ad4dfae...|          RS|                 95913|2017-05-02 15:25:24|       215.19|           1293.74|\n",
            "|                         1|                   -1.1970486111111112|     7.045138888888889|      16.24861111111111|                        7.3375|                 0|                 0.00625|0.05847953216374269|     rio do sul|            -27.18228119|            -49.60640969|1ad05de046ac6a5e9...|            SC|d9d506dbb65bdc1f8...|                   89162| 0.1916145181476846|        15.31| 14|2017-06-20 10:05:00|         2017-06-29 14:49:00|          2017-07-06 15:54:00|          2017-07-14 00:00:00|e21677585042e206b...|            1|     2017-06-20 09:56:00|   delivered|  [[1], 4, 0, [9.0]]|[[1], 4, 0, [95.21]]| 79.9|                health_beauty|                      1400|             20.0|8c96a6969d0fad206...|             19.0|                 50|                 1|           400.0|            18.0|   Excelente recomendo|94691b18bf047b007...|           5|    lajeado|          -29.44657989|          -51.96120191|062ce95fa2ad4dfae...|          RS|                 95913|2017-06-28 10:05:15|        95.21|            341.34|\n",
            "|                         0|                    0.1904861111111111|     4.947222222222222|       8.76736111111111|            15.352083333333333|                 0|    0.010416666666666666|0.21179537308569565|      sao paulo|            -23.52813994|            -46.50066365|b93f595ad6dd63fa5...|            SP|f80521e48c7cb490d...|                    3658|0.10832016850974197|        20.57| 15|2017-07-09 21:23:00|         2017-07-13 16:49:00|          2017-07-18 15:33:00|          2017-08-03 00:00:00|a509a0a8522e394f8...|            1|     2017-07-09 21:08:00|   delivered|  [[1], 4, 0, [8.0]]|[[1], 4, 0, [210....|189.9|              furniture_decor|                       537|              6.0|3efe696e322f9139e...|             31.0|                 40|                 3|          1300.0|            33.0|  Acho q a empresa ...|f5388e20b7d050a39...|           4|    lajeado|          -29.44657989|          -51.96120191|062ce95fa2ad4dfae...|          RS|                 95913|2017-07-13 21:23:18|       210.47|            853.19|\n",
            "|                         0|                     1.499525462962963|     3.011111111111111|      7.518055555555556|             17.57847222222222|                 0|                 0.00625|0.21179537308569565|      sao paulo|            -23.61153067|            -46.73636662|2945f7826483e9c73...|            SP|334cc44b9272d44bc...|                    5630|0.10832016850974197|        20.57| 16|2017-06-28 21:50:00|         2017-07-03 09:51:00|          2017-07-06 10:07:00|          2017-07-24 00:00:00|f58d7e09ece55d81a...|            1|     2017-06-28 21:41:00|   delivered|  [[1], 4, 0, [1.0]]|[[1], 4, 0, [631....|189.9|              furniture_decor|                       537|              6.0|3efe696e322f9139e...|             31.0|                 40|                 3|          1300.0|            33.0|                  null|c9d483edb6d9174a8...|           5|    lajeado|          -29.44657989|          -51.96120191|062ce95fa2ad4dfae...|          RS|                 95913|2017-07-04 21:50:19|       631.41|             831.1|\n",
            "|                         0|                     1.499525462962963|     3.011111111111111|      7.518055555555556|             17.57847222222222|                 0|                 0.00625|0.21179537308569565|      sao paulo|            -23.61153067|            -46.73636662|2945f7826483e9c73...|            SP|334cc44b9272d44bc...|                    5630|0.10832016850974197|        20.57| 17|2017-06-28 21:50:00|         2017-07-03 09:51:00|          2017-07-06 10:07:00|          2017-07-24 00:00:00|f58d7e09ece55d81a...|            2|     2017-06-28 21:41:00|   delivered|  [[1], 4, 0, [1.0]]|[[1], 4, 0, [631....|189.9|              furniture_decor|                       537|              6.0|3efe696e322f9139e...|             31.0|                 40|                 3|          1300.0|            33.0|                  null|c9d483edb6d9174a8...|           5|    lajeado|          -29.44657989|          -51.96120191|062ce95fa2ad4dfae...|          RS|                 95913|2017-07-04 21:50:19|       631.41|             831.1|\n",
            "|                         0|                     1.499525462962963|     3.011111111111111|      7.518055555555556|             17.57847222222222|                 0|                 0.00625|0.21179537308569565|      sao paulo|            -23.61153067|            -46.73636662|2945f7826483e9c73...|            SP|334cc44b9272d44bc...|                    5630|0.10832016850974197|        20.57| 18|2017-06-28 21:50:00|         2017-07-03 09:51:00|          2017-07-06 10:07:00|          2017-07-24 00:00:00|f58d7e09ece55d81a...|            3|     2017-06-28 21:41:00|   delivered|  [[1], 4, 0, [1.0]]|[[1], 4, 0, [631....|189.9|              furniture_decor|                       537|              6.0|3efe696e322f9139e...|             31.0|                 40|                 3|          1300.0|            33.0|                  null|c9d483edb6d9174a8...|           5|    lajeado|          -29.44657989|          -51.96120191|062ce95fa2ad4dfae...|          RS|                 95913|2017-07-04 21:50:19|       631.41|             831.1|\n",
            "|                         0|                     5.246400462962963|     5.667361111111111|     6.4215277777777775|                         11.65|                 0|                     0.0|0.21077712609970675|  caxias do sul|            -29.17266949|            -51.21072934|5e320e6a4f03e2e74...|            RS|8a2530b1bf32235ed...|                   95012| 0.0545015522593998|         15.8| 19|2017-03-09 22:17:00|         2017-03-10 16:23:00|          2017-03-16 08:24:00|          2017-03-28 00:00:00|a840a7a89e3d91373...|            1|     2017-03-09 22:17:00|   delivered|  [[1], 4, 0, [5.0]]|[[1], 4, 0, [305.7]]|289.9|                 market_place|                       537|              8.0|ff922797a6771cab4...|             31.0|                 37|                 3|          1725.0|            33.0|                  null|530bc04383c4dded4...|           5|    lajeado|          -29.44657989|          -51.96120191|062ce95fa2ad4dfae...|          RS|                 95913|2017-03-15 22:17:49|        305.7|             78.88|\n",
            "+--------------------------+--------------------------------------+----------------------+-----------------------+------------------------------+------------------+------------------------+-------------------+---------------+------------------------+------------------------+--------------------+--------------+--------------------+------------------------+-------------------+-------------+---+-------------------+----------------------------+-----------------------------+-----------------------------+--------------------+-------------+------------------------+------------+--------------------+--------------------+-----+-----------------------------+--------------------------+-----------------+--------------------+-----------------+-------------------+------------------+----------------+----------------+----------------------+--------------------+------------+-----------+----------------------+----------------------+--------------------+------------+----------------------+-------------------+-------------+------------------+\n",
            "only showing top 20 rows\n",
            "\n"
          ],
          "name": "stdout"
        }
      ]
    },
    {
      "cell_type": "markdown",
      "metadata": {
        "id": "NSV6f-3oaQoO",
        "colab_type": "text"
      },
      "source": [
        "## Exploring The Data\n",
        "We will use the brazilian e-commerce data set when we built binary Classification models in Pyspark, and it is related to olist e-commerce data set in Brazil. The classification goal is to predict whether the product will be delivered (On-time/Lately) to a customer. The dataset can be downloaded from Kaggle."
      ]
    },
    {
      "cell_type": "code",
      "metadata": {
        "id": "HOFp-NzQUjyp",
        "colab_type": "code",
        "outputId": "156067a6-58e6-44f4-93af-88763465762c",
        "colab": {
          "base_uri": "https://localhost:8080/",
          "height": 1000
        }
      },
      "source": [
        "final_order.printSchema()"
      ],
      "execution_count": 0,
      "outputs": [
        {
          "output_type": "stream",
          "text": [
            "root\n",
            " |-- Carrier_Late(1)/on-time(0): long (nullable = true)\n",
            " |-- Carrier_Start_Date-Shipping_limit_Days: double (nullable = true)\n",
            " |-- Carrier_time_diff_Days: double (nullable = true)\n",
            " |-- Delivery_time_diff_Days: double (nullable = true)\n",
            " |-- Estimated-Actual_Delivery_Days: double (nullable = true)\n",
            " |-- Late(1)/on-time(0): long (nullable = true)\n",
            " |-- Order_Approval_diff_Days: double (nullable = true)\n",
            " |-- Weight/volume: double (nullable = true)\n",
            " |-- customer_city: string (nullable = true)\n",
            " |-- customer_geolocation_lat: double (nullable = true)\n",
            " |-- customer_geolocation_lng: double (nullable = true)\n",
            " |-- customer_id: string (nullable = true)\n",
            " |-- customer_state: string (nullable = true)\n",
            " |-- customer_unique_id: string (nullable = true)\n",
            " |-- customer_zip_code_prefix: long (nullable = true)\n",
            " |-- freight/price: double (nullable = true)\n",
            " |-- freight_value: double (nullable = true)\n",
            " |-- id: long (nullable = true)\n",
            " |-- order_approved_at: timestamp (nullable = true)\n",
            " |-- order_delivered_carrier_date: timestamp (nullable = true)\n",
            " |-- order_delivered_customer_date: timestamp (nullable = true)\n",
            " |-- order_estimated_delivery_date: timestamp (nullable = true)\n",
            " |-- order_id: string (nullable = true)\n",
            " |-- order_item_id: long (nullable = true)\n",
            " |-- order_purchase_timestamp: timestamp (nullable = true)\n",
            " |-- order_status: string (nullable = true)\n",
            " |-- payment_type_count: struct (nullable = true)\n",
            " |    |-- indices: array (nullable = true)\n",
            " |    |    |-- element: long (containsNull = true)\n",
            " |    |-- size: long (nullable = true)\n",
            " |    |-- type: long (nullable = true)\n",
            " |    |-- values: array (nullable = true)\n",
            " |    |    |-- element: double (containsNull = true)\n",
            " |-- payment_type_value: struct (nullable = true)\n",
            " |    |-- indices: array (nullable = true)\n",
            " |    |    |-- element: long (containsNull = true)\n",
            " |    |-- size: long (nullable = true)\n",
            " |    |-- type: long (nullable = true)\n",
            " |    |-- values: array (nullable = true)\n",
            " |    |    |-- element: double (containsNull = true)\n",
            " |-- price: double (nullable = true)\n",
            " |-- product_category_name_english: string (nullable = true)\n",
            " |-- product_description_lenght: long (nullable = true)\n",
            " |-- product_height_cm: double (nullable = true)\n",
            " |-- product_id: string (nullable = true)\n",
            " |-- product_length_cm: double (nullable = true)\n",
            " |-- product_name_lenght: long (nullable = true)\n",
            " |-- product_photos_qty: long (nullable = true)\n",
            " |-- product_weight_g: double (nullable = true)\n",
            " |-- product_width_cm: double (nullable = true)\n",
            " |-- review_comment_message: string (nullable = true)\n",
            " |-- review_id: string (nullable = true)\n",
            " |-- review_score: integer (nullable = true)\n",
            " |-- seller_city: string (nullable = true)\n",
            " |-- seller_geolocation_lat: double (nullable = true)\n",
            " |-- seller_geolocation_lng: double (nullable = true)\n",
            " |-- seller_id: string (nullable = true)\n",
            " |-- seller_state: string (nullable = true)\n",
            " |-- seller_zip_code_prefix: long (nullable = true)\n",
            " |-- shipping_limit_date: timestamp (nullable = true)\n",
            " |-- total_payment: double (nullable = true)\n",
            " |-- Distance_Sell_Cust: float (nullable = true)\n",
            "\n"
          ],
          "name": "stdout"
        }
      ]
    },
    {
      "cell_type": "code",
      "metadata": {
        "id": "NjaPyeQ9K7Rw",
        "colab_type": "code",
        "outputId": "b93d85bb-05aa-4bba-ceb3-950342d251b8",
        "colab": {
          "base_uri": "https://localhost:8080/",
          "height": 479
        }
      },
      "source": [
        "final_order.show()"
      ],
      "execution_count": 0,
      "outputs": [
        {
          "output_type": "stream",
          "text": [
            "+--------------------------+--------------------------------------+----------------------+-----------------------+------------------------------+------------------+------------------------+-------------------+---------------+------------------------+------------------------+--------------------+--------------+--------------------+------------------------+-------------------+-------------+---+-------------------+----------------------------+-----------------------------+-----------------------------+--------------------+-------------+------------------------+------------+--------------------+--------------------+-----+-----------------------------+--------------------------+-----------------+--------------------+-----------------+-------------------+------------------+----------------+----------------+----------------------+--------------------+------------+-----------+----------------------+----------------------+--------------------+------------+----------------------+-------------------+-------------+------------------+\n",
            "|Carrier_Late(1)/on-time(0)|Carrier_Start_Date-Shipping_limit_Days|Carrier_time_diff_Days|Delivery_time_diff_Days|Estimated-Actual_Delivery_Days|Late(1)/on-time(0)|Order_Approval_diff_Days|      Weight/volume|  customer_city|customer_geolocation_lat|customer_geolocation_lng|         customer_id|customer_state|  customer_unique_id|customer_zip_code_prefix|      freight/price|freight_value| id|  order_approved_at|order_delivered_carrier_date|order_delivered_customer_date|order_estimated_delivery_date|            order_id|order_item_id|order_purchase_timestamp|order_status|  payment_type_count|  payment_type_value|price|product_category_name_english|product_description_lenght|product_height_cm|          product_id|product_length_cm|product_name_lenght|product_photos_qty|product_weight_g|product_width_cm|review_comment_message|           review_id|review_score|seller_city|seller_geolocation_lat|seller_geolocation_lng|           seller_id|seller_state|seller_zip_code_prefix|shipping_limit_date|total_payment|Distance_Sell_Cust|\n",
            "+--------------------------+--------------------------------------+----------------------+-----------------------+------------------------------+------------------+------------------------+-------------------+---------------+------------------------+------------------------+--------------------+--------------+--------------------+------------------------+-------------------+-------------+---+-------------------+----------------------------+-----------------------------+-----------------------------+--------------------+-------------+------------------------+------------+--------------------+--------------------+-----+-----------------------------+--------------------------+-----------------+--------------------+-----------------+-------------------+------------------+----------------+----------------+----------------------+--------------------+------------+-----------+----------------------+----------------------+--------------------+------------+----------------------+-------------------+-------------+------------------+\n",
            "|                         0|                    1.8558449074074075|     20.19236111111111|     28.233333333333334|             2.328472222222222|                 0|      0.8965277777777778|0.04751461988304093|       brasilia|            -16.02294658|            -48.05071816|e2dc0b0cef1781793...|            DF|4f308d513ccac2840...|                   72457| 0.2629536921151439|        21.01|  0|2017-04-25 08:02:00|         2017-05-02 11:30:00|          2017-05-22 16:07:00|          2017-05-25 00:00:00|b6fa6ea37aeeb90c9...|            1|     2017-04-24 10:31:00|   delivered|  [[0], 4, 0, [1.0]]|[[0], 4, 0, [100....| 79.9|                health_beauty|                      1400|             20.0|8a4505505378c8f5d...|             19.0|                 47|                 1|           325.0|            18.0|                  null|11bbc10384b40b673...|           5|    lajeado|          -29.44657989|          -51.96120191|062ce95fa2ad4dfae...|          RS|                 95913|2017-05-04 08:02:25|       100.91|           1545.21|\n",
            "|                         0|                    1.0055787037037036|     6.997222222222222|     11.991666666666667|             8.330555555555556|                 0|                     0.0|0.10796221322537113|      concordia|            -27.23090863|             -52.0454811|60c9723c5d232b784...|            SC|6b3b92110c5adfe4a...|                   89705|0.34653937947494035|        14.52|  1|2017-03-16 16:16:00|         2017-03-21 16:08:00|          2017-03-28 16:04:00|          2017-04-06 00:00:00|87a838f48767365e2...|            1|     2017-03-16 16:16:00|   delivered|  [[1], 4, 0, [1.0]]|[[1], 4, 0, [56.42]]| 41.9|               bed_bath_table|                       999|             13.0|cd82271424be95688...|             19.0|                 56|                 1|           400.0|            15.0|  Adorei o produto ...|654815c89e6174154...|           5|    lajeado|          -29.44657989|          -51.96120191|062ce95fa2ad4dfae...|          RS|                 95913|2017-03-22 16:16:02|        56.42|            246.51|\n",
            "|                         1|                   -23.769895833333333|     6.017361111111111|     36.895833333333336|            -9.895138888888889|                 1|      1.1083333333333334|0.10796221322537113|      catanduva|            -21.12102843|            -48.97081828|65d631d0de3181168...|            SP|78fcceb499ec9008f...|                   15804|0.42768496420047736|        17.92|  2|2017-08-31 02:35:00|         2017-09-29 21:04:00|          2017-10-05 21:29:00|          2017-09-26 00:00:00|8afd15d26436c6044...|            1|     2017-08-29 23:59:00|   delivered|  [[0], 4, 0, [1.0]]|[[0], 4, 0, [59.82]]| 41.9|               bed_bath_table|                       999|             13.0|cd82271424be95688...|             19.0|                 56|                 1|           400.0|            15.0|                  null|a112a50d46519520d...|           3|    lajeado|          -29.44657989|          -51.96120191|062ce95fa2ad4dfae...|          RS|                 95913|2017-09-06 02:35:21|        59.82|            973.22|\n",
            "|                         1|                   -0.1158912037037037|     3.027083333333333|      9.154166666666667|            10.464583333333334|                 0|    0.011111111111111112|0.25396825396825395|       sao jose|            -27.59580821|            -48.61619711|8ac1fe94e53325560...|            SC|ec81d1c881757b8d0...|                   88102|  0.360381861575179|         15.1|  3|2017-05-12 09:25:00|         2017-05-18 12:12:00|          2017-05-21 12:51:00|          2017-06-01 00:00:00|1a494062b68a8ed99...|            1|     2017-05-12 09:09:00|   delivered|[[1, 3], 4, 0, [2...|[[1, 3], 4, 0, [4...| 41.9|              furniture_decor|                       683|              5.0|4da03293502189784...|             21.0|                 63|                 1|           400.0|            15.0|  Gostaria apenas q...|48fe29ff7afb01dc5...|           5|    lajeado|          -29.44657989|          -51.96120191|062ce95fa2ad4dfae...|          RS|                 95913|2017-05-18 09:25:07|         57.0|            386.18|\n",
            "|                         1|                  -0.16960648148148147|     3.097916666666667|                11.1125|             7.285416666666666|                 0|      1.8444444444444446|0.25396825396825395|     nova prata|             -28.7822546|            -51.60921297|fec424751aa87f545...|            RS|e8a195f60d266e458...|                   95320| 0.2978520286396182|        12.48|  4|2017-06-20 10:43:00|         2017-06-26 14:48:00|          2017-06-29 17:09:00|          2017-07-07 00:00:00|288ec48ad5ea4c98a...|            1|     2017-06-18 14:27:00|   delivered|  [[0], 4, 0, [1.0]]|[[0], 4, 0, [54.38]]| 41.9|              furniture_decor|                       683|              5.0|4da03293502189784...|             21.0|                 63|                 1|           400.0|            15.0|                  null|9009e7e25f6a8e458...|           5|    lajeado|          -29.44657989|          -51.96120191|062ce95fa2ad4dfae...|          RS|                 95913|2017-06-26 10:43:46|        54.38|              81.4|\n",
            "|                         0|                     2.901226851851852|    4.6722222222222225|      8.782638888888888|                      22.76875|                 0|    0.011111111111111112|0.06932773109243698| rio de janeiro|            -22.91934258|            -43.21542322|5b1744540d6008b84...|            RJ|10e49f47dc1cd4cdf...|                   20260| 0.6423558897243108|        25.63|  5|2017-05-18 11:02:00|         2017-05-22 13:25:00|          2017-05-27 05:33:00|          2017-06-19 00:00:00|fb86c32ba3e47fe56...|            1|     2017-05-18 10:46:00|   delivered|  [[1], 4, 0, [6.0]]|[[1], 4, 0, [65.53]]| 39.9|               bed_bath_table|                       204|             14.0|4b703444923b5e57b...|             17.0|                 49|                 1|           264.0|            16.0|                  null|a5721b28290f94e9a...|           5|    lajeado|          -29.44657989|          -51.96120191|062ce95fa2ad4dfae...|          RS|                 95913|2017-05-25 11:02:46|        65.53|           1134.32|\n",
            "|                         0|                    1.4480208333333333|               13.0875|     15.654166666666667|              9.33611111111111|                 0|    0.014583333333333334|0.10796221322537113|      guarulhos|            -23.40404596|            -46.41877432|9c64cd776ee9f018a...|            SP|9df0c554a0b37fc0c...|                    7179|0.02625298329355609|          1.1|  6|2017-09-10 00:35:00|         2017-09-12 13:50:00|          2017-09-25 15:56:00|          2017-10-05 00:00:00|0cda834be88c6e549...|            1|     2017-09-10 00:14:00|   delivered| [[1], 4, 0, [10.0]]|[[1], 4, 0, [243....| 41.9|               bed_bath_table|                       999|             13.0|cd82271424be95688...|             19.0|                 56|                 1|           400.0|            15.0|  Fiz a compra e ch...|be4e16abeb792466b...|           3|    lajeado|          -29.44657989|          -51.96120191|062ce95fa2ad4dfae...|          RS|                 95913|2017-09-14 00:35:09|       243.12|            869.19|\n",
            "|                         0|                    0.6376851851851851|     7.232638888888889|     11.604166666666666|            17.522916666666667|                 0|    0.009027777777777777|0.21077712609970675|      sao paulo|             -23.5495057|            -46.64843251|aafa66416bb386613...|            SP|76bf559b3b17a29c5...|                    1303| 0.0770955501897206|        22.35|  7|2017-04-29 21:10:00|         2017-05-04 05:52:00|          2017-05-11 11:27:00|          2017-05-29 00:00:00|ee7b9fca242afe884...|            1|     2017-04-29 20:57:00|   delivered|  [[1], 4, 0, [5.0]]|[[1], 4, 0, [312....|289.9|                 market_place|                       537|              8.0|ff922797a6771cab4...|             31.0|                 37|                 3|          1725.0|            33.0|  Percebi q havia p...|72b1153250e95ec4b...|           3|    lajeado|          -29.44657989|          -51.96120191|062ce95fa2ad4dfae...|          RS|                 95913|2017-05-04 21:10:16|       312.25|            842.03|\n",
            "|                         0|                     1.532199074074074|     7.035416666666666|      9.503472222222221|            23.379166666666666|                 0|    0.009027777777777777|0.21179537308569565|      sao paulo|             -23.6187658|            -46.64940227|3bc3ad02b60f18345...|            SP|d616b371aae4ce572...|                    4064|0.09568193786203265|        18.17|  8|2017-02-22 03:02:00|         2017-02-24 14:03:00|          2017-03-03 14:54:00|          2017-03-27 00:00:00|f8470371533c258e0...|            1|     2017-02-22 02:49:00|   delivered|  [[1], 4, 0, [3.0]]|[[1], 4, 0, [208....|189.9|              furniture_decor|                       537|              6.0|3efe696e322f9139e...|             31.0|                 40|                 3|          1300.0|            33.0|  O produto não aqu...|d63c849ea6d81cf7c...|           1|    lajeado|          -29.44657989|          -51.96120191|062ce95fa2ad4dfae...|          RS|                 95913|2017-02-26 02:49:22|       208.07|            835.89|\n",
            "|                         0|                    3.7165393518518517|                6.5875|      6.871527777777778|                       35.4125|                 0|    0.009722222222222222|0.25396825396825395| rio de janeiro|            -22.98392343|            -43.20710147|3e2d140f0acbb3da8...|            RJ|674d55cc522075b79...|                   22410|0.42434367541766116|        17.78|  9|2017-01-31 17:25:00|         2017-02-01 00:00:00|          2017-02-07 14:06:00|          2017-03-15 00:00:00|4d7b93709f08f674f...|            1|     2017-01-31 17:11:00|   delivered|  [[1], 4, 0, [1.0]]|[[1], 4, 0, [119....| 41.9|              furniture_decor|                       683|              5.0|4da03293502189784...|             21.0|                 63|                 1|           400.0|            15.0|                  null|91712508056632bf3...|           4|    lajeado|          -29.44657989|          -51.96120191|062ce95fa2ad4dfae...|          RS|                 95913|2017-02-04 17:11:49|       119.36|            1130.2|\n",
            "|                         0|                    3.7165393518518517|                6.5875|      6.871527777777778|                       35.4125|                 0|    0.009722222222222222|0.25396825396825395| rio de janeiro|            -22.98392343|            -43.20710147|3e2d140f0acbb3da8...|            RJ|674d55cc522075b79...|                   22410|0.42434367541766116|        17.78| 10|2017-01-31 17:25:00|         2017-02-01 00:00:00|          2017-02-07 14:06:00|          2017-03-15 00:00:00|4d7b93709f08f674f...|            2|     2017-01-31 17:11:00|   delivered|  [[1], 4, 0, [1.0]]|[[1], 4, 0, [119....| 41.9|              furniture_decor|                       683|              5.0|4da03293502189784...|             21.0|                 63|                 1|           400.0|            15.0|                  null|91712508056632bf3...|           4|    lajeado|          -29.44657989|          -51.96120191|062ce95fa2ad4dfae...|          RS|                 95913|2017-02-04 17:11:49|       119.36|            1130.2|\n",
            "|                         1|                   -3.9480092592592593|     3.126388888888889|      11.08611111111111|            13.088194444444444|                 0|    0.011111111111111112|0.21179537308569565|      sao paulo|            -23.56118966|            -46.47448584|bbf249561e84f966c...|            SP|76888ec0e2d5b7de5...|                    8280|0.10832016850974197|        20.57| 11|2017-08-21 20:05:00|         2017-08-29 18:51:00|          2017-09-01 21:53:00|          2017-09-15 00:00:00|ae1cb31659e2cf358...|            1|     2017-08-21 19:49:00|   delivered|  [[1], 4, 0, [4.0]]|[[1], 4, 0, [210....|189.9|              furniture_decor|                       537|              6.0|3efe696e322f9139e...|             31.0|                 40|                 3|          1300.0|            33.0|                  null|e0b2eab149eb41f3f...|           5|    lajeado|          -29.44657989|          -51.96120191|062ce95fa2ad4dfae...|          RS|                 95913|2017-08-25 20:05:52|       210.47|            851.97|\n",
            "|                         0|                    3.2258680555555554|               9.01875|     11.802777777777777|             20.42222222222222|                 0|    0.009722222222222222|0.21179537308569565|pocos de caldas|            -21.78913132|            -46.56757074|8326dc987e109ccc7...|            MG|19e74a05536d13b34...|                   37701|0.19299631384939442|        36.65| 12|2017-05-19 18:50:00|         2017-05-22 13:25:00|          2017-05-31 13:52:00|          2017-06-21 00:00:00|d7108e3ddf254c6b5...|            1|     2017-05-19 18:36:00|   delivered|  [[1], 4, 0, [1.0]]|[[1], 4, 0, [226....|189.9|              furniture_decor|                       537|              6.0|3efe696e322f9139e...|             31.0|                 40|                 3|          1300.0|            33.0|                  null|4d482fdd3daec0366...|           5|    lajeado|          -29.44657989|          -51.96120191|062ce95fa2ad4dfae...|          RS|                 95913|2017-05-25 18:50:15|       226.55|            1008.3|\n",
            "|                         0|                     5.167638888888889|              12.20625|     14.046527777777778|                      14.31875|                 0|    0.007638888888888889|0.14436543848308553|        rodeiro|            -21.20018316|            -42.86603309|d2cfabab731178547...|            MG|a82d9e16794b2921f...|                   36510|0.26656856974690996|        45.29| 13|2017-04-25 15:25:00|         2017-04-27 11:24:00|          2017-05-09 16:21:00|          2017-05-24 00:00:00|e1e2b559781f43694...|            1|     2017-04-25 15:14:00|   delivered|  [[1], 4, 0, [6.0]]|[[1], 4, 0, [215....|169.9|              furniture_decor|                       548|             51.0|8d746e360a815705b...|             70.0|                 34|                 1|          6700.0|            13.0|  Loja séria com se...|c2fac1392a0ab55f8...|           5|    lajeado|          -29.44657989|          -51.96120191|062ce95fa2ad4dfae...|          RS|                 95913|2017-05-02 15:25:24|       215.19|           1293.74|\n",
            "|                         1|                   -1.1970486111111112|     7.045138888888889|      16.24861111111111|                        7.3375|                 0|                 0.00625|0.05847953216374269|     rio do sul|            -27.18228119|            -49.60640969|1ad05de046ac6a5e9...|            SC|d9d506dbb65bdc1f8...|                   89162| 0.1916145181476846|        15.31| 14|2017-06-20 10:05:00|         2017-06-29 14:49:00|          2017-07-06 15:54:00|          2017-07-14 00:00:00|e21677585042e206b...|            1|     2017-06-20 09:56:00|   delivered|  [[1], 4, 0, [9.0]]|[[1], 4, 0, [95.21]]| 79.9|                health_beauty|                      1400|             20.0|8c96a6969d0fad206...|             19.0|                 50|                 1|           400.0|            18.0|   Excelente recomendo|94691b18bf047b007...|           5|    lajeado|          -29.44657989|          -51.96120191|062ce95fa2ad4dfae...|          RS|                 95913|2017-06-28 10:05:15|        95.21|            341.34|\n",
            "|                         0|                    0.1904861111111111|     4.947222222222222|       8.76736111111111|            15.352083333333333|                 0|    0.010416666666666666|0.21179537308569565|      sao paulo|            -23.52813994|            -46.50066365|b93f595ad6dd63fa5...|            SP|f80521e48c7cb490d...|                    3658|0.10832016850974197|        20.57| 15|2017-07-09 21:23:00|         2017-07-13 16:49:00|          2017-07-18 15:33:00|          2017-08-03 00:00:00|a509a0a8522e394f8...|            1|     2017-07-09 21:08:00|   delivered|  [[1], 4, 0, [8.0]]|[[1], 4, 0, [210....|189.9|              furniture_decor|                       537|              6.0|3efe696e322f9139e...|             31.0|                 40|                 3|          1300.0|            33.0|  Acho q a empresa ...|f5388e20b7d050a39...|           4|    lajeado|          -29.44657989|          -51.96120191|062ce95fa2ad4dfae...|          RS|                 95913|2017-07-13 21:23:18|       210.47|            853.19|\n",
            "|                         0|                     1.499525462962963|     3.011111111111111|      7.518055555555556|             17.57847222222222|                 0|                 0.00625|0.21179537308569565|      sao paulo|            -23.61153067|            -46.73636662|2945f7826483e9c73...|            SP|334cc44b9272d44bc...|                    5630|0.10832016850974197|        20.57| 16|2017-06-28 21:50:00|         2017-07-03 09:51:00|          2017-07-06 10:07:00|          2017-07-24 00:00:00|f58d7e09ece55d81a...|            1|     2017-06-28 21:41:00|   delivered|  [[1], 4, 0, [1.0]]|[[1], 4, 0, [631....|189.9|              furniture_decor|                       537|              6.0|3efe696e322f9139e...|             31.0|                 40|                 3|          1300.0|            33.0|                  null|c9d483edb6d9174a8...|           5|    lajeado|          -29.44657989|          -51.96120191|062ce95fa2ad4dfae...|          RS|                 95913|2017-07-04 21:50:19|       631.41|             831.1|\n",
            "|                         0|                     1.499525462962963|     3.011111111111111|      7.518055555555556|             17.57847222222222|                 0|                 0.00625|0.21179537308569565|      sao paulo|            -23.61153067|            -46.73636662|2945f7826483e9c73...|            SP|334cc44b9272d44bc...|                    5630|0.10832016850974197|        20.57| 17|2017-06-28 21:50:00|         2017-07-03 09:51:00|          2017-07-06 10:07:00|          2017-07-24 00:00:00|f58d7e09ece55d81a...|            2|     2017-06-28 21:41:00|   delivered|  [[1], 4, 0, [1.0]]|[[1], 4, 0, [631....|189.9|              furniture_decor|                       537|              6.0|3efe696e322f9139e...|             31.0|                 40|                 3|          1300.0|            33.0|                  null|c9d483edb6d9174a8...|           5|    lajeado|          -29.44657989|          -51.96120191|062ce95fa2ad4dfae...|          RS|                 95913|2017-07-04 21:50:19|       631.41|             831.1|\n",
            "|                         0|                     1.499525462962963|     3.011111111111111|      7.518055555555556|             17.57847222222222|                 0|                 0.00625|0.21179537308569565|      sao paulo|            -23.61153067|            -46.73636662|2945f7826483e9c73...|            SP|334cc44b9272d44bc...|                    5630|0.10832016850974197|        20.57| 18|2017-06-28 21:50:00|         2017-07-03 09:51:00|          2017-07-06 10:07:00|          2017-07-24 00:00:00|f58d7e09ece55d81a...|            3|     2017-06-28 21:41:00|   delivered|  [[1], 4, 0, [1.0]]|[[1], 4, 0, [631....|189.9|              furniture_decor|                       537|              6.0|3efe696e322f9139e...|             31.0|                 40|                 3|          1300.0|            33.0|                  null|c9d483edb6d9174a8...|           5|    lajeado|          -29.44657989|          -51.96120191|062ce95fa2ad4dfae...|          RS|                 95913|2017-07-04 21:50:19|       631.41|             831.1|\n",
            "|                         0|                     5.246400462962963|     5.667361111111111|     6.4215277777777775|                         11.65|                 0|                     0.0|0.21077712609970675|  caxias do sul|            -29.17266949|            -51.21072934|5e320e6a4f03e2e74...|            RS|8a2530b1bf32235ed...|                   95012| 0.0545015522593998|         15.8| 19|2017-03-09 22:17:00|         2017-03-10 16:23:00|          2017-03-16 08:24:00|          2017-03-28 00:00:00|a840a7a89e3d91373...|            1|     2017-03-09 22:17:00|   delivered|  [[1], 4, 0, [5.0]]|[[1], 4, 0, [305.7]]|289.9|                 market_place|                       537|              8.0|ff922797a6771cab4...|             31.0|                 37|                 3|          1725.0|            33.0|                  null|530bc04383c4dded4...|           5|    lajeado|          -29.44657989|          -51.96120191|062ce95fa2ad4dfae...|          RS|                 95913|2017-03-15 22:17:49|        305.7|             78.88|\n",
            "+--------------------------+--------------------------------------+----------------------+-----------------------+------------------------------+------------------+------------------------+-------------------+---------------+------------------------+------------------------+--------------------+--------------+--------------------+------------------------+-------------------+-------------+---+-------------------+----------------------------+-----------------------------+-----------------------------+--------------------+-------------+------------------------+------------+--------------------+--------------------+-----+-----------------------------+--------------------------+-----------------+--------------------+-----------------+-------------------+------------------+----------------+----------------+----------------------+--------------------+------------+-----------+----------------------+----------------------+--------------------+------------+----------------------+-------------------+-------------+------------------+\n",
            "only showing top 20 rows\n",
            "\n"
          ],
          "name": "stdout"
        }
      ]
    },
    {
      "cell_type": "code",
      "metadata": {
        "id": "PRziV8WgK-xl",
        "colab_type": "code",
        "outputId": "93d6a391-c128-491c-ca4e-da2d897c6cdf",
        "colab": {
          "base_uri": "https://localhost:8080/",
          "height": 88
        }
      },
      "source": [
        "print final_order.columns ## Column Names\n",
        "print \"Row Count: \", final_order.count() ## Row Count\n",
        "print \"Column Count: \", len(final_order.columns) ## Column Count"
      ],
      "execution_count": 0,
      "outputs": [
        {
          "output_type": "stream",
          "text": [
            "['Carrier_Late(1)/on-time(0)', 'Carrier_Start_Date-Shipping_limit_Days', 'Carrier_time_diff_Days', 'Delivery_time_diff_Days', 'Estimated-Actual_Delivery_Days', 'Late(1)/on-time(0)', 'Order_Approval_diff_Days', 'Weight/volume', 'customer_city', 'customer_geolocation_lat', 'customer_geolocation_lng', 'customer_id', 'customer_state', 'customer_unique_id', 'customer_zip_code_prefix', 'freight/price', 'freight_value', 'id', 'order_approved_at', 'order_delivered_carrier_date', 'order_delivered_customer_date', 'order_estimated_delivery_date', 'order_id', 'order_item_id', 'order_purchase_timestamp', 'order_status', 'payment_type_count', 'payment_type_value', 'price', 'product_category_name_english', 'product_description_lenght', 'product_height_cm', 'product_id', 'product_length_cm', 'product_name_lenght', 'product_photos_qty', 'product_weight_g', 'product_width_cm', 'review_comment_message', 'review_id', 'review_score', 'seller_city', 'seller_geolocation_lat', 'seller_geolocation_lng', 'seller_id', 'seller_state', 'seller_zip_code_prefix', 'shipping_limit_date', 'total_payment', 'Distance_Sell_Cust']\n",
            "Row Count:  112650\n",
            "Column Count:  50\n"
          ],
          "name": "stdout"
        }
      ]
    },
    {
      "cell_type": "code",
      "metadata": {
        "id": "lBq4SuXSLc_K",
        "colab_type": "code",
        "outputId": "3fae2722-7636-436e-c8a9-2b960fbe79d4",
        "colab": {
          "base_uri": "https://localhost:8080/",
          "height": 867
        }
      },
      "source": [
        "final_order.columns"
      ],
      "execution_count": 0,
      "outputs": [
        {
          "output_type": "execute_result",
          "data": {
            "text/plain": [
              "['Carrier_Late(1)/on-time(0)',\n",
              " 'Carrier_Start_Date-Shipping_limit_Days',\n",
              " 'Carrier_time_diff_Days',\n",
              " 'Delivery_time_diff_Days',\n",
              " 'Estimated-Actual_Delivery_Days',\n",
              " 'Late(1)/on-time(0)',\n",
              " 'Order_Approval_diff_Days',\n",
              " 'Weight/volume',\n",
              " 'customer_city',\n",
              " 'customer_geolocation_lat',\n",
              " 'customer_geolocation_lng',\n",
              " 'customer_id',\n",
              " 'customer_state',\n",
              " 'customer_unique_id',\n",
              " 'customer_zip_code_prefix',\n",
              " 'freight/price',\n",
              " 'freight_value',\n",
              " 'id',\n",
              " 'order_approved_at',\n",
              " 'order_delivered_carrier_date',\n",
              " 'order_delivered_customer_date',\n",
              " 'order_estimated_delivery_date',\n",
              " 'order_id',\n",
              " 'order_item_id',\n",
              " 'order_purchase_timestamp',\n",
              " 'order_status',\n",
              " 'payment_type_count',\n",
              " 'payment_type_value',\n",
              " 'price',\n",
              " 'product_category_name_english',\n",
              " 'product_description_lenght',\n",
              " 'product_height_cm',\n",
              " 'product_id',\n",
              " 'product_length_cm',\n",
              " 'product_name_lenght',\n",
              " 'product_photos_qty',\n",
              " 'product_weight_g',\n",
              " 'product_width_cm',\n",
              " 'review_comment_message',\n",
              " 'review_id',\n",
              " 'review_score',\n",
              " 'seller_city',\n",
              " 'seller_geolocation_lat',\n",
              " 'seller_geolocation_lng',\n",
              " 'seller_id',\n",
              " 'seller_state',\n",
              " 'seller_zip_code_prefix',\n",
              " 'shipping_limit_date',\n",
              " 'total_payment',\n",
              " 'Distance_Sell_Cust']"
            ]
          },
          "metadata": {
            "tags": []
          },
          "execution_count": 19
        }
      ]
    },
    {
      "cell_type": "markdown",
      "metadata": {
        "id": "jWtkmMqEdA2w",
        "colab_type": "text"
      },
      "source": [
        "Input variables: 'Weight/volume',\n",
        " 'customer_city'\n",
        " 'customer_state',\n",
        " 'customer_zip_code_prefix',\n",
        " 'freight/price',\n",
        " 'freight_value',\n",
        " 'order_status',\n",
        " 'payment_type_count',\n",
        " 'payment_type_value',\n",
        " 'price',\n",
        " 'product_height_cm',\n",
        " 'product_id',\n",
        " 'product_length_cm',\n",
        " 'product_name_lenght',\n",
        " 'product_photos_qty',\n",
        " 'product_weight_g',\n",
        " 'product_width_cm',\n",
        " 'review_score',\n",
        " 'seller_city',\n",
        " 'seller_state',\n",
        " 'seller_zip_code_prefix',\n",
        " 'shipping_limit_date',\n",
        " 'total_payment',\n",
        " 'Distance_Sell_Cust'<br>\n",
        "Output variable: Late(1)/on-time(0) <br>\n",
        "### Have a peek of the first five observations. Pandas data frame is prettier than Spark DataFrame.show()."
      ]
    },
    {
      "cell_type": "code",
      "metadata": {
        "id": "DxrSmNrqdEdU",
        "colab_type": "code",
        "outputId": "b9052ea0-35d3-43c8-93fc-702c70583557",
        "colab": {
          "base_uri": "https://localhost:8080/",
          "height": 1000
        }
      },
      "source": [
        "import pandas as pd\n",
        "pd.DataFrame(final_order.take(5), columns=final_order.columns).transpose()"
      ],
      "execution_count": 0,
      "outputs": [
        {
          "output_type": "execute_result",
          "data": {
            "text/html": [
              "<div>\n",
              "<style scoped>\n",
              "    .dataframe tbody tr th:only-of-type {\n",
              "        vertical-align: middle;\n",
              "    }\n",
              "\n",
              "    .dataframe tbody tr th {\n",
              "        vertical-align: top;\n",
              "    }\n",
              "\n",
              "    .dataframe thead th {\n",
              "        text-align: right;\n",
              "    }\n",
              "</style>\n",
              "<table border=\"1\" class=\"dataframe\">\n",
              "  <thead>\n",
              "    <tr style=\"text-align: right;\">\n",
              "      <th></th>\n",
              "      <th>0</th>\n",
              "      <th>1</th>\n",
              "      <th>2</th>\n",
              "      <th>3</th>\n",
              "      <th>4</th>\n",
              "    </tr>\n",
              "  </thead>\n",
              "  <tbody>\n",
              "    <tr>\n",
              "      <th>Carrier_Late(1)/on-time(0)</th>\n",
              "      <td>0</td>\n",
              "      <td>0</td>\n",
              "      <td>1</td>\n",
              "      <td>1</td>\n",
              "      <td>1</td>\n",
              "    </tr>\n",
              "    <tr>\n",
              "      <th>Carrier_Start_Date-Shipping_limit_Days</th>\n",
              "      <td>1.85584</td>\n",
              "      <td>1.00558</td>\n",
              "      <td>-23.7699</td>\n",
              "      <td>-0.115891</td>\n",
              "      <td>-0.169606</td>\n",
              "    </tr>\n",
              "    <tr>\n",
              "      <th>Carrier_time_diff_Days</th>\n",
              "      <td>20.1924</td>\n",
              "      <td>6.99722</td>\n",
              "      <td>6.01736</td>\n",
              "      <td>3.02708</td>\n",
              "      <td>3.09792</td>\n",
              "    </tr>\n",
              "    <tr>\n",
              "      <th>Delivery_time_diff_Days</th>\n",
              "      <td>28.2333</td>\n",
              "      <td>11.9917</td>\n",
              "      <td>36.8958</td>\n",
              "      <td>9.15417</td>\n",
              "      <td>11.1125</td>\n",
              "    </tr>\n",
              "    <tr>\n",
              "      <th>Estimated-Actual_Delivery_Days</th>\n",
              "      <td>2.32847</td>\n",
              "      <td>8.33056</td>\n",
              "      <td>-9.89514</td>\n",
              "      <td>10.4646</td>\n",
              "      <td>7.28542</td>\n",
              "    </tr>\n",
              "    <tr>\n",
              "      <th>Late(1)/on-time(0)</th>\n",
              "      <td>0</td>\n",
              "      <td>0</td>\n",
              "      <td>1</td>\n",
              "      <td>0</td>\n",
              "      <td>0</td>\n",
              "    </tr>\n",
              "    <tr>\n",
              "      <th>Order_Approval_diff_Days</th>\n",
              "      <td>0.896528</td>\n",
              "      <td>0</td>\n",
              "      <td>1.10833</td>\n",
              "      <td>0.0111111</td>\n",
              "      <td>1.84444</td>\n",
              "    </tr>\n",
              "    <tr>\n",
              "      <th>Weight/volume</th>\n",
              "      <td>0.0475146</td>\n",
              "      <td>0.107962</td>\n",
              "      <td>0.107962</td>\n",
              "      <td>0.253968</td>\n",
              "      <td>0.253968</td>\n",
              "    </tr>\n",
              "    <tr>\n",
              "      <th>customer_city</th>\n",
              "      <td>brasilia</td>\n",
              "      <td>concordia</td>\n",
              "      <td>catanduva</td>\n",
              "      <td>sao jose</td>\n",
              "      <td>nova prata</td>\n",
              "    </tr>\n",
              "    <tr>\n",
              "      <th>customer_geolocation_lat</th>\n",
              "      <td>-16.0229</td>\n",
              "      <td>-27.2309</td>\n",
              "      <td>-21.121</td>\n",
              "      <td>-27.5958</td>\n",
              "      <td>-28.7823</td>\n",
              "    </tr>\n",
              "    <tr>\n",
              "      <th>customer_geolocation_lng</th>\n",
              "      <td>-48.0507</td>\n",
              "      <td>-52.0455</td>\n",
              "      <td>-48.9708</td>\n",
              "      <td>-48.6162</td>\n",
              "      <td>-51.6092</td>\n",
              "    </tr>\n",
              "    <tr>\n",
              "      <th>customer_id</th>\n",
              "      <td>e2dc0b0cef178179300195205e3788ef</td>\n",
              "      <td>60c9723c5d232b784f10940175deb500</td>\n",
              "      <td>65d631d0de3181168bc5699f5c766861</td>\n",
              "      <td>8ac1fe94e53325560257c8758c9a8f4a</td>\n",
              "      <td>fec424751aa87f5451286fc3d532fae4</td>\n",
              "    </tr>\n",
              "    <tr>\n",
              "      <th>customer_state</th>\n",
              "      <td>DF</td>\n",
              "      <td>SC</td>\n",
              "      <td>SP</td>\n",
              "      <td>SC</td>\n",
              "      <td>RS</td>\n",
              "    </tr>\n",
              "    <tr>\n",
              "      <th>customer_unique_id</th>\n",
              "      <td>4f308d513ccac2840ecef09e3f27834f</td>\n",
              "      <td>6b3b92110c5adfe4a1334369d1ef2533</td>\n",
              "      <td>78fcceb499ec9008fcecbaad21efefc6</td>\n",
              "      <td>ec81d1c881757b8d02f24f7a3da1a1d9</td>\n",
              "      <td>e8a195f60d266e458b02b0e57e85815d</td>\n",
              "    </tr>\n",
              "    <tr>\n",
              "      <th>customer_zip_code_prefix</th>\n",
              "      <td>72457</td>\n",
              "      <td>89705</td>\n",
              "      <td>15804</td>\n",
              "      <td>88102</td>\n",
              "      <td>95320</td>\n",
              "    </tr>\n",
              "    <tr>\n",
              "      <th>freight/price</th>\n",
              "      <td>0.262954</td>\n",
              "      <td>0.346539</td>\n",
              "      <td>0.427685</td>\n",
              "      <td>0.360382</td>\n",
              "      <td>0.297852</td>\n",
              "    </tr>\n",
              "    <tr>\n",
              "      <th>freight_value</th>\n",
              "      <td>21.01</td>\n",
              "      <td>14.52</td>\n",
              "      <td>17.92</td>\n",
              "      <td>15.1</td>\n",
              "      <td>12.48</td>\n",
              "    </tr>\n",
              "    <tr>\n",
              "      <th>id</th>\n",
              "      <td>0</td>\n",
              "      <td>1</td>\n",
              "      <td>2</td>\n",
              "      <td>3</td>\n",
              "      <td>4</td>\n",
              "    </tr>\n",
              "    <tr>\n",
              "      <th>order_approved_at</th>\n",
              "      <td>2017-04-25 08:02:00</td>\n",
              "      <td>2017-03-16 16:16:00</td>\n",
              "      <td>2017-08-31 02:35:00</td>\n",
              "      <td>2017-05-12 09:25:00</td>\n",
              "      <td>2017-06-20 10:43:00</td>\n",
              "    </tr>\n",
              "    <tr>\n",
              "      <th>order_delivered_carrier_date</th>\n",
              "      <td>2017-05-02 11:30:00</td>\n",
              "      <td>2017-03-21 16:08:00</td>\n",
              "      <td>2017-09-29 21:04:00</td>\n",
              "      <td>2017-05-18 12:12:00</td>\n",
              "      <td>2017-06-26 14:48:00</td>\n",
              "    </tr>\n",
              "    <tr>\n",
              "      <th>order_delivered_customer_date</th>\n",
              "      <td>2017-05-22 16:07:00</td>\n",
              "      <td>2017-03-28 16:04:00</td>\n",
              "      <td>2017-10-05 21:29:00</td>\n",
              "      <td>2017-05-21 12:51:00</td>\n",
              "      <td>2017-06-29 17:09:00</td>\n",
              "    </tr>\n",
              "    <tr>\n",
              "      <th>order_estimated_delivery_date</th>\n",
              "      <td>2017-05-25 00:00:00</td>\n",
              "      <td>2017-04-06 00:00:00</td>\n",
              "      <td>2017-09-26 00:00:00</td>\n",
              "      <td>2017-06-01 00:00:00</td>\n",
              "      <td>2017-07-07 00:00:00</td>\n",
              "    </tr>\n",
              "    <tr>\n",
              "      <th>order_id</th>\n",
              "      <td>b6fa6ea37aeeb90c905eb2a488fc5dc5</td>\n",
              "      <td>87a838f48767365e2b786c485ef2e8b0</td>\n",
              "      <td>8afd15d26436c60441bf3ee71d2a91a8</td>\n",
              "      <td>1a494062b68a8ed99ba9171cb9c9aef5</td>\n",
              "      <td>288ec48ad5ea4c98afe99ea53d523b78</td>\n",
              "    </tr>\n",
              "    <tr>\n",
              "      <th>order_item_id</th>\n",
              "      <td>1</td>\n",
              "      <td>1</td>\n",
              "      <td>1</td>\n",
              "      <td>1</td>\n",
              "      <td>1</td>\n",
              "    </tr>\n",
              "    <tr>\n",
              "      <th>order_purchase_timestamp</th>\n",
              "      <td>2017-04-24 10:31:00</td>\n",
              "      <td>2017-03-16 16:16:00</td>\n",
              "      <td>2017-08-29 23:59:00</td>\n",
              "      <td>2017-05-12 09:09:00</td>\n",
              "      <td>2017-06-18 14:27:00</td>\n",
              "    </tr>\n",
              "    <tr>\n",
              "      <th>order_status</th>\n",
              "      <td>delivered</td>\n",
              "      <td>delivered</td>\n",
              "      <td>delivered</td>\n",
              "      <td>delivered</td>\n",
              "      <td>delivered</td>\n",
              "    </tr>\n",
              "    <tr>\n",
              "      <th>payment_type_count</th>\n",
              "      <td>([0], 4, 0, [1.0])</td>\n",
              "      <td>([1], 4, 0, [1.0])</td>\n",
              "      <td>([0], 4, 0, [1.0])</td>\n",
              "      <td>([1, 3], 4, 0, [2.0, 1.0])</td>\n",
              "      <td>([0], 4, 0, [1.0])</td>\n",
              "    </tr>\n",
              "    <tr>\n",
              "      <th>payment_type_value</th>\n",
              "      <td>([0], 4, 0, [100.91])</td>\n",
              "      <td>([1], 4, 0, [56.42])</td>\n",
              "      <td>([0], 4, 0, [59.82])</td>\n",
              "      <td>([1, 3], 4, 0, [40.22, 16.78])</td>\n",
              "      <td>([0], 4, 0, [54.38])</td>\n",
              "    </tr>\n",
              "    <tr>\n",
              "      <th>price</th>\n",
              "      <td>79.9</td>\n",
              "      <td>41.9</td>\n",
              "      <td>41.9</td>\n",
              "      <td>41.9</td>\n",
              "      <td>41.9</td>\n",
              "    </tr>\n",
              "    <tr>\n",
              "      <th>product_category_name_english</th>\n",
              "      <td>health_beauty</td>\n",
              "      <td>bed_bath_table</td>\n",
              "      <td>bed_bath_table</td>\n",
              "      <td>furniture_decor</td>\n",
              "      <td>furniture_decor</td>\n",
              "    </tr>\n",
              "    <tr>\n",
              "      <th>product_description_lenght</th>\n",
              "      <td>1400</td>\n",
              "      <td>999</td>\n",
              "      <td>999</td>\n",
              "      <td>683</td>\n",
              "      <td>683</td>\n",
              "    </tr>\n",
              "    <tr>\n",
              "      <th>product_height_cm</th>\n",
              "      <td>20</td>\n",
              "      <td>13</td>\n",
              "      <td>13</td>\n",
              "      <td>5</td>\n",
              "      <td>5</td>\n",
              "    </tr>\n",
              "    <tr>\n",
              "      <th>product_id</th>\n",
              "      <td>8a4505505378c8f5d983f3201e9c25da</td>\n",
              "      <td>cd82271424be9568801391194697361c</td>\n",
              "      <td>cd82271424be9568801391194697361c</td>\n",
              "      <td>4da0329350218978429b287440f4b87a</td>\n",
              "      <td>4da0329350218978429b287440f4b87a</td>\n",
              "    </tr>\n",
              "    <tr>\n",
              "      <th>product_length_cm</th>\n",
              "      <td>19</td>\n",
              "      <td>19</td>\n",
              "      <td>19</td>\n",
              "      <td>21</td>\n",
              "      <td>21</td>\n",
              "    </tr>\n",
              "    <tr>\n",
              "      <th>product_name_lenght</th>\n",
              "      <td>47</td>\n",
              "      <td>56</td>\n",
              "      <td>56</td>\n",
              "      <td>63</td>\n",
              "      <td>63</td>\n",
              "    </tr>\n",
              "    <tr>\n",
              "      <th>product_photos_qty</th>\n",
              "      <td>1</td>\n",
              "      <td>1</td>\n",
              "      <td>1</td>\n",
              "      <td>1</td>\n",
              "      <td>1</td>\n",
              "    </tr>\n",
              "    <tr>\n",
              "      <th>product_weight_g</th>\n",
              "      <td>325</td>\n",
              "      <td>400</td>\n",
              "      <td>400</td>\n",
              "      <td>400</td>\n",
              "      <td>400</td>\n",
              "    </tr>\n",
              "    <tr>\n",
              "      <th>product_width_cm</th>\n",
              "      <td>18</td>\n",
              "      <td>15</td>\n",
              "      <td>15</td>\n",
              "      <td>15</td>\n",
              "      <td>15</td>\n",
              "    </tr>\n",
              "    <tr>\n",
              "      <th>review_comment_message</th>\n",
              "      <td>None</td>\n",
              "      <td>Adorei o produto e chegou super rapido.</td>\n",
              "      <td>None</td>\n",
              "      <td>Gostaria apenas que a empresa que me enviou o ...</td>\n",
              "      <td>None</td>\n",
              "    </tr>\n",
              "    <tr>\n",
              "      <th>review_id</th>\n",
              "      <td>11bbc10384b40b673a6101cbd773d39f</td>\n",
              "      <td>654815c89e61741545d8e7d17e277f2b</td>\n",
              "      <td>a112a50d46519520d8b243b98ec21ca4</td>\n",
              "      <td>48fe29ff7afb01dc5420dd679a48ef1a</td>\n",
              "      <td>9009e7e25f6a8e4588f0a8b43297d9d1</td>\n",
              "    </tr>\n",
              "    <tr>\n",
              "      <th>review_score</th>\n",
              "      <td>5</td>\n",
              "      <td>5</td>\n",
              "      <td>3</td>\n",
              "      <td>5</td>\n",
              "      <td>5</td>\n",
              "    </tr>\n",
              "    <tr>\n",
              "      <th>seller_city</th>\n",
              "      <td>lajeado</td>\n",
              "      <td>lajeado</td>\n",
              "      <td>lajeado</td>\n",
              "      <td>lajeado</td>\n",
              "      <td>lajeado</td>\n",
              "    </tr>\n",
              "    <tr>\n",
              "      <th>seller_geolocation_lat</th>\n",
              "      <td>-29.4466</td>\n",
              "      <td>-29.4466</td>\n",
              "      <td>-29.4466</td>\n",
              "      <td>-29.4466</td>\n",
              "      <td>-29.4466</td>\n",
              "    </tr>\n",
              "    <tr>\n",
              "      <th>seller_geolocation_lng</th>\n",
              "      <td>-51.9612</td>\n",
              "      <td>-51.9612</td>\n",
              "      <td>-51.9612</td>\n",
              "      <td>-51.9612</td>\n",
              "      <td>-51.9612</td>\n",
              "    </tr>\n",
              "    <tr>\n",
              "      <th>seller_id</th>\n",
              "      <td>062ce95fa2ad4dfaedfc79260130565f</td>\n",
              "      <td>062ce95fa2ad4dfaedfc79260130565f</td>\n",
              "      <td>062ce95fa2ad4dfaedfc79260130565f</td>\n",
              "      <td>062ce95fa2ad4dfaedfc79260130565f</td>\n",
              "      <td>062ce95fa2ad4dfaedfc79260130565f</td>\n",
              "    </tr>\n",
              "    <tr>\n",
              "      <th>seller_state</th>\n",
              "      <td>RS</td>\n",
              "      <td>RS</td>\n",
              "      <td>RS</td>\n",
              "      <td>RS</td>\n",
              "      <td>RS</td>\n",
              "    </tr>\n",
              "    <tr>\n",
              "      <th>seller_zip_code_prefix</th>\n",
              "      <td>95913</td>\n",
              "      <td>95913</td>\n",
              "      <td>95913</td>\n",
              "      <td>95913</td>\n",
              "      <td>95913</td>\n",
              "    </tr>\n",
              "    <tr>\n",
              "      <th>shipping_limit_date</th>\n",
              "      <td>2017-05-04 08:02:25</td>\n",
              "      <td>2017-03-22 16:16:02</td>\n",
              "      <td>2017-09-06 02:35:21</td>\n",
              "      <td>2017-05-18 09:25:07</td>\n",
              "      <td>2017-06-26 10:43:46</td>\n",
              "    </tr>\n",
              "    <tr>\n",
              "      <th>total_payment</th>\n",
              "      <td>100.91</td>\n",
              "      <td>56.42</td>\n",
              "      <td>59.82</td>\n",
              "      <td>57</td>\n",
              "      <td>54.38</td>\n",
              "    </tr>\n",
              "    <tr>\n",
              "      <th>Distance_Sell_Cust</th>\n",
              "      <td>1545.21</td>\n",
              "      <td>246.51</td>\n",
              "      <td>973.22</td>\n",
              "      <td>386.18</td>\n",
              "      <td>81.4</td>\n",
              "    </tr>\n",
              "  </tbody>\n",
              "</table>\n",
              "</div>"
            ],
            "text/plain": [
              "                                                                       0  ...                                 4\n",
              "Carrier_Late(1)/on-time(0)                                             0  ...                                 1\n",
              "Carrier_Start_Date-Shipping_limit_Days                           1.85584  ...                         -0.169606\n",
              "Carrier_time_diff_Days                                           20.1924  ...                           3.09792\n",
              "Delivery_time_diff_Days                                          28.2333  ...                           11.1125\n",
              "Estimated-Actual_Delivery_Days                                   2.32847  ...                           7.28542\n",
              "Late(1)/on-time(0)                                                     0  ...                                 0\n",
              "Order_Approval_diff_Days                                        0.896528  ...                           1.84444\n",
              "Weight/volume                                                  0.0475146  ...                          0.253968\n",
              "customer_city                                                   brasilia  ...                        nova prata\n",
              "customer_geolocation_lat                                        -16.0229  ...                          -28.7823\n",
              "customer_geolocation_lng                                        -48.0507  ...                          -51.6092\n",
              "customer_id                             e2dc0b0cef178179300195205e3788ef  ...  fec424751aa87f5451286fc3d532fae4\n",
              "customer_state                                                        DF  ...                                RS\n",
              "customer_unique_id                      4f308d513ccac2840ecef09e3f27834f  ...  e8a195f60d266e458b02b0e57e85815d\n",
              "customer_zip_code_prefix                                           72457  ...                             95320\n",
              "freight/price                                                   0.262954  ...                          0.297852\n",
              "freight_value                                                      21.01  ...                             12.48\n",
              "id                                                                     0  ...                                 4\n",
              "order_approved_at                                    2017-04-25 08:02:00  ...               2017-06-20 10:43:00\n",
              "order_delivered_carrier_date                         2017-05-02 11:30:00  ...               2017-06-26 14:48:00\n",
              "order_delivered_customer_date                        2017-05-22 16:07:00  ...               2017-06-29 17:09:00\n",
              "order_estimated_delivery_date                        2017-05-25 00:00:00  ...               2017-07-07 00:00:00\n",
              "order_id                                b6fa6ea37aeeb90c905eb2a488fc5dc5  ...  288ec48ad5ea4c98afe99ea53d523b78\n",
              "order_item_id                                                          1  ...                                 1\n",
              "order_purchase_timestamp                             2017-04-24 10:31:00  ...               2017-06-18 14:27:00\n",
              "order_status                                                   delivered  ...                         delivered\n",
              "payment_type_count                                    ([0], 4, 0, [1.0])  ...                ([0], 4, 0, [1.0])\n",
              "payment_type_value                                 ([0], 4, 0, [100.91])  ...              ([0], 4, 0, [54.38])\n",
              "price                                                               79.9  ...                              41.9\n",
              "product_category_name_english                              health_beauty  ...                   furniture_decor\n",
              "product_description_lenght                                          1400  ...                               683\n",
              "product_height_cm                                                     20  ...                                 5\n",
              "product_id                              8a4505505378c8f5d983f3201e9c25da  ...  4da0329350218978429b287440f4b87a\n",
              "product_length_cm                                                     19  ...                                21\n",
              "product_name_lenght                                                   47  ...                                63\n",
              "product_photos_qty                                                     1  ...                                 1\n",
              "product_weight_g                                                     325  ...                               400\n",
              "product_width_cm                                                      18  ...                                15\n",
              "review_comment_message                                              None  ...                              None\n",
              "review_id                               11bbc10384b40b673a6101cbd773d39f  ...  9009e7e25f6a8e4588f0a8b43297d9d1\n",
              "review_score                                                           5  ...                                 5\n",
              "seller_city                                                      lajeado  ...                           lajeado\n",
              "seller_geolocation_lat                                          -29.4466  ...                          -29.4466\n",
              "seller_geolocation_lng                                          -51.9612  ...                          -51.9612\n",
              "seller_id                               062ce95fa2ad4dfaedfc79260130565f  ...  062ce95fa2ad4dfaedfc79260130565f\n",
              "seller_state                                                          RS  ...                                RS\n",
              "seller_zip_code_prefix                                             95913  ...                             95913\n",
              "shipping_limit_date                                  2017-05-04 08:02:25  ...               2017-06-26 10:43:46\n",
              "total_payment                                                     100.91  ...                             54.38\n",
              "Distance_Sell_Cust                                               1545.21  ...                              81.4\n",
              "\n",
              "[50 rows x 5 columns]"
            ]
          },
          "metadata": {
            "tags": []
          },
          "execution_count": 20
        }
      ]
    },
    {
      "cell_type": "markdown",
      "metadata": {
        "id": "obff8VJtdOhz",
        "colab_type": "text"
      },
      "source": [
        "### Check the balanced target."
      ]
    },
    {
      "cell_type": "code",
      "metadata": {
        "id": "EWhrSzxqdLb8",
        "colab_type": "code",
        "outputId": "6511bddd-4cd9-4dfd-aa85-b821d47a336a",
        "colab": {
          "base_uri": "https://localhost:8080/",
          "height": 1000
        }
      },
      "source": [
        "import pandas as pd\n",
        "pd.DataFrame(final_order.take(5), columns=final_order.columns).transpose()"
      ],
      "execution_count": 0,
      "outputs": [
        {
          "output_type": "execute_result",
          "data": {
            "text/html": [
              "<div>\n",
              "<style scoped>\n",
              "    .dataframe tbody tr th:only-of-type {\n",
              "        vertical-align: middle;\n",
              "    }\n",
              "\n",
              "    .dataframe tbody tr th {\n",
              "        vertical-align: top;\n",
              "    }\n",
              "\n",
              "    .dataframe thead th {\n",
              "        text-align: right;\n",
              "    }\n",
              "</style>\n",
              "<table border=\"1\" class=\"dataframe\">\n",
              "  <thead>\n",
              "    <tr style=\"text-align: right;\">\n",
              "      <th></th>\n",
              "      <th>0</th>\n",
              "      <th>1</th>\n",
              "      <th>2</th>\n",
              "      <th>3</th>\n",
              "      <th>4</th>\n",
              "    </tr>\n",
              "  </thead>\n",
              "  <tbody>\n",
              "    <tr>\n",
              "      <th>Carrier_Late(1)/on-time(0)</th>\n",
              "      <td>0</td>\n",
              "      <td>0</td>\n",
              "      <td>1</td>\n",
              "      <td>1</td>\n",
              "      <td>1</td>\n",
              "    </tr>\n",
              "    <tr>\n",
              "      <th>Carrier_Start_Date-Shipping_limit_Days</th>\n",
              "      <td>1.85584</td>\n",
              "      <td>1.00558</td>\n",
              "      <td>-23.7699</td>\n",
              "      <td>-0.115891</td>\n",
              "      <td>-0.169606</td>\n",
              "    </tr>\n",
              "    <tr>\n",
              "      <th>Carrier_time_diff_Days</th>\n",
              "      <td>20.1924</td>\n",
              "      <td>6.99722</td>\n",
              "      <td>6.01736</td>\n",
              "      <td>3.02708</td>\n",
              "      <td>3.09792</td>\n",
              "    </tr>\n",
              "    <tr>\n",
              "      <th>Delivery_time_diff_Days</th>\n",
              "      <td>28.2333</td>\n",
              "      <td>11.9917</td>\n",
              "      <td>36.8958</td>\n",
              "      <td>9.15417</td>\n",
              "      <td>11.1125</td>\n",
              "    </tr>\n",
              "    <tr>\n",
              "      <th>Estimated-Actual_Delivery_Days</th>\n",
              "      <td>2.32847</td>\n",
              "      <td>8.33056</td>\n",
              "      <td>-9.89514</td>\n",
              "      <td>10.4646</td>\n",
              "      <td>7.28542</td>\n",
              "    </tr>\n",
              "    <tr>\n",
              "      <th>Late(1)/on-time(0)</th>\n",
              "      <td>0</td>\n",
              "      <td>0</td>\n",
              "      <td>1</td>\n",
              "      <td>0</td>\n",
              "      <td>0</td>\n",
              "    </tr>\n",
              "    <tr>\n",
              "      <th>Order_Approval_diff_Days</th>\n",
              "      <td>0.896528</td>\n",
              "      <td>0</td>\n",
              "      <td>1.10833</td>\n",
              "      <td>0.0111111</td>\n",
              "      <td>1.84444</td>\n",
              "    </tr>\n",
              "    <tr>\n",
              "      <th>Weight/volume</th>\n",
              "      <td>0.0475146</td>\n",
              "      <td>0.107962</td>\n",
              "      <td>0.107962</td>\n",
              "      <td>0.253968</td>\n",
              "      <td>0.253968</td>\n",
              "    </tr>\n",
              "    <tr>\n",
              "      <th>customer_city</th>\n",
              "      <td>brasilia</td>\n",
              "      <td>concordia</td>\n",
              "      <td>catanduva</td>\n",
              "      <td>sao jose</td>\n",
              "      <td>nova prata</td>\n",
              "    </tr>\n",
              "    <tr>\n",
              "      <th>customer_geolocation_lat</th>\n",
              "      <td>-16.0229</td>\n",
              "      <td>-27.2309</td>\n",
              "      <td>-21.121</td>\n",
              "      <td>-27.5958</td>\n",
              "      <td>-28.7823</td>\n",
              "    </tr>\n",
              "    <tr>\n",
              "      <th>customer_geolocation_lng</th>\n",
              "      <td>-48.0507</td>\n",
              "      <td>-52.0455</td>\n",
              "      <td>-48.9708</td>\n",
              "      <td>-48.6162</td>\n",
              "      <td>-51.6092</td>\n",
              "    </tr>\n",
              "    <tr>\n",
              "      <th>customer_id</th>\n",
              "      <td>e2dc0b0cef178179300195205e3788ef</td>\n",
              "      <td>60c9723c5d232b784f10940175deb500</td>\n",
              "      <td>65d631d0de3181168bc5699f5c766861</td>\n",
              "      <td>8ac1fe94e53325560257c8758c9a8f4a</td>\n",
              "      <td>fec424751aa87f5451286fc3d532fae4</td>\n",
              "    </tr>\n",
              "    <tr>\n",
              "      <th>customer_state</th>\n",
              "      <td>DF</td>\n",
              "      <td>SC</td>\n",
              "      <td>SP</td>\n",
              "      <td>SC</td>\n",
              "      <td>RS</td>\n",
              "    </tr>\n",
              "    <tr>\n",
              "      <th>customer_unique_id</th>\n",
              "      <td>4f308d513ccac2840ecef09e3f27834f</td>\n",
              "      <td>6b3b92110c5adfe4a1334369d1ef2533</td>\n",
              "      <td>78fcceb499ec9008fcecbaad21efefc6</td>\n",
              "      <td>ec81d1c881757b8d02f24f7a3da1a1d9</td>\n",
              "      <td>e8a195f60d266e458b02b0e57e85815d</td>\n",
              "    </tr>\n",
              "    <tr>\n",
              "      <th>customer_zip_code_prefix</th>\n",
              "      <td>72457</td>\n",
              "      <td>89705</td>\n",
              "      <td>15804</td>\n",
              "      <td>88102</td>\n",
              "      <td>95320</td>\n",
              "    </tr>\n",
              "    <tr>\n",
              "      <th>freight/price</th>\n",
              "      <td>0.262954</td>\n",
              "      <td>0.346539</td>\n",
              "      <td>0.427685</td>\n",
              "      <td>0.360382</td>\n",
              "      <td>0.297852</td>\n",
              "    </tr>\n",
              "    <tr>\n",
              "      <th>freight_value</th>\n",
              "      <td>21.01</td>\n",
              "      <td>14.52</td>\n",
              "      <td>17.92</td>\n",
              "      <td>15.1</td>\n",
              "      <td>12.48</td>\n",
              "    </tr>\n",
              "    <tr>\n",
              "      <th>id</th>\n",
              "      <td>0</td>\n",
              "      <td>1</td>\n",
              "      <td>2</td>\n",
              "      <td>3</td>\n",
              "      <td>4</td>\n",
              "    </tr>\n",
              "    <tr>\n",
              "      <th>order_approved_at</th>\n",
              "      <td>2017-04-25 08:02:00</td>\n",
              "      <td>2017-03-16 16:16:00</td>\n",
              "      <td>2017-08-31 02:35:00</td>\n",
              "      <td>2017-05-12 09:25:00</td>\n",
              "      <td>2017-06-20 10:43:00</td>\n",
              "    </tr>\n",
              "    <tr>\n",
              "      <th>order_delivered_carrier_date</th>\n",
              "      <td>2017-05-02 11:30:00</td>\n",
              "      <td>2017-03-21 16:08:00</td>\n",
              "      <td>2017-09-29 21:04:00</td>\n",
              "      <td>2017-05-18 12:12:00</td>\n",
              "      <td>2017-06-26 14:48:00</td>\n",
              "    </tr>\n",
              "    <tr>\n",
              "      <th>order_delivered_customer_date</th>\n",
              "      <td>2017-05-22 16:07:00</td>\n",
              "      <td>2017-03-28 16:04:00</td>\n",
              "      <td>2017-10-05 21:29:00</td>\n",
              "      <td>2017-05-21 12:51:00</td>\n",
              "      <td>2017-06-29 17:09:00</td>\n",
              "    </tr>\n",
              "    <tr>\n",
              "      <th>order_estimated_delivery_date</th>\n",
              "      <td>2017-05-25 00:00:00</td>\n",
              "      <td>2017-04-06 00:00:00</td>\n",
              "      <td>2017-09-26 00:00:00</td>\n",
              "      <td>2017-06-01 00:00:00</td>\n",
              "      <td>2017-07-07 00:00:00</td>\n",
              "    </tr>\n",
              "    <tr>\n",
              "      <th>order_id</th>\n",
              "      <td>b6fa6ea37aeeb90c905eb2a488fc5dc5</td>\n",
              "      <td>87a838f48767365e2b786c485ef2e8b0</td>\n",
              "      <td>8afd15d26436c60441bf3ee71d2a91a8</td>\n",
              "      <td>1a494062b68a8ed99ba9171cb9c9aef5</td>\n",
              "      <td>288ec48ad5ea4c98afe99ea53d523b78</td>\n",
              "    </tr>\n",
              "    <tr>\n",
              "      <th>order_item_id</th>\n",
              "      <td>1</td>\n",
              "      <td>1</td>\n",
              "      <td>1</td>\n",
              "      <td>1</td>\n",
              "      <td>1</td>\n",
              "    </tr>\n",
              "    <tr>\n",
              "      <th>order_purchase_timestamp</th>\n",
              "      <td>2017-04-24 10:31:00</td>\n",
              "      <td>2017-03-16 16:16:00</td>\n",
              "      <td>2017-08-29 23:59:00</td>\n",
              "      <td>2017-05-12 09:09:00</td>\n",
              "      <td>2017-06-18 14:27:00</td>\n",
              "    </tr>\n",
              "    <tr>\n",
              "      <th>order_status</th>\n",
              "      <td>delivered</td>\n",
              "      <td>delivered</td>\n",
              "      <td>delivered</td>\n",
              "      <td>delivered</td>\n",
              "      <td>delivered</td>\n",
              "    </tr>\n",
              "    <tr>\n",
              "      <th>payment_type_count</th>\n",
              "      <td>([0], 4, 0, [1.0])</td>\n",
              "      <td>([1], 4, 0, [1.0])</td>\n",
              "      <td>([0], 4, 0, [1.0])</td>\n",
              "      <td>([1, 3], 4, 0, [2.0, 1.0])</td>\n",
              "      <td>([0], 4, 0, [1.0])</td>\n",
              "    </tr>\n",
              "    <tr>\n",
              "      <th>payment_type_value</th>\n",
              "      <td>([0], 4, 0, [100.91])</td>\n",
              "      <td>([1], 4, 0, [56.42])</td>\n",
              "      <td>([0], 4, 0, [59.82])</td>\n",
              "      <td>([1, 3], 4, 0, [40.22, 16.78])</td>\n",
              "      <td>([0], 4, 0, [54.38])</td>\n",
              "    </tr>\n",
              "    <tr>\n",
              "      <th>price</th>\n",
              "      <td>79.9</td>\n",
              "      <td>41.9</td>\n",
              "      <td>41.9</td>\n",
              "      <td>41.9</td>\n",
              "      <td>41.9</td>\n",
              "    </tr>\n",
              "    <tr>\n",
              "      <th>product_category_name_english</th>\n",
              "      <td>health_beauty</td>\n",
              "      <td>bed_bath_table</td>\n",
              "      <td>bed_bath_table</td>\n",
              "      <td>furniture_decor</td>\n",
              "      <td>furniture_decor</td>\n",
              "    </tr>\n",
              "    <tr>\n",
              "      <th>product_description_lenght</th>\n",
              "      <td>1400</td>\n",
              "      <td>999</td>\n",
              "      <td>999</td>\n",
              "      <td>683</td>\n",
              "      <td>683</td>\n",
              "    </tr>\n",
              "    <tr>\n",
              "      <th>product_height_cm</th>\n",
              "      <td>20</td>\n",
              "      <td>13</td>\n",
              "      <td>13</td>\n",
              "      <td>5</td>\n",
              "      <td>5</td>\n",
              "    </tr>\n",
              "    <tr>\n",
              "      <th>product_id</th>\n",
              "      <td>8a4505505378c8f5d983f3201e9c25da</td>\n",
              "      <td>cd82271424be9568801391194697361c</td>\n",
              "      <td>cd82271424be9568801391194697361c</td>\n",
              "      <td>4da0329350218978429b287440f4b87a</td>\n",
              "      <td>4da0329350218978429b287440f4b87a</td>\n",
              "    </tr>\n",
              "    <tr>\n",
              "      <th>product_length_cm</th>\n",
              "      <td>19</td>\n",
              "      <td>19</td>\n",
              "      <td>19</td>\n",
              "      <td>21</td>\n",
              "      <td>21</td>\n",
              "    </tr>\n",
              "    <tr>\n",
              "      <th>product_name_lenght</th>\n",
              "      <td>47</td>\n",
              "      <td>56</td>\n",
              "      <td>56</td>\n",
              "      <td>63</td>\n",
              "      <td>63</td>\n",
              "    </tr>\n",
              "    <tr>\n",
              "      <th>product_photos_qty</th>\n",
              "      <td>1</td>\n",
              "      <td>1</td>\n",
              "      <td>1</td>\n",
              "      <td>1</td>\n",
              "      <td>1</td>\n",
              "    </tr>\n",
              "    <tr>\n",
              "      <th>product_weight_g</th>\n",
              "      <td>325</td>\n",
              "      <td>400</td>\n",
              "      <td>400</td>\n",
              "      <td>400</td>\n",
              "      <td>400</td>\n",
              "    </tr>\n",
              "    <tr>\n",
              "      <th>product_width_cm</th>\n",
              "      <td>18</td>\n",
              "      <td>15</td>\n",
              "      <td>15</td>\n",
              "      <td>15</td>\n",
              "      <td>15</td>\n",
              "    </tr>\n",
              "    <tr>\n",
              "      <th>review_comment_message</th>\n",
              "      <td>None</td>\n",
              "      <td>Adorei o produto e chegou super rapido.</td>\n",
              "      <td>None</td>\n",
              "      <td>Gostaria apenas que a empresa que me enviou o ...</td>\n",
              "      <td>None</td>\n",
              "    </tr>\n",
              "    <tr>\n",
              "      <th>review_id</th>\n",
              "      <td>11bbc10384b40b673a6101cbd773d39f</td>\n",
              "      <td>654815c89e61741545d8e7d17e277f2b</td>\n",
              "      <td>a112a50d46519520d8b243b98ec21ca4</td>\n",
              "      <td>48fe29ff7afb01dc5420dd679a48ef1a</td>\n",
              "      <td>9009e7e25f6a8e4588f0a8b43297d9d1</td>\n",
              "    </tr>\n",
              "    <tr>\n",
              "      <th>review_score</th>\n",
              "      <td>5</td>\n",
              "      <td>5</td>\n",
              "      <td>3</td>\n",
              "      <td>5</td>\n",
              "      <td>5</td>\n",
              "    </tr>\n",
              "    <tr>\n",
              "      <th>seller_city</th>\n",
              "      <td>lajeado</td>\n",
              "      <td>lajeado</td>\n",
              "      <td>lajeado</td>\n",
              "      <td>lajeado</td>\n",
              "      <td>lajeado</td>\n",
              "    </tr>\n",
              "    <tr>\n",
              "      <th>seller_geolocation_lat</th>\n",
              "      <td>-29.4466</td>\n",
              "      <td>-29.4466</td>\n",
              "      <td>-29.4466</td>\n",
              "      <td>-29.4466</td>\n",
              "      <td>-29.4466</td>\n",
              "    </tr>\n",
              "    <tr>\n",
              "      <th>seller_geolocation_lng</th>\n",
              "      <td>-51.9612</td>\n",
              "      <td>-51.9612</td>\n",
              "      <td>-51.9612</td>\n",
              "      <td>-51.9612</td>\n",
              "      <td>-51.9612</td>\n",
              "    </tr>\n",
              "    <tr>\n",
              "      <th>seller_id</th>\n",
              "      <td>062ce95fa2ad4dfaedfc79260130565f</td>\n",
              "      <td>062ce95fa2ad4dfaedfc79260130565f</td>\n",
              "      <td>062ce95fa2ad4dfaedfc79260130565f</td>\n",
              "      <td>062ce95fa2ad4dfaedfc79260130565f</td>\n",
              "      <td>062ce95fa2ad4dfaedfc79260130565f</td>\n",
              "    </tr>\n",
              "    <tr>\n",
              "      <th>seller_state</th>\n",
              "      <td>RS</td>\n",
              "      <td>RS</td>\n",
              "      <td>RS</td>\n",
              "      <td>RS</td>\n",
              "      <td>RS</td>\n",
              "    </tr>\n",
              "    <tr>\n",
              "      <th>seller_zip_code_prefix</th>\n",
              "      <td>95913</td>\n",
              "      <td>95913</td>\n",
              "      <td>95913</td>\n",
              "      <td>95913</td>\n",
              "      <td>95913</td>\n",
              "    </tr>\n",
              "    <tr>\n",
              "      <th>shipping_limit_date</th>\n",
              "      <td>2017-05-04 08:02:25</td>\n",
              "      <td>2017-03-22 16:16:02</td>\n",
              "      <td>2017-09-06 02:35:21</td>\n",
              "      <td>2017-05-18 09:25:07</td>\n",
              "      <td>2017-06-26 10:43:46</td>\n",
              "    </tr>\n",
              "    <tr>\n",
              "      <th>total_payment</th>\n",
              "      <td>100.91</td>\n",
              "      <td>56.42</td>\n",
              "      <td>59.82</td>\n",
              "      <td>57</td>\n",
              "      <td>54.38</td>\n",
              "    </tr>\n",
              "    <tr>\n",
              "      <th>Distance_Sell_Cust</th>\n",
              "      <td>1545.21</td>\n",
              "      <td>246.51</td>\n",
              "      <td>973.22</td>\n",
              "      <td>386.18</td>\n",
              "      <td>81.4</td>\n",
              "    </tr>\n",
              "  </tbody>\n",
              "</table>\n",
              "</div>"
            ],
            "text/plain": [
              "                                                                       0  ...                                 4\n",
              "Carrier_Late(1)/on-time(0)                                             0  ...                                 1\n",
              "Carrier_Start_Date-Shipping_limit_Days                           1.85584  ...                         -0.169606\n",
              "Carrier_time_diff_Days                                           20.1924  ...                           3.09792\n",
              "Delivery_time_diff_Days                                          28.2333  ...                           11.1125\n",
              "Estimated-Actual_Delivery_Days                                   2.32847  ...                           7.28542\n",
              "Late(1)/on-time(0)                                                     0  ...                                 0\n",
              "Order_Approval_diff_Days                                        0.896528  ...                           1.84444\n",
              "Weight/volume                                                  0.0475146  ...                          0.253968\n",
              "customer_city                                                   brasilia  ...                        nova prata\n",
              "customer_geolocation_lat                                        -16.0229  ...                          -28.7823\n",
              "customer_geolocation_lng                                        -48.0507  ...                          -51.6092\n",
              "customer_id                             e2dc0b0cef178179300195205e3788ef  ...  fec424751aa87f5451286fc3d532fae4\n",
              "customer_state                                                        DF  ...                                RS\n",
              "customer_unique_id                      4f308d513ccac2840ecef09e3f27834f  ...  e8a195f60d266e458b02b0e57e85815d\n",
              "customer_zip_code_prefix                                           72457  ...                             95320\n",
              "freight/price                                                   0.262954  ...                          0.297852\n",
              "freight_value                                                      21.01  ...                             12.48\n",
              "id                                                                     0  ...                                 4\n",
              "order_approved_at                                    2017-04-25 08:02:00  ...               2017-06-20 10:43:00\n",
              "order_delivered_carrier_date                         2017-05-02 11:30:00  ...               2017-06-26 14:48:00\n",
              "order_delivered_customer_date                        2017-05-22 16:07:00  ...               2017-06-29 17:09:00\n",
              "order_estimated_delivery_date                        2017-05-25 00:00:00  ...               2017-07-07 00:00:00\n",
              "order_id                                b6fa6ea37aeeb90c905eb2a488fc5dc5  ...  288ec48ad5ea4c98afe99ea53d523b78\n",
              "order_item_id                                                          1  ...                                 1\n",
              "order_purchase_timestamp                             2017-04-24 10:31:00  ...               2017-06-18 14:27:00\n",
              "order_status                                                   delivered  ...                         delivered\n",
              "payment_type_count                                    ([0], 4, 0, [1.0])  ...                ([0], 4, 0, [1.0])\n",
              "payment_type_value                                 ([0], 4, 0, [100.91])  ...              ([0], 4, 0, [54.38])\n",
              "price                                                               79.9  ...                              41.9\n",
              "product_category_name_english                              health_beauty  ...                   furniture_decor\n",
              "product_description_lenght                                          1400  ...                               683\n",
              "product_height_cm                                                     20  ...                                 5\n",
              "product_id                              8a4505505378c8f5d983f3201e9c25da  ...  4da0329350218978429b287440f4b87a\n",
              "product_length_cm                                                     19  ...                                21\n",
              "product_name_lenght                                                   47  ...                                63\n",
              "product_photos_qty                                                     1  ...                                 1\n",
              "product_weight_g                                                     325  ...                               400\n",
              "product_width_cm                                                      18  ...                                15\n",
              "review_comment_message                                              None  ...                              None\n",
              "review_id                               11bbc10384b40b673a6101cbd773d39f  ...  9009e7e25f6a8e4588f0a8b43297d9d1\n",
              "review_score                                                           5  ...                                 5\n",
              "seller_city                                                      lajeado  ...                           lajeado\n",
              "seller_geolocation_lat                                          -29.4466  ...                          -29.4466\n",
              "seller_geolocation_lng                                          -51.9612  ...                          -51.9612\n",
              "seller_id                               062ce95fa2ad4dfaedfc79260130565f  ...  062ce95fa2ad4dfaedfc79260130565f\n",
              "seller_state                                                          RS  ...                                RS\n",
              "seller_zip_code_prefix                                             95913  ...                             95913\n",
              "shipping_limit_date                                  2017-05-04 08:02:25  ...               2017-06-26 10:43:46\n",
              "total_payment                                                     100.91  ...                             54.38\n",
              "Distance_Sell_Cust                                               1545.21  ...                              81.4\n",
              "\n",
              "[50 rows x 5 columns]"
            ]
          },
          "metadata": {
            "tags": []
          },
          "execution_count": 21
        }
      ]
    },
    {
      "cell_type": "markdown",
      "metadata": {
        "id": "Hv9SqFvUdWp_",
        "colab_type": "text"
      },
      "source": [
        "### Summary statistics for numeric variables"
      ]
    },
    {
      "cell_type": "code",
      "metadata": {
        "id": "pnqHPXQUdZBZ",
        "colab_type": "code",
        "outputId": "ca935a8a-6903-454a-feb8-3e833aae0a2e",
        "colab": {
          "base_uri": "https://localhost:8080/",
          "height": 669
        }
      },
      "source": [
        "numeric_features = [t[0] for t in final_order.dtypes if t[1] == 'int' or t[1] == 'double']\n",
        "final_order.select(numeric_features).describe().toPandas().transpose()"
      ],
      "execution_count": 0,
      "outputs": [
        {
          "output_type": "execute_result",
          "data": {
            "text/html": [
              "<div>\n",
              "<style scoped>\n",
              "    .dataframe tbody tr th:only-of-type {\n",
              "        vertical-align: middle;\n",
              "    }\n",
              "\n",
              "    .dataframe tbody tr th {\n",
              "        vertical-align: top;\n",
              "    }\n",
              "\n",
              "    .dataframe thead th {\n",
              "        text-align: right;\n",
              "    }\n",
              "</style>\n",
              "<table border=\"1\" class=\"dataframe\">\n",
              "  <thead>\n",
              "    <tr style=\"text-align: right;\">\n",
              "      <th></th>\n",
              "      <th>0</th>\n",
              "      <th>1</th>\n",
              "      <th>2</th>\n",
              "      <th>3</th>\n",
              "      <th>4</th>\n",
              "    </tr>\n",
              "  </thead>\n",
              "  <tbody>\n",
              "    <tr>\n",
              "      <th>summary</th>\n",
              "      <td>count</td>\n",
              "      <td>mean</td>\n",
              "      <td>stddev</td>\n",
              "      <td>min</td>\n",
              "      <td>max</td>\n",
              "    </tr>\n",
              "    <tr>\n",
              "      <th>Carrier_Start_Date-Shipping_limit_Days</th>\n",
              "      <td>111458</td>\n",
              "      <td>3.323449424646255</td>\n",
              "      <td>6.611830825323372</td>\n",
              "      <td>-116.76210648148148</td>\n",
              "      <td>1054.244699074074</td>\n",
              "    </tr>\n",
              "    <tr>\n",
              "      <th>Carrier_time_diff_Days</th>\n",
              "      <td>110204</td>\n",
              "      <td>9.187476388485582</td>\n",
              "      <td>8.625245730872752</td>\n",
              "      <td>-16.096527777777776</td>\n",
              "      <td>205.19097222222223</td>\n",
              "    </tr>\n",
              "    <tr>\n",
              "      <th>Delivery_time_diff_Days</th>\n",
              "      <td>110204</td>\n",
              "      <td>12.471911661806976</td>\n",
              "      <td>9.445657264937694</td>\n",
              "      <td>0.5333333333333333</td>\n",
              "      <td>209.62847222222223</td>\n",
              "    </tr>\n",
              "    <tr>\n",
              "      <th>Estimated-Actual_Delivery_Days</th>\n",
              "      <td>110204</td>\n",
              "      <td>11.33420883719683</td>\n",
              "      <td>10.162360341914734</td>\n",
              "      <td>-188.975</td>\n",
              "      <td>146.01666666666668</td>\n",
              "    </tr>\n",
              "    <tr>\n",
              "      <th>Order_Approval_diff_Days</th>\n",
              "      <td>112650</td>\n",
              "      <td>0.4407822717857845</td>\n",
              "      <td>0.9300477452053918</td>\n",
              "      <td>0.0</td>\n",
              "      <td>60.452777777777776</td>\n",
              "    </tr>\n",
              "    <tr>\n",
              "      <th>Weight/volume</th>\n",
              "      <td>112650</td>\n",
              "      <td>0.19165509869709305</td>\n",
              "      <td>0.7843924552475219</td>\n",
              "      <td>0.0</td>\n",
              "      <td>85.22727272727273</td>\n",
              "    </tr>\n",
              "    <tr>\n",
              "      <th>customer_geolocation_lat</th>\n",
              "      <td>112650</td>\n",
              "      <td>-21.21992533847987</td>\n",
              "      <td>5.574039609879062</td>\n",
              "      <td>-33.68994828</td>\n",
              "      <td>42.18400274</td>\n",
              "    </tr>\n",
              "    <tr>\n",
              "      <th>customer_geolocation_lng</th>\n",
              "      <td>112650</td>\n",
              "      <td>-46.2032264634759</td>\n",
              "      <td>4.0369486040187095</td>\n",
              "      <td>-72.66888054</td>\n",
              "      <td>-8.723762148</td>\n",
              "    </tr>\n",
              "    <tr>\n",
              "      <th>freight/price</th>\n",
              "      <td>112650</td>\n",
              "      <td>0.32086354907978043</td>\n",
              "      <td>0.3498936787366237</td>\n",
              "      <td>0.0</td>\n",
              "      <td>26.23529411764706</td>\n",
              "    </tr>\n",
              "    <tr>\n",
              "      <th>freight_value</th>\n",
              "      <td>112650</td>\n",
              "      <td>19.99031992898291</td>\n",
              "      <td>15.806405412297059</td>\n",
              "      <td>0.0</td>\n",
              "      <td>409.68</td>\n",
              "    </tr>\n",
              "    <tr>\n",
              "      <th>price</th>\n",
              "      <td>112650</td>\n",
              "      <td>120.65373901464493</td>\n",
              "      <td>183.6339280502592</td>\n",
              "      <td>0.85</td>\n",
              "      <td>6735.0</td>\n",
              "    </tr>\n",
              "    <tr>\n",
              "      <th>product_height_cm</th>\n",
              "      <td>112650</td>\n",
              "      <td>16.593765537239236</td>\n",
              "      <td>13.442409071880146</td>\n",
              "      <td>2.0</td>\n",
              "      <td>105.0</td>\n",
              "    </tr>\n",
              "    <tr>\n",
              "      <th>product_length_cm</th>\n",
              "      <td>112650</td>\n",
              "      <td>30.153668584642702</td>\n",
              "      <td>16.15215853825382</td>\n",
              "      <td>7.0</td>\n",
              "      <td>105.0</td>\n",
              "    </tr>\n",
              "    <tr>\n",
              "      <th>product_weight_g</th>\n",
              "      <td>112650</td>\n",
              "      <td>2093.672047012871</td>\n",
              "      <td>3751.2971407655946</td>\n",
              "      <td>0.0</td>\n",
              "      <td>40425.0</td>\n",
              "    </tr>\n",
              "    <tr>\n",
              "      <th>product_width_cm</th>\n",
              "      <td>112650</td>\n",
              "      <td>22.99654627454949</td>\n",
              "      <td>11.706332933784418</td>\n",
              "      <td>6.0</td>\n",
              "      <td>118.0</td>\n",
              "    </tr>\n",
              "    <tr>\n",
              "      <th>review_score</th>\n",
              "      <td>112650</td>\n",
              "      <td>4.015685752330226</td>\n",
              "      <td>1.3999405323402128</td>\n",
              "      <td>1</td>\n",
              "      <td>5</td>\n",
              "    </tr>\n",
              "    <tr>\n",
              "      <th>seller_geolocation_lat</th>\n",
              "      <td>112650</td>\n",
              "      <td>-22.795608138679</td>\n",
              "      <td>2.6981513822892147</td>\n",
              "      <td>-32.07923134</td>\n",
              "      <td>-2.501242201</td>\n",
              "    </tr>\n",
              "    <tr>\n",
              "      <th>seller_geolocation_lng</th>\n",
              "      <td>112650</td>\n",
              "      <td>-47.234790470731966</td>\n",
              "      <td>2.3376753319136037</td>\n",
              "      <td>-67.81328447</td>\n",
              "      <td>-34.85561616</td>\n",
              "    </tr>\n",
              "    <tr>\n",
              "      <th>total_payment</th>\n",
              "      <td>112647</td>\n",
              "      <td>180.28118556197265</td>\n",
              "      <td>272.8490416337876</td>\n",
              "      <td>9.59</td>\n",
              "      <td>13664.08</td>\n",
              "    </tr>\n",
              "  </tbody>\n",
              "</table>\n",
              "</div>"
            ],
            "text/plain": [
              "                                             0  ...                   4\n",
              "summary                                  count  ...                 max\n",
              "Carrier_Start_Date-Shipping_limit_Days  111458  ...   1054.244699074074\n",
              "Carrier_time_diff_Days                  110204  ...  205.19097222222223\n",
              "Delivery_time_diff_Days                 110204  ...  209.62847222222223\n",
              "Estimated-Actual_Delivery_Days          110204  ...  146.01666666666668\n",
              "Order_Approval_diff_Days                112650  ...  60.452777777777776\n",
              "Weight/volume                           112650  ...   85.22727272727273\n",
              "customer_geolocation_lat                112650  ...         42.18400274\n",
              "customer_geolocation_lng                112650  ...        -8.723762148\n",
              "freight/price                           112650  ...   26.23529411764706\n",
              "freight_value                           112650  ...              409.68\n",
              "price                                   112650  ...              6735.0\n",
              "product_height_cm                       112650  ...               105.0\n",
              "product_length_cm                       112650  ...               105.0\n",
              "product_weight_g                        112650  ...             40425.0\n",
              "product_width_cm                        112650  ...               118.0\n",
              "review_score                            112650  ...                   5\n",
              "seller_geolocation_lat                  112650  ...        -2.501242201\n",
              "seller_geolocation_lng                  112650  ...        -34.85561616\n",
              "total_payment                           112647  ...            13664.08\n",
              "\n",
              "[20 rows x 5 columns]"
            ]
          },
          "metadata": {
            "tags": []
          },
          "execution_count": 22
        }
      ]
    },
    {
      "cell_type": "markdown",
      "metadata": {
        "id": "oIxdlZEjdbtK",
        "colab_type": "text"
      },
      "source": [
        "### Correlations between independent variables."
      ]
    },
    {
      "cell_type": "code",
      "metadata": {
        "id": "t2wAc5AzdcO3",
        "colab_type": "code",
        "outputId": "c764463e-c40e-464c-93a4-c308a5fe3657",
        "colab": {
          "base_uri": "https://localhost:8080/",
          "height": 670
        }
      },
      "source": [
        "numeric_data = final_order.select(numeric_features).toPandas()\n",
        "axs = pd.plotting.scatter_matrix(numeric_data, figsize=(8, 8));\n",
        "n = len(numeric_data.columns)\n",
        "for i in range(n):\n",
        "    v = axs[i, 0]\n",
        "    v.yaxis.label.set_rotation(0)\n",
        "    v.yaxis.label.set_ha('right')\n",
        "    v.set_yticks(())\n",
        "    h = axs[n-1, i]\n",
        "    h.xaxis.label.set_rotation(90)\n",
        "    h.set_xticks(())"
      ],
      "execution_count": 0,
      "outputs": [
        {
          "output_type": "display_data",
          "data": {
            "image/png": "[encoded data removed]",
            "text/plain": [
              "<Figure size 576x576 with 361 Axes>"
            ]
          },
          "metadata": {
            "tags": []
          }
        }
      ]
    },
    {
      "cell_type": "markdown",
      "metadata": {
        "id": "garEbrCPdd0j",
        "colab_type": "text"
      },
      "source": [
        "(Write down Interpretation) e.g .... It’s obvious that there aren’t highly correlated numeric variables. Therefore, we will keep all of them for the model. However, day and month columns are not really useful, we will remove these two columns."
      ]
    },
    {
      "cell_type": "code",
      "metadata": {
        "id": "avbis4e7dsab",
        "colab_type": "code",
        "outputId": "9ac656d6-96fa-4f04-e9eb-48cbf831265f",
        "colab": {
          "base_uri": "https://localhost:8080/",
          "height": 1000
        }
      },
      "source": [
        "cols = final_order.columns\n",
        "final_order.printSchema()"
      ],
      "execution_count": 0,
      "outputs": [
        {
          "output_type": "stream",
          "text": [
            "root\n",
            " |-- Carrier_Late(1)/on-time(0): long (nullable = true)\n",
            " |-- Carrier_Start_Date-Shipping_limit_Days: double (nullable = true)\n",
            " |-- Carrier_time_diff_Days: double (nullable = true)\n",
            " |-- Delivery_time_diff_Days: double (nullable = true)\n",
            " |-- Estimated-Actual_Delivery_Days: double (nullable = true)\n",
            " |-- Late(1)/on-time(0): long (nullable = true)\n",
            " |-- Order_Approval_diff_Days: double (nullable = true)\n",
            " |-- Weight/volume: double (nullable = true)\n",
            " |-- customer_city: string (nullable = true)\n",
            " |-- customer_geolocation_lat: double (nullable = true)\n",
            " |-- customer_geolocation_lng: double (nullable = true)\n",
            " |-- customer_id: string (nullable = true)\n",
            " |-- customer_state: string (nullable = true)\n",
            " |-- customer_unique_id: string (nullable = true)\n",
            " |-- customer_zip_code_prefix: long (nullable = true)\n",
            " |-- freight/price: double (nullable = true)\n",
            " |-- freight_value: double (nullable = true)\n",
            " |-- id: long (nullable = true)\n",
            " |-- order_approved_at: timestamp (nullable = true)\n",
            " |-- order_delivered_carrier_date: timestamp (nullable = true)\n",
            " |-- order_delivered_customer_date: timestamp (nullable = true)\n",
            " |-- order_estimated_delivery_date: timestamp (nullable = true)\n",
            " |-- order_id: string (nullable = true)\n",
            " |-- order_item_id: long (nullable = true)\n",
            " |-- order_purchase_timestamp: timestamp (nullable = true)\n",
            " |-- order_status: string (nullable = true)\n",
            " |-- payment_type_count: struct (nullable = true)\n",
            " |    |-- indices: array (nullable = true)\n",
            " |    |    |-- element: long (containsNull = true)\n",
            " |    |-- size: long (nullable = true)\n",
            " |    |-- type: long (nullable = true)\n",
            " |    |-- values: array (nullable = true)\n",
            " |    |    |-- element: double (containsNull = true)\n",
            " |-- payment_type_value: struct (nullable = true)\n",
            " |    |-- indices: array (nullable = true)\n",
            " |    |    |-- element: long (containsNull = true)\n",
            " |    |-- size: long (nullable = true)\n",
            " |    |-- type: long (nullable = true)\n",
            " |    |-- values: array (nullable = true)\n",
            " |    |    |-- element: double (containsNull = true)\n",
            " |-- price: double (nullable = true)\n",
            " |-- product_category_name_english: string (nullable = true)\n",
            " |-- product_description_lenght: long (nullable = true)\n",
            " |-- product_height_cm: double (nullable = true)\n",
            " |-- product_id: string (nullable = true)\n",
            " |-- product_length_cm: double (nullable = true)\n",
            " |-- product_name_lenght: long (nullable = true)\n",
            " |-- product_photos_qty: long (nullable = true)\n",
            " |-- product_weight_g: double (nullable = true)\n",
            " |-- product_width_cm: double (nullable = true)\n",
            " |-- review_comment_message: string (nullable = true)\n",
            " |-- review_id: string (nullable = true)\n",
            " |-- review_score: integer (nullable = true)\n",
            " |-- seller_city: string (nullable = true)\n",
            " |-- seller_geolocation_lat: double (nullable = true)\n",
            " |-- seller_geolocation_lng: double (nullable = true)\n",
            " |-- seller_id: string (nullable = true)\n",
            " |-- seller_state: string (nullable = true)\n",
            " |-- seller_zip_code_prefix: long (nullable = true)\n",
            " |-- shipping_limit_date: timestamp (nullable = true)\n",
            " |-- total_payment: double (nullable = true)\n",
            " |-- Distance_Sell_Cust: float (nullable = true)\n",
            "\n"
          ],
          "name": "stdout"
        }
      ]
    },
    {
      "cell_type": "markdown",
      "metadata": {
        "id": "y3uGTHbhiSFC",
        "colab_type": "text"
      },
      "source": [
        "### data visualization"
      ]
    },
    {
      "cell_type": "code",
      "metadata": {
        "id": "79Xo4mnjiRlR",
        "colab_type": "code",
        "colab": {}
      },
      "source": [
        "# convert spark dataframe to pandas for visualization\n",
        "final_order_df = final_order.toPandas()"
      ],
      "execution_count": 0,
      "outputs": []
    },
    {
      "cell_type": "code",
      "metadata": {
        "id": "JtYo52isiU2y",
        "colab_type": "code",
        "outputId": "10d26bcc-0a88-4165-9224-b8fda08fa510",
        "colab": {
          "base_uri": "https://localhost:8080/",
          "height": 269
        }
      },
      "source": [
        "import matplotlib.pyplot as plt\n",
        "plt.hist(final_order_df['Weight/volume'])\n",
        "plt.show()"
      ],
      "execution_count": 0,
      "outputs": [
        {
          "output_type": "display_data",
          "data": {
            "image/png": "[encoded data removed]",
            "text/plain": [
              "<Figure size 432x288 with 1 Axes>"
            ]
          },
          "metadata": {
            "tags": []
          }
        }
      ]
    },
    {
      "cell_type": "code",
      "metadata": {
        "id": "qm1WhMmDiW4D",
        "colab_type": "code",
        "outputId": "3756bcc2-c1b8-42d8-ab33-2aeeb1d72ac2",
        "colab": {
          "base_uri": "https://localhost:8080/",
          "height": 270
        }
      },
      "source": [
        "#Check outlier in numerical variable\n",
        "final_order_df[[\"review_score\"]].boxplot(sym='g-*', grid=True)\n",
        "plt.show()"
      ],
      "execution_count": 0,
      "outputs": [
        {
          "output_type": "display_data",
          "data": {
            "image/png": "[encoded data removed]",
            "text/plain": [
              "<Figure size 432x288 with 1 Axes>"
            ]
          },
          "metadata": {
            "tags": []
          }
        }
      ]
    },
    {
      "cell_type": "markdown",
      "metadata": {
        "id": "1-7fnWJwd2EA",
        "colab_type": "text"
      },
      "source": [
        "## Preparing Data for Machine Learning\n",
        "### Feature Engineering\n",
        "Feature engineering is the process of using domain knowledge of the data to create features that make machine learning algorithms work. It is fundamental to the application of machine learning and helps in increasing the accuracy of the model. It is really essential in creating the right features.I will be using Random Forest Regressor model for this data. So, I split the date into discrete components so the decision trees were able to make better guesses.\n",
        "Let's look through it deeply. 80 percent of a data scientist's valuable time is spent simply finding, cleansing, and organizing data, leaving only 20 percent to actually perform analysis. According to this part, our analysis can be more accurate and build better models."
      ]
    },
    {
      "cell_type": "markdown",
      "metadata": {
        "id": "KOmFwrPwhK8v",
        "colab_type": "text"
      },
      "source": [
        "### Check the number of variables in target."
      ]
    },
    {
      "cell_type": "code",
      "metadata": {
        "id": "OkEhGrtphJ_5",
        "colab_type": "code",
        "outputId": "80b11257-1a57-4cfb-b365-bc4aac470956",
        "colab": {
          "base_uri": "https://localhost:8080/",
          "height": 136
        }
      },
      "source": [
        "from pyspark.sql.functions import col\n",
        "final_order.groupBy(\"Late(1)/on-time(0)\") \\\n",
        "            .count() \\\n",
        "            .orderBy(col(\"count\").desc()) \\\n",
        "            .show()"
      ],
      "execution_count": 0,
      "outputs": [
        {
          "output_type": "stream",
          "text": [
            "+------------------+------+\n",
            "|Late(1)/on-time(0)| count|\n",
            "+------------------+------+\n",
            "|                 0|103935|\n",
            "|                 1|  8715|\n",
            "+------------------+------+\n",
            "\n"
          ],
          "name": "stdout"
        }
      ]
    },
    {
      "cell_type": "markdown",
      "metadata": {
        "id": "IK4BCYx7hb5M",
        "colab_type": "text"
      },
      "source": [
        "### Check the missing values"
      ]
    },
    {
      "cell_type": "code",
      "metadata": {
        "id": "p6WQzJ53hefG",
        "colab_type": "code",
        "colab": {}
      },
      "source": [
        "#final_order_df = final_order.toPandas()"
      ],
      "execution_count": 0,
      "outputs": []
    },
    {
      "cell_type": "code",
      "metadata": {
        "id": "f4nu08HShm7A",
        "colab_type": "code",
        "outputId": "2468c564-d8fa-4094-dbf9-67a95bd6cdc4",
        "colab": {
          "base_uri": "https://localhost:8080/",
          "height": 884
        }
      },
      "source": [
        "final_order_df.isnull().sum() # check the missing values"
      ],
      "execution_count": 0,
      "outputs": [
        {
          "output_type": "execute_result",
          "data": {
            "text/plain": [
              "Carrier_Late(1)/on-time(0)                    0\n",
              "Carrier_Start_Date-Shipping_limit_Days     1192\n",
              "Carrier_time_diff_Days                     2446\n",
              "Delivery_time_diff_Days                    2446\n",
              "Estimated-Actual_Delivery_Days             2446\n",
              "Late(1)/on-time(0)                            0\n",
              "Order_Approval_diff_Days                      0\n",
              "Weight/volume                                 0\n",
              "customer_city                                 0\n",
              "customer_geolocation_lat                      0\n",
              "customer_geolocation_lng                      0\n",
              "customer_id                                   0\n",
              "customer_state                                0\n",
              "customer_unique_id                            0\n",
              "customer_zip_code_prefix                      0\n",
              "freight/price                                 0\n",
              "freight_value                                 0\n",
              "id                                            0\n",
              "order_approved_at                             0\n",
              "order_delivered_carrier_date               1192\n",
              "order_delivered_customer_date              2446\n",
              "order_estimated_delivery_date                 0\n",
              "order_id                                      0\n",
              "order_item_id                                 0\n",
              "order_purchase_timestamp                      0\n",
              "order_status                                  0\n",
              "payment_type_count                            3\n",
              "payment_type_value                            3\n",
              "price                                         0\n",
              "product_category_name_english              1627\n",
              "product_description_lenght                 1603\n",
              "product_height_cm                             0\n",
              "product_id                                    0\n",
              "product_length_cm                             0\n",
              "product_name_lenght                        1603\n",
              "product_photos_qty                         1603\n",
              "product_weight_g                              0\n",
              "product_width_cm                              0\n",
              "review_comment_message                    64296\n",
              "review_id                                     0\n",
              "review_score                                  0\n",
              "seller_city                                   0\n",
              "seller_geolocation_lat                        0\n",
              "seller_geolocation_lng                        0\n",
              "seller_id                                     0\n",
              "seller_state                                  0\n",
              "seller_zip_code_prefix                        0\n",
              "shipping_limit_date                           0\n",
              "total_payment                                 3\n",
              "Distance_Sell_Cust                            0\n",
              "dtype: int64"
            ]
          },
          "metadata": {
            "tags": []
          },
          "execution_count": 30
        }
      ]
    },
    {
      "cell_type": "code",
      "metadata": {
        "id": "HTikbZ-khpuf",
        "colab_type": "code",
        "outputId": "21e30cd7-4e18-4384-dc43-a4885101e19f",
        "colab": {
          "base_uri": "https://localhost:8080/",
          "height": 438
        }
      },
      "source": [
        "import seaborn as sns\n",
        "sns.heatmap(final_order_df.isnull(),yticklabels=False,cbar=False,cmap='viridis')"
      ],
      "execution_count": 0,
      "outputs": [
        {
          "output_type": "execute_result",
          "data": {
            "text/plain": [
              "<matplotlib.axes._subplots.AxesSubplot at 0x7fb4c70567d0>"
            ]
          },
          "metadata": {
            "tags": []
          },
          "execution_count": 31
        },
        {
          "output_type": "display_data",
          "data": {
            "image/png": "[encoded data removed]",
            "text/plain": [
              "<Figure size 432x288 with 1 Axes>"
            ]
          },
          "metadata": {
            "tags": []
          }
        }
      ]
    },
    {
      "cell_type": "code",
      "metadata": {
        "id": "II9kGolshr_4",
        "colab_type": "code",
        "outputId": "1584545c-dfb2-45dc-f1f7-51ece7338d00",
        "colab": {
          "base_uri": "https://localhost:8080/",
          "height": 241
        }
      },
      "source": [
        "missing_data = final_order_df.isnull()\n",
        "missing_data.head(5)"
      ],
      "execution_count": 0,
      "outputs": [
        {
          "output_type": "execute_result",
          "data": {
            "text/html": [
              "<div>\n",
              "<style scoped>\n",
              "    .dataframe tbody tr th:only-of-type {\n",
              "        vertical-align: middle;\n",
              "    }\n",
              "\n",
              "    .dataframe tbody tr th {\n",
              "        vertical-align: top;\n",
              "    }\n",
              "\n",
              "    .dataframe thead th {\n",
              "        text-align: right;\n",
              "    }\n",
              "</style>\n",
              "<table border=\"1\" class=\"dataframe\">\n",
              "  <thead>\n",
              "    <tr style=\"text-align: right;\">\n",
              "      <th></th>\n",
              "      <th>Carrier_Late(1)/on-time(0)</th>\n",
              "      <th>Carrier_Start_Date-Shipping_limit_Days</th>\n",
              "      <th>Carrier_time_diff_Days</th>\n",
              "      <th>Delivery_time_diff_Days</th>\n",
              "      <th>Estimated-Actual_Delivery_Days</th>\n",
              "      <th>Late(1)/on-time(0)</th>\n",
              "      <th>Order_Approval_diff_Days</th>\n",
              "      <th>Weight/volume</th>\n",
              "      <th>customer_city</th>\n",
              "      <th>customer_geolocation_lat</th>\n",
              "      <th>customer_geolocation_lng</th>\n",
              "      <th>customer_id</th>\n",
              "      <th>customer_state</th>\n",
              "      <th>customer_unique_id</th>\n",
              "      <th>customer_zip_code_prefix</th>\n",
              "      <th>freight/price</th>\n",
              "      <th>freight_value</th>\n",
              "      <th>id</th>\n",
              "      <th>order_approved_at</th>\n",
              "      <th>order_delivered_carrier_date</th>\n",
              "      <th>order_delivered_customer_date</th>\n",
              "      <th>order_estimated_delivery_date</th>\n",
              "      <th>order_id</th>\n",
              "      <th>order_item_id</th>\n",
              "      <th>order_purchase_timestamp</th>\n",
              "      <th>order_status</th>\n",
              "      <th>payment_type_count</th>\n",
              "      <th>payment_type_value</th>\n",
              "      <th>price</th>\n",
              "      <th>product_category_name_english</th>\n",
              "      <th>product_description_lenght</th>\n",
              "      <th>product_height_cm</th>\n",
              "      <th>product_id</th>\n",
              "      <th>product_length_cm</th>\n",
              "      <th>product_name_lenght</th>\n",
              "      <th>product_photos_qty</th>\n",
              "      <th>product_weight_g</th>\n",
              "      <th>product_width_cm</th>\n",
              "      <th>review_comment_message</th>\n",
              "      <th>review_id</th>\n",
              "      <th>review_score</th>\n",
              "      <th>seller_city</th>\n",
              "      <th>seller_geolocation_lat</th>\n",
              "      <th>seller_geolocation_lng</th>\n",
              "      <th>seller_id</th>\n",
              "      <th>seller_state</th>\n",
              "      <th>seller_zip_code_prefix</th>\n",
              "      <th>shipping_limit_date</th>\n",
              "      <th>total_payment</th>\n",
              "      <th>Distance_Sell_Cust</th>\n",
              "    </tr>\n",
              "  </thead>\n",
              "  <tbody>\n",
              "    <tr>\n",
              "      <th>0</th>\n",
              "      <td>False</td>\n",
              "      <td>False</td>\n",
              "      <td>False</td>\n",
              "      <td>False</td>\n",
              "      <td>False</td>\n",
              "      <td>False</td>\n",
              "      <td>False</td>\n",
              "      <td>False</td>\n",
              "      <td>False</td>\n",
              "      <td>False</td>\n",
              "      <td>False</td>\n",
              "      <td>False</td>\n",
              "      <td>False</td>\n",
              "      <td>False</td>\n",
              "      <td>False</td>\n",
              "      <td>False</td>\n",
              "      <td>False</td>\n",
              "      <td>False</td>\n",
              "      <td>False</td>\n",
              "      <td>False</td>\n",
              "      <td>False</td>\n",
              "      <td>False</td>\n",
              "      <td>False</td>\n",
              "      <td>False</td>\n",
              "      <td>False</td>\n",
              "      <td>False</td>\n",
              "      <td>False</td>\n",
              "      <td>False</td>\n",
              "      <td>False</td>\n",
              "      <td>False</td>\n",
              "      <td>False</td>\n",
              "      <td>False</td>\n",
              "      <td>False</td>\n",
              "      <td>False</td>\n",
              "      <td>False</td>\n",
              "      <td>False</td>\n",
              "      <td>False</td>\n",
              "      <td>False</td>\n",
              "      <td>True</td>\n",
              "      <td>False</td>\n",
              "      <td>False</td>\n",
              "      <td>False</td>\n",
              "      <td>False</td>\n",
              "      <td>False</td>\n",
              "      <td>False</td>\n",
              "      <td>False</td>\n",
              "      <td>False</td>\n",
              "      <td>False</td>\n",
              "      <td>False</td>\n",
              "      <td>False</td>\n",
              "    </tr>\n",
              "    <tr>\n",
              "      <th>1</th>\n",
              "      <td>False</td>\n",
              "      <td>False</td>\n",
              "      <td>False</td>\n",
              "      <td>False</td>\n",
              "      <td>False</td>\n",
              "      <td>False</td>\n",
              "      <td>False</td>\n",
              "      <td>False</td>\n",
              "      <td>False</td>\n",
              "      <td>False</td>\n",
              "      <td>False</td>\n",
              "      <td>False</td>\n",
              "      <td>False</td>\n",
              "      <td>False</td>\n",
              "      <td>False</td>\n",
              "      <td>False</td>\n",
              "      <td>False</td>\n",
              "      <td>False</td>\n",
              "      <td>False</td>\n",
              "      <td>False</td>\n",
              "      <td>False</td>\n",
              "      <td>False</td>\n",
              "      <td>False</td>\n",
              "      <td>False</td>\n",
              "      <td>False</td>\n",
              "      <td>False</td>\n",
              "      <td>False</td>\n",
              "      <td>False</td>\n",
              "      <td>False</td>\n",
              "      <td>False</td>\n",
              "      <td>False</td>\n",
              "      <td>False</td>\n",
              "      <td>False</td>\n",
              "      <td>False</td>\n",
              "      <td>False</td>\n",
              "      <td>False</td>\n",
              "      <td>False</td>\n",
              "      <td>False</td>\n",
              "      <td>False</td>\n",
              "      <td>False</td>\n",
              "      <td>False</td>\n",
              "      <td>False</td>\n",
              "      <td>False</td>\n",
              "      <td>False</td>\n",
              "      <td>False</td>\n",
              "      <td>False</td>\n",
              "      <td>False</td>\n",
              "      <td>False</td>\n",
              "      <td>False</td>\n",
              "      <td>False</td>\n",
              "    </tr>\n",
              "    <tr>\n",
              "      <th>2</th>\n",
              "      <td>False</td>\n",
              "      <td>False</td>\n",
              "      <td>False</td>\n",
              "      <td>False</td>\n",
              "      <td>False</td>\n",
              "      <td>False</td>\n",
              "      <td>False</td>\n",
              "      <td>False</td>\n",
              "      <td>False</td>\n",
              "      <td>False</td>\n",
              "      <td>False</td>\n",
              "      <td>False</td>\n",
              "      <td>False</td>\n",
              "      <td>False</td>\n",
              "      <td>False</td>\n",
              "      <td>False</td>\n",
              "      <td>False</td>\n",
              "      <td>False</td>\n",
              "      <td>False</td>\n",
              "      <td>False</td>\n",
              "      <td>False</td>\n",
              "      <td>False</td>\n",
              "      <td>False</td>\n",
              "      <td>False</td>\n",
              "      <td>False</td>\n",
              "      <td>False</td>\n",
              "      <td>False</td>\n",
              "      <td>False</td>\n",
              "      <td>False</td>\n",
              "      <td>False</td>\n",
              "      <td>False</td>\n",
              "      <td>False</td>\n",
              "      <td>False</td>\n",
              "      <td>False</td>\n",
              "      <td>False</td>\n",
              "      <td>False</td>\n",
              "      <td>False</td>\n",
              "      <td>False</td>\n",
              "      <td>True</td>\n",
              "      <td>False</td>\n",
              "      <td>False</td>\n",
              "      <td>False</td>\n",
              "      <td>False</td>\n",
              "      <td>False</td>\n",
              "      <td>False</td>\n",
              "      <td>False</td>\n",
              "      <td>False</td>\n",
              "      <td>False</td>\n",
              "      <td>False</td>\n",
              "      <td>False</td>\n",
              "    </tr>\n",
              "    <tr>\n",
              "      <th>3</th>\n",
              "      <td>False</td>\n",
              "      <td>False</td>\n",
              "      <td>False</td>\n",
              "      <td>False</td>\n",
              "      <td>False</td>\n",
              "      <td>False</td>\n",
              "      <td>False</td>\n",
              "      <td>False</td>\n",
              "      <td>False</td>\n",
              "      <td>False</td>\n",
              "      <td>False</td>\n",
              "      <td>False</td>\n",
              "      <td>False</td>\n",
              "      <td>False</td>\n",
              "      <td>False</td>\n",
              "      <td>False</td>\n",
              "      <td>False</td>\n",
              "      <td>False</td>\n",
              "      <td>False</td>\n",
              "      <td>False</td>\n",
              "      <td>False</td>\n",
              "      <td>False</td>\n",
              "      <td>False</td>\n",
              "      <td>False</td>\n",
              "      <td>False</td>\n",
              "      <td>False</td>\n",
              "      <td>False</td>\n",
              "      <td>False</td>\n",
              "      <td>False</td>\n",
              "      <td>False</td>\n",
              "      <td>False</td>\n",
              "      <td>False</td>\n",
              "      <td>False</td>\n",
              "      <td>False</td>\n",
              "      <td>False</td>\n",
              "      <td>False</td>\n",
              "      <td>False</td>\n",
              "      <td>False</td>\n",
              "      <td>False</td>\n",
              "      <td>False</td>\n",
              "      <td>False</td>\n",
              "      <td>False</td>\n",
              "      <td>False</td>\n",
              "      <td>False</td>\n",
              "      <td>False</td>\n",
              "      <td>False</td>\n",
              "      <td>False</td>\n",
              "      <td>False</td>\n",
              "      <td>False</td>\n",
              "      <td>False</td>\n",
              "    </tr>\n",
              "    <tr>\n",
              "      <th>4</th>\n",
              "      <td>False</td>\n",
              "      <td>False</td>\n",
              "      <td>False</td>\n",
              "      <td>False</td>\n",
              "      <td>False</td>\n",
              "      <td>False</td>\n",
              "      <td>False</td>\n",
              "      <td>False</td>\n",
              "      <td>False</td>\n",
              "      <td>False</td>\n",
              "      <td>False</td>\n",
              "      <td>False</td>\n",
              "      <td>False</td>\n",
              "      <td>False</td>\n",
              "      <td>False</td>\n",
              "      <td>False</td>\n",
              "      <td>False</td>\n",
              "      <td>False</td>\n",
              "      <td>False</td>\n",
              "      <td>False</td>\n",
              "      <td>False</td>\n",
              "      <td>False</td>\n",
              "      <td>False</td>\n",
              "      <td>False</td>\n",
              "      <td>False</td>\n",
              "      <td>False</td>\n",
              "      <td>False</td>\n",
              "      <td>False</td>\n",
              "      <td>False</td>\n",
              "      <td>False</td>\n",
              "      <td>False</td>\n",
              "      <td>False</td>\n",
              "      <td>False</td>\n",
              "      <td>False</td>\n",
              "      <td>False</td>\n",
              "      <td>False</td>\n",
              "      <td>False</td>\n",
              "      <td>False</td>\n",
              "      <td>True</td>\n",
              "      <td>False</td>\n",
              "      <td>False</td>\n",
              "      <td>False</td>\n",
              "      <td>False</td>\n",
              "      <td>False</td>\n",
              "      <td>False</td>\n",
              "      <td>False</td>\n",
              "      <td>False</td>\n",
              "      <td>False</td>\n",
              "      <td>False</td>\n",
              "      <td>False</td>\n",
              "    </tr>\n",
              "  </tbody>\n",
              "</table>\n",
              "</div>"
            ],
            "text/plain": [
              "   Carrier_Late(1)/on-time(0)  ...  Distance_Sell_Cust\n",
              "0                       False  ...               False\n",
              "1                       False  ...               False\n",
              "2                       False  ...               False\n",
              "3                       False  ...               False\n",
              "4                       False  ...               False\n",
              "\n",
              "[5 rows x 50 columns]"
            ]
          },
          "metadata": {
            "tags": []
          },
          "execution_count": 32
        }
      ]
    },
    {
      "cell_type": "code",
      "metadata": {
        "id": "1dF9Yg2Dht4L",
        "colab_type": "code",
        "outputId": "70b05996-619e-49fd-96d5-bf13962c939c",
        "colab": {
          "base_uri": "https://localhost:8080/",
          "height": 1000
        }
      },
      "source": [
        "for column in missing_data.columns.values.tolist():\n",
        "    print(column)\n",
        "    print (missing_data[column].value_counts())\n",
        "    print(\"\")"
      ],
      "execution_count": 0,
      "outputs": [
        {
          "output_type": "stream",
          "text": [
            "Carrier_Late(1)/on-time(0)\n",
            "False    112650\n",
            "Name: Carrier_Late(1)/on-time(0), dtype: int64\n",
            "\n",
            "Carrier_Start_Date-Shipping_limit_Days\n",
            "False    111458\n",
            "True       1192\n",
            "Name: Carrier_Start_Date-Shipping_limit_Days, dtype: int64\n",
            "\n",
            "Carrier_time_diff_Days\n",
            "False    110204\n",
            "True       2446\n",
            "Name: Carrier_time_diff_Days, dtype: int64\n",
            "\n",
            "Delivery_time_diff_Days\n",
            "False    110204\n",
            "True       2446\n",
            "Name: Delivery_time_diff_Days, dtype: int64\n",
            "\n",
            "Estimated-Actual_Delivery_Days\n",
            "False    110204\n",
            "True       2446\n",
            "Name: Estimated-Actual_Delivery_Days, dtype: int64\n",
            "\n",
            "Late(1)/on-time(0)\n",
            "False    112650\n",
            "Name: Late(1)/on-time(0), dtype: int64\n",
            "\n",
            "Order_Approval_diff_Days\n",
            "False    112650\n",
            "Name: Order_Approval_diff_Days, dtype: int64\n",
            "\n",
            "Weight/volume\n",
            "False    112650\n",
            "Name: Weight/volume, dtype: int64\n",
            "\n",
            "customer_city\n",
            "False    112650\n",
            "Name: customer_city, dtype: int64\n",
            "\n",
            "customer_geolocation_lat\n",
            "False    112650\n",
            "Name: customer_geolocation_lat, dtype: int64\n",
            "\n",
            "customer_geolocation_lng\n",
            "False    112650\n",
            "Name: customer_geolocation_lng, dtype: int64\n",
            "\n",
            "customer_id\n",
            "False    112650\n",
            "Name: customer_id, dtype: int64\n",
            "\n",
            "customer_state\n",
            "False    112650\n",
            "Name: customer_state, dtype: int64\n",
            "\n",
            "customer_unique_id\n",
            "False    112650\n",
            "Name: customer_unique_id, dtype: int64\n",
            "\n",
            "customer_zip_code_prefix\n",
            "False    112650\n",
            "Name: customer_zip_code_prefix, dtype: int64\n",
            "\n",
            "freight/price\n",
            "False    112650\n",
            "Name: freight/price, dtype: int64\n",
            "\n",
            "freight_value\n",
            "False    112650\n",
            "Name: freight_value, dtype: int64\n",
            "\n",
            "id\n",
            "False    112650\n",
            "Name: id, dtype: int64\n",
            "\n",
            "order_approved_at\n",
            "False    112650\n",
            "Name: order_approved_at, dtype: int64\n",
            "\n",
            "order_delivered_carrier_date\n",
            "False    111458\n",
            "True       1192\n",
            "Name: order_delivered_carrier_date, dtype: int64\n",
            "\n",
            "order_delivered_customer_date\n",
            "False    110204\n",
            "True       2446\n",
            "Name: order_delivered_customer_date, dtype: int64\n",
            "\n",
            "order_estimated_delivery_date\n",
            "False    112650\n",
            "Name: order_estimated_delivery_date, dtype: int64\n",
            "\n",
            "order_id\n",
            "False    112650\n",
            "Name: order_id, dtype: int64\n",
            "\n",
            "order_item_id\n",
            "False    112650\n",
            "Name: order_item_id, dtype: int64\n",
            "\n",
            "order_purchase_timestamp\n",
            "False    112650\n",
            "Name: order_purchase_timestamp, dtype: int64\n",
            "\n",
            "order_status\n",
            "False    112650\n",
            "Name: order_status, dtype: int64\n",
            "\n",
            "payment_type_count\n",
            "False    112647\n",
            "True          3\n",
            "Name: payment_type_count, dtype: int64\n",
            "\n",
            "payment_type_value\n",
            "False    112647\n",
            "True          3\n",
            "Name: payment_type_value, dtype: int64\n",
            "\n",
            "price\n",
            "False    112650\n",
            "Name: price, dtype: int64\n",
            "\n",
            "product_category_name_english\n",
            "False    111023\n",
            "True       1627\n",
            "Name: product_category_name_english, dtype: int64\n",
            "\n",
            "product_description_lenght\n",
            "False    111047\n",
            "True       1603\n",
            "Name: product_description_lenght, dtype: int64\n",
            "\n",
            "product_height_cm\n",
            "False    112650\n",
            "Name: product_height_cm, dtype: int64\n",
            "\n",
            "product_id\n",
            "False    112650\n",
            "Name: product_id, dtype: int64\n",
            "\n",
            "product_length_cm\n",
            "False    112650\n",
            "Name: product_length_cm, dtype: int64\n",
            "\n",
            "product_name_lenght\n",
            "False    111047\n",
            "True       1603\n",
            "Name: product_name_lenght, dtype: int64\n",
            "\n",
            "product_photos_qty\n",
            "False    111047\n",
            "True       1603\n",
            "Name: product_photos_qty, dtype: int64\n",
            "\n",
            "product_weight_g\n",
            "False    112650\n",
            "Name: product_weight_g, dtype: int64\n",
            "\n",
            "product_width_cm\n",
            "False    112650\n",
            "Name: product_width_cm, dtype: int64\n",
            "\n",
            "review_comment_message\n",
            "True     64296\n",
            "False    48354\n",
            "Name: review_comment_message, dtype: int64\n",
            "\n",
            "review_id\n",
            "False    112650\n",
            "Name: review_id, dtype: int64\n",
            "\n",
            "review_score\n",
            "False    112650\n",
            "Name: review_score, dtype: int64\n",
            "\n",
            "seller_city\n",
            "False    112650\n",
            "Name: seller_city, dtype: int64\n",
            "\n",
            "seller_geolocation_lat\n",
            "False    112650\n",
            "Name: seller_geolocation_lat, dtype: int64\n",
            "\n",
            "seller_geolocation_lng\n",
            "False    112650\n",
            "Name: seller_geolocation_lng, dtype: int64\n",
            "\n",
            "seller_id\n",
            "False    112650\n",
            "Name: seller_id, dtype: int64\n",
            "\n",
            "seller_state\n",
            "False    112650\n",
            "Name: seller_state, dtype: int64\n",
            "\n",
            "seller_zip_code_prefix\n",
            "False    112650\n",
            "Name: seller_zip_code_prefix, dtype: int64\n",
            "\n",
            "shipping_limit_date\n",
            "False    112650\n",
            "Name: shipping_limit_date, dtype: int64\n",
            "\n",
            "total_payment\n",
            "False    112647\n",
            "True          3\n",
            "Name: total_payment, dtype: int64\n",
            "\n",
            "Distance_Sell_Cust\n",
            "False    112650\n",
            "Name: Distance_Sell_Cust, dtype: int64\n",
            "\n"
          ],
          "name": "stdout"
        }
      ]
    },
    {
      "cell_type": "markdown",
      "metadata": {
        "id": "8sNBYQcDh0C3",
        "colab_type": "text"
      },
      "source": [
        "### Correlation matrix"
      ]
    },
    {
      "cell_type": "code",
      "metadata": {
        "id": "RJomyx1lh11I",
        "colab_type": "code",
        "outputId": "0970849f-c63c-4753-b870-9d476afb63ce",
        "colab": {
          "base_uri": "https://localhost:8080/",
          "height": 377
        }
      },
      "source": [
        "from pyspark.mllib.stat import Statistics \n",
        "import pandas as pd\n",
        "\n",
        "corr_data = final_order.select(numeric_features)\n",
        "col_names = corr_data.columns\n",
        "features = corr_data.rdd.map(lambda row: row[0:]) \n",
        "corr_mat=Statistics.corr(features, method=\"pearson\") \n",
        "corr_df = pd.DataFrame(corr_mat)\n",
        "corr_df.index, corr_df.columns = col_names, col_names\n",
        "print(corr_df.to_string())"
      ],
      "execution_count": 0,
      "outputs": [
        {
          "output_type": "stream",
          "text": [
            "                                        Carrier_Start_Date-Shipping_limit_Days  Carrier_time_diff_Days  Delivery_time_diff_Days  Estimated-Actual_Delivery_Days  Order_Approval_diff_Days  Weight/volume  customer_geolocation_lat  customer_geolocation_lng  freight/price  freight_value     price  product_height_cm  product_length_cm  product_weight_g  product_width_cm  review_score  seller_geolocation_lat  seller_geolocation_lng  total_payment\n",
            "Carrier_Start_Date-Shipping_limit_Days                                     1.0                     NaN                      NaN                             NaN                       NaN            NaN                       NaN                       NaN            NaN            NaN       NaN                NaN                NaN               NaN               NaN           NaN                     NaN                     NaN            NaN\n",
            "Carrier_time_diff_Days                                                     NaN                     1.0                      NaN                             NaN                       NaN            NaN                       NaN                       NaN            NaN            NaN       NaN                NaN                NaN               NaN               NaN           NaN                     NaN                     NaN            NaN\n",
            "Delivery_time_diff_Days                                                    NaN                     NaN                      1.0                             NaN                       NaN            NaN                       NaN                       NaN            NaN            NaN       NaN                NaN                NaN               NaN               NaN           NaN                     NaN                     NaN            NaN\n",
            "Estimated-Actual_Delivery_Days                                             NaN                     NaN                      NaN                             1.0                       NaN            NaN                       NaN                       NaN            NaN            NaN       NaN                NaN                NaN               NaN               NaN           NaN                     NaN                     NaN            NaN\n",
            "Order_Approval_diff_Days                                                   NaN                     NaN                      NaN                             NaN                  1.000000      -0.000559                  0.019434                 -0.013384       0.028925       0.031418  0.014379           0.008019           0.006981          0.011274          0.001731     -0.024954               -0.003814                0.003223            NaN\n",
            "Weight/volume                                                              NaN                     NaN                      NaN                             NaN                 -0.000559       1.000000                  0.013191                  0.008688      -0.014486       0.043243  0.038490          -0.067765          -0.047504          0.130399         -0.054447      0.002129                0.008380               -0.001525            NaN\n",
            "customer_geolocation_lat                                                   NaN                     NaN                      NaN                             NaN                  0.019434       0.013191                  1.000000                  0.446374       0.122289       0.272969  0.056829          -0.005230          -0.017693          0.002577         -0.019750     -0.038285                0.084564                0.084824            NaN\n",
            "customer_geolocation_lng                                                   NaN                     NaN                      NaN                             NaN                 -0.013384       0.008688                  0.446374                  1.000000       0.034260       0.093498  0.018706          -0.006789          -0.011036          0.002135         -0.005870     -0.047084                0.074410                0.082288            NaN\n",
            "freight/price                                                              NaN                     NaN                      NaN                             NaN                  0.028925      -0.014486                  0.122289                  0.034260       1.000000       0.088493 -0.291402          -0.107036          -0.096236         -0.104067         -0.115623     -0.037783               -0.008640               -0.009470            NaN\n",
            "freight_value                                                              NaN                     NaN                      NaN                             NaN                  0.031418       0.043243                  0.272969                  0.093498       0.088493       1.000000  0.414204           0.391826           0.309082          0.610412          0.323773     -0.036267                0.038514               -0.004322            NaN\n",
            "price                                                                      NaN                     NaN                      NaN                             NaN                  0.014379       0.038490                  0.056829                  0.018706      -0.291402       0.414204  1.000000           0.223501           0.145746          0.338666          0.172389     -0.004596                0.019571                0.045088            NaN\n",
            "product_height_cm                                                          NaN                     NaN                      NaN                             NaN                  0.008019      -0.067765                 -0.005230                 -0.006789      -0.107036       0.391826  0.223501           1.000000           0.192895          0.583277          0.281224     -0.028664               -0.046972                0.000291            NaN\n",
            "product_length_cm                                                          NaN                     NaN                      NaN                             NaN                  0.006981      -0.047504                 -0.017693                 -0.011036      -0.096236       0.309082  0.145746           0.192895           1.000000          0.460919          0.532537     -0.020942               -0.049703               -0.077615            NaN\n",
            "product_weight_g                                                           NaN                     NaN                      NaN                             NaN                  0.011274       0.130399                  0.002577                  0.002135      -0.104067       0.610412  0.338666           0.583277           0.460919          1.000000          0.506609     -0.030065               -0.023928                0.010905            NaN\n",
            "product_width_cm                                                           NaN                     NaN                      NaN                             NaN                  0.001731      -0.054447                 -0.019750                 -0.005870      -0.115623       0.323773  0.172389           0.281224           0.532537          0.506609          1.000000     -0.011453                0.010111               -0.040233            NaN\n",
            "review_score                                                               NaN                     NaN                      NaN                             NaN                 -0.024954       0.002129                 -0.038285                 -0.047084      -0.037783      -0.036267 -0.004596          -0.028664          -0.020942         -0.030065         -0.011453      1.000000               -0.008401                0.009025            NaN\n",
            "seller_geolocation_lat                                                     NaN                     NaN                      NaN                             NaN                 -0.003814       0.008380                  0.084564                  0.074410      -0.008640       0.038514  0.019571          -0.046972          -0.049703         -0.023928          0.010111     -0.008401                1.000000                0.423761            NaN\n",
            "seller_geolocation_lng                                                     NaN                     NaN                      NaN                             NaN                  0.003223      -0.001525                  0.084824                  0.082288      -0.009470      -0.004322  0.045088           0.000291          -0.077615          0.010905         -0.040233      0.009025                0.423761                1.000000            NaN\n",
            "total_payment                                                              NaN                     NaN                      NaN                             NaN                       NaN            NaN                       NaN                       NaN            NaN            NaN       NaN                NaN                NaN               NaN               NaN           NaN                     NaN                     NaN            1.0\n"
          ],
          "name": "stdout"
        }
      ]
    },
    {
      "cell_type": "code",
      "metadata": {
        "id": "uERlgJS9h_Z4",
        "colab_type": "code",
        "colab": {}
      },
      "source": [
        "df = corr_data.toPandas()"
      ],
      "execution_count": 0,
      "outputs": []
    },
    {
      "cell_type": "code",
      "metadata": {
        "id": "oPVeSEXuh_0X",
        "colab_type": "code",
        "outputId": "5c0bfdd1-ba70-4b6c-bc72-3e5cb509f021",
        "colab": {
          "base_uri": "https://localhost:8080/",
          "height": 709
        }
      },
      "source": [
        "df.corr()"
      ],
      "execution_count": 0,
      "outputs": [
        {
          "output_type": "execute_result",
          "data": {
            "text/html": [
              "<div>\n",
              "<style scoped>\n",
              "    .dataframe tbody tr th:only-of-type {\n",
              "        vertical-align: middle;\n",
              "    }\n",
              "\n",
              "    .dataframe tbody tr th {\n",
              "        vertical-align: top;\n",
              "    }\n",
              "\n",
              "    .dataframe thead th {\n",
              "        text-align: right;\n",
              "    }\n",
              "</style>\n",
              "<table border=\"1\" class=\"dataframe\">\n",
              "  <thead>\n",
              "    <tr style=\"text-align: right;\">\n",
              "      <th></th>\n",
              "      <th>Carrier_Start_Date-Shipping_limit_Days</th>\n",
              "      <th>Carrier_time_diff_Days</th>\n",
              "      <th>Delivery_time_diff_Days</th>\n",
              "      <th>Estimated-Actual_Delivery_Days</th>\n",
              "      <th>Order_Approval_diff_Days</th>\n",
              "      <th>Weight/volume</th>\n",
              "      <th>customer_geolocation_lat</th>\n",
              "      <th>customer_geolocation_lng</th>\n",
              "      <th>freight/price</th>\n",
              "      <th>freight_value</th>\n",
              "      <th>price</th>\n",
              "      <th>product_height_cm</th>\n",
              "      <th>product_length_cm</th>\n",
              "      <th>product_weight_g</th>\n",
              "      <th>product_width_cm</th>\n",
              "      <th>review_score</th>\n",
              "      <th>seller_geolocation_lat</th>\n",
              "      <th>seller_geolocation_lng</th>\n",
              "      <th>total_payment</th>\n",
              "    </tr>\n",
              "  </thead>\n",
              "  <tbody>\n",
              "    <tr>\n",
              "      <th>Carrier_Start_Date-Shipping_limit_Days</th>\n",
              "      <td>1.000000</td>\n",
              "      <td>0.009801</td>\n",
              "      <td>-0.145491</td>\n",
              "      <td>0.249941</td>\n",
              "      <td>0.013222</td>\n",
              "      <td>0.002211</td>\n",
              "      <td>0.003218</td>\n",
              "      <td>-0.007476</td>\n",
              "      <td>0.002250</td>\n",
              "      <td>-0.004096</td>\n",
              "      <td>-0.009332</td>\n",
              "      <td>-0.011804</td>\n",
              "      <td>-0.006217</td>\n",
              "      <td>-0.007860</td>\n",
              "      <td>-0.005230</td>\n",
              "      <td>0.059610</td>\n",
              "      <td>-0.002524</td>\n",
              "      <td>0.003922</td>\n",
              "      <td>-0.016662</td>\n",
              "    </tr>\n",
              "    <tr>\n",
              "      <th>Carrier_time_diff_Days</th>\n",
              "      <td>0.009801</td>\n",
              "      <td>1.000000</td>\n",
              "      <td>0.922243</td>\n",
              "      <td>-0.569346</td>\n",
              "      <td>0.008027</td>\n",
              "      <td>0.016982</td>\n",
              "      <td>0.277310</td>\n",
              "      <td>0.114376</td>\n",
              "      <td>0.076695</td>\n",
              "      <td>0.196069</td>\n",
              "      <td>0.040988</td>\n",
              "      <td>0.016399</td>\n",
              "      <td>0.037506</td>\n",
              "      <td>0.030777</td>\n",
              "      <td>0.019582</td>\n",
              "      <td>-0.269047</td>\n",
              "      <td>0.057421</td>\n",
              "      <td>-0.040257</td>\n",
              "      <td>0.028125</td>\n",
              "    </tr>\n",
              "    <tr>\n",
              "      <th>Delivery_time_diff_Days</th>\n",
              "      <td>-0.145491</td>\n",
              "      <td>0.922243</td>\n",
              "      <td>1.000000</td>\n",
              "      <td>-0.596844</td>\n",
              "      <td>0.084380</td>\n",
              "      <td>0.015105</td>\n",
              "      <td>0.257545</td>\n",
              "      <td>0.108839</td>\n",
              "      <td>0.067113</td>\n",
              "      <td>0.214694</td>\n",
              "      <td>0.062373</td>\n",
              "      <td>0.066933</td>\n",
              "      <td>0.068756</td>\n",
              "      <td>0.085714</td>\n",
              "      <td>0.039585</td>\n",
              "      <td>-0.305274</td>\n",
              "      <td>0.052178</td>\n",
              "      <td>-0.042340</td>\n",
              "      <td>0.062927</td>\n",
              "    </tr>\n",
              "    <tr>\n",
              "      <th>Estimated-Actual_Delivery_Days</th>\n",
              "      <td>0.249941</td>\n",
              "      <td>-0.569346</td>\n",
              "      <td>-0.596844</td>\n",
              "      <td>1.000000</td>\n",
              "      <td>-0.042496</td>\n",
              "      <td>-0.008147</td>\n",
              "      <td>0.012000</td>\n",
              "      <td>-0.050824</td>\n",
              "      <td>0.028578</td>\n",
              "      <td>0.040388</td>\n",
              "      <td>0.003787</td>\n",
              "      <td>0.001502</td>\n",
              "      <td>-0.010089</td>\n",
              "      <td>-0.011315</td>\n",
              "      <td>-0.000790</td>\n",
              "      <td>0.229762</td>\n",
              "      <td>-0.015749</td>\n",
              "      <td>-0.024324</td>\n",
              "      <td>0.021098</td>\n",
              "    </tr>\n",
              "    <tr>\n",
              "      <th>Order_Approval_diff_Days</th>\n",
              "      <td>0.013222</td>\n",
              "      <td>0.008027</td>\n",
              "      <td>0.084380</td>\n",
              "      <td>-0.042496</td>\n",
              "      <td>1.000000</td>\n",
              "      <td>-0.000559</td>\n",
              "      <td>0.019434</td>\n",
              "      <td>-0.013384</td>\n",
              "      <td>0.028925</td>\n",
              "      <td>0.031418</td>\n",
              "      <td>0.014379</td>\n",
              "      <td>0.008019</td>\n",
              "      <td>0.006981</td>\n",
              "      <td>0.011274</td>\n",
              "      <td>0.001731</td>\n",
              "      <td>-0.024954</td>\n",
              "      <td>-0.003814</td>\n",
              "      <td>0.003223</td>\n",
              "      <td>0.052039</td>\n",
              "    </tr>\n",
              "    <tr>\n",
              "      <th>Weight/volume</th>\n",
              "      <td>0.002211</td>\n",
              "      <td>0.016982</td>\n",
              "      <td>0.015105</td>\n",
              "      <td>-0.008147</td>\n",
              "      <td>-0.000559</td>\n",
              "      <td>1.000000</td>\n",
              "      <td>0.013191</td>\n",
              "      <td>0.008688</td>\n",
              "      <td>-0.014486</td>\n",
              "      <td>0.043243</td>\n",
              "      <td>0.038490</td>\n",
              "      <td>-0.067765</td>\n",
              "      <td>-0.047504</td>\n",
              "      <td>0.130399</td>\n",
              "      <td>-0.054447</td>\n",
              "      <td>0.002129</td>\n",
              "      <td>0.008380</td>\n",
              "      <td>-0.001525</td>\n",
              "      <td>0.044380</td>\n",
              "    </tr>\n",
              "    <tr>\n",
              "      <th>customer_geolocation_lat</th>\n",
              "      <td>0.003218</td>\n",
              "      <td>0.277310</td>\n",
              "      <td>0.257545</td>\n",
              "      <td>0.012000</td>\n",
              "      <td>0.019434</td>\n",
              "      <td>0.013191</td>\n",
              "      <td>1.000000</td>\n",
              "      <td>0.446374</td>\n",
              "      <td>0.122289</td>\n",
              "      <td>0.272969</td>\n",
              "      <td>0.056829</td>\n",
              "      <td>-0.005230</td>\n",
              "      <td>-0.017693</td>\n",
              "      <td>0.002577</td>\n",
              "      <td>-0.019750</td>\n",
              "      <td>-0.038285</td>\n",
              "      <td>0.084564</td>\n",
              "      <td>0.084824</td>\n",
              "      <td>0.061134</td>\n",
              "    </tr>\n",
              "    <tr>\n",
              "      <th>customer_geolocation_lng</th>\n",
              "      <td>-0.007476</td>\n",
              "      <td>0.114376</td>\n",
              "      <td>0.108839</td>\n",
              "      <td>-0.050824</td>\n",
              "      <td>-0.013384</td>\n",
              "      <td>0.008688</td>\n",
              "      <td>0.446374</td>\n",
              "      <td>1.000000</td>\n",
              "      <td>0.034260</td>\n",
              "      <td>0.093498</td>\n",
              "      <td>0.018706</td>\n",
              "      <td>-0.006789</td>\n",
              "      <td>-0.011036</td>\n",
              "      <td>0.002135</td>\n",
              "      <td>-0.005870</td>\n",
              "      <td>-0.047084</td>\n",
              "      <td>0.074410</td>\n",
              "      <td>0.082288</td>\n",
              "      <td>0.015719</td>\n",
              "    </tr>\n",
              "    <tr>\n",
              "      <th>freight/price</th>\n",
              "      <td>0.002250</td>\n",
              "      <td>0.076695</td>\n",
              "      <td>0.067113</td>\n",
              "      <td>0.028578</td>\n",
              "      <td>0.028925</td>\n",
              "      <td>-0.014486</td>\n",
              "      <td>0.122289</td>\n",
              "      <td>0.034260</td>\n",
              "      <td>1.000000</td>\n",
              "      <td>0.088493</td>\n",
              "      <td>-0.291402</td>\n",
              "      <td>-0.107036</td>\n",
              "      <td>-0.096236</td>\n",
              "      <td>-0.104067</td>\n",
              "      <td>-0.115623</td>\n",
              "      <td>-0.037783</td>\n",
              "      <td>-0.008640</td>\n",
              "      <td>-0.009470</td>\n",
              "      <td>-0.206366</td>\n",
              "    </tr>\n",
              "    <tr>\n",
              "      <th>freight_value</th>\n",
              "      <td>-0.004096</td>\n",
              "      <td>0.196069</td>\n",
              "      <td>0.214694</td>\n",
              "      <td>0.040388</td>\n",
              "      <td>0.031418</td>\n",
              "      <td>0.043243</td>\n",
              "      <td>0.272969</td>\n",
              "      <td>0.093498</td>\n",
              "      <td>0.088493</td>\n",
              "      <td>1.000000</td>\n",
              "      <td>0.414204</td>\n",
              "      <td>0.391826</td>\n",
              "      <td>0.309082</td>\n",
              "      <td>0.610412</td>\n",
              "      <td>0.323773</td>\n",
              "      <td>-0.036267</td>\n",
              "      <td>0.038514</td>\n",
              "      <td>-0.004322</td>\n",
              "      <td>0.386453</td>\n",
              "    </tr>\n",
              "    <tr>\n",
              "      <th>price</th>\n",
              "      <td>-0.009332</td>\n",
              "      <td>0.040988</td>\n",
              "      <td>0.062373</td>\n",
              "      <td>0.003787</td>\n",
              "      <td>0.014379</td>\n",
              "      <td>0.038490</td>\n",
              "      <td>0.056829</td>\n",
              "      <td>0.018706</td>\n",
              "      <td>-0.291402</td>\n",
              "      <td>0.414204</td>\n",
              "      <td>1.000000</td>\n",
              "      <td>0.223501</td>\n",
              "      <td>0.145746</td>\n",
              "      <td>0.338666</td>\n",
              "      <td>0.172389</td>\n",
              "      <td>-0.004596</td>\n",
              "      <td>0.019571</td>\n",
              "      <td>0.045088</td>\n",
              "      <td>0.761235</td>\n",
              "    </tr>\n",
              "    <tr>\n",
              "      <th>product_height_cm</th>\n",
              "      <td>-0.011804</td>\n",
              "      <td>0.016399</td>\n",
              "      <td>0.066933</td>\n",
              "      <td>0.001502</td>\n",
              "      <td>0.008019</td>\n",
              "      <td>-0.067765</td>\n",
              "      <td>-0.005230</td>\n",
              "      <td>-0.006789</td>\n",
              "      <td>-0.107036</td>\n",
              "      <td>0.391826</td>\n",
              "      <td>0.223501</td>\n",
              "      <td>1.000000</td>\n",
              "      <td>0.192895</td>\n",
              "      <td>0.583277</td>\n",
              "      <td>0.281224</td>\n",
              "      <td>-0.028664</td>\n",
              "      <td>-0.046972</td>\n",
              "      <td>0.000291</td>\n",
              "      <td>0.224145</td>\n",
              "    </tr>\n",
              "    <tr>\n",
              "      <th>product_length_cm</th>\n",
              "      <td>-0.006217</td>\n",
              "      <td>0.037506</td>\n",
              "      <td>0.068756</td>\n",
              "      <td>-0.010089</td>\n",
              "      <td>0.006981</td>\n",
              "      <td>-0.047504</td>\n",
              "      <td>-0.017693</td>\n",
              "      <td>-0.011036</td>\n",
              "      <td>-0.096236</td>\n",
              "      <td>0.309082</td>\n",
              "      <td>0.145746</td>\n",
              "      <td>0.192895</td>\n",
              "      <td>1.000000</td>\n",
              "      <td>0.460919</td>\n",
              "      <td>0.532537</td>\n",
              "      <td>-0.020942</td>\n",
              "      <td>-0.049703</td>\n",
              "      <td>-0.077615</td>\n",
              "      <td>0.146343</td>\n",
              "    </tr>\n",
              "    <tr>\n",
              "      <th>product_weight_g</th>\n",
              "      <td>-0.007860</td>\n",
              "      <td>0.030777</td>\n",
              "      <td>0.085714</td>\n",
              "      <td>-0.011315</td>\n",
              "      <td>0.011274</td>\n",
              "      <td>0.130399</td>\n",
              "      <td>0.002577</td>\n",
              "      <td>0.002135</td>\n",
              "      <td>-0.104067</td>\n",
              "      <td>0.610412</td>\n",
              "      <td>0.338666</td>\n",
              "      <td>0.583277</td>\n",
              "      <td>0.460919</td>\n",
              "      <td>1.000000</td>\n",
              "      <td>0.506609</td>\n",
              "      <td>-0.030065</td>\n",
              "      <td>-0.023928</td>\n",
              "      <td>0.010905</td>\n",
              "      <td>0.316830</td>\n",
              "    </tr>\n",
              "    <tr>\n",
              "      <th>product_width_cm</th>\n",
              "      <td>-0.005230</td>\n",
              "      <td>0.019582</td>\n",
              "      <td>0.039585</td>\n",
              "      <td>-0.000790</td>\n",
              "      <td>0.001731</td>\n",
              "      <td>-0.054447</td>\n",
              "      <td>-0.019750</td>\n",
              "      <td>-0.005870</td>\n",
              "      <td>-0.115623</td>\n",
              "      <td>0.323773</td>\n",
              "      <td>0.172389</td>\n",
              "      <td>0.281224</td>\n",
              "      <td>0.532537</td>\n",
              "      <td>0.506609</td>\n",
              "      <td>1.000000</td>\n",
              "      <td>-0.011453</td>\n",
              "      <td>0.010111</td>\n",
              "      <td>-0.040233</td>\n",
              "      <td>0.156506</td>\n",
              "    </tr>\n",
              "    <tr>\n",
              "      <th>review_score</th>\n",
              "      <td>0.059610</td>\n",
              "      <td>-0.269047</td>\n",
              "      <td>-0.305274</td>\n",
              "      <td>0.229762</td>\n",
              "      <td>-0.024954</td>\n",
              "      <td>0.002129</td>\n",
              "      <td>-0.038285</td>\n",
              "      <td>-0.047084</td>\n",
              "      <td>-0.037783</td>\n",
              "      <td>-0.036267</td>\n",
              "      <td>-0.004596</td>\n",
              "      <td>-0.028664</td>\n",
              "      <td>-0.020942</td>\n",
              "      <td>-0.030065</td>\n",
              "      <td>-0.011453</td>\n",
              "      <td>1.000000</td>\n",
              "      <td>-0.008401</td>\n",
              "      <td>0.009025</td>\n",
              "      <td>-0.086813</td>\n",
              "    </tr>\n",
              "    <tr>\n",
              "      <th>seller_geolocation_lat</th>\n",
              "      <td>-0.002524</td>\n",
              "      <td>0.057421</td>\n",
              "      <td>0.052178</td>\n",
              "      <td>-0.015749</td>\n",
              "      <td>-0.003814</td>\n",
              "      <td>0.008380</td>\n",
              "      <td>0.084564</td>\n",
              "      <td>0.074410</td>\n",
              "      <td>-0.008640</td>\n",
              "      <td>0.038514</td>\n",
              "      <td>0.019571</td>\n",
              "      <td>-0.046972</td>\n",
              "      <td>-0.049703</td>\n",
              "      <td>-0.023928</td>\n",
              "      <td>0.010111</td>\n",
              "      <td>-0.008401</td>\n",
              "      <td>1.000000</td>\n",
              "      <td>0.423761</td>\n",
              "      <td>0.013989</td>\n",
              "    </tr>\n",
              "    <tr>\n",
              "      <th>seller_geolocation_lng</th>\n",
              "      <td>0.003922</td>\n",
              "      <td>-0.040257</td>\n",
              "      <td>-0.042340</td>\n",
              "      <td>-0.024324</td>\n",
              "      <td>0.003223</td>\n",
              "      <td>-0.001525</td>\n",
              "      <td>0.084824</td>\n",
              "      <td>0.082288</td>\n",
              "      <td>-0.009470</td>\n",
              "      <td>-0.004322</td>\n",
              "      <td>0.045088</td>\n",
              "      <td>0.000291</td>\n",
              "      <td>-0.077615</td>\n",
              "      <td>0.010905</td>\n",
              "      <td>-0.040233</td>\n",
              "      <td>0.009025</td>\n",
              "      <td>0.423761</td>\n",
              "      <td>1.000000</td>\n",
              "      <td>0.030414</td>\n",
              "    </tr>\n",
              "    <tr>\n",
              "      <th>total_payment</th>\n",
              "      <td>-0.016662</td>\n",
              "      <td>0.028125</td>\n",
              "      <td>0.062927</td>\n",
              "      <td>0.021098</td>\n",
              "      <td>0.052039</td>\n",
              "      <td>0.044380</td>\n",
              "      <td>0.061134</td>\n",
              "      <td>0.015719</td>\n",
              "      <td>-0.206366</td>\n",
              "      <td>0.386453</td>\n",
              "      <td>0.761235</td>\n",
              "      <td>0.224145</td>\n",
              "      <td>0.146343</td>\n",
              "      <td>0.316830</td>\n",
              "      <td>0.156506</td>\n",
              "      <td>-0.086813</td>\n",
              "      <td>0.013989</td>\n",
              "      <td>0.030414</td>\n",
              "      <td>1.000000</td>\n",
              "    </tr>\n",
              "  </tbody>\n",
              "</table>\n",
              "</div>"
            ],
            "text/plain": [
              "                                        Carrier_Start_Date-Shipping_limit_Days  ...  total_payment\n",
              "Carrier_Start_Date-Shipping_limit_Days                                1.000000  ...      -0.016662\n",
              "Carrier_time_diff_Days                                                0.009801  ...       0.028125\n",
              "Delivery_time_diff_Days                                              -0.145491  ...       0.062927\n",
              "Estimated-Actual_Delivery_Days                                        0.249941  ...       0.021098\n",
              "Order_Approval_diff_Days                                              0.013222  ...       0.052039\n",
              "Weight/volume                                                         0.002211  ...       0.044380\n",
              "customer_geolocation_lat                                              0.003218  ...       0.061134\n",
              "customer_geolocation_lng                                             -0.007476  ...       0.015719\n",
              "freight/price                                                         0.002250  ...      -0.206366\n",
              "freight_value                                                        -0.004096  ...       0.386453\n",
              "price                                                                -0.009332  ...       0.761235\n",
              "product_height_cm                                                    -0.011804  ...       0.224145\n",
              "product_length_cm                                                    -0.006217  ...       0.146343\n",
              "product_weight_g                                                     -0.007860  ...       0.316830\n",
              "product_width_cm                                                     -0.005230  ...       0.156506\n",
              "review_score                                                          0.059610  ...      -0.086813\n",
              "seller_geolocation_lat                                               -0.002524  ...       0.013989\n",
              "seller_geolocation_lng                                                0.003922  ...       0.030414\n",
              "total_payment                                                        -0.016662  ...       1.000000\n",
              "\n",
              "[19 rows x 19 columns]"
            ]
          },
          "metadata": {
            "tags": []
          },
          "execution_count": 36
        }
      ]
    },
    {
      "cell_type": "code",
      "metadata": {
        "id": "fPpnb2sCiDUt",
        "colab_type": "code",
        "colab": {}
      },
      "source": [
        "# import seaborn as sns \n",
        "# sns.set(style=\"ticks\")\n",
        "# sns.pairplot(df) \n",
        "# plt.show()"
      ],
      "execution_count": 0,
      "outputs": []
    },
    {
      "cell_type": "markdown",
      "metadata": {
        "id": "Wx6BUzTUh6X0",
        "colab_type": "text"
      },
      "source": [
        "### The process includes Category Indexing, One-Hot Encoding and VectorAssembler — a feature transformer that merges multiple columns into a vector column."
      ]
    },
    {
      "cell_type": "code",
      "metadata": {
        "id": "m8d6RarOPUju",
        "colab_type": "code",
        "outputId": "b38c0a36-cca8-4f6b-d613-7a2297cf47cf",
        "colab": {
          "base_uri": "https://localhost:8080/",
          "height": 1000
        }
      },
      "source": [
        "final_order.printSchema()"
      ],
      "execution_count": 0,
      "outputs": [
        {
          "output_type": "stream",
          "text": [
            "root\n",
            " |-- Carrier_Late(1)/on-time(0): long (nullable = true)\n",
            " |-- Carrier_Start_Date-Shipping_limit_Days: double (nullable = true)\n",
            " |-- Carrier_time_diff_Days: double (nullable = true)\n",
            " |-- Delivery_time_diff_Days: double (nullable = true)\n",
            " |-- Estimated-Actual_Delivery_Days: double (nullable = true)\n",
            " |-- Late(1)/on-time(0): long (nullable = true)\n",
            " |-- Order_Approval_diff_Days: double (nullable = true)\n",
            " |-- Weight/volume: double (nullable = true)\n",
            " |-- customer_city: string (nullable = true)\n",
            " |-- customer_geolocation_lat: double (nullable = true)\n",
            " |-- customer_geolocation_lng: double (nullable = true)\n",
            " |-- customer_id: string (nullable = true)\n",
            " |-- customer_state: string (nullable = true)\n",
            " |-- customer_unique_id: string (nullable = true)\n",
            " |-- customer_zip_code_prefix: long (nullable = true)\n",
            " |-- freight/price: double (nullable = true)\n",
            " |-- freight_value: double (nullable = true)\n",
            " |-- id: long (nullable = true)\n",
            " |-- order_approved_at: timestamp (nullable = true)\n",
            " |-- order_delivered_carrier_date: timestamp (nullable = true)\n",
            " |-- order_delivered_customer_date: timestamp (nullable = true)\n",
            " |-- order_estimated_delivery_date: timestamp (nullable = true)\n",
            " |-- order_id: string (nullable = true)\n",
            " |-- order_item_id: long (nullable = true)\n",
            " |-- order_purchase_timestamp: timestamp (nullable = true)\n",
            " |-- order_status: string (nullable = true)\n",
            " |-- payment_type_count: struct (nullable = true)\n",
            " |    |-- indices: array (nullable = true)\n",
            " |    |    |-- element: long (containsNull = true)\n",
            " |    |-- size: long (nullable = true)\n",
            " |    |-- type: long (nullable = true)\n",
            " |    |-- values: array (nullable = true)\n",
            " |    |    |-- element: double (containsNull = true)\n",
            " |-- payment_type_value: struct (nullable = true)\n",
            " |    |-- indices: array (nullable = true)\n",
            " |    |    |-- element: long (containsNull = true)\n",
            " |    |-- size: long (nullable = true)\n",
            " |    |-- type: long (nullable = true)\n",
            " |    |-- values: array (nullable = true)\n",
            " |    |    |-- element: double (containsNull = true)\n",
            " |-- price: double (nullable = true)\n",
            " |-- product_category_name_english: string (nullable = true)\n",
            " |-- product_description_lenght: long (nullable = true)\n",
            " |-- product_height_cm: double (nullable = true)\n",
            " |-- product_id: string (nullable = true)\n",
            " |-- product_length_cm: double (nullable = true)\n",
            " |-- product_name_lenght: long (nullable = true)\n",
            " |-- product_photos_qty: long (nullable = true)\n",
            " |-- product_weight_g: double (nullable = true)\n",
            " |-- product_width_cm: double (nullable = true)\n",
            " |-- review_comment_message: string (nullable = true)\n",
            " |-- review_id: string (nullable = true)\n",
            " |-- review_score: integer (nullable = true)\n",
            " |-- seller_city: string (nullable = true)\n",
            " |-- seller_geolocation_lat: double (nullable = true)\n",
            " |-- seller_geolocation_lng: double (nullable = true)\n",
            " |-- seller_id: string (nullable = true)\n",
            " |-- seller_state: string (nullable = true)\n",
            " |-- seller_zip_code_prefix: long (nullable = true)\n",
            " |-- shipping_limit_date: timestamp (nullable = true)\n",
            " |-- total_payment: double (nullable = true)\n",
            " |-- Distance_Sell_Cust: float (nullable = true)\n",
            "\n"
          ],
          "name": "stdout"
        }
      ]
    },
    {
      "cell_type": "code",
      "metadata": {
        "id": "g8_Gjn7rruli",
        "colab_type": "code",
        "outputId": "270ad9a8-7f05-475f-f435-09ce9e10d806",
        "colab": {
          "base_uri": "https://localhost:8080/",
          "height": 867
        }
      },
      "source": [
        "final_order.columns"
      ],
      "execution_count": 0,
      "outputs": [
        {
          "output_type": "execute_result",
          "data": {
            "text/plain": [
              "['Carrier_Late(1)/on-time(0)',\n",
              " 'Carrier_Start_Date-Shipping_limit_Days',\n",
              " 'Carrier_time_diff_Days',\n",
              " 'Delivery_time_diff_Days',\n",
              " 'Estimated-Actual_Delivery_Days',\n",
              " 'Late(1)/on-time(0)',\n",
              " 'Order_Approval_diff_Days',\n",
              " 'Weight/volume',\n",
              " 'customer_city',\n",
              " 'customer_geolocation_lat',\n",
              " 'customer_geolocation_lng',\n",
              " 'customer_id',\n",
              " 'customer_state',\n",
              " 'customer_unique_id',\n",
              " 'customer_zip_code_prefix',\n",
              " 'freight/price',\n",
              " 'freight_value',\n",
              " 'id',\n",
              " 'order_approved_at',\n",
              " 'order_delivered_carrier_date',\n",
              " 'order_delivered_customer_date',\n",
              " 'order_estimated_delivery_date',\n",
              " 'order_id',\n",
              " 'order_item_id',\n",
              " 'order_purchase_timestamp',\n",
              " 'order_status',\n",
              " 'payment_type_count',\n",
              " 'payment_type_value',\n",
              " 'price',\n",
              " 'product_category_name_english',\n",
              " 'product_description_lenght',\n",
              " 'product_height_cm',\n",
              " 'product_id',\n",
              " 'product_length_cm',\n",
              " 'product_name_lenght',\n",
              " 'product_photos_qty',\n",
              " 'product_weight_g',\n",
              " 'product_width_cm',\n",
              " 'review_comment_message',\n",
              " 'review_id',\n",
              " 'review_score',\n",
              " 'seller_city',\n",
              " 'seller_geolocation_lat',\n",
              " 'seller_geolocation_lng',\n",
              " 'seller_id',\n",
              " 'seller_state',\n",
              " 'seller_zip_code_prefix',\n",
              " 'shipping_limit_date',\n",
              " 'total_payment',\n",
              " 'Distance_Sell_Cust']"
            ]
          },
          "metadata": {
            "tags": []
          },
          "execution_count": 39
        }
      ]
    },
    {
      "cell_type": "markdown",
      "metadata": {
        "id": "IQnCfp-4MGTa",
        "colab_type": "text"
      },
      "source": [
        "### Data Wrangling\n",
        "now that we have some ideas about the general structure of our dataset, let’s continue with some data wrangling. first we check how many Categorical and Numerical features do we have. next we build a function that outputs essential information about the missing values in our dataset:"
      ]
    },
    {
      "cell_type": "code",
      "metadata": {
        "id": "EHn2uXgCMFC_",
        "colab_type": "code",
        "outputId": "94b78821-12b5-4997-c0e1-8f4cfc3cb6a0",
        "colab": {
          "base_uri": "https://localhost:8080/",
          "height": 51
        }
      },
      "source": [
        "# now let's see how many categorical and numerical features we have:\n",
        "cat_cols = [item[0] for item in final_order.dtypes if item[1].startswith('string')] \n",
        "print(str(len(cat_cols)) + '  categorical features')\n",
        "num_cols = [item[0] for item in final_order.dtypes if item[1].startswith('int') | item[1].startswith('double')][1:]\n",
        "print(str(len(num_cols)) + '  numerical features')"
      ],
      "execution_count": 0,
      "outputs": [
        {
          "output_type": "stream",
          "text": [
            "13  categorical features\n",
            "18  numerical features\n"
          ],
          "name": "stdout"
        }
      ]
    },
    {
      "cell_type": "code",
      "metadata": {
        "id": "pgsrUGUjMXrw",
        "colab_type": "code",
        "outputId": "8ce4d85f-801f-439e-b98a-b677a605faa5",
        "colab": {
          "base_uri": "https://localhost:8080/",
          "height": 517
        }
      },
      "source": [
        "# we use the below function to find more information about the #missing values\n",
        "def info_missing_table(df_pd):\n",
        "    \"\"\"Input pandas dataframe and Return columns with missing value and percentage\"\"\"\n",
        "    mis_val = df_pd.isnull().sum() #count total of null in each columns in dataframe\n",
        "#count percentage of null in each columns\n",
        "    mis_val_percent = 100 * df_pd.isnull().sum() / len(df_pd) \n",
        "    mis_val_table = pd.concat([mis_val, mis_val_percent], axis=1) \n",
        " #join to left (as column) between mis_val and mis_val_percent\n",
        "    mis_val_table_ren_columns = mis_val_table.rename(\n",
        "    columns = {0 : 'Missing Values', 1 : '% of Total Values'}) \n",
        "#rename columns in table\n",
        "    mis_val_table_ren_columns = mis_val_table_ren_columns[\n",
        "    mis_val_table_ren_columns.iloc[:,1] != 0].sort_values('% of Total Values', ascending=False).round(1) \n",
        "        \n",
        "    print (\"Your selected dataframe has \" + str(df_pd.shape[1]) + \" columns.\\n\"    #.shape[1] : just view total columns in dataframe  \n",
        "    \"There are \" + str(mis_val_table_ren_columns.shape[0]) +              \n",
        "    \" columns that have missing values.\") #.shape[0] : just view total rows in dataframe\n",
        "    return mis_val_table_ren_columns\n",
        "missings = info_missing_table(final_order_df)\n",
        "missings"
      ],
      "execution_count": 0,
      "outputs": [
        {
          "output_type": "stream",
          "text": [
            "Your selected dataframe has 50 columns.\n",
            "There are 14 columns that have missing values.\n"
          ],
          "name": "stdout"
        },
        {
          "output_type": "execute_result",
          "data": {
            "text/html": [
              "<div>\n",
              "<style scoped>\n",
              "    .dataframe tbody tr th:only-of-type {\n",
              "        vertical-align: middle;\n",
              "    }\n",
              "\n",
              "    .dataframe tbody tr th {\n",
              "        vertical-align: top;\n",
              "    }\n",
              "\n",
              "    .dataframe thead th {\n",
              "        text-align: right;\n",
              "    }\n",
              "</style>\n",
              "<table border=\"1\" class=\"dataframe\">\n",
              "  <thead>\n",
              "    <tr style=\"text-align: right;\">\n",
              "      <th></th>\n",
              "      <th>Missing Values</th>\n",
              "      <th>% of Total Values</th>\n",
              "    </tr>\n",
              "  </thead>\n",
              "  <tbody>\n",
              "    <tr>\n",
              "      <th>review_comment_message</th>\n",
              "      <td>64296</td>\n",
              "      <td>57.1</td>\n",
              "    </tr>\n",
              "    <tr>\n",
              "      <th>Carrier_time_diff_Days</th>\n",
              "      <td>2446</td>\n",
              "      <td>2.2</td>\n",
              "    </tr>\n",
              "    <tr>\n",
              "      <th>Delivery_time_diff_Days</th>\n",
              "      <td>2446</td>\n",
              "      <td>2.2</td>\n",
              "    </tr>\n",
              "    <tr>\n",
              "      <th>Estimated-Actual_Delivery_Days</th>\n",
              "      <td>2446</td>\n",
              "      <td>2.2</td>\n",
              "    </tr>\n",
              "    <tr>\n",
              "      <th>order_delivered_customer_date</th>\n",
              "      <td>2446</td>\n",
              "      <td>2.2</td>\n",
              "    </tr>\n",
              "    <tr>\n",
              "      <th>product_category_name_english</th>\n",
              "      <td>1627</td>\n",
              "      <td>1.4</td>\n",
              "    </tr>\n",
              "    <tr>\n",
              "      <th>product_description_lenght</th>\n",
              "      <td>1603</td>\n",
              "      <td>1.4</td>\n",
              "    </tr>\n",
              "    <tr>\n",
              "      <th>product_name_lenght</th>\n",
              "      <td>1603</td>\n",
              "      <td>1.4</td>\n",
              "    </tr>\n",
              "    <tr>\n",
              "      <th>product_photos_qty</th>\n",
              "      <td>1603</td>\n",
              "      <td>1.4</td>\n",
              "    </tr>\n",
              "    <tr>\n",
              "      <th>Carrier_Start_Date-Shipping_limit_Days</th>\n",
              "      <td>1192</td>\n",
              "      <td>1.1</td>\n",
              "    </tr>\n",
              "    <tr>\n",
              "      <th>order_delivered_carrier_date</th>\n",
              "      <td>1192</td>\n",
              "      <td>1.1</td>\n",
              "    </tr>\n",
              "    <tr>\n",
              "      <th>payment_type_count</th>\n",
              "      <td>3</td>\n",
              "      <td>0.0</td>\n",
              "    </tr>\n",
              "    <tr>\n",
              "      <th>payment_type_value</th>\n",
              "      <td>3</td>\n",
              "      <td>0.0</td>\n",
              "    </tr>\n",
              "    <tr>\n",
              "      <th>total_payment</th>\n",
              "      <td>3</td>\n",
              "      <td>0.0</td>\n",
              "    </tr>\n",
              "  </tbody>\n",
              "</table>\n",
              "</div>"
            ],
            "text/plain": [
              "                                        Missing Values  % of Total Values\n",
              "review_comment_message                           64296               57.1\n",
              "Carrier_time_diff_Days                            2446                2.2\n",
              "Delivery_time_diff_Days                           2446                2.2\n",
              "Estimated-Actual_Delivery_Days                    2446                2.2\n",
              "order_delivered_customer_date                     2446                2.2\n",
              "product_category_name_english                     1627                1.4\n",
              "product_description_lenght                        1603                1.4\n",
              "product_name_lenght                               1603                1.4\n",
              "product_photos_qty                                1603                1.4\n",
              "Carrier_Start_Date-Shipping_limit_Days            1192                1.1\n",
              "order_delivered_carrier_date                      1192                1.1\n",
              "payment_type_count                                   3                0.0\n",
              "payment_type_value                                   3                0.0\n",
              "total_payment                                        3                0.0"
            ]
          },
          "metadata": {
            "tags": []
          },
          "execution_count": 41
        }
      ]
    },
    {
      "cell_type": "markdown",
      "metadata": {
        "id": "6ltloq5_sQnD",
        "colab_type": "text"
      },
      "source": [
        "'Weight/volume',\n",
        " 'customer_city'\n",
        " 'customer_state',\n",
        " 'customer_zip_code_prefix',\n",
        " 'freight/price',\n",
        " 'freight_value',\n",
        " 'order_status',\n",
        " 'payment_type_count',\n",
        " 'payment_type_value',\n",
        " 'price',\n",
        " 'product_height_cm',\n",
        " 'product_id',\n",
        " 'product_length_cm',\n",
        " 'product_name_lenght',\n",
        " 'product_photos_qty',\n",
        " 'product_weight_g',\n",
        " 'product_width_cm',\n",
        " 'review_score',\n",
        " 'seller_city',\n",
        " 'seller_state',\n",
        " 'seller_zip_code_prefix',\n",
        " 'shipping_limit_date',\n",
        " 'total_payment',\n",
        " 'Distance_Sell_Cust'"
      ]
    },
    {
      "cell_type": "markdown",
      "metadata": {
        "id": "3OC5ZKORM5dC",
        "colab_type": "text"
      },
      "source": [
        "### Feature Engineering\n",
        "the next step is Feature Engineering. pySpark has made it so easy that we do not need to do much for extracting features. here are the steps:\n",
        "we apply StringIndexer() to assign indices to each category in our categorical columns.\n",
        "we apply OneHotEncoderEstimator() to convert categorical columns to onehot encoded vectors. First, we need to use the String Indexer to convert the variable into numerical form and then use OneHotEncoderEstimator to encode multiple columns of the dataset.\n",
        "and we apply VectorAssembler() to create a feature vector from all categorical and numerical features and we call the final vector as “features”. <br>\n",
        "Reference: https://www.analyticsvidhya.com/blog/2019/11/build-machine-learning-pipelines-pyspark/"
      ]
    },
    {
      "cell_type": "markdown",
      "metadata": {
        "id": "7CLhVWua0XIU",
        "colab_type": "text"
      },
      "source": [
        "<ol>\n",
        "    <li> String Indexer: String Indexer encodes a column of string label/categories to a column of indices. The ordering of the indices is done on the basis of popularity and the range is [0, numOflabels).\n",
        "    </li>\n",
        "    <li> One Hot Encoder: One hot encoder maps the label indices to a binary vector representation with at the most a single one-value. These methods are generally used when we need to use categorical features but the algorithm expects continuous features. The spark one hot encoder takes the indexed label/category from the string indexer and then encodes it into a sparse vector. This is slightly different from the usual dummy column creation style. At this point, we would like to point out the sparse vector has 4 different components. The first component which is a 0 indicates that it is a sparse vector. The second component talks about the size of the vector. The second component talks about the size of the vector. The third component talks about the indices where the vector is populated while the fourth component talks about what values these are. This truncates the vector and is really efficient when you have really large vector representations. If we want to see the dense vector representation for this, it is very easy to use a udf to transform this. </li>\n",
        "    <li> Vector Assembler: Vector Assembler is to combine the raw features and features generated from various transforms into a single feature vector. It accepts boolean, numerical and vector type inputs). Vector assembler combine all our features into one before training our models. </li>\n",
        "    <li> Pipeline: A Pipeline chains multiple Transformers and Estimators together to specify an ML workflow. </li>\n",
        "</ol>\n"
      ]
    },
    {
      "cell_type": "code",
      "metadata": {
        "id": "SJ5MabF_d5CG",
        "colab_type": "code",
        "colab": {}
      },
      "source": [
        "# we use the OneHotEncoderEstimator from MLlib in spark to convert #aech v=categorical feature into one-hot vectors\n",
        "# next, we use VectorAssembler to combine the resulted one-hot ector #and the rest of numerical features into a \n",
        "# single vector column. we append every step of the process in a #stages array\n",
        "from pyspark.ml.feature import OneHotEncoderEstimator, StringIndexer, VectorAssembler\n",
        "categoricalColumns = ['customer_city', 'customer_state', 'seller_city', 'seller_state']\n",
        "stages = []\n",
        "for categoricalCol in categoricalColumns:\n",
        "    stringIndexer = StringIndexer(inputCol = categoricalCol, outputCol = categoricalCol + '_Index')\n",
        "    encoder = OneHotEncoderEstimator(inputCols=[stringIndexer.getOutputCol()], outputCols=[categoricalCol + \"_classVec\"])\n",
        "    stages += [stringIndexer, encoder]\n",
        "    # stages += [stringIndexer]\n",
        "\n",
        "label_stringIdx = StringIndexer(inputCol = 'Late(1)/on-time(0)', outputCol = 'label')\n",
        "stages += [label_stringIdx]\n",
        "numericCols = ['Weight/volume',  'customer_zip_code_prefix', 'freight/price',  'freight_value', 'price',\\\n",
        "               'product_height_cm', 'product_length_cm', \\\n",
        "               'product_weight_g', 'product_width_cm', 'review_score', 'seller_zip_code_prefix','Distance_Sell_Cust'] # 'product_photos_qty','total_payment'\n",
        "assemblerInputs = [c + \"_classVec\" for c in categoricalColumns] + numericCols\n",
        "assemblerInputs = numericCols\n",
        "assembler = VectorAssembler(inputCols=assemblerInputs, outputCol=\"features\")\n",
        "stages += [assembler]\n",
        "# payment_type_count, payment_type_value, product_name_lenght, product_photos_qty, total_payment"
      ],
      "execution_count": 0,
      "outputs": []
    },
    {
      "cell_type": "markdown",
      "metadata": {
        "id": "EaRyxi9Zd_m2",
        "colab_type": "text"
      },
      "source": [
        "### Pipeline\n",
        "We use Pipeline to chain multiple Transformers and Estimators together to specify our machine learning workflow. A Pipeline’s stages are specified as an ordered array."
      ]
    },
    {
      "cell_type": "code",
      "metadata": {
        "id": "pL-91tCveE1N",
        "colab_type": "code",
        "outputId": "b6fc7c34-6e68-41ea-e854-2ae274803c18",
        "colab": {
          "base_uri": "https://localhost:8080/",
          "height": 1000
        }
      },
      "source": [
        "from pyspark.ml import Pipeline\n",
        "pipeline = Pipeline(stages = stages)\n",
        "pipelineModel = pipeline.fit(final_order)\n",
        "final_order2 = pipelineModel.transform(final_order)\n",
        "selectedCols = ['label', 'features'] + cols\n",
        "final_order3 = final_order2.select(selectedCols)\n",
        "final_order3.printSchema()"
      ],
      "execution_count": 0,
      "outputs": [
        {
          "output_type": "stream",
          "text": [
            "root\n",
            " |-- label: double (nullable = false)\n",
            " |-- features: vector (nullable = true)\n",
            " |-- Carrier_Late(1)/on-time(0): long (nullable = true)\n",
            " |-- Carrier_Start_Date-Shipping_limit_Days: double (nullable = true)\n",
            " |-- Carrier_time_diff_Days: double (nullable = true)\n",
            " |-- Delivery_time_diff_Days: double (nullable = true)\n",
            " |-- Estimated-Actual_Delivery_Days: double (nullable = true)\n",
            " |-- Late(1)/on-time(0): long (nullable = true)\n",
            " |-- Order_Approval_diff_Days: double (nullable = true)\n",
            " |-- Weight/volume: double (nullable = true)\n",
            " |-- customer_city: string (nullable = true)\n",
            " |-- customer_geolocation_lat: double (nullable = true)\n",
            " |-- customer_geolocation_lng: double (nullable = true)\n",
            " |-- customer_id: string (nullable = true)\n",
            " |-- customer_state: string (nullable = true)\n",
            " |-- customer_unique_id: string (nullable = true)\n",
            " |-- customer_zip_code_prefix: long (nullable = true)\n",
            " |-- freight/price: double (nullable = true)\n",
            " |-- freight_value: double (nullable = true)\n",
            " |-- id: long (nullable = true)\n",
            " |-- order_approved_at: timestamp (nullable = true)\n",
            " |-- order_delivered_carrier_date: timestamp (nullable = true)\n",
            " |-- order_delivered_customer_date: timestamp (nullable = true)\n",
            " |-- order_estimated_delivery_date: timestamp (nullable = true)\n",
            " |-- order_id: string (nullable = true)\n",
            " |-- order_item_id: long (nullable = true)\n",
            " |-- order_purchase_timestamp: timestamp (nullable = true)\n",
            " |-- order_status: string (nullable = true)\n",
            " |-- payment_type_count: struct (nullable = true)\n",
            " |    |-- indices: array (nullable = true)\n",
            " |    |    |-- element: long (containsNull = true)\n",
            " |    |-- size: long (nullable = true)\n",
            " |    |-- type: long (nullable = true)\n",
            " |    |-- values: array (nullable = true)\n",
            " |    |    |-- element: double (containsNull = true)\n",
            " |-- payment_type_value: struct (nullable = true)\n",
            " |    |-- indices: array (nullable = true)\n",
            " |    |    |-- element: long (containsNull = true)\n",
            " |    |-- size: long (nullable = true)\n",
            " |    |-- type: long (nullable = true)\n",
            " |    |-- values: array (nullable = true)\n",
            " |    |    |-- element: double (containsNull = true)\n",
            " |-- price: double (nullable = true)\n",
            " |-- product_category_name_english: string (nullable = true)\n",
            " |-- product_description_lenght: long (nullable = true)\n",
            " |-- product_height_cm: double (nullable = true)\n",
            " |-- product_id: string (nullable = true)\n",
            " |-- product_length_cm: double (nullable = true)\n",
            " |-- product_name_lenght: long (nullable = true)\n",
            " |-- product_photos_qty: long (nullable = true)\n",
            " |-- product_weight_g: double (nullable = true)\n",
            " |-- product_width_cm: double (nullable = true)\n",
            " |-- review_comment_message: string (nullable = true)\n",
            " |-- review_id: string (nullable = true)\n",
            " |-- review_score: integer (nullable = true)\n",
            " |-- seller_city: string (nullable = true)\n",
            " |-- seller_geolocation_lat: double (nullable = true)\n",
            " |-- seller_geolocation_lng: double (nullable = true)\n",
            " |-- seller_id: string (nullable = true)\n",
            " |-- seller_state: string (nullable = true)\n",
            " |-- seller_zip_code_prefix: long (nullable = true)\n",
            " |-- shipping_limit_date: timestamp (nullable = true)\n",
            " |-- total_payment: double (nullable = true)\n",
            " |-- Distance_Sell_Cust: float (nullable = true)\n",
            "\n"
          ],
          "name": "stdout"
        }
      ]
    },
    {
      "cell_type": "code",
      "metadata": {
        "id": "noI0OkO4N9N9",
        "colab_type": "code",
        "outputId": "f668409e-fa09-4bf9-ffc4-b7ea4989f33f",
        "colab": {
          "base_uri": "https://localhost:8080/",
          "height": 479
        }
      },
      "source": [
        "final_order3.show()"
      ],
      "execution_count": 0,
      "outputs": [
        {
          "output_type": "stream",
          "text": [
            "+-----+--------------------+--------------------------+--------------------------------------+----------------------+-----------------------+------------------------------+------------------+------------------------+-------------------+---------------+------------------------+------------------------+--------------------+--------------+--------------------+------------------------+-------------------+-------------+---+-------------------+----------------------------+-----------------------------+-----------------------------+--------------------+-------------+------------------------+------------+--------------------+--------------------+-----+-----------------------------+--------------------------+-----------------+--------------------+-----------------+-------------------+------------------+----------------+----------------+----------------------+--------------------+------------+-----------+----------------------+----------------------+--------------------+------------+----------------------+-------------------+-------------+------------------+\n",
            "|label|            features|Carrier_Late(1)/on-time(0)|Carrier_Start_Date-Shipping_limit_Days|Carrier_time_diff_Days|Delivery_time_diff_Days|Estimated-Actual_Delivery_Days|Late(1)/on-time(0)|Order_Approval_diff_Days|      Weight/volume|  customer_city|customer_geolocation_lat|customer_geolocation_lng|         customer_id|customer_state|  customer_unique_id|customer_zip_code_prefix|      freight/price|freight_value| id|  order_approved_at|order_delivered_carrier_date|order_delivered_customer_date|order_estimated_delivery_date|            order_id|order_item_id|order_purchase_timestamp|order_status|  payment_type_count|  payment_type_value|price|product_category_name_english|product_description_lenght|product_height_cm|          product_id|product_length_cm|product_name_lenght|product_photos_qty|product_weight_g|product_width_cm|review_comment_message|           review_id|review_score|seller_city|seller_geolocation_lat|seller_geolocation_lng|           seller_id|seller_state|seller_zip_code_prefix|shipping_limit_date|total_payment|Distance_Sell_Cust|\n",
            "+-----+--------------------+--------------------------+--------------------------------------+----------------------+-----------------------+------------------------------+------------------+------------------------+-------------------+---------------+------------------------+------------------------+--------------------+--------------+--------------------+------------------------+-------------------+-------------+---+-------------------+----------------------------+-----------------------------+-----------------------------+--------------------+-------------+------------------------+------------+--------------------+--------------------+-----+-----------------------------+--------------------------+-----------------+--------------------+-----------------+-------------------+------------------+----------------+----------------+----------------------+--------------------+------------+-----------+----------------------+----------------------+--------------------+------------+----------------------+-------------------+-------------+------------------+\n",
            "|  0.0|[0.04751461988304...|                         0|                    1.8558449074074075|     20.19236111111111|     28.233333333333334|             2.328472222222222|                 0|      0.8965277777777778|0.04751461988304093|       brasilia|            -16.02294658|            -48.05071816|e2dc0b0cef1781793...|            DF|4f308d513ccac2840...|                   72457| 0.2629536921151439|        21.01|  0|2017-04-25 08:02:00|         2017-05-02 11:30:00|          2017-05-22 16:07:00|          2017-05-25 00:00:00|b6fa6ea37aeeb90c9...|            1|     2017-04-24 10:31:00|   delivered|  [[0], 4, 0, [1.0]]|[[0], 4, 0, [100....| 79.9|                health_beauty|                      1400|             20.0|8a4505505378c8f5d...|             19.0|                 47|                 1|           325.0|            18.0|                  null|11bbc10384b40b673...|           5|    lajeado|          -29.44657989|          -51.96120191|062ce95fa2ad4dfae...|          RS|                 95913|2017-05-04 08:02:25|       100.91|           1545.21|\n",
            "|  0.0|[0.10796221322537...|                         0|                    1.0055787037037036|     6.997222222222222|     11.991666666666667|             8.330555555555556|                 0|                     0.0|0.10796221322537113|      concordia|            -27.23090863|             -52.0454811|60c9723c5d232b784...|            SC|6b3b92110c5adfe4a...|                   89705|0.34653937947494035|        14.52|  1|2017-03-16 16:16:00|         2017-03-21 16:08:00|          2017-03-28 16:04:00|          2017-04-06 00:00:00|87a838f48767365e2...|            1|     2017-03-16 16:16:00|   delivered|  [[1], 4, 0, [1.0]]|[[1], 4, 0, [56.42]]| 41.9|               bed_bath_table|                       999|             13.0|cd82271424be95688...|             19.0|                 56|                 1|           400.0|            15.0|  Adorei o produto ...|654815c89e6174154...|           5|    lajeado|          -29.44657989|          -51.96120191|062ce95fa2ad4dfae...|          RS|                 95913|2017-03-22 16:16:02|        56.42|            246.51|\n",
            "|  1.0|[0.10796221322537...|                         1|                   -23.769895833333333|     6.017361111111111|     36.895833333333336|            -9.895138888888889|                 1|      1.1083333333333334|0.10796221322537113|      catanduva|            -21.12102843|            -48.97081828|65d631d0de3181168...|            SP|78fcceb499ec9008f...|                   15804|0.42768496420047736|        17.92|  2|2017-08-31 02:35:00|         2017-09-29 21:04:00|          2017-10-05 21:29:00|          2017-09-26 00:00:00|8afd15d26436c6044...|            1|     2017-08-29 23:59:00|   delivered|  [[0], 4, 0, [1.0]]|[[0], 4, 0, [59.82]]| 41.9|               bed_bath_table|                       999|             13.0|cd82271424be95688...|             19.0|                 56|                 1|           400.0|            15.0|                  null|a112a50d46519520d...|           3|    lajeado|          -29.44657989|          -51.96120191|062ce95fa2ad4dfae...|          RS|                 95913|2017-09-06 02:35:21|        59.82|            973.22|\n",
            "|  0.0|[0.25396825396825...|                         1|                   -0.1158912037037037|     3.027083333333333|      9.154166666666667|            10.464583333333334|                 0|    0.011111111111111112|0.25396825396825395|       sao jose|            -27.59580821|            -48.61619711|8ac1fe94e53325560...|            SC|ec81d1c881757b8d0...|                   88102|  0.360381861575179|         15.1|  3|2017-05-12 09:25:00|         2017-05-18 12:12:00|          2017-05-21 12:51:00|          2017-06-01 00:00:00|1a494062b68a8ed99...|            1|     2017-05-12 09:09:00|   delivered|[[1, 3], 4, 0, [2...|[[1, 3], 4, 0, [4...| 41.9|              furniture_decor|                       683|              5.0|4da03293502189784...|             21.0|                 63|                 1|           400.0|            15.0|  Gostaria apenas q...|48fe29ff7afb01dc5...|           5|    lajeado|          -29.44657989|          -51.96120191|062ce95fa2ad4dfae...|          RS|                 95913|2017-05-18 09:25:07|         57.0|            386.18|\n",
            "|  0.0|[0.25396825396825...|                         1|                  -0.16960648148148147|     3.097916666666667|                11.1125|             7.285416666666666|                 0|      1.8444444444444446|0.25396825396825395|     nova prata|             -28.7822546|            -51.60921297|fec424751aa87f545...|            RS|e8a195f60d266e458...|                   95320| 0.2978520286396182|        12.48|  4|2017-06-20 10:43:00|         2017-06-26 14:48:00|          2017-06-29 17:09:00|          2017-07-07 00:00:00|288ec48ad5ea4c98a...|            1|     2017-06-18 14:27:00|   delivered|  [[0], 4, 0, [1.0]]|[[0], 4, 0, [54.38]]| 41.9|              furniture_decor|                       683|              5.0|4da03293502189784...|             21.0|                 63|                 1|           400.0|            15.0|                  null|9009e7e25f6a8e458...|           5|    lajeado|          -29.44657989|          -51.96120191|062ce95fa2ad4dfae...|          RS|                 95913|2017-06-26 10:43:46|        54.38|              81.4|\n",
            "|  0.0|[0.06932773109243...|                         0|                     2.901226851851852|    4.6722222222222225|      8.782638888888888|                      22.76875|                 0|    0.011111111111111112|0.06932773109243698| rio de janeiro|            -22.91934258|            -43.21542322|5b1744540d6008b84...|            RJ|10e49f47dc1cd4cdf...|                   20260| 0.6423558897243108|        25.63|  5|2017-05-18 11:02:00|         2017-05-22 13:25:00|          2017-05-27 05:33:00|          2017-06-19 00:00:00|fb86c32ba3e47fe56...|            1|     2017-05-18 10:46:00|   delivered|  [[1], 4, 0, [6.0]]|[[1], 4, 0, [65.53]]| 39.9|               bed_bath_table|                       204|             14.0|4b703444923b5e57b...|             17.0|                 49|                 1|           264.0|            16.0|                  null|a5721b28290f94e9a...|           5|    lajeado|          -29.44657989|          -51.96120191|062ce95fa2ad4dfae...|          RS|                 95913|2017-05-25 11:02:46|        65.53|           1134.32|\n",
            "|  0.0|[0.10796221322537...|                         0|                    1.4480208333333333|               13.0875|     15.654166666666667|              9.33611111111111|                 0|    0.014583333333333334|0.10796221322537113|      guarulhos|            -23.40404596|            -46.41877432|9c64cd776ee9f018a...|            SP|9df0c554a0b37fc0c...|                    7179|0.02625298329355609|          1.1|  6|2017-09-10 00:35:00|         2017-09-12 13:50:00|          2017-09-25 15:56:00|          2017-10-05 00:00:00|0cda834be88c6e549...|            1|     2017-09-10 00:14:00|   delivered| [[1], 4, 0, [10.0]]|[[1], 4, 0, [243....| 41.9|               bed_bath_table|                       999|             13.0|cd82271424be95688...|             19.0|                 56|                 1|           400.0|            15.0|  Fiz a compra e ch...|be4e16abeb792466b...|           3|    lajeado|          -29.44657989|          -51.96120191|062ce95fa2ad4dfae...|          RS|                 95913|2017-09-14 00:35:09|       243.12|            869.19|\n",
            "|  0.0|[0.21077712609970...|                         0|                    0.6376851851851851|     7.232638888888889|     11.604166666666666|            17.522916666666667|                 0|    0.009027777777777777|0.21077712609970675|      sao paulo|             -23.5495057|            -46.64843251|aafa66416bb386613...|            SP|76bf559b3b17a29c5...|                    1303| 0.0770955501897206|        22.35|  7|2017-04-29 21:10:00|         2017-05-04 05:52:00|          2017-05-11 11:27:00|          2017-05-29 00:00:00|ee7b9fca242afe884...|            1|     2017-04-29 20:57:00|   delivered|  [[1], 4, 0, [5.0]]|[[1], 4, 0, [312....|289.9|                 market_place|                       537|              8.0|ff922797a6771cab4...|             31.0|                 37|                 3|          1725.0|            33.0|  Percebi q havia p...|72b1153250e95ec4b...|           3|    lajeado|          -29.44657989|          -51.96120191|062ce95fa2ad4dfae...|          RS|                 95913|2017-05-04 21:10:16|       312.25|            842.03|\n",
            "|  0.0|[0.21179537308569...|                         0|                     1.532199074074074|     7.035416666666666|      9.503472222222221|            23.379166666666666|                 0|    0.009027777777777777|0.21179537308569565|      sao paulo|             -23.6187658|            -46.64940227|3bc3ad02b60f18345...|            SP|d616b371aae4ce572...|                    4064|0.09568193786203265|        18.17|  8|2017-02-22 03:02:00|         2017-02-24 14:03:00|          2017-03-03 14:54:00|          2017-03-27 00:00:00|f8470371533c258e0...|            1|     2017-02-22 02:49:00|   delivered|  [[1], 4, 0, [3.0]]|[[1], 4, 0, [208....|189.9|              furniture_decor|                       537|              6.0|3efe696e322f9139e...|             31.0|                 40|                 3|          1300.0|            33.0|  O produto não aqu...|d63c849ea6d81cf7c...|           1|    lajeado|          -29.44657989|          -51.96120191|062ce95fa2ad4dfae...|          RS|                 95913|2017-02-26 02:49:22|       208.07|            835.89|\n",
            "|  0.0|[0.25396825396825...|                         0|                    3.7165393518518517|                6.5875|      6.871527777777778|                       35.4125|                 0|    0.009722222222222222|0.25396825396825395| rio de janeiro|            -22.98392343|            -43.20710147|3e2d140f0acbb3da8...|            RJ|674d55cc522075b79...|                   22410|0.42434367541766116|        17.78|  9|2017-01-31 17:25:00|         2017-02-01 00:00:00|          2017-02-07 14:06:00|          2017-03-15 00:00:00|4d7b93709f08f674f...|            1|     2017-01-31 17:11:00|   delivered|  [[1], 4, 0, [1.0]]|[[1], 4, 0, [119....| 41.9|              furniture_decor|                       683|              5.0|4da03293502189784...|             21.0|                 63|                 1|           400.0|            15.0|                  null|91712508056632bf3...|           4|    lajeado|          -29.44657989|          -51.96120191|062ce95fa2ad4dfae...|          RS|                 95913|2017-02-04 17:11:49|       119.36|            1130.2|\n",
            "|  0.0|[0.25396825396825...|                         0|                    3.7165393518518517|                6.5875|      6.871527777777778|                       35.4125|                 0|    0.009722222222222222|0.25396825396825395| rio de janeiro|            -22.98392343|            -43.20710147|3e2d140f0acbb3da8...|            RJ|674d55cc522075b79...|                   22410|0.42434367541766116|        17.78| 10|2017-01-31 17:25:00|         2017-02-01 00:00:00|          2017-02-07 14:06:00|          2017-03-15 00:00:00|4d7b93709f08f674f...|            2|     2017-01-31 17:11:00|   delivered|  [[1], 4, 0, [1.0]]|[[1], 4, 0, [119....| 41.9|              furniture_decor|                       683|              5.0|4da03293502189784...|             21.0|                 63|                 1|           400.0|            15.0|                  null|91712508056632bf3...|           4|    lajeado|          -29.44657989|          -51.96120191|062ce95fa2ad4dfae...|          RS|                 95913|2017-02-04 17:11:49|       119.36|            1130.2|\n",
            "|  0.0|[0.21179537308569...|                         1|                   -3.9480092592592593|     3.126388888888889|      11.08611111111111|            13.088194444444444|                 0|    0.011111111111111112|0.21179537308569565|      sao paulo|            -23.56118966|            -46.47448584|bbf249561e84f966c...|            SP|76888ec0e2d5b7de5...|                    8280|0.10832016850974197|        20.57| 11|2017-08-21 20:05:00|         2017-08-29 18:51:00|          2017-09-01 21:53:00|          2017-09-15 00:00:00|ae1cb31659e2cf358...|            1|     2017-08-21 19:49:00|   delivered|  [[1], 4, 0, [4.0]]|[[1], 4, 0, [210....|189.9|              furniture_decor|                       537|              6.0|3efe696e322f9139e...|             31.0|                 40|                 3|          1300.0|            33.0|                  null|e0b2eab149eb41f3f...|           5|    lajeado|          -29.44657989|          -51.96120191|062ce95fa2ad4dfae...|          RS|                 95913|2017-08-25 20:05:52|       210.47|            851.97|\n",
            "|  0.0|[0.21179537308569...|                         0|                    3.2258680555555554|               9.01875|     11.802777777777777|             20.42222222222222|                 0|    0.009722222222222222|0.21179537308569565|pocos de caldas|            -21.78913132|            -46.56757074|8326dc987e109ccc7...|            MG|19e74a05536d13b34...|                   37701|0.19299631384939442|        36.65| 12|2017-05-19 18:50:00|         2017-05-22 13:25:00|          2017-05-31 13:52:00|          2017-06-21 00:00:00|d7108e3ddf254c6b5...|            1|     2017-05-19 18:36:00|   delivered|  [[1], 4, 0, [1.0]]|[[1], 4, 0, [226....|189.9|              furniture_decor|                       537|              6.0|3efe696e322f9139e...|             31.0|                 40|                 3|          1300.0|            33.0|                  null|4d482fdd3daec0366...|           5|    lajeado|          -29.44657989|          -51.96120191|062ce95fa2ad4dfae...|          RS|                 95913|2017-05-25 18:50:15|       226.55|            1008.3|\n",
            "|  0.0|[0.14436543848308...|                         0|                     5.167638888888889|              12.20625|     14.046527777777778|                      14.31875|                 0|    0.007638888888888889|0.14436543848308553|        rodeiro|            -21.20018316|            -42.86603309|d2cfabab731178547...|            MG|a82d9e16794b2921f...|                   36510|0.26656856974690996|        45.29| 13|2017-04-25 15:25:00|         2017-04-27 11:24:00|          2017-05-09 16:21:00|          2017-05-24 00:00:00|e1e2b559781f43694...|            1|     2017-04-25 15:14:00|   delivered|  [[1], 4, 0, [6.0]]|[[1], 4, 0, [215....|169.9|              furniture_decor|                       548|             51.0|8d746e360a815705b...|             70.0|                 34|                 1|          6700.0|            13.0|  Loja séria com se...|c2fac1392a0ab55f8...|           5|    lajeado|          -29.44657989|          -51.96120191|062ce95fa2ad4dfae...|          RS|                 95913|2017-05-02 15:25:24|       215.19|           1293.74|\n",
            "|  0.0|[0.05847953216374...|                         1|                   -1.1970486111111112|     7.045138888888889|      16.24861111111111|                        7.3375|                 0|                 0.00625|0.05847953216374269|     rio do sul|            -27.18228119|            -49.60640969|1ad05de046ac6a5e9...|            SC|d9d506dbb65bdc1f8...|                   89162| 0.1916145181476846|        15.31| 14|2017-06-20 10:05:00|         2017-06-29 14:49:00|          2017-07-06 15:54:00|          2017-07-14 00:00:00|e21677585042e206b...|            1|     2017-06-20 09:56:00|   delivered|  [[1], 4, 0, [9.0]]|[[1], 4, 0, [95.21]]| 79.9|                health_beauty|                      1400|             20.0|8c96a6969d0fad206...|             19.0|                 50|                 1|           400.0|            18.0|   Excelente recomendo|94691b18bf047b007...|           5|    lajeado|          -29.44657989|          -51.96120191|062ce95fa2ad4dfae...|          RS|                 95913|2017-06-28 10:05:15|        95.21|            341.34|\n",
            "|  0.0|[0.21179537308569...|                         0|                    0.1904861111111111|     4.947222222222222|       8.76736111111111|            15.352083333333333|                 0|    0.010416666666666666|0.21179537308569565|      sao paulo|            -23.52813994|            -46.50066365|b93f595ad6dd63fa5...|            SP|f80521e48c7cb490d...|                    3658|0.10832016850974197|        20.57| 15|2017-07-09 21:23:00|         2017-07-13 16:49:00|          2017-07-18 15:33:00|          2017-08-03 00:00:00|a509a0a8522e394f8...|            1|     2017-07-09 21:08:00|   delivered|  [[1], 4, 0, [8.0]]|[[1], 4, 0, [210....|189.9|              furniture_decor|                       537|              6.0|3efe696e322f9139e...|             31.0|                 40|                 3|          1300.0|            33.0|  Acho q a empresa ...|f5388e20b7d050a39...|           4|    lajeado|          -29.44657989|          -51.96120191|062ce95fa2ad4dfae...|          RS|                 95913|2017-07-13 21:23:18|       210.47|            853.19|\n",
            "|  0.0|[0.21179537308569...|                         0|                     1.499525462962963|     3.011111111111111|      7.518055555555556|             17.57847222222222|                 0|                 0.00625|0.21179537308569565|      sao paulo|            -23.61153067|            -46.73636662|2945f7826483e9c73...|            SP|334cc44b9272d44bc...|                    5630|0.10832016850974197|        20.57| 16|2017-06-28 21:50:00|         2017-07-03 09:51:00|          2017-07-06 10:07:00|          2017-07-24 00:00:00|f58d7e09ece55d81a...|            1|     2017-06-28 21:41:00|   delivered|  [[1], 4, 0, [1.0]]|[[1], 4, 0, [631....|189.9|              furniture_decor|                       537|              6.0|3efe696e322f9139e...|             31.0|                 40|                 3|          1300.0|            33.0|                  null|c9d483edb6d9174a8...|           5|    lajeado|          -29.44657989|          -51.96120191|062ce95fa2ad4dfae...|          RS|                 95913|2017-07-04 21:50:19|       631.41|             831.1|\n",
            "|  0.0|[0.21179537308569...|                         0|                     1.499525462962963|     3.011111111111111|      7.518055555555556|             17.57847222222222|                 0|                 0.00625|0.21179537308569565|      sao paulo|            -23.61153067|            -46.73636662|2945f7826483e9c73...|            SP|334cc44b9272d44bc...|                    5630|0.10832016850974197|        20.57| 17|2017-06-28 21:50:00|         2017-07-03 09:51:00|          2017-07-06 10:07:00|          2017-07-24 00:00:00|f58d7e09ece55d81a...|            2|     2017-06-28 21:41:00|   delivered|  [[1], 4, 0, [1.0]]|[[1], 4, 0, [631....|189.9|              furniture_decor|                       537|              6.0|3efe696e322f9139e...|             31.0|                 40|                 3|          1300.0|            33.0|                  null|c9d483edb6d9174a8...|           5|    lajeado|          -29.44657989|          -51.96120191|062ce95fa2ad4dfae...|          RS|                 95913|2017-07-04 21:50:19|       631.41|             831.1|\n",
            "|  0.0|[0.21179537308569...|                         0|                     1.499525462962963|     3.011111111111111|      7.518055555555556|             17.57847222222222|                 0|                 0.00625|0.21179537308569565|      sao paulo|            -23.61153067|            -46.73636662|2945f7826483e9c73...|            SP|334cc44b9272d44bc...|                    5630|0.10832016850974197|        20.57| 18|2017-06-28 21:50:00|         2017-07-03 09:51:00|          2017-07-06 10:07:00|          2017-07-24 00:00:00|f58d7e09ece55d81a...|            3|     2017-06-28 21:41:00|   delivered|  [[1], 4, 0, [1.0]]|[[1], 4, 0, [631....|189.9|              furniture_decor|                       537|              6.0|3efe696e322f9139e...|             31.0|                 40|                 3|          1300.0|            33.0|                  null|c9d483edb6d9174a8...|           5|    lajeado|          -29.44657989|          -51.96120191|062ce95fa2ad4dfae...|          RS|                 95913|2017-07-04 21:50:19|       631.41|             831.1|\n",
            "|  0.0|[0.21077712609970...|                         0|                     5.246400462962963|     5.667361111111111|     6.4215277777777775|                         11.65|                 0|                     0.0|0.21077712609970675|  caxias do sul|            -29.17266949|            -51.21072934|5e320e6a4f03e2e74...|            RS|8a2530b1bf32235ed...|                   95012| 0.0545015522593998|         15.8| 19|2017-03-09 22:17:00|         2017-03-10 16:23:00|          2017-03-16 08:24:00|          2017-03-28 00:00:00|a840a7a89e3d91373...|            1|     2017-03-09 22:17:00|   delivered|  [[1], 4, 0, [5.0]]|[[1], 4, 0, [305.7]]|289.9|                 market_place|                       537|              8.0|ff922797a6771cab4...|             31.0|                 37|                 3|          1725.0|            33.0|                  null|530bc04383c4dded4...|           5|    lajeado|          -29.44657989|          -51.96120191|062ce95fa2ad4dfae...|          RS|                 95913|2017-03-15 22:17:49|        305.7|             78.88|\n",
            "+-----+--------------------+--------------------------+--------------------------------------+----------------------+-----------------------+------------------------------+------------------+------------------------+-------------------+---------------+------------------------+------------------------+--------------------+--------------+--------------------+------------------------+-------------------+-------------+---+-------------------+----------------------------+-----------------------------+-----------------------------+--------------------+-------------+------------------------+------------+--------------------+--------------------+-----+-----------------------------+--------------------------+-----------------+--------------------+-----------------+-------------------+------------------+----------------+----------------+----------------------+--------------------+------------+-----------+----------------------+----------------------+--------------------+------------+----------------------+-------------------+-------------+------------------+\n",
            "only showing top 20 rows\n",
            "\n"
          ],
          "name": "stdout"
        }
      ]
    },
    {
      "cell_type": "code",
      "metadata": {
        "id": "yDULw3WMeJY1",
        "colab_type": "code",
        "outputId": "ef6cfa00-0d84-4440-a7b0-105d56a0ff5b",
        "colab": {
          "base_uri": "https://localhost:8080/",
          "height": 1000
        }
      },
      "source": [
        "pd.DataFrame(final_order3.take(5), columns=final_order3.columns).transpose()"
      ],
      "execution_count": 0,
      "outputs": [
        {
          "output_type": "execute_result",
          "data": {
            "text/html": [
              "<div>\n",
              "<style scoped>\n",
              "    .dataframe tbody tr th:only-of-type {\n",
              "        vertical-align: middle;\n",
              "    }\n",
              "\n",
              "    .dataframe tbody tr th {\n",
              "        vertical-align: top;\n",
              "    }\n",
              "\n",
              "    .dataframe thead th {\n",
              "        text-align: right;\n",
              "    }\n",
              "</style>\n",
              "<table border=\"1\" class=\"dataframe\">\n",
              "  <thead>\n",
              "    <tr style=\"text-align: right;\">\n",
              "      <th></th>\n",
              "      <th>0</th>\n",
              "      <th>1</th>\n",
              "      <th>2</th>\n",
              "      <th>3</th>\n",
              "      <th>4</th>\n",
              "    </tr>\n",
              "  </thead>\n",
              "  <tbody>\n",
              "    <tr>\n",
              "      <th>label</th>\n",
              "      <td>0</td>\n",
              "      <td>0</td>\n",
              "      <td>1</td>\n",
              "      <td>0</td>\n",
              "      <td>0</td>\n",
              "    </tr>\n",
              "    <tr>\n",
              "      <th>features</th>\n",
              "      <td>[0.04751461988304093, 72457.0, 0.2629536921151...</td>\n",
              "      <td>[0.10796221322537113, 89705.0, 0.3465393794749...</td>\n",
              "      <td>[0.10796221322537113, 15804.0, 0.4276849642004...</td>\n",
              "      <td>[0.25396825396825395, 88102.0, 0.3603818615751...</td>\n",
              "      <td>[0.25396825396825395, 95320.0, 0.2978520286396...</td>\n",
              "    </tr>\n",
              "    <tr>\n",
              "      <th>Carrier_Late(1)/on-time(0)</th>\n",
              "      <td>0</td>\n",
              "      <td>0</td>\n",
              "      <td>1</td>\n",
              "      <td>1</td>\n",
              "      <td>1</td>\n",
              "    </tr>\n",
              "    <tr>\n",
              "      <th>Carrier_Start_Date-Shipping_limit_Days</th>\n",
              "      <td>1.85584</td>\n",
              "      <td>1.00558</td>\n",
              "      <td>-23.7699</td>\n",
              "      <td>-0.115891</td>\n",
              "      <td>-0.169606</td>\n",
              "    </tr>\n",
              "    <tr>\n",
              "      <th>Carrier_time_diff_Days</th>\n",
              "      <td>20.1924</td>\n",
              "      <td>6.99722</td>\n",
              "      <td>6.01736</td>\n",
              "      <td>3.02708</td>\n",
              "      <td>3.09792</td>\n",
              "    </tr>\n",
              "    <tr>\n",
              "      <th>Delivery_time_diff_Days</th>\n",
              "      <td>28.2333</td>\n",
              "      <td>11.9917</td>\n",
              "      <td>36.8958</td>\n",
              "      <td>9.15417</td>\n",
              "      <td>11.1125</td>\n",
              "    </tr>\n",
              "    <tr>\n",
              "      <th>Estimated-Actual_Delivery_Days</th>\n",
              "      <td>2.32847</td>\n",
              "      <td>8.33056</td>\n",
              "      <td>-9.89514</td>\n",
              "      <td>10.4646</td>\n",
              "      <td>7.28542</td>\n",
              "    </tr>\n",
              "    <tr>\n",
              "      <th>Late(1)/on-time(0)</th>\n",
              "      <td>0</td>\n",
              "      <td>0</td>\n",
              "      <td>1</td>\n",
              "      <td>0</td>\n",
              "      <td>0</td>\n",
              "    </tr>\n",
              "    <tr>\n",
              "      <th>Order_Approval_diff_Days</th>\n",
              "      <td>0.896528</td>\n",
              "      <td>0</td>\n",
              "      <td>1.10833</td>\n",
              "      <td>0.0111111</td>\n",
              "      <td>1.84444</td>\n",
              "    </tr>\n",
              "    <tr>\n",
              "      <th>Weight/volume</th>\n",
              "      <td>0.0475146</td>\n",
              "      <td>0.107962</td>\n",
              "      <td>0.107962</td>\n",
              "      <td>0.253968</td>\n",
              "      <td>0.253968</td>\n",
              "    </tr>\n",
              "    <tr>\n",
              "      <th>customer_city</th>\n",
              "      <td>brasilia</td>\n",
              "      <td>concordia</td>\n",
              "      <td>catanduva</td>\n",
              "      <td>sao jose</td>\n",
              "      <td>nova prata</td>\n",
              "    </tr>\n",
              "    <tr>\n",
              "      <th>customer_geolocation_lat</th>\n",
              "      <td>-16.0229</td>\n",
              "      <td>-27.2309</td>\n",
              "      <td>-21.121</td>\n",
              "      <td>-27.5958</td>\n",
              "      <td>-28.7823</td>\n",
              "    </tr>\n",
              "    <tr>\n",
              "      <th>customer_geolocation_lng</th>\n",
              "      <td>-48.0507</td>\n",
              "      <td>-52.0455</td>\n",
              "      <td>-48.9708</td>\n",
              "      <td>-48.6162</td>\n",
              "      <td>-51.6092</td>\n",
              "    </tr>\n",
              "    <tr>\n",
              "      <th>customer_id</th>\n",
              "      <td>e2dc0b0cef178179300195205e3788ef</td>\n",
              "      <td>60c9723c5d232b784f10940175deb500</td>\n",
              "      <td>65d631d0de3181168bc5699f5c766861</td>\n",
              "      <td>8ac1fe94e53325560257c8758c9a8f4a</td>\n",
              "      <td>fec424751aa87f5451286fc3d532fae4</td>\n",
              "    </tr>\n",
              "    <tr>\n",
              "      <th>customer_state</th>\n",
              "      <td>DF</td>\n",
              "      <td>SC</td>\n",
              "      <td>SP</td>\n",
              "      <td>SC</td>\n",
              "      <td>RS</td>\n",
              "    </tr>\n",
              "    <tr>\n",
              "      <th>customer_unique_id</th>\n",
              "      <td>4f308d513ccac2840ecef09e3f27834f</td>\n",
              "      <td>6b3b92110c5adfe4a1334369d1ef2533</td>\n",
              "      <td>78fcceb499ec9008fcecbaad21efefc6</td>\n",
              "      <td>ec81d1c881757b8d02f24f7a3da1a1d9</td>\n",
              "      <td>e8a195f60d266e458b02b0e57e85815d</td>\n",
              "    </tr>\n",
              "    <tr>\n",
              "      <th>customer_zip_code_prefix</th>\n",
              "      <td>72457</td>\n",
              "      <td>89705</td>\n",
              "      <td>15804</td>\n",
              "      <td>88102</td>\n",
              "      <td>95320</td>\n",
              "    </tr>\n",
              "    <tr>\n",
              "      <th>freight/price</th>\n",
              "      <td>0.262954</td>\n",
              "      <td>0.346539</td>\n",
              "      <td>0.427685</td>\n",
              "      <td>0.360382</td>\n",
              "      <td>0.297852</td>\n",
              "    </tr>\n",
              "    <tr>\n",
              "      <th>freight_value</th>\n",
              "      <td>21.01</td>\n",
              "      <td>14.52</td>\n",
              "      <td>17.92</td>\n",
              "      <td>15.1</td>\n",
              "      <td>12.48</td>\n",
              "    </tr>\n",
              "    <tr>\n",
              "      <th>id</th>\n",
              "      <td>0</td>\n",
              "      <td>1</td>\n",
              "      <td>2</td>\n",
              "      <td>3</td>\n",
              "      <td>4</td>\n",
              "    </tr>\n",
              "    <tr>\n",
              "      <th>order_approved_at</th>\n",
              "      <td>2017-04-25 08:02:00</td>\n",
              "      <td>2017-03-16 16:16:00</td>\n",
              "      <td>2017-08-31 02:35:00</td>\n",
              "      <td>2017-05-12 09:25:00</td>\n",
              "      <td>2017-06-20 10:43:00</td>\n",
              "    </tr>\n",
              "    <tr>\n",
              "      <th>order_delivered_carrier_date</th>\n",
              "      <td>2017-05-02 11:30:00</td>\n",
              "      <td>2017-03-21 16:08:00</td>\n",
              "      <td>2017-09-29 21:04:00</td>\n",
              "      <td>2017-05-18 12:12:00</td>\n",
              "      <td>2017-06-26 14:48:00</td>\n",
              "    </tr>\n",
              "    <tr>\n",
              "      <th>order_delivered_customer_date</th>\n",
              "      <td>2017-05-22 16:07:00</td>\n",
              "      <td>2017-03-28 16:04:00</td>\n",
              "      <td>2017-10-05 21:29:00</td>\n",
              "      <td>2017-05-21 12:51:00</td>\n",
              "      <td>2017-06-29 17:09:00</td>\n",
              "    </tr>\n",
              "    <tr>\n",
              "      <th>order_estimated_delivery_date</th>\n",
              "      <td>2017-05-25 00:00:00</td>\n",
              "      <td>2017-04-06 00:00:00</td>\n",
              "      <td>2017-09-26 00:00:00</td>\n",
              "      <td>2017-06-01 00:00:00</td>\n",
              "      <td>2017-07-07 00:00:00</td>\n",
              "    </tr>\n",
              "    <tr>\n",
              "      <th>order_id</th>\n",
              "      <td>b6fa6ea37aeeb90c905eb2a488fc5dc5</td>\n",
              "      <td>87a838f48767365e2b786c485ef2e8b0</td>\n",
              "      <td>8afd15d26436c60441bf3ee71d2a91a8</td>\n",
              "      <td>1a494062b68a8ed99ba9171cb9c9aef5</td>\n",
              "      <td>288ec48ad5ea4c98afe99ea53d523b78</td>\n",
              "    </tr>\n",
              "    <tr>\n",
              "      <th>order_item_id</th>\n",
              "      <td>1</td>\n",
              "      <td>1</td>\n",
              "      <td>1</td>\n",
              "      <td>1</td>\n",
              "      <td>1</td>\n",
              "    </tr>\n",
              "    <tr>\n",
              "      <th>order_purchase_timestamp</th>\n",
              "      <td>2017-04-24 10:31:00</td>\n",
              "      <td>2017-03-16 16:16:00</td>\n",
              "      <td>2017-08-29 23:59:00</td>\n",
              "      <td>2017-05-12 09:09:00</td>\n",
              "      <td>2017-06-18 14:27:00</td>\n",
              "    </tr>\n",
              "    <tr>\n",
              "      <th>order_status</th>\n",
              "      <td>delivered</td>\n",
              "      <td>delivered</td>\n",
              "      <td>delivered</td>\n",
              "      <td>delivered</td>\n",
              "      <td>delivered</td>\n",
              "    </tr>\n",
              "    <tr>\n",
              "      <th>payment_type_count</th>\n",
              "      <td>([0], 4, 0, [1.0])</td>\n",
              "      <td>([1], 4, 0, [1.0])</td>\n",
              "      <td>([0], 4, 0, [1.0])</td>\n",
              "      <td>([1, 3], 4, 0, [2.0, 1.0])</td>\n",
              "      <td>([0], 4, 0, [1.0])</td>\n",
              "    </tr>\n",
              "    <tr>\n",
              "      <th>payment_type_value</th>\n",
              "      <td>([0], 4, 0, [100.91])</td>\n",
              "      <td>([1], 4, 0, [56.42])</td>\n",
              "      <td>([0], 4, 0, [59.82])</td>\n",
              "      <td>([1, 3], 4, 0, [40.22, 16.78])</td>\n",
              "      <td>([0], 4, 0, [54.38])</td>\n",
              "    </tr>\n",
              "    <tr>\n",
              "      <th>price</th>\n",
              "      <td>79.9</td>\n",
              "      <td>41.9</td>\n",
              "      <td>41.9</td>\n",
              "      <td>41.9</td>\n",
              "      <td>41.9</td>\n",
              "    </tr>\n",
              "    <tr>\n",
              "      <th>product_category_name_english</th>\n",
              "      <td>health_beauty</td>\n",
              "      <td>bed_bath_table</td>\n",
              "      <td>bed_bath_table</td>\n",
              "      <td>furniture_decor</td>\n",
              "      <td>furniture_decor</td>\n",
              "    </tr>\n",
              "    <tr>\n",
              "      <th>product_description_lenght</th>\n",
              "      <td>1400</td>\n",
              "      <td>999</td>\n",
              "      <td>999</td>\n",
              "      <td>683</td>\n",
              "      <td>683</td>\n",
              "    </tr>\n",
              "    <tr>\n",
              "      <th>product_height_cm</th>\n",
              "      <td>20</td>\n",
              "      <td>13</td>\n",
              "      <td>13</td>\n",
              "      <td>5</td>\n",
              "      <td>5</td>\n",
              "    </tr>\n",
              "    <tr>\n",
              "      <th>product_id</th>\n",
              "      <td>8a4505505378c8f5d983f3201e9c25da</td>\n",
              "      <td>cd82271424be9568801391194697361c</td>\n",
              "      <td>cd82271424be9568801391194697361c</td>\n",
              "      <td>4da0329350218978429b287440f4b87a</td>\n",
              "      <td>4da0329350218978429b287440f4b87a</td>\n",
              "    </tr>\n",
              "    <tr>\n",
              "      <th>product_length_cm</th>\n",
              "      <td>19</td>\n",
              "      <td>19</td>\n",
              "      <td>19</td>\n",
              "      <td>21</td>\n",
              "      <td>21</td>\n",
              "    </tr>\n",
              "    <tr>\n",
              "      <th>product_name_lenght</th>\n",
              "      <td>47</td>\n",
              "      <td>56</td>\n",
              "      <td>56</td>\n",
              "      <td>63</td>\n",
              "      <td>63</td>\n",
              "    </tr>\n",
              "    <tr>\n",
              "      <th>product_photos_qty</th>\n",
              "      <td>1</td>\n",
              "      <td>1</td>\n",
              "      <td>1</td>\n",
              "      <td>1</td>\n",
              "      <td>1</td>\n",
              "    </tr>\n",
              "    <tr>\n",
              "      <th>product_weight_g</th>\n",
              "      <td>325</td>\n",
              "      <td>400</td>\n",
              "      <td>400</td>\n",
              "      <td>400</td>\n",
              "      <td>400</td>\n",
              "    </tr>\n",
              "    <tr>\n",
              "      <th>product_width_cm</th>\n",
              "      <td>18</td>\n",
              "      <td>15</td>\n",
              "      <td>15</td>\n",
              "      <td>15</td>\n",
              "      <td>15</td>\n",
              "    </tr>\n",
              "    <tr>\n",
              "      <th>review_comment_message</th>\n",
              "      <td>None</td>\n",
              "      <td>Adorei o produto e chegou super rapido.</td>\n",
              "      <td>None</td>\n",
              "      <td>Gostaria apenas que a empresa que me enviou o ...</td>\n",
              "      <td>None</td>\n",
              "    </tr>\n",
              "    <tr>\n",
              "      <th>review_id</th>\n",
              "      <td>11bbc10384b40b673a6101cbd773d39f</td>\n",
              "      <td>654815c89e61741545d8e7d17e277f2b</td>\n",
              "      <td>a112a50d46519520d8b243b98ec21ca4</td>\n",
              "      <td>48fe29ff7afb01dc5420dd679a48ef1a</td>\n",
              "      <td>9009e7e25f6a8e4588f0a8b43297d9d1</td>\n",
              "    </tr>\n",
              "    <tr>\n",
              "      <th>review_score</th>\n",
              "      <td>5</td>\n",
              "      <td>5</td>\n",
              "      <td>3</td>\n",
              "      <td>5</td>\n",
              "      <td>5</td>\n",
              "    </tr>\n",
              "    <tr>\n",
              "      <th>seller_city</th>\n",
              "      <td>lajeado</td>\n",
              "      <td>lajeado</td>\n",
              "      <td>lajeado</td>\n",
              "      <td>lajeado</td>\n",
              "      <td>lajeado</td>\n",
              "    </tr>\n",
              "    <tr>\n",
              "      <th>seller_geolocation_lat</th>\n",
              "      <td>-29.4466</td>\n",
              "      <td>-29.4466</td>\n",
              "      <td>-29.4466</td>\n",
              "      <td>-29.4466</td>\n",
              "      <td>-29.4466</td>\n",
              "    </tr>\n",
              "    <tr>\n",
              "      <th>seller_geolocation_lng</th>\n",
              "      <td>-51.9612</td>\n",
              "      <td>-51.9612</td>\n",
              "      <td>-51.9612</td>\n",
              "      <td>-51.9612</td>\n",
              "      <td>-51.9612</td>\n",
              "    </tr>\n",
              "    <tr>\n",
              "      <th>seller_id</th>\n",
              "      <td>062ce95fa2ad4dfaedfc79260130565f</td>\n",
              "      <td>062ce95fa2ad4dfaedfc79260130565f</td>\n",
              "      <td>062ce95fa2ad4dfaedfc79260130565f</td>\n",
              "      <td>062ce95fa2ad4dfaedfc79260130565f</td>\n",
              "      <td>062ce95fa2ad4dfaedfc79260130565f</td>\n",
              "    </tr>\n",
              "    <tr>\n",
              "      <th>seller_state</th>\n",
              "      <td>RS</td>\n",
              "      <td>RS</td>\n",
              "      <td>RS</td>\n",
              "      <td>RS</td>\n",
              "      <td>RS</td>\n",
              "    </tr>\n",
              "    <tr>\n",
              "      <th>seller_zip_code_prefix</th>\n",
              "      <td>95913</td>\n",
              "      <td>95913</td>\n",
              "      <td>95913</td>\n",
              "      <td>95913</td>\n",
              "      <td>95913</td>\n",
              "    </tr>\n",
              "    <tr>\n",
              "      <th>shipping_limit_date</th>\n",
              "      <td>2017-05-04 08:02:25</td>\n",
              "      <td>2017-03-22 16:16:02</td>\n",
              "      <td>2017-09-06 02:35:21</td>\n",
              "      <td>2017-05-18 09:25:07</td>\n",
              "      <td>2017-06-26 10:43:46</td>\n",
              "    </tr>\n",
              "    <tr>\n",
              "      <th>total_payment</th>\n",
              "      <td>100.91</td>\n",
              "      <td>56.42</td>\n",
              "      <td>59.82</td>\n",
              "      <td>57</td>\n",
              "      <td>54.38</td>\n",
              "    </tr>\n",
              "    <tr>\n",
              "      <th>Distance_Sell_Cust</th>\n",
              "      <td>1545.21</td>\n",
              "      <td>246.51</td>\n",
              "      <td>973.22</td>\n",
              "      <td>386.18</td>\n",
              "      <td>81.4</td>\n",
              "    </tr>\n",
              "  </tbody>\n",
              "</table>\n",
              "</div>"
            ],
            "text/plain": [
              "                                                                                        0  ...                                                  4\n",
              "label                                                                                   0  ...                                                  0\n",
              "features                                [0.04751461988304093, 72457.0, 0.2629536921151...  ...  [0.25396825396825395, 95320.0, 0.2978520286396...\n",
              "Carrier_Late(1)/on-time(0)                                                              0  ...                                                  1\n",
              "Carrier_Start_Date-Shipping_limit_Days                                            1.85584  ...                                          -0.169606\n",
              "Carrier_time_diff_Days                                                            20.1924  ...                                            3.09792\n",
              "Delivery_time_diff_Days                                                           28.2333  ...                                            11.1125\n",
              "Estimated-Actual_Delivery_Days                                                    2.32847  ...                                            7.28542\n",
              "Late(1)/on-time(0)                                                                      0  ...                                                  0\n",
              "Order_Approval_diff_Days                                                         0.896528  ...                                            1.84444\n",
              "Weight/volume                                                                   0.0475146  ...                                           0.253968\n",
              "customer_city                                                                    brasilia  ...                                         nova prata\n",
              "customer_geolocation_lat                                                         -16.0229  ...                                           -28.7823\n",
              "customer_geolocation_lng                                                         -48.0507  ...                                           -51.6092\n",
              "customer_id                                              e2dc0b0cef178179300195205e3788ef  ...                   fec424751aa87f5451286fc3d532fae4\n",
              "customer_state                                                                         DF  ...                                                 RS\n",
              "customer_unique_id                                       4f308d513ccac2840ecef09e3f27834f  ...                   e8a195f60d266e458b02b0e57e85815d\n",
              "customer_zip_code_prefix                                                            72457  ...                                              95320\n",
              "freight/price                                                                    0.262954  ...                                           0.297852\n",
              "freight_value                                                                       21.01  ...                                              12.48\n",
              "id                                                                                      0  ...                                                  4\n",
              "order_approved_at                                                     2017-04-25 08:02:00  ...                                2017-06-20 10:43:00\n",
              "order_delivered_carrier_date                                          2017-05-02 11:30:00  ...                                2017-06-26 14:48:00\n",
              "order_delivered_customer_date                                         2017-05-22 16:07:00  ...                                2017-06-29 17:09:00\n",
              "order_estimated_delivery_date                                         2017-05-25 00:00:00  ...                                2017-07-07 00:00:00\n",
              "order_id                                                 b6fa6ea37aeeb90c905eb2a488fc5dc5  ...                   288ec48ad5ea4c98afe99ea53d523b78\n",
              "order_item_id                                                                           1  ...                                                  1\n",
              "order_purchase_timestamp                                              2017-04-24 10:31:00  ...                                2017-06-18 14:27:00\n",
              "order_status                                                                    delivered  ...                                          delivered\n",
              "payment_type_count                                                     ([0], 4, 0, [1.0])  ...                                 ([0], 4, 0, [1.0])\n",
              "payment_type_value                                                  ([0], 4, 0, [100.91])  ...                               ([0], 4, 0, [54.38])\n",
              "price                                                                                79.9  ...                                               41.9\n",
              "product_category_name_english                                               health_beauty  ...                                    furniture_decor\n",
              "product_description_lenght                                                           1400  ...                                                683\n",
              "product_height_cm                                                                      20  ...                                                  5\n",
              "product_id                                               8a4505505378c8f5d983f3201e9c25da  ...                   4da0329350218978429b287440f4b87a\n",
              "product_length_cm                                                                      19  ...                                                 21\n",
              "product_name_lenght                                                                    47  ...                                                 63\n",
              "product_photos_qty                                                                      1  ...                                                  1\n",
              "product_weight_g                                                                      325  ...                                                400\n",
              "product_width_cm                                                                       18  ...                                                 15\n",
              "review_comment_message                                                               None  ...                                               None\n",
              "review_id                                                11bbc10384b40b673a6101cbd773d39f  ...                   9009e7e25f6a8e4588f0a8b43297d9d1\n",
              "review_score                                                                            5  ...                                                  5\n",
              "seller_city                                                                       lajeado  ...                                            lajeado\n",
              "seller_geolocation_lat                                                           -29.4466  ...                                           -29.4466\n",
              "seller_geolocation_lng                                                           -51.9612  ...                                           -51.9612\n",
              "seller_id                                                062ce95fa2ad4dfaedfc79260130565f  ...                   062ce95fa2ad4dfaedfc79260130565f\n",
              "seller_state                                                                           RS  ...                                                 RS\n",
              "seller_zip_code_prefix                                                              95913  ...                                              95913\n",
              "shipping_limit_date                                                   2017-05-04 08:02:25  ...                                2017-06-26 10:43:46\n",
              "total_payment                                                                      100.91  ...                                              54.38\n",
              "Distance_Sell_Cust                                                                1545.21  ...                                               81.4\n",
              "\n",
              "[52 rows x 5 columns]"
            ]
          },
          "metadata": {
            "tags": []
          },
          "execution_count": 45
        }
      ]
    },
    {
      "cell_type": "code",
      "metadata": {
        "id": "47977WFm9Flf",
        "colab_type": "code",
        "outputId": "8851c4f6-c4ff-454a-ae1f-20d5971091ed",
        "colab": {
          "base_uri": "https://localhost:8080/",
          "height": 332
        }
      },
      "source": [
        "import numpy as np\n",
        "from matplotlib import pyplot as plt\n",
        "%matplotlib inline\n",
        " \n",
        "responses = final_order3.groupBy(\"label\").count().collect()\n",
        "categories = [i[0] for i in responses]\n",
        "counts = [i[1] for i in responses]\n",
        " \n",
        "ind = np.array(range(len(categories)))\n",
        "width = 0.35\n",
        "plt.bar(ind, counts, width=width, color='r')\n",
        " \n",
        "plt.ylabel('counts')\n",
        "plt.title('Response distribution')\n",
        "plt.xticks(ind + width/2., categories)"
      ],
      "execution_count": 0,
      "outputs": [
        {
          "output_type": "execute_result",
          "data": {
            "text/plain": [
              "([<matplotlib.axis.XTick at 0x7fb4d7786090>,\n",
              "  <matplotlib.axis.XTick at 0x7fb4b7567f90>],\n",
              " <a list of 2 Text xticklabel objects>)"
            ]
          },
          "metadata": {
            "tags": []
          },
          "execution_count": 46
        },
        {
          "output_type": "display_data",
          "data": {
            "image/png": "[encoded data removed]",
            "text/plain": [
              "<Figure size 432x288 with 1 Axes>"
            ]
          },
          "metadata": {
            "tags": []
          }
        }
      ]
    },
    {
      "cell_type": "markdown",
      "metadata": {
        "id": "12LPd6mz9LSd",
        "colab_type": "text"
      },
      "source": [
        "Since unbalanced data set is a very common in real business world, this tutorial will specifically showcase some of the tactics that could effectively deal with such challenge using PySpark.\n",
        "\n",
        "In binary classification problems, accuracy can be misleading if one class s much more common than another, this is when the classes are unbalanced.\n",
        "\n",
        "The distribution looks quite skewed. There are some techniques to handle the imbalanced data sets. https://machinelearningmastery.com/tactics-to-combat-imbalanced-classes-in-your-machine-learning-dataset/"
      ]
    },
    {
      "cell_type": "markdown",
      "metadata": {
        "id": "unGlHpOReLbT",
        "colab_type": "text"
      },
      "source": [
        "### Split data into training (70%) and testing (30%)\n",
        "We will split the dataframe into training and test sets, traing on the first dataset, and then evaluate on the held-out test set.\n",
        "As you can see, we now have features column and label column.\n",
        "Randomly split data into train and test sets, and set seed for reproducibility."
      ]
    },
    {
      "cell_type": "code",
      "metadata": {
        "id": "nVQ0qF4ueNc3",
        "colab_type": "code",
        "outputId": "f6d0777e-fb03-407a-8279-f620fcabb1f5",
        "colab": {
          "base_uri": "https://localhost:8080/",
          "height": 51
        }
      },
      "source": [
        "train, test = final_order3.randomSplit([0.7, 0.3], seed = 2019) # If there are some missing values in columns, it makes some errors.\n",
        "print(\"Training Dataset Count: \" + str(train.count()))\n",
        "print(\"Test Dataset Count: \" + str(test.count()))"
      ],
      "execution_count": 0,
      "outputs": [
        {
          "output_type": "stream",
          "text": [
            "Training Dataset Count: 78896\n",
            "Test Dataset Count: 33754\n"
          ],
          "name": "stdout"
        }
      ]
    },
    {
      "cell_type": "markdown",
      "metadata": {
        "id": "BnL21MMo9VS0",
        "colab_type": "text"
      },
      "source": [
        "## Predict the on-time delivery with binary classification models\n",
        "The models presented are:\n",
        "\n",
        "Logistic regression\n",
        "Naive Bayes\n",
        "Random forest\n",
        "Each model building code section is split into steps:\n",
        "\n",
        "Model training data with one parameter set\n",
        "Model evaluation on a test data set with metrics"
      ]
    },
    {
      "cell_type": "markdown",
      "metadata": {
        "id": "y7nb6S2HeRoJ",
        "colab_type": "text"
      },
      "source": [
        "### Logistic Regression Model\n",
        "\n",
        "Logistic regression is a popular method to predict a categorical response. it is a special case of Generalized Linear models that predicts the probability of the outcomes. In spark.ml logistic regression can be used to predict a binary outcome by using binomial logistic regression, or it can be used to predict a multiclass outcome by using multinomial logistic regression. Use the family parameter to select between these two algorithms, or leave it unset and Spark will infer the correct variant."
      ]
    },
    {
      "cell_type": "code",
      "metadata": {
        "id": "7OPeONLqeTc-",
        "colab_type": "code",
        "colab": {}
      },
      "source": [
        "from pyspark.ml.classification import LogisticRegression\n",
        "lr = LogisticRegression(featuresCol = 'features', labelCol = 'label', maxIter=10)\n",
        "lrModel = lr.fit(train)"
      ],
      "execution_count": 0,
      "outputs": []
    },
    {
      "cell_type": "markdown",
      "metadata": {
        "id": "i-cbI4uteWJd",
        "colab_type": "text"
      },
      "source": [
        "#### We can obtain the coefficients by using LogisticRegressionModel’s attributes."
      ]
    },
    {
      "cell_type": "code",
      "metadata": {
        "id": "puekKrpjeWnF",
        "colab_type": "code",
        "outputId": "2aed5856-620f-4acf-acfb-0e8301f6d407",
        "colab": {
          "base_uri": "https://localhost:8080/",
          "height": 269
        }
      },
      "source": [
        "import matplotlib.pyplot as plt\n",
        "import numpy as np\n",
        "beta = np.sort(lrModel.coefficients)\n",
        "plt.plot(beta)\n",
        "plt.ylabel('Beta Coefficients')\n",
        "plt.show()"
      ],
      "execution_count": 0,
      "outputs": [
        {
          "output_type": "display_data",
          "data": {
            "image/png": "[encoded data removed]",
            "text/plain": [
              "<Figure size 432x288 with 1 Axes>"
            ]
          },
          "metadata": {
            "tags": []
          }
        }
      ]
    },
    {
      "cell_type": "markdown",
      "metadata": {
        "id": "1MUy5giqeZtV",
        "colab_type": "text"
      },
      "source": [
        "#### Summarize the model over the training set, we can also obtain the receiver-operating characteristic and areaUnderROC.\n"
      ]
    },
    {
      "cell_type": "code",
      "metadata": {
        "id": "GXGfKlS_eaIM",
        "colab_type": "code",
        "outputId": "041b0c0c-2299-4cbb-89b7-34d91f26428c",
        "colab": {
          "base_uri": "https://localhost:8080/",
          "height": 312
        }
      },
      "source": [
        "trainingSummary = lrModel.summary\n",
        "roc = trainingSummary.roc.toPandas()\n",
        "plt.plot(roc['FPR'],roc['TPR'])\n",
        "plt.ylabel('False Positive Rate')\n",
        "plt.xlabel('True Positive Rate')\n",
        "plt.title('ROC Curve')\n",
        "plt.show()\n",
        "print('Training set areaUnderROC: ' + str(trainingSummary.areaUnderROC))"
      ],
      "execution_count": 0,
      "outputs": [
        {
          "output_type": "display_data",
          "data": {
            "image/png": "[encoded data removed]",
            "text/plain": [
              "<Figure size 432x288 with 1 Axes>"
            ]
          },
          "metadata": {
            "tags": []
          }
        },
        {
          "output_type": "stream",
          "text": [
            "Training set areaUnderROC: 0.767144434832\n"
          ],
          "name": "stdout"
        }
      ]
    },
    {
      "cell_type": "markdown",
      "metadata": {
        "id": "dq6KC50BedBi",
        "colab_type": "text"
      },
      "source": [
        "#### Precision and recall."
      ]
    },
    {
      "cell_type": "code",
      "metadata": {
        "id": "9NuWPKIDeeZ9",
        "colab_type": "code",
        "outputId": "b0d672e3-5edd-4cc1-dfa8-4cdaf3f3587f",
        "colab": {
          "base_uri": "https://localhost:8080/",
          "height": 283
        }
      },
      "source": [
        "pr = trainingSummary.pr.toPandas()\n",
        "plt.plot(pr['recall'],pr['precision'])\n",
        "plt.ylabel('Precision')\n",
        "plt.xlabel('Recall')\n",
        "plt.show()"
      ],
      "execution_count": 0,
      "outputs": [
        {
          "output_type": "display_data",
          "data": {
            "image/png": "[encoded data removed]",
            "text/plain": [
              "<Figure size 432x288 with 1 Axes>"
            ]
          },
          "metadata": {
            "tags": []
          }
        }
      ]
    },
    {
      "cell_type": "markdown",
      "metadata": {
        "id": "brGKhkfSegMT",
        "colab_type": "text"
      },
      "source": [
        "#### Make predictions on the test set."
      ]
    },
    {
      "cell_type": "code",
      "metadata": {
        "id": "dhQORvr1egmL",
        "colab_type": "code",
        "outputId": "ffd1f241-bc0a-4e02-baf3-6c8003dcfa54",
        "colab": {
          "base_uri": "https://localhost:8080/",
          "height": 309
        }
      },
      "source": [
        "predictions = lrModel.transform(test)\n",
        "predictions.select('customer_city', 'customer_state', 'seller_city', 'seller_state','Weight/volume',  'customer_zip_code_prefix', 'freight/price', 'freight_value', 'price','product_height_cm', 'product_length_cm','product_weight_g', 'product_width_cm', 'review_score', 'seller_zip_code_prefix','Distance_Sell_Cust', 'label', 'rawPrediction', 'prediction', 'probability').show(10)"
      ],
      "execution_count": 0,
      "outputs": [
        {
          "output_type": "stream",
          "text": [
            "+--------------------+--------------+---------------+------------+--------------------+------------------------+-------------------+-------------+------+-----------------+-----------------+----------------+----------------+------------+----------------------+------------------+-----+--------------------+----------+--------------------+\n",
            "|       customer_city|customer_state|    seller_city|seller_state|       Weight/volume|customer_zip_code_prefix|      freight/price|freight_value| price|product_height_cm|product_length_cm|product_weight_g|product_width_cm|review_score|seller_zip_code_prefix|Distance_Sell_Cust|label|       rawPrediction|prediction|         probability|\n",
            "+--------------------+--------------+---------------+------------+--------------------+------------------------+-------------------+-------------+------+-----------------+-----------------+----------------+----------------+------------+----------------------+------------------+-----+--------------------+----------+--------------------+\n",
            "|           sao paulo|            SP|       ibitinga|          SP|                 0.0|                    4904| 0.1115473441108545|        14.49| 129.9|             25.0|             30.0|             0.0|            30.0|           5|                 14940|            302.43|  0.0|[3.26855201204055...|       0.0|[0.96333406084854...|\n",
            "|              ilheus|            BA|       ibitinga|          SP|                 0.0|                   45653|0.23850000000000002|        23.85| 100.0|             25.0|             30.0|             0.0|            30.0|           3|                 14940|           1290.87|  0.0|[1.76994076445675...|       0.0|[0.85445030439045...|\n",
            "|              ilheus|            BA|       ibitinga|          SP|                 0.0|                   45653|0.23850000000000002|        23.85| 100.0|             25.0|             30.0|             0.0|            30.0|           3|                 14940|           1290.87|  0.0|[1.76994076445675...|       0.0|[0.85445030439045...|\n",
            "|             jandira|            SP|       ibitinga|          SP|8.818342151675485E-4|                    6602|0.11716705157813703|        15.22| 129.9|             18.0|             45.0|            25.0|            35.0|           4|                 14940|            279.92|  0.0|[2.54296608701217...|       0.0|[0.92709954659494...|\n",
            "|      rio de janeiro|            RJ|       ibitinga|          SP|0.004160030427651128|                   22620|0.22772133526850505|        15.69|  68.9|             93.0|             23.0|          1050.0|           118.0|           5|                 14940|            581.86|  0.0|[2.60681787511988...|       0.0|[0.93129907962605...|\n",
            "|        juiz de fora|            MG|       ibitinga|          SP|0.004160030427651128|                   36088|0.20877192982456141|        17.85|  85.5|             93.0|             23.0|          1050.0|           118.0|           5|                 14940|            557.07|  0.0|[2.63540802141751...|       0.0|[0.93310590587383...|\n",
            "|sao joao da boa v...|            SP|      sao paulo|          SP|0.004285714285714286|                   13873| 0.4264754918306102|        12.79| 29.99|             50.0|             20.0|           150.0|            35.0|           4|                  3872|            175.85|  0.0|[2.61578188218169...|       0.0|[0.93187039407015...|\n",
            "|            salvador|            BA|itaquaquecetuba|          SP| 0.00431667098333765|                   40370|0.12525626281314065|        25.05|199.99|             27.0|             33.0|           100.0|            26.0|           5|                  8598|           1432.41|  0.0|[2.87978511792719...|       0.0|[0.94683804838830...|\n",
            "|           sao paulo|            SP|       ibitinga|          SP|0.004761904761904762|                    3130| 0.6405405405405405|        11.85|  18.5|             15.0|             40.0|           100.0|            35.0|           5|                 14940|             306.9|  0.0|[3.31715014351623...|       0.0|[0.96501249810029...|\n",
            "|              osasco|            SP|      sao paulo|          SP|0.005208333333333333|                    6182| 0.7335834896810507|        11.73| 15.99|             40.0|             40.0|           250.0|            30.0|           4|                  3426|             28.21|  0.0|[2.60296856571248...|       0.0|[0.93105238730598...|\n",
            "+--------------------+--------------+---------------+------------+--------------------+------------------------+-------------------+-------------+------+-----------------+-----------------+----------------+----------------+------------+----------------------+------------------+-----+--------------------+----------+--------------------+\n",
            "only showing top 10 rows\n",
            "\n"
          ],
          "name": "stdout"
        }
      ]
    },
    {
      "cell_type": "markdown",
      "metadata": {
        "id": "EQIfdh0IejZf",
        "colab_type": "text"
      },
      "source": [
        "#### Evaluate our Logistic Regression model."
      ]
    },
    {
      "cell_type": "code",
      "metadata": {
        "id": "N45WTiOGelVC",
        "colab_type": "code",
        "outputId": "54cfa454-1fba-4a89-a255-a1e0911f0e9f",
        "colab": {
          "base_uri": "https://localhost:8080/",
          "height": 34
        }
      },
      "source": [
        "from pyspark.ml.evaluation import BinaryClassificationEvaluator\n",
        "evaluator = BinaryClassificationEvaluator()\n",
        "print('Test Area Under ROC', evaluator.evaluate(predictions))"
      ],
      "execution_count": 0,
      "outputs": [
        {
          "output_type": "stream",
          "text": [
            "('Test Area Under ROC', 0.7648981809083307)\n"
          ],
          "name": "stdout"
        }
      ]
    },
    {
      "cell_type": "code",
      "metadata": {
        "id": "bSVRLriVEUjh",
        "colab_type": "code",
        "outputId": "48e26008-bdd8-4fc8-9a05-ff2eae6ef32c",
        "colab": {
          "base_uri": "https://localhost:8080/",
          "height": 51
        }
      },
      "source": [
        "from pyspark.ml.evaluation import BinaryClassificationEvaluator\n",
        "print(\"Training: Area Under ROC: \" + str(trainingSummary.areaUnderROC))\n",
        "# Evaluate model\n",
        "evaluator = BinaryClassificationEvaluator(rawPredictionCol=\"rawPrediction\")\n",
        "print(\"Test Area Under ROC \" + str(evaluator.evaluate(predictions, {evaluator.metricName: \"areaUnderROC\"})))"
      ],
      "execution_count": 0,
      "outputs": [
        {
          "output_type": "stream",
          "text": [
            "Training: Area Under ROC: 0.767144434832\n",
            "Test Area Under ROC 0.764898180908\n"
          ],
          "name": "stdout"
        }
      ]
    },
    {
      "cell_type": "code",
      "metadata": {
        "id": "Gd63kh0nFEkU",
        "colab_type": "code",
        "outputId": "5ca22dd3-50da-4eba-f844-5a3385130506",
        "colab": {
          "base_uri": "https://localhost:8080/",
          "height": 34
        }
      },
      "source": [
        "evaluator.getMetricName()"
      ],
      "execution_count": 0,
      "outputs": [
        {
          "output_type": "execute_result",
          "data": {
            "text/plain": [
              "'areaUnderROC'"
            ]
          },
          "metadata": {
            "tags": []
          },
          "execution_count": 172
        }
      ]
    },
    {
      "cell_type": "markdown",
      "metadata": {
        "id": "znA1jRboGRZ6",
        "colab_type": "text"
      },
      "source": [
        "#### Confusion matrix"
      ]
    },
    {
      "cell_type": "code",
      "metadata": {
        "id": "xNn4za5KGR17",
        "colab_type": "code",
        "outputId": "e180af61-a85b-444d-c52b-7a4d5481ebf4",
        "colab": {
          "base_uri": "https://localhost:8080/",
          "height": 111
        }
      },
      "source": [
        "cm_lr_result = predictions.crosstab(\"prediction\", \"label\")\n",
        "cm_lr_result = cm_lr_result.toPandas()\n",
        "cm_lr_result"
      ],
      "execution_count": 0,
      "outputs": [
        {
          "output_type": "execute_result",
          "data": {
            "text/html": [
              "<div>\n",
              "<style scoped>\n",
              "    .dataframe tbody tr th:only-of-type {\n",
              "        vertical-align: middle;\n",
              "    }\n",
              "\n",
              "    .dataframe tbody tr th {\n",
              "        vertical-align: top;\n",
              "    }\n",
              "\n",
              "    .dataframe thead th {\n",
              "        text-align: right;\n",
              "    }\n",
              "</style>\n",
              "<table border=\"1\" class=\"dataframe\">\n",
              "  <thead>\n",
              "    <tr style=\"text-align: right;\">\n",
              "      <th></th>\n",
              "      <th>prediction_label</th>\n",
              "      <th>0.0</th>\n",
              "      <th>1.0</th>\n",
              "    </tr>\n",
              "  </thead>\n",
              "  <tbody>\n",
              "    <tr>\n",
              "      <th>0</th>\n",
              "      <td>1.0</td>\n",
              "      <td>3920</td>\n",
              "      <td>1426</td>\n",
              "    </tr>\n",
              "    <tr>\n",
              "      <th>1</th>\n",
              "      <td>0.0</td>\n",
              "      <td>27383</td>\n",
              "      <td>1191</td>\n",
              "    </tr>\n",
              "  </tbody>\n",
              "</table>\n",
              "</div>"
            ],
            "text/plain": [
              "  prediction_label    0.0   1.0\n",
              "0              1.0   3920  1426\n",
              "1              0.0  27383  1191"
            ]
          },
          "metadata": {
            "tags": []
          },
          "execution_count": 175
        }
      ]
    },
    {
      "cell_type": "markdown",
      "metadata": {
        "id": "jZSbwyaOGInz",
        "colab_type": "text"
      },
      "source": [
        "#### Hyperparameter tuning\n",
        "Try tuning the model with the ParamGridBuilder and the CrossValidator."
      ]
    },
    {
      "cell_type": "code",
      "metadata": {
        "id": "Jf9KjbcMGHEf",
        "colab_type": "code",
        "outputId": "bd6c6dd1-e165-4ee0-bfc0-f1c05cc772cd",
        "colab": {
          "base_uri": "https://localhost:8080/",
          "height": 34
        }
      },
      "source": [
        "from pyspark.ml.tuning import ParamGridBuilder, CrossValidator\n",
        "\n",
        "# Create ParamGrid for Cross Validation\n",
        "paramGrid = (ParamGridBuilder()\n",
        "             .addGrid(lr.regParam, [0.01, 0.5, 2.0])\n",
        "             .addGrid(lr.elasticNetParam, [0.0, 0.5, 1.0])\n",
        "             .addGrid(lr.maxIter, [1, 5, 10])\n",
        "             .build())\n",
        "\n",
        "cv = CrossValidator(estimator=lr, estimatorParamMaps=paramGrid, evaluator=evaluator, numFolds=5)\n",
        "\n",
        "cvModel = cv.fit(train)\n",
        "predictions = cvModel.transform(test)\n",
        "print('Test Area Under ROC', evaluator.evaluate(predictions))"
      ],
      "execution_count": 0,
      "outputs": [
        {
          "output_type": "stream",
          "text": [
            "('Test Area Under ROC', 0.7662717046791144)\n"
          ],
          "name": "stdout"
        }
      ]
    },
    {
      "cell_type": "code",
      "metadata": {
        "id": "MItbHiOGGNuY",
        "colab_type": "code",
        "colab": {}
      },
      "source": [
        "from pyspark.ml.classification import LogisticRegression\n",
        "from pyspark.ml.evaluation import BinaryClassificationEvaluator\n",
        "from pyspark.ml.tuning import CrossValidator, ParamGridBuilder\n",
        "import numpy as np\n",
        "lr = LogisticRegression(maxIter = 10)\n",
        "\n",
        "paramGrid_lr = ParamGridBuilder() \\\n",
        "    .addGrid(lr.regParam, np.linspace(0.3, 0.01, 10)) \\\n",
        "    .addGrid(lr.elasticNetParam, np.linspace(0.3, 0.8, 6)) \\\n",
        "    .build()\n",
        "    \n",
        "crossval_lr =CrossValidator(estimator=lr,\n",
        "                           estimatorParamMaps=paramGrid_lr,\n",
        "                           evaluator=BinaryClassificationEvaluator(),\n",
        "                           numFolds = 5)\n",
        "cvModel_lr = crossval_lr.fit(train)"
      ],
      "execution_count": 0,
      "outputs": []
    },
    {
      "cell_type": "code",
      "metadata": {
        "id": "tUIOMW7-G2fg",
        "colab_type": "code",
        "colab": {}
      },
      "source": [
        "trainingSummary = lrModel.summary"
      ],
      "execution_count": 0,
      "outputs": []
    },
    {
      "cell_type": "code",
      "metadata": {
        "id": "btuFKVRkGfxl",
        "colab_type": "code",
        "outputId": "be907627-7e93-442d-db94-ab96c38fe970",
        "colab": {
          "base_uri": "https://localhost:8080/",
          "height": 952
        }
      },
      "source": [
        "best_model_lr = cvModel_lr.bestModel.summary\n",
        "best_model_lr.predictions.columns"
      ],
      "execution_count": 0,
      "outputs": [
        {
          "output_type": "execute_result",
          "data": {
            "text/plain": [
              "['label',\n",
              " 'features',\n",
              " 'Carrier_Late(1)/on-time(0)',\n",
              " 'Carrier_Start_Date-Shipping_limit_Days',\n",
              " 'Carrier_time_diff_Days',\n",
              " 'Delivery_time_diff_Days',\n",
              " 'Estimated-Actual_Delivery_Days',\n",
              " 'Late(1)/on-time(0)',\n",
              " 'Order_Approval_diff_Days',\n",
              " 'Weight/volume',\n",
              " 'customer_city',\n",
              " 'customer_geolocation_lat',\n",
              " 'customer_geolocation_lng',\n",
              " 'customer_id',\n",
              " 'customer_state',\n",
              " 'customer_unique_id',\n",
              " 'customer_zip_code_prefix',\n",
              " 'freight/price',\n",
              " 'freight_value',\n",
              " 'id',\n",
              " 'order_approved_at',\n",
              " 'order_delivered_carrier_date',\n",
              " 'order_delivered_customer_date',\n",
              " 'order_estimated_delivery_date',\n",
              " 'order_id',\n",
              " 'order_item_id',\n",
              " 'order_purchase_timestamp',\n",
              " 'order_status',\n",
              " 'payment_type_count',\n",
              " 'payment_type_value',\n",
              " 'price',\n",
              " 'product_category_name_english',\n",
              " 'product_description_lenght',\n",
              " 'product_height_cm',\n",
              " 'product_id',\n",
              " 'product_length_cm',\n",
              " 'product_name_lenght',\n",
              " 'product_photos_qty',\n",
              " 'product_weight_g',\n",
              " 'product_width_cm',\n",
              " 'review_comment_message',\n",
              " 'review_id',\n",
              " 'review_score',\n",
              " 'seller_city',\n",
              " 'seller_geolocation_lat',\n",
              " 'seller_geolocation_lng',\n",
              " 'seller_id',\n",
              " 'seller_state',\n",
              " 'seller_zip_code_prefix',\n",
              " 'shipping_limit_date',\n",
              " 'total_payment',\n",
              " 'Distance_Sell_Cust',\n",
              " 'rawPrediction',\n",
              " 'probability',\n",
              " 'prediction']"
            ]
          },
          "metadata": {
            "tags": []
          },
          "execution_count": 180
        }
      ]
    },
    {
      "cell_type": "markdown",
      "metadata": {
        "id": "UqhCZoPkGtEF",
        "colab_type": "text"
      },
      "source": [
        "As shown below, we see the data was fitted perfectly. We will see the models performance with the test data. We have to practice caution when the models show extraordinary performance with the training data as this can be due to overfitting problem which makes the model not to generalize to unseen data. Area under the curve for the training data"
      ]
    },
    {
      "cell_type": "code",
      "metadata": {
        "id": "hH9kFZRqGfUt",
        "colab_type": "code",
        "outputId": "26ac6965-d752-450e-b1d3-5b2eef76964c",
        "colab": {
          "base_uri": "https://localhost:8080/",
          "height": 34
        }
      },
      "source": [
        "my_eval_lr = BinaryClassificationEvaluator(rawPredictionCol='prediction', labelCol='label', metricName='areaUnderROC')\n",
        "my_eval_lr.evaluate(best_model_lr.predictions)"
      ],
      "execution_count": 0,
      "outputs": [
        {
          "output_type": "execute_result",
          "data": {
            "text/plain": [
              "0.5"
            ]
          },
          "metadata": {
            "tags": []
          },
          "execution_count": 181
        }
      ]
    },
    {
      "cell_type": "code",
      "metadata": {
        "id": "qaOTT4PHG0w0",
        "colab_type": "code",
        "outputId": "0ed57c60-a7d5-441a-92a8-a0b3fead0d65",
        "colab": {
          "base_uri": "https://localhost:8080/",
          "height": 136
        }
      },
      "source": [
        "train_fit_lr = best_model_lr.predictions.select('label','prediction')\n",
        "train_fit_lr.groupBy('label','prediction').count().show()"
      ],
      "execution_count": 0,
      "outputs": [
        {
          "output_type": "stream",
          "text": [
            "+-----+----------+-----+\n",
            "|label|prediction|count|\n",
            "+-----+----------+-----+\n",
            "|  1.0|       0.0| 6098|\n",
            "|  0.0|       0.0|72632|\n",
            "+-----+----------+-----+\n",
            "\n"
          ],
          "name": "stdout"
        }
      ]
    },
    {
      "cell_type": "code",
      "metadata": {
        "id": "_LJglXRqHhZ0",
        "colab_type": "code",
        "outputId": "892dfccf-ac2d-4521-9cc5-e452dab56a30",
        "colab": {
          "base_uri": "https://localhost:8080/",
          "height": 952
        }
      },
      "source": [
        "predictions_lr = cvModel_lr.transform(test)\n",
        "#As you can see below, the predictions dataframe contains the original data and the predictions.\n",
        "predictions_lr.columns"
      ],
      "execution_count": 0,
      "outputs": [
        {
          "output_type": "execute_result",
          "data": {
            "text/plain": [
              "['label',\n",
              " 'features',\n",
              " 'Carrier_Late(1)/on-time(0)',\n",
              " 'Carrier_Start_Date-Shipping_limit_Days',\n",
              " 'Carrier_time_diff_Days',\n",
              " 'Delivery_time_diff_Days',\n",
              " 'Estimated-Actual_Delivery_Days',\n",
              " 'Late(1)/on-time(0)',\n",
              " 'Order_Approval_diff_Days',\n",
              " 'Weight/volume',\n",
              " 'customer_city',\n",
              " 'customer_geolocation_lat',\n",
              " 'customer_geolocation_lng',\n",
              " 'customer_id',\n",
              " 'customer_state',\n",
              " 'customer_unique_id',\n",
              " 'customer_zip_code_prefix',\n",
              " 'freight/price',\n",
              " 'freight_value',\n",
              " 'id',\n",
              " 'order_approved_at',\n",
              " 'order_delivered_carrier_date',\n",
              " 'order_delivered_customer_date',\n",
              " 'order_estimated_delivery_date',\n",
              " 'order_id',\n",
              " 'order_item_id',\n",
              " 'order_purchase_timestamp',\n",
              " 'order_status',\n",
              " 'payment_type_count',\n",
              " 'payment_type_value',\n",
              " 'price',\n",
              " 'product_category_name_english',\n",
              " 'product_description_lenght',\n",
              " 'product_height_cm',\n",
              " 'product_id',\n",
              " 'product_length_cm',\n",
              " 'product_name_lenght',\n",
              " 'product_photos_qty',\n",
              " 'product_weight_g',\n",
              " 'product_width_cm',\n",
              " 'review_comment_message',\n",
              " 'review_id',\n",
              " 'review_score',\n",
              " 'seller_city',\n",
              " 'seller_geolocation_lat',\n",
              " 'seller_geolocation_lng',\n",
              " 'seller_id',\n",
              " 'seller_state',\n",
              " 'seller_zip_code_prefix',\n",
              " 'shipping_limit_date',\n",
              " 'total_payment',\n",
              " 'Distance_Sell_Cust',\n",
              " 'rawPrediction',\n",
              " 'probability',\n",
              " 'prediction']"
            ]
          },
          "metadata": {
            "tags": []
          },
          "execution_count": 183
        }
      ]
    },
    {
      "cell_type": "code",
      "metadata": {
        "id": "8cJK0rx6HicT",
        "colab_type": "code",
        "outputId": "900ece30-996c-4d24-c5c6-e6bdccd303fc",
        "colab": {
          "base_uri": "https://localhost:8080/",
          "height": 224
        }
      },
      "source": [
        "predictions_lr.show(5)"
      ],
      "execution_count": 0,
      "outputs": [
        {
          "output_type": "stream",
          "text": [
            "+-----+--------------------+--------------------------+--------------------------------------+----------------------+-----------------------+------------------------------+------------------+------------------------+--------------------+--------------+------------------------+------------------------+--------------------+--------------+--------------------+------------------------+-------------------+-------------+------------+-------------------+----------------------------+-----------------------------+-----------------------------+--------------------+-------------+------------------------+------------+------------------+--------------------+-----+-----------------------------+--------------------------+-----------------+--------------------+-----------------+-------------------+------------------+----------------+----------------+----------------------+--------------------+------------+-----------+----------------------+----------------------+--------------------+------------+----------------------+-------------------+-------------+------------------+--------------------+--------------------+----------+\n",
            "|label|            features|Carrier_Late(1)/on-time(0)|Carrier_Start_Date-Shipping_limit_Days|Carrier_time_diff_Days|Delivery_time_diff_Days|Estimated-Actual_Delivery_Days|Late(1)/on-time(0)|Order_Approval_diff_Days|       Weight/volume| customer_city|customer_geolocation_lat|customer_geolocation_lng|         customer_id|customer_state|  customer_unique_id|customer_zip_code_prefix|      freight/price|freight_value|          id|  order_approved_at|order_delivered_carrier_date|order_delivered_customer_date|order_estimated_delivery_date|            order_id|order_item_id|order_purchase_timestamp|order_status|payment_type_count|  payment_type_value|price|product_category_name_english|product_description_lenght|product_height_cm|          product_id|product_length_cm|product_name_lenght|product_photos_qty|product_weight_g|product_width_cm|review_comment_message|           review_id|review_score|seller_city|seller_geolocation_lat|seller_geolocation_lng|           seller_id|seller_state|seller_zip_code_prefix|shipping_limit_date|total_payment|Distance_Sell_Cust|       rawPrediction|         probability|prediction|\n",
            "+-----+--------------------+--------------------------+--------------------------------------+----------------------+-----------------------+------------------------------+------------------+------------------------+--------------------+--------------+------------------------+------------------------+--------------------+--------------+--------------------+------------------------+-------------------+-------------+------------+-------------------+----------------------------+-----------------------------+-----------------------------+--------------------+-------------+------------------------+------------+------------------+--------------------+-----+-----------------------------+--------------------------+-----------------+--------------------+-----------------+-------------------+------------------+----------------+----------------+----------------------+--------------------+------------+-----------+----------------------+----------------------+--------------------+------------+----------------------+-------------------+-------------+------------------+--------------------+--------------------+----------+\n",
            "|  0.0|[0.0,4904.0,0.111...|                         0|                     8.230243055555556|     6.330555555555556|                7.11875|             9.002777777777778|                 0|    0.024305555555555556|                 0.0|     sao paulo|            -23.67379409|            -46.73742538|d1568f1104d2015dc...|            SP|93b52b7591ca73fc4...|                    4904| 0.1115473441108545|        14.49| 17179869477|2018-07-31 21:40:00|         2018-08-01 16:00:00|          2018-08-07 23:56:00|          2018-08-17 00:00:00|4abc7b5330425bcf9...|            1|     2018-07-31 21:05:00|   delivered|[[1], 4, 0, [6.0]]|[[1], 4, 0, [144....|129.9|               bed_bath_table|                       528|             25.0|8038040ee2a71048d...|             30.0|                 48|                 1|             0.0|            30.0|               Nota 10|43e9279b8c4904c42...|           5|   ibitinga|          -21.75732064|          -48.82974353|b39d7fe263ef46960...|          SP|                 14940|2018-08-09 21:31:33|       144.39|            302.43|[2.95275387621736...|[0.95039348304592...|       0.0|\n",
            "|  0.0|[0.0,45653.0,0.23...|                         0|                      9.78207175925926|     9.329166666666667|     10.483333333333333|            31.070833333333333|                 0|      0.9361111111111111|                 0.0|        ilheus|            -14.79915023|             -39.0340671|afef0047e43944e8c...|            BA|7dff353845a1d77a9...|                   45653|0.23850000000000002|        23.85| 17179869474|2018-07-31 09:10:00|         2018-07-31 14:24:00|          2018-08-09 22:18:00|          2018-09-10 00:00:00|06d9e69034388abf6...|            1|     2018-07-30 10:42:00|   delivered|[[1], 4, 0, [4.0]]|[[1], 4, 0, [247.7]]|100.0|               bed_bath_table|                       528|             25.0|36ba42dd187055e1f...|             30.0|                 53|                 1|             0.0|            30.0|  Pedi dois tapetes...|f5e69a059668d5a91...|           3|   ibitinga|          -21.75732064|          -48.82974353|b39d7fe263ef46960...|          SP|                 14940|2018-08-10 09:10:11|        247.7|           1290.87|[2.33328780198342...|[0.91159665357241...|       0.0|\n",
            "|  0.0|[0.0,45653.0,0.23...|                         0|                      9.78207175925926|     9.329166666666667|     10.483333333333333|            31.070833333333333|                 0|      0.9361111111111111|                 0.0|        ilheus|            -14.79915023|             -39.0340671|afef0047e43944e8c...|            BA|7dff353845a1d77a9...|                   45653|0.23850000000000002|        23.85| 17179869475|2018-07-31 09:10:00|         2018-07-31 14:24:00|          2018-08-09 22:18:00|          2018-09-10 00:00:00|06d9e69034388abf6...|            2|     2018-07-30 10:42:00|   delivered|[[1], 4, 0, [4.0]]|[[1], 4, 0, [247.7]]|100.0|               bed_bath_table|                       528|             25.0|36ba42dd187055e1f...|             30.0|                 53|                 1|             0.0|            30.0|  Pedi dois tapetes...|f5e69a059668d5a91...|           3|   ibitinga|          -21.75732064|          -48.82974353|b39d7fe263ef46960...|          SP|                 14940|2018-08-10 09:10:11|        247.7|           1290.87|[2.33328780198342...|[0.91159665357241...|       0.0|\n",
            "|  0.0|[8.81834215167548...|                         0|                    2.2018518518518517|                 4.275|      7.324305555555555|             5.127777777777778|                 0|     0.25069444444444444|8.818342151675485E-4|       jandira|            -23.53425748|            -46.89748442|9bfc8eb502450374e...|            SP|633ae8941a2bb09f9...|                    6602|0.11716705157813703|        15.22| 17179869519|2018-08-17 19:10:00|         2018-08-20 14:20:00|          2018-08-24 20:56:00|          2018-08-30 00:00:00|7feef5128350d0b84...|            1|     2018-08-17 13:09:00|   delivered|[[2], 4, 0, [1.0]]|[[2], 4, 0, [145....|129.9|               bed_bath_table|                       506|             18.0|632921e8d6c6b23ae...|             45.0|                 50|                 1|            25.0|            35.0|                  null|856e90e931882e08b...|           4|   ibitinga|          -21.75732064|          -48.82974353|b39d7fe263ef46960...|          SP|                 14940|2018-08-22 19:10:40|       145.12|            279.92|[2.66143554558318...|[0.93471232571053...|       0.0|\n",
            "|  0.0|[0.00416003042765...|                         0|                     3.333854166666667|    20.896527777777777|     21.563194444444445|            18.477083333333333|                 0|    0.005555555555555556|0.004160030427651128|rio de janeiro|            -23.00947498|            -43.33453005|feb21f4291037a452...|            RJ|7bc7dbe918ad4e7bd...|                   22620|0.22772133526850505|        15.69|214748367790|2017-01-18 23:10:00|         2017-01-19 15:02:00|          2017-02-09 12:33:00|          2017-02-28 00:00:00|e1000df659259b29c...|            1|     2017-01-18 23:02:00|   delivered|[[1], 4, 0, [1.0]]|[[1], 4, 0, [84.59]]| 68.9|               bed_bath_table|                       502|             93.0|b17808303e15dd505...|             23.0|                 56|                 3|          1050.0|           118.0|                  null|386e3d3663fb7743c...|           5|   ibitinga|          -21.75732064|          -48.82974353|4a3ca9315b744ce9f...|          SP|                 14940|2017-01-22 23:02:45|        84.59|            581.86|[2.94279582947708...|[0.94992189265340...|       0.0|\n",
            "+-----+--------------------+--------------------------+--------------------------------------+----------------------+-----------------------+------------------------------+------------------+------------------------+--------------------+--------------+------------------------+------------------------+--------------------+--------------+--------------------+------------------------+-------------------+-------------+------------+-------------------+----------------------------+-----------------------------+-----------------------------+--------------------+-------------+------------------------+------------+------------------+--------------------+-----+-----------------------------+--------------------------+-----------------+--------------------+-----------------+-------------------+------------------+----------------+----------------+----------------------+--------------------+------------+-----------+----------------------+----------------------+--------------------+------------+----------------------+-------------------+-------------+------------------+--------------------+--------------------+----------+\n",
            "only showing top 5 rows\n",
            "\n"
          ],
          "name": "stdout"
        }
      ]
    },
    {
      "cell_type": "code",
      "metadata": {
        "id": "5IWdW6C9HtAZ",
        "colab_type": "code",
        "outputId": "688d4b7c-44f8-4982-c314-767969aeaa25",
        "colab": {
          "base_uri": "https://localhost:8080/",
          "height": 204
        }
      },
      "source": [
        "predictions_lr.select('label', 'prediction').show(5)"
      ],
      "execution_count": 0,
      "outputs": [
        {
          "output_type": "stream",
          "text": [
            "+-----+----------+\n",
            "|label|prediction|\n",
            "+-----+----------+\n",
            "|  0.0|       0.0|\n",
            "|  0.0|       0.0|\n",
            "|  0.0|       0.0|\n",
            "|  0.0|       0.0|\n",
            "|  0.0|       0.0|\n",
            "+-----+----------+\n",
            "only showing top 5 rows\n",
            "\n"
          ],
          "name": "stdout"
        }
      ]
    },
    {
      "cell_type": "code",
      "metadata": {
        "id": "KJnj-dK2Hue9",
        "colab_type": "code",
        "outputId": "08f91f09-dd5a-42f1-eb13-2f5851423b7d",
        "colab": {
          "base_uri": "https://localhost:8080/",
          "height": 136
        }
      },
      "source": [
        "predictions_lr.groupBy('label','prediction').count().show()"
      ],
      "execution_count": 0,
      "outputs": [
        {
          "output_type": "stream",
          "text": [
            "+-----+----------+-----+\n",
            "|label|prediction|count|\n",
            "+-----+----------+-----+\n",
            "|  1.0|       0.0| 2617|\n",
            "|  0.0|       0.0|31303|\n",
            "+-----+----------+-----+\n",
            "\n"
          ],
          "name": "stdout"
        }
      ]
    },
    {
      "cell_type": "markdown",
      "metadata": {
        "id": "DdgskAOLH2fV",
        "colab_type": "text"
      },
      "source": [
        "Area under the curve with the test data"
      ]
    },
    {
      "cell_type": "code",
      "metadata": {
        "id": "xo5XPshwH3J8",
        "colab_type": "code",
        "outputId": "6298da21-4ae3-4a1d-8b7e-10c0399e53e5",
        "colab": {
          "base_uri": "https://localhost:8080/",
          "height": 34
        }
      },
      "source": [
        "my_eval_lr.evaluate(predictions_lr)"
      ],
      "execution_count": 0,
      "outputs": [
        {
          "output_type": "execute_result",
          "data": {
            "text/plain": [
              "0.5"
            ]
          },
          "metadata": {
            "tags": []
          },
          "execution_count": 194
        }
      ]
    },
    {
      "cell_type": "markdown",
      "metadata": {
        "id": "UMQ4o1H3H4PJ",
        "colab_type": "text"
      },
      "source": [
        "F1-score with the test data"
      ]
    },
    {
      "cell_type": "code",
      "metadata": {
        "id": "795xP1DgH52l",
        "colab_type": "code",
        "outputId": "6650a95c-e06a-4701-e0c0-3b353e30c37d",
        "colab": {
          "base_uri": "https://localhost:8080/",
          "height": 34
        }
      },
      "source": [
        "my_mc_lr = MulticlassClassificationEvaluator(predictionCol='prediction', labelCol='label', metricName='f1')\n",
        "my_mc_lr.evaluate(predictions_lr)"
      ],
      "execution_count": 0,
      "outputs": [
        {
          "output_type": "execute_result",
          "data": {
            "text/plain": [
              "0.885819637396404"
            ]
          },
          "metadata": {
            "tags": []
          },
          "execution_count": 192
        }
      ]
    },
    {
      "cell_type": "markdown",
      "metadata": {
        "id": "36J70UNKIBSt",
        "colab_type": "text"
      },
      "source": [
        "Acccuracy with the test data"
      ]
    },
    {
      "cell_type": "code",
      "metadata": {
        "id": "KH2-Wc56ICyR",
        "colab_type": "code",
        "outputId": "214fb584-a694-434c-830a-af4467b2d0a6",
        "colab": {
          "base_uri": "https://localhost:8080/",
          "height": 34
        }
      },
      "source": [
        "my_mc_lr = MulticlassClassificationEvaluator(predictionCol='prediction', labelCol='label', metricName='accuracy')\n",
        "my_mc_lr.evaluate(predictions_lr)"
      ],
      "execution_count": 0,
      "outputs": [
        {
          "output_type": "execute_result",
          "data": {
            "text/plain": [
              "0.9228478773584906"
            ]
          },
          "metadata": {
            "tags": []
          },
          "execution_count": 193
        }
      ]
    },
    {
      "cell_type": "markdown",
      "metadata": {
        "id": "X58x_2Ke9spL",
        "colab_type": "text"
      },
      "source": [
        "#### LogisticRegressionTrainingSummary\n",
        "LogisticRegressionTrainingSummary provides a summary for a LogisticRegressionModel. In the case of binary classification, certain additional metrics are available, e.g. ROC curve. See BinaryLogisticRegressionTrainingSummary. <br>\n",
        "Reference: https://spark.apache.org/docs/latest/ml-classification-regression.html"
      ]
    },
    {
      "cell_type": "code",
      "metadata": {
        "id": "IcNfplgZ9hvY",
        "colab_type": "code",
        "outputId": "5431d255-de4c-408a-fd6e-9115a1168a6a",
        "colab": {
          "base_uri": "https://localhost:8080/",
          "height": 697
        }
      },
      "source": [
        "trainingSummary = lrModel.summary\n",
        "\n",
        "# Obtain the objective per iteration\n",
        "objectiveHistory = trainingSummary.objectiveHistory\n",
        "print(\"objectiveHistory:\")\n",
        "for objective in objectiveHistory:\n",
        "    print(objective)\n",
        "\n",
        "# Obtain the receiver-operating characteristic as a dataframe and areaUnderROC.\n",
        "trainingSummary.roc.show()\n",
        "print(\"areaUnderROC: \" + str(trainingSummary.areaUnderROC))\n",
        "\n",
        "# Set the model threshold to maximize F-Measure\n",
        "fMeasure = trainingSummary.fMeasureByThreshold\n",
        "maxFMeasure = fMeasure.groupBy().max('F-Measure').select('max(F-Measure)').head()\n",
        "bestThreshold = fMeasure.where(fMeasure['F-Measure'] == maxFMeasure['max(F-Measure)']) \\\n",
        "    .select('threshold').head()['threshold']\n",
        "lr.setThreshold(bestThreshold)"
      ],
      "execution_count": 0,
      "outputs": [
        {
          "output_type": "stream",
          "text": [
            "objectiveHistory:\n",
            "0.272700994237\n",
            "0.261053832196\n",
            "0.246690513172\n",
            "0.244124059396\n",
            "0.243071424968\n",
            "0.240367774935\n",
            "0.239523876799\n",
            "0.237564737356\n",
            "0.235914349838\n",
            "0.234584565324\n",
            "0.232575856825\n",
            "+--------------------+--------------------+\n",
            "|                 FPR|                 TPR|\n",
            "+--------------------+--------------------+\n",
            "|                 0.0|                 0.0|\n",
            "|0.006444166586515341|0.055255844368154325|\n",
            "|0.013492903172618476| 0.10511688736308648|\n",
            "|0.021242391349152914| 0.14631355239496485|\n",
            "|0.029541488616221714| 0.18587542913192742|\n",
            "|0.038184091564874484|  0.2226581657675331|\n",
            "| 0.04648318883194328|  0.2627104789929704|\n",
            "| 0.05491968837164567|  0.2998201732875593|\n",
            "| 0.06316382472966103| 0.33807421938858917|\n",
            "| 0.07216367358716114|  0.3732221677292791|\n",
            "| 0.08090245812665742|  0.4067353277750531|\n",
            "| 0.08979238516605065| 0.44073892430930195|\n",
            "| 0.09910825925060801|  0.4678764100049044|\n",
            "| 0.10788826447189437|  0.4976295569723721|\n",
            "| 0.11743772241992882|  0.5214974660781428|\n",
            "| 0.12630016900479535|  0.5473271211378127|\n",
            "| 0.13590458786188322|  0.5667811018473108|\n",
            "| 0.14556396762802457|  0.5798594082066373|\n",
            "| 0.15531952898500942|    0.59359162988393|\n",
            "| 0.16517127193283776|  0.6074873303907145|\n",
            "+--------------------+--------------------+\n",
            "only showing top 20 rows\n",
            "\n",
            "areaUnderROC: 0.767144434832\n"
          ],
          "name": "stdout"
        },
        {
          "output_type": "execute_result",
          "data": {
            "text/plain": [
              "LogisticRegression_5c018a4ec0e8"
            ]
          },
          "metadata": {
            "tags": []
          },
          "execution_count": 117
        }
      ]
    },
    {
      "cell_type": "markdown",
      "metadata": {
        "id": "iabrVZRZevqa",
        "colab_type": "text"
      },
      "source": [
        "### Decision Tree Classifier\n",
        "Decision trees are widely used since they are easy to interpret, handle categorical features, extend to the multi-class classification, do not require feature scaling, and are able to capture non-linearities and feature interactions."
      ]
    },
    {
      "cell_type": "code",
      "metadata": {
        "id": "cuXUlygpeyF2",
        "colab_type": "code",
        "outputId": "a875fc99-9cce-4f8a-d758-2c9ccb4ee315",
        "colab": {
          "base_uri": "https://localhost:8080/",
          "height": 309
        }
      },
      "source": [
        "from pyspark.ml.classification import DecisionTreeClassifier\n",
        "dt = DecisionTreeClassifier(featuresCol = 'features', labelCol = 'label', maxDepth = 3)\n",
        "dtModel = dt.fit(train)\n",
        "predictions = dtModel.transform(test)\n",
        "predictions.select('customer_city', 'customer_state', 'seller_city', 'seller_state','Weight/volume',  'customer_zip_code_prefix', 'freight/price', 'freight_value', 'price','product_height_cm',\\\n",
        "                   'product_length_cm','product_weight_g', 'product_width_cm', 'review_score', 'seller_zip_code_prefix','Distance_Sell_Cust', 'label', 'rawPrediction', 'prediction', 'probability').show(10)"
      ],
      "execution_count": 0,
      "outputs": [
        {
          "output_type": "stream",
          "text": [
            "+--------------------+--------------+---------------+------------+--------------------+------------------------+-------------------+-------------+------+-----------------+-----------------+----------------+----------------+------------+----------------------+------------------+-----+----------------+----------+--------------------+\n",
            "|       customer_city|customer_state|    seller_city|seller_state|       Weight/volume|customer_zip_code_prefix|      freight/price|freight_value| price|product_height_cm|product_length_cm|product_weight_g|product_width_cm|review_score|seller_zip_code_prefix|Distance_Sell_Cust|label|   rawPrediction|prediction|         probability|\n",
            "+--------------------+--------------+---------------+------------+--------------------+------------------------+-------------------+-------------+------+-----------------+-----------------+----------------+----------------+------------+----------------------+------------------+-----+----------------+----------+--------------------+\n",
            "|           sao paulo|            SP|       ibitinga|          SP|                 0.0|                    4904| 0.1115473441108545|        14.49| 129.9|             25.0|             30.0|             0.0|            30.0|           5|                 14940|            302.43|  0.0|[72632.0,6098.0]|       0.0|[0.92254540835767...|\n",
            "|              ilheus|            BA|       ibitinga|          SP|                 0.0|                   45653|0.23850000000000002|        23.85| 100.0|             25.0|             30.0|             0.0|            30.0|           3|                 14940|           1290.87|  0.0|[72632.0,6098.0]|       0.0|[0.92254540835767...|\n",
            "|              ilheus|            BA|       ibitinga|          SP|                 0.0|                   45653|0.23850000000000002|        23.85| 100.0|             25.0|             30.0|             0.0|            30.0|           3|                 14940|           1290.87|  0.0|[72632.0,6098.0]|       0.0|[0.92254540835767...|\n",
            "|             jandira|            SP|       ibitinga|          SP|8.818342151675485E-4|                    6602|0.11716705157813703|        15.22| 129.9|             18.0|             45.0|            25.0|            35.0|           4|                 14940|            279.92|  0.0|[72632.0,6098.0]|       0.0|[0.92254540835767...|\n",
            "|      rio de janeiro|            RJ|       ibitinga|          SP|0.004160030427651128|                   22620|0.22772133526850505|        15.69|  68.9|             93.0|             23.0|          1050.0|           118.0|           5|                 14940|            581.86|  0.0|[72632.0,6098.0]|       0.0|[0.92254540835767...|\n",
            "|        juiz de fora|            MG|       ibitinga|          SP|0.004160030427651128|                   36088|0.20877192982456141|        17.85|  85.5|             93.0|             23.0|          1050.0|           118.0|           5|                 14940|            557.07|  0.0|[72632.0,6098.0]|       0.0|[0.92254540835767...|\n",
            "|sao joao da boa v...|            SP|      sao paulo|          SP|0.004285714285714286|                   13873| 0.4264754918306102|        12.79| 29.99|             50.0|             20.0|           150.0|            35.0|           4|                  3872|            175.85|  0.0|[72632.0,6098.0]|       0.0|[0.92254540835767...|\n",
            "|            salvador|            BA|itaquaquecetuba|          SP| 0.00431667098333765|                   40370|0.12525626281314065|        25.05|199.99|             27.0|             33.0|           100.0|            26.0|           5|                  8598|           1432.41|  0.0|[72632.0,6098.0]|       0.0|[0.92254540835767...|\n",
            "|           sao paulo|            SP|       ibitinga|          SP|0.004761904761904762|                    3130| 0.6405405405405405|        11.85|  18.5|             15.0|             40.0|           100.0|            35.0|           5|                 14940|             306.9|  0.0|[72632.0,6098.0]|       0.0|[0.92254540835767...|\n",
            "|              osasco|            SP|      sao paulo|          SP|0.005208333333333333|                    6182| 0.7335834896810507|        11.73| 15.99|             40.0|             40.0|           250.0|            30.0|           4|                  3426|             28.21|  0.0|[72632.0,6098.0]|       0.0|[0.92254540835767...|\n",
            "+--------------------+--------------+---------------+------------+--------------------+------------------------+-------------------+-------------+------+-----------------+-----------------+----------------+----------------+------------+----------------------+------------------+-----+----------------+----------+--------------------+\n",
            "only showing top 10 rows\n",
            "\n"
          ],
          "name": "stdout"
        }
      ]
    },
    {
      "cell_type": "markdown",
      "metadata": {
        "id": "53CgRUUne53v",
        "colab_type": "text"
      },
      "source": [
        "#### Evaluate our Decision Tree model."
      ]
    },
    {
      "cell_type": "code",
      "metadata": {
        "id": "eyIaG1rpe9_A",
        "colab_type": "code",
        "outputId": "3437a532-91a6-48bb-d469-a56f2302d52b",
        "colab": {
          "base_uri": "https://localhost:8080/",
          "height": 34
        }
      },
      "source": [
        "evaluator = BinaryClassificationEvaluator()\n",
        "print(\"Test Area Under ROC: \" + str(evaluator.evaluate(predictions, {evaluator.metricName: \"areaUnderROC\"})))"
      ],
      "execution_count": 0,
      "outputs": [
        {
          "output_type": "stream",
          "text": [
            "Test Area Under ROC: 0.5\n"
          ],
          "name": "stdout"
        }
      ]
    },
    {
      "cell_type": "markdown",
      "metadata": {
        "id": "AwXX-an4ky8P",
        "colab_type": "text"
      },
      "source": [
        "#### Confusion matrix"
      ]
    },
    {
      "cell_type": "code",
      "metadata": {
        "id": "SA7-lz_gk2ET",
        "colab_type": "code",
        "outputId": "beb8514d-2b50-4cf1-8497-cf837494fee8",
        "colab": {
          "base_uri": "https://localhost:8080/",
          "height": 80
        }
      },
      "source": [
        "cm_dt_result = predictions.crosstab(\"prediction\", \"label\")\n",
        "cm_dt_result = cm_dt_result.toPandas()\n",
        "cm_dt_result"
      ],
      "execution_count": 0,
      "outputs": [
        {
          "output_type": "execute_result",
          "data": {
            "text/html": [
              "<div>\n",
              "<style scoped>\n",
              "    .dataframe tbody tr th:only-of-type {\n",
              "        vertical-align: middle;\n",
              "    }\n",
              "\n",
              "    .dataframe tbody tr th {\n",
              "        vertical-align: top;\n",
              "    }\n",
              "\n",
              "    .dataframe thead th {\n",
              "        text-align: right;\n",
              "    }\n",
              "</style>\n",
              "<table border=\"1\" class=\"dataframe\">\n",
              "  <thead>\n",
              "    <tr style=\"text-align: right;\">\n",
              "      <th></th>\n",
              "      <th>prediction_label</th>\n",
              "      <th>0.0</th>\n",
              "      <th>1.0</th>\n",
              "    </tr>\n",
              "  </thead>\n",
              "  <tbody>\n",
              "    <tr>\n",
              "      <th>0</th>\n",
              "      <td>0.0</td>\n",
              "      <td>31303</td>\n",
              "      <td>2617</td>\n",
              "    </tr>\n",
              "  </tbody>\n",
              "</table>\n",
              "</div>"
            ],
            "text/plain": [
              "  prediction_label    0.0   1.0\n",
              "0              0.0  31303  2617"
            ]
          },
          "metadata": {
            "tags": []
          },
          "execution_count": 121
        }
      ]
    },
    {
      "cell_type": "markdown",
      "metadata": {
        "id": "K7hvyaIye-iT",
        "colab_type": "text"
      },
      "source": [
        "One simple decision tree performed poorly because it is too weak given the range of different features. The prediction accuracy of decision trees can be improved by Ensemble methods, such as Random Forest and Gradient-Boosted Tree."
      ]
    },
    {
      "cell_type": "markdown",
      "metadata": {
        "id": "yxxJI4zs_ClI",
        "colab_type": "text"
      },
      "source": [
        "#####################################################################################################\n",
        "########################### make some codes to plot the feature importances ######################################\n",
        "\n",
        "I didn't do this because decision tree models has some problems.\n",
        "#####################################################################################################"
      ]
    },
    {
      "cell_type": "markdown",
      "metadata": {
        "id": "X6IU6MX8_vl0",
        "colab_type": "text"
      },
      "source": [
        "### Feature importances"
      ]
    },
    {
      "cell_type": "code",
      "metadata": {
        "id": "mh9Em0n9-ZJ8",
        "colab_type": "code",
        "outputId": "e6d91e71-96e9-461a-9e74-a300cf57ee09",
        "colab": {
          "base_uri": "https://localhost:8080/",
          "height": 34
        }
      },
      "source": [
        "dtModel.featureImportances"
      ],
      "execution_count": 0,
      "outputs": [
        {
          "output_type": "execute_result",
          "data": {
            "text/plain": [
              "SparseVector(12, {})"
            ]
          },
          "metadata": {
            "tags": []
          },
          "execution_count": 202
        }
      ]
    },
    {
      "cell_type": "code",
      "metadata": {
        "id": "v9Puzmy1-dRH",
        "colab_type": "code",
        "colab": {}
      },
      "source": [
        "features_columns = ['customer_city', 'customer_state', 'seller_city', 'seller_state', 'Weight/volume',  'customer_zip_code_prefix', 'freight/price',  'freight_value', 'price',\\\n",
        "                     'product_height_cm', 'product_length_cm','product_weight_g', 'product_width_cm', 'review_score', 'seller_zip_code_prefix','Distance_Sell_Cust']"
      ],
      "execution_count": 0,
      "outputs": []
    },
    {
      "cell_type": "code",
      "metadata": {
        "id": "QFhDP75R-fcG",
        "colab_type": "code",
        "colab": {}
      },
      "source": [
        "feature_list = []\n",
        "for col in features_columns:\n",
        "    if col == 'label':\n",
        "        continue\n",
        "    else:\n",
        "        feature_list.append(col)"
      ],
      "execution_count": 0,
      "outputs": []
    },
    {
      "cell_type": "code",
      "metadata": {
        "id": "8bem-sY_-in2",
        "colab_type": "code",
        "outputId": "e46a4a33-0644-420a-97ce-47d9d9f7bcf3",
        "colab": {
          "base_uri": "https://localhost:8080/",
          "height": 431
        }
      },
      "source": [
        "importances = dtModel.featureImportances\n",
        "\n",
        "x_values = list(range(len(importances)))\n",
        "\n",
        "plt.bar(x_values, importances, orientation = 'vertical')\n",
        "plt.xticks(x_values, feature_list, rotation=90)\n",
        "plt.ylabel('Importance')\n",
        "plt.xlabel('Feature')\n",
        "plt.title('Feature Importances')"
      ],
      "execution_count": 0,
      "outputs": [
        {
          "output_type": "execute_result",
          "data": {
            "text/plain": [
              "Text(0.5,1,'Feature Importances')"
            ]
          },
          "metadata": {
            "tags": []
          },
          "execution_count": 206
        },
        {
          "output_type": "display_data",
          "data": {
            "image/png": "[encoded data removed]",
            "text/plain": [
              "<Figure size 432x288 with 1 Axes>"
            ]
          },
          "metadata": {
            "tags": []
          }
        }
      ]
    },
    {
      "cell_type": "markdown",
      "metadata": {
        "id": "YUbpNJ2sfCUU",
        "colab_type": "text"
      },
      "source": [
        "### Random Forest Classifier"
      ]
    },
    {
      "cell_type": "code",
      "metadata": {
        "id": "WmhDDFLHfAFb",
        "colab_type": "code",
        "outputId": "9ab6a82d-2728-4771-bd64-ae87f459391a",
        "colab": {
          "base_uri": "https://localhost:8080/",
          "height": 309
        }
      },
      "source": [
        "from pyspark.ml.classification import RandomForestClassifier\n",
        "rf = RandomForestClassifier(featuresCol = 'features', labelCol = 'label')\n",
        "rfModel = rf.fit(train)\n",
        "predictions = rfModel.transform(test)\n",
        "predictions.select('customer_city', 'customer_state', 'seller_city', 'seller_state','Weight/volume',  'customer_zip_code_prefix', 'freight/price', 'freight_value', 'price','product_height_cm',\\\n",
        "                   'product_length_cm','product_weight_g', 'product_width_cm', 'review_score', 'seller_zip_code_prefix','Distance_Sell_Cust', 'label', 'rawPrediction', 'prediction', 'probability').show(10)"
      ],
      "execution_count": 0,
      "outputs": [
        {
          "output_type": "stream",
          "text": [
            "+--------------------+--------------+--------------+------------+--------------------+------------------------+-------------------+-------------+------+-----------------+-----------------+----------------+----------------+------------+----------------------+------------------+-----+--------------------+----------+--------------------+\n",
            "|       customer_city|customer_state|   seller_city|seller_state|       Weight/volume|customer_zip_code_prefix|      freight/price|freight_value| price|product_height_cm|product_length_cm|product_weight_g|product_width_cm|review_score|seller_zip_code_prefix|Distance_Sell_Cust|label|       rawPrediction|prediction|         probability|\n",
            "+--------------------+--------------+--------------+------------+--------------------+------------------------+-------------------+-------------+------+-----------------+-----------------+----------------+----------------+------------+----------------------+------------------+-----+--------------------+----------+--------------------+\n",
            "|              ilheus|            BA|      ibitinga|          SP|                 0.0|                   45653|0.23850000000000002|        23.85| 100.0|             25.0|             30.0|             0.0|            30.0|           3|                 14940|           1290.87|  0.0|[18.2366212212250...|       0.0|[0.91183106106125...|\n",
            "|aguas lindas de g...|            GO|      ibitinga|          SP|                 0.0|                   72911|0.18252501924557352|        23.71| 129.9|             25.0|             30.0|             0.0|            30.0|           5|                 14940|            671.89|  0.0|[18.6151862471141...|       0.0|[0.93075931235570...|\n",
            "|             goiania|            GO|      caieiras|          SP|2.202827549442464...|                   74594| 1.0756099663764118|       124.76|115.99|             61.0|             61.0|            50.0|            61.0|           1|                  7747|            799.53|  0.0|[16.5284574215554...|       0.0|[0.82642287107777...|\n",
            "|             biguacu|            SC|       lajeado|          RS|3.527336860670194E-4|                   88162|0.08594791666666667|        82.51| 960.0|             90.0|             35.0|            50.0|            45.0|           1|                 95900|            389.45|  0.0|[16.5851724327355...|       0.0|[0.82925862163677...|\n",
            "|         santo andre|            SP|      ibitinga|          SP|8.818342151675485E-4|                    9080|0.11716705157813703|        15.22| 129.9|             18.0|             45.0|            25.0|            35.0|           5|                 14940|            314.52|  0.0|[18.9637726958036...|       0.0|[0.94818863479018...|\n",
            "|          goitacazes|            RJ|rio de janeiro|          RJ|0.001485714285714...|                   28110|0.27428791377983064|        35.63| 129.9|             25.0|            100.0|           130.0|            35.0|           5|                 20270|            201.39|  0.0|[18.6153758245412...|       0.0|[0.93076879122706...|\n",
            "|             claudio|            MG|     sao paulo|          SP|0.003769188596491228|                   35530| 0.3775943985996499|         15.1| 39.99|             48.0|             40.0|           275.0|            38.0|           5|                  3929|            394.77|  0.0|[18.6151862471141...|       0.0|[0.93075931235570...|\n",
            "|          sao carlos|            SP|      ibitinga|          SP|0.004160030427651128|                   13568|0.18606676342525397|        12.82|  68.9|             93.0|             23.0|          1050.0|           118.0|           5|                 14940|            104.17|  0.0|[18.9882912932090...|       0.0|[0.94941456466045...|\n",
            "|        juiz de fora|            MG|      ibitinga|          SP|0.004160030427651128|                   36088|0.20877192982456141|        17.85|  85.5|             93.0|             23.0|          1050.0|           118.0|           5|                 14940|            557.07|  0.0|[18.6151862471141...|       0.0|[0.93075931235570...|\n",
            "|          uberlandia|            MG|      ibitinga|          SP|0.004160030427651128|                   38414| 0.2538461538461538|        17.49|  68.9|             93.0|             23.0|          1050.0|           118.0|           3|                 14940|            319.62|  0.0|[18.4731451693521...|       0.0|[0.92365725846760...|\n",
            "+--------------------+--------------+--------------+------------+--------------------+------------------------+-------------------+-------------+------+-----------------+-----------------+----------------+----------------+------------+----------------------+------------------+-----+--------------------+----------+--------------------+\n",
            "only showing top 10 rows\n",
            "\n"
          ],
          "name": "stdout"
        }
      ]
    },
    {
      "cell_type": "markdown",
      "metadata": {
        "id": "qkTCEItnfGiD",
        "colab_type": "text"
      },
      "source": [
        "#### Evaluate our Random Forest Classifier."
      ]
    },
    {
      "cell_type": "code",
      "metadata": {
        "id": "ladq1fJxfHdJ",
        "colab_type": "code",
        "outputId": "0d01f739-e2d7-4cbc-d2a0-370a662b2ae7",
        "colab": {
          "base_uri": "https://localhost:8080/",
          "height": 34
        }
      },
      "source": [
        "evaluator = BinaryClassificationEvaluator()\n",
        "print(\"Test Area Under ROC: \" + str(evaluator.evaluate(predictions, {evaluator.metricName: \"areaUnderROC\"})))"
      ],
      "execution_count": 0,
      "outputs": [
        {
          "output_type": "stream",
          "text": [
            "Test Area Under ROC: 0.752312254723\n"
          ],
          "name": "stdout"
        }
      ]
    },
    {
      "cell_type": "markdown",
      "metadata": {
        "id": "Sj1vCXBTjbWU",
        "colab_type": "text"
      },
      "source": [
        "Let's check the feature importances of random forest"
      ]
    },
    {
      "cell_type": "code",
      "metadata": {
        "id": "ZEnLh5OMjauQ",
        "colab_type": "code",
        "outputId": "4f3fea22-6678-4f64-be90-731962c7fd42",
        "colab": {
          "base_uri": "https://localhost:8080/",
          "height": 54
        }
      },
      "source": [
        "print rfModel.featureImportances"
      ],
      "execution_count": 0,
      "outputs": [
        {
          "output_type": "stream",
          "text": [
            "(12,[0,1,2,3,4,5,6,7,8,9,10,11],[0.011406094279817817,0.21526553920722905,0.023517721785109743,0.02534246517358548,0.010025779784215271,0.014311852021442088,0.0027057603284674973,0.015159631529101898,0.0030482382369660076,0.5869726274082818,0.030674294790277314,0.06156999545550596])\n"
          ],
          "name": "stdout"
        }
      ]
    },
    {
      "cell_type": "markdown",
      "metadata": {
        "id": "Ew6lhsBCk6lY",
        "colab_type": "text"
      },
      "source": [
        "### Confusion matrix"
      ]
    },
    {
      "cell_type": "code",
      "metadata": {
        "id": "6t5xzAzOk8Rf",
        "colab_type": "code",
        "outputId": "b16e222b-4585-4a3b-80f0-b56a67406c63",
        "colab": {
          "base_uri": "https://localhost:8080/",
          "height": 111
        }
      },
      "source": [
        "cm_dt_result = predictions.crosstab(\"prediction\", \"label\")\n",
        "cm_dt_result = cm_dt_result.toPandas()\n",
        "cm_dt_result"
      ],
      "execution_count": 0,
      "outputs": [
        {
          "output_type": "execute_result",
          "data": {
            "text/html": [
              "<div>\n",
              "<style scoped>\n",
              "    .dataframe tbody tr th:only-of-type {\n",
              "        vertical-align: middle;\n",
              "    }\n",
              "\n",
              "    .dataframe tbody tr th {\n",
              "        vertical-align: top;\n",
              "    }\n",
              "\n",
              "    .dataframe thead th {\n",
              "        text-align: right;\n",
              "    }\n",
              "</style>\n",
              "<table border=\"1\" class=\"dataframe\">\n",
              "  <thead>\n",
              "    <tr style=\"text-align: right;\">\n",
              "      <th></th>\n",
              "      <th>prediction_label</th>\n",
              "      <th>0.0</th>\n",
              "      <th>1.0</th>\n",
              "    </tr>\n",
              "  </thead>\n",
              "  <tbody>\n",
              "    <tr>\n",
              "      <th>0</th>\n",
              "      <td>1.0</td>\n",
              "      <td>0</td>\n",
              "      <td>9</td>\n",
              "    </tr>\n",
              "    <tr>\n",
              "      <th>1</th>\n",
              "      <td>0.0</td>\n",
              "      <td>31156</td>\n",
              "      <td>2589</td>\n",
              "    </tr>\n",
              "  </tbody>\n",
              "</table>\n",
              "</div>"
            ],
            "text/plain": [
              "  prediction_label    0.0   1.0\n",
              "0              1.0      0     9\n",
              "1              0.0  31156  2589"
            ]
          },
          "metadata": {
            "tags": []
          },
          "execution_count": 67
        }
      ]
    },
    {
      "cell_type": "markdown",
      "metadata": {
        "id": "okb00M09zrQy",
        "colab_type": "text"
      },
      "source": [
        "### Feature importances\n",
        "- Reference <br>\n",
        "(1) https://www.timlrx.com/2018/06/19/feature-selection-using-feature-importance-score-creating-a-pyspark-estimator/ <br>\n",
        "(2) https://www.silect.is/blog/2019/4/2/random-forest-in-spark-ml"
      ]
    },
    {
      "cell_type": "code",
      "metadata": {
        "id": "QnCEfwm6SPMF",
        "colab_type": "code",
        "colab": {}
      },
      "source": [
        "importances = rfModel.featureImportances\n",
        "features_columns = ['customer_city', 'customer_state', 'seller_city', 'seller_state', 'Weight/volume',  'customer_zip_code_prefix', 'freight/price',  'freight_value', 'price',\\\n",
        "                    'product_height_cm', 'product_length_cm','product_weight_g', 'product_width_cm', 'review_score', 'seller_zip_code_prefix','Distance_Sell_Cust']"
      ],
      "execution_count": 0,
      "outputs": []
    },
    {
      "cell_type": "code",
      "metadata": {
        "id": "U_VO2QLy_2NI",
        "colab_type": "code",
        "outputId": "e16c8c34-2a40-4c04-abe4-bc4ca352409e",
        "colab": {
          "base_uri": "https://localhost:8080/",
          "height": 421
        }
      },
      "source": [
        "model = pd.DataFrame(importances.toArray(), columns=[\"values\"])\n",
        "features_col = pd.Series(features_columns)\n",
        "model[\"features\"] = features_col\n",
        "model"
      ],
      "execution_count": 0,
      "outputs": [
        {
          "output_type": "execute_result",
          "data": {
            "text/html": [
              "<div>\n",
              "<style scoped>\n",
              "    .dataframe tbody tr th:only-of-type {\n",
              "        vertical-align: middle;\n",
              "    }\n",
              "\n",
              "    .dataframe tbody tr th {\n",
              "        vertical-align: top;\n",
              "    }\n",
              "\n",
              "    .dataframe thead th {\n",
              "        text-align: right;\n",
              "    }\n",
              "</style>\n",
              "<table border=\"1\" class=\"dataframe\">\n",
              "  <thead>\n",
              "    <tr style=\"text-align: right;\">\n",
              "      <th></th>\n",
              "      <th>values</th>\n",
              "      <th>features</th>\n",
              "    </tr>\n",
              "  </thead>\n",
              "  <tbody>\n",
              "    <tr>\n",
              "      <th>0</th>\n",
              "      <td>0.011406</td>\n",
              "      <td>customer_city</td>\n",
              "    </tr>\n",
              "    <tr>\n",
              "      <th>1</th>\n",
              "      <td>0.215266</td>\n",
              "      <td>customer_state</td>\n",
              "    </tr>\n",
              "    <tr>\n",
              "      <th>2</th>\n",
              "      <td>0.023518</td>\n",
              "      <td>seller_city</td>\n",
              "    </tr>\n",
              "    <tr>\n",
              "      <th>3</th>\n",
              "      <td>0.025342</td>\n",
              "      <td>seller_state</td>\n",
              "    </tr>\n",
              "    <tr>\n",
              "      <th>4</th>\n",
              "      <td>0.010026</td>\n",
              "      <td>Weight/volume</td>\n",
              "    </tr>\n",
              "    <tr>\n",
              "      <th>5</th>\n",
              "      <td>0.014312</td>\n",
              "      <td>customer_zip_code_prefix</td>\n",
              "    </tr>\n",
              "    <tr>\n",
              "      <th>6</th>\n",
              "      <td>0.002706</td>\n",
              "      <td>freight/price</td>\n",
              "    </tr>\n",
              "    <tr>\n",
              "      <th>7</th>\n",
              "      <td>0.015160</td>\n",
              "      <td>freight_value</td>\n",
              "    </tr>\n",
              "    <tr>\n",
              "      <th>8</th>\n",
              "      <td>0.003048</td>\n",
              "      <td>price</td>\n",
              "    </tr>\n",
              "    <tr>\n",
              "      <th>9</th>\n",
              "      <td>0.586973</td>\n",
              "      <td>product_height_cm</td>\n",
              "    </tr>\n",
              "    <tr>\n",
              "      <th>10</th>\n",
              "      <td>0.030674</td>\n",
              "      <td>product_length_cm</td>\n",
              "    </tr>\n",
              "    <tr>\n",
              "      <th>11</th>\n",
              "      <td>0.061570</td>\n",
              "      <td>product_weight_g</td>\n",
              "    </tr>\n",
              "  </tbody>\n",
              "</table>\n",
              "</div>"
            ],
            "text/plain": [
              "      values                  features\n",
              "0   0.011406             customer_city\n",
              "1   0.215266            customer_state\n",
              "2   0.023518               seller_city\n",
              "3   0.025342              seller_state\n",
              "4   0.010026             Weight/volume\n",
              "5   0.014312  customer_zip_code_prefix\n",
              "6   0.002706             freight/price\n",
              "7   0.015160             freight_value\n",
              "8   0.003048                     price\n",
              "9   0.586973         product_height_cm\n",
              "10  0.030674         product_length_cm\n",
              "11  0.061570          product_weight_g"
            ]
          },
          "metadata": {
            "tags": []
          },
          "execution_count": 136
        }
      ]
    },
    {
      "cell_type": "code",
      "metadata": {
        "id": "MmNGqY1aCtf0",
        "colab_type": "code",
        "colab": {}
      },
      "source": [
        "y_pos = np.arange(len(features_columns))"
      ],
      "execution_count": 0,
      "outputs": []
    },
    {
      "cell_type": "code",
      "metadata": {
        "id": "hg6SOmiqAx0l",
        "colab_type": "code",
        "outputId": "abb3efee-d6c8-4271-bcdd-646f466fbe29",
        "colab": {
          "base_uri": "https://localhost:8080/",
          "height": 306
        }
      },
      "source": [
        "from pyspark.sql.types import StructType, StructField, DoubleType, StringType\n",
        "from IPython.display import display\n",
        "\n",
        "new_schema = StructType([\n",
        "  StructField(\"values\", DoubleType(), False),\n",
        "  StructField(\"features\", StringType(), False)\n",
        "])\n",
        "\n",
        "feature_importance = spark.createDataFrame(model, schema=new_schema)\n",
        "\n",
        "feature_importance.orderBy(\"values\", ascending=False).show()"
      ],
      "execution_count": 0,
      "outputs": [
        {
          "output_type": "stream",
          "text": [
            "+--------------------+--------------------+\n",
            "|              values|            features|\n",
            "+--------------------+--------------------+\n",
            "|  0.5869726274082818|   product_height_cm|\n",
            "| 0.21526553920722905|      customer_state|\n",
            "| 0.06156999545550596|    product_weight_g|\n",
            "|0.030674294790277314|   product_length_cm|\n",
            "| 0.02534246517358548|        seller_state|\n",
            "|0.023517721785109743|         seller_city|\n",
            "|0.015159631529101898|       freight_value|\n",
            "|0.014311852021442088|customer_zip_code...|\n",
            "|0.011406094279817817|       customer_city|\n",
            "|0.010025779784215271|       Weight/volume|\n",
            "|0.003048238236966...|               price|\n",
            "|0.002705760328467...|       freight/price|\n",
            "+--------------------+--------------------+\n",
            "\n"
          ],
          "name": "stdout"
        }
      ]
    },
    {
      "cell_type": "code",
      "metadata": {
        "id": "wsFhjj74C92P",
        "colab_type": "code",
        "outputId": "ab328284-37dd-4f5b-c41d-2c7aeb201082",
        "colab": {
          "base_uri": "https://localhost:8080/",
          "height": 421
        }
      },
      "source": [
        "feature_importance.toPandas()"
      ],
      "execution_count": 0,
      "outputs": [
        {
          "output_type": "execute_result",
          "data": {
            "text/html": [
              "<div>\n",
              "<style scoped>\n",
              "    .dataframe tbody tr th:only-of-type {\n",
              "        vertical-align: middle;\n",
              "    }\n",
              "\n",
              "    .dataframe tbody tr th {\n",
              "        vertical-align: top;\n",
              "    }\n",
              "\n",
              "    .dataframe thead th {\n",
              "        text-align: right;\n",
              "    }\n",
              "</style>\n",
              "<table border=\"1\" class=\"dataframe\">\n",
              "  <thead>\n",
              "    <tr style=\"text-align: right;\">\n",
              "      <th></th>\n",
              "      <th>values</th>\n",
              "      <th>features</th>\n",
              "    </tr>\n",
              "  </thead>\n",
              "  <tbody>\n",
              "    <tr>\n",
              "      <th>0</th>\n",
              "      <td>0.011406</td>\n",
              "      <td>customer_city</td>\n",
              "    </tr>\n",
              "    <tr>\n",
              "      <th>1</th>\n",
              "      <td>0.215266</td>\n",
              "      <td>customer_state</td>\n",
              "    </tr>\n",
              "    <tr>\n",
              "      <th>2</th>\n",
              "      <td>0.023518</td>\n",
              "      <td>seller_city</td>\n",
              "    </tr>\n",
              "    <tr>\n",
              "      <th>3</th>\n",
              "      <td>0.025342</td>\n",
              "      <td>seller_state</td>\n",
              "    </tr>\n",
              "    <tr>\n",
              "      <th>4</th>\n",
              "      <td>0.010026</td>\n",
              "      <td>Weight/volume</td>\n",
              "    </tr>\n",
              "    <tr>\n",
              "      <th>5</th>\n",
              "      <td>0.014312</td>\n",
              "      <td>customer_zip_code_prefix</td>\n",
              "    </tr>\n",
              "    <tr>\n",
              "      <th>6</th>\n",
              "      <td>0.002706</td>\n",
              "      <td>freight/price</td>\n",
              "    </tr>\n",
              "    <tr>\n",
              "      <th>7</th>\n",
              "      <td>0.015160</td>\n",
              "      <td>freight_value</td>\n",
              "    </tr>\n",
              "    <tr>\n",
              "      <th>8</th>\n",
              "      <td>0.003048</td>\n",
              "      <td>price</td>\n",
              "    </tr>\n",
              "    <tr>\n",
              "      <th>9</th>\n",
              "      <td>0.586973</td>\n",
              "      <td>product_height_cm</td>\n",
              "    </tr>\n",
              "    <tr>\n",
              "      <th>10</th>\n",
              "      <td>0.030674</td>\n",
              "      <td>product_length_cm</td>\n",
              "    </tr>\n",
              "    <tr>\n",
              "      <th>11</th>\n",
              "      <td>0.061570</td>\n",
              "      <td>product_weight_g</td>\n",
              "    </tr>\n",
              "  </tbody>\n",
              "</table>\n",
              "</div>"
            ],
            "text/plain": [
              "      values                  features\n",
              "0   0.011406             customer_city\n",
              "1   0.215266            customer_state\n",
              "2   0.023518               seller_city\n",
              "3   0.025342              seller_state\n",
              "4   0.010026             Weight/volume\n",
              "5   0.014312  customer_zip_code_prefix\n",
              "6   0.002706             freight/price\n",
              "7   0.015160             freight_value\n",
              "8   0.003048                     price\n",
              "9   0.586973         product_height_cm\n",
              "10  0.030674         product_length_cm\n",
              "11  0.061570          product_weight_g"
            ]
          },
          "metadata": {
            "tags": []
          },
          "execution_count": 159
        }
      ]
    },
    {
      "cell_type": "code",
      "metadata": {
        "id": "oVK9559H31Gw",
        "colab_type": "code",
        "colab": {}
      },
      "source": [
        "features_columns = ['customer_city', 'customer_state', 'seller_city', 'seller_state', 'Weight/volume',  'customer_zip_code_prefix', 'freight/price',  'freight_value', 'price',\\\n",
        "                    'product_height_cm', 'product_length_cm','product_weight_g', 'product_width_cm', 'review_score', 'seller_zip_code_prefix','Distance_Sell_Cust']"
      ],
      "execution_count": 0,
      "outputs": []
    },
    {
      "cell_type": "code",
      "metadata": {
        "id": "36B0JALr3vz5",
        "colab_type": "code",
        "colab": {}
      },
      "source": [
        "feature_list = []\n",
        "for col in features_columns:\n",
        "    if col == 'label':\n",
        "        continue\n",
        "    else:\n",
        "        feature_list.append(col)"
      ],
      "execution_count": 0,
      "outputs": []
    },
    {
      "cell_type": "code",
      "metadata": {
        "id": "W18UpHTT3T0m",
        "colab_type": "code",
        "outputId": "abd2407f-24af-4de5-b0c9-4dfef969a863",
        "colab": {
          "base_uri": "https://localhost:8080/",
          "height": 431
        }
      },
      "source": [
        "importances = rfModel.featureImportances\n",
        "\n",
        "x_values = list(range(len(importances)))\n",
        "\n",
        "plt.bar(x_values, importances, orientation = 'vertical')\n",
        "plt.xticks(x_values, feature_list, rotation=90)\n",
        "plt.ylabel('Importance')\n",
        "plt.xlabel('Feature')\n",
        "plt.title('Feature Importances')"
      ],
      "execution_count": 0,
      "outputs": [
        {
          "output_type": "execute_result",
          "data": {
            "text/plain": [
              "Text(0.5,1,'Feature Importances')"
            ]
          },
          "metadata": {
            "tags": []
          },
          "execution_count": 116
        },
        {
          "output_type": "display_data",
          "data": {
            "image/png": "[encoded data removed]",
            "text/plain": [
              "<Figure size 432x288 with 1 Axes>"
            ]
          },
          "metadata": {
            "tags": []
          }
        }
      ]
    },
    {
      "cell_type": "markdown",
      "metadata": {
        "id": "MxA9mW-ZfODG",
        "colab_type": "text"
      },
      "source": [
        "### Gradient-Boosted Tree Classifier"
      ]
    },
    {
      "cell_type": "code",
      "metadata": {
        "id": "f8kGxUWNfO7F",
        "colab_type": "code",
        "outputId": "58ddf16c-7bc8-435f-9229-139a10404914",
        "colab": {
          "base_uri": "https://localhost:8080/",
          "height": 309
        }
      },
      "source": [
        "from pyspark.ml.classification import GBTClassifier\n",
        "gbt = GBTClassifier(maxIter=10)\n",
        "gbtModel = gbt.fit(train)\n",
        "predictions = gbtModel.transform(test)\n",
        "predictions.select('customer_city', 'customer_state', 'seller_city', 'seller_state','Weight/volume',  'customer_zip_code_prefix', 'freight/price', 'freight_value', 'price','product_height_cm',\\\n",
        "                    'product_length_cm','product_weight_g', 'product_width_cm', 'review_score', 'seller_zip_code_prefix','Distance_Sell_Cust','label', 'rawPrediction', 'prediction', 'probability').show(10)"
      ],
      "execution_count": 0,
      "outputs": [
        {
          "output_type": "stream",
          "text": [
            "+--------------------+--------------+--------------+------------+--------------------+------------------------+-------------------+-------------+------+-----------------+-----------------+----------------+----------------+------------+----------------------+------------------+-----+--------------------+----------+--------------------+\n",
            "|       customer_city|customer_state|   seller_city|seller_state|       Weight/volume|customer_zip_code_prefix|      freight/price|freight_value| price|product_height_cm|product_length_cm|product_weight_g|product_width_cm|review_score|seller_zip_code_prefix|Distance_Sell_Cust|label|       rawPrediction|prediction|         probability|\n",
            "+--------------------+--------------+--------------+------------+--------------------+------------------------+-------------------+-------------+------+-----------------+-----------------+----------------+----------------+------------+----------------------+------------------+-----+--------------------+----------+--------------------+\n",
            "|              ilheus|            BA|      ibitinga|          SP|                 0.0|                   45653|0.23850000000000002|        23.85| 100.0|             25.0|             30.0|             0.0|            30.0|           3|                 14940|           1290.87|  0.0|[0.89563106605631...|       0.0|[0.85708194790309...|\n",
            "|aguas lindas de g...|            GO|      ibitinga|          SP|                 0.0|                   72911|0.18252501924557352|        23.71| 129.9|             25.0|             30.0|             0.0|            30.0|           5|                 14940|            671.89|  0.0|[1.19978783318071...|       0.0|[0.91679494022113...|\n",
            "|             goiania|            GO|      caieiras|          SP|2.202827549442464...|                   74594| 1.0756099663764118|       124.76|115.99|             61.0|             61.0|            50.0|            61.0|           1|                  7747|            799.53|  0.0|[0.67905503426482...|       0.0|[0.79545236263524...|\n",
            "|             biguacu|            SC|       lajeado|          RS|3.527336860670194E-4|                   88162|0.08594791666666667|        82.51| 960.0|             90.0|             35.0|            50.0|            45.0|           1|                 95900|            389.45|  0.0|[0.59318605408871...|       0.0|[0.76609159087346...|\n",
            "|         santo andre|            SP|      ibitinga|          SP|8.818342151675485E-4|                    9080|0.11716705157813703|        15.22| 129.9|             18.0|             45.0|            25.0|            35.0|           5|                 14940|            314.52|  0.0|[1.22900445939880...|       0.0|[0.92114515837049...|\n",
            "|          goitacazes|            RJ|rio de janeiro|          RJ|0.001485714285714...|                   28110|0.27428791377983064|        35.63| 129.9|             25.0|            100.0|           130.0|            35.0|           5|                 20270|            201.39|  0.0|[1.19867573731422...|       0.0|[0.91662511711530...|\n",
            "|             claudio|            MG|     sao paulo|          SP|0.003769188596491228|                   35530| 0.3775943985996499|         15.1| 39.99|             48.0|             40.0|           275.0|            38.0|           5|                  3929|            394.77|  0.0|[1.21693819181595...|       0.0|[0.91937433787145...|\n",
            "|          sao carlos|            SP|      ibitinga|          SP|0.004160030427651128|                   13568|0.18606676342525397|        12.82|  68.9|             93.0|             23.0|          1050.0|           118.0|           5|                 14940|            104.17|  0.0|[1.20878827043037...|       0.0|[0.91815782048353...|\n",
            "|        juiz de fora|            MG|      ibitinga|          SP|0.004160030427651128|                   36088|0.20877192982456141|        17.85|  85.5|             93.0|             23.0|          1050.0|           118.0|           5|                 14940|            557.07|  0.0|[1.19652842336834...|       0.0|[0.91629631877296...|\n",
            "|          uberlandia|            MG|      ibitinga|          SP|0.004160030427651128|                   38414| 0.2538461538461538|        17.49|  68.9|             93.0|             23.0|          1050.0|           118.0|           3|                 14940|            319.62|  0.0|[0.96110728691401...|       0.0|[0.87238518396691...|\n",
            "+--------------------+--------------+--------------+------------+--------------------+------------------------+-------------------+-------------+------+-----------------+-----------------+----------------+----------------+------------+----------------------+------------------+-----+--------------------+----------+--------------------+\n",
            "only showing top 10 rows\n",
            "\n"
          ],
          "name": "stdout"
        }
      ]
    },
    {
      "cell_type": "markdown",
      "metadata": {
        "id": "tLvtxIuAfSPS",
        "colab_type": "text"
      },
      "source": [
        "#### Evaluate our Gradient-Boosted Tree Classifier."
      ]
    },
    {
      "cell_type": "code",
      "metadata": {
        "id": "BiEiE0KvfQ6L",
        "colab_type": "code",
        "outputId": "21f5ef2c-3b25-4f56-f95d-03d877f1d68b",
        "colab": {
          "base_uri": "https://localhost:8080/",
          "height": 34
        }
      },
      "source": [
        "evaluator = BinaryClassificationEvaluator()\n",
        "print(\"Test Area Under ROC: \" + str(evaluator.evaluate(predictions, {evaluator.metricName: \"areaUnderROC\"})))"
      ],
      "execution_count": 0,
      "outputs": [
        {
          "output_type": "stream",
          "text": [
            "Test Area Under ROC: 0.770788635371\n"
          ],
          "name": "stdout"
        }
      ]
    },
    {
      "cell_type": "markdown",
      "metadata": {
        "id": "CVAEs8RJfXnj",
        "colab_type": "text"
      },
      "source": [
        "Gradient-Boosted Tree achieved the best results, we will try tuning this model with the ParamGridBuilder and the CrossValidator. Before that we can use explainParams() to print a list of all params and their definitions to understand what params available for tuning."
      ]
    },
    {
      "cell_type": "code",
      "metadata": {
        "id": "7u388NQFfZ-G",
        "colab_type": "code",
        "outputId": "842c3be0-780f-4d4a-b4fc-bfbaa4fe90ae",
        "colab": {
          "base_uri": "https://localhost:8080/",
          "height": 309
        }
      },
      "source": [
        "print(gbt.explainParams())"
      ],
      "execution_count": 0,
      "outputs": [
        {
          "output_type": "stream",
          "text": [
            "cacheNodeIds: If false, the algorithm will pass trees to executors to match instances with nodes. If true, the algorithm will cache node IDs for each instance. Caching can speed up training of deeper trees. Users can set how often should the cache be checkpointed or disable it by setting checkpointInterval. (default: False)\n",
            "checkpointInterval: set checkpoint interval (>= 1) or disable checkpoint (-1). E.g. 10 means that the cache will get checkpointed every 10 iterations. Note: this setting will be ignored if the checkpoint directory is not set in the SparkContext. (default: 10)\n",
            "featureSubsetStrategy: The number of features to consider for splits at each tree node. Supported options: 'auto' (choose automatically for task: If numTrees == 1, set to 'all'. If numTrees > 1 (forest), set to 'sqrt' for classification and to 'onethird' for regression), 'all' (use all features), 'onethird' (use 1/3 of the features), 'sqrt' (use sqrt(number of features)), 'log2' (use log2(number of features)), 'n' (when n is in the range (0, 1.0], use n * number of features. When n is in the range (1, number of features), use n features). default = 'auto' (default: all)\n",
            "featuresCol: features column name. (default: features)\n",
            "labelCol: label column name. (default: label)\n",
            "lossType: Loss function which GBT tries to minimize (case-insensitive). Supported options: logistic (default: logistic)\n",
            "maxBins: Max number of bins for discretizing continuous features.  Must be >=2 and >= number of categories for any categorical feature. (default: 32)\n",
            "maxDepth: Maximum depth of the tree. (>= 0) E.g., depth 0 means 1 leaf node; depth 1 means 1 internal node + 2 leaf nodes. (default: 5)\n",
            "maxIter: max number of iterations (>= 0). (default: 20, current: 10)\n",
            "maxMemoryInMB: Maximum memory in MB allocated to histogram aggregation. If too small, then 1 node will be split per iteration, and its aggregates may exceed this size. (default: 256)\n",
            "minInfoGain: Minimum information gain for a split to be considered at a tree node. (default: 0.0)\n",
            "minInstancesPerNode: Minimum number of instances each child must have after split. If a split causes the left or right child to have fewer than minInstancesPerNode, the split will be discarded as invalid. Should be >= 1. (default: 1)\n",
            "predictionCol: prediction column name. (default: prediction)\n",
            "seed: random seed. (default: 2857134701650851239)\n",
            "stepSize: Step size (a.k.a. learning rate) in interval (0, 1] for shrinking the contribution of each estimator. (default: 0.1)\n",
            "subsamplingRate: Fraction of the training data used for learning each decision tree, in range (0, 1]. (default: 1.0)\n"
          ],
          "name": "stdout"
        }
      ]
    },
    {
      "cell_type": "code",
      "metadata": {
        "id": "R8XHlw6UfcHq",
        "colab_type": "code",
        "outputId": "6d335f1c-5553-42d2-d1d0-410b8708f5a6",
        "colab": {
          "base_uri": "https://localhost:8080/",
          "height": 34
        }
      },
      "source": [
        "from pyspark.ml.tuning import ParamGridBuilder, CrossValidator\n",
        "paramGrid = (ParamGridBuilder()\n",
        "             .addGrid(gbt.maxDepth, [2, 4, 6])\n",
        "             .addGrid(gbt.maxBins, [20, 60])\n",
        "             .addGrid(gbt.maxIter, [10, 20])\n",
        "             .build())\n",
        "cv = CrossValidator(estimator=gbt, estimatorParamMaps=paramGrid, evaluator=evaluator, numFolds=5)\n",
        "# Run cross validations.  This can take about 6 minutes since it is training over 20 trees!\n",
        "cvModel = cv.fit(train)\n",
        "predictions = cvModel.transform(test)\n",
        "evaluator.evaluate(predictions)"
      ],
      "execution_count": 0,
      "outputs": [
        {
          "output_type": "execute_result",
          "data": {
            "text/plain": [
              "0.7753348863218933"
            ]
          },
          "metadata": {
            "tags": []
          },
          "execution_count": 77
        }
      ]
    },
    {
      "cell_type": "markdown",
      "metadata": {
        "id": "Nk36FA7QkpEy",
        "colab_type": "text"
      },
      "source": [
        "#### Confusion matrix"
      ]
    },
    {
      "cell_type": "code",
      "metadata": {
        "id": "Ck_7-xwgkoXX",
        "colab_type": "code",
        "outputId": "5b300d01-a394-4ce8-fe5a-fccbeafc042a",
        "colab": {
          "base_uri": "https://localhost:8080/",
          "height": 111
        }
      },
      "source": [
        "cm_gbt_result = predictions.crosstab(\"prediction\", \"label\")\n",
        "cm_gbt_result = cm_gbt_result.toPandas()\n",
        "cm_gbt_result"
      ],
      "execution_count": 0,
      "outputs": [
        {
          "output_type": "execute_result",
          "data": {
            "text/html": [
              "<div>\n",
              "<style scoped>\n",
              "    .dataframe tbody tr th:only-of-type {\n",
              "        vertical-align: middle;\n",
              "    }\n",
              "\n",
              "    .dataframe tbody tr th {\n",
              "        vertical-align: top;\n",
              "    }\n",
              "\n",
              "    .dataframe thead th {\n",
              "        text-align: right;\n",
              "    }\n",
              "</style>\n",
              "<table border=\"1\" class=\"dataframe\">\n",
              "  <thead>\n",
              "    <tr style=\"text-align: right;\">\n",
              "      <th></th>\n",
              "      <th>prediction_label</th>\n",
              "      <th>0.0</th>\n",
              "      <th>1.0</th>\n",
              "    </tr>\n",
              "  </thead>\n",
              "  <tbody>\n",
              "    <tr>\n",
              "      <th>0</th>\n",
              "      <td>1.0</td>\n",
              "      <td>109</td>\n",
              "      <td>142</td>\n",
              "    </tr>\n",
              "    <tr>\n",
              "      <th>1</th>\n",
              "      <td>0.0</td>\n",
              "      <td>31047</td>\n",
              "      <td>2456</td>\n",
              "    </tr>\n",
              "  </tbody>\n",
              "</table>\n",
              "</div>"
            ],
            "text/plain": [
              "  prediction_label    0.0   1.0\n",
              "0              1.0    109   142\n",
              "1              0.0  31047  2456"
            ]
          },
          "metadata": {
            "tags": []
          },
          "execution_count": 78
        }
      ]
    },
    {
      "cell_type": "markdown",
      "metadata": {
        "id": "mu0hq-fFipkI",
        "colab_type": "text"
      },
      "source": [
        "### Naive Bayes\n",
        "\n",
        "Naive Bayes classifiers are a family of simple probabilistic classifiers based on applying Bayes’ theorem with strong (naive) independence assumptions between the features. The spark.ml implementation currently supports both multinomial naive Bayes and Bernoulli naive Bayes."
      ]
    },
    {
      "cell_type": "code",
      "metadata": {
        "id": "lTBdr1O0isUl",
        "colab_type": "code",
        "colab": {}
      },
      "source": [
        "from pyspark.ml.classification import NaiveBayes\n",
        "\n",
        "# create the trainer and set its parameters\n",
        "nb = NaiveBayes(smoothing=1)\n",
        "\n",
        "# train the model\n",
        "model = nb.fit(train)"
      ],
      "execution_count": 0,
      "outputs": []
    },
    {
      "cell_type": "code",
      "metadata": {
        "id": "neF_EMdvivHO",
        "colab_type": "code",
        "outputId": "4aa976bf-585c-4fa2-d829-a39afce7dc89",
        "colab": {
          "base_uri": "https://localhost:8080/",
          "height": 309
        }
      },
      "source": [
        "predictions = model.transform(test)\n",
        "predictions.filter(predictions['prediction'] == 0) \\\n",
        "    .select('customer_city', 'customer_state', 'seller_city', 'seller_state','Weight/volume',  'customer_zip_code_prefix', 'freight/price', 'freight_value', 'price','product_height_cm',\\\n",
        "                    'product_length_cm','product_weight_g', 'product_width_cm', 'review_score', 'seller_zip_code_prefix','Distance_Sell_Cust',\"features\",\"probability\",\"label\",\"prediction\") \\\n",
        "    .orderBy(\"probability\", ascending=False) \\\n",
        "    .show(n = 10, truncate = 30)"
      ],
      "execution_count": 0,
      "outputs": [
        {
          "output_type": "stream",
          "text": [
            "+---------------------+--------------+---------------------+------------+--------------------+------------------------+-------------------+-------------+------+-----------------+-----------------+----------------+----------------+------------+----------------------+------------------+------------------------------+----------------------------+-----+----------+\n",
            "|        customer_city|customer_state|          seller_city|seller_state|       Weight/volume|customer_zip_code_prefix|      freight/price|freight_value| price|product_height_cm|product_length_cm|product_weight_g|product_width_cm|review_score|seller_zip_code_prefix|Distance_Sell_Cust|                      features|                 probability|label|prediction|\n",
            "+---------------------+--------------+---------------------+------------+--------------------+------------------------+-------------------+-------------+------+-----------------+-----------------+----------------+----------------+------------+----------------------+------------------+------------------------------+----------------------------+-----+----------+\n",
            "|       rio de janeiro|            RJ|          hortolandia|          SP| 0.20202020202020202|                   22231|0.14385424220449602|        15.87|110.32|              3.0|             22.0|           200.0|            15.0|           3|                 13186|            411.46|[0.20202020202020202,22231....|[1.0,1.1049007363203187E-16]|  0.0|       0.0|\n",
            "|             campinas|            SP| campo limpo paulista|          SP| 0.16799292661361626|                   13060|              0.282|        12.69|  45.0|             30.0|             39.0|          5700.0|            29.0|           3|                 13232|             47.35|[0.16799292661361626,13060....|[1.0,1.0292779235630679E-16]|  0.0|       0.0|\n",
            "|sao bernardo do campo|            SP|            sao paulo|          SP|  0.7102272727272727|                    9781| 0.1390909090909091|         7.65|  55.0|              2.0|             16.0|           250.0|            11.0|           4|                  5849|             23.96|[0.7102272727272727,9781.0,...| [1.0,9.712633659548503E-17]|  0.0|       0.0|\n",
            "|            sao paulo|            SP|            sao paulo|          SP| 0.17333333333333334|                    3309|             0.1744|        13.08|  75.0|             10.0|             50.0|          2600.0|            30.0|           5|                  4782|             21.32|[0.17333333333333334,3309.0...| [1.0,5.920895131305773E-17]|  0.0|       0.0|\n",
            "|            sao paulo|            SP|            sao paulo|          SP|  0.1893939393939394|                    4563| 0.3030716723549488|         8.88|  29.3|              6.0|             16.0|           200.0|            11.0|           4|                  2955|             16.24|[0.1893939393939394,4563.0,...| [1.0,5.243553575281518E-17]|  0.0|       0.0|\n",
            "|          carapicuiba|            SP|            sao paulo|          SP| 0.11029411764705882|                    6386|0.26738351254480286|         7.46|  27.9|              5.0|             16.0|           150.0|            17.0|           5|                  3910|             33.86|[0.11029411764705882,6386.0...| [1.0,5.242416182882131E-17]|  1.0|       0.0|\n",
            "|       belo horizonte|            MG|              ipaussu|          SP|0.041666666666666664|                   31140|  0.587948717948718|        22.93|  39.0|             45.0|             20.0|           750.0|            20.0|           4|                 18950|            686.09|[0.041666666666666664,31140...|[1.0,5.1945129083475824E-17]|  0.0|       0.0|\n",
            "|       rio de janeiro|            RJ|sao jose do rio preto|          SP| 0.07575757575757576|                   22430| 0.8282565130260521|        41.33|  49.9|             22.0|             30.0|          1500.0|            30.0|           5|                 15025|            680.81|[0.07575757575757576,22430....|[1.0,4.8173770391772103E-17]|  0.0|       0.0|\n",
            "|       rio de janeiro|            RJ|           sao carlos|          SP| 0.03595679012345679|                   22765| 0.7943355119825708|        18.23| 22.95|             18.0|             20.0|           233.0|            18.0|           1|                 13560|            477.47|[0.03595679012345679,22765....|[1.0,4.6803065605829213E-17]|  0.0|       0.0|\n",
            "|              niteroi|            RJ|             ibitinga|          SP|          0.21484375|                   24320| 1.3483386923901395|        37.74| 27.99|             10.0|             16.0|           550.0|            16.0|           3|                 14940|            607.84|[0.21484375,24320.0,1.34833...| [1.0,4.470040382373995E-17]|  0.0|       0.0|\n",
            "+---------------------+--------------+---------------------+------------+--------------------+------------------------+-------------------+-------------+------+-----------------+-----------------+----------------+----------------+------------+----------------------+------------------+------------------------------+----------------------------+-----+----------+\n",
            "only showing top 10 rows\n",
            "\n"
          ],
          "name": "stdout"
        }
      ]
    },
    {
      "cell_type": "code",
      "metadata": {
        "id": "l3PtN0WUi_wM",
        "colab_type": "code",
        "outputId": "a337409d-7dbd-45ee-a451-940f97f46d7e",
        "colab": {
          "base_uri": "https://localhost:8080/",
          "height": 51
        }
      },
      "source": [
        "from pyspark.ml.evaluation import BinaryClassificationEvaluator\n",
        "print(\"Training: Area Under ROC: \" + str(trainingSummary.areaUnderROC))\n",
        "\n",
        "# Evaluate model\n",
        "evaluator = BinaryClassificationEvaluator(rawPredictionCol=\"rawPrediction\")\n",
        "print(\"Test: Area Under ROC: \" + str(evaluator.evaluate(predictions, {evaluator.metricName: \"areaUnderROC\"})))"
      ],
      "execution_count": 0,
      "outputs": [
        {
          "output_type": "stream",
          "text": [
            "Training: Area Under ROC: 0.767144434832\n",
            "Test: Area Under ROC: 0.49545069308\n"
          ],
          "name": "stdout"
        }
      ]
    },
    {
      "cell_type": "code",
      "metadata": {
        "id": "4ihfF1Z5jE-q",
        "colab_type": "code",
        "colab": {}
      },
      "source": [
        "from pyspark.ml.classification import NaiveBayes\n",
        "from pyspark.ml.evaluation import BinaryClassificationEvaluator\n",
        "from pyspark.ml.tuning import CrossValidator, ParamGridBuilder\n",
        "import numpy as np\n",
        "nb = NaiveBayes()\n",
        "paramGrid_nb = ParamGridBuilder() \\\n",
        "    .addGrid(nb.smoothing, np.linspace(0.3, 0.01,10)) \\\n",
        "    .build()\n",
        "    \n",
        "crossval_nb =CrossValidator(estimator=nb,\n",
        "                           estimatorParamMaps=paramGrid_nb,\n",
        "                           evaluator=BinaryClassificationEvaluator(),\n",
        "                           numFolds = 5)\n",
        "cvModel_nb = crossval_lr.fit(train)"
      ],
      "execution_count": 0,
      "outputs": []
    },
    {
      "cell_type": "code",
      "metadata": {
        "id": "UCDKEq61jFmg",
        "colab_type": "code",
        "outputId": "4d5aedf2-5665-4335-e232-467801487043",
        "colab": {
          "base_uri": "https://localhost:8080/",
          "height": 1000
        }
      },
      "source": [
        "cvModel_nb.avgMetrics"
      ],
      "execution_count": 0,
      "outputs": [
        {
          "output_type": "execute_result",
          "data": {
            "text/plain": [
              "[0.5,\n",
              " 0.5,\n",
              " 0.5,\n",
              " 0.5,\n",
              " 0.5,\n",
              " 0.5,\n",
              " 0.7565773961461737,\n",
              " 0.5,\n",
              " 0.5,\n",
              " 0.5,\n",
              " 0.5,\n",
              " 0.5,\n",
              " 0.7565773961461737,\n",
              " 0.5,\n",
              " 0.5,\n",
              " 0.5,\n",
              " 0.5,\n",
              " 0.5,\n",
              " 0.7565773961461737,\n",
              " 0.7565773961461737,\n",
              " 0.5,\n",
              " 0.5,\n",
              " 0.5,\n",
              " 0.5,\n",
              " 0.7565773961461737,\n",
              " 0.7565773961461737,\n",
              " 0.5,\n",
              " 0.5,\n",
              " 0.5,\n",
              " 0.5,\n",
              " 0.7565773961461737,\n",
              " 0.7565773961461737,\n",
              " 0.7565773961461737,\n",
              " 0.5,\n",
              " 0.5,\n",
              " 0.5,\n",
              " 0.7565773961461737,\n",
              " 0.7565773961461737,\n",
              " 0.7565773961461737,\n",
              " 0.7565773961461737,\n",
              " 0.7565773961461737,\n",
              " 0.5,\n",
              " 0.7639971922043844,\n",
              " 0.7565773961461737,\n",
              " 0.7565773961461737,\n",
              " 0.7565773961461737,\n",
              " 0.7565773961461737,\n",
              " 0.7565773961461737,\n",
              " 0.762351333548529,\n",
              " 0.7624167018508488,\n",
              " 0.7629629982700051,\n",
              " 0.7631163781132274,\n",
              " 0.7577245129210816,\n",
              " 0.7565773961461737,\n",
              " 0.754073334356233,\n",
              " 0.7553861513284343,\n",
              " 0.7603433640475871,\n",
              " 0.7622673765691205,\n",
              " 0.761303992213591,\n",
              " 0.7634120115743712]"
            ]
          },
          "metadata": {
            "tags": []
          },
          "execution_count": 197
        }
      ]
    },
    {
      "cell_type": "code",
      "metadata": {
        "id": "yQYdTxZSjHc2",
        "colab_type": "code",
        "outputId": "3dced6d5-9712-472b-fe6a-0579f383307d",
        "colab": {
          "base_uri": "https://localhost:8080/",
          "height": 204
        }
      },
      "source": [
        "# Make predictions:\n",
        "predictions_nb = cvModel_nb.transform(test)\n",
        "predictions_nb.select('label','prediction').show(5)"
      ],
      "execution_count": 0,
      "outputs": [
        {
          "output_type": "stream",
          "text": [
            "+-----+----------+\n",
            "|label|prediction|\n",
            "+-----+----------+\n",
            "|  0.0|       0.0|\n",
            "|  0.0|       0.0|\n",
            "|  0.0|       0.0|\n",
            "|  0.0|       0.0|\n",
            "|  0.0|       0.0|\n",
            "+-----+----------+\n",
            "only showing top 5 rows\n",
            "\n"
          ],
          "name": "stdout"
        }
      ]
    },
    {
      "cell_type": "code",
      "metadata": {
        "id": "YYs8JwcGjJ6C",
        "colab_type": "code",
        "outputId": "dac1b2bc-74a3-4175-c671-55b145939c5b",
        "colab": {
          "base_uri": "https://localhost:8080/",
          "height": 34
        }
      },
      "source": [
        "my_eval_nb = BinaryClassificationEvaluator(rawPredictionCol='prediction', labelCol='label', metricName='areaUnderROC')\n",
        "my_eval_nb.evaluate(predictions_nb)"
      ],
      "execution_count": 0,
      "outputs": [
        {
          "output_type": "execute_result",
          "data": {
            "text/plain": [
              "0.5"
            ]
          },
          "metadata": {
            "tags": []
          },
          "execution_count": 199
        }
      ]
    },
    {
      "cell_type": "code",
      "metadata": {
        "id": "qi8OqfmZjOeX",
        "colab_type": "code",
        "outputId": "d17feed9-c6af-45eb-ec43-54bf081044fa",
        "colab": {
          "base_uri": "https://localhost:8080/",
          "height": 34
        }
      },
      "source": [
        "my_mc_nb = MulticlassClassificationEvaluator(predictionCol='prediction', labelCol='label', metricName='accuracy')\n",
        "my_mc_nb.evaluate(predictions_nb)"
      ],
      "execution_count": 0,
      "outputs": [
        {
          "output_type": "execute_result",
          "data": {
            "text/plain": [
              "0.9228478773584906"
            ]
          },
          "metadata": {
            "tags": []
          },
          "execution_count": 200
        }
      ]
    },
    {
      "cell_type": "code",
      "metadata": {
        "id": "v3ZmIHgkjLxv",
        "colab_type": "code",
        "outputId": "35568542-fbc2-4c9b-ab0a-147faadaccb9",
        "colab": {
          "base_uri": "https://localhost:8080/",
          "height": 34
        }
      },
      "source": [
        "my_mc_nb = MulticlassClassificationEvaluator(predictionCol='prediction', labelCol='label', metricName='f1')\n",
        "my_mc_nb.evaluate(predictions_nb)"
      ],
      "execution_count": 0,
      "outputs": [
        {
          "output_type": "execute_result",
          "data": {
            "text/plain": [
              "0.885819637396404"
            ]
          },
          "metadata": {
            "tags": []
          },
          "execution_count": 201
        }
      ]
    },
    {
      "cell_type": "markdown",
      "metadata": {
        "id": "DJXH_rN3jt9H",
        "colab_type": "text"
      },
      "source": [
        "### Linear Support Vector Machine\n",
        "A support vector machine constructs a hyperplane or set of hyperplanes in a high- or infinite-dimensional space, which can be used for classification, regression, or other tasks. Intuitively, a good separation is achieved by the hyperplane that has the largest distance to the nearest training-data points of any class (so-called functional margin), since in general the larger the margin the lower the generalization error of the classifier. LinearSVC in Spark ML supports binary classification with linear SVM. Internally, it optimizes the Hinge Loss using OWLQN optimizer."
      ]
    },
    {
      "cell_type": "code",
      "metadata": {
        "id": "1LODWy7hjvpj",
        "colab_type": "code",
        "outputId": "c99b9eb8-d08b-4015-c7b3-d8c6b1e7bda2",
        "colab": {
          "base_uri": "https://localhost:8080/",
          "height": 71
        }
      },
      "source": [
        "from pyspark.ml.classification import LinearSVC\n",
        "\n",
        "lsvc = LinearSVC(maxIter=10, regParam=0.1)\n",
        "\n",
        "# Fit the model\n",
        "lsvcModel = lsvc.fit(train)\n",
        "\n",
        "# Print the coefficients and intercept for linear SVC\n",
        "print(\"Coefficients: \" + str(lsvcModel.coefficients))\n",
        "print(\"Intercept: \" + str(lsvcModel.intercept))"
      ],
      "execution_count": 0,
      "outputs": [
        {
          "output_type": "stream",
          "text": [
            "Coefficients: [-0.07276232451499678,-4.861705188003688e-07,-0.2930068828074253,-5.977187265123054e-06,-1.4874717408231739e-05,-0.003235510584297877,-0.004327966246084948,2.492488078688008e-05,-0.007909261866316573,-0.08113659589201568,-2.0762215003510064e-06,4.836932832289592e-05]\n",
            "Intercept: -0.439790319272\n"
          ],
          "name": "stdout"
        }
      ]
    },
    {
      "cell_type": "code",
      "metadata": {
        "id": "j1cG6e2VjxjP",
        "colab_type": "code",
        "outputId": "79da48e8-1995-474e-ad3d-7a4c5aefb524",
        "colab": {
          "base_uri": "https://localhost:8080/",
          "height": 34
        }
      },
      "source": [
        "from pyspark.ml.evaluation import BinaryClassificationEvaluator\n",
        "evaluator = BinaryClassificationEvaluator()\n",
        "predictions = lsvcModel.transform(test)\n",
        "print('Test Area Under ROC', evaluator.evaluate(predictions))"
      ],
      "execution_count": 0,
      "outputs": [
        {
          "output_type": "stream",
          "text": [
            "('Test Area Under ROC', 0.7071847308600059)\n"
          ],
          "name": "stdout"
        }
      ]
    },
    {
      "cell_type": "markdown",
      "metadata": {
        "id": "Q1wZspYZlCSb",
        "colab_type": "text"
      },
      "source": [
        "#### Confusion matrix"
      ]
    },
    {
      "cell_type": "code",
      "metadata": {
        "id": "aEFjdcSElBiE",
        "colab_type": "code",
        "outputId": "2e73c783-4dfe-4dc5-994c-e9298d696b85",
        "colab": {
          "base_uri": "https://localhost:8080/",
          "height": 80
        }
      },
      "source": [
        "cm_svm_result = predictions.crosstab(\"prediction\", \"label\")\n",
        "cm_svm_result = cm_svm_result.toPandas()\n",
        "cm_svm_result"
      ],
      "execution_count": 0,
      "outputs": [
        {
          "output_type": "execute_result",
          "data": {
            "text/html": [
              "<div>\n",
              "<style scoped>\n",
              "    .dataframe tbody tr th:only-of-type {\n",
              "        vertical-align: middle;\n",
              "    }\n",
              "\n",
              "    .dataframe tbody tr th {\n",
              "        vertical-align: top;\n",
              "    }\n",
              "\n",
              "    .dataframe thead th {\n",
              "        text-align: right;\n",
              "    }\n",
              "</style>\n",
              "<table border=\"1\" class=\"dataframe\">\n",
              "  <thead>\n",
              "    <tr style=\"text-align: right;\">\n",
              "      <th></th>\n",
              "      <th>prediction_label</th>\n",
              "      <th>0.0</th>\n",
              "      <th>1.0</th>\n",
              "    </tr>\n",
              "  </thead>\n",
              "  <tbody>\n",
              "    <tr>\n",
              "      <th>0</th>\n",
              "      <td>0.0</td>\n",
              "      <td>31303</td>\n",
              "      <td>2617</td>\n",
              "    </tr>\n",
              "  </tbody>\n",
              "</table>\n",
              "</div>"
            ],
            "text/plain": [
              "  prediction_label    0.0   1.0\n",
              "0              0.0  31303  2617"
            ]
          },
          "metadata": {
            "tags": []
          },
          "execution_count": 103
        }
      ]
    },
    {
      "cell_type": "markdown",
      "metadata": {
        "id": "YZQxMjxNj0YV",
        "colab_type": "text"
      },
      "source": [
        "### Multilayer perceptron classifier\n",
        "Multilayer perceptron classifier (MLPC) is a classifier based on the feedforward artificial neural network. MLPC consists of multiple layers of nodes. Each layer is fully connected to the next layer in the network. Nodes in the input layer represent the input data. All other nodes map inputs to outputs by a linear combination of the inputs with the node’s weights w and bias b and applying an activation function. This can be written in matrix form for MLPC with K+1 layers as follows: y(x)=fK(...f2(wT2f1(wT1x+b1)+b2)...+bK) Nodes in intermediate layers use sigmoid (logistic) function: f(zi)=11+e−zi Nodes in the output layer use softmax function: f(zi)=ezi∑Nk=1ezk The number of nodes N in the output layer corresponds to the number of classes.\n",
        "MLPC employs backpropagation for learning the model. We use the logistic loss function for optimization and L-BFGS as an optimization routine."
      ]
    },
    {
      "cell_type": "code",
      "metadata": {
        "id": "V4BhMDpWj5Uc",
        "colab_type": "code",
        "outputId": "e42e5fbd-18a8-4e7d-c61d-cd744955082b",
        "colab": {
          "base_uri": "https://localhost:8080/",
          "height": 34
        }
      },
      "source": [
        "from pyspark.ml.classification import MultilayerPerceptronClassifier\n",
        "from pyspark.ml.evaluation import MulticlassClassificationEvaluator\n",
        "\n",
        "# Split the data into train and test\n",
        "splits = final_order3.randomSplit([0.7, 0.3], 1234)\n",
        "train = splits[0]\n",
        "test = splits[1]\n",
        "\n",
        "# specify layers for the neural network:\n",
        "# input layer of size 12 (features), two intermediate of size 3 and 2\n",
        "# and output of size 2 (classes)\n",
        "layers = [12, 3, 2, 2]\n",
        "\n",
        "# create the trainer and set its parameters\n",
        "trainer = MultilayerPerceptronClassifier(maxIter=100, layers=layers, blockSize=128, seed=1234)\n",
        "\n",
        "# train the model\n",
        "model = trainer.fit(train)\n",
        "\n",
        "# compute accuracy on the test set\n",
        "result = model.transform(test)\n",
        "predictionAndLabels = result.select(\"prediction\", \"label\")\n",
        "evaluator = MulticlassClassificationEvaluator(metricName=\"accuracy\")\n",
        "print(\"Test set accuracy = \" + str(evaluator.evaluate(predictionAndLabels)))"
      ],
      "execution_count": 0,
      "outputs": [
        {
          "output_type": "stream",
          "text": [
            "Test set accuracy = 0.922847877358\n"
          ],
          "name": "stdout"
        }
      ]
    },
    {
      "cell_type": "markdown",
      "metadata": {
        "id": "QC4n6a50fgWk",
        "colab_type": "text"
      },
      "source": [
        "To sum it up, we have learned how to build a binary classification application using PySpark and MLlib Pipelines API. We tried four algorithms and neural network performed best on our data set."
      ]
    }
  ]
}